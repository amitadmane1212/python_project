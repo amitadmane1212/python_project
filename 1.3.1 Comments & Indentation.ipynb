{
 "cells": [
  {
   "cell_type": "markdown",
   "id": "157b06cc",
   "metadata": {},
   "source": [
    "## comments in python"
   ]
  },
  {
   "cell_type": "raw",
   "id": "79c6c858",
   "metadata": {},
   "source": [
    "Define:\n",
    "    Comments are used to explain the code\n",
    "    Comments do not yield any output.\n",
    "    not use a line as code.\n",
    "    \n",
    "    using # we can comment a line\n",
    "    shortcut - Ctrl + /"
   ]
  },
  {
   "cell_type": "code",
   "execution_count": 1,
   "id": "fb8d37c9",
   "metadata": {},
   "outputs": [
    {
     "name": "stdout",
     "output_type": "stream",
     "text": [
      "Hello\n"
     ]
    }
   ],
   "source": [
    "# We are writing a code of variable below:\n",
    "\n",
    "\n",
    "## defining a variable-------------------------------\n",
    "\n",
    "variable = 'Hello'\n",
    "\n",
    "#@--------------------------------------------------@#\n",
    "\n",
    "## printing the variable here:-----------------------\n",
    "\n",
    "print(variable)\n"
   ]
  },
  {
   "cell_type": "code",
   "execution_count": 2,
   "id": "9fc268a7",
   "metadata": {},
   "outputs": [
    {
     "name": "stdout",
     "output_type": "stream",
     "text": [
      "hello\n"
     ]
    }
   ],
   "source": [
    "print('hello')  # printing hello word"
   ]
  },
  {
   "cell_type": "markdown",
   "id": "07b9f346",
   "metadata": {},
   "source": [
    "## Indentation Error"
   ]
  },
  {
   "cell_type": "code",
   "execution_count": 3,
   "id": "7cc5b5b7",
   "metadata": {},
   "outputs": [],
   "source": [
    "a = 10\n",
    "b = 20"
   ]
  },
  {
   "cell_type": "code",
   "execution_count": 4,
   "id": "2969b4b1",
   "metadata": {},
   "outputs": [
    {
     "ename": "IndentationError",
     "evalue": "unexpected indent (1645786942.py, line 2)",
     "output_type": "error",
     "traceback": [
      "\u001b[1;36m  Input \u001b[1;32mIn [4]\u001b[1;36m\u001b[0m\n\u001b[1;33m    b = 20\u001b[0m\n\u001b[1;37m    ^\u001b[0m\n\u001b[1;31mIndentationError\u001b[0m\u001b[1;31m:\u001b[0m unexpected indent\n"
     ]
    }
   ],
   "source": [
    "a = 10\n",
    "  b = 20"
   ]
  },
  {
   "cell_type": "code",
   "execution_count": 11,
   "id": "b60761d4",
   "metadata": {},
   "outputs": [
    {
     "ename": "IndentationError",
     "evalue": "expected an indented block (3333892241.py, line 2)",
     "output_type": "error",
     "traceback": [
      "\u001b[1;36m  Input \u001b[1;32mIn [11]\u001b[1;36m\u001b[0m\n\u001b[1;33m    print('a is 10')\u001b[0m\n\u001b[1;37m    ^\u001b[0m\n\u001b[1;31mIndentationError\u001b[0m\u001b[1;31m:\u001b[0m expected an indented block\n"
     ]
    }
   ],
   "source": [
    "if a == 10:\n",
    "print('a is 10')"
   ]
  },
  {
   "cell_type": "code",
   "execution_count": 12,
   "id": "53999da3",
   "metadata": {},
   "outputs": [
    {
     "name": "stdout",
     "output_type": "stream",
     "text": [
      "a is 10\n"
     ]
    }
   ],
   "source": [
    "if a == 10:\n",
    "    print('a is 10')"
   ]
  },
  {
   "cell_type": "code",
   "execution_count": null,
   "id": "b2b1b46b",
   "metadata": {},
   "outputs": [],
   "source": []
  }
 ],
 "metadata": {
  "kernelspec": {
   "display_name": "Python 3 (ipykernel)",
   "language": "python",
   "name": "python3"
  },
  "language_info": {
   "codemirror_mode": {
    "name": "ipython",
    "version": 3
   },
   "file_extension": ".py",
   "mimetype": "text/x-python",
   "name": "python",
   "nbconvert_exporter": "python",
   "pygments_lexer": "ipython3",
   "version": "3.9.12"
  }
 },
 "nbformat": 4,
 "nbformat_minor": 5
}
