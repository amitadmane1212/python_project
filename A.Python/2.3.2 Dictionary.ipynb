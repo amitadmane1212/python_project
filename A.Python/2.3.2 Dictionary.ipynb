{
 "cells": [
  {
   "cell_type": "raw",
   "id": "0d3f5d5d",
   "metadata": {},
   "source": [
    "string : immutable, ordered, duplicate allowed   : \" \"\n",
    "list   : mutable, ordered, duplicates allowed    : []\n",
    "tuple  : immutable, ordered, duplicates allowed  : ()\n",
    "set    : mutable, unordered, duplicates not allowed: set(), {1,}\n",
    "frozen set: immutable, unordered, duplicates not allowed  frozenset()\n",
    "\n",
    "dict   : mutable, \n",
    "        ordered  >= Python 3.6 version\n",
    "        unordered < Python 3.6 version\n",
    "        keys can not be duplicate    >> Allows Immutable data types (int, float,complex,string, tuple)\n",
    "        Values can be duplicate      >> Allows all data types         \n",
    "                                                  : {} , {key1:value,key2:value}"
   ]
  },
  {
   "cell_type": "raw",
   "id": "d051ca48",
   "metadata": {},
   "source": [
    "dict consist of key value pair & every key value pair is comma separated.\n",
    "keys are case sensitive\n",
    "keys & values are separated by colon (:)"
   ]
  },
  {
   "cell_type": "code",
   "execution_count": 1,
   "id": "14ee9c33",
   "metadata": {},
   "outputs": [
    {
     "data": {
      "text/plain": [
       "dict"
      ]
     },
     "execution_count": 1,
     "metadata": {},
     "output_type": "execute_result"
    }
   ],
   "source": [
    "dict1 = {}\n",
    "type(dict1)"
   ]
  },
  {
   "cell_type": "code",
   "execution_count": 2,
   "id": "ac543a2d",
   "metadata": {},
   "outputs": [
    {
     "name": "stdout",
     "output_type": "stream",
     "text": [
      "{'Name': 'Sachin'} 1 <class 'dict'>\n"
     ]
    }
   ],
   "source": [
    "d1 = {'Name':'Sachin'}\n",
    "print(d1,len(d1),type(d1))"
   ]
  },
  {
   "cell_type": "code",
   "execution_count": 7,
   "id": "f0ec0d33",
   "metadata": {},
   "outputs": [
    {
     "data": {
      "text/plain": [
       "{'Name': 'Sachin',\n",
       " 'Age': 45,\n",
       " 'Jersey num': 10,\n",
       " 'Highest score': 200,\n",
       " 100: [48, 52],\n",
       " 50: [100, 98]}"
      ]
     },
     "execution_count": 7,
     "metadata": {},
     "output_type": "execute_result"
    }
   ],
   "source": [
    "players_data = {'Name':'Sachin','Age':45,'Jersey num':10,'Highest score':200,100:[48,52],50:[100,98]}\n",
    "\n",
    "players_data"
   ]
  },
  {
   "cell_type": "code",
   "execution_count": 4,
   "id": "a901f0c6",
   "metadata": {},
   "outputs": [
    {
     "data": {
      "text/plain": [
       "6"
      ]
     },
     "execution_count": 4,
     "metadata": {},
     "output_type": "execute_result"
    }
   ],
   "source": [
    "len(players_data)"
   ]
  },
  {
   "cell_type": "code",
   "execution_count": 9,
   "id": "d7366ac7",
   "metadata": {},
   "outputs": [
    {
     "data": {
      "text/html": [
       "<div>\n",
       "<style scoped>\n",
       "    .dataframe tbody tr th:only-of-type {\n",
       "        vertical-align: middle;\n",
       "    }\n",
       "\n",
       "    .dataframe tbody tr th {\n",
       "        vertical-align: top;\n",
       "    }\n",
       "\n",
       "    .dataframe thead th {\n",
       "        text-align: right;\n",
       "    }\n",
       "</style>\n",
       "<table border=\"1\" class=\"dataframe\">\n",
       "  <thead>\n",
       "    <tr style=\"text-align: right;\">\n",
       "      <th></th>\n",
       "      <th>Name</th>\n",
       "      <th>Age</th>\n",
       "      <th>Jersey num</th>\n",
       "      <th>Highest score</th>\n",
       "      <th>100</th>\n",
       "      <th>50</th>\n",
       "    </tr>\n",
       "  </thead>\n",
       "  <tbody>\n",
       "    <tr>\n",
       "      <th>0</th>\n",
       "      <td>Sachin</td>\n",
       "      <td>45</td>\n",
       "      <td>10</td>\n",
       "      <td>200</td>\n",
       "      <td>48</td>\n",
       "      <td>100</td>\n",
       "    </tr>\n",
       "    <tr>\n",
       "      <th>1</th>\n",
       "      <td>Sachin</td>\n",
       "      <td>45</td>\n",
       "      <td>10</td>\n",
       "      <td>200</td>\n",
       "      <td>52</td>\n",
       "      <td>98</td>\n",
       "    </tr>\n",
       "  </tbody>\n",
       "</table>\n",
       "</div>"
      ],
      "text/plain": [
       "     Name  Age  Jersey num  Highest score  100   50\n",
       "0  Sachin   45          10            200   48  100\n",
       "1  Sachin   45          10            200   52   98"
      ]
     },
     "execution_count": 9,
     "metadata": {},
     "output_type": "execute_result"
    }
   ],
   "source": [
    "import pandas as pd\n",
    "\n",
    "df = pd.DataFrame(players_data)\n",
    "df"
   ]
  },
  {
   "cell_type": "code",
   "execution_count": 15,
   "id": "cc24f08e",
   "metadata": {},
   "outputs": [
    {
     "data": {
      "text/html": [
       "<div>\n",
       "<style scoped>\n",
       "    .dataframe tbody tr th:only-of-type {\n",
       "        vertical-align: middle;\n",
       "    }\n",
       "\n",
       "    .dataframe tbody tr th {\n",
       "        vertical-align: top;\n",
       "    }\n",
       "\n",
       "    .dataframe thead th {\n",
       "        text-align: right;\n",
       "    }\n",
       "</style>\n",
       "<table border=\"1\" class=\"dataframe\">\n",
       "  <thead>\n",
       "    <tr style=\"text-align: right;\">\n",
       "      <th></th>\n",
       "      <th>Name</th>\n",
       "      <th>Age</th>\n",
       "      <th>Jersey num</th>\n",
       "      <th>Highest score</th>\n",
       "      <th>100</th>\n",
       "      <th>50</th>\n",
       "    </tr>\n",
       "  </thead>\n",
       "  <tbody>\n",
       "    <tr>\n",
       "      <th>0</th>\n",
       "      <td>Sachin</td>\n",
       "      <td>45</td>\n",
       "      <td>10</td>\n",
       "      <td>200</td>\n",
       "      <td>[48, 52]</td>\n",
       "      <td>[100, 98]</td>\n",
       "    </tr>\n",
       "  </tbody>\n",
       "</table>\n",
       "</div>"
      ],
      "text/plain": [
       "     Name Age Jersey num Highest score       100         50\n",
       "0  Sachin  45         10           200  [48, 52]  [100, 98]"
      ]
     },
     "metadata": {},
     "output_type": "display_data"
    }
   ],
   "source": [
    "import pandas as pd\n",
    "\n",
    "df = pd.DataFrame.from_dict(players_data,orient = 'index')\n",
    "df = df.T\n",
    "display(df)\n"
   ]
  },
  {
   "cell_type": "code",
   "execution_count": null,
   "id": "5f27d484",
   "metadata": {},
   "outputs": [],
   "source": [
    "df.to_excel('player.xlsx')"
   ]
  },
  {
   "cell_type": "code",
   "execution_count": 17,
   "id": "28c93127",
   "metadata": {},
   "outputs": [
    {
     "data": {
      "text/plain": [
       "{1: {'Name': 'Sachin', 'Age': 45, 'Score': 200},\n",
       " 2: {'Name': 'Sehvag', 'Age': 44, 'Score': 219}}"
      ]
     },
     "execution_count": 17,
     "metadata": {},
     "output_type": "execute_result"
    }
   ],
   "source": [
    "players= {1:{'Name':'Sachin','Age':45,'Score':200},\n",
    "         2:{'Name':'Sehvag','Age':44,'Score':219}}\n",
    "\n",
    "players"
   ]
  },
  {
   "cell_type": "code",
   "execution_count": 21,
   "id": "d58c8001",
   "metadata": {},
   "outputs": [
    {
     "data": {
      "text/html": [
       "<div>\n",
       "<style scoped>\n",
       "    .dataframe tbody tr th:only-of-type {\n",
       "        vertical-align: middle;\n",
       "    }\n",
       "\n",
       "    .dataframe tbody tr th {\n",
       "        vertical-align: top;\n",
       "    }\n",
       "\n",
       "    .dataframe thead th {\n",
       "        text-align: right;\n",
       "    }\n",
       "</style>\n",
       "<table border=\"1\" class=\"dataframe\">\n",
       "  <thead>\n",
       "    <tr style=\"text-align: right;\">\n",
       "      <th></th>\n",
       "      <th>Name</th>\n",
       "      <th>Age</th>\n",
       "      <th>Score</th>\n",
       "    </tr>\n",
       "  </thead>\n",
       "  <tbody>\n",
       "    <tr>\n",
       "      <th>1</th>\n",
       "      <td>Sachin</td>\n",
       "      <td>45</td>\n",
       "      <td>200</td>\n",
       "    </tr>\n",
       "    <tr>\n",
       "      <th>2</th>\n",
       "      <td>Sehvag</td>\n",
       "      <td>44</td>\n",
       "      <td>219</td>\n",
       "    </tr>\n",
       "  </tbody>\n",
       "</table>\n",
       "</div>"
      ],
      "text/plain": [
       "     Name Age Score\n",
       "1  Sachin  45   200\n",
       "2  Sehvag  44   219"
      ]
     },
     "execution_count": 21,
     "metadata": {},
     "output_type": "execute_result"
    }
   ],
   "source": [
    "df = pd.DataFrame(players)\n",
    "df = df.T\n",
    "df"
   ]
  },
  {
   "cell_type": "code",
   "execution_count": 22,
   "id": "f29b0900",
   "metadata": {},
   "outputs": [],
   "source": [
    "df.to_csv('2_players.csv')"
   ]
  },
  {
   "cell_type": "markdown",
   "id": "e98d87dd",
   "metadata": {},
   "source": [
    "# Accessing items in dict"
   ]
  },
  {
   "cell_type": "code",
   "execution_count": 23,
   "id": "9766cf5e",
   "metadata": {},
   "outputs": [
    {
     "data": {
      "text/plain": [
       "{'Emp_name': 'Kunal',\n",
       " 'Salary': 80000,\n",
       " 'Designation': 'Data Scientist',\n",
       " 'Age': 30,\n",
       " 'Emp_ID': 10011}"
      ]
     },
     "execution_count": 23,
     "metadata": {},
     "output_type": "execute_result"
    }
   ],
   "source": [
    "employees = {'Emp_name':'Kunal','Salary':80000,'Designation':'Data Scientist','Age':30,'Emp_ID':10011}\n",
    "\n",
    "employees"
   ]
  },
  {
   "cell_type": "code",
   "execution_count": 24,
   "id": "716ae4bb",
   "metadata": {},
   "outputs": [
    {
     "data": {
      "text/plain": [
       "'Kunal'"
      ]
     },
     "execution_count": 24,
     "metadata": {},
     "output_type": "execute_result"
    }
   ],
   "source": [
    "employees['Emp_name']    # keys should be passed inside brackets to access the values belonging to that perticular key"
   ]
  },
  {
   "cell_type": "code",
   "execution_count": 26,
   "id": "6264eb00",
   "metadata": {},
   "outputs": [
    {
     "data": {
      "text/plain": [
       "80000"
      ]
     },
     "execution_count": 26,
     "metadata": {},
     "output_type": "execute_result"
    }
   ],
   "source": [
    "employees['Salary']"
   ]
  },
  {
   "cell_type": "code",
   "execution_count": 28,
   "id": "a2fcb03a",
   "metadata": {},
   "outputs": [
    {
     "ename": "KeyError",
     "evalue": "'salary'",
     "output_type": "error",
     "traceback": [
      "\u001b[1;31m---------------------------------------------------------------------------\u001b[0m",
      "\u001b[1;31mKeyError\u001b[0m                                  Traceback (most recent call last)",
      "\u001b[1;32m<ipython-input-28-789599f194f0>\u001b[0m in \u001b[0;36m<module>\u001b[1;34m\u001b[0m\n\u001b[1;32m----> 1\u001b[1;33m \u001b[0memployees\u001b[0m\u001b[1;33m[\u001b[0m\u001b[1;34m'salary'\u001b[0m\u001b[1;33m]\u001b[0m      \u001b[1;31m# keys are case sensitive\u001b[0m\u001b[1;33m\u001b[0m\u001b[1;33m\u001b[0m\u001b[0m\n\u001b[0m",
      "\u001b[1;31mKeyError\u001b[0m: 'salary'"
     ]
    }
   ],
   "source": [
    "employees['salary']      # keys are case sensitive"
   ]
  },
  {
   "cell_type": "code",
   "execution_count": 32,
   "id": "0d6d3111",
   "metadata": {},
   "outputs": [
    {
     "ename": "KeyError",
     "evalue": "'experience'",
     "output_type": "error",
     "traceback": [
      "\u001b[1;31m---------------------------------------------------------------------------\u001b[0m",
      "\u001b[1;31mKeyError\u001b[0m                                  Traceback (most recent call last)",
      "\u001b[1;32m<ipython-input-32-c841b3d70566>\u001b[0m in \u001b[0;36m<module>\u001b[1;34m\u001b[0m\n\u001b[1;32m----> 1\u001b[1;33m \u001b[0memployees\u001b[0m\u001b[1;33m[\u001b[0m\u001b[1;34m'experience'\u001b[0m\u001b[1;33m]\u001b[0m\u001b[1;33m\u001b[0m\u001b[1;33m\u001b[0m\u001b[0m\n\u001b[0m",
      "\u001b[1;31mKeyError\u001b[0m: 'experience'"
     ]
    }
   ],
   "source": [
    "employees['experience']  # thows an error if such key is not present in dict"
   ]
  },
  {
   "cell_type": "markdown",
   "id": "5e5975c0",
   "metadata": {},
   "source": [
    "## get function"
   ]
  },
  {
   "cell_type": "code",
   "execution_count": 29,
   "id": "dd308d54",
   "metadata": {},
   "outputs": [
    {
     "data": {
      "text/plain": [
       "80000"
      ]
     },
     "execution_count": 29,
     "metadata": {},
     "output_type": "execute_result"
    }
   ],
   "source": [
    "employees.get('Salary')"
   ]
  },
  {
   "cell_type": "code",
   "execution_count": 30,
   "id": "cbff73c5",
   "metadata": {},
   "outputs": [
    {
     "data": {
      "text/plain": [
       "10011"
      ]
     },
     "execution_count": 30,
     "metadata": {},
     "output_type": "execute_result"
    }
   ],
   "source": [
    "employees.get('Emp_ID')"
   ]
  },
  {
   "cell_type": "code",
   "execution_count": 31,
   "id": "d070039f",
   "metadata": {},
   "outputs": [],
   "source": [
    "employees.get('Experience')      # if the key is not found then it returns nothing!"
   ]
  },
  {
   "cell_type": "markdown",
   "id": "6a7b3938",
   "metadata": {},
   "source": [
    "## for loop for accessing keys"
   ]
  },
  {
   "cell_type": "code",
   "execution_count": 33,
   "id": "3fe4d3c7",
   "metadata": {},
   "outputs": [
    {
     "name": "stdout",
     "output_type": "stream",
     "text": [
      "Emp_name\n",
      "Salary\n",
      "Designation\n",
      "Age\n",
      "Emp_ID\n"
     ]
    }
   ],
   "source": [
    "for key in employees:\n",
    "    print(key)"
   ]
  },
  {
   "cell_type": "code",
   "execution_count": 34,
   "id": "1648179d",
   "metadata": {},
   "outputs": [
    {
     "name": "stdout",
     "output_type": "stream",
     "text": [
      "Emp_name ----- Kunal\n",
      "Salary ----- 80000\n",
      "Designation ----- Data Scientist\n",
      "Age ----- 30\n",
      "Emp_ID ----- 10011\n"
     ]
    }
   ],
   "source": [
    "for key in employees:\n",
    "    print(key,'-----',employees[key])"
   ]
  },
  {
   "cell_type": "code",
   "execution_count": 35,
   "id": "6ef3741d",
   "metadata": {},
   "outputs": [
    {
     "name": "stdout",
     "output_type": "stream",
     "text": [
      "Emp_name\n",
      "Salary\n",
      "Designation\n",
      "Age\n",
      "Emp_ID\n"
     ]
    }
   ],
   "source": [
    "for i in employees:\n",
    "    print(i)"
   ]
  },
  {
   "cell_type": "markdown",
   "id": "83035707",
   "metadata": {},
   "source": [
    "# Dict function to access keys"
   ]
  },
  {
   "cell_type": "markdown",
   "id": "787e1e87",
   "metadata": {},
   "source": [
    "### .keys()"
   ]
  },
  {
   "cell_type": "code",
   "execution_count": 36,
   "id": "60b65b1f",
   "metadata": {},
   "outputs": [
    {
     "data": {
      "text/plain": [
       "dict_keys(['Emp_name', 'Salary', 'Designation', 'Age', 'Emp_ID'])"
      ]
     },
     "execution_count": 36,
     "metadata": {},
     "output_type": "execute_result"
    }
   ],
   "source": [
    "employees.keys()"
   ]
  },
  {
   "cell_type": "code",
   "execution_count": 37,
   "id": "818fbcc0",
   "metadata": {},
   "outputs": [
    {
     "name": "stdout",
     "output_type": "stream",
     "text": [
      "Emp_name\n",
      "Salary\n",
      "Designation\n",
      "Age\n",
      "Emp_ID\n"
     ]
    }
   ],
   "source": [
    "for key in employees.keys():\n",
    "    print(key)"
   ]
  },
  {
   "cell_type": "markdown",
   "id": "46344bb8",
   "metadata": {},
   "source": [
    "# Dict function to access values "
   ]
  },
  {
   "cell_type": "markdown",
   "id": "1b8bd115",
   "metadata": {},
   "source": [
    "## .values()"
   ]
  },
  {
   "cell_type": "code",
   "execution_count": 38,
   "id": "d055f4b8",
   "metadata": {},
   "outputs": [
    {
     "data": {
      "text/plain": [
       "dict_values(['Kunal', 80000, 'Data Scientist', 30, 10011])"
      ]
     },
     "execution_count": 38,
     "metadata": {},
     "output_type": "execute_result"
    }
   ],
   "source": [
    "employees.values()"
   ]
  },
  {
   "cell_type": "code",
   "execution_count": 39,
   "id": "d80a56ae",
   "metadata": {},
   "outputs": [
    {
     "name": "stdout",
     "output_type": "stream",
     "text": [
      "Kunal\n",
      "80000\n",
      "Data Scientist\n",
      "30\n",
      "10011\n"
     ]
    }
   ],
   "source": [
    "for value in employees.values():\n",
    "    print(value)"
   ]
  },
  {
   "cell_type": "markdown",
   "id": "29bff463",
   "metadata": {},
   "source": [
    "# Dict function to access items "
   ]
  },
  {
   "cell_type": "markdown",
   "id": "39ed2838",
   "metadata": {},
   "source": [
    "## .items()"
   ]
  },
  {
   "cell_type": "code",
   "execution_count": 40,
   "id": "d4c0f43e",
   "metadata": {},
   "outputs": [
    {
     "data": {
      "text/plain": [
       "dict_items([('Emp_name', 'Kunal'), ('Salary', 80000), ('Designation', 'Data Scientist'), ('Age', 30), ('Emp_ID', 10011)])"
      ]
     },
     "execution_count": 40,
     "metadata": {},
     "output_type": "execute_result"
    }
   ],
   "source": [
    "employees.items()"
   ]
  },
  {
   "cell_type": "code",
   "execution_count": 41,
   "id": "076a2f31",
   "metadata": {},
   "outputs": [
    {
     "data": {
      "text/plain": [
       "[('Emp_name', 'Kunal'),\n",
       " ('Salary', 80000),\n",
       " ('Designation', 'Data Scientist'),\n",
       " ('Age', 30),\n",
       " ('Emp_ID', 10011)]"
      ]
     },
     "execution_count": 41,
     "metadata": {},
     "output_type": "execute_result"
    }
   ],
   "source": [
    "list(employees.items())"
   ]
  },
  {
   "cell_type": "code",
   "execution_count": 42,
   "id": "e092c795",
   "metadata": {},
   "outputs": [
    {
     "name": "stdout",
     "output_type": "stream",
     "text": [
      "('Emp_name', 'Kunal')\n",
      "('Salary', 80000)\n",
      "('Designation', 'Data Scientist')\n",
      "('Age', 30)\n",
      "('Emp_ID', 10011)\n"
     ]
    }
   ],
   "source": [
    "for item in employees.items():\n",
    "    print(item)"
   ]
  },
  {
   "cell_type": "code",
   "execution_count": 44,
   "id": "ec2d1422",
   "metadata": {},
   "outputs": [
    {
     "name": "stdout",
     "output_type": "stream",
     "text": [
      "Emp_name >> Kunal\n",
      "Salary >> 80000\n",
      "Designation >> Data Scientist\n",
      "Age >> 30\n",
      "Emp_ID >> 10011\n"
     ]
    }
   ],
   "source": [
    "for key,value in employees.items():\n",
    "    print(key,'>>',value)"
   ]
  },
  {
   "cell_type": "code",
   "execution_count": null,
   "id": "f6a1223b",
   "metadata": {},
   "outputs": [],
   "source": []
  }
 ],
 "metadata": {
  "kernelspec": {
   "display_name": "Python 3",
   "language": "python",
   "name": "python3"
  },
  "language_info": {
   "codemirror_mode": {
    "name": "ipython",
    "version": 3
   },
   "file_extension": ".py",
   "mimetype": "text/x-python",
   "name": "python",
   "nbconvert_exporter": "python",
   "pygments_lexer": "ipython3",
   "version": "3.8.8"
  },
  "toc": {
   "base_numbering": 1,
   "nav_menu": {},
   "number_sections": true,
   "sideBar": true,
   "skip_h1_title": false,
   "title_cell": "Table of Contents",
   "title_sidebar": "Contents",
   "toc_cell": false,
   "toc_position": {},
   "toc_section_display": true,
   "toc_window_display": false
  },
  "varInspector": {
   "cols": {
    "lenName": 16,
    "lenType": 16,
    "lenVar": 40
   },
   "kernels_config": {
    "python": {
     "delete_cmd_postfix": "",
     "delete_cmd_prefix": "del ",
     "library": "var_list.py",
     "varRefreshCmd": "print(var_dic_list())"
    },
    "r": {
     "delete_cmd_postfix": ") ",
     "delete_cmd_prefix": "rm(",
     "library": "var_list.r",
     "varRefreshCmd": "cat(var_dic_list()) "
    }
   },
   "types_to_exclude": [
    "module",
    "function",
    "builtin_function_or_method",
    "instance",
    "_Feature"
   ],
   "window_display": false
  }
 },
 "nbformat": 4,
 "nbformat_minor": 5
}
