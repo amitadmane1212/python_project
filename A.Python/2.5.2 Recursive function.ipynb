{
 "cells": [
  {
   "cell_type": "raw",
   "id": "949ac3c6",
   "metadata": {},
   "source": [
    "Recursive function:\n",
    "    function calling itself"
   ]
  },
  {
   "cell_type": "code",
   "execution_count": 3,
   "id": "91b066c4",
   "metadata": {},
   "outputs": [
    {
     "name": "stdout",
     "output_type": "stream",
     "text": [
      "5\n",
      "5\n",
      "20\n",
      "60\n",
      "120\n"
     ]
    },
    {
     "data": {
      "text/plain": [
       "120"
      ]
     },
     "execution_count": 3,
     "metadata": {},
     "output_type": "execute_result"
    }
   ],
   "source": [
    "# defining a function for factorial of any number\n",
    "def factorial(a,fact):\n",
    "    \n",
    "    facto = fact * a\n",
    "    a-=1\n",
    "    \n",
    "    print(facto)\n",
    "    \n",
    "    if a == 1:\n",
    "        return facto\n",
    "    \n",
    "    return factorial(a,facto)\n",
    "\n",
    "\n",
    "\n",
    "# taking in user input\n",
    "user_in = int(input())\n",
    "\n",
    "# calling of factorial function\n",
    "factorial(user_in,1)"
   ]
  },
  {
   "cell_type": "code",
   "execution_count": 5,
   "id": "6779e87b",
   "metadata": {},
   "outputs": [
    {
     "data": {
      "text/plain": [
       "120"
      ]
     },
     "execution_count": 5,
     "metadata": {},
     "output_type": "execute_result"
    }
   ],
   "source": [
    "# defining a function for factorial of any number\n",
    "def factorial(n):\n",
    "    \n",
    "    if n <= 0:\n",
    "        print('fact of -ve numbs does not exist!')\n",
    "        \n",
    "    elif n == 1:\n",
    "        return 1\n",
    "    \n",
    "    else:\n",
    "        return n*factorial(n-1)\n",
    "\n",
    "\n",
    "\n",
    "# calling of factorial function\n",
    "factorial(5)"
   ]
  },
  {
   "cell_type": "code",
   "execution_count": 9,
   "id": "9ff1b59c",
   "metadata": {},
   "outputs": [
    {
     "name": "stdout",
     "output_type": "stream",
     "text": [
      "0 1 1 2 3 5 8 13 21 34 "
     ]
    }
   ],
   "source": [
    "def fibo(n):\n",
    "    if n <= 1 and n > -1:\n",
    "        return n\n",
    "    return fibo(n-2)+fibo(n-1)\n",
    "\n",
    "for i in range(0,10):\n",
    "    print(fibo(i),end=' ')"
   ]
  },
  {
   "cell_type": "raw",
   "id": "ff8deb32",
   "metadata": {},
   "source": [
    "# WAP to fund whether a number is prime or not using recursive function"
   ]
  },
  {
   "cell_type": "code",
   "execution_count": 3,
   "id": "8d319ed0",
   "metadata": {},
   "outputs": [
    {
     "name": "stdout",
     "output_type": "stream",
     "text": [
      "type your number:\n",
      "121\n",
      "a is not prime number\n",
      "a is prime number\n"
     ]
    }
   ],
   "source": [
    "def prime(a,i):\n",
    "    if a%i==0:\n",
    "         print(\"a is not prime number\")\n",
    "    while i!=(a-1):\n",
    "        i+=1\n",
    "        return prime(a,i)\n",
    "    else:\n",
    "        print(\"a is prime number\")\n",
    "a=int(input(\"type your number:\\n\")) \n",
    "i=2\n",
    "prime(a,i)"
   ]
  },
  {
   "cell_type": "code",
   "execution_count": 4,
   "id": "b08e14f7",
   "metadata": {},
   "outputs": [],
   "source": [
    "def prime(N):\n",
    "    if N>2:\n",
    "        for i in range(2,N):\n",
    "            if (N%i)==0:\n",
    "                print('Number is not prime')\n",
    "                break\n",
    "        else:\n",
    "            print('Number is prime')\n",
    "    elif N == 2:\n",
    "        print('Number is Prime')\n",
    "    else:\n",
    "        print('Number is not prime')"
   ]
  },
  {
   "cell_type": "code",
   "execution_count": 7,
   "id": "1ef1b8b2",
   "metadata": {},
   "outputs": [
    {
     "name": "stdout",
     "output_type": "stream",
     "text": [
      "Number is prime\n"
     ]
    }
   ],
   "source": [
    "prime(43)"
   ]
  },
  {
   "cell_type": "code",
   "execution_count": null,
   "id": "1cdc1b83",
   "metadata": {},
   "outputs": [],
   "source": [
    "prime number >> 1 & itself\n",
    "\n",
    "for i in range(2,number)"
   ]
  },
  {
   "cell_type": "code",
   "execution_count": 15,
   "id": "5ccc28d5",
   "metadata": {},
   "outputs": [
    {
     "name": "stdout",
     "output_type": "stream",
     "text": [
      "not prime\n"
     ]
    }
   ],
   "source": [
    "def recursive(number, a=2):\n",
    "    if a < number:\n",
    "        if number%a==0:print('not prime')\n",
    "        else:recursive(number,a+1)\n",
    "    else:print('Its prime')\n",
    "        \n",
    "recursive(49)"
   ]
  }
 ],
 "metadata": {
  "kernelspec": {
   "display_name": "Python 3",
   "language": "python",
   "name": "python3"
  },
  "language_info": {
   "codemirror_mode": {
    "name": "ipython",
    "version": 3
   },
   "file_extension": ".py",
   "mimetype": "text/x-python",
   "name": "python",
   "nbconvert_exporter": "python",
   "pygments_lexer": "ipython3",
   "version": "3.8.8"
  },
  "toc": {
   "base_numbering": 1,
   "nav_menu": {},
   "number_sections": true,
   "sideBar": true,
   "skip_h1_title": false,
   "title_cell": "Table of Contents",
   "title_sidebar": "Contents",
   "toc_cell": false,
   "toc_position": {},
   "toc_section_display": true,
   "toc_window_display": false
  },
  "varInspector": {
   "cols": {
    "lenName": 16,
    "lenType": 16,
    "lenVar": 40
   },
   "kernels_config": {
    "python": {
     "delete_cmd_postfix": "",
     "delete_cmd_prefix": "del ",
     "library": "var_list.py",
     "varRefreshCmd": "print(var_dic_list())"
    },
    "r": {
     "delete_cmd_postfix": ") ",
     "delete_cmd_prefix": "rm(",
     "library": "var_list.r",
     "varRefreshCmd": "cat(var_dic_list()) "
    }
   },
   "types_to_exclude": [
    "module",
    "function",
    "builtin_function_or_method",
    "instance",
    "_Feature"
   ],
   "window_display": false
  }
 },
 "nbformat": 4,
 "nbformat_minor": 5
}
