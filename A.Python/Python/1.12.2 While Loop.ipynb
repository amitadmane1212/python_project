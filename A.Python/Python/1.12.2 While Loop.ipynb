{
 "cells": [
  {
   "cell_type": "raw",
   "id": "50e302eb",
   "metadata": {},
   "source": [
    "While loop is used for iterating over a sequence or iterator\n",
    "while loop is used to execute block of code till the given condition is met(True)\n",
    "While loop needs manual increamentation of decrementation\n",
    "\n",
    "While condition:(True)\n",
    "    code\n",
    "    statements\n",
    "    separate incrementation or decrementation\n",
    "    \n",
    "Condition:\n",
    "    True:executing the block of code\n",
    "    False: it breaks the loop of the iteration stops\n",
    "        \n",
    "While-else:\n",
    "    else will be executed after execution of while loop\n",
    "    else will not be executed if there is break in while loop"
   ]
  },
  {
   "cell_type": "code",
   "execution_count": 1,
   "id": "cc137fcf",
   "metadata": {},
   "outputs": [
    {
     "name": "stdout",
     "output_type": "stream",
     "text": [
      "0\n",
      "1\n",
      "2\n",
      "3\n",
      "4\n"
     ]
    }
   ],
   "source": [
    "# while usinig increment\n",
    "\n",
    "a = 0\n",
    "\n",
    "while a < 5:\n",
    "    print(a)\n",
    "    a+=1"
   ]
  },
  {
   "cell_type": "code",
   "execution_count": 2,
   "id": "cf95297c",
   "metadata": {},
   "outputs": [
    {
     "name": "stdout",
     "output_type": "stream",
     "text": [
      "5\n",
      "4\n",
      "3\n",
      "2\n",
      "1\n"
     ]
    }
   ],
   "source": [
    "# while using decrement\n",
    "\n",
    "a = 5\n",
    "while a > 0:\n",
    "    print(a)\n",
    "    a-=1"
   ]
  },
  {
   "cell_type": "code",
   "execution_count": 5,
   "id": "2d98cd6b",
   "metadata": {},
   "outputs": [
    {
     "name": "stdout",
     "output_type": "stream",
     "text": [
      "4\n",
      "3\n",
      "2\n",
      "1\n",
      "0\n"
     ]
    }
   ],
   "source": [
    "# while using decrement\n",
    "\n",
    "a = 4\n",
    "while a >=0:\n",
    "    print(a)\n",
    "    a-=1"
   ]
  },
  {
   "cell_type": "code",
   "execution_count": 11,
   "id": "f0433080",
   "metadata": {},
   "outputs": [
    {
     "name": "stdout",
     "output_type": "stream",
     "text": [
      "1\n",
      "2\n",
      "333\n",
      "4\n"
     ]
    }
   ],
   "source": [
    "a = [1,2,3,4]\n",
    "i = 0\n",
    "\n",
    "while i < len(a):\n",
    "    if a[i] == 3:\n",
    "        print(f'{a[i]}'*(i+1))\n",
    "    else:\n",
    "        print(a[i])\n",
    "    i+=1"
   ]
  },
  {
   "cell_type": "code",
   "execution_count": 18,
   "id": "6d717b16",
   "metadata": {},
   "outputs": [
    {
     "name": "stdout",
     "output_type": "stream",
     "text": [
      "1\n",
      "2\n",
      "333\n",
      "4\n"
     ]
    }
   ],
   "source": [
    "# Nested while loop\n",
    "\n",
    "a = [1,2,3,4]\n",
    "i =j= 0\n",
    "\n",
    "while i < len(a):\n",
    "    if a[i] == 3:\n",
    "        while j < 3:\n",
    "            print(a[i],end='')\n",
    "            j+=1\n",
    "        print()\n",
    "    else:\n",
    "        print(a[i])\n",
    "    i+=1"
   ]
  },
  {
   "cell_type": "code",
   "execution_count": 19,
   "id": "294e0c35",
   "metadata": {},
   "outputs": [
    {
     "name": "stdout",
     "output_type": "stream",
     "text": [
      "4\n",
      "3\n",
      "2\n",
      "1\n",
      "0\n",
      "while completed!\n"
     ]
    }
   ],
   "source": [
    "a = 4\n",
    "while a >=0:\n",
    "    print(a)\n",
    "    a-=1\n",
    "    \n",
    "else:\n",
    "    print('while completed!')"
   ]
  },
  {
   "cell_type": "code",
   "execution_count": 20,
   "id": "53e5d4a0",
   "metadata": {},
   "outputs": [
    {
     "name": "stdout",
     "output_type": "stream",
     "text": [
      "4\n"
     ]
    }
   ],
   "source": [
    "a = 4\n",
    "while a >=0:\n",
    "    print(a)\n",
    "    a-=1\n",
    "    break\n",
    "else:\n",
    "    print('while completed!')"
   ]
  },
  {
   "cell_type": "markdown",
   "id": "2c6ad89d",
   "metadata": {},
   "source": [
    "# While loop to find factorial of number"
   ]
  },
  {
   "cell_type": "code",
   "execution_count": 22,
   "id": "d3d4cbae",
   "metadata": {},
   "outputs": [
    {
     "name": "stdout",
     "output_type": "stream",
     "text": [
      "5\n",
      "120\n"
     ]
    }
   ],
   "source": [
    "n = int(input())\n",
    "fact = 1\n",
    "\n",
    "while n > 0:\n",
    "    fact= fact*n\n",
    "    n-=1\n",
    "    \n",
    "else:\n",
    "    print(fact)"
   ]
  },
  {
   "cell_type": "code",
   "execution_count": 24,
   "id": "fe886e8c",
   "metadata": {},
   "outputs": [
    {
     "name": "stdout",
     "output_type": "stream",
     "text": [
      "5\n",
      "120\n"
     ]
    }
   ],
   "source": [
    "n = int(input())\n",
    "fact = i = 1\n",
    "\n",
    "while i <= n:\n",
    "    fact= fact*i\n",
    "    i+=1\n",
    "    \n",
    "else:\n",
    "    print(fact)"
   ]
  },
  {
   "cell_type": "code",
   "execution_count": null,
   "id": "d4b0ec25",
   "metadata": {},
   "outputs": [],
   "source": [
    "# WAP to create fibonacci series of first n numerbs using while loop\n",
    "# WAP to print A-F from ASCII using while loop in right angle triangle format"
   ]
  }
 ],
 "metadata": {
  "kernelspec": {
   "display_name": "Python 3",
   "language": "python",
   "name": "python3"
  },
  "language_info": {
   "codemirror_mode": {
    "name": "ipython",
    "version": 3
   },
   "file_extension": ".py",
   "mimetype": "text/x-python",
   "name": "python",
   "nbconvert_exporter": "python",
   "pygments_lexer": "ipython3",
   "version": "3.8.8"
  },
  "toc": {
   "base_numbering": 1,
   "nav_menu": {},
   "number_sections": true,
   "sideBar": true,
   "skip_h1_title": false,
   "title_cell": "Table of Contents",
   "title_sidebar": "Contents",
   "toc_cell": false,
   "toc_position": {},
   "toc_section_display": true,
   "toc_window_display": false
  },
  "varInspector": {
   "cols": {
    "lenName": 16,
    "lenType": 16,
    "lenVar": 40
   },
   "kernels_config": {
    "python": {
     "delete_cmd_postfix": "",
     "delete_cmd_prefix": "del ",
     "library": "var_list.py",
     "varRefreshCmd": "print(var_dic_list())"
    },
    "r": {
     "delete_cmd_postfix": ") ",
     "delete_cmd_prefix": "rm(",
     "library": "var_list.r",
     "varRefreshCmd": "cat(var_dic_list()) "
    }
   },
   "types_to_exclude": [
    "module",
    "function",
    "builtin_function_or_method",
    "instance",
    "_Feature"
   ],
   "window_display": false
  }
 },
 "nbformat": 4,
 "nbformat_minor": 5
}
