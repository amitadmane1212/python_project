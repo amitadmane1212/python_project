{
 "cells": [
  {
   "cell_type": "raw",
   "id": "d7a90972",
   "metadata": {},
   "source": [
    "Higher order function:\n",
    "    One function is apssed as an arguement into another function\n",
    "    Eg. Map, filter, Reduce"
   ]
  },
  {
   "cell_type": "markdown",
   "id": "2abea2b6",
   "metadata": {},
   "source": [
    "# Map & Filter"
   ]
  },
  {
   "cell_type": "raw",
   "id": "3b539dbd",
   "metadata": {},
   "source": [
    "list(map(function name, iterable))\n",
    "list(filter(function name, iterable))\n",
    "\n",
    "map & filterr both can work on conditions but only mao works on operations, fiter does not!\n",
    "\n",
    "if its condition then map will return True or False, filter will return those values for which the condition is True\n",
    "\n",
    "if it's an operation the map will return the outcome of the operation & filter will return the iterable as it is\n",
    "\n",
    "for conditions, filter is better than map & for operations map is better than filter"
   ]
  },
  {
   "cell_type": "code",
   "execution_count": 2,
   "id": "7c38653f",
   "metadata": {},
   "outputs": [],
   "source": [
    "l1= ['Sunday','Monday','Tuesday','wednesday','thrusday','Friday','saturday']"
   ]
  },
  {
   "cell_type": "markdown",
   "id": "f36dbf65",
   "metadata": {},
   "source": [
    "# condition"
   ]
  },
  {
   "cell_type": "code",
   "execution_count": 3,
   "id": "8d2e3a00",
   "metadata": {},
   "outputs": [
    {
     "data": {
      "text/plain": [
       "(True, True, False, False, False, True, False)"
      ]
     },
     "execution_count": 3,
     "metadata": {},
     "output_type": "execute_result"
    }
   ],
   "source": [
    "tuple(map(lambda x:len(x)==6,l1))"
   ]
  },
  {
   "cell_type": "code",
   "execution_count": 4,
   "id": "123f48b0",
   "metadata": {},
   "outputs": [
    {
     "data": {
      "text/plain": [
       "('Sunday', 'Monday', 'Friday')"
      ]
     },
     "execution_count": 4,
     "metadata": {},
     "output_type": "execute_result"
    }
   ],
   "source": [
    "tuple(filter(lambda x:len(x)==6,l1))"
   ]
  },
  {
   "cell_type": "code",
   "execution_count": 5,
   "id": "6321ebff",
   "metadata": {},
   "outputs": [
    {
     "data": {
      "text/plain": [
       "[False, True, True, False]"
      ]
     },
     "execution_count": 5,
     "metadata": {},
     "output_type": "execute_result"
    }
   ],
   "source": [
    "list(map(lambda x:x**2==4 or x**2==9,[1,2,3,4]))"
   ]
  },
  {
   "cell_type": "code",
   "execution_count": 6,
   "id": "178e29ec",
   "metadata": {},
   "outputs": [
    {
     "data": {
      "text/plain": [
       "[2, 3]"
      ]
     },
     "execution_count": 6,
     "metadata": {},
     "output_type": "execute_result"
    }
   ],
   "source": [
    "list(filter(lambda x:x**2==4 or x**2==9,[1,2,3,4]))"
   ]
  },
  {
   "cell_type": "code",
   "execution_count": 11,
   "id": "d6dc75f4",
   "metadata": {},
   "outputs": [
    {
     "data": {
      "text/plain": [
       "[False, True, False, True, False, True]"
      ]
     },
     "execution_count": 11,
     "metadata": {},
     "output_type": "execute_result"
    }
   ],
   "source": [
    "list(map(lambda x : x%2==0,[1,2,3,4,5,6]))"
   ]
  },
  {
   "cell_type": "code",
   "execution_count": 12,
   "id": "289ed60e",
   "metadata": {},
   "outputs": [
    {
     "data": {
      "text/plain": [
       "[2, 4, 6]"
      ]
     },
     "execution_count": 12,
     "metadata": {},
     "output_type": "execute_result"
    }
   ],
   "source": [
    "list(filter(lambda x : x%2==0,[1,2,3,4,5,6]))"
   ]
  },
  {
   "cell_type": "markdown",
   "id": "e504a9cb",
   "metadata": {},
   "source": [
    "# Operations"
   ]
  },
  {
   "cell_type": "code",
   "execution_count": 13,
   "id": "c08dbeaf",
   "metadata": {},
   "outputs": [
    {
     "data": {
      "text/plain": [
       "['SUNDAY', 'MONDAY', 'TUESDAY', 'WEDNESDAY', 'THRUSDAY', 'FRIDAY', 'SATURDAY']"
      ]
     },
     "execution_count": 13,
     "metadata": {},
     "output_type": "execute_result"
    }
   ],
   "source": [
    "list(map(lambda x:x.upper(),l1))"
   ]
  },
  {
   "cell_type": "code",
   "execution_count": 14,
   "id": "46b516ad",
   "metadata": {},
   "outputs": [
    {
     "data": {
      "text/plain": [
       "['Sunday', 'Monday', 'Tuesday', 'wednesday', 'thrusday', 'Friday', 'saturday']"
      ]
     },
     "execution_count": 14,
     "metadata": {},
     "output_type": "execute_result"
    }
   ],
   "source": [
    "list(filter(lambda x:x.upper(),l1))"
   ]
  },
  {
   "cell_type": "code",
   "execution_count": 15,
   "id": "70f40199",
   "metadata": {},
   "outputs": [
    {
     "data": {
      "text/plain": [
       "[1, 4, 9, 16]"
      ]
     },
     "execution_count": 15,
     "metadata": {},
     "output_type": "execute_result"
    }
   ],
   "source": [
    "list(map(lambda x:x**2,[1,2,3,4]))"
   ]
  },
  {
   "cell_type": "code",
   "execution_count": 16,
   "id": "fc53d286",
   "metadata": {},
   "outputs": [
    {
     "data": {
      "text/plain": [
       "[1, 2, 3, 4]"
      ]
     },
     "execution_count": 16,
     "metadata": {},
     "output_type": "execute_result"
    }
   ],
   "source": [
    "list(filter(lambda x:x**2,[1,2,3,4]))"
   ]
  },
  {
   "cell_type": "code",
   "execution_count": 19,
   "id": "9274a682",
   "metadata": {},
   "outputs": [
    {
     "data": {
      "text/plain": [
       "[True, True, True, False, False, True, False]"
      ]
     },
     "execution_count": 19,
     "metadata": {},
     "output_type": "execute_result"
    }
   ],
   "source": [
    "list(map(lambda x:x.title(),l1))"
   ]
  },
  {
   "cell_type": "code",
   "execution_count": 21,
   "id": "123fcd35",
   "metadata": {},
   "outputs": [
    {
     "data": {
      "text/plain": [
       "['Sunday', 'Monday', 'Tuesday', 'wednesday', 'thrusday', 'Friday', 'saturday']"
      ]
     },
     "execution_count": 21,
     "metadata": {},
     "output_type": "execute_result"
    }
   ],
   "source": [
    "z = list(filter(lambda x:x.title(),l1))\n",
    "z"
   ]
  },
  {
   "cell_type": "markdown",
   "id": "5afb5f19",
   "metadata": {},
   "source": [
    "# Reduce"
   ]
  },
  {
   "cell_type": "raw",
   "id": "4696a118",
   "metadata": {},
   "source": [
    "Reduce has to be separately imported form funtools library\n",
    "\n",
    "reduce works on 2 items of the iterables at a time, operates on them & then outcome of the opertion is stored in first variable, then the next item is tsaken in the 2nd variable & again the operation is performed. This goes on till the last item in the iterable.\n",
    "\n",
    "outcome of reduce function is basically a single value\n",
    "\n",
    "reduce(function name, iterable)\n",
    "\n",
    "you can also pass 2 iterables in reduce"
   ]
  },
  {
   "cell_type": "code",
   "execution_count": 22,
   "id": "7e1f4c8c",
   "metadata": {},
   "outputs": [],
   "source": [
    "from functools import reduce"
   ]
  },
  {
   "cell_type": "code",
   "execution_count": 23,
   "id": "12f0ffe0",
   "metadata": {},
   "outputs": [
    {
     "data": {
      "text/plain": [
       "23"
      ]
     },
     "execution_count": 23,
     "metadata": {},
     "output_type": "execute_result"
    }
   ],
   "source": [
    "l1 = [2,3,4,5,6,1,2]\n",
    "\n",
    "reduce(lambda a,b:a+b,l1)"
   ]
  },
  {
   "cell_type": "code",
   "execution_count": 24,
   "id": "56ba0001",
   "metadata": {},
   "outputs": [
    {
     "data": {
      "text/plain": [
       "6"
      ]
     },
     "execution_count": 24,
     "metadata": {},
     "output_type": "execute_result"
    }
   ],
   "source": [
    "reduce(lambda a,b:a if a>b else b,l1)"
   ]
  },
  {
   "cell_type": "code",
   "execution_count": 25,
   "id": "b0e5edd2",
   "metadata": {},
   "outputs": [
    {
     "data": {
      "text/plain": [
       "1440"
      ]
     },
     "execution_count": 25,
     "metadata": {},
     "output_type": "execute_result"
    }
   ],
   "source": [
    "reduce(lambda a,b:a*b,l1)"
   ]
  },
  {
   "cell_type": "code",
   "execution_count": 26,
   "id": "162129f1",
   "metadata": {},
   "outputs": [
    {
     "data": {
      "text/plain": [
       "-19"
      ]
     },
     "execution_count": 26,
     "metadata": {},
     "output_type": "execute_result"
    }
   ],
   "source": [
    "reduce(lambda a,b:a-b,l1)"
   ]
  },
  {
   "cell_type": "code",
   "execution_count": 28,
   "id": "fd584abc",
   "metadata": {},
   "outputs": [
    {
     "name": "stdout",
     "output_type": "stream",
     "text": [
      "5\n"
     ]
    },
    {
     "data": {
      "text/plain": [
       "120"
      ]
     },
     "execution_count": 28,
     "metadata": {},
     "output_type": "execute_result"
    }
   ],
   "source": [
    "n = int(input())\n",
    "factorial = reduce(lambda x,y:x*y, range(1,n+1))\n",
    "factorial"
   ]
  },
  {
   "cell_type": "code",
   "execution_count": 29,
   "id": "7935a71d",
   "metadata": {},
   "outputs": [
    {
     "data": {
      "text/plain": [
       "[1, 2, 3, 4, 5]"
      ]
     },
     "execution_count": 29,
     "metadata": {},
     "output_type": "execute_result"
    }
   ],
   "source": [
    "list(range(1,n+1))"
   ]
  },
  {
   "cell_type": "code",
   "execution_count": null,
   "id": "0b2dd34f",
   "metadata": {},
   "outputs": [],
   "source": []
  }
 ],
 "metadata": {
  "kernelspec": {
   "display_name": "Python 3",
   "language": "python",
   "name": "python3"
  },
  "language_info": {
   "codemirror_mode": {
    "name": "ipython",
    "version": 3
   },
   "file_extension": ".py",
   "mimetype": "text/x-python",
   "name": "python",
   "nbconvert_exporter": "python",
   "pygments_lexer": "ipython3",
   "version": "3.8.8"
  },
  "toc": {
   "base_numbering": 1,
   "nav_menu": {},
   "number_sections": true,
   "sideBar": true,
   "skip_h1_title": false,
   "title_cell": "Table of Contents",
   "title_sidebar": "Contents",
   "toc_cell": false,
   "toc_position": {},
   "toc_section_display": true,
   "toc_window_display": false
  },
  "varInspector": {
   "cols": {
    "lenName": 16,
    "lenType": 16,
    "lenVar": 40
   },
   "kernels_config": {
    "python": {
     "delete_cmd_postfix": "",
     "delete_cmd_prefix": "del ",
     "library": "var_list.py",
     "varRefreshCmd": "print(var_dic_list())"
    },
    "r": {
     "delete_cmd_postfix": ") ",
     "delete_cmd_prefix": "rm(",
     "library": "var_list.r",
     "varRefreshCmd": "cat(var_dic_list()) "
    }
   },
   "types_to_exclude": [
    "module",
    "function",
    "builtin_function_or_method",
    "instance",
    "_Feature"
   ],
   "window_display": false
  }
 },
 "nbformat": 4,
 "nbformat_minor": 5
}
