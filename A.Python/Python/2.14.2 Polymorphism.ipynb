{
 "cells": [
  {
   "cell_type": "raw",
   "id": "5531d87c",
   "metadata": {},
   "source": [
    "poly >> many\n",
    "morphism >> forms\n",
    "\n",
    "polymorphism:\n",
    "    same function name used in different classes\n",
    "   "
   ]
  },
  {
   "cell_type": "code",
   "execution_count": 1,
   "id": "a12df598",
   "metadata": {},
   "outputs": [
    {
     "name": "stdout",
     "output_type": "stream",
     "text": [
      "this is child class\n"
     ]
    }
   ],
   "source": [
    "class parent():\n",
    "    \n",
    "    def first_fun(self):\n",
    "        print('this is parent class')\n",
    "        \n",
    "class child(parent):\n",
    "    \n",
    "    def first_fun(self):\n",
    "        print('this is child class')\n",
    "        \n",
    "        \n",
    "obj = child()\n",
    "obj.first_fun()"
   ]
  },
  {
   "cell_type": "code",
   "execution_count": 5,
   "id": "ef3c3eb2",
   "metadata": {},
   "outputs": [
    {
     "name": "stdout",
     "output_type": "stream",
     "text": [
      "circle3 class area used\n"
     ]
    },
    {
     "data": {
      "text/plain": [
       "78.53981633974483"
      ]
     },
     "metadata": {},
     "output_type": "display_data"
    },
    {
     "name": "stdout",
     "output_type": "stream",
     "text": [
      "circle2 class area used\n"
     ]
    },
    {
     "data": {
      "text/plain": [
       "153.93804002589985"
      ]
     },
     "execution_count": 5,
     "metadata": {},
     "output_type": "execute_result"
    }
   ],
   "source": [
    "import math\n",
    "\n",
    "class circle1():\n",
    "    def __init__(self,r1):\n",
    "        self.r1 = r1\n",
    "        \n",
    "    def area(self):\n",
    "        print('circle1 class area used')\n",
    "        return math.pi*math.pow(self.r1,2)\n",
    "    \n",
    "class circle2():\n",
    "    def __init__(self,r2):\n",
    "        self.r2 = r2\n",
    "        \n",
    "    def area(self):\n",
    "        print('circle2 class area used')\n",
    "        return math.pi*math.pow(self.r2,2)\n",
    "\n",
    "class circle3():\n",
    "    def __init__(self,r1):\n",
    "        self.r1 = r1\n",
    "        \n",
    "    def area(self):\n",
    "        print('circle3 class area used')\n",
    "        return math.pi*math.pow(self.r1,2)\n",
    "    \n",
    "    \n",
    "circle = circle3(5)\n",
    "display(circle.area())\n",
    "\n",
    "c1 = circle2(7)\n",
    "c1.area()"
   ]
  },
  {
   "cell_type": "markdown",
   "id": "09080b33",
   "metadata": {},
   "source": [
    "# Overriding Method"
   ]
  },
  {
   "cell_type": "code",
   "execution_count": 23,
   "id": "9a018bdc",
   "metadata": {},
   "outputs": [
    {
     "name": "stdout",
     "output_type": "stream",
     "text": [
      "circle3 class area used\n"
     ]
    },
    {
     "data": {
      "text/plain": [
       "78.53981633974483"
      ]
     },
     "metadata": {},
     "output_type": "display_data"
    }
   ],
   "source": [
    "import math\n",
    "\n",
    "class circle1():\n",
    "    def __init__(self,r1):\n",
    "        self.r1 = r1\n",
    "        \n",
    "    def area(self):\n",
    "        print('circle1 class area used')\n",
    "        return math.pi*math.pow(self.r1,2)\n",
    "    \n",
    "class circle2(circle1):\n",
    "    def __init__(self,r2):\n",
    "        self.r2 = r2\n",
    "        \n",
    "    def area(self):\n",
    "        print('circle2 class area used')\n",
    "        return math.pi*math.pow(self.r2,2)\n",
    "\n",
    "class circle3(circle2):\n",
    "    def __init__(self,r1):\n",
    "        self.r1 = r1\n",
    "        \n",
    "    \n",
    "        circle2.__init__(self,r1)\n",
    "        circle1.__init__(self,r1)\n",
    "    \n",
    "    def area(self):\n",
    "        print('circle3 class area used')\n",
    "        return math.pi*math.pow(self.r1,2)\n",
    "    \n",
    "    \n",
    "circle = circle3(5)\n",
    "display(circle.area())"
   ]
  },
  {
   "cell_type": "code",
   "execution_count": null,
   "id": "1e7d409c",
   "metadata": {},
   "outputs": [],
   "source": []
  }
 ],
 "metadata": {
  "kernelspec": {
   "display_name": "Python 3",
   "language": "python",
   "name": "python3"
  },
  "language_info": {
   "codemirror_mode": {
    "name": "ipython",
    "version": 3
   },
   "file_extension": ".py",
   "mimetype": "text/x-python",
   "name": "python",
   "nbconvert_exporter": "python",
   "pygments_lexer": "ipython3",
   "version": "3.8.8"
  },
  "toc": {
   "base_numbering": 1,
   "nav_menu": {},
   "number_sections": true,
   "sideBar": true,
   "skip_h1_title": false,
   "title_cell": "Table of Contents",
   "title_sidebar": "Contents",
   "toc_cell": false,
   "toc_position": {},
   "toc_section_display": true,
   "toc_window_display": false
  },
  "varInspector": {
   "cols": {
    "lenName": 16,
    "lenType": 16,
    "lenVar": 40
   },
   "kernels_config": {
    "python": {
     "delete_cmd_postfix": "",
     "delete_cmd_prefix": "del ",
     "library": "var_list.py",
     "varRefreshCmd": "print(var_dic_list())"
    },
    "r": {
     "delete_cmd_postfix": ") ",
     "delete_cmd_prefix": "rm(",
     "library": "var_list.r",
     "varRefreshCmd": "cat(var_dic_list()) "
    }
   },
   "types_to_exclude": [
    "module",
    "function",
    "builtin_function_or_method",
    "instance",
    "_Feature"
   ],
   "window_display": false
  }
 },
 "nbformat": 4,
 "nbformat_minor": 5
}
