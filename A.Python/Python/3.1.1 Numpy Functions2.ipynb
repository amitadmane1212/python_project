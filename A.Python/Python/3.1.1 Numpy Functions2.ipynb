{
 "cells": [
  {
   "cell_type": "markdown",
   "id": "7e9e1c8a",
   "metadata": {},
   "source": [
    "# Append"
   ]
  },
  {
   "cell_type": "raw",
   "id": "a8852cbf",
   "metadata": {},
   "source": [
    "appends the values at the last index of the array"
   ]
  },
  {
   "cell_type": "code",
   "execution_count": 3,
   "id": "6d9bccaf",
   "metadata": {},
   "outputs": [
    {
     "data": {
      "text/plain": [
       "array([  2,   1,   4,   5,   7, 100])"
      ]
     },
     "execution_count": 3,
     "metadata": {},
     "output_type": "execute_result"
    }
   ],
   "source": [
    "import numpy as np\n",
    "array = np.array([2,1,4,5,7])\n",
    "np.append(array,100)"
   ]
  },
  {
   "cell_type": "code",
   "execution_count": 4,
   "id": "41176245",
   "metadata": {},
   "outputs": [
    {
     "data": {
      "text/plain": [
       "array([  2,   1,   4,   5,   7, 100, 200])"
      ]
     },
     "execution_count": 4,
     "metadata": {},
     "output_type": "execute_result"
    }
   ],
   "source": [
    "array = np.array([2,1,4,5,7])\n",
    "array2 = np.array([100,200])\n",
    "new_array = np.append(array,array2)\n",
    "new_array"
   ]
  },
  {
   "cell_type": "markdown",
   "id": "4d65746d",
   "metadata": {},
   "source": [
    "## for multidimantional array"
   ]
  },
  {
   "cell_type": "markdown",
   "id": "e8adde17",
   "metadata": {},
   "source": [
    "#### adding all elements from both matrix"
   ]
  },
  {
   "cell_type": "code",
   "execution_count": 17,
   "id": "ecc68ff2",
   "metadata": {},
   "outputs": [
    {
     "data": {
      "text/plain": [
       "array([  2,   1,   4,   5, 100, 200, 300])"
      ]
     },
     "execution_count": 17,
     "metadata": {},
     "output_type": "execute_result"
    }
   ],
   "source": [
    "array1 = np.array([[2,1],\n",
    "                   [4,5]])\n",
    "array2 = np.array([[100,200,300]])\n",
    "\n",
    "np.append(array1,array2)"
   ]
  },
  {
   "cell_type": "markdown",
   "id": "c1fe516f",
   "metadata": {},
   "source": [
    "#### adding elents row-wise"
   ]
  },
  {
   "cell_type": "raw",
   "id": "215ceaac",
   "metadata": {},
   "source": [
    "# for row wise addtion, number of columns from both the array or matrix has to be equal"
   ]
  },
  {
   "cell_type": "code",
   "execution_count": 19,
   "id": "15fcd029",
   "metadata": {},
   "outputs": [
    {
     "data": {
      "text/plain": [
       "array([[  2,   1],\n",
       "       [  4,   5],\n",
       "       [100, 200]])"
      ]
     },
     "execution_count": 19,
     "metadata": {},
     "output_type": "execute_result"
    }
   ],
   "source": [
    "array1 = np.array([[2,1],\n",
    "                   [4,5]])\n",
    "array2 = np.array([[100,200]])\n",
    "\n",
    "np.append(array1,array2,axis=0)"
   ]
  },
  {
   "cell_type": "code",
   "execution_count": 20,
   "id": "80467b59",
   "metadata": {
    "collapsed": true
   },
   "outputs": [
    {
     "ename": "ValueError",
     "evalue": "all the input array dimensions for the concatenation axis must match exactly, but along dimension 1, the array at index 0 has size 2 and the array at index 1 has size 3",
     "output_type": "error",
     "traceback": [
      "\u001b[1;31m---------------------------------------------------------------------------\u001b[0m",
      "\u001b[1;31mValueError\u001b[0m                                Traceback (most recent call last)",
      "\u001b[1;32m<ipython-input-20-39971b689955>\u001b[0m in \u001b[0;36m<module>\u001b[1;34m\u001b[0m\n\u001b[0;32m      3\u001b[0m \u001b[0marray2\u001b[0m \u001b[1;33m=\u001b[0m \u001b[0mnp\u001b[0m\u001b[1;33m.\u001b[0m\u001b[0marray\u001b[0m\u001b[1;33m(\u001b[0m\u001b[1;33m[\u001b[0m\u001b[1;33m[\u001b[0m\u001b[1;36m100\u001b[0m\u001b[1;33m,\u001b[0m\u001b[1;36m200\u001b[0m\u001b[1;33m,\u001b[0m\u001b[1;36m300\u001b[0m\u001b[1;33m]\u001b[0m\u001b[1;33m]\u001b[0m\u001b[1;33m)\u001b[0m\u001b[1;33m\u001b[0m\u001b[1;33m\u001b[0m\u001b[0m\n\u001b[0;32m      4\u001b[0m \u001b[1;33m\u001b[0m\u001b[0m\n\u001b[1;32m----> 5\u001b[1;33m \u001b[0mnp\u001b[0m\u001b[1;33m.\u001b[0m\u001b[0mappend\u001b[0m\u001b[1;33m(\u001b[0m\u001b[0marray1\u001b[0m\u001b[1;33m,\u001b[0m\u001b[0marray2\u001b[0m\u001b[1;33m,\u001b[0m\u001b[0maxis\u001b[0m\u001b[1;33m=\u001b[0m\u001b[1;36m0\u001b[0m\u001b[1;33m)\u001b[0m\u001b[1;33m\u001b[0m\u001b[1;33m\u001b[0m\u001b[0m\n\u001b[0m",
      "\u001b[1;32m<__array_function__ internals>\u001b[0m in \u001b[0;36mappend\u001b[1;34m(*args, **kwargs)\u001b[0m\n",
      "\u001b[1;32m~\\anaconda3\\lib\\site-packages\\numpy\\lib\\function_base.py\u001b[0m in \u001b[0;36mappend\u001b[1;34m(arr, values, axis)\u001b[0m\n\u001b[0;32m   4669\u001b[0m         \u001b[0mvalues\u001b[0m \u001b[1;33m=\u001b[0m \u001b[0mravel\u001b[0m\u001b[1;33m(\u001b[0m\u001b[0mvalues\u001b[0m\u001b[1;33m)\u001b[0m\u001b[1;33m\u001b[0m\u001b[1;33m\u001b[0m\u001b[0m\n\u001b[0;32m   4670\u001b[0m         \u001b[0maxis\u001b[0m \u001b[1;33m=\u001b[0m \u001b[0marr\u001b[0m\u001b[1;33m.\u001b[0m\u001b[0mndim\u001b[0m\u001b[1;33m-\u001b[0m\u001b[1;36m1\u001b[0m\u001b[1;33m\u001b[0m\u001b[1;33m\u001b[0m\u001b[0m\n\u001b[1;32m-> 4671\u001b[1;33m     \u001b[1;32mreturn\u001b[0m \u001b[0mconcatenate\u001b[0m\u001b[1;33m(\u001b[0m\u001b[1;33m(\u001b[0m\u001b[0marr\u001b[0m\u001b[1;33m,\u001b[0m \u001b[0mvalues\u001b[0m\u001b[1;33m)\u001b[0m\u001b[1;33m,\u001b[0m \u001b[0maxis\u001b[0m\u001b[1;33m=\u001b[0m\u001b[0maxis\u001b[0m\u001b[1;33m)\u001b[0m\u001b[1;33m\u001b[0m\u001b[1;33m\u001b[0m\u001b[0m\n\u001b[0m\u001b[0;32m   4672\u001b[0m \u001b[1;33m\u001b[0m\u001b[0m\n\u001b[0;32m   4673\u001b[0m \u001b[1;33m\u001b[0m\u001b[0m\n",
      "\u001b[1;32m<__array_function__ internals>\u001b[0m in \u001b[0;36mconcatenate\u001b[1;34m(*args, **kwargs)\u001b[0m\n",
      "\u001b[1;31mValueError\u001b[0m: all the input array dimensions for the concatenation axis must match exactly, but along dimension 1, the array at index 0 has size 2 and the array at index 1 has size 3"
     ]
    }
   ],
   "source": [
    "array1 = np.array([[2,1],\n",
    "                   [4,5]])\n",
    "array2 = np.array([[100,200,300]])\n",
    "\n",
    "np.append(array1,array2,axis=0)"
   ]
  },
  {
   "cell_type": "markdown",
   "id": "cd0dcda0",
   "metadata": {},
   "source": [
    "#### adding elements column wise"
   ]
  },
  {
   "cell_type": "raw",
   "id": "c7574ded",
   "metadata": {},
   "source": [
    "# for column wise addition, number of rows has to be equal"
   ]
  },
  {
   "cell_type": "code",
   "execution_count": 146,
   "id": "fb228f5e",
   "metadata": {},
   "outputs": [
    {
     "data": {
      "text/plain": [
       "array([[  2,   1, 100],\n",
       "       [  4,   5, 200]])"
      ]
     },
     "execution_count": 146,
     "metadata": {},
     "output_type": "execute_result"
    }
   ],
   "source": [
    "array1 = np.array([[2,1],\n",
    "                   [4,5]])\n",
    "array2 = np.array([[100],\n",
    "                   [200]])\n",
    "\n",
    "np.append(array1,array2,axis=1)"
   ]
  },
  {
   "cell_type": "code",
   "execution_count": 24,
   "id": "9e3b1722",
   "metadata": {
    "collapsed": true
   },
   "outputs": [
    {
     "ename": "ValueError",
     "evalue": "all the input array dimensions for the concatenation axis must match exactly, but along dimension 0, the array at index 0 has size 2 and the array at index 1 has size 3",
     "output_type": "error",
     "traceback": [
      "\u001b[1;31m---------------------------------------------------------------------------\u001b[0m",
      "\u001b[1;31mValueError\u001b[0m                                Traceback (most recent call last)",
      "\u001b[1;32m<ipython-input-24-9e6049bc6159>\u001b[0m in \u001b[0;36m<module>\u001b[1;34m\u001b[0m\n\u001b[0;32m      5\u001b[0m                    [300]])\n\u001b[0;32m      6\u001b[0m \u001b[1;33m\u001b[0m\u001b[0m\n\u001b[1;32m----> 7\u001b[1;33m \u001b[0mnp\u001b[0m\u001b[1;33m.\u001b[0m\u001b[0mappend\u001b[0m\u001b[1;33m(\u001b[0m\u001b[0marray1\u001b[0m\u001b[1;33m,\u001b[0m\u001b[0marray2\u001b[0m\u001b[1;33m,\u001b[0m\u001b[0maxis\u001b[0m\u001b[1;33m=\u001b[0m\u001b[1;36m1\u001b[0m\u001b[1;33m)\u001b[0m\u001b[1;33m\u001b[0m\u001b[1;33m\u001b[0m\u001b[0m\n\u001b[0m",
      "\u001b[1;32m<__array_function__ internals>\u001b[0m in \u001b[0;36mappend\u001b[1;34m(*args, **kwargs)\u001b[0m\n",
      "\u001b[1;32m~\\anaconda3\\lib\\site-packages\\numpy\\lib\\function_base.py\u001b[0m in \u001b[0;36mappend\u001b[1;34m(arr, values, axis)\u001b[0m\n\u001b[0;32m   4669\u001b[0m         \u001b[0mvalues\u001b[0m \u001b[1;33m=\u001b[0m \u001b[0mravel\u001b[0m\u001b[1;33m(\u001b[0m\u001b[0mvalues\u001b[0m\u001b[1;33m)\u001b[0m\u001b[1;33m\u001b[0m\u001b[1;33m\u001b[0m\u001b[0m\n\u001b[0;32m   4670\u001b[0m         \u001b[0maxis\u001b[0m \u001b[1;33m=\u001b[0m \u001b[0marr\u001b[0m\u001b[1;33m.\u001b[0m\u001b[0mndim\u001b[0m\u001b[1;33m-\u001b[0m\u001b[1;36m1\u001b[0m\u001b[1;33m\u001b[0m\u001b[1;33m\u001b[0m\u001b[0m\n\u001b[1;32m-> 4671\u001b[1;33m     \u001b[1;32mreturn\u001b[0m \u001b[0mconcatenate\u001b[0m\u001b[1;33m(\u001b[0m\u001b[1;33m(\u001b[0m\u001b[0marr\u001b[0m\u001b[1;33m,\u001b[0m \u001b[0mvalues\u001b[0m\u001b[1;33m)\u001b[0m\u001b[1;33m,\u001b[0m \u001b[0maxis\u001b[0m\u001b[1;33m=\u001b[0m\u001b[0maxis\u001b[0m\u001b[1;33m)\u001b[0m\u001b[1;33m\u001b[0m\u001b[1;33m\u001b[0m\u001b[0m\n\u001b[0m\u001b[0;32m   4672\u001b[0m \u001b[1;33m\u001b[0m\u001b[0m\n\u001b[0;32m   4673\u001b[0m \u001b[1;33m\u001b[0m\u001b[0m\n",
      "\u001b[1;32m<__array_function__ internals>\u001b[0m in \u001b[0;36mconcatenate\u001b[1;34m(*args, **kwargs)\u001b[0m\n",
      "\u001b[1;31mValueError\u001b[0m: all the input array dimensions for the concatenation axis must match exactly, but along dimension 0, the array at index 0 has size 2 and the array at index 1 has size 3"
     ]
    }
   ],
   "source": [
    "array1 = np.array([[2,1],\n",
    "                   [4,5]])\n",
    "array2 = np.array([[100],\n",
    "                   [200],\n",
    "                   [300]])\n",
    "\n",
    "np.append(array1,array2,axis=1)"
   ]
  },
  {
   "cell_type": "markdown",
   "id": "1404359d",
   "metadata": {},
   "source": [
    "# concatenate()"
   ]
  },
  {
   "cell_type": "raw",
   "id": "d68d7feb",
   "metadata": {},
   "source": [
    "concates the arrays along the axis"
   ]
  },
  {
   "cell_type": "markdown",
   "id": "c7dac176",
   "metadata": {},
   "source": [
    "#### for row_wise addition"
   ]
  },
  {
   "cell_type": "raw",
   "id": "c348a915",
   "metadata": {},
   "source": [
    "# number of columns in both arrays has to be equal"
   ]
  },
  {
   "cell_type": "code",
   "execution_count": 35,
   "id": "11e88167",
   "metadata": {},
   "outputs": [
    {
     "data": {
      "text/plain": [
       "array([[  2,   1],\n",
       "       [  4,   5],\n",
       "       [100, 200]])"
      ]
     },
     "execution_count": 35,
     "metadata": {},
     "output_type": "execute_result"
    }
   ],
   "source": [
    "array1 = np.array([[2,1],\n",
    "                   [4,5]])\n",
    "array2 = np.array([[100,200]])\n",
    "\n",
    "np.concatenate([array1,array2],axis=0)"
   ]
  },
  {
   "cell_type": "markdown",
   "id": "8fb4f581",
   "metadata": {},
   "source": [
    "#### for column wise addition"
   ]
  },
  {
   "cell_type": "raw",
   "id": "2d752ccd",
   "metadata": {},
   "source": [
    "# number of rows in both arrays has to be equal"
   ]
  },
  {
   "cell_type": "code",
   "execution_count": 40,
   "id": "fd956bda",
   "metadata": {},
   "outputs": [
    {
     "data": {
      "text/plain": [
       "array([[  2,   1, 100],\n",
       "       [  4,   5, 200]])"
      ]
     },
     "execution_count": 40,
     "metadata": {},
     "output_type": "execute_result"
    }
   ],
   "source": [
    "array1 = np.array([[2,1],\n",
    "                   [4,5]])\n",
    "array2 = np.array([[100],\n",
    "                   [200]])\n",
    "\n",
    "np.concatenate([array1,array2],axis=1)"
   ]
  },
  {
   "cell_type": "markdown",
   "id": "1bec5daf",
   "metadata": {},
   "source": [
    "# for loop"
   ]
  },
  {
   "cell_type": "code",
   "execution_count": 52,
   "id": "f5f2264a",
   "metadata": {},
   "outputs": [
    {
     "name": "stdout",
     "output_type": "stream",
     "text": [
      "2\n",
      "1\n",
      "4\n",
      "5\n",
      "7\n",
      "\n",
      "[  2   1 100]\n",
      "[  4   5 200]\n"
     ]
    }
   ],
   "source": [
    "array = np.array([2,1,4,5,7])\n",
    "arr2 = np.array([[  2,   1, 100],\n",
    "                 [  4,   5, 200]])\n",
    "\n",
    "for i in array:\n",
    "    print(i)\n",
    "print()    \n",
    "for i in arr2:\n",
    "    print(i)"
   ]
  },
  {
   "cell_type": "markdown",
   "id": "979f9bbb",
   "metadata": {},
   "source": [
    "## np.nditer()"
   ]
  },
  {
   "cell_type": "code",
   "execution_count": 55,
   "id": "7544e96e",
   "metadata": {},
   "outputs": [
    {
     "name": "stdout",
     "output_type": "stream",
     "text": [
      "2\n",
      "1\n",
      "4\n",
      "5\n",
      "7\n",
      "\n",
      "2\n",
      "1\n",
      "100\n",
      "4\n",
      "5\n",
      "200\n"
     ]
    }
   ],
   "source": [
    "for i in np.nditer(array):\n",
    "    print(i)\n",
    "    \n",
    "print()\n",
    "for i in np.nditer(arr2):\n",
    "    print(i)"
   ]
  },
  {
   "cell_type": "code",
   "execution_count": 47,
   "id": "c002d7b2",
   "metadata": {},
   "outputs": [
    {
     "name": "stdout",
     "output_type": "stream",
     "text": [
      "2\n",
      "1\n",
      "4\n",
      "5\n",
      "7\n"
     ]
    }
   ],
   "source": [
    "for i in range(0,len(array)):\n",
    "    print(array[i])"
   ]
  },
  {
   "cell_type": "code",
   "execution_count": 49,
   "id": "77a2e18e",
   "metadata": {},
   "outputs": [
    {
     "name": "stdout",
     "output_type": "stream",
     "text": [
      "2\n",
      "1\n",
      "4\n",
      "5\n",
      "7\n"
     ]
    }
   ],
   "source": []
  },
  {
   "cell_type": "markdown",
   "id": "89769edb",
   "metadata": {},
   "source": [
    "## np.ndenumerate()"
   ]
  },
  {
   "cell_type": "code",
   "execution_count": 58,
   "id": "f09481c9",
   "metadata": {},
   "outputs": [
    {
     "name": "stdout",
     "output_type": "stream",
     "text": [
      "0 2\n",
      "1 1\n",
      "2 4\n",
      "3 5\n",
      "4 7\n",
      "\n",
      "0 >> [  2   1 100]\n",
      "1 >> [  4   5 200]\n"
     ]
    }
   ],
   "source": [
    "array = np.array([2,1,4,5,7])\n",
    "arr2 = np.array([[  2,   1, 100],\n",
    "                 [  4,   5, 200]])\n",
    "\n",
    "for i,j in enumerate(array):\n",
    "    print(i,j)\n",
    "    \n",
    "print()\n",
    "for i,j in enumerate(arr2):\n",
    "    print(i,'>>',j)"
   ]
  },
  {
   "cell_type": "code",
   "execution_count": 59,
   "id": "7f5a36bb",
   "metadata": {},
   "outputs": [
    {
     "name": "stdout",
     "output_type": "stream",
     "text": [
      "(0,) 2\n",
      "(1,) 1\n",
      "(2,) 4\n",
      "(3,) 5\n",
      "(4,) 7\n",
      "\n",
      "(0, 0) 2\n",
      "(0, 1) 1\n",
      "(0, 2) 100\n",
      "(1, 0) 4\n",
      "(1, 1) 5\n",
      "(1, 2) 200\n"
     ]
    }
   ],
   "source": [
    "for index, value in np.ndenumerate(array):\n",
    "    print(index,value)\n",
    "    \n",
    "print()\n",
    "for index, value in np.ndenumerate(arr2):\n",
    "    print(index,value)"
   ]
  },
  {
   "cell_type": "markdown",
   "id": "51c35440",
   "metadata": {},
   "source": [
    "# ceil()"
   ]
  },
  {
   "cell_type": "raw",
   "id": "cde6c107",
   "metadata": {},
   "source": [
    "will yield out the maximum whole number that is closest to that decimal number"
   ]
  },
  {
   "cell_type": "code",
   "execution_count": 61,
   "id": "c835fe8d",
   "metadata": {},
   "outputs": [
    {
     "data": {
      "text/plain": [
       "3.0"
      ]
     },
     "execution_count": 61,
     "metadata": {},
     "output_type": "execute_result"
    }
   ],
   "source": [
    "x = 2.756\n",
    "np.ceil(x)"
   ]
  },
  {
   "cell_type": "code",
   "execution_count": 62,
   "id": "7d6c9c9e",
   "metadata": {},
   "outputs": [
    {
     "data": {
      "text/plain": [
       "-2.0"
      ]
     },
     "execution_count": 62,
     "metadata": {},
     "output_type": "execute_result"
    }
   ],
   "source": [
    "x = -2.756\n",
    "np.ceil(x)"
   ]
  },
  {
   "cell_type": "code",
   "execution_count": 63,
   "id": "c98e5941",
   "metadata": {},
   "outputs": [
    {
     "data": {
      "text/plain": [
       "3.0"
      ]
     },
     "execution_count": 63,
     "metadata": {},
     "output_type": "execute_result"
    }
   ],
   "source": [
    "x = 2.5\n",
    "np.ceil(x)"
   ]
  },
  {
   "cell_type": "code",
   "execution_count": 64,
   "id": "8977f330",
   "metadata": {},
   "outputs": [
    {
     "data": {
      "text/plain": [
       "3.0"
      ]
     },
     "execution_count": 64,
     "metadata": {},
     "output_type": "execute_result"
    }
   ],
   "source": [
    "x = 2.00000001\n",
    "np.ceil(x)"
   ]
  },
  {
   "cell_type": "code",
   "execution_count": 65,
   "id": "aae30dfd",
   "metadata": {},
   "outputs": [
    {
     "data": {
      "text/plain": [
       "array([-2.,  9.,  4.,  2.])"
      ]
     },
     "execution_count": 65,
     "metadata": {},
     "output_type": "execute_result"
    }
   ],
   "source": [
    "x = np.array([-2.574,9,4,2])\n",
    "np.ceil(x)"
   ]
  },
  {
   "cell_type": "code",
   "execution_count": 66,
   "id": "e1491df7",
   "metadata": {},
   "outputs": [
    {
     "data": {
      "text/plain": [
       "array([[-2.,  9.],\n",
       "       [ 5.,  2.]])"
      ]
     },
     "execution_count": 66,
     "metadata": {},
     "output_type": "execute_result"
    }
   ],
   "source": [
    "x = np.array([[-2.5,9],\n",
    "              [4.8,2]])\n",
    "np.ceil(x)"
   ]
  },
  {
   "cell_type": "markdown",
   "id": "92fb7d44",
   "metadata": {},
   "source": [
    "# floor"
   ]
  },
  {
   "cell_type": "raw",
   "id": "e6967f54",
   "metadata": {},
   "source": [
    "will yield out the minimum closest whole number to that decimal number"
   ]
  },
  {
   "cell_type": "code",
   "execution_count": 67,
   "id": "311528b8",
   "metadata": {},
   "outputs": [
    {
     "data": {
      "text/plain": [
       "2.0"
      ]
     },
     "execution_count": 67,
     "metadata": {},
     "output_type": "execute_result"
    }
   ],
   "source": [
    "x = 2.756\n",
    "np.floor(x)"
   ]
  },
  {
   "cell_type": "code",
   "execution_count": 68,
   "id": "d976f107",
   "metadata": {},
   "outputs": [
    {
     "data": {
      "text/plain": [
       "-3.0"
      ]
     },
     "execution_count": 68,
     "metadata": {},
     "output_type": "execute_result"
    }
   ],
   "source": [
    "x = -2.756\n",
    "np.floor(x)"
   ]
  },
  {
   "cell_type": "code",
   "execution_count": 69,
   "id": "fcb8b6d8",
   "metadata": {},
   "outputs": [
    {
     "data": {
      "text/plain": [
       "2.0"
      ]
     },
     "execution_count": 69,
     "metadata": {},
     "output_type": "execute_result"
    }
   ],
   "source": [
    "x = 2.5\n",
    "np.floor(x)"
   ]
  },
  {
   "cell_type": "code",
   "execution_count": 70,
   "id": "c640859c",
   "metadata": {},
   "outputs": [
    {
     "data": {
      "text/plain": [
       "2.0"
      ]
     },
     "execution_count": 70,
     "metadata": {},
     "output_type": "execute_result"
    }
   ],
   "source": [
    "x = 2.9999999\n",
    "np.floor(x)"
   ]
  },
  {
   "cell_type": "code",
   "execution_count": 71,
   "id": "90322b8d",
   "metadata": {},
   "outputs": [
    {
     "data": {
      "text/plain": [
       "array([[-3.,  9.],\n",
       "       [ 4.,  2.]])"
      ]
     },
     "execution_count": 71,
     "metadata": {},
     "output_type": "execute_result"
    }
   ],
   "source": [
    "x = np.array([[-2.5,9],\n",
    "              [4.8,2]])\n",
    "np.floor(x)"
   ]
  },
  {
   "cell_type": "markdown",
   "id": "eccb5498",
   "metadata": {},
   "source": [
    "# around()"
   ]
  },
  {
   "cell_type": "raw",
   "id": "25660f71",
   "metadata": {},
   "source": [
    "works exactly same as round function\n",
    "for decimal part less than pr equal to .5, it choses the closest minimum whole number & for otherwise it choses maximum closest whole number"
   ]
  },
  {
   "cell_type": "markdown",
   "id": "9ed8c334",
   "metadata": {},
   "source": [
    "#### round & around being used for rounding of to closest whole number"
   ]
  },
  {
   "cell_type": "code",
   "execution_count": 72,
   "id": "ac439c59",
   "metadata": {},
   "outputs": [
    {
     "data": {
      "text/plain": [
       "2"
      ]
     },
     "execution_count": 72,
     "metadata": {},
     "output_type": "execute_result"
    }
   ],
   "source": [
    "round(2.2)"
   ]
  },
  {
   "cell_type": "code",
   "execution_count": 73,
   "id": "c4b16bcc",
   "metadata": {},
   "outputs": [
    {
     "data": {
      "text/plain": [
       "2.0"
      ]
     },
     "execution_count": 73,
     "metadata": {},
     "output_type": "execute_result"
    }
   ],
   "source": [
    "np.around(2.2)"
   ]
  },
  {
   "cell_type": "code",
   "execution_count": 74,
   "id": "586bb71e",
   "metadata": {},
   "outputs": [
    {
     "data": {
      "text/plain": [
       "3"
      ]
     },
     "execution_count": 74,
     "metadata": {},
     "output_type": "execute_result"
    }
   ],
   "source": [
    "round(2.8)"
   ]
  },
  {
   "cell_type": "code",
   "execution_count": 75,
   "id": "fa2cbd0e",
   "metadata": {},
   "outputs": [
    {
     "data": {
      "text/plain": [
       "3.0"
      ]
     },
     "execution_count": 75,
     "metadata": {},
     "output_type": "execute_result"
    }
   ],
   "source": [
    "np.around(2.8)"
   ]
  },
  {
   "cell_type": "code",
   "execution_count": 76,
   "id": "c9e4f235",
   "metadata": {},
   "outputs": [
    {
     "data": {
      "text/plain": [
       "2"
      ]
     },
     "execution_count": 76,
     "metadata": {},
     "output_type": "execute_result"
    }
   ],
   "source": [
    "round(2.5)"
   ]
  },
  {
   "cell_type": "code",
   "execution_count": 79,
   "id": "5fa3c0b4",
   "metadata": {},
   "outputs": [
    {
     "data": {
      "text/plain": [
       "2.0"
      ]
     },
     "execution_count": 79,
     "metadata": {},
     "output_type": "execute_result"
    }
   ],
   "source": [
    "np.around(2.5)"
   ]
  },
  {
   "cell_type": "code",
   "execution_count": 81,
   "id": "7e54a478",
   "metadata": {},
   "outputs": [
    {
     "data": {
      "text/plain": [
       "array([[ 2., -7.],\n",
       "       [ 9., -1.]])"
      ]
     },
     "execution_count": 81,
     "metadata": {},
     "output_type": "execute_result"
    }
   ],
   "source": [
    "x = [[2.5, -6.7],\n",
    "     [8.9, -1.4]]\n",
    "np.around(x)"
   ]
  },
  {
   "cell_type": "markdown",
   "id": "a54bdee5",
   "metadata": {},
   "source": [
    "#### round & around being used for rounding off to specific decimals"
   ]
  },
  {
   "cell_type": "code",
   "execution_count": 82,
   "id": "01d7fbac",
   "metadata": {},
   "outputs": [
    {
     "data": {
      "text/plain": [
       "3.44"
      ]
     },
     "execution_count": 82,
     "metadata": {},
     "output_type": "execute_result"
    }
   ],
   "source": [
    "round(3.4394623948,2)"
   ]
  },
  {
   "cell_type": "code",
   "execution_count": 84,
   "id": "413a7d1a",
   "metadata": {},
   "outputs": [
    {
     "data": {
      "text/plain": [
       "3.44"
      ]
     },
     "execution_count": 84,
     "metadata": {},
     "output_type": "execute_result"
    }
   ],
   "source": [
    "np.around(3.4394623948,2)"
   ]
  },
  {
   "cell_type": "code",
   "execution_count": 86,
   "id": "a6bcdf92",
   "metadata": {},
   "outputs": [
    {
     "data": {
      "text/plain": [
       "array([[ 2.521, -6.73 ],\n",
       "       [ 8.933, -1.44 ]])"
      ]
     },
     "execution_count": 86,
     "metadata": {},
     "output_type": "execute_result"
    }
   ],
   "source": [
    "x = [[2.52083, -6.7300874],\n",
    "     [8.93279, -1.4397439]]\n",
    "\n",
    "x = np.around(x,3)\n",
    "x"
   ]
  },
  {
   "cell_type": "markdown",
   "id": "375432b5",
   "metadata": {},
   "source": [
    "# copy & deepcopy"
   ]
  },
  {
   "cell_type": "raw",
   "id": "c200740d",
   "metadata": {},
   "source": [
    "# for numpy array copy & deepcopy both works the same as deepcopy"
   ]
  },
  {
   "cell_type": "code",
   "execution_count": 93,
   "id": "2913dc43",
   "metadata": {},
   "outputs": [
    {
     "name": "stdout",
     "output_type": "stream",
     "text": [
      "[[ 2.52083   -6.7300874]\n",
      " [ 8.93279   -1.4397439]]\n",
      "[[100.         -6.7300874]\n",
      " [  8.93279    -1.4397439]]\n"
     ]
    }
   ],
   "source": [
    "x = np.array([[2.52083, -6.7300874],\n",
    "              [8.93279, -1.4397439]])\n",
    "\n",
    "y = np.copy(x)\n",
    "y[0,0]=100\n",
    "print(x)\n",
    "print(y)"
   ]
  },
  {
   "cell_type": "code",
   "execution_count": 94,
   "id": "24f3f232",
   "metadata": {},
   "outputs": [
    {
     "name": "stdout",
     "output_type": "stream",
     "text": [
      "[[ 2.52083   -6.7300874]\n",
      " [ 8.93279   -1.4397439]]\n",
      "[[100.         -6.7300874]\n",
      " [  8.93279    -1.4397439]]\n"
     ]
    }
   ],
   "source": [
    "x = np.array([[2.52083, -6.7300874],\n",
    "              [8.93279, -1.4397439]])\n",
    "\n",
    "y = x.copy()\n",
    "y[0,0]=100\n",
    "print(x)\n",
    "print(y)"
   ]
  },
  {
   "cell_type": "code",
   "execution_count": 95,
   "id": "c0b89b36",
   "metadata": {},
   "outputs": [
    {
     "name": "stdout",
     "output_type": "stream",
     "text": [
      "[[ 2.52083   -6.7300874]\n",
      " [ 8.93279   -1.4397439]]\n",
      "[[100.         -6.7300874]\n",
      " [  8.93279    -1.4397439]]\n"
     ]
    }
   ],
   "source": [
    "from copy import copy\n",
    "x = np.array([[2.52083, -6.7300874],\n",
    "              [8.93279, -1.4397439]])\n",
    "\n",
    "y = copy(x)\n",
    "y[0,0]=100\n",
    "print(x)\n",
    "print(y)"
   ]
  },
  {
   "cell_type": "markdown",
   "id": "53352ca6",
   "metadata": {},
   "source": [
    "# np.where()"
   ]
  },
  {
   "cell_type": "raw",
   "id": "2dd8af84",
   "metadata": {},
   "source": [
    "# it returns the index of values that meet the given condition"
   ]
  },
  {
   "cell_type": "code",
   "execution_count": 96,
   "id": "800e68fd",
   "metadata": {},
   "outputs": [
    {
     "data": {
      "text/plain": [
       "(array([2, 3, 4], dtype=int64),)"
      ]
     },
     "execution_count": 96,
     "metadata": {},
     "output_type": "execute_result"
    }
   ],
   "source": [
    "arr = np.array([2,3,5,8,5,1,0])\n",
    "np.where(arr>4)"
   ]
  },
  {
   "cell_type": "code",
   "execution_count": 97,
   "id": "1d0b2254",
   "metadata": {},
   "outputs": [
    {
     "data": {
      "text/plain": [
       "(array([2, 4], dtype=int64),)"
      ]
     },
     "execution_count": 97,
     "metadata": {},
     "output_type": "execute_result"
    }
   ],
   "source": [
    "arr = np.array([2,3,5,8,5,1,0])\n",
    "np.where(arr==5)"
   ]
  },
  {
   "cell_type": "code",
   "execution_count": 104,
   "id": "1e8a5eea",
   "metadata": {},
   "outputs": [
    {
     "name": "stdout",
     "output_type": "stream",
     "text": [
      "indexes that meet condition are:  (array([0, 3, 6], dtype=int64),)\n",
      "values in array that meet conditions are  [2 8 0]\n"
     ]
    }
   ],
   "source": [
    "arr = np.array([2,3,5,8,5,1,0])\n",
    "print('indexes that meet condition are: ',np.where(arr%2==0))\n",
    "print('values in array that meet conditions are ',arr[np.where(arr%)]2==0)"
   ]
  },
  {
   "cell_type": "code",
   "execution_count": 100,
   "id": "6d423d87",
   "metadata": {},
   "outputs": [
    {
     "data": {
      "text/plain": [
       "array([2, 8, 0])"
      ]
     },
     "execution_count": 100,
     "metadata": {},
     "output_type": "execute_result"
    }
   ],
   "source": [
    "np.array([i for i in np.nditer(arr) if i%2==0])"
   ]
  },
  {
   "cell_type": "markdown",
   "id": "54a55952",
   "metadata": {},
   "source": [
    "### replacing values in array using np.where function"
   ]
  },
  {
   "cell_type": "raw",
   "id": "d6a16185",
   "metadata": {},
   "source": [
    "Syntax:\n",
    "    np.where(condition,if meets,if does not meet)\n",
    "    np.where(condition,True,False)\n",
    "    output are the elements of the array & not the indices"
   ]
  },
  {
   "cell_type": "code",
   "execution_count": 120,
   "id": "16e7424e",
   "metadata": {},
   "outputs": [
    {
     "data": {
      "text/plain": [
       "array(['odd', 'even', 'odd', 'even', 'odd', 'even'], dtype='<U4')"
      ]
     },
     "execution_count": 120,
     "metadata": {},
     "output_type": "execute_result"
    }
   ],
   "source": [
    "arr = np.array([1,2,3,4,5,6])\n",
    "\n",
    "arr = np.where(arr%2==0,'even','odd')\n",
    "arr"
   ]
  },
  {
   "cell_type": "code",
   "execution_count": 119,
   "id": "36739bb7",
   "metadata": {},
   "outputs": [
    {
     "data": {
      "text/plain": [
       "array(['sachin', 'sehvag', '10dulkar'], dtype='<U9')"
      ]
     },
     "execution_count": 119,
     "metadata": {},
     "output_type": "execute_result"
    }
   ],
   "source": [
    "players = np.array(['sachin','sehvag','tendulkar'])\n",
    "\n",
    "np.where(players=='tendulkar','10dulkar',players)"
   ]
  },
  {
   "cell_type": "code",
   "execution_count": 122,
   "id": "888c879f",
   "metadata": {},
   "outputs": [
    {
     "data": {
      "text/plain": [
       "array([0, 2, 3, 0, 5, 6, 3, 0, 0])"
      ]
     },
     "execution_count": 122,
     "metadata": {},
     "output_type": "execute_result"
    }
   ],
   "source": [
    "arr = np.array([-1,2,3,-4,5,6,3,-2,0])\n",
    "np.where(arr<0,0,arr)"
   ]
  },
  {
   "cell_type": "code",
   "execution_count": 125,
   "id": "38718c58",
   "metadata": {},
   "outputs": [],
   "source": [
    "array = np.array([0, 2, 3, 0, 5, 6, 3, 0, 0])\n",
    "\n",
    "df1 = pd.DataFrame(array,columns={'values'})\n",
    "df1.to_csv('df1.csv')\n",
    "\n",
    "array2 = np.where(array==0,np.NaN,array)\n",
    "array2\n",
    "\n",
    "df2 = pd.DataFrame(array2,columns={'VALUES'})\n",
    "df2.to_csv('df2.csv')"
   ]
  },
  {
   "cell_type": "code",
   "execution_count": 117,
   "id": "88a46a94",
   "metadata": {},
   "outputs": [
    {
     "data": {
      "text/html": [
       "<div>\n",
       "<style scoped>\n",
       "    .dataframe tbody tr th:only-of-type {\n",
       "        vertical-align: middle;\n",
       "    }\n",
       "\n",
       "    .dataframe tbody tr th {\n",
       "        vertical-align: top;\n",
       "    }\n",
       "\n",
       "    .dataframe thead th {\n",
       "        text-align: right;\n",
       "    }\n",
       "</style>\n",
       "<table border=\"1\" class=\"dataframe\">\n",
       "  <thead>\n",
       "    <tr style=\"text-align: right;\">\n",
       "      <th></th>\n",
       "      <th>values</th>\n",
       "    </tr>\n",
       "  </thead>\n",
       "  <tbody>\n",
       "    <tr>\n",
       "      <th>2</th>\n",
       "      <td>5</td>\n",
       "    </tr>\n",
       "    <tr>\n",
       "      <th>4</th>\n",
       "      <td>5</td>\n",
       "    </tr>\n",
       "  </tbody>\n",
       "</table>\n",
       "</div>"
      ],
      "text/plain": [
       "   values\n",
       "2       5\n",
       "4       5"
      ]
     },
     "execution_count": 117,
     "metadata": {},
     "output_type": "execute_result"
    }
   ],
   "source": [
    "arr = np.array([2,3,5,8,5,1,0])\n",
    "import pandas as pd\n",
    "df = pd.DataFrame(arr,columns={'values'})\n",
    "df.loc[np.where(df['values']==5)]"
   ]
  },
  {
   "cell_type": "code",
   "execution_count": 111,
   "id": "821ba501",
   "metadata": {},
   "outputs": [
    {
     "data": {
      "text/html": [
       "<div>\n",
       "<style scoped>\n",
       "    .dataframe tbody tr th:only-of-type {\n",
       "        vertical-align: middle;\n",
       "    }\n",
       "\n",
       "    .dataframe tbody tr th {\n",
       "        vertical-align: top;\n",
       "    }\n",
       "\n",
       "    .dataframe thead th {\n",
       "        text-align: right;\n",
       "    }\n",
       "</style>\n",
       "<table border=\"1\" class=\"dataframe\">\n",
       "  <thead>\n",
       "    <tr style=\"text-align: right;\">\n",
       "      <th></th>\n",
       "      <th>values</th>\n",
       "    </tr>\n",
       "  </thead>\n",
       "  <tbody>\n",
       "    <tr>\n",
       "      <th>2</th>\n",
       "      <td>5</td>\n",
       "    </tr>\n",
       "    <tr>\n",
       "      <th>4</th>\n",
       "      <td>5</td>\n",
       "    </tr>\n",
       "  </tbody>\n",
       "</table>\n",
       "</div>"
      ],
      "text/plain": [
       "   values\n",
       "2       5\n",
       "4       5"
      ]
     },
     "execution_count": 111,
     "metadata": {},
     "output_type": "execute_result"
    }
   ],
   "source": [
    "df[df['values']==5]"
   ]
  },
  {
   "cell_type": "code",
   "execution_count": 118,
   "id": "51d8686f",
   "metadata": {
    "collapsed": true
   },
   "outputs": [
    {
     "data": {
      "text/html": [
       "<div>\n",
       "<style scoped>\n",
       "    .dataframe tbody tr th:only-of-type {\n",
       "        vertical-align: middle;\n",
       "    }\n",
       "\n",
       "    .dataframe tbody tr th {\n",
       "        vertical-align: top;\n",
       "    }\n",
       "\n",
       "    .dataframe thead th {\n",
       "        text-align: right;\n",
       "    }\n",
       "</style>\n",
       "<table border=\"1\" class=\"dataframe\">\n",
       "  <thead>\n",
       "    <tr style=\"text-align: right;\">\n",
       "      <th></th>\n",
       "      <th>values</th>\n",
       "    </tr>\n",
       "  </thead>\n",
       "  <tbody>\n",
       "    <tr>\n",
       "      <th>0</th>\n",
       "      <td>False</td>\n",
       "    </tr>\n",
       "    <tr>\n",
       "      <th>1</th>\n",
       "      <td>False</td>\n",
       "    </tr>\n",
       "    <tr>\n",
       "      <th>2</th>\n",
       "      <td>True</td>\n",
       "    </tr>\n",
       "    <tr>\n",
       "      <th>3</th>\n",
       "      <td>False</td>\n",
       "    </tr>\n",
       "    <tr>\n",
       "      <th>4</th>\n",
       "      <td>True</td>\n",
       "    </tr>\n",
       "    <tr>\n",
       "      <th>5</th>\n",
       "      <td>False</td>\n",
       "    </tr>\n",
       "    <tr>\n",
       "      <th>6</th>\n",
       "      <td>False</td>\n",
       "    </tr>\n",
       "  </tbody>\n",
       "</table>\n",
       "</div>"
      ],
      "text/plain": [
       "   values\n",
       "0   False\n",
       "1   False\n",
       "2    True\n",
       "3   False\n",
       "4    True\n",
       "5   False\n",
       "6   False"
      ]
     },
     "execution_count": 118,
     "metadata": {},
     "output_type": "execute_result"
    }
   ],
   "source": [
    "df['values'] = np.where(df['values']==5,True,False)\n",
    "df"
   ]
  },
  {
   "cell_type": "markdown",
   "id": "cf803ab2",
   "metadata": {},
   "source": [
    "#### argwhere functions"
   ]
  },
  {
   "cell_type": "raw",
   "id": "e40f0501",
   "metadata": {},
   "source": [
    "returns the indices of the values that meets the condition in the array"
   ]
  },
  {
   "cell_type": "code",
   "execution_count": 130,
   "id": "88426eeb",
   "metadata": {},
   "outputs": [
    {
     "data": {
      "text/plain": [
       "array([[0],\n",
       "       [1],\n",
       "       [2],\n",
       "       [4],\n",
       "       [5],\n",
       "       [6]], dtype=int64)"
      ]
     },
     "execution_count": 130,
     "metadata": {},
     "output_type": "execute_result"
    }
   ],
   "source": [
    "import numpy as np\n",
    "arr = np.array([9,5,3,1,7,8,4])\n",
    "np.argwhere(arr>2)"
   ]
  },
  {
   "cell_type": "code",
   "execution_count": 131,
   "id": "079475eb",
   "metadata": {},
   "outputs": [
    {
     "data": {
      "text/plain": [
       "array([9, 5, 3, 7, 8, 4])"
      ]
     },
     "execution_count": 131,
     "metadata": {},
     "output_type": "execute_result"
    }
   ],
   "source": [
    "(arr[np.argwhere(arr>2)]).flatten()"
   ]
  },
  {
   "cell_type": "markdown",
   "id": "c50e50e2",
   "metadata": {},
   "source": [
    "# Size() & Shape()"
   ]
  },
  {
   "cell_type": "code",
   "execution_count": 133,
   "id": "bc76509c",
   "metadata": {},
   "outputs": [
    {
     "data": {
      "text/plain": [
       "7"
      ]
     },
     "execution_count": 133,
     "metadata": {},
     "output_type": "execute_result"
    }
   ],
   "source": [
    "arr = np.array([9,5,3,1,7,8,4])\n",
    "np.size(arr)"
   ]
  },
  {
   "cell_type": "code",
   "execution_count": 144,
   "id": "4adfbced",
   "metadata": {},
   "outputs": [
    {
     "name": "stdout",
     "output_type": "stream",
     "text": [
      "3\n",
      "(3, 3)\n"
     ]
    },
    {
     "data": {
      "text/plain": [
       "9"
      ]
     },
     "execution_count": 144,
     "metadata": {},
     "output_type": "execute_result"
    }
   ],
   "source": [
    "arr = np.array([[9,5,3],[1,7,8],[4,7,8]])\n",
    "print(len(arr))\n",
    "print(np.shape(arr))\n",
    "np.size(arr)"
   ]
  },
  {
   "cell_type": "markdown",
   "id": "7080730f",
   "metadata": {},
   "source": [
    "# statistical functions"
   ]
  },
  {
   "cell_type": "raw",
   "id": "1f991604",
   "metadata": {},
   "source": [
    "min,max,mean,avergae,median,mode,sum,len,std,var"
   ]
  },
  {
   "cell_type": "code",
   "execution_count": 135,
   "id": "a5e538a0",
   "metadata": {},
   "outputs": [
    {
     "data": {
      "text/plain": [
       "1"
      ]
     },
     "execution_count": 135,
     "metadata": {},
     "output_type": "execute_result"
    }
   ],
   "source": [
    "arr = np.array([9,5,3,1,7,8,4])\n",
    "np.min(arr)"
   ]
  },
  {
   "cell_type": "code",
   "execution_count": 136,
   "id": "b1415138",
   "metadata": {},
   "outputs": [
    {
     "data": {
      "text/plain": [
       "9"
      ]
     },
     "execution_count": 136,
     "metadata": {},
     "output_type": "execute_result"
    }
   ],
   "source": [
    "arr = np.array([9,5,3,1,7,8,4])\n",
    "np.max(arr)"
   ]
  },
  {
   "cell_type": "code",
   "execution_count": 137,
   "id": "9312e14e",
   "metadata": {},
   "outputs": [
    {
     "data": {
      "text/plain": [
       "37"
      ]
     },
     "execution_count": 137,
     "metadata": {},
     "output_type": "execute_result"
    }
   ],
   "source": [
    "arr = np.array([9,5,3,1,7,8,4])\n",
    "np.sum(arr)"
   ]
  },
  {
   "cell_type": "code",
   "execution_count": 138,
   "id": "85ab3785",
   "metadata": {},
   "outputs": [
    {
     "data": {
      "text/plain": [
       "5.285714285714286"
      ]
     },
     "execution_count": 138,
     "metadata": {},
     "output_type": "execute_result"
    }
   ],
   "source": [
    "arr = np.array([9,5,3,1,7,8,4])\n",
    "np.mean(arr)"
   ]
  },
  {
   "cell_type": "code",
   "execution_count": 139,
   "id": "8dc663fd",
   "metadata": {},
   "outputs": [
    {
     "data": {
      "text/plain": [
       "5.285714285714286"
      ]
     },
     "execution_count": 139,
     "metadata": {},
     "output_type": "execute_result"
    }
   ],
   "source": [
    "arr = np.array([9,5,3,1,7,8,4])\n",
    "np.average(arr)"
   ]
  },
  {
   "cell_type": "code",
   "execution_count": 140,
   "id": "1ca84b11",
   "metadata": {},
   "outputs": [
    {
     "data": {
      "text/plain": [
       "5.0"
      ]
     },
     "execution_count": 140,
     "metadata": {},
     "output_type": "execute_result"
    }
   ],
   "source": [
    "arr = np.array([9,5,3,1,7,8,4])\n",
    "np.median(arr)"
   ]
  },
  {
   "cell_type": "code",
   "execution_count": 141,
   "id": "4a3a5773",
   "metadata": {},
   "outputs": [
    {
     "data": {
      "text/plain": [
       "2.657296462534039"
      ]
     },
     "execution_count": 141,
     "metadata": {},
     "output_type": "execute_result"
    }
   ],
   "source": [
    "arr = np.array([9,5,3,1,7,8,4])\n",
    "np.std(arr)"
   ]
  },
  {
   "attachments": {
    "image.png": {
     "image/png": "[encoded data removed]"
    }
   },
   "cell_type": "markdown",
   "id": "878b95b3",
   "metadata": {},
   "source": [
    "![image.png](attachment:image.png)]"
   ]
  },
  {
   "cell_type": "code",
   "execution_count": 142,
   "id": "2c59a230",
   "metadata": {},
   "outputs": [
    {
     "data": {
      "text/plain": [
       "7.061224489795918"
      ]
     },
     "execution_count": 142,
     "metadata": {},
     "output_type": "execute_result"
    }
   ],
   "source": [
    "arr = np.array([9,5,3,1,7,8,4])\n",
    "np.var(arr)"
   ]
  },
  {
   "attachments": {
    "image-2.png": {
     "image/png": "[encoded data removed]"
    }
   },
   "cell_type": "markdown",
   "id": "4b7d019c",
   "metadata": {},
   "source": [
    "![image-2.png](attachment:image-2.png)"
   ]
  },
  {
   "cell_type": "code",
   "execution_count": 145,
   "id": "9967d89f",
   "metadata": {},
   "outputs": [
    {
     "data": {
      "text/plain": [
       "3"
      ]
     },
     "execution_count": 145,
     "metadata": {},
     "output_type": "execute_result"
    }
   ],
   "source": [
    "np.shape(arr)[0]  # equivalent to len function"
   ]
  },
  {
   "cell_type": "code",
   "execution_count": null,
   "id": "50076b93",
   "metadata": {},
   "outputs": [],
   "source": []
  }
 ],
 "metadata": {
  "kernelspec": {
   "display_name": "Python 3",
   "language": "python",
   "name": "python3"
  },
  "language_info": {
   "codemirror_mode": {
    "name": "ipython",
    "version": 3
   },
   "file_extension": ".py",
   "mimetype": "text/x-python",
   "name": "python",
   "nbconvert_exporter": "python",
   "pygments_lexer": "ipython3",
   "version": "3.8.8"
  },
  "toc": {
   "base_numbering": 1,
   "nav_menu": {},
   "number_sections": true,
   "sideBar": true,
   "skip_h1_title": false,
   "title_cell": "Table of Contents",
   "title_sidebar": "Contents",
   "toc_cell": false,
   "toc_position": {},
   "toc_section_display": true,
   "toc_window_display": false
  },
  "varInspector": {
   "cols": {
    "lenName": 16,
    "lenType": 16,
    "lenVar": 40
   },
   "kernels_config": {
    "python": {
     "delete_cmd_postfix": "",
     "delete_cmd_prefix": "del ",
     "library": "var_list.py",
     "varRefreshCmd": "print(var_dic_list())"
    },
    "r": {
     "delete_cmd_postfix": ") ",
     "delete_cmd_prefix": "rm(",
     "library": "var_list.r",
     "varRefreshCmd": "cat(var_dic_list()) "
    }
   },
   "types_to_exclude": [
    "module",
    "function",
    "builtin_function_or_method",
    "instance",
    "_Feature"
   ],
   "window_display": false
  }
 },
 "nbformat": 4,
 "nbformat_minor": 5
}
