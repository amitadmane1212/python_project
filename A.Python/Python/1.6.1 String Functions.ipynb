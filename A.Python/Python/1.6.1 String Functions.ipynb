{
 "cells": [
  {
   "cell_type": "markdown",
   "id": "c2ca8f2a",
   "metadata": {},
   "source": [
    "# Capitalise"
   ]
  },
  {
   "cell_type": "raw",
   "id": "951b97c2",
   "metadata": {},
   "source": [
    "It capitalizes the very 1st letter. Letter on 0th index only."
   ]
  },
  {
   "cell_type": "code",
   "execution_count": 4,
   "id": "80c88cea",
   "metadata": {},
   "outputs": [
    {
     "data": {
      "text/plain": [
       "'Python is intresting.'"
      ]
     },
     "execution_count": 4,
     "metadata": {},
     "output_type": "execute_result"
    }
   ],
   "source": [
    "String = 'python is intresting.'\n",
    "\n",
    "String.capitalize()"
   ]
  },
  {
   "cell_type": "code",
   "execution_count": 6,
   "id": "c78f46ee",
   "metadata": {},
   "outputs": [],
   "source": [
    "String = String.capitalize()"
   ]
  },
  {
   "cell_type": "code",
   "execution_count": 7,
   "id": "cb73421e",
   "metadata": {},
   "outputs": [
    {
     "data": {
      "text/plain": [
       "'Python is intresting.'"
      ]
     },
     "execution_count": 7,
     "metadata": {},
     "output_type": "execute_result"
    }
   ],
   "source": [
    "String"
   ]
  },
  {
   "cell_type": "markdown",
   "id": "34973505",
   "metadata": {},
   "source": [
    "# Upper"
   ]
  },
  {
   "cell_type": "raw",
   "id": "c6c60520",
   "metadata": {},
   "source": [
    "It will convert the entire string in uppercase"
   ]
  },
  {
   "cell_type": "code",
   "execution_count": 8,
   "id": "afff388f",
   "metadata": {},
   "outputs": [
    {
     "data": {
      "text/plain": [
       "'PYTHON IS INTRESTING'"
      ]
     },
     "execution_count": 8,
     "metadata": {},
     "output_type": "execute_result"
    }
   ],
   "source": [
    "string = 'python is intresting'\n",
    "string.upper()"
   ]
  },
  {
   "cell_type": "code",
   "execution_count": 13,
   "id": "c77245cc",
   "metadata": {},
   "outputs": [
    {
     "data": {
      "text/plain": [
       "'PYTHON 3.9 IS INTRESTING $$$'"
      ]
     },
     "execution_count": 13,
     "metadata": {},
     "output_type": "execute_result"
    }
   ],
   "source": [
    "string = 'Python 3.9 is intresting $$$'\n",
    "string.upper()"
   ]
  },
  {
   "cell_type": "markdown",
   "id": "e36b04d0",
   "metadata": {},
   "source": [
    "# Lower()"
   ]
  },
  {
   "cell_type": "raw",
   "id": "06d734d0",
   "metadata": {},
   "source": [
    "it converts the entire string into lowercase"
   ]
  },
  {
   "cell_type": "code",
   "execution_count": 10,
   "id": "bd0a371f",
   "metadata": {},
   "outputs": [
    {
     "data": {
      "text/plain": [
       "'python is intresting'"
      ]
     },
     "execution_count": 10,
     "metadata": {},
     "output_type": "execute_result"
    }
   ],
   "source": [
    "string = 'Python is intresting'\n",
    "string.lower()"
   ]
  },
  {
   "cell_type": "code",
   "execution_count": 12,
   "id": "391d66e6",
   "metadata": {},
   "outputs": [
    {
     "data": {
      "text/plain": [
       "'python 3.9 is intresting $$$'"
      ]
     },
     "execution_count": 12,
     "metadata": {},
     "output_type": "execute_result"
    }
   ],
   "source": [
    "string = 'PYTHON 3.9 IS INTRESTING $$$'\n",
    "string.lower()"
   ]
  },
  {
   "cell_type": "markdown",
   "id": "df28e2de",
   "metadata": {},
   "source": [
    "# Title()"
   ]
  },
  {
   "cell_type": "raw",
   "id": "457a97ef",
   "metadata": {},
   "source": [
    "It converts every 1st letter/ starting charcter of the word into uppercase"
   ]
  },
  {
   "cell_type": "code",
   "execution_count": 14,
   "id": "de879829",
   "metadata": {},
   "outputs": [
    {
     "data": {
      "text/plain": [
       "'Python 3.9 Is Intresting $$$'"
      ]
     },
     "execution_count": 14,
     "metadata": {},
     "output_type": "execute_result"
    }
   ],
   "source": [
    "string = 'PYTHON 3.9 IS INTRESTING $$$'\n",
    "string.title()"
   ]
  },
  {
   "cell_type": "code",
   "execution_count": 15,
   "id": "c866e572",
   "metadata": {},
   "outputs": [
    {
     "data": {
      "text/plain": [
       "' India Is My Country. All Indians Are My Borthers & Sisters!'"
      ]
     },
     "execution_count": 15,
     "metadata": {},
     "output_type": "execute_result"
    }
   ],
   "source": [
    "string = 'India is my country. All Indians are my borthers & sisters!'\n",
    "string.title()"
   ]
  },
  {
   "cell_type": "markdown",
   "id": "1ab96254",
   "metadata": {},
   "source": [
    "# Strip"
   ]
  },
  {
   "cell_type": "raw",
   "id": "89564f2a",
   "metadata": {},
   "source": [
    "It removes additional spaces from the begennning & thee end of the string."
   ]
  },
  {
   "cell_type": "code",
   "execution_count": 32,
   "id": "9b158f10",
   "metadata": {},
   "outputs": [
    {
     "data": {
      "text/plain": [
       "'India is my country. All Indians are my borthers & sisters!  &'"
      ]
     },
     "execution_count": 32,
     "metadata": {},
     "output_type": "execute_result"
    }
   ],
   "source": [
    "string = '     India is my country. All Indians are my borthers & sisters!      '\n",
    "string.strip()"
   ]
  },
  {
   "cell_type": "code",
   "execution_count": 19,
   "id": "e9ef8e68",
   "metadata": {},
   "outputs": [
    {
     "data": {
      "text/plain": [
       "'Python'"
      ]
     },
     "execution_count": 19,
     "metadata": {},
     "output_type": "execute_result"
    }
   ],
   "source": [
    "raw_data = '                python    '\n",
    "raw_data.strip().title()"
   ]
  },
  {
   "cell_type": "code",
   "execution_count": 20,
   "id": "3fae4ffd",
   "metadata": {},
   "outputs": [
    {
     "data": {
      "text/plain": [
       "'python'"
      ]
     },
     "execution_count": 20,
     "metadata": {},
     "output_type": "execute_result"
    }
   ],
   "source": [
    "raw_data = '                python    '\n",
    "raw_data.strip().title()"
   ]
  },
  {
   "cell_type": "code",
   "execution_count": 21,
   "id": "015396d9",
   "metadata": {},
   "outputs": [
    {
     "data": {
      "text/plain": [
       "'python'"
      ]
     },
     "execution_count": 21,
     "metadata": {},
     "output_type": "execute_result"
    }
   ],
   "source": [
    "raw_data = 'python    '\n",
    "raw_data.strip()"
   ]
  },
  {
   "cell_type": "markdown",
   "id": "61ec567e",
   "metadata": {},
   "source": [
    "# lstrip()"
   ]
  },
  {
   "cell_type": "code",
   "execution_count": null,
   "id": "87d30c8d",
   "metadata": {},
   "outputs": [],
   "source": [
    "strips the sapces in the begennning of the string & not thee end."
   ]
  },
  {
   "cell_type": "code",
   "execution_count": 33,
   "id": "3c27db0a",
   "metadata": {},
   "outputs": [
    {
     "data": {
      "text/plain": [
       "'&   India is my country. All Indians are my borthers & sisters!   $  '"
      ]
     },
     "execution_count": 33,
     "metadata": {},
     "output_type": "execute_result"
    }
   ],
   "source": [
    "string = '     India is my country. All Indians are my borthers & sisters!     '\n",
    "string.lstrip()"
   ]
  },
  {
   "cell_type": "code",
   "execution_count": 24,
   "id": "2a07a0a0",
   "metadata": {},
   "outputs": [
    {
     "data": {
      "text/plain": [
       "'Python'"
      ]
     },
     "execution_count": 24,
     "metadata": {},
     "output_type": "execute_result"
    }
   ],
   "source": [
    "raw_data = '                python'\n",
    "raw_data.lstrip().title()"
   ]
  },
  {
   "cell_type": "code",
   "execution_count": 25,
   "id": "23c368e1",
   "metadata": {},
   "outputs": [
    {
     "data": {
      "text/plain": [
       "'Python        '"
      ]
     },
     "execution_count": 25,
     "metadata": {},
     "output_type": "execute_result"
    }
   ],
   "source": [
    "raw_data = 'python        '\n",
    "raw_data.lstrip().title()"
   ]
  },
  {
   "cell_type": "markdown",
   "id": "4803604f",
   "metadata": {},
   "source": [
    "# rstrip"
   ]
  },
  {
   "cell_type": "code",
   "execution_count": null,
   "id": "b12c8413",
   "metadata": {},
   "outputs": [],
   "source": [
    "strips the spaces from the end of the string."
   ]
  },
  {
   "cell_type": "code",
   "execution_count": 34,
   "id": "d682e3e8",
   "metadata": {},
   "outputs": [
    {
     "data": {
      "text/plain": [
       "'     India is my country. All Indians are my borthers & sisters!   %'"
      ]
     },
     "execution_count": 34,
     "metadata": {},
     "output_type": "execute_result"
    }
   ],
   "source": [
    "string = '     India is my country. All Indians are my borthers & sisters!     '\n",
    "string.rstrip()"
   ]
  },
  {
   "cell_type": "code",
   "execution_count": 35,
   "id": "06b154d6",
   "metadata": {},
   "outputs": [
    {
     "data": {
      "text/plain": [
       "'                python'"
      ]
     },
     "execution_count": 35,
     "metadata": {},
     "output_type": "execute_result"
    }
   ],
   "source": [
    "raw_data = '                python'\n",
    "raw_data.rstrip()"
   ]
  },
  {
   "cell_type": "code",
   "execution_count": 36,
   "id": "6b0b6a88",
   "metadata": {},
   "outputs": [
    {
     "data": {
      "text/plain": [
       "'python'"
      ]
     },
     "execution_count": 36,
     "metadata": {},
     "output_type": "execute_result"
    }
   ],
   "source": [
    "raw_data = 'python        '\n",
    "raw_data.rstrip()"
   ]
  },
  {
   "cell_type": "markdown",
   "id": "4d366b74",
   "metadata": {},
   "source": [
    "# Swapcase()"
   ]
  },
  {
   "cell_type": "raw",
   "id": "0f2203fe",
   "metadata": {},
   "source": [
    "it swaps the cases. As in thee uppercase letters would be converted into lowercase & thee lowercase would be converted into uppercase."
   ]
  },
  {
   "cell_type": "code",
   "execution_count": 38,
   "id": "a32d3ae2",
   "metadata": {},
   "outputs": [
    {
     "data": {
      "text/plain": [
       "'iNDIA IS MY COUNTRY. 1.25CR aLL iNDIANS ARE MY BORTHERS & SISTERS!'"
      ]
     },
     "execution_count": 38,
     "metadata": {},
     "output_type": "execute_result"
    }
   ],
   "source": [
    "string = 'India is my country. 1.25cr All Indians are my borthers & sisters!'\n",
    "string.swapcase()"
   ]
  },
  {
   "cell_type": "code",
   "execution_count": 44,
   "id": "6e42fa50",
   "metadata": {},
   "outputs": [],
   "source": [
    "First_name = 'sachin'\n",
    "Last_name = 'TENDULKAR'\n",
    "\n",
    "full_name = First_name.swapcase()+' '+Last_name.title()"
   ]
  },
  {
   "cell_type": "code",
   "execution_count": 45,
   "id": "a24e1f4d",
   "metadata": {},
   "outputs": [
    {
     "data": {
      "text/plain": [
       "'SACHIN Tendulkar'"
      ]
     },
     "execution_count": 45,
     "metadata": {},
     "output_type": "execute_result"
    }
   ],
   "source": [
    "full_name"
   ]
  },
  {
   "cell_type": "markdown",
   "id": "339e6ad9",
   "metadata": {},
   "source": [
    "# Replace"
   ]
  },
  {
   "cell_type": "code",
   "execution_count": null,
   "id": "96368235",
   "metadata": {},
   "outputs": [],
   "source": [
    "It replaces the characters in the string by new charcters mentioned.\n",
    "\n",
    "syntax:\n",
    "    stringring.replace(old_substring,new_substring,count)  # count is optional."
   ]
  },
  {
   "cell_type": "code",
   "execution_count": 46,
   "id": "649aa015",
   "metadata": {},
   "outputs": [
    {
     "data": {
      "text/plain": [
       "'India is my country. 1.25cr All Indians are my borthers and sisters!'"
      ]
     },
     "execution_count": 46,
     "metadata": {},
     "output_type": "execute_result"
    }
   ],
   "source": [
    "string = 'India is my country. 1.25cr All Indians are my borthers & sisters!'\n",
    "string.replace('&','and')"
   ]
  },
  {
   "cell_type": "code",
   "execution_count": 47,
   "id": "8f844d17",
   "metadata": {},
   "outputs": [
    {
     "data": {
      "text/plain": [
       "'India is my country. 1.25cr and All Indians are my borthers and sisters!'"
      ]
     },
     "execution_count": 47,
     "metadata": {},
     "output_type": "execute_result"
    }
   ],
   "source": [
    "string = 'India is my country. 1.25cr & All Indians are my borthers & sisters!'\n",
    "string.replace('&','and')"
   ]
  },
  {
   "cell_type": "code",
   "execution_count": 48,
   "id": "f1c02916",
   "metadata": {},
   "outputs": [
    {
     "data": {
      "text/plain": [
       "'India is my country. 1.25cr and All Indians are my borthers & sisters!'"
      ]
     },
     "execution_count": 48,
     "metadata": {},
     "output_type": "execute_result"
    }
   ],
   "source": [
    "string = 'India is my country. 1.25cr & All Indians are my borthers & sisters!'\n",
    "string.replace('&','and',1)    # only the first occurance will be replaced bcz the count is only 1."
   ]
  },
  {
   "cell_type": "code",
   "execution_count": 49,
   "id": "87d371d0",
   "metadata": {},
   "outputs": [
    {
     "data": {
      "text/plain": [
       "'India is my country. 1.25cr and All Indians are my borthers and sisters!'"
      ]
     },
     "execution_count": 49,
     "metadata": {},
     "output_type": "execute_result"
    }
   ],
   "source": [
    "string = 'India is my country. 1.25cr & All Indians are my borthers & sisters!'\n",
    "string.replace('&','and',2)"
   ]
  },
  {
   "cell_type": "code",
   "execution_count": 51,
   "id": "372c9a38",
   "metadata": {},
   "outputs": [
    {
     "data": {
      "text/plain": [
       "'INDIA is my country. 1.25cr & All INDIANS are my borthers & sisters!'"
      ]
     },
     "execution_count": 51,
     "metadata": {},
     "output_type": "execute_result"
    }
   ],
   "source": [
    "string = 'India is my country. 1.25cr & All Indians are my borthers & sisters!'\n",
    "string.replace('Indians','INDIANS').replace('India', 'INDIA')"
   ]
  },
  {
   "cell_type": "code",
   "execution_count": 52,
   "id": "910bb503",
   "metadata": {},
   "outputs": [
    {
     "data": {
      "text/plain": [
       "'India is my country. 1.25cr & All Indians are my borthers and sisters!'"
      ]
     },
     "execution_count": 52,
     "metadata": {},
     "output_type": "execute_result"
    }
   ],
   "source": [
    "string[:30]+string[30:].replace('&','and')"
   ]
  },
  {
   "cell_type": "code",
   "execution_count": 53,
   "id": "80682faf",
   "metadata": {},
   "outputs": [
    {
     "data": {
      "text/plain": [
       "'Python 3***9'"
      ]
     },
     "execution_count": 53,
     "metadata": {},
     "output_type": "execute_result"
    }
   ],
   "source": [
    "string = 'Python 3.9'\n",
    "string.replace('.','***')"
   ]
  },
  {
   "cell_type": "code",
   "execution_count": 56,
   "id": "486ce733",
   "metadata": {},
   "outputs": [
    {
     "data": {
      "text/plain": [
       "'Python 3.9'"
      ]
     },
     "execution_count": 56,
     "metadata": {},
     "output_type": "execute_result"
    }
   ],
   "source": [
    "string = 'Python       3.9'\n",
    "string.replace('      ','')"
   ]
  },
  {
   "cell_type": "markdown",
   "id": "fe377f86",
   "metadata": {},
   "source": [
    "# del"
   ]
  },
  {
   "cell_type": "raw",
   "id": "a75ee35e",
   "metadata": {},
   "source": [
    "del basically deletes the string stroed into variable"
   ]
  },
  {
   "cell_type": "code",
   "execution_count": 57,
   "id": "e583552e",
   "metadata": {},
   "outputs": [],
   "source": [
    "data = '2374hgk23498'\n",
    "\n",
    "del data "
   ]
  },
  {
   "cell_type": "code",
   "execution_count": 58,
   "id": "b9b11da9",
   "metadata": {},
   "outputs": [
    {
     "ename": "NameError",
     "evalue": "name 'data' is not defined",
     "output_type": "error",
     "traceback": [
      "\u001b[1;31m---------------------------------------------------------------------------\u001b[0m",
      "\u001b[1;31mNameError\u001b[0m                                 Traceback (most recent call last)",
      "\u001b[1;32m<ipython-input-58-c5d84736ba45>\u001b[0m in \u001b[0;36m<module>\u001b[1;34m\u001b[0m\n\u001b[1;32m----> 1\u001b[1;33m \u001b[0mdata\u001b[0m\u001b[1;33m\u001b[0m\u001b[1;33m\u001b[0m\u001b[0m\n\u001b[0m",
      "\u001b[1;31mNameError\u001b[0m: name 'data' is not defined"
     ]
    }
   ],
   "source": [
    "data"
   ]
  },
  {
   "cell_type": "markdown",
   "id": "5982ecb3",
   "metadata": {},
   "source": [
    "# Len()"
   ]
  },
  {
   "cell_type": "raw",
   "id": "68f955fa",
   "metadata": {},
   "source": [
    "# measures the len of the string.\n",
    "it calculates the characters in the string including special characters & numebrs."
   ]
  },
  {
   "cell_type": "code",
   "execution_count": 59,
   "id": "e12a9c19",
   "metadata": {},
   "outputs": [
    {
     "data": {
      "text/plain": [
       "21"
      ]
     },
     "execution_count": 59,
     "metadata": {},
     "output_type": "execute_result"
    }
   ],
   "source": [
    "data = 'Python is intresting!'\n",
    "\n",
    "len(data)"
   ]
  },
  {
   "cell_type": "markdown",
   "id": "20dc54ac",
   "metadata": {},
   "source": [
    "# Count"
   ]
  },
  {
   "cell_type": "raw",
   "id": "b60671a7",
   "metadata": {},
   "source": [
    "string.count(substring, start index, end index)"
   ]
  },
  {
   "cell_type": "code",
   "execution_count": 60,
   "id": "cf5093d4",
   "metadata": {},
   "outputs": [
    {
     "data": {
      "text/plain": [
       "2"
      ]
     },
     "execution_count": 60,
     "metadata": {},
     "output_type": "execute_result"
    }
   ],
   "source": [
    "sentence = ' Python is intreseting than C, C++, Java. So lets learn Python from today onwards.'\n",
    "\n",
    "sentence.count('Python')"
   ]
  },
  {
   "cell_type": "code",
   "execution_count": 61,
   "id": "e8a6e247",
   "metadata": {},
   "outputs": [
    {
     "data": {
      "text/plain": [
       "2"
      ]
     },
     "execution_count": 61,
     "metadata": {},
     "output_type": "execute_result"
    }
   ],
   "source": [
    "sentence.count('C')"
   ]
  },
  {
   "cell_type": "code",
   "execution_count": 63,
   "id": "e4fb5625",
   "metadata": {},
   "outputs": [
    {
     "data": {
      "text/plain": [
       "1"
      ]
     },
     "execution_count": 63,
     "metadata": {},
     "output_type": "execute_result"
    }
   ],
   "source": [
    "sentence = ' Python is intreseting than C, C++, Java. So lets learn Pythonian from today onwards.'\n",
    "\n",
    "sentence.count('Python ')"
   ]
  },
  {
   "cell_type": "code",
   "execution_count": 71,
   "id": "ed552b63",
   "metadata": {},
   "outputs": [
    {
     "data": {
      "text/plain": [
       "1"
      ]
     },
     "execution_count": 71,
     "metadata": {},
     "output_type": "execute_result"
    }
   ],
   "source": [
    "sentence =  \"\"\"Python is intreseting than C, C++, Java. So lets learn Python from today onwards. Wow Python\"\"\"\n",
    "\n",
    "sentence.count('Python',20,-1)"
   ]
  },
  {
   "cell_type": "code",
   "execution_count": 72,
   "id": "215a097d",
   "metadata": {},
   "outputs": [
    {
     "data": {
      "text/plain": [
       "2"
      ]
     },
     "execution_count": 72,
     "metadata": {},
     "output_type": "execute_result"
    }
   ],
   "source": [
    "sentence.count('Python',20,)"
   ]
  },
  {
   "cell_type": "code",
   "execution_count": 73,
   "id": "1b3cae78",
   "metadata": {},
   "outputs": [
    {
     "data": {
      "text/plain": [
       "2"
      ]
     },
     "execution_count": 73,
     "metadata": {},
     "output_type": "execute_result"
    }
   ],
   "source": [
    "sentence.count('Python',20,)"
   ]
  },
  {
   "cell_type": "code",
   "execution_count": 75,
   "id": "c618efcd",
   "metadata": {},
   "outputs": [
    {
     "data": {
      "text/plain": [
       "7"
      ]
     },
     "execution_count": 75,
     "metadata": {},
     "output_type": "execute_result"
    }
   ],
   "source": [
    "sentence =  \"\"\"Python is intreseting than C, C++, Java. So All of us, lets learn Python from today onwards. Wow Python!!\"\"\"\n",
    "\n",
    "sentence.count('A')+sentence.count('a')"
   ]
  },
  {
   "cell_type": "code",
   "execution_count": 78,
   "id": "b1676489",
   "metadata": {},
   "outputs": [
    {
     "name": "stdout",
     "output_type": "stream",
     "text": [
      "count of capital A is 1 & the count of small a is 6 & the total count is: 7\n"
     ]
    }
   ],
   "source": [
    "print(f\"\"\"count of capital A is {sentence.count('A')} & the count of small a is {sentence.count('a')} & the total count is: {sentence.count('A')+sentence.count('a')}\"\"\")"
   ]
  },
  {
   "cell_type": "markdown",
   "id": "6b875582",
   "metadata": {},
   "source": [
    "# Index"
   ]
  },
  {
   "cell_type": "raw",
   "id": "0de6590d",
   "metadata": {},
   "source": [
    "string.index(substring,start index, end index)    -- start index & end index is oprtional"
   ]
  },
  {
   "cell_type": "code",
   "execution_count": 79,
   "id": "b9dad123",
   "metadata": {},
   "outputs": [
    {
     "data": {
      "text/plain": [
       "0"
      ]
     },
     "execution_count": 79,
     "metadata": {},
     "output_type": "execute_result"
    }
   ],
   "source": [
    "sentence =  \"\"\"Python is intreseting than C, C++, Java. So All of us, lets learn Python from today onwards. Wow Python!!\"\"\"\n",
    "\n",
    "sentence.index('Python')"
   ]
  },
  {
   "cell_type": "code",
   "execution_count": 83,
   "id": "9ba9785e",
   "metadata": {},
   "outputs": [
    {
     "data": {
      "text/plain": [
       "66"
      ]
     },
     "execution_count": 83,
     "metadata": {},
     "output_type": "execute_result"
    }
   ],
   "source": [
    "sentence.index('Python',30,-1)"
   ]
  },
  {
   "cell_type": "code",
   "execution_count": 84,
   "id": "cdf2f5b9",
   "metadata": {},
   "outputs": [
    {
     "data": {
      "text/plain": [
       "35"
      ]
     },
     "execution_count": 84,
     "metadata": {},
     "output_type": "execute_result"
    }
   ],
   "source": [
    "sentence.index('Java')"
   ]
  },
  {
   "cell_type": "code",
   "execution_count": 87,
   "id": "f75775a6",
   "metadata": {},
   "outputs": [
    {
     "data": {
      "text/plain": [
       "30"
      ]
     },
     "execution_count": 87,
     "metadata": {},
     "output_type": "execute_result"
    }
   ],
   "source": [
    "sentence.index('C++')"
   ]
  },
  {
   "cell_type": "code",
   "execution_count": 88,
   "id": "764454e4",
   "metadata": {},
   "outputs": [
    {
     "ename": "ValueError",
     "evalue": "substring not found",
     "output_type": "error",
     "traceback": [
      "\u001b[1;31m---------------------------------------------------------------------------\u001b[0m",
      "\u001b[1;31mValueError\u001b[0m                                Traceback (most recent call last)",
      "\u001b[1;32m<ipython-input-88-d0355c28cd8c>\u001b[0m in \u001b[0;36m<module>\u001b[1;34m\u001b[0m\n\u001b[1;32m----> 1\u001b[1;33m \u001b[0msentence\u001b[0m\u001b[1;33m.\u001b[0m\u001b[0mindex\u001b[0m\u001b[1;33m(\u001b[0m\u001b[1;34m'c++'\u001b[0m\u001b[1;33m)\u001b[0m\u001b[1;33m\u001b[0m\u001b[1;33m\u001b[0m\u001b[0m\n\u001b[0m",
      "\u001b[1;31mValueError\u001b[0m: substring not found"
     ]
    }
   ],
   "source": [
    "sentence.index('c++')"
   ]
  },
  {
   "cell_type": "code",
   "execution_count": 89,
   "id": "a4f561bb",
   "metadata": {},
   "outputs": [],
   "source": [
    "import re"
   ]
  },
  {
   "cell_type": "code",
   "execution_count": 94,
   "id": "1927acf0",
   "metadata": {},
   "outputs": [
    {
     "data": {
      "text/plain": [
       "['Python', 'Python', 'Python']"
      ]
     },
     "execution_count": 94,
     "metadata": {},
     "output_type": "execute_result"
    }
   ],
   "source": [
    "re.findall('Python',sentence)"
   ]
  },
  {
   "cell_type": "code",
   "execution_count": 100,
   "id": "e0331f0f",
   "metadata": {},
   "outputs": [
    {
     "data": {
      "text/plain": [
       "[<re.Match object; span=(0, 6), match='Python'>,\n",
       " <re.Match object; span=(66, 72), match='Python'>,\n",
       " <re.Match object; span=(97, 103), match='Python'>]"
      ]
     },
     "execution_count": 100,
     "metadata": {},
     "output_type": "execute_result"
    }
   ],
   "source": [
    "x = re.finditer('Python',sentence)\n",
    "list(x)"
   ]
  },
  {
   "cell_type": "markdown",
   "id": "53a0576e",
   "metadata": {},
   "source": [
    "# Find()"
   ]
  },
  {
   "cell_type": "raw",
   "id": "6af47e5d",
   "metadata": {},
   "source": [
    "string.find(substring,start index, end index)    -- start index & end index is oprtional\n",
    "\n",
    "while index function gives error if the substring is not present, the find function returns -1."
   ]
  },
  {
   "cell_type": "code",
   "execution_count": 101,
   "id": "3410102d",
   "metadata": {},
   "outputs": [
    {
     "data": {
      "text/plain": [
       "0"
      ]
     },
     "execution_count": 101,
     "metadata": {},
     "output_type": "execute_result"
    }
   ],
   "source": [
    "sentence =  \"\"\"Python is intreseting than C, C++, Java. So All of us, lets learn Python from today onwards. Wow Python!!\"\"\"\n",
    "\n",
    "sentence.find('Python')"
   ]
  },
  {
   "cell_type": "code",
   "execution_count": 102,
   "id": "372cec7e",
   "metadata": {},
   "outputs": [
    {
     "data": {
      "text/plain": [
       "66"
      ]
     },
     "execution_count": 102,
     "metadata": {},
     "output_type": "execute_result"
    }
   ],
   "source": [
    "sentence.find('Python',30,-1)"
   ]
  },
  {
   "cell_type": "code",
   "execution_count": 103,
   "id": "f1d4163c",
   "metadata": {},
   "outputs": [
    {
     "data": {
      "text/plain": [
       "-1"
      ]
     },
     "execution_count": 103,
     "metadata": {},
     "output_type": "execute_result"
    }
   ],
   "source": [
    "sentence.find('c++')"
   ]
  },
  {
   "cell_type": "code",
   "execution_count": 106,
   "id": "b7c87853",
   "metadata": {},
   "outputs": [
    {
     "name": "stdout",
     "output_type": "stream",
     "text": [
      "c++ is absent in the string\n"
     ]
    }
   ],
   "source": [
    "if sentence.find('c++')==-1:\n",
    "    print('c++ is absent in the string')\n",
    "else:\n",
    "    print('present!')"
   ]
  },
  {
   "cell_type": "code",
   "execution_count": 105,
   "id": "bc91ca29",
   "metadata": {},
   "outputs": [
    {
     "ename": "ValueError",
     "evalue": "substring not found",
     "output_type": "error",
     "traceback": [
      "\u001b[1;31m---------------------------------------------------------------------------\u001b[0m",
      "\u001b[1;31mValueError\u001b[0m                                Traceback (most recent call last)",
      "\u001b[1;32m<ipython-input-105-330597e6108c>\u001b[0m in \u001b[0;36m<module>\u001b[1;34m\u001b[0m\n\u001b[1;32m----> 1\u001b[1;33m \u001b[1;32mif\u001b[0m \u001b[0msentence\u001b[0m\u001b[1;33m.\u001b[0m\u001b[0mindex\u001b[0m\u001b[1;33m(\u001b[0m\u001b[1;34m'c++'\u001b[0m\u001b[1;33m)\u001b[0m\u001b[1;33m:\u001b[0m\u001b[1;33m\u001b[0m\u001b[1;33m\u001b[0m\u001b[0m\n\u001b[0m\u001b[0;32m      2\u001b[0m     \u001b[0mprint\u001b[0m\u001b[1;33m(\u001b[0m\u001b[1;34m'c++ is absent in the string'\u001b[0m\u001b[1;33m)\u001b[0m\u001b[1;33m\u001b[0m\u001b[1;33m\u001b[0m\u001b[0m\n",
      "\u001b[1;31mValueError\u001b[0m: substring not found"
     ]
    }
   ],
   "source": [
    "if sentence.index('c++'):\n",
    "    print('c++ is absent in the string')"
   ]
  },
  {
   "cell_type": "code",
   "execution_count": 107,
   "id": "1c5561d2",
   "metadata": {},
   "outputs": [
    {
     "name": "stdout",
     "output_type": "stream",
     "text": [
      "string is palindrome!\n"
     ]
    }
   ],
   "source": [
    "pal = 'PHP'\n",
    "if pal[::-1]==pal:\n",
    "    print('string is palindrome!')"
   ]
  },
  {
   "cell_type": "markdown",
   "id": "d248ae9f",
   "metadata": {},
   "source": [
    "# Split"
   ]
  },
  {
   "cell_type": "raw",
   "id": "b0481f51",
   "metadata": {},
   "source": [
    "split will spilt the string & return them all in a list format\n",
    "by default splitting parameter is space"
   ]
  },
  {
   "cell_type": "code",
   "execution_count": 108,
   "id": "a3c5b88d",
   "metadata": {},
   "outputs": [
    {
     "data": {
      "text/plain": [
       "['Python',\n",
       " 'is',\n",
       " 'intresting',\n",
       " 'language.',\n",
       " 'Is',\n",
       " 'this',\n",
       " 'also',\n",
       " 'what',\n",
       " 'you',\n",
       " 'feel?']"
      ]
     },
     "execution_count": 108,
     "metadata": {},
     "output_type": "execute_result"
    }
   ],
   "source": [
    "string = 'Python is intresting language. Is this also what you feel?'\n",
    "string.split()"
   ]
  },
  {
   "cell_type": "code",
   "execution_count": 112,
   "id": "68c1f98b",
   "metadata": {},
   "outputs": [
    {
     "data": {
      "text/plain": [
       "['Python',\n",
       " '3',\n",
       " 'is',\n",
       " 'intresting',\n",
       " 'language.',\n",
       " 'is',\n",
       " 'this',\n",
       " 'also',\n",
       " 'what',\n",
       " 'you',\n",
       " 'feel?']"
      ]
     },
     "execution_count": 112,
     "metadata": {},
     "output_type": "execute_result"
    }
   ],
   "source": [
    "string.split(' ')"
   ]
  },
  {
   "cell_type": "code",
   "execution_count": 110,
   "id": "16cf3450",
   "metadata": {},
   "outputs": [
    {
     "data": {
      "text/plain": [
       "['Python', 'intresting language.', 'this also what you feel?']"
      ]
     },
     "execution_count": 110,
     "metadata": {},
     "output_type": "execute_result"
    }
   ],
   "source": [
    "string = 'Python is intresting language. is this also what you feel?'\n",
    "string.split(' is ')"
   ]
  },
  {
   "cell_type": "code",
   "execution_count": 111,
   "id": "a02150a9",
   "metadata": {},
   "outputs": [
    {
     "data": {
      "text/plain": [
       "['Python', 'is intresting language. is this also what you feel?']"
      ]
     },
     "execution_count": 111,
     "metadata": {},
     "output_type": "execute_result"
    }
   ],
   "source": [
    "string = 'Python 3 is intresting language. is this also what you feel?'\n",
    "string.split(' 3 ')"
   ]
  },
  {
   "cell_type": "code",
   "execution_count": 116,
   "id": "7c2d5596",
   "metadata": {},
   "outputs": [
    {
     "data": {
      "text/plain": [
       "['Python 3 is intresting language',\n",
       " ' I hope you feel same',\n",
       " \" That's good to know\"]"
      ]
     },
     "execution_count": 116,
     "metadata": {},
     "output_type": "execute_result"
    }
   ],
   "source": [
    "string = \"Python 3 is intresting language. I hope you feel same. That's good to know\"\n",
    "splitted_list = string.split('.')\n",
    "splitted_list"
   ]
  },
  {
   "cell_type": "code",
   "execution_count": 119,
   "id": "fd0f3363",
   "metadata": {},
   "outputs": [
    {
     "data": {
      "text/plain": [
       "list"
      ]
     },
     "execution_count": 119,
     "metadata": {},
     "output_type": "execute_result"
    }
   ],
   "source": [
    "type(splitted_list)"
   ]
  },
  {
   "cell_type": "code",
   "execution_count": 117,
   "id": "6c62867b",
   "metadata": {},
   "outputs": [
    {
     "name": "stdout",
     "output_type": "stream",
     "text": [
      "Python 3 is intresting language\n",
      "I hope you feel same\n",
      "That's good to know\n"
     ]
    }
   ],
   "source": [
    "for i in splitted_list:\n",
    "    print(i.strip())"
   ]
  },
  {
   "cell_type": "code",
   "execution_count": 121,
   "id": "8d01a1fd",
   "metadata": {},
   "outputs": [
    {
     "data": {
      "text/plain": [
       "['Python', '3', 'is', 'intresting', 'language']"
      ]
     },
     "execution_count": 121,
     "metadata": {},
     "output_type": "execute_result"
    }
   ],
   "source": [
    "splitted_list[0].split()"
   ]
  },
  {
   "cell_type": "markdown",
   "id": "cc912a3b",
   "metadata": {},
   "source": [
    "# join()"
   ]
  },
  {
   "cell_type": "code",
   "execution_count": 122,
   "id": "5c449ab6",
   "metadata": {},
   "outputs": [
    {
     "data": {
      "text/plain": [
       "'Python 3 is intresting language'"
      ]
     },
     "execution_count": 122,
     "metadata": {},
     "output_type": "execute_result"
    }
   ],
   "source": [
    "list1 = ['Python', '3', 'is', 'intresting', 'language']\n",
    "\n",
    "' '.join(list1)"
   ]
  },
  {
   "cell_type": "code",
   "execution_count": 123,
   "id": "62e58d7c",
   "metadata": {},
   "outputs": [
    {
     "name": "stdout",
     "output_type": "stream",
     "text": [
      "['Hey', 'this', 'is', 'out', '6th', 'class', 'of', 'python']\n"
     ]
    }
   ],
   "source": [
    "data = 'Hey this is out 6th class of python'\n",
    "\n",
    "pro_data = data.split()\n",
    "print(pro_data)"
   ]
  },
  {
   "cell_type": "code",
   "execution_count": 132,
   "id": "c11aa1ec",
   "metadata": {},
   "outputs": [
    {
     "data": {
      "text/plain": [
       "'Hey this is out 6th class of python'"
      ]
     },
     "execution_count": 132,
     "metadata": {},
     "output_type": "execute_result"
    }
   ],
   "source": [
    "' '.join(pro_data)"
   ]
  },
  {
   "cell_type": "code",
   "execution_count": 126,
   "id": "f8f92dd3",
   "metadata": {},
   "outputs": [
    {
     "data": {
      "text/plain": [
       "'Hey/this/is/out/6th/class/of/python'"
      ]
     },
     "execution_count": 126,
     "metadata": {},
     "output_type": "execute_result"
    }
   ],
   "source": [
    "'/'.join(pro_data)"
   ]
  },
  {
   "cell_type": "code",
   "execution_count": 127,
   "id": "9bbdfece",
   "metadata": {},
   "outputs": [
    {
     "data": {
      "text/plain": [
       "'Hey.this.is.out.6th.class.of.python'"
      ]
     },
     "execution_count": 127,
     "metadata": {},
     "output_type": "execute_result"
    }
   ],
   "source": [
    "'.'.join(pro_data)"
   ]
  },
  {
   "cell_type": "code",
   "execution_count": 131,
   "id": "73834105",
   "metadata": {},
   "outputs": [
    {
     "data": {
      "text/plain": [
       "'Hey this is out sixth class of python'"
      ]
     },
     "execution_count": 131,
     "metadata": {},
     "output_type": "execute_result"
    }
   ],
   "source": [
    "' '.join(pro_data).replace('6','six')"
   ]
  },
  {
   "cell_type": "code",
   "execution_count": null,
   "id": "a43e7c08",
   "metadata": {},
   "outputs": [],
   "source": [
    "# String functions seen today:\n",
    "1. capitalise()\n",
    "2. lower()\n",
    "3. Upper()\n",
    "4. title()\n",
    "5. strip()\n",
    "6. lstrip()\n",
    "7. rstrip()\n",
    "8. swapcase()\n",
    "9. count()\n",
    "10. len()\n",
    "11. replace()\n",
    "12. del\n",
    "13. index()\n",
    "14. find()\n",
    "15. split()\n",
    "16. join()\n",
    "\n",
    "# palindrome string"
   ]
  }
 ],
 "metadata": {
  "kernelspec": {
   "display_name": "Python 3",
   "language": "python",
   "name": "python3"
  },
  "language_info": {
   "codemirror_mode": {
    "name": "ipython",
    "version": 3
   },
   "file_extension": ".py",
   "mimetype": "text/x-python",
   "name": "python",
   "nbconvert_exporter": "python",
   "pygments_lexer": "ipython3",
   "version": "3.8.8"
  },
  "toc": {
   "base_numbering": 1,
   "nav_menu": {},
   "number_sections": true,
   "sideBar": true,
   "skip_h1_title": false,
   "title_cell": "Table of Contents",
   "title_sidebar": "Contents",
   "toc_cell": false,
   "toc_position": {},
   "toc_section_display": true,
   "toc_window_display": false
  },
  "varInspector": {
   "cols": {
    "lenName": 16,
    "lenType": 16,
    "lenVar": 40
   },
   "kernels_config": {
    "python": {
     "delete_cmd_postfix": "",
     "delete_cmd_prefix": "del ",
     "library": "var_list.py",
     "varRefreshCmd": "print(var_dic_list())"
    },
    "r": {
     "delete_cmd_postfix": ") ",
     "delete_cmd_prefix": "rm(",
     "library": "var_list.r",
     "varRefreshCmd": "cat(var_dic_list()) "
    }
   },
   "types_to_exclude": [
    "module",
    "function",
    "builtin_function_or_method",
    "instance",
    "_Feature"
   ],
   "window_display": false
  }
 },
 "nbformat": 4,
 "nbformat_minor": 5
}
