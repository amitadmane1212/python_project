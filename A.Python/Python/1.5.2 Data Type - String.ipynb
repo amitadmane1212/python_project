{
 "cells": [
  {
   "cell_type": "raw",
   "id": "f6cd787e",
   "metadata": {},
   "source": [
    "String - Text data type\n",
    "String is collection of characters"
   ]
  },
  {
   "cell_type": "raw",
   "id": "72cb66fe",
   "metadata": {},
   "source": [
    "## indexing\n",
    "positive indexing\n",
    "negative indexing"
   ]
  },
  {
   "cell_type": "markdown",
   "id": "e09c57e3",
   "metadata": {},
   "source": [
    "# Positive Indexing"
   ]
  },
  {
   "cell_type": "raw",
   "id": "ddb1f807",
   "metadata": {},
   "source": [
    "Positive Indexing - \n",
    "\n",
    "Indexing starts from left & goes to right or starts fom 0th index & goes to the highest positive index\n",
    "\n",
    "we access indexing by using square braces"
   ]
  },
  {
   "cell_type": "code",
   "execution_count": 1,
   "id": "cc12722e",
   "metadata": {},
   "outputs": [],
   "source": [
    "string = 'Python'"
   ]
  },
  {
   "cell_type": "markdown",
   "id": "e2e6386e",
   "metadata": {},
   "source": [
    "### lenght funtion:"
   ]
  },
  {
   "cell_type": "raw",
   "id": "3e054c71",
   "metadata": {},
   "source": [
    "returns the number of characters present in the string"
   ]
  },
  {
   "cell_type": "code",
   "execution_count": 2,
   "id": "f3120e26",
   "metadata": {},
   "outputs": [
    {
     "data": {
      "text/plain": [
       "6"
      ]
     },
     "execution_count": 2,
     "metadata": {},
     "output_type": "execute_result"
    }
   ],
   "source": [
    "len(string)"
   ]
  },
  {
   "cell_type": "code",
   "execution_count": 3,
   "id": "53e88183",
   "metadata": {},
   "outputs": [
    {
     "data": {
      "text/plain": [
       "22"
      ]
     },
     "execution_count": 3,
     "metadata": {},
     "output_type": "execute_result"
    }
   ],
   "source": [
    "long_string = 'This is something new!'\n",
    "\n",
    "len(long_string)"
   ]
  },
  {
   "cell_type": "code",
   "execution_count": 5,
   "id": "3282613d",
   "metadata": {},
   "outputs": [
    {
     "data": {
      "text/plain": [
       "'Python'"
      ]
     },
     "execution_count": 5,
     "metadata": {},
     "output_type": "execute_result"
    }
   ],
   "source": [
    "string"
   ]
  },
  {
   "cell_type": "raw",
   "id": "98f177eb",
   "metadata": {},
   "source": [
    "P y t h o n\n",
    "0 1 2 3 4 5"
   ]
  },
  {
   "cell_type": "code",
   "execution_count": 6,
   "id": "21c07e56",
   "metadata": {},
   "outputs": [
    {
     "data": {
      "text/plain": [
       "'P'"
      ]
     },
     "execution_count": 6,
     "metadata": {},
     "output_type": "execute_result"
    }
   ],
   "source": [
    "string[0]"
   ]
  },
  {
   "cell_type": "code",
   "execution_count": 7,
   "id": "9dc5f070",
   "metadata": {},
   "outputs": [
    {
     "data": {
      "text/plain": [
       "'h'"
      ]
     },
     "execution_count": 7,
     "metadata": {},
     "output_type": "execute_result"
    }
   ],
   "source": [
    "string[3]"
   ]
  },
  {
   "cell_type": "code",
   "execution_count": 8,
   "id": "17e12b51",
   "metadata": {},
   "outputs": [
    {
     "data": {
      "text/plain": [
       "'n'"
      ]
     },
     "execution_count": 8,
     "metadata": {},
     "output_type": "execute_result"
    }
   ],
   "source": [
    "string[5]"
   ]
  },
  {
   "cell_type": "markdown",
   "id": "d51a8cf0",
   "metadata": {},
   "source": [
    "# Negative Indexing"
   ]
  },
  {
   "cell_type": "raw",
   "id": "37527737",
   "metadata": {},
   "source": [
    "# Negative indexing\n",
    "\n",
    "Negative indexing starts from -ve numbers i.e -1\n",
    "It starts from right & goes to left\n",
    "\n",
    "The last character starts from -1 index (right) & goes to left with incresing negative order"
   ]
  },
  {
   "cell_type": "raw",
   "id": "fd1e4e6b",
   "metadata": {},
   "source": [
    " P  y  t  h  o  n\n",
    "-6 -5 -4 -3 -2 -1"
   ]
  },
  {
   "cell_type": "code",
   "execution_count": 10,
   "id": "049b9257",
   "metadata": {},
   "outputs": [
    {
     "data": {
      "text/plain": [
       "'n'"
      ]
     },
     "execution_count": 10,
     "metadata": {},
     "output_type": "execute_result"
    }
   ],
   "source": [
    "string[-1]"
   ]
  },
  {
   "cell_type": "code",
   "execution_count": 11,
   "id": "06f6f027",
   "metadata": {},
   "outputs": [
    {
     "data": {
      "text/plain": [
       "'h'"
      ]
     },
     "execution_count": 11,
     "metadata": {},
     "output_type": "execute_result"
    }
   ],
   "source": [
    "string[-3]"
   ]
  },
  {
   "cell_type": "code",
   "execution_count": 12,
   "id": "17fce1b2",
   "metadata": {},
   "outputs": [
    {
     "data": {
      "text/plain": [
       "'P'"
      ]
     },
     "execution_count": 12,
     "metadata": {},
     "output_type": "execute_result"
    }
   ],
   "source": [
    "string[-6]"
   ]
  },
  {
   "cell_type": "code",
   "execution_count": 17,
   "id": "279bfe68",
   "metadata": {},
   "outputs": [
    {
     "data": {
      "text/plain": [
       "'n'"
      ]
     },
     "execution_count": 17,
     "metadata": {},
     "output_type": "execute_result"
    }
   ],
   "source": [
    "string[-1]"
   ]
  },
  {
   "cell_type": "code",
   "execution_count": 16,
   "id": "5a1fe6be",
   "metadata": {},
   "outputs": [
    {
     "data": {
      "text/plain": [
       "'n'"
      ]
     },
     "execution_count": 16,
     "metadata": {},
     "output_type": "execute_result"
    }
   ],
   "source": [
    "string[len(string)-1]   # string[6-1] >> string[5]"
   ]
  },
  {
   "cell_type": "code",
   "execution_count": 14,
   "id": "4d24260a",
   "metadata": {},
   "outputs": [
    {
     "data": {
      "text/plain": [
       "'P'"
      ]
     },
     "execution_count": 14,
     "metadata": {},
     "output_type": "execute_result"
    }
   ],
   "source": [
    "string[-0]"
   ]
  },
  {
   "cell_type": "markdown",
   "id": "b168f17b",
   "metadata": {},
   "source": [
    "# String slicing"
   ]
  },
  {
   "cell_type": "raw",
   "id": "092fde35",
   "metadata": {},
   "source": [
    "string[start index:end index:step size]     -- step size is optional\n",
    "\n",
    "the default start index is 0\n",
    "the default end index is -1 or len(string)\n",
    "the default step size is 1\n",
    "\n",
    "step size is positive >> left to right  >> Positive slicing\n",
    "step size is negative >> right to left  >> Negative slicing"
   ]
  },
  {
   "cell_type": "markdown",
   "id": "3a8e318b",
   "metadata": {},
   "source": [
    "## Positive Slicing"
   ]
  },
  {
   "cell_type": "code",
   "execution_count": 18,
   "id": "62e308cf",
   "metadata": {},
   "outputs": [],
   "source": [
    "string = 'Python'"
   ]
  },
  {
   "cell_type": "code",
   "execution_count": 19,
   "id": "e02228c8",
   "metadata": {},
   "outputs": [
    {
     "data": {
      "text/plain": [
       "'y'"
      ]
     },
     "execution_count": 19,
     "metadata": {},
     "output_type": "execute_result"
    }
   ],
   "source": [
    "string[1]"
   ]
  },
  {
   "cell_type": "code",
   "execution_count": 20,
   "id": "0d370616",
   "metadata": {},
   "outputs": [
    {
     "data": {
      "text/plain": [
       "'n'"
      ]
     },
     "execution_count": 20,
     "metadata": {},
     "output_type": "execute_result"
    }
   ],
   "source": [
    "string[5]"
   ]
  },
  {
   "cell_type": "code",
   "execution_count": 21,
   "id": "d38e2439",
   "metadata": {},
   "outputs": [
    {
     "data": {
      "text/plain": [
       "'ytho'"
      ]
     },
     "execution_count": 21,
     "metadata": {},
     "output_type": "execute_result"
    }
   ],
   "source": [
    "# it steps one index back than index given in end index.\n",
    "string[1:5]"
   ]
  },
  {
   "cell_type": "code",
   "execution_count": 22,
   "id": "6229fec9",
   "metadata": {},
   "outputs": [
    {
     "data": {
      "text/plain": [
       "'ython'"
      ]
     },
     "execution_count": 22,
     "metadata": {},
     "output_type": "execute_result"
    }
   ],
   "source": [
    "string[1:6]"
   ]
  },
  {
   "cell_type": "code",
   "execution_count": 23,
   "id": "43b0e12f",
   "metadata": {},
   "outputs": [
    {
     "data": {
      "text/plain": [
       "'ython'"
      ]
     },
     "execution_count": 23,
     "metadata": {},
     "output_type": "execute_result"
    }
   ],
   "source": [
    "string[1:len(string)]"
   ]
  },
  {
   "cell_type": "code",
   "execution_count": 24,
   "id": "68e677ad",
   "metadata": {},
   "outputs": [
    {
     "data": {
      "text/plain": [
       "'Python'"
      ]
     },
     "execution_count": 24,
     "metadata": {},
     "output_type": "execute_result"
    }
   ],
   "source": [
    "string[0:len(string)]"
   ]
  },
  {
   "cell_type": "code",
   "execution_count": 25,
   "id": "b0764068",
   "metadata": {},
   "outputs": [
    {
     "data": {
      "text/plain": [
       "'tho'"
      ]
     },
     "execution_count": 25,
     "metadata": {},
     "output_type": "execute_result"
    }
   ],
   "source": [
    "string[2:5]"
   ]
  },
  {
   "cell_type": "code",
   "execution_count": 26,
   "id": "c6babb85",
   "metadata": {},
   "outputs": [
    {
     "data": {
      "text/plain": [
       "'Pto'"
      ]
     },
     "execution_count": 26,
     "metadata": {},
     "output_type": "execute_result"
    }
   ],
   "source": [
    "string[0:6:2]    #string slicing with step size 2"
   ]
  },
  {
   "cell_type": "code",
   "execution_count": 27,
   "id": "d51cde4b",
   "metadata": {},
   "outputs": [
    {
     "data": {
      "text/plain": [
       "'h  tntc'"
      ]
     },
     "execution_count": 27,
     "metadata": {},
     "output_type": "execute_result"
    }
   ],
   "source": [
    "raw = 'This is python 5th class.'\n",
    "\n",
    "raw[1:len(raw)-3:3]"
   ]
  },
  {
   "cell_type": "code",
   "execution_count": 28,
   "id": "4c44154f",
   "metadata": {},
   "outputs": [
    {
     "data": {
      "text/plain": [
       "'s'"
      ]
     },
     "execution_count": 28,
     "metadata": {},
     "output_type": "execute_result"
    }
   ],
   "source": [
    "raw[len(raw)-3]"
   ]
  },
  {
   "cell_type": "code",
   "execution_count": 30,
   "id": "25f9fcd1",
   "metadata": {},
   "outputs": [
    {
     "data": {
      "text/plain": [
       "'Python'"
      ]
     },
     "execution_count": 30,
     "metadata": {},
     "output_type": "execute_result"
    }
   ],
   "source": [
    "string[::]"
   ]
  },
  {
   "cell_type": "code",
   "execution_count": 31,
   "id": "503dbf6e",
   "metadata": {},
   "outputs": [
    {
     "data": {
      "text/plain": [
       "'Python'"
      ]
     },
     "execution_count": 31,
     "metadata": {},
     "output_type": "execute_result"
    }
   ],
   "source": [
    "string[:]"
   ]
  },
  {
   "cell_type": "code",
   "execution_count": 35,
   "id": "c6415b4d",
   "metadata": {},
   "outputs": [
    {
     "data": {
      "text/plain": [
       "('1111111', '2222222')"
      ]
     },
     "execution_count": 35,
     "metadata": {},
     "output_type": "execute_result"
    }
   ],
   "source": [
    "word = '12121212121212'\n",
    "word[::2],word[1::2]"
   ]
  },
  {
   "cell_type": "code",
   "execution_count": null,
   "id": "9e059196",
   "metadata": {},
   "outputs": [],
   "source": [
    " P  y  t  h  o  n\n",
    "-6 -5 -4 -3 -2 -1"
   ]
  },
  {
   "cell_type": "code",
   "execution_count": 37,
   "id": "f5841552",
   "metadata": {},
   "outputs": [
    {
     "data": {
      "text/plain": [
       "'Pytho'"
      ]
     },
     "execution_count": 37,
     "metadata": {},
     "output_type": "execute_result"
    }
   ],
   "source": [
    "string[-6:-1]"
   ]
  },
  {
   "cell_type": "code",
   "execution_count": 39,
   "id": "ddf4bac7",
   "metadata": {},
   "outputs": [
    {
     "data": {
      "text/plain": [
       "'Python'"
      ]
     },
     "execution_count": 39,
     "metadata": {},
     "output_type": "execute_result"
    }
   ],
   "source": [
    "string[-6:len(string)]"
   ]
  },
  {
   "cell_type": "code",
   "execution_count": 42,
   "id": "33f57054",
   "metadata": {},
   "outputs": [
    {
     "data": {
      "text/plain": [
       "'Python'"
      ]
     },
     "execution_count": 42,
     "metadata": {},
     "output_type": "execute_result"
    }
   ],
   "source": [
    "string[-6:]"
   ]
  },
  {
   "cell_type": "code",
   "execution_count": 41,
   "id": "e50a93e2",
   "metadata": {},
   "outputs": [
    {
     "data": {
      "text/plain": [
       "''"
      ]
     },
     "execution_count": 41,
     "metadata": {},
     "output_type": "execute_result"
    }
   ],
   "source": [
    "string[-6:0]"
   ]
  },
  {
   "cell_type": "code",
   "execution_count": 43,
   "id": "4fdd2bd2",
   "metadata": {},
   "outputs": [
    {
     "data": {
      "text/plain": [
       "'Pto'"
      ]
     },
     "execution_count": 43,
     "metadata": {},
     "output_type": "execute_result"
    }
   ],
   "source": [
    "string[-6:-1:2]     \n",
    "# start index & end index are negative but step size is positive & so this is +ve slicing."
   ]
  },
  {
   "cell_type": "code",
   "execution_count": 44,
   "id": "321ed742",
   "metadata": {},
   "outputs": [
    {
     "data": {
      "text/plain": [
       "'Pytho'"
      ]
     },
     "execution_count": 44,
     "metadata": {},
     "output_type": "execute_result"
    }
   ],
   "source": [
    "string[-6:5:1]"
   ]
  },
  {
   "cell_type": "code",
   "execution_count": 45,
   "id": "22d350a5",
   "metadata": {},
   "outputs": [
    {
     "data": {
      "text/plain": [
       "''"
      ]
     },
     "execution_count": 45,
     "metadata": {},
     "output_type": "execute_result"
    }
   ],
   "source": [
    "string[-1:2:1]"
   ]
  },
  {
   "cell_type": "markdown",
   "id": "e6166334",
   "metadata": {},
   "source": [
    "# Negative Slicing"
   ]
  },
  {
   "cell_type": "code",
   "execution_count": 46,
   "id": "d8b81f77",
   "metadata": {},
   "outputs": [],
   "source": [
    "string = 'Python Class'"
   ]
  },
  {
   "cell_type": "code",
   "execution_count": 48,
   "id": "82ae9179",
   "metadata": {},
   "outputs": [
    {
     "data": {
      "text/plain": [
       "12"
      ]
     },
     "execution_count": 48,
     "metadata": {},
     "output_type": "execute_result"
    }
   ],
   "source": [
    "len(string)"
   ]
  },
  {
   "cell_type": "code",
   "execution_count": 51,
   "id": "f95e32b9",
   "metadata": {},
   "outputs": [
    {
     "data": {
      "text/plain": [
       "''"
      ]
     },
     "execution_count": 51,
     "metadata": {},
     "output_type": "execute_result"
    }
   ],
   "source": [
    "string[-1:0:1]   "
   ]
  },
  {
   "cell_type": "code",
   "execution_count": 50,
   "id": "0426dadd",
   "metadata": {},
   "outputs": [
    {
     "data": {
      "text/plain": [
       "'ssalC nohty'"
      ]
     },
     "execution_count": 50,
     "metadata": {},
     "output_type": "execute_result"
    }
   ],
   "source": [
    "string[-1:0:-1]"
   ]
  },
  {
   "cell_type": "code",
   "execution_count": 53,
   "id": "400943ea",
   "metadata": {},
   "outputs": [
    {
     "data": {
      "text/plain": [
       "'ssalC nohtyP'"
      ]
     },
     "execution_count": 53,
     "metadata": {},
     "output_type": "execute_result"
    }
   ],
   "source": [
    "string[::-1]"
   ]
  },
  {
   "cell_type": "code",
   "execution_count": 54,
   "id": "b2b30739",
   "metadata": {},
   "outputs": [
    {
     "data": {
      "text/plain": [
       "'saCnh'"
      ]
     },
     "execution_count": 54,
     "metadata": {},
     "output_type": "execute_result"
    }
   ],
   "source": [
    "string[-1:2:-2]"
   ]
  },
  {
   "cell_type": "code",
   "execution_count": 55,
   "id": "2dd8a62b",
   "metadata": {},
   "outputs": [
    {
     "data": {
      "text/plain": [
       "'Python Class'"
      ]
     },
     "execution_count": 55,
     "metadata": {},
     "output_type": "execute_result"
    }
   ],
   "source": [
    "string"
   ]
  },
  {
   "cell_type": "markdown",
   "id": "4f11ba6d",
   "metadata": {},
   "source": [
    "# String additon or concatenation"
   ]
  },
  {
   "cell_type": "code",
   "execution_count": 56,
   "id": "514ea554",
   "metadata": {},
   "outputs": [
    {
     "data": {
      "text/plain": [
       "'Python class'"
      ]
     },
     "execution_count": 56,
     "metadata": {},
     "output_type": "execute_result"
    }
   ],
   "source": [
    "str1 = 'Python'\n",
    "str2 = ' class'\n",
    "\n",
    "str1+str2"
   ]
  },
  {
   "cell_type": "code",
   "execution_count": 57,
   "id": "a78061e4",
   "metadata": {},
   "outputs": [
    {
     "data": {
      "text/plain": [
       "'Python & class'"
      ]
     },
     "execution_count": 57,
     "metadata": {},
     "output_type": "execute_result"
    }
   ],
   "source": [
    "str1 + ' &' + str2"
   ]
  },
  {
   "cell_type": "code",
   "execution_count": 58,
   "id": "c18066c2",
   "metadata": {},
   "outputs": [
    {
     "data": {
      "text/plain": [
       "'ytho'"
      ]
     },
     "execution_count": 58,
     "metadata": {},
     "output_type": "execute_result"
    }
   ],
   "source": [
    "str1[1:5]"
   ]
  },
  {
   "cell_type": "code",
   "execution_count": 59,
   "id": "b7c5cfd8",
   "metadata": {},
   "outputs": [
    {
     "data": {
      "text/plain": [
       "'sac'"
      ]
     },
     "execution_count": 59,
     "metadata": {},
     "output_type": "execute_result"
    }
   ],
   "source": [
    "str2[-1:0:-2]"
   ]
  },
  {
   "cell_type": "code",
   "execution_count": 60,
   "id": "4a3c744e",
   "metadata": {},
   "outputs": [
    {
     "data": {
      "text/plain": [
       "'ythosac'"
      ]
     },
     "execution_count": 60,
     "metadata": {},
     "output_type": "execute_result"
    }
   ],
   "source": [
    "str1[1:5]+str2[-1:0:-2]"
   ]
  },
  {
   "cell_type": "code",
   "execution_count": 61,
   "id": "7cde4f6d",
   "metadata": {},
   "outputs": [
    {
     "ename": "TypeError",
     "evalue": "unsupported operand type(s) for -: 'str' and 'str'",
     "output_type": "error",
     "traceback": [
      "\u001b[1;31m---------------------------------------------------------------------------\u001b[0m",
      "\u001b[1;31mTypeError\u001b[0m                                 Traceback (most recent call last)",
      "Input \u001b[1;32mIn [61]\u001b[0m, in \u001b[0;36m<cell line: 1>\u001b[1;34m()\u001b[0m\n\u001b[1;32m----> 1\u001b[0m \u001b[43mstr1\u001b[49m\u001b[38;5;241;43m-\u001b[39;49m\u001b[43mstr2\u001b[49m\n",
      "\u001b[1;31mTypeError\u001b[0m: unsupported operand type(s) for -: 'str' and 'str'"
     ]
    }
   ],
   "source": [
    "str1-str2"
   ]
  },
  {
   "cell_type": "code",
   "execution_count": 62,
   "id": "1a9f9fde",
   "metadata": {},
   "outputs": [
    {
     "ename": "TypeError",
     "evalue": "can't multiply sequence by non-int of type 'str'",
     "output_type": "error",
     "traceback": [
      "\u001b[1;31m---------------------------------------------------------------------------\u001b[0m",
      "\u001b[1;31mTypeError\u001b[0m                                 Traceback (most recent call last)",
      "Input \u001b[1;32mIn [62]\u001b[0m, in \u001b[0;36m<cell line: 1>\u001b[1;34m()\u001b[0m\n\u001b[1;32m----> 1\u001b[0m \u001b[43mstr1\u001b[49m\u001b[38;5;241;43m*\u001b[39;49m\u001b[43mstr2\u001b[49m\n",
      "\u001b[1;31mTypeError\u001b[0m: can't multiply sequence by non-int of type 'str'"
     ]
    }
   ],
   "source": [
    "str1*str2"
   ]
  },
  {
   "cell_type": "markdown",
   "id": "482f434e",
   "metadata": {},
   "source": [
    "# String Casting"
   ]
  },
  {
   "cell_type": "code",
   "execution_count": 64,
   "id": "4d1b035f",
   "metadata": {},
   "outputs": [
    {
     "name": "stdout",
     "output_type": "stream",
     "text": [
      "enter the string: hi\n"
     ]
    },
    {
     "data": {
      "text/plain": [
       "'hi'"
      ]
     },
     "execution_count": 64,
     "metadata": {},
     "output_type": "execute_result"
    }
   ],
   "source": [
    "data = input('enter the string: ')\n",
    "data"
   ]
  },
  {
   "cell_type": "code",
   "execution_count": 65,
   "id": "efa17588",
   "metadata": {},
   "outputs": [
    {
     "name": "stdout",
     "output_type": "stream",
     "text": [
      "enter the string: hello\n"
     ]
    },
    {
     "data": {
      "text/plain": [
       "'hello'"
      ]
     },
     "execution_count": 65,
     "metadata": {},
     "output_type": "execute_result"
    }
   ],
   "source": [
    "data = str(input('enter the string: '))\n",
    "data"
   ]
  },
  {
   "cell_type": "code",
   "execution_count": 66,
   "id": "32b9d9a2",
   "metadata": {},
   "outputs": [
    {
     "name": "stdout",
     "output_type": "stream",
     "text": [
      "enter the string: hi\n"
     ]
    },
    {
     "ename": "NameError",
     "evalue": "name 'hi' is not defined",
     "output_type": "error",
     "traceback": [
      "\u001b[1;31m---------------------------------------------------------------------------\u001b[0m",
      "\u001b[1;31mNameError\u001b[0m                                 Traceback (most recent call last)",
      "Input \u001b[1;32mIn [66]\u001b[0m, in \u001b[0;36m<cell line: 1>\u001b[1;34m()\u001b[0m\n\u001b[1;32m----> 1\u001b[0m data \u001b[38;5;241m=\u001b[39m \u001b[38;5;28;43meval\u001b[39;49m\u001b[43m(\u001b[49m\u001b[38;5;28;43minput\u001b[39;49m\u001b[43m(\u001b[49m\u001b[38;5;124;43m'\u001b[39;49m\u001b[38;5;124;43menter the string: \u001b[39;49m\u001b[38;5;124;43m'\u001b[39;49m\u001b[43m)\u001b[49m\u001b[43m)\u001b[49m\n\u001b[0;32m      2\u001b[0m data\n",
      "File \u001b[1;32m<string>:1\u001b[0m, in \u001b[0;36m<module>\u001b[1;34m\u001b[0m\n",
      "\u001b[1;31mNameError\u001b[0m: name 'hi' is not defined"
     ]
    }
   ],
   "source": [
    "data = eval(input('enter the string: '))\n",
    "data"
   ]
  },
  {
   "cell_type": "code",
   "execution_count": 68,
   "id": "c59ff73a",
   "metadata": {},
   "outputs": [
    {
     "name": "stdout",
     "output_type": "stream",
     "text": [
      "enter the string: 'hello'\n"
     ]
    },
    {
     "data": {
      "text/plain": [
       "'hello'"
      ]
     },
     "execution_count": 68,
     "metadata": {},
     "output_type": "execute_result"
    }
   ],
   "source": [
    "data = eval(input('enter the string: '))\n",
    "data"
   ]
  },
  {
   "cell_type": "markdown",
   "id": "faad8ae8",
   "metadata": {},
   "source": [
    "# Doc String"
   ]
  },
  {
   "cell_type": "code",
   "execution_count": 69,
   "id": "319e0d39",
   "metadata": {},
   "outputs": [],
   "source": [
    "def square(n):\n",
    "    '''Takes in a number n and returns the square of the same number'''\n",
    "    return n**2"
   ]
  },
  {
   "cell_type": "code",
   "execution_count": 70,
   "id": "29ced496",
   "metadata": {},
   "outputs": [
    {
     "data": {
      "text/plain": [
       "24025"
      ]
     },
     "execution_count": 70,
     "metadata": {},
     "output_type": "execute_result"
    }
   ],
   "source": [
    "square(155)"
   ]
  },
  {
   "cell_type": "code",
   "execution_count": 71,
   "id": "9c363b01",
   "metadata": {},
   "outputs": [
    {
     "data": {
      "text/plain": [
       "'Takes in a number n and returns the square of the same number'"
      ]
     },
     "execution_count": 71,
     "metadata": {},
     "output_type": "execute_result"
    }
   ],
   "source": [
    "square.__doc__"
   ]
  },
  {
   "cell_type": "code",
   "execution_count": 72,
   "id": "893717d6",
   "metadata": {},
   "outputs": [
    {
     "name": "stdout",
     "output_type": "stream",
     "text": [
      "Takes in a number n and returns the square of the same number\n"
     ]
    }
   ],
   "source": [
    "print(square.__doc__)"
   ]
  },
  {
   "cell_type": "code",
   "execution_count": 73,
   "id": "d13f20f4",
   "metadata": {},
   "outputs": [],
   "source": [
    "def square(n):\n",
    "    print('''Takes in a number n and returns the square of the same number''')\n",
    "    return n**2"
   ]
  },
  {
   "cell_type": "code",
   "execution_count": 74,
   "id": "3fa1205d",
   "metadata": {},
   "outputs": [
    {
     "name": "stdout",
     "output_type": "stream",
     "text": [
      "Takes in a number n and returns the square of the same number\n"
     ]
    },
    {
     "data": {
      "text/plain": [
       "9"
      ]
     },
     "execution_count": 74,
     "metadata": {},
     "output_type": "execute_result"
    }
   ],
   "source": [
    "square(3)"
   ]
  },
  {
   "cell_type": "code",
   "execution_count": 75,
   "id": "72b10b4a",
   "metadata": {},
   "outputs": [
    {
     "data": {
      "text/plain": [
       "'Python Class'"
      ]
     },
     "execution_count": 75,
     "metadata": {},
     "output_type": "execute_result"
    }
   ],
   "source": [
    "string"
   ]
  },
  {
   "cell_type": "code",
   "execution_count": 78,
   "id": "000620e3",
   "metadata": {},
   "outputs": [
    {
     "data": {
      "text/plain": [
       "'PythonClass'"
      ]
     },
     "execution_count": 78,
     "metadata": {},
     "output_type": "execute_result"
    }
   ],
   "source": [
    "string[0:6]+string[7:]"
   ]
  },
  {
   "cell_type": "code",
   "execution_count": null,
   "id": "b3d17b55",
   "metadata": {},
   "outputs": [],
   "source": []
  }
 ],
 "metadata": {
  "kernelspec": {
   "display_name": "Python 3 (ipykernel)",
   "language": "python",
   "name": "python3"
  },
  "language_info": {
   "codemirror_mode": {
    "name": "ipython",
    "version": 3
   },
   "file_extension": ".py",
   "mimetype": "text/x-python",
   "name": "python",
   "nbconvert_exporter": "python",
   "pygments_lexer": "ipython3",
   "version": "3.9.12"
  }
 },
 "nbformat": 4,
 "nbformat_minor": 5
}
