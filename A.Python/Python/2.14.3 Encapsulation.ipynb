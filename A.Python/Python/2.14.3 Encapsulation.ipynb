{
 "cells": [
  {
   "cell_type": "raw",
   "id": "85f54cc0",
   "metadata": {},
   "source": [
    "used to hide or restrict the access of variable & methods\n",
    "used for protecting the data modification"
   ]
  },
  {
   "cell_type": "code",
   "execution_count": 15,
   "id": "4c64c75d",
   "metadata": {},
   "outputs": [
    {
     "name": "stdout",
     "output_type": "stream",
     "text": [
      "location is  Pune\n"
     ]
    }
   ],
   "source": [
    "class classname():\n",
    "    city = 'Pune'                     # class or static Variable\n",
    "    def location(self):\n",
    "        print('location is ',self.city)\n",
    "        \n",
    "        \n",
    "place = classname()\n",
    "place.location()"
   ]
  },
  {
   "cell_type": "code",
   "execution_count": 16,
   "id": "de8263a5",
   "metadata": {},
   "outputs": [
    {
     "data": {
      "text/plain": [
       "'Pune'"
      ]
     },
     "execution_count": 16,
     "metadata": {},
     "output_type": "execute_result"
    }
   ],
   "source": [
    "place.city"
   ]
  },
  {
   "cell_type": "code",
   "execution_count": 4,
   "id": "1f1ec759",
   "metadata": {},
   "outputs": [
    {
     "data": {
      "text/plain": [
       "'Mumbai'"
      ]
     },
     "execution_count": 4,
     "metadata": {},
     "output_type": "execute_result"
    }
   ],
   "source": [
    "place.city = 'Mumbai'\n",
    "place.city"
   ]
  },
  {
   "cell_type": "code",
   "execution_count": 5,
   "id": "c2393964",
   "metadata": {},
   "outputs": [
    {
     "data": {
      "text/plain": [
       "'Mumbai'"
      ]
     },
     "execution_count": 5,
     "metadata": {},
     "output_type": "execute_result"
    }
   ],
   "source": [
    "place.city"
   ]
  },
  {
   "cell_type": "code",
   "execution_count": 32,
   "id": "76682384",
   "metadata": {},
   "outputs": [
    {
     "name": "stdout",
     "output_type": "stream",
     "text": [
      "location is  Pune\n"
     ]
    }
   ],
   "source": [
    "class classname1():\n",
    "    __city1 = 'Pune'                     # Private class or static Variable\n",
    "    def location1(self):\n",
    "        print('location is ',self.__city1)\n",
    "        \n",
    "        \n",
    "place1 = classname1()\n",
    "place1.location1()"
   ]
  },
  {
   "cell_type": "code",
   "execution_count": 33,
   "id": "00c28673",
   "metadata": {},
   "outputs": [
    {
     "ename": "AttributeError",
     "evalue": "'classname1' object has no attribute '__city1'",
     "output_type": "error",
     "traceback": [
      "\u001b[1;31m---------------------------------------------------------------------------\u001b[0m",
      "\u001b[1;31mAttributeError\u001b[0m                            Traceback (most recent call last)",
      "\u001b[1;32m<ipython-input-33-402f559ebf9c>\u001b[0m in \u001b[0;36m<module>\u001b[1;34m\u001b[0m\n\u001b[1;32m----> 1\u001b[1;33m \u001b[0mplace1\u001b[0m\u001b[1;33m.\u001b[0m\u001b[0m__city1\u001b[0m\u001b[1;33m\u001b[0m\u001b[1;33m\u001b[0m\u001b[0m\n\u001b[0m",
      "\u001b[1;31mAttributeError\u001b[0m: 'classname1' object has no attribute '__city1'"
     ]
    }
   ],
   "source": [
    "place1.__city1"
   ]
  },
  {
   "cell_type": "code",
   "execution_count": 34,
   "id": "e6509669",
   "metadata": {},
   "outputs": [],
   "source": [
    "place1.__city1 = 'Mumbai'"
   ]
  },
  {
   "cell_type": "code",
   "execution_count": 35,
   "id": "8db5c500",
   "metadata": {},
   "outputs": [
    {
     "data": {
      "text/plain": [
       "'Mumbai'"
      ]
     },
     "execution_count": 35,
     "metadata": {},
     "output_type": "execute_result"
    }
   ],
   "source": [
    "place1.__city1"
   ]
  },
  {
   "cell_type": "code",
   "execution_count": 36,
   "id": "e28cc667",
   "metadata": {},
   "outputs": [
    {
     "name": "stdout",
     "output_type": "stream",
     "text": [
      "location is  Pune\n"
     ]
    }
   ],
   "source": [
    "place1.location1()"
   ]
  },
  {
   "cell_type": "markdown",
   "id": "aaf6af91",
   "metadata": {},
   "source": []
  },
  {
   "cell_type": "code",
   "execution_count": 38,
   "id": "0f317a7a",
   "metadata": {},
   "outputs": [
    {
     "name": "stdout",
     "output_type": "stream",
     "text": [
      "emp name is  TCS\n",
      "client name is  Amdocs\n",
      "emp_id is secured!\n"
     ]
    }
   ],
   "source": [
    "class Employeename():\n",
    "    __empname = 'TCS'                           # Private class variable\n",
    "    \n",
    "    def __init__(self,client_name):\n",
    "        self.client_name=client_name\n",
    "        \n",
    "    def emp_details(self):\n",
    "        print('emp name is ',self.__empname)\n",
    "        print('client name is ',self.client_name)\n",
    "        self.__emp_id()\n",
    "        \n",
    "    def __emp_id(self):                        # Private class function\n",
    "        print('emp_id is secured!')\n",
    "        \n",
    "Emp = Employeename('Amdocs')\n",
    "Emp.emp_details()"
   ]
  },
  {
   "cell_type": "code",
   "execution_count": 39,
   "id": "6e07deb4",
   "metadata": {},
   "outputs": [
    {
     "ename": "AttributeError",
     "evalue": "'Employeename' object has no attribute '__emp_id'",
     "output_type": "error",
     "traceback": [
      "\u001b[1;31m---------------------------------------------------------------------------\u001b[0m",
      "\u001b[1;31mAttributeError\u001b[0m                            Traceback (most recent call last)",
      "\u001b[1;32m<ipython-input-39-68027723dd00>\u001b[0m in \u001b[0;36m<module>\u001b[1;34m\u001b[0m\n\u001b[1;32m----> 1\u001b[1;33m \u001b[0mEmp\u001b[0m\u001b[1;33m.\u001b[0m\u001b[0m__emp_id\u001b[0m\u001b[1;33m(\u001b[0m\u001b[1;33m)\u001b[0m\u001b[1;33m\u001b[0m\u001b[1;33m\u001b[0m\u001b[0m\n\u001b[0m",
      "\u001b[1;31mAttributeError\u001b[0m: 'Employeename' object has no attribute '__emp_id'"
     ]
    }
   ],
   "source": [
    "Emp.__emp_id()"
   ]
  },
  {
   "cell_type": "code",
   "execution_count": 41,
   "id": "69a491ee",
   "metadata": {},
   "outputs": [
    {
     "ename": "AttributeError",
     "evalue": "'Employeename' object has no attribute '__empname'",
     "output_type": "error",
     "traceback": [
      "\u001b[1;31m---------------------------------------------------------------------------\u001b[0m",
      "\u001b[1;31mAttributeError\u001b[0m                            Traceback (most recent call last)",
      "\u001b[1;32m<ipython-input-41-590b8463f7c6>\u001b[0m in \u001b[0;36m<module>\u001b[1;34m\u001b[0m\n\u001b[1;32m----> 1\u001b[1;33m \u001b[0mEmp\u001b[0m\u001b[1;33m.\u001b[0m\u001b[0m__empname\u001b[0m\u001b[1;33m\u001b[0m\u001b[1;33m\u001b[0m\u001b[0m\n\u001b[0m",
      "\u001b[1;31mAttributeError\u001b[0m: 'Employeename' object has no attribute '__empname'"
     ]
    }
   ],
   "source": [
    "Emp.__empname"
   ]
  },
  {
   "cell_type": "code",
   "execution_count": 42,
   "id": "78bb8d0e",
   "metadata": {},
   "outputs": [
    {
     "ename": "AttributeError",
     "evalue": "'Employeename' object has no attribute 'empname'",
     "output_type": "error",
     "traceback": [
      "\u001b[1;31m---------------------------------------------------------------------------\u001b[0m",
      "\u001b[1;31mAttributeError\u001b[0m                            Traceback (most recent call last)",
      "\u001b[1;32m<ipython-input-42-8e9e4baa049a>\u001b[0m in \u001b[0;36m<module>\u001b[1;34m\u001b[0m\n\u001b[1;32m----> 1\u001b[1;33m \u001b[0mEmp\u001b[0m\u001b[1;33m.\u001b[0m\u001b[0mempname\u001b[0m\u001b[1;33m\u001b[0m\u001b[1;33m\u001b[0m\u001b[0m\n\u001b[0m",
      "\u001b[1;31mAttributeError\u001b[0m: 'Employeename' object has no attribute 'empname'"
     ]
    }
   ],
   "source": [
    "Emp.empname"
   ]
  },
  {
   "cell_type": "markdown",
   "id": "f690525b",
   "metadata": {},
   "source": [
    "### name mangling method"
   ]
  },
  {
   "cell_type": "code",
   "execution_count": 43,
   "id": "2e9942cb",
   "metadata": {},
   "outputs": [
    {
     "name": "stdout",
     "output_type": "stream",
     "text": [
      "emp_id is secured!\n"
     ]
    }
   ],
   "source": [
    "# accessing using name mangeling\n",
    "\n",
    "Emp._Employeename__emp_id()"
   ]
  },
  {
   "cell_type": "code",
   "execution_count": 46,
   "id": "16e8dcab",
   "metadata": {},
   "outputs": [
    {
     "name": "stdout",
     "output_type": "stream",
     "text": [
      "emp name is  TATA\n",
      "client name is  Amdocs\n",
      "emp_id is secured!\n"
     ]
    }
   ],
   "source": [
    "Emp._Employeename__empname = 'TATA'\n",
    "Emp.emp_details()"
   ]
  },
  {
   "cell_type": "code",
   "execution_count": null,
   "id": "be3bdec6",
   "metadata": {},
   "outputs": [],
   "source": []
  }
 ],
 "metadata": {
  "kernelspec": {
   "display_name": "Python 3",
   "language": "python",
   "name": "python3"
  },
  "language_info": {
   "codemirror_mode": {
    "name": "ipython",
    "version": 3
   },
   "file_extension": ".py",
   "mimetype": "text/x-python",
   "name": "python",
   "nbconvert_exporter": "python",
   "pygments_lexer": "ipython3",
   "version": "3.8.8"
  },
  "toc": {
   "base_numbering": 1,
   "nav_menu": {},
   "number_sections": true,
   "sideBar": true,
   "skip_h1_title": false,
   "title_cell": "Table of Contents",
   "title_sidebar": "Contents",
   "toc_cell": false,
   "toc_position": {},
   "toc_section_display": true,
   "toc_window_display": false
  },
  "varInspector": {
   "cols": {
    "lenName": 16,
    "lenType": 16,
    "lenVar": 40
   },
   "kernels_config": {
    "python": {
     "delete_cmd_postfix": "",
     "delete_cmd_prefix": "del ",
     "library": "var_list.py",
     "varRefreshCmd": "print(var_dic_list())"
    },
    "r": {
     "delete_cmd_postfix": ") ",
     "delete_cmd_prefix": "rm(",
     "library": "var_list.r",
     "varRefreshCmd": "cat(var_dic_list()) "
    }
   },
   "types_to_exclude": [
    "module",
    "function",
    "builtin_function_or_method",
    "instance",
    "_Feature"
   ],
   "window_display": false
  }
 },
 "nbformat": 4,
 "nbformat_minor": 5
}
