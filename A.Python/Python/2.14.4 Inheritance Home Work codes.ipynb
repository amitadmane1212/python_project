{
 "cells": [
  {
   "cell_type": "code",
   "execution_count": null,
   "id": "06d4af3a",
   "metadata": {},
   "outputs": [],
   "source": [
    "# WAP to find the are of circle, Cylinder, Trinagle & Rectangle using both multi level & multiple inhetence concepts. Such that Cylinder class will be a child class for circle. triangle will be a child class of rectangle. Finally you should have another child class called as shapes. this child class shapes should have multiple parents (cylinder & triangle)\n",
    "\n",
    "from math import pi\n",
    "from numpy import pi\n",
    "pi"
   ]
  },
  {
   "cell_type": "code",
   "execution_count": 6,
   "id": "fefd997e",
   "metadata": {},
   "outputs": [
    {
     "name": "stdout",
     "output_type": "stream",
     "text": [
      "78.53981633974483\n"
     ]
    },
    {
     "data": {
      "text/plain": [
       "628.3185307179587"
      ]
     },
     "execution_count": 6,
     "metadata": {},
     "output_type": "execute_result"
    }
   ],
   "source": [
    "from math import pi\n",
    "\n",
    "class Circle:\n",
    "    def __init__(self,radius):\n",
    "        self.radius = radius\n",
    "        \n",
    "    def circle_area(self):\n",
    "        return (pi*self.radius**2)\n",
    "\n",
    "class Rectangle:\n",
    "    def __init__(self,length,width):\n",
    "        self.len = length\n",
    "        self.width = width\n",
    "        \n",
    "    def rect_area(self):\n",
    "        return self.len*self.width\n",
    "    \n",
    "class Cylinder(Circle):\n",
    "    def __init__(self,radius,height):\n",
    "        super().__init__(radius)\n",
    "        self.height = height\n",
    "        self.radius = radius\n",
    "        \n",
    "    def surface_area(self):\n",
    "        return 2*((pi*self.radius*self.height)+(self.circle_area()))\n",
    "    \n",
    "class Triangle(Rectangle):\n",
    "    def __init__(self,length,width):\n",
    "        Rectangle.__init__(self,length,width)\n",
    "    def area_triangle(self):\n",
    "        return 0.5*(self.rect_area())\n",
    "    \n",
    "\n",
    "class shapes(Triangle,Cylinder):\n",
    "     \n",
    "        def __init__(self,length,width,redius,height):\n",
    "            super().__init__(length,width)\n",
    "            Cylinder.__init__(self,redius,height)\n",
    "        \n",
    "        \n",
    "c1 = shapes(10,20,5,15)\n",
    "print(c1.circle_area())\n",
    "c1.area_triangle()\n",
    "c1.rect_area()\n",
    "c1.surface_area()"
   ]
  },
  {
   "cell_type": "code",
   "execution_count": null,
   "id": "48252430",
   "metadata": {},
   "outputs": [],
   "source": []
  }
 ],
 "metadata": {
  "kernelspec": {
   "display_name": "Python 3",
   "language": "python",
   "name": "python3"
  },
  "language_info": {
   "codemirror_mode": {
    "name": "ipython",
    "version": 3
   },
   "file_extension": ".py",
   "mimetype": "text/x-python",
   "name": "python",
   "nbconvert_exporter": "python",
   "pygments_lexer": "ipython3",
   "version": "3.8.8"
  },
  "toc": {
   "base_numbering": 1,
   "nav_menu": {},
   "number_sections": true,
   "sideBar": true,
   "skip_h1_title": false,
   "title_cell": "Table of Contents",
   "title_sidebar": "Contents",
   "toc_cell": false,
   "toc_position": {},
   "toc_section_display": true,
   "toc_window_display": false
  },
  "varInspector": {
   "cols": {
    "lenName": 16,
    "lenType": 16,
    "lenVar": 40
   },
   "kernels_config": {
    "python": {
     "delete_cmd_postfix": "",
     "delete_cmd_prefix": "del ",
     "library": "var_list.py",
     "varRefreshCmd": "print(var_dic_list())"
    },
    "r": {
     "delete_cmd_postfix": ") ",
     "delete_cmd_prefix": "rm(",
     "library": "var_list.r",
     "varRefreshCmd": "cat(var_dic_list()) "
    }
   },
   "types_to_exclude": [
    "module",
    "function",
    "builtin_function_or_method",
    "instance",
    "_Feature"
   ],
   "window_display": false
  }
 },
 "nbformat": 4,
 "nbformat_minor": 5
}
