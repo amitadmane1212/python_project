{
 "cells": [
  {
   "cell_type": "markdown",
   "id": "ec38b23f",
   "metadata": {},
   "source": [
    "# print statement execution"
   ]
  },
  {
   "cell_type": "code",
   "execution_count": 1,
   "id": "c30f57a9",
   "metadata": {},
   "outputs": [],
   "source": [
    "a = 10\n",
    "b = 20"
   ]
  },
  {
   "cell_type": "markdown",
   "id": "c7be38dd",
   "metadata": {},
   "source": [
    "### simplest way`"
   ]
  },
  {
   "cell_type": "code",
   "execution_count": 2,
   "id": "59033cce",
   "metadata": {},
   "outputs": [
    {
     "name": "stdout",
     "output_type": "stream",
     "text": [
      "10\n",
      "20\n"
     ]
    }
   ],
   "source": [
    "print(a)\n",
    "print(b)"
   ]
  },
  {
   "cell_type": "code",
   "execution_count": 3,
   "id": "7e7e15cc",
   "metadata": {},
   "outputs": [
    {
     "name": "stdout",
     "output_type": "stream",
     "text": [
      "10 20\n"
     ]
    }
   ],
   "source": [
    "print(a,b)"
   ]
  },
  {
   "cell_type": "code",
   "execution_count": 4,
   "id": "6c6b8f5e",
   "metadata": {},
   "outputs": [
    {
     "name": "stdout",
     "output_type": "stream",
     "text": [
      "Values of a & b are:  10 20\n"
     ]
    }
   ],
   "source": [
    "print('Values of a & b are: ',a,b)"
   ]
  },
  {
   "cell_type": "code",
   "execution_count": 5,
   "id": "1516dd1d",
   "metadata": {},
   "outputs": [
    {
     "name": "stdout",
     "output_type": "stream",
     "text": [
      "Values of a & b are:  10 & 20\n"
     ]
    }
   ],
   "source": [
    "print('Values of a & b are: ',a,'&',b)"
   ]
  },
  {
   "cell_type": "markdown",
   "id": "b9b4cd3e",
   "metadata": {},
   "source": [
    "### using f string"
   ]
  },
  {
   "cell_type": "code",
   "execution_count": 9,
   "id": "7663b2c8",
   "metadata": {},
   "outputs": [
    {
     "name": "stdout",
     "output_type": "stream",
     "text": [
      "the value of a is {a} & the value of b is {b}\n"
     ]
    }
   ],
   "source": [
    "print('the value of a is {a} & the value of b is {b}')"
   ]
  },
  {
   "cell_type": "code",
   "execution_count": 11,
   "id": "dfcb1b48",
   "metadata": {},
   "outputs": [
    {
     "name": "stdout",
     "output_type": "stream",
     "text": [
      "the value of a is 10 & the value of b is 20\n"
     ]
    }
   ],
   "source": [
    "print(f'the value of a is {a} & the value of b is {b}')"
   ]
  },
  {
   "cell_type": "code",
   "execution_count": 7,
   "id": "8d9b3401",
   "metadata": {},
   "outputs": [
    {
     "name": "stdout",
     "output_type": "stream",
     "text": [
      "the value of a is 10 & the value of b is 20\n"
     ]
    }
   ],
   "source": [
    "print(f'the value of a is {10} & the value of b is {20}')"
   ]
  },
  {
   "cell_type": "markdown",
   "id": "bbaf20a6",
   "metadata": {},
   "source": [
    "# .format string"
   ]
  },
  {
   "cell_type": "code",
   "execution_count": 12,
   "id": "92682a5e",
   "metadata": {},
   "outputs": [
    {
     "name": "stdout",
     "output_type": "stream",
     "text": [
      "the value of a is 10 & the value of b is 20\n"
     ]
    }
   ],
   "source": [
    "print('the value of a is {} & the value of b is {}'.format(a,b))"
   ]
  },
  {
   "cell_type": "code",
   "execution_count": 15,
   "id": "994084bf",
   "metadata": {},
   "outputs": [
    {
     "name": "stdout",
     "output_type": "stream",
     "text": [
      "the value of a is 10 & the value of b is 20\n"
     ]
    }
   ],
   "source": [
    "print('the value of a is {} & the value of b is {}'.format(a,b))"
   ]
  },
  {
   "cell_type": "markdown",
   "id": "2e22db5d",
   "metadata": {},
   "source": [
    "### using %"
   ]
  },
  {
   "cell_type": "code",
   "execution_count": 16,
   "id": "d1affe7f",
   "metadata": {},
   "outputs": [
    {
     "name": "stdout",
     "output_type": "stream",
     "text": [
      "the value of a is 10 & the value of b is 20\n"
     ]
    }
   ],
   "source": [
    "print('the value of a is %i & the value of b is %d'%(a,b))"
   ]
  },
  {
   "cell_type": "markdown",
   "id": "75ca17f3",
   "metadata": {},
   "source": [
    "# use of f & r srtings together"
   ]
  },
  {
   "cell_type": "code",
   "execution_count": 21,
   "id": "6233f2a1",
   "metadata": {},
   "outputs": [
    {
     "name": "stdout",
     "output_type": "stream",
     "text": [
      "take this no. 10 & \\n nothing more\n"
     ]
    }
   ],
   "source": [
    "x = 10\n",
    "\n",
    "# print('take this no. {x} & \\n nothing more')\n",
    "# print(r'take this no. {x} & \\n nothing more')\n",
    "# print(f'take this no. {x} & \\n nothing more')\n",
    "print(fr'take this no. {x} & \\n nothing more')\n"
   ]
  },
  {
   "cell_type": "code",
   "execution_count": 22,
   "id": "d66d44c2",
   "metadata": {},
   "outputs": [
    {
     "name": "stdout",
     "output_type": "stream",
     "text": [
      "take this no. 10 & \\n nothing more\n"
     ]
    }
   ],
   "source": [
    "print(rf'take this no. {x} & \\n nothing more')"
   ]
  },
  {
   "cell_type": "markdown",
   "id": "41e92b61",
   "metadata": {},
   "source": [
    "# Binary Numbers"
   ]
  },
  {
   "cell_type": "raw",
   "id": "2fa5bc38",
   "metadata": {},
   "source": [
    "0000 > 0\n",
    "0001 > 1\n",
    "0010 > 2\n",
    "0011 > 3\n",
    ".\n",
    ".\n",
    ".\n",
    ".\n",
    ".\n",
    ".\n",
    "1111 > 15\n",
    "\n",
    "0000 1111 >> 15\n",
    "\n",
    "0001 0000 >> 16\n",
    "0001 0001 >> 17"
   ]
  },
  {
   "cell_type": "markdown",
   "id": "afb3ab80",
   "metadata": {},
   "source": [
    "# bin function"
   ]
  },
  {
   "cell_type": "code",
   "execution_count": 23,
   "id": "37817941",
   "metadata": {},
   "outputs": [
    {
     "data": {
      "text/plain": [
       "'0b1111'"
      ]
     },
     "execution_count": 23,
     "metadata": {},
     "output_type": "execute_result"
    }
   ],
   "source": [
    "bin(15)"
   ]
  },
  {
   "cell_type": "code",
   "execution_count": 24,
   "id": "ebc0ec93",
   "metadata": {},
   "outputs": [
    {
     "data": {
      "text/plain": [
       "'0b10000'"
      ]
     },
     "execution_count": 24,
     "metadata": {},
     "output_type": "execute_result"
    }
   ],
   "source": [
    "bin(16)"
   ]
  },
  {
   "cell_type": "code",
   "execution_count": 25,
   "id": "d7d35eee",
   "metadata": {},
   "outputs": [
    {
     "data": {
      "text/plain": [
       "'0b10'"
      ]
     },
     "execution_count": 25,
     "metadata": {},
     "output_type": "execute_result"
    }
   ],
   "source": [
    "bin(2)"
   ]
  },
  {
   "cell_type": "code",
   "execution_count": 27,
   "id": "4ad7095a",
   "metadata": {},
   "outputs": [
    {
     "data": {
      "text/plain": [
       "'0b11001000'"
      ]
     },
     "execution_count": 27,
     "metadata": {},
     "output_type": "execute_result"
    }
   ],
   "source": [
    "# to convert an int into binary equivalent\n",
    "bin(200)"
   ]
  },
  {
   "cell_type": "code",
   "execution_count": 26,
   "id": "2a0ced64",
   "metadata": {
    "scrolled": true
   },
   "outputs": [
    {
     "ename": "TypeError",
     "evalue": "'float' object cannot be interpreted as an integer",
     "output_type": "error",
     "traceback": [
      "\u001b[1;31m---------------------------------------------------------------------------\u001b[0m",
      "\u001b[1;31mTypeError\u001b[0m                                 Traceback (most recent call last)",
      "Input \u001b[1;32mIn [26]\u001b[0m, in \u001b[0;36m<cell line: 1>\u001b[1;34m()\u001b[0m\n\u001b[1;32m----> 1\u001b[0m \u001b[38;5;28;43mbin\u001b[39;49m\u001b[43m(\u001b[49m\u001b[38;5;241;43m12.2\u001b[39;49m\u001b[43m)\u001b[49m\n",
      "\u001b[1;31mTypeError\u001b[0m: 'float' object cannot be interpreted as an integer"
     ]
    }
   ],
   "source": [
    "bin(12.2)"
   ]
  },
  {
   "cell_type": "code",
   "execution_count": 28,
   "id": "9849b886",
   "metadata": {},
   "outputs": [
    {
     "data": {
      "text/plain": [
       "200"
      ]
     },
     "execution_count": 28,
     "metadata": {},
     "output_type": "execute_result"
    }
   ],
   "source": [
    "# to convert a binary number into int equivalent\n",
    "int('0b11001000',2)"
   ]
  },
  {
   "cell_type": "code",
   "execution_count": 29,
   "id": "9edda022",
   "metadata": {},
   "outputs": [
    {
     "data": {
      "text/plain": [
       "200"
      ]
     },
     "execution_count": 29,
     "metadata": {},
     "output_type": "execute_result"
    }
   ],
   "source": [
    "int('11001000',2)"
   ]
  },
  {
   "cell_type": "code",
   "execution_count": 30,
   "id": "a81b0db7",
   "metadata": {},
   "outputs": [
    {
     "data": {
      "text/plain": [
       "4"
      ]
     },
     "execution_count": 30,
     "metadata": {},
     "output_type": "execute_result"
    }
   ],
   "source": [
    "# base 2 gives the int equivalent of the binary number given in string\n",
    "int('100',2)"
   ]
  },
  {
   "cell_type": "code",
   "execution_count": 31,
   "id": "47abbe07",
   "metadata": {},
   "outputs": [
    {
     "data": {
      "text/plain": [
       "100"
      ]
     },
     "execution_count": 31,
     "metadata": {},
     "output_type": "execute_result"
    }
   ],
   "source": [
    "# base 10 gives the int equivalent of the number given in string\n",
    "int('100',10)"
   ]
  },
  {
   "cell_type": "code",
   "execution_count": 32,
   "id": "4720e5d2",
   "metadata": {},
   "outputs": [
    {
     "data": {
      "text/plain": [
       "100"
      ]
     },
     "execution_count": 32,
     "metadata": {},
     "output_type": "execute_result"
    }
   ],
   "source": [
    "int('100')"
   ]
  },
  {
   "cell_type": "code",
   "execution_count": 33,
   "id": "ab852642",
   "metadata": {},
   "outputs": [
    {
     "data": {
      "text/plain": [
       "36"
      ]
     },
     "execution_count": 33,
     "metadata": {},
     "output_type": "execute_result"
    }
   ],
   "source": [
    "#int('100',6)"
   ]
  },
  {
   "cell_type": "code",
   "execution_count": 34,
   "id": "daf3399d",
   "metadata": {},
   "outputs": [
    {
     "data": {
      "text/plain": [
       "64"
      ]
     },
     "execution_count": 34,
     "metadata": {},
     "output_type": "execute_result"
    }
   ],
   "source": [
    "#int('100',8)"
   ]
  },
  {
   "cell_type": "code",
   "execution_count": null,
   "id": "a323dfad",
   "metadata": {},
   "outputs": [],
   "source": []
  }
 ],
 "metadata": {
  "kernelspec": {
   "display_name": "Python 3 (ipykernel)",
   "language": "python",
   "name": "python3"
  },
  "language_info": {
   "codemirror_mode": {
    "name": "ipython",
    "version": 3
   },
   "file_extension": ".py",
   "mimetype": "text/x-python",
   "name": "python",
   "nbconvert_exporter": "python",
   "pygments_lexer": "ipython3",
   "version": "3.9.12"
  }
 },
 "nbformat": 4,
 "nbformat_minor": 5
}
