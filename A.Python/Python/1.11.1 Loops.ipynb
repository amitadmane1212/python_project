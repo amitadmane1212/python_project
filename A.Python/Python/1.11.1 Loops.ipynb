{
 "cells": [
  {
   "cell_type": "raw",
   "id": "1c62d207",
   "metadata": {},
   "source": [
    "Loops:\n",
    "    for loop\n",
    "    while loop\n",
    "    \n",
    "same functionality but different syntax\n",
    "Function: is used to interate over a sequence, iterator\n",
    "They basically execute the set of statements multiple times or perform an operation multiple times."
   ]
  },
  {
   "cell_type": "markdown",
   "id": "1b59a310",
   "metadata": {},
   "source": [
    "# For loop"
   ]
  },
  {
   "cell_type": "raw",
   "id": "771a2d28",
   "metadata": {},
   "source": [
    "It works on any iterator\n",
    "\n",
    "Iterators >> String, List, Tuple, Set, Dict, dataframe, series, Range etc..\n",
    "\n",
    "Syntax:\n",
    "    \n",
    "for variable_name in iterator:\n",
    "    print(variable_name)\n",
    "    statement1\n",
    "    statement2\n",
    "    code1\n",
    "    code2"
   ]
  },
  {
   "cell_type": "code",
   "execution_count": 1,
   "id": "649bc175",
   "metadata": {},
   "outputs": [
    {
     "name": "stdout",
     "output_type": "stream",
     "text": [
      "We like Python\n",
      "We like Python\n",
      "We like Python\n",
      "We like Python\n",
      "We like Python\n",
      "We like Python\n",
      "We like Python\n",
      "We like Python\n",
      "We like Python\n",
      "We like Python\n"
     ]
    }
   ],
   "source": [
    "string = 'We like Python'\n",
    "\n",
    "for i in range(10):\n",
    "    print(string)"
   ]
  },
  {
   "cell_type": "code",
   "execution_count": 2,
   "id": "a237e1be",
   "metadata": {},
   "outputs": [
    {
     "name": "stdout",
     "output_type": "stream",
     "text": [
      "W\n",
      "e\n",
      " \n",
      "l\n",
      "i\n",
      "k\n",
      "e\n",
      " \n",
      "P\n",
      "y\n",
      "t\n",
      "h\n",
      "o\n",
      "n\n"
     ]
    }
   ],
   "source": [
    "for i in string:\n",
    "    print(i)"
   ]
  },
  {
   "cell_type": "code",
   "execution_count": 3,
   "id": "28eb7b90",
   "metadata": {},
   "outputs": [
    {
     "name": "stdout",
     "output_type": "stream",
     "text": [
      "2\n",
      "3\n",
      "5\n",
      "python\n",
      "6.7\n",
      "5\n",
      "class\n"
     ]
    }
   ],
   "source": [
    "list1 = [2,3,5,'python',6.7,5,'class']\n",
    "\n",
    "for i in list1:\n",
    "    print(i)"
   ]
  },
  {
   "cell_type": "code",
   "execution_count": 4,
   "id": "8163e404",
   "metadata": {},
   "outputs": [
    {
     "name": "stdout",
     "output_type": "stream",
     "text": [
      "49\n",
      "64\n",
      "9\n",
      "25\n",
      "4\n",
      "25\n"
     ]
    }
   ],
   "source": [
    "x = [7,8,3,5,2,5]\n",
    "\n",
    "for i in x:\n",
    "    print(i**2)"
   ]
  },
  {
   "cell_type": "code",
   "execution_count": 7,
   "id": "5db60f56",
   "metadata": {},
   "outputs": [
    {
     "name": "stdout",
     "output_type": "stream",
     "text": [
      "-11\n",
      "-12\n",
      "-13\n",
      "-14\n",
      "-15\n",
      "-16\n",
      "-17\n",
      "-18\n",
      "-19\n",
      "-20\n"
     ]
    }
   ],
   "source": [
    "for i in range(-11,-21,-1):\n",
    "    print(i)"
   ]
  },
  {
   "cell_type": "code",
   "execution_count": 8,
   "id": "64ab0184",
   "metadata": {},
   "outputs": [
    {
     "data": {
      "text/plain": [
       "['We', 'like', 'Python']"
      ]
     },
     "execution_count": 8,
     "metadata": {},
     "output_type": "execute_result"
    }
   ],
   "source": [
    "string = 'We like Python'\n",
    "\n",
    "list1 = string.split()\n",
    "list1"
   ]
  },
  {
   "cell_type": "code",
   "execution_count": 10,
   "id": "b6180838",
   "metadata": {},
   "outputs": [
    {
     "data": {
      "text/plain": [
       "['We', 'like', 'Python']"
      ]
     },
     "execution_count": 10,
     "metadata": {},
     "output_type": "execute_result"
    }
   ],
   "source": [
    "string = 'We like Python'\n",
    "\n",
    "list1 = string.split()\n",
    "list1"
   ]
  },
  {
   "cell_type": "markdown",
   "id": "83d3d264",
   "metadata": {},
   "source": [
    "# Loops on Tuple, Set, Dict"
   ]
  },
  {
   "cell_type": "code",
   "execution_count": 12,
   "id": "d1129199",
   "metadata": {},
   "outputs": [
    {
     "name": "stdout",
     "output_type": "stream",
     "text": [
      "2\n",
      "5\n",
      "3\n"
     ]
    }
   ],
   "source": [
    "tuple1 = (2,5,3)\n",
    "\n",
    "for i in tuple1:\n",
    "    print(i)"
   ]
  },
  {
   "cell_type": "code",
   "execution_count": 13,
   "id": "d8a5b307",
   "metadata": {},
   "outputs": [
    {
     "name": "stdout",
     "output_type": "stream",
     "text": [
      "2\n",
      "3\n",
      "5\n"
     ]
    }
   ],
   "source": [
    "set1 = {2,5,3}\n",
    "\n",
    "for i in set1:\n",
    "    print(i)"
   ]
  },
  {
   "cell_type": "code",
   "execution_count": 15,
   "id": "284c3c7d",
   "metadata": {},
   "outputs": [
    {
     "name": "stdout",
     "output_type": "stream",
     "text": [
      "A\n",
      "B\n",
      "C\n"
     ]
    }
   ],
   "source": [
    "dict1 = {'A':2,'B':5,'C':3}\n",
    "\n",
    "for i in dict1:\n",
    "    print(i)"
   ]
  },
  {
   "cell_type": "code",
   "execution_count": 16,
   "id": "a21e4aea",
   "metadata": {},
   "outputs": [
    {
     "name": "stdout",
     "output_type": "stream",
     "text": [
      "A\n",
      "B\n",
      "C\n"
     ]
    }
   ],
   "source": [
    "for i in dict1.keys():\n",
    "    print(i)"
   ]
  },
  {
   "cell_type": "code",
   "execution_count": 17,
   "id": "0ae65faa",
   "metadata": {},
   "outputs": [
    {
     "name": "stdout",
     "output_type": "stream",
     "text": [
      "2\n",
      "5\n",
      "3\n"
     ]
    }
   ],
   "source": [
    "for i in dict1.values():\n",
    "    print(i)"
   ]
  },
  {
   "cell_type": "code",
   "execution_count": 18,
   "id": "aef44bc0",
   "metadata": {},
   "outputs": [
    {
     "name": "stdout",
     "output_type": "stream",
     "text": [
      "('A', 2)\n",
      "('B', 5)\n",
      "('C', 3)\n"
     ]
    }
   ],
   "source": [
    "for i in dict1.items():\n",
    "    print(i)"
   ]
  },
  {
   "cell_type": "markdown",
   "id": "027fcf9d",
   "metadata": {},
   "source": [
    "## enumerate function"
   ]
  },
  {
   "cell_type": "code",
   "execution_count": 19,
   "id": "0e82f3f0",
   "metadata": {},
   "outputs": [
    {
     "name": "stdout",
     "output_type": "stream",
     "text": [
      "0 P\n",
      "1 y\n",
      "2 t\n",
      "3 h\n",
      "4 o\n",
      "5 n\n"
     ]
    }
   ],
   "source": [
    "string = 'Python'\n",
    "\n",
    "for i,j in enumerate(string):\n",
    "    print(i,j)"
   ]
  },
  {
   "cell_type": "markdown",
   "id": "eb56011f",
   "metadata": {},
   "source": [
    "# Nested Loops"
   ]
  },
  {
   "cell_type": "raw",
   "id": "66d11f0e",
   "metadata": {},
   "source": [
    "for loop inside another for loop"
   ]
  },
  {
   "cell_type": "code",
   "execution_count": 20,
   "id": "6f8bfbae",
   "metadata": {},
   "outputs": [
    {
     "name": "stdout",
     "output_type": "stream",
     "text": [
      "0\n",
      "1\n",
      "2\n",
      "3\n"
     ]
    }
   ],
   "source": [
    "for i in range(4):\n",
    "    print(i)"
   ]
  },
  {
   "cell_type": "code",
   "execution_count": 22,
   "id": "e19fd761",
   "metadata": {},
   "outputs": [
    {
     "name": "stdout",
     "output_type": "stream",
     "text": [
      "0 0\n",
      "0 1\n",
      "0 2\n",
      "0 3\n",
      "\n",
      "1 0\n",
      "1 1\n",
      "1 2\n",
      "1 3\n",
      "\n",
      "2 0\n",
      "2 1\n",
      "2 2\n",
      "2 3\n",
      "\n",
      "3 0\n",
      "3 1\n",
      "3 2\n",
      "3 3\n",
      "\n"
     ]
    }
   ],
   "source": [
    "for i in range(4):          # 0,1,2,3\n",
    "    for j in range(4):      # 0,1,2,3\n",
    "        print(i,j)\n",
    "    print()"
   ]
  },
  {
   "cell_type": "code",
   "execution_count": 23,
   "id": "6021fe43",
   "metadata": {},
   "outputs": [
    {
     "name": "stdout",
     "output_type": "stream",
     "text": [
      "0 0\n",
      "0 1\n",
      "\n",
      "1 0\n",
      "1 1\n",
      "\n",
      "2 0\n",
      "2 1\n",
      "\n",
      "3 0\n",
      "3 1\n",
      "\n"
     ]
    }
   ],
   "source": [
    "for i in range(4):          # 0,1,2,3\n",
    "    for j in range(2):      # 0,1\n",
    "        print(i,j)\n",
    "    print()"
   ]
  },
  {
   "cell_type": "code",
   "execution_count": 24,
   "id": "d670dd84",
   "metadata": {},
   "outputs": [
    {
     "name": "stdout",
     "output_type": "stream",
     "text": [
      "0 0\n",
      "0 1\n",
      "0 2\n",
      "0 3\n",
      "\n",
      "1 0\n",
      "1 1\n",
      "1 2\n",
      "1 3\n",
      "\n"
     ]
    }
   ],
   "source": [
    "for i in range(2):          # 0,1\n",
    "    for j in range(4):      # 0,1,2,3\n",
    "        print(i,j)\n",
    "    print()"
   ]
  },
  {
   "cell_type": "code",
   "execution_count": null,
   "id": "a3e9d2ea",
   "metadata": {},
   "outputs": [],
   "source": [
    "4 yug >> 12 hrs >> 100 yrs life >> 1 breath"
   ]
  },
  {
   "cell_type": "code",
   "execution_count": 26,
   "id": "01f565dc",
   "metadata": {},
   "outputs": [
    {
     "name": "stdout",
     "output_type": "stream",
     "text": [
      "0 0 0\n",
      "0 0 1\n",
      "0 0 2\n",
      "0 0 3\n",
      "\n",
      "0 1 0\n",
      "0 1 1\n",
      "0 1 2\n",
      "0 1 3\n",
      "\n",
      "0 2 0\n",
      "0 2 1\n",
      "0 2 2\n",
      "0 2 3\n",
      "\n",
      "--------------\n",
      "1 0 0\n",
      "1 0 1\n",
      "1 0 2\n",
      "1 0 3\n",
      "\n",
      "1 1 0\n",
      "1 1 1\n",
      "1 1 2\n",
      "1 1 3\n",
      "\n",
      "1 2 0\n",
      "1 2 1\n",
      "1 2 2\n",
      "1 2 3\n",
      "\n",
      "--------------\n"
     ]
    }
   ],
   "source": [
    "for i in range(2):          # 0,1\n",
    "    for j in range(3):      # 0,1,2\n",
    "        for k in range(4):  # 0,1,2,3\n",
    "            print(i,j,k)\n",
    "        print()\n",
    "    print(\"--------------\")\n",
    "    "
   ]
  },
  {
   "cell_type": "code",
   "execution_count": 27,
   "id": "4500ec7a",
   "metadata": {},
   "outputs": [
    {
     "name": "stdout",
     "output_type": "stream",
     "text": [
      "*\n",
      "*\n",
      "*\n",
      "*\n"
     ]
    }
   ],
   "source": [
    "for i in range(4):\n",
    "    print('*')"
   ]
  },
  {
   "cell_type": "code",
   "execution_count": 28,
   "id": "8a32c7d8",
   "metadata": {},
   "outputs": [
    {
     "name": "stdout",
     "output_type": "stream",
     "text": [
      "* * * * "
     ]
    }
   ],
   "source": [
    "for i in range(4):\n",
    "    print('*',end=' ')"
   ]
  },
  {
   "cell_type": "code",
   "execution_count": 29,
   "id": "0d76b9f7",
   "metadata": {},
   "outputs": [
    {
     "name": "stdout",
     "output_type": "stream",
     "text": [
      "*\n",
      "*\n",
      "*\n",
      "*\n",
      "*\n",
      "*\n",
      "*\n",
      "*\n",
      "*\n",
      "*\n",
      "*\n",
      "*\n"
     ]
    }
   ],
   "source": [
    "for i in range(4):\n",
    "    for j in range(3):\n",
    "        print('*')"
   ]
  },
  {
   "cell_type": "code",
   "execution_count": 30,
   "id": "a9851e55",
   "metadata": {},
   "outputs": [
    {
     "name": "stdout",
     "output_type": "stream",
     "text": [
      "* * * * * * * * * * * * "
     ]
    }
   ],
   "source": [
    "for i in range(4):\n",
    "    for j in range(3):\n",
    "        print('*',end= ' ')"
   ]
  },
  {
   "cell_type": "code",
   "execution_count": 31,
   "id": "94c86a0f",
   "metadata": {},
   "outputs": [
    {
     "name": "stdout",
     "output_type": "stream",
     "text": [
      "* * * \n",
      "* * * \n",
      "* * * \n",
      "* * * \n"
     ]
    }
   ],
   "source": [
    "for i in range(4):\n",
    "    for j in range(3):\n",
    "        print('*',end= ' ')\n",
    "    print(end='\\n')"
   ]
  },
  {
   "cell_type": "code",
   "execution_count": 32,
   "id": "d0eb83be",
   "metadata": {},
   "outputs": [
    {
     "name": "stdout",
     "output_type": "stream",
     "text": [
      "* * * * \n",
      "* * * * \n",
      "* * * * \n",
      "* * * * \n"
     ]
    }
   ],
   "source": [
    "for i in range(4):\n",
    "    for j in range(4):\n",
    "        print('*',end= ' ')\n",
    "    print()"
   ]
  },
  {
   "cell_type": "code",
   "execution_count": 33,
   "id": "15aa136d",
   "metadata": {},
   "outputs": [
    {
     "name": "stdout",
     "output_type": "stream",
     "text": [
      "* * * * \n",
      "* * * * \n",
      "* * * * \n",
      "* * * * \n",
      "\n",
      "* * * * \n",
      "* * * * \n",
      "* * * * \n",
      "* * * * \n",
      "\n",
      "* * * * \n",
      "* * * * \n",
      "* * * * \n",
      "* * * * \n",
      "\n",
      "* * * * \n",
      "* * * * \n",
      "* * * * \n",
      "* * * * \n",
      "\n"
     ]
    }
   ],
   "source": [
    "for i in range(4):\n",
    "    for j in range(4):\n",
    "        for k in range(4):\n",
    "            print('*',end= ' ')\n",
    "        print()\n",
    "    print()"
   ]
  },
  {
   "cell_type": "code",
   "execution_count": 36,
   "id": "61e27178",
   "metadata": {},
   "outputs": [
    {
     "name": "stdout",
     "output_type": "stream",
     "text": [
      "* * * * * \n",
      "* * * * * \n",
      "* * * * * \n",
      "* * * * * \n"
     ]
    }
   ],
   "source": [
    "for i in range(4):\n",
    "    for j in range(2):\n",
    "        print('*',end=' ')\n",
    "    for k in range(3):\n",
    "        print('*',end= ' ')    \n",
    "    print()"
   ]
  },
  {
   "cell_type": "code",
   "execution_count": 35,
   "id": "3af1d6d6",
   "metadata": {},
   "outputs": [
    {
     "name": "stdout",
     "output_type": "stream",
     "text": [
      "*+*+*-*-*-\n",
      "*+*+*-*-*-\n",
      "*+*+*-*-*-\n",
      "*+*+*-*-*-\n"
     ]
    }
   ],
   "source": [
    "for i in range(4):\n",
    "    for j in range(2):\n",
    "        print('*',end='+')\n",
    "    for k in range(3):\n",
    "        print('*',end= '-')    \n",
    "    print()"
   ]
  },
  {
   "cell_type": "code",
   "execution_count": 41,
   "id": "ca4c6f05",
   "metadata": {},
   "outputs": [
    {
     "name": "stdout",
     "output_type": "stream",
     "text": [
      "* * \n",
      "* * \n",
      "* * \n",
      "* * \n",
      "* * * \n",
      "* * * \n"
     ]
    }
   ],
   "source": [
    "for i in range(4):\n",
    "    for j in range(2):\n",
    "        print('*',end=' ')\n",
    "    print()\n",
    "        \n",
    "for m in range(2):\n",
    "    for k in range(3):\n",
    "        print('*',end= ' ')    \n",
    "    print()"
   ]
  },
  {
   "cell_type": "code",
   "execution_count": null,
   "id": "1a96d7f5",
   "metadata": {},
   "outputs": [],
   "source": [
    "* \n",
    "* *  \n",
    "* * *"
   ]
  },
  {
   "cell_type": "code",
   "execution_count": 46,
   "id": "d36453de",
   "metadata": {},
   "outputs": [
    {
     "name": "stdout",
     "output_type": "stream",
     "text": [
      "* \n",
      "* * \n",
      "* * * \n"
     ]
    }
   ],
   "source": [
    "for i in range(1,4):              # 1,2,3\n",
    "    for j in range(i):          # 1,2,3\n",
    "        print('*',end= ' ')    \n",
    "    print()"
   ]
  },
  {
   "cell_type": "code",
   "execution_count": 48,
   "id": "564def10",
   "metadata": {},
   "outputs": [
    {
     "name": "stdout",
     "output_type": "stream",
     "text": [
      "* \n",
      "* * \n",
      "* * * \n"
     ]
    }
   ],
   "source": [
    "for i in range(3):              # 0,1,2\n",
    "    for j in range(i+1):          # 1,2,3\n",
    "        print('*',end= ' ')    \n",
    "    print()"
   ]
  },
  {
   "cell_type": "code",
   "execution_count": 50,
   "id": "5b3204d1",
   "metadata": {},
   "outputs": [
    {
     "name": "stdout",
     "output_type": "stream",
     "text": [
      "* \n",
      "* * \n",
      "* * * \n"
     ]
    }
   ],
   "source": [
    "for i in range(1):              # 1,2,3\n",
    "    for j in range(1):          # 1,2,3\n",
    "        print('*',end= ' ') \n",
    "    print()\n",
    "    for j in range(2):          # 1,2,3\n",
    "        print('*',end= ' ') \n",
    "    print()\n",
    "    for j in range(3):          # 1,2,3\n",
    "        print('*',end= ' ') \n",
    "    print()"
   ]
  },
  {
   "cell_type": "code",
   "execution_count": 51,
   "id": "d062ba84",
   "metadata": {},
   "outputs": [
    {
     "name": "stdout",
     "output_type": "stream",
     "text": [
      "* \n",
      "* * \n",
      "* * * \n"
     ]
    }
   ],
   "source": [
    "for j in range(1):          # 1,2,3\n",
    "        print('*',end= ' ') \n",
    "print()\n",
    "\n",
    "for j in range(2):          # 1,2,3\n",
    "    print('*',end= ' ') \n",
    "print()\n",
    "\n",
    "for j in range(3):          # 1,2,3\n",
    "    print('*',end= ' ') \n",
    "print()"
   ]
  },
  {
   "cell_type": "code",
   "execution_count": 56,
   "id": "7d609007",
   "metadata": {},
   "outputs": [
    {
     "name": "stdout",
     "output_type": "stream",
     "text": [
      "*\n",
      "* *\n",
      "* * *\n"
     ]
    }
   ],
   "source": [
    "print('*')\n",
    "print('* *')\n",
    "print('* * *')"
   ]
  },
  {
   "cell_type": "code",
   "execution_count": 55,
   "id": "457c629a",
   "metadata": {},
   "outputs": [
    {
     "name": "stdout",
     "output_type": "stream",
     "text": [
      "* \n",
      "* * \n",
      "* * * \n"
     ]
    }
   ],
   "source": [
    "for i in range(3):      #0,1,2\n",
    "    print('* '*(i+1))"
   ]
  },
  {
   "cell_type": "code",
   "execution_count": 57,
   "id": "c7b0aa9a",
   "metadata": {},
   "outputs": [
    {
     "name": "stdout",
     "output_type": "stream",
     "text": [
      "* \n",
      "* * \n",
      "* * * \n"
     ]
    }
   ],
   "source": [
    "for i in range(1,4):      #1,2,3\n",
    "    print('* '*i)"
   ]
  },
  {
   "cell_type": "code",
   "execution_count": null,
   "id": "9d4b01ed",
   "metadata": {},
   "outputs": [],
   "source": [
    "    *\n",
    "  * *\n",
    "* * *"
   ]
  },
  {
   "cell_type": "code",
   "execution_count": 65,
   "id": "f6dd8d70",
   "metadata": {
    "scrolled": true
   },
   "outputs": [
    {
     "name": "stdout",
     "output_type": "stream",
     "text": [
      "    * \n",
      "  * * \n",
      "* * * \n"
     ]
    }
   ],
   "source": [
    "for i in range(3,0,-1):               # 3,2,1\n",
    "    print('  '*(i-1)+'* '*(4-i))"
   ]
  },
  {
   "cell_type": "code",
   "execution_count": 68,
   "id": "2fd7d8e1",
   "metadata": {},
   "outputs": [
    {
     "name": "stdout",
     "output_type": "stream",
     "text": [
      "5\n",
      "        * \n",
      "      * * \n",
      "    * * * \n",
      "  * * * * \n",
      "* * * * * \n"
     ]
    }
   ],
   "source": [
    "x = int(input())\n",
    "for i in range(x,0,-1):               # 3,2,1\n",
    "    print('  '*(i-1)+'* '*((x+1)-i))"
   ]
  },
  {
   "cell_type": "code",
   "execution_count": 71,
   "id": "13bb3c17",
   "metadata": {},
   "outputs": [
    {
     "name": "stdout",
     "output_type": "stream",
     "text": [
      "      * \n",
      "    * * \n",
      "  * * * \n",
      "* * * * \n"
     ]
    }
   ],
   "source": [
    "for i in range(1,5):\n",
    "    for j in range(4-i):\n",
    "        print(' ',end=' ')\n",
    "    for k in range(i):\n",
    "        print('*',end=' ')\n",
    "    print()"
   ]
  },
  {
   "cell_type": "code",
   "execution_count": 72,
   "id": "e4774ab5",
   "metadata": {},
   "outputs": [
    {
     "name": "stdout",
     "output_type": "stream",
     "text": [
      "* \n",
      "* * \n",
      "* * * \n",
      "* * * * \n"
     ]
    }
   ],
   "source": [
    "for i in range(1,5):\n",
    "    for k in range(i):\n",
    "        print('*',end=' ')\n",
    "    print()"
   ]
  },
  {
   "cell_type": "code",
   "execution_count": 77,
   "id": "2baa156d",
   "metadata": {},
   "outputs": [
    {
     "name": "stdout",
     "output_type": "stream",
     "text": [
      "      * \n",
      "    * * \n",
      "  * * * \n",
      "* * * * \n"
     ]
    }
   ],
   "source": [
    "for i in range(1,5):\n",
    "    for j in range(4-i):\n",
    "        print('  ',end='')\n",
    "    for k in range(i):\n",
    "        print('* ',end='')\n",
    "    print()"
   ]
  },
  {
   "cell_type": "markdown",
   "id": "1fff9e08",
   "metadata": {},
   "source": [
    "# For Else"
   ]
  },
  {
   "cell_type": "raw",
   "id": "41763555",
   "metadata": {},
   "source": [
    "Else will be executed after for loop\n",
    "however if forr loop consist of break statement then else will not be executed"
   ]
  },
  {
   "cell_type": "code",
   "execution_count": 1,
   "id": "40de6683",
   "metadata": {},
   "outputs": [
    {
     "name": "stdout",
     "output_type": "stream",
     "text": [
      "1\n",
      "1\n",
      "1\n",
      "1\n",
      "1\n",
      "thank you!\n"
     ]
    }
   ],
   "source": [
    "a = 1\n",
    "\n",
    "for i in range(5):\n",
    "    print(a)\n",
    "    \n",
    "else:\n",
    "    print('thank you!')"
   ]
  },
  {
   "cell_type": "code",
   "execution_count": 2,
   "id": "625975bb",
   "metadata": {},
   "outputs": [
    {
     "name": "stdout",
     "output_type": "stream",
     "text": [
      "1\n"
     ]
    }
   ],
   "source": [
    "a = 1\n",
    "\n",
    "for i in range(5):\n",
    "    print(a)\n",
    "    break\n",
    "    \n",
    "else:\n",
    "    print('thank you!')"
   ]
  },
  {
   "cell_type": "code",
   "execution_count": 21,
   "id": "cd9ed5f7",
   "metadata": {},
   "outputs": [
    {
     "name": "stdout",
     "output_type": "stream",
     "text": [
      "5\n",
      "factorial of the number 5 is  120\n"
     ]
    }
   ],
   "source": [
    "a,f = int(input()),1\n",
    "\n",
    "for i in range(1,a+1):\n",
    "    f=f*i\n",
    "    \n",
    "else:\n",
    "    if f < 500:\n",
    "        print(f'factorial of the number {a} is ',f)\n",
    "        \n",
    "    else:\n",
    "        print('We dont consider numbers whose factorial is greater than 500')\n",
    "        "
   ]
  },
  {
   "cell_type": "markdown",
   "id": "df3f4e46",
   "metadata": {},
   "source": [
    "# Pass, Continue & Break"
   ]
  },
  {
   "cell_type": "raw",
   "id": "bb1950e7",
   "metadata": {},
   "source": [
    "pass is used so as to neither express any statement further or bypass the condition of loop\n",
    "pass does not stop or break the iteration\n",
    "pass is also used along with conditional statements\n",
    "\n",
    "continue will break the current iteration & jump to next iteration\n",
    "break will break the loop altogether & come out of the for or for-else loop"
   ]
  },
  {
   "cell_type": "markdown",
   "id": "74bb1a11",
   "metadata": {},
   "source": [
    "## Use of pass"
   ]
  },
  {
   "cell_type": "code",
   "execution_count": 10,
   "id": "b5566c76",
   "metadata": {},
   "outputs": [
    {
     "name": "stdout",
     "output_type": "stream",
     "text": [
      "printing for no reason\n"
     ]
    }
   ],
   "source": [
    "a = [1,2,3,4]\n",
    "\n",
    "if 4 in a:\n",
    "    pass\n",
    "    print('printing for no reason')\n",
    "    \n",
    "else:\n",
    "    print('4 not in list a')"
   ]
  },
  {
   "cell_type": "code",
   "execution_count": 12,
   "id": "f336069f",
   "metadata": {},
   "outputs": [],
   "source": [
    "n = 5\n",
    "\n",
    "for i in range(n):\n",
    "    pass"
   ]
  },
  {
   "cell_type": "code",
   "execution_count": 14,
   "id": "12a9447b",
   "metadata": {},
   "outputs": [
    {
     "name": "stdout",
     "output_type": "stream",
     "text": [
      "1\n",
      "2\n",
      "3\n",
      "4\n"
     ]
    }
   ],
   "source": [
    "n = 5\n",
    "\n",
    "for i in range(n):\n",
    "    if i==0:\n",
    "        pass\n",
    "    else:\n",
    "        print(i)\n",
    "    "
   ]
  },
  {
   "cell_type": "markdown",
   "id": "5ea169ba",
   "metadata": {},
   "source": [
    "## continue"
   ]
  },
  {
   "cell_type": "code",
   "execution_count": 17,
   "id": "56d17637",
   "metadata": {},
   "outputs": [
    {
     "name": "stdout",
     "output_type": "stream",
     "text": [
      "countinue found below\n",
      "1\n",
      "2\n",
      "3\n",
      "4\n",
      "5\n",
      "6\n",
      "7\n",
      "8\n",
      "9\n",
      "loop completed!\n"
     ]
    }
   ],
   "source": [
    "a = 0\n",
    "\n",
    "for i in range(10):\n",
    "    if i == 0:\n",
    "        print('countinue found below')\n",
    "        continue\n",
    "        print('continue found above')\n",
    "    \n",
    "    else:\n",
    "        print(i)\n",
    "        \n",
    "else:\n",
    "    print('loop completed!')"
   ]
  },
  {
   "cell_type": "markdown",
   "id": "add98191",
   "metadata": {},
   "source": [
    "## Break"
   ]
  },
  {
   "cell_type": "code",
   "execution_count": 19,
   "id": "1f3cdf26",
   "metadata": {},
   "outputs": [
    {
     "name": "stdout",
     "output_type": "stream",
     "text": [
      "countinue found below\n"
     ]
    }
   ],
   "source": [
    "for i in range(10):\n",
    "    if i == 0:\n",
    "        print('break found below')\n",
    "        break\n",
    "        print('break found above')\n",
    "    \n",
    "    else:\n",
    "        print(i)\n",
    "        \n",
    "else:\n",
    "    print('loop completed!')"
   ]
  },
  {
   "cell_type": "code",
   "execution_count": null,
   "id": "20e1ad63",
   "metadata": {},
   "outputs": [],
   "source": []
  }
 ],
 "metadata": {
  "kernelspec": {
   "display_name": "Python 3",
   "language": "python",
   "name": "python3"
  },
  "language_info": {
   "codemirror_mode": {
    "name": "ipython",
    "version": 3
   },
   "file_extension": ".py",
   "mimetype": "text/x-python",
   "name": "python",
   "nbconvert_exporter": "python",
   "pygments_lexer": "ipython3",
   "version": "3.8.8"
  },
  "toc": {
   "base_numbering": 1,
   "nav_menu": {},
   "number_sections": true,
   "sideBar": true,
   "skip_h1_title": false,
   "title_cell": "Table of Contents",
   "title_sidebar": "Contents",
   "toc_cell": false,
   "toc_position": {},
   "toc_section_display": true,
   "toc_window_display": false
  },
  "varInspector": {
   "cols": {
    "lenName": 16,
    "lenType": 16,
    "lenVar": 40
   },
   "kernels_config": {
    "python": {
     "delete_cmd_postfix": "",
     "delete_cmd_prefix": "del ",
     "library": "var_list.py",
     "varRefreshCmd": "print(var_dic_list())"
    },
    "r": {
     "delete_cmd_postfix": ") ",
     "delete_cmd_prefix": "rm(",
     "library": "var_list.r",
     "varRefreshCmd": "cat(var_dic_list()) "
    }
   },
   "types_to_exclude": [
    "module",
    "function",
    "builtin_function_or_method",
    "instance",
    "_Feature"
   ],
   "window_display": false
  }
 },
 "nbformat": 4,
 "nbformat_minor": 5
}
