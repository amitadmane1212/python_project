{
 "cells": [
  {
   "cell_type": "markdown",
   "id": "fab6b612",
   "metadata": {},
   "source": [
    "# Index()"
   ]
  },
  {
   "cell_type": "raw",
   "id": "6f87db33",
   "metadata": {},
   "source": [
    "It returns the index corresponding to the value of the tuple\n",
    "index(valueue,start index, end index)"
   ]
  },
  {
   "cell_type": "code",
   "execution_count": 5,
   "id": "f0cce978",
   "metadata": {},
   "outputs": [
    {
     "data": {
      "text/plain": [
       "6"
      ]
     },
     "execution_count": 5,
     "metadata": {},
     "output_type": "execute_result"
    }
   ],
   "source": [
    "tup = (2,5,7,3,8,9,0)\n",
    "\n",
    "tup.index(0)"
   ]
  },
  {
   "cell_type": "code",
   "execution_count": 2,
   "id": "c535c596",
   "metadata": {},
   "outputs": [
    {
     "ename": "ValueError",
     "evalue": "0 is not in list",
     "output_type": "error",
     "traceback": [
      "\u001b[1;31m---------------------------------------------------------------------------\u001b[0m",
      "\u001b[1;31mValueError\u001b[0m                                Traceback (most recent call last)",
      "\u001b[1;32m<ipython-input-2-314d42a592be>\u001b[0m in \u001b[0;36m<module>\u001b[1;34m\u001b[0m\n\u001b[1;32m----> 1\u001b[1;33m \u001b[0mtup\u001b[0m\u001b[1;33m.\u001b[0m\u001b[0mindex\u001b[0m\u001b[1;33m(\u001b[0m\u001b[1;36m0\u001b[0m\u001b[1;33m,\u001b[0m\u001b[1;36m1\u001b[0m\u001b[1;33m,\u001b[0m\u001b[1;36m5\u001b[0m\u001b[1;33m)\u001b[0m\u001b[1;33m\u001b[0m\u001b[1;33m\u001b[0m\u001b[0m\n\u001b[0m",
      "\u001b[1;31mValueError\u001b[0m: 0 is not in list"
     ]
    }
   ],
   "source": [
    "tup.index(0,1,5)"
   ]
  },
  {
   "cell_type": "code",
   "execution_count": 3,
   "id": "fd27dc5c",
   "metadata": {},
   "outputs": [
    {
     "data": {
      "text/plain": [
       "3"
      ]
     },
     "execution_count": 3,
     "metadata": {},
     "output_type": "execute_result"
    }
   ],
   "source": [
    "tup.index(3,1,5)"
   ]
  },
  {
   "cell_type": "markdown",
   "id": "723a6c9e",
   "metadata": {},
   "source": [
    "# count()"
   ]
  },
  {
   "cell_type": "raw",
   "id": "740a4053",
   "metadata": {},
   "source": [
    "counts the occurance of the value in the tuple"
   ]
  },
  {
   "cell_type": "code",
   "execution_count": 6,
   "id": "4ddaa53f",
   "metadata": {},
   "outputs": [
    {
     "data": {
      "text/plain": [
       "2"
      ]
     },
     "execution_count": 6,
     "metadata": {},
     "output_type": "execute_result"
    }
   ],
   "source": [
    "tup = (2,5,7,3,8,9,5,0)\n",
    "\n",
    "tup.count(5)"
   ]
  },
  {
   "cell_type": "code",
   "execution_count": 8,
   "id": "e09f0e26",
   "metadata": {},
   "outputs": [
    {
     "data": {
      "text/plain": [
       "1"
      ]
     },
     "execution_count": 8,
     "metadata": {},
     "output_type": "execute_result"
    }
   ],
   "source": [
    "tup = (2,5,7,3,8,9,5,0)\n",
    "\n",
    "tup.count(7)"
   ]
  },
  {
   "cell_type": "code",
   "execution_count": 9,
   "id": "e618baf7",
   "metadata": {},
   "outputs": [
    {
     "data": {
      "text/plain": [
       "0"
      ]
     },
     "execution_count": 9,
     "metadata": {},
     "output_type": "execute_result"
    }
   ],
   "source": [
    "tup = (2,5,7,3,8,9,5,0)\n",
    "\n",
    "tup.count(100)"
   ]
  },
  {
   "cell_type": "markdown",
   "id": "107bee74",
   "metadata": {},
   "source": [
    "# Aggregate functions"
   ]
  },
  {
   "cell_type": "code",
   "execution_count": 10,
   "id": "ce8b8b57",
   "metadata": {},
   "outputs": [
    {
     "data": {
      "text/plain": [
       "(0, 9, 39, 8, 4.875, 5.0, 5)"
      ]
     },
     "execution_count": 10,
     "metadata": {},
     "output_type": "execute_result"
    }
   ],
   "source": [
    "from statistics import mean,median,mode\n",
    "\n",
    "tup = (2,5,7,3,8,9,5,0)\n",
    "\n",
    "min(tup),max(tup),sum(tup),len(tup),mean(tup),median(tup),mode(tup)"
   ]
  },
  {
   "cell_type": "markdown",
   "id": "b7ade565",
   "metadata": {},
   "source": [
    "# sorted()"
   ]
  },
  {
   "cell_type": "code",
   "execution_count": 12,
   "id": "492f542f",
   "metadata": {},
   "outputs": [
    {
     "data": {
      "text/plain": [
       "(0, 2, 3, 5, 5, 7, 8, 9)"
      ]
     },
     "execution_count": 12,
     "metadata": {},
     "output_type": "execute_result"
    }
   ],
   "source": [
    "tup = (2,5,7,3,8,9,5,0)\n",
    "tuple(sorted(tup))"
   ]
  },
  {
   "cell_type": "code",
   "execution_count": 13,
   "id": "8b656c73",
   "metadata": {},
   "outputs": [
    {
     "data": {
      "text/plain": [
       "(9, 8, 7, 5, 5, 3, 2, 0)"
      ]
     },
     "execution_count": 13,
     "metadata": {},
     "output_type": "execute_result"
    }
   ],
   "source": [
    "tuple(sorted(tup,reverse=True))"
   ]
  },
  {
   "cell_type": "markdown",
   "id": "da6a8a5c",
   "metadata": {},
   "source": [
    "# Reversed()"
   ]
  },
  {
   "cell_type": "code",
   "execution_count": 14,
   "id": "8805a2ec",
   "metadata": {},
   "outputs": [
    {
     "data": {
      "text/plain": [
       "(0, 5, 9, 8, 3, 7, 5, 2)"
      ]
     },
     "execution_count": 14,
     "metadata": {},
     "output_type": "execute_result"
    }
   ],
   "source": [
    "tup = (2,5,7,3,8,9,5,0)\n",
    "tuple(reversed(tup))"
   ]
  },
  {
   "cell_type": "markdown",
   "id": "5078391f",
   "metadata": {},
   "source": [
    "# copy"
   ]
  },
  {
   "cell_type": "code",
   "execution_count": 15,
   "id": "b202d971",
   "metadata": {},
   "outputs": [
    {
     "data": {
      "text/plain": [
       "(2, 5, 7, 3, 8, 9, 5, 0)"
      ]
     },
     "execution_count": 15,
     "metadata": {},
     "output_type": "execute_result"
    }
   ],
   "source": [
    "from copy import copy, deepcopy\n",
    "\n",
    "tup = (2,5,7,3,8,9,5,0)\n",
    "t1 = copy(tup)\n",
    "t1"
   ]
  },
  {
   "cell_type": "code",
   "execution_count": 16,
   "id": "25a35e86",
   "metadata": {},
   "outputs": [
    {
     "data": {
      "text/plain": [
       "(2, 5, 7, 3, 8, 9, 5, 0)"
      ]
     },
     "execution_count": 16,
     "metadata": {},
     "output_type": "execute_result"
    }
   ],
   "source": [
    "tup = (2,5,7,3,8,9,5,0)\n",
    "t1 = deepcopy(tup)\n",
    "t1"
   ]
  },
  {
   "cell_type": "markdown",
   "id": "67f05b71",
   "metadata": {},
   "source": [
    "## difference b/w copy/ shallow copy & deepcopy"
   ]
  },
  {
   "cell_type": "markdown",
   "id": "378f15c4",
   "metadata": {},
   "source": [
    "#### copy()"
   ]
  },
  {
   "cell_type": "code",
   "execution_count": 17,
   "id": "480f94ad",
   "metadata": {},
   "outputs": [
    {
     "data": {
      "text/plain": [
       "[2, 5, [7, 3, 8], 9, 5, 0]"
      ]
     },
     "execution_count": 17,
     "metadata": {},
     "output_type": "execute_result"
    }
   ],
   "source": [
    "from copy import copy, deepcopy\n",
    "\n",
    "l1 = [2,5,[7,3,8],9,5,0]\n",
    "l2 = copy(l1)\n",
    "l2"
   ]
  },
  {
   "cell_type": "code",
   "execution_count": 18,
   "id": "d5c697ef",
   "metadata": {},
   "outputs": [
    {
     "data": {
      "text/plain": [
       "[2, 5, [7, 3, 8], 9, 5, 0]"
      ]
     },
     "execution_count": 18,
     "metadata": {},
     "output_type": "execute_result"
    }
   ],
   "source": [
    "l1 = [2,5,[7,3,8],9,5,0]\n",
    "l2 = l1.copy()\n",
    "l2"
   ]
  },
  {
   "cell_type": "code",
   "execution_count": 19,
   "id": "36f94fae",
   "metadata": {},
   "outputs": [
    {
     "name": "stdout",
     "output_type": "stream",
     "text": [
      "[100, 5, [7, 3, 8], 9, 5, 0] [2, 5, [7, 3, 8], 9, 5, 0]\n"
     ]
    }
   ],
   "source": [
    "l2[0]=100\n",
    "print(l2,l1)"
   ]
  },
  {
   "cell_type": "code",
   "execution_count": 22,
   "id": "015ec5ef",
   "metadata": {},
   "outputs": [
    {
     "name": "stdout",
     "output_type": "stream",
     "text": [
      "[2, 5, [100, 3, 8], 9, 5, 0] [2, 5, [100, 3, 8], 9, 5, 0]\n"
     ]
    }
   ],
   "source": [
    "l1 = [2,5,[7,3,8],9,5,0]\n",
    "l2 = l1.copy()\n",
    "l2[2][0]=100\n",
    "print(l2,l1)"
   ]
  },
  {
   "cell_type": "markdown",
   "id": "985fa584",
   "metadata": {},
   "source": [
    "#### deepcopy()"
   ]
  },
  {
   "cell_type": "code",
   "execution_count": 24,
   "id": "edc19f08",
   "metadata": {},
   "outputs": [
    {
     "name": "stdout",
     "output_type": "stream",
     "text": [
      "[100, 5, [7, 3, 8], 9, 5, 0] [2, 5, [7, 3, 8], 9, 5, 0]\n"
     ]
    }
   ],
   "source": [
    "from copy import copy, deepcopy\n",
    "\n",
    "l1 = [2,5,[7,3,8],9,5,0]\n",
    "l2 = deepcopy(l1)\n",
    "l2[0]=100\n",
    "print(l2,l1)"
   ]
  },
  {
   "cell_type": "code",
   "execution_count": 26,
   "id": "085afaa1",
   "metadata": {},
   "outputs": [
    {
     "name": "stdout",
     "output_type": "stream",
     "text": [
      "[2, 5, [100, 3, 8], 9, 5, 0] [2, 5, [7, 3, 8], 9, 5, 0]\n"
     ]
    }
   ],
   "source": [
    "l1 = [2,5,[7,3,8],9,5,0]\n",
    "l2 = deepcopy(l1)\n",
    "l2[2][0]=100\n",
    "print(l2,l1)"
   ]
  },
  {
   "cell_type": "raw",
   "id": "29152b62",
   "metadata": {},
   "source": [
    "Difference between List & Tuple:\n",
    "    \n",
    "List:\n",
    "    1. []\n",
    "    2. Mutable\n",
    "    3. Ordered\n",
    "    4. Execution time is greater than tuple.\n",
    "    5. more functionalities than tuple\n",
    "    6. slower than tuple\n",
    "    7. Less memory efficient\n",
    "    8. Duplicates are allowed\n",
    "    9. for single item, it need not be comma separated. it only has to be in square braces.\n",
    "    10.Less secure\n",
    "    \n",
    "Tuple:\n",
    "    1. ()\n",
    "    2. Immutable\n",
    "    3. Ordered\n",
    "    4. Execution time is lesser than list.\n",
    "    5. less functionalities than List.\n",
    "    6. faster than list\n",
    "    7. more memory efficient\n",
    "    8. Duplicates are allowed\n",
    "    9. for single item, it has to be comma separated. Even if multiple values are not encompassed in () but they are separated by comma they are taken in tuple.\n",
    "    10. More secure.\n",
    "    \n",
    "    "
   ]
  },
  {
   "cell_type": "code",
   "execution_count": 27,
   "id": "328cfb32",
   "metadata": {},
   "outputs": [
    {
     "data": {
      "text/plain": [
       "(1, 2, 3, 4)"
      ]
     },
     "execution_count": 27,
     "metadata": {},
     "output_type": "execute_result"
    }
   ],
   "source": [
    "a = 1,2,3,4    # packing of many items into single variable\n",
    "a"
   ]
  },
  {
   "cell_type": "code",
   "execution_count": 28,
   "id": "b9ec1e50",
   "metadata": {},
   "outputs": [
    {
     "data": {
      "text/plain": [
       "1"
      ]
     },
     "execution_count": 28,
     "metadata": {},
     "output_type": "execute_result"
    }
   ],
   "source": [
    "a,b,c,d = 1,2,3,4    # unpacking of many items into different variables\n",
    "a"
   ]
  },
  {
   "cell_type": "code",
   "execution_count": 29,
   "id": "c5042b88",
   "metadata": {},
   "outputs": [
    {
     "data": {
      "text/plain": [
       "1"
      ]
     },
     "execution_count": 29,
     "metadata": {},
     "output_type": "execute_result"
    }
   ],
   "source": [
    "a,*b,d = 1,2,3,4    \n",
    "a"
   ]
  },
  {
   "cell_type": "code",
   "execution_count": 30,
   "id": "9b3ba962",
   "metadata": {},
   "outputs": [
    {
     "data": {
      "text/plain": [
       "[2, 3]"
      ]
     },
     "execution_count": 30,
     "metadata": {},
     "output_type": "execute_result"
    }
   ],
   "source": [
    "b"
   ]
  },
  {
   "cell_type": "markdown",
   "id": "0d32d1d2",
   "metadata": {},
   "source": [
    "# Sorts"
   ]
  },
  {
   "cell_type": "code",
   "execution_count": 32,
   "id": "47f3b1ea",
   "metadata": {},
   "outputs": [
    {
     "data": {
      "text/plain": [
       "[0, 2, 3, 5, 5, 7, 8, 9]"
      ]
     },
     "execution_count": 32,
     "metadata": {},
     "output_type": "execute_result"
    }
   ],
   "source": [
    "l1 = [2,5,7,3,8,9,5,0]\n",
    "\n",
    "l1.sort()\n",
    "l1"
   ]
  },
  {
   "cell_type": "code",
   "execution_count": 36,
   "id": "57780122",
   "metadata": {},
   "outputs": [
    {
     "data": {
      "text/plain": [
       "[0, 2, 3, 5, 5, 7, 8, 9]"
      ]
     },
     "execution_count": 36,
     "metadata": {},
     "output_type": "execute_result"
    }
   ],
   "source": [
    "# sorting for ascending sort\n",
    "\n",
    "l1 = [2,5,7,3,8,9,5,0]\n",
    "\n",
    "for i in range(len(l1)):\n",
    "    for j in range(i+1,len(l1)):\n",
    "        if l1[j]<=l1[i]:\n",
    "            l1[i],l1[j]=l1[j],l1[i]     # swapping of items\n",
    "            \n",
    "l1"
   ]
  },
  {
   "cell_type": "code",
   "execution_count": 35,
   "id": "d9c99fcb",
   "metadata": {},
   "outputs": [
    {
     "data": {
      "text/plain": [
       "[9, 8, 7, 5, 5, 3, 2, 0]"
      ]
     },
     "execution_count": 35,
     "metadata": {},
     "output_type": "execute_result"
    }
   ],
   "source": [
    "# sorting for descending sort\n",
    "l1 = [2,5,7,3,8,9,5,0]\n",
    "\n",
    "for i in range(len(l1)):\n",
    "    for j in range(i+1,len(l1)):\n",
    "        if l1[j]>l1[i]:\n",
    "            l1[i],l1[j]=l1[j],l1[i]\n",
    "            \n",
    "l1"
   ]
  },
  {
   "cell_type": "raw",
   "id": "c679df5f",
   "metadata": {},
   "source": [
    "# Home work:\n",
    "Generate codes for various sorting-\n",
    "\n",
    "1. insertion sort\n",
    "2. bubble sort\n",
    "3. selection sort\n",
    "\n",
    "4. merge sort\n",
    "5. quick sort"
   ]
  },
  {
   "cell_type": "raw",
   "id": "a50c1e3d",
   "metadata": {},
   "source": [
    "Youtube:\n",
    "    statsquests\n",
    "    Ai engineering\n",
    "    Krish Naik\n",
    "    codewithharry\n",
    "    simplilearn\n",
    "    \n",
    "    \n",
    "Web links:\n",
    "    1. errors:\n",
    "        stackoverflow\n",
    "        stackexchange\n",
    "        stackabuse\n",
    "        CodeProject\n",
    "        gitcode\n",
    "        \n",
    "    2. Study:\n",
    "        \n",
    "        javatpoint\n",
    "        geekforgeeks\n",
    "        towardsdatascience\n",
    "        w3schools\n",
    "        simplilearn\n",
    "        analyticsvidhya\n",
    "        Intellipaat"
   ]
  }
 ],
 "metadata": {
  "kernelspec": {
   "display_name": "Python 3",
   "language": "python",
   "name": "python3"
  },
  "language_info": {
   "codemirror_mode": {
    "name": "ipython",
    "version": 3
   },
   "file_extension": ".py",
   "mimetype": "text/x-python",
   "name": "python",
   "nbconvert_exporter": "python",
   "pygments_lexer": "ipython3",
   "version": "3.8.8"
  },
  "toc": {
   "base_numbering": 1,
   "nav_menu": {},
   "number_sections": true,
   "sideBar": true,
   "skip_h1_title": false,
   "title_cell": "Table of Contents",
   "title_sidebar": "Contents",
   "toc_cell": false,
   "toc_position": {},
   "toc_section_display": true,
   "toc_window_display": false
  },
  "varInspector": {
   "cols": {
    "lenName": 16,
    "lenType": 16,
    "lenVar": 40
   },
   "kernels_config": {
    "python": {
     "delete_cmd_postfix": "",
     "delete_cmd_prefix": "del ",
     "library": "var_list.py",
     "varRefreshCmd": "print(var_dic_list())"
    },
    "r": {
     "delete_cmd_postfix": ") ",
     "delete_cmd_prefix": "rm(",
     "library": "var_list.r",
     "varRefreshCmd": "cat(var_dic_list()) "
    }
   },
   "types_to_exclude": [
    "module",
    "function",
    "builtin_function_or_method",
    "instance",
    "_Feature"
   ],
   "window_display": false
  }
 },
 "nbformat": 4,
 "nbformat_minor": 5
}
