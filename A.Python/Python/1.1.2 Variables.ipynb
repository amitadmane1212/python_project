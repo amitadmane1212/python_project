{
 "cells": [
  {
   "cell_type": "markdown",
   "id": "664a874c",
   "metadata": {},
   "source": [
    "# Features of Python"
   ]
  },
  {
   "cell_type": "raw",
   "id": "35915994",
   "metadata": {},
   "source": [
    "designed by : Guido Van Rossum in 20 Feb 1991\n",
    "    first official version of python was 0.9.0\n",
    "    current python version in use is 3.10.5"
   ]
  },
  {
   "cell_type": "raw",
   "id": "e21152a3",
   "metadata": {},
   "source": [
    "Why Python?\n",
    "\n",
    "1. simplest language amongst all languages.\n",
    "2. simple to learn, simple to debug.\n",
    "3. Free & open source.\n",
    "4. Gloably available.\n",
    "5. It has a very vast library support.\n",
    "6. Almost 70-75% data scientist use python as their primary programming language.\n",
    "7. Programming friendly language (easy to write codes, read & script)\n",
    "8. It supports both Procedural programming concept & object oriented programming concept (Functions & Classs concept).\n",
    "9. Python is also interprited language.\n",
    "10. Dynamically types Language (we need not mention the data type of the variable). No need to mention the data type of variable. \n",
    "Variable data type declaration is not required.\n",
    "11. Most widly used language.\n",
    "12. Most simplest langugae. Alomst feels like we are learning English\n"
   ]
  },
  {
   "cell_type": "markdown",
   "id": "2f5bfbb2",
   "metadata": {},
   "source": [
    "## Variables"
   ]
  },
  {
   "cell_type": "raw",
   "id": "04334e00",
   "metadata": {},
   "source": [
    "Defination: Variables are containers to store the data or information."
   ]
  },
  {
   "cell_type": "code",
   "execution_count": 4,
   "id": "7b7ccbee",
   "metadata": {},
   "outputs": [],
   "source": [
    "addition = 12500 + 14356"
   ]
  },
  {
   "cell_type": "code",
   "execution_count": 5,
   "id": "9d91d44c",
   "metadata": {},
   "outputs": [
    {
     "data": {
      "text/plain": [
       "26856"
      ]
     },
     "execution_count": 5,
     "metadata": {},
     "output_type": "execute_result"
    }
   ],
   "source": [
    "addition"
   ]
  },
  {
   "cell_type": "code",
   "execution_count": 6,
   "id": "ffebd648",
   "metadata": {},
   "outputs": [
    {
     "data": {
      "text/plain": [
       "26756"
      ]
     },
     "execution_count": 6,
     "metadata": {},
     "output_type": "execute_result"
    }
   ],
   "source": [
    "addition - 100"
   ]
  },
  {
   "cell_type": "code",
   "execution_count": null,
   "id": "2951c29d",
   "metadata": {},
   "outputs": [],
   "source": [
    "Rules to declare a variable\n",
    "\n",
    "1. letters (A-Z, a-z, 0-9)\n",
    "2. It should not start with numbers.\n",
    "3. It can not contain any special character except (_)\n",
    "4. Case Sensitive. (Variables should preserve the uppercase & lowercase for every letter)\n",
    "5. It should not be any reserved keyword (and, or, class, del, if, else, True, False, elif)\n",
    "6. We can use multiple keywords in single line using , or ;"
   ]
  },
  {
   "cell_type": "raw",
   "id": "669e520c",
   "metadata": {},
   "source": [
    "special characters as in : @ ! # $ % & * ( | ?"
   ]
  },
  {
   "cell_type": "code",
   "execution_count": 7,
   "id": "31396ffc",
   "metadata": {},
   "outputs": [],
   "source": [
    "Addition9 = 10"
   ]
  },
  {
   "cell_type": "code",
   "execution_count": 8,
   "id": "665a9aba",
   "metadata": {},
   "outputs": [
    {
     "ename": "SyntaxError",
     "evalue": "invalid syntax (773996949.py, line 1)",
     "output_type": "error",
     "traceback": [
      "\u001b[1;36m  Input \u001b[1;32mIn [8]\u001b[1;36m\u001b[0m\n\u001b[1;33m    9Addition = 10\u001b[0m\n\u001b[1;37m     ^\u001b[0m\n\u001b[1;31mSyntaxError\u001b[0m\u001b[1;31m:\u001b[0m invalid syntax\n"
     ]
    }
   ],
   "source": [
    "9Addition = 10"
   ]
  },
  {
   "cell_type": "code",
   "execution_count": 10,
   "id": "90a9bd7a",
   "metadata": {},
   "outputs": [
    {
     "data": {
      "text/plain": [
       "999"
      ]
     },
     "execution_count": 10,
     "metadata": {},
     "output_type": "execute_result"
    }
   ],
   "source": [
    "Addition_9 = 999\n",
    "Addition_9"
   ]
  },
  {
   "cell_type": "code",
   "execution_count": 12,
   "id": "1dbf2423",
   "metadata": {},
   "outputs": [
    {
     "data": {
      "text/plain": [
       "9"
      ]
     },
     "execution_count": 12,
     "metadata": {},
     "output_type": "execute_result"
    }
   ],
   "source": [
    "_Addition9 = 9\n",
    "_Addition9"
   ]
  },
  {
   "cell_type": "code",
   "execution_count": 13,
   "id": "19a581cb",
   "metadata": {},
   "outputs": [
    {
     "ename": "SyntaxError",
     "evalue": "invalid syntax (1950064466.py, line 1)",
     "output_type": "error",
     "traceback": [
      "\u001b[1;36m  Input \u001b[1;32mIn [13]\u001b[1;36m\u001b[0m\n\u001b[1;33m    &Addition9 = 9\u001b[0m\n\u001b[1;37m    ^\u001b[0m\n\u001b[1;31mSyntaxError\u001b[0m\u001b[1;31m:\u001b[0m invalid syntax\n"
     ]
    }
   ],
   "source": [
    "&Addition9 = 9\n",
    "&Addition9"
   ]
  },
  {
   "cell_type": "code",
   "execution_count": 14,
   "id": "a81e9292",
   "metadata": {},
   "outputs": [
    {
     "data": {
      "text/plain": [
       "10"
      ]
     },
     "execution_count": 14,
     "metadata": {},
     "output_type": "execute_result"
    }
   ],
   "source": [
    "Addition9"
   ]
  },
  {
   "cell_type": "code",
   "execution_count": 15,
   "id": "afc9dbce",
   "metadata": {},
   "outputs": [
    {
     "ename": "NameError",
     "evalue": "name 'addition9' is not defined",
     "output_type": "error",
     "traceback": [
      "\u001b[1;31m---------------------------------------------------------------------------\u001b[0m",
      "\u001b[1;31mNameError\u001b[0m                                 Traceback (most recent call last)",
      "Input \u001b[1;32mIn [15]\u001b[0m, in \u001b[0;36m<cell line: 1>\u001b[1;34m()\u001b[0m\n\u001b[1;32m----> 1\u001b[0m \u001b[43maddition9\u001b[49m\n",
      "\u001b[1;31mNameError\u001b[0m: name 'addition9' is not defined"
     ]
    }
   ],
   "source": [
    "addition9"
   ]
  },
  {
   "cell_type": "code",
   "execution_count": 16,
   "id": "e2ee9e20",
   "metadata": {},
   "outputs": [
    {
     "data": {
      "text/plain": [
       "111"
      ]
     },
     "execution_count": 16,
     "metadata": {},
     "output_type": "execute_result"
    }
   ],
   "source": [
    "A1 = 111\n",
    "A1\n"
   ]
  },
  {
   "cell_type": "code",
   "execution_count": 17,
   "id": "62dbc603",
   "metadata": {},
   "outputs": [
    {
     "ename": "SyntaxError",
     "evalue": "invalid syntax (3963284083.py, line 1)",
     "output_type": "error",
     "traceback": [
      "\u001b[1;36m  Input \u001b[1;32mIn [17]\u001b[1;36m\u001b[0m\n\u001b[1;33m    1A = 100\u001b[0m\n\u001b[1;37m     ^\u001b[0m\n\u001b[1;31mSyntaxError\u001b[0m\u001b[1;31m:\u001b[0m invalid syntax\n"
     ]
    }
   ],
   "source": [
    "# Should not start with numbers\n",
    "1A = 100"
   ]
  },
  {
   "cell_type": "code",
   "execution_count": 18,
   "id": "3ab1b0cf",
   "metadata": {},
   "outputs": [
    {
     "ename": "SyntaxError",
     "evalue": "invalid syntax (2473986608.py, line 1)",
     "output_type": "error",
     "traceback": [
      "\u001b[1;36m  Input \u001b[1;32mIn [18]\u001b[1;36m\u001b[0m\n\u001b[1;33m    a b = 200\u001b[0m\n\u001b[1;37m      ^\u001b[0m\n\u001b[1;31mSyntaxError\u001b[0m\u001b[1;31m:\u001b[0m invalid syntax\n"
     ]
    }
   ],
   "source": [
    "#  Special characters are not allowed\n",
    "a b = 200\n",
    "a b"
   ]
  },
  {
   "cell_type": "code",
   "execution_count": 19,
   "id": "ef04bc0d",
   "metadata": {},
   "outputs": [
    {
     "data": {
      "text/plain": [
       "200"
      ]
     },
     "execution_count": 19,
     "metadata": {},
     "output_type": "execute_result"
    }
   ],
   "source": [
    "a_b = 200\n",
    "a_b"
   ]
  },
  {
   "cell_type": "code",
   "execution_count": 22,
   "id": "239c378b",
   "metadata": {},
   "outputs": [
    {
     "ename": "NameError",
     "evalue": "name 'a_B' is not defined",
     "output_type": "error",
     "traceback": [
      "\u001b[1;31m---------------------------------------------------------------------------\u001b[0m",
      "\u001b[1;31mNameError\u001b[0m                                 Traceback (most recent call last)",
      "Input \u001b[1;32mIn [22]\u001b[0m, in \u001b[0;36m<cell line: 2>\u001b[1;34m()\u001b[0m\n\u001b[0;32m      1\u001b[0m a_b \u001b[38;5;241m=\u001b[39m \u001b[38;5;241m200\u001b[39m\n\u001b[1;32m----> 2\u001b[0m \u001b[43ma_B\u001b[49m\n",
      "\u001b[1;31mNameError\u001b[0m: name 'a_B' is not defined"
     ]
    }
   ],
   "source": [
    "# Variables are case sensitive\n",
    "a_b = 200\n",
    "a_B"
   ]
  },
  {
   "cell_type": "code",
   "execution_count": 20,
   "id": "077b4261",
   "metadata": {},
   "outputs": [
    {
     "ename": "SyntaxError",
     "evalue": "invalid syntax (3525779360.py, line 1)",
     "output_type": "error",
     "traceback": [
      "\u001b[1;36m  Input \u001b[1;32mIn [20]\u001b[1;36m\u001b[0m\n\u001b[1;33m    class = 6\u001b[0m\n\u001b[1;37m          ^\u001b[0m\n\u001b[1;31mSyntaxError\u001b[0m\u001b[1;31m:\u001b[0m invalid syntax\n"
     ]
    }
   ],
   "source": [
    "# use of reserved keyword not allowed\n",
    "class = 6\n",
    "class"
   ]
  },
  {
   "cell_type": "code",
   "execution_count": 23,
   "id": "5995112d",
   "metadata": {},
   "outputs": [
    {
     "data": {
      "text/plain": [
       "'Pune Camp'"
      ]
     },
     "execution_count": 23,
     "metadata": {},
     "output_type": "execute_result"
    }
   ],
   "source": [
    "_address = 'Pune Camp'\n",
    "_address"
   ]
  },
  {
   "cell_type": "code",
   "execution_count": 25,
   "id": "b6fcb6ec",
   "metadata": {},
   "outputs": [
    {
     "data": {
      "text/plain": [
       "10"
      ]
     },
     "execution_count": 25,
     "metadata": {},
     "output_type": "execute_result"
    }
   ],
   "source": [
    "x, y = 10, 20\n",
    "\n",
    "x"
   ]
  },
  {
   "cell_type": "code",
   "execution_count": 26,
   "id": "d5937f1f",
   "metadata": {},
   "outputs": [
    {
     "data": {
      "text/plain": [
       "20"
      ]
     },
     "execution_count": 26,
     "metadata": {},
     "output_type": "execute_result"
    }
   ],
   "source": [
    "y"
   ]
  },
  {
   "cell_type": "code",
   "execution_count": 27,
   "id": "51963668",
   "metadata": {},
   "outputs": [],
   "source": [
    "m = 100; n = 200"
   ]
  },
  {
   "cell_type": "code",
   "execution_count": 28,
   "id": "e59bfe8a",
   "metadata": {},
   "outputs": [
    {
     "data": {
      "text/plain": [
       "100"
      ]
     },
     "execution_count": 28,
     "metadata": {},
     "output_type": "execute_result"
    }
   ],
   "source": [
    "m"
   ]
  },
  {
   "cell_type": "code",
   "execution_count": 29,
   "id": "f9b6c2a6",
   "metadata": {},
   "outputs": [
    {
     "data": {
      "text/plain": [
       "200"
      ]
     },
     "execution_count": 29,
     "metadata": {},
     "output_type": "execute_result"
    }
   ],
   "source": [
    "n"
   ]
  },
  {
   "cell_type": "code",
   "execution_count": 30,
   "id": "3c308788",
   "metadata": {},
   "outputs": [],
   "source": [
    "x = y = 15"
   ]
  },
  {
   "cell_type": "code",
   "execution_count": 31,
   "id": "27056b82",
   "metadata": {},
   "outputs": [
    {
     "data": {
      "text/plain": [
       "15"
      ]
     },
     "execution_count": 31,
     "metadata": {},
     "output_type": "execute_result"
    }
   ],
   "source": [
    "x"
   ]
  },
  {
   "cell_type": "code",
   "execution_count": 32,
   "id": "17e92494",
   "metadata": {},
   "outputs": [
    {
     "data": {
      "text/plain": [
       "15"
      ]
     },
     "execution_count": 32,
     "metadata": {},
     "output_type": "execute_result"
    }
   ],
   "source": [
    "y"
   ]
  },
  {
   "cell_type": "code",
   "execution_count": null,
   "id": "2374a40b",
   "metadata": {},
   "outputs": [],
   "source": [
    "MYVAR >> valid\n",
    "mYvar >> valid\n",
    "007James_bond >> Invalid\n",
    "James_bond007 >> Valid\n",
    "My^var >> Invalid\n",
    "_abc >> Valid\n",
    "import >> Invalid\n",
    "Elif >> valid"
   ]
  },
  {
   "cell_type": "code",
   "execution_count": 34,
   "id": "7c0dbd5e",
   "metadata": {},
   "outputs": [
    {
     "data": {
      "text/plain": [
       "555"
      ]
     },
     "execution_count": 34,
     "metadata": {},
     "output_type": "execute_result"
    }
   ],
   "source": [
    "Elif = 555\n",
    "Elif"
   ]
  },
  {
   "cell_type": "code",
   "execution_count": null,
   "id": "f2e308f8",
   "metadata": {},
   "outputs": [],
   "source": []
  }
 ],
 "metadata": {
  "kernelspec": {
   "display_name": "Python 3 (ipykernel)",
   "language": "python",
   "name": "python3"
  },
  "language_info": {
   "codemirror_mode": {
    "name": "ipython",
    "version": 3
   },
   "file_extension": ".py",
   "mimetype": "text/x-python",
   "name": "python",
   "nbconvert_exporter": "python",
   "pygments_lexer": "ipython3",
   "version": "3.9.12"
  }
 },
 "nbformat": 4,
 "nbformat_minor": 5
}
