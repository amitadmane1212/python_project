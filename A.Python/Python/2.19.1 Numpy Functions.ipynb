{
 "cells": [
  {
   "cell_type": "markdown",
   "id": "78a33bb9",
   "metadata": {},
   "source": [
    "# Linspace()"
   ]
  },
  {
   "cell_type": "raw",
   "id": "f929fac7",
   "metadata": {},
   "source": [
    "- used for creating sequence of numbers"
   ]
  },
  {
   "cell_type": "raw",
   "id": "82f1e5fd",
   "metadata": {},
   "source": [
    "linspace(start,stop,num,retstep=True/False)\n",
    "when retstep is True it returns evenly spaced values\n",
    "by default value for num is 50"
   ]
  },
  {
   "cell_type": "code",
   "execution_count": 1,
   "id": "d2bdbc89",
   "metadata": {},
   "outputs": [
    {
     "data": {
      "text/plain": [
       "array([0.        , 0.02040816, 0.04081633, 0.06122449, 0.08163265,\n",
       "       0.10204082, 0.12244898, 0.14285714, 0.16326531, 0.18367347,\n",
       "       0.20408163, 0.2244898 , 0.24489796, 0.26530612, 0.28571429,\n",
       "       0.30612245, 0.32653061, 0.34693878, 0.36734694, 0.3877551 ,\n",
       "       0.40816327, 0.42857143, 0.44897959, 0.46938776, 0.48979592,\n",
       "       0.51020408, 0.53061224, 0.55102041, 0.57142857, 0.59183673,\n",
       "       0.6122449 , 0.63265306, 0.65306122, 0.67346939, 0.69387755,\n",
       "       0.71428571, 0.73469388, 0.75510204, 0.7755102 , 0.79591837,\n",
       "       0.81632653, 0.83673469, 0.85714286, 0.87755102, 0.89795918,\n",
       "       0.91836735, 0.93877551, 0.95918367, 0.97959184, 1.        ])"
      ]
     },
     "execution_count": 1,
     "metadata": {},
     "output_type": "execute_result"
    }
   ],
   "source": [
    "import numpy as np\n",
    "arr = np.linspace(0,1)\n",
    "arr"
   ]
  },
  {
   "cell_type": "code",
   "execution_count": 11,
   "id": "ba9050fa",
   "metadata": {},
   "outputs": [
    {
     "data": {
      "text/plain": [
       "(array([ 1,  2,  3,  4,  5,  6,  7,  8,  9, 10]), 1.0)"
      ]
     },
     "execution_count": 11,
     "metadata": {},
     "output_type": "execute_result"
    }
   ],
   "source": [
    "arr = np.linspace(1,10,10,dtype='int',retstep='True')\n",
    "arr"
   ]
  },
  {
   "cell_type": "code",
   "execution_count": 9,
   "id": "efadb99c",
   "metadata": {},
   "outputs": [
    {
     "data": {
      "text/plain": [
       "array([1, 2, 3, 4, 5, 6, 7, 8, 9])"
      ]
     },
     "execution_count": 9,
     "metadata": {},
     "output_type": "execute_result"
    }
   ],
   "source": [
    "np.arange(1,10)"
   ]
  },
  {
   "cell_type": "code",
   "execution_count": 10,
   "id": "f93ee51b",
   "metadata": {
    "collapsed": true
   },
   "outputs": [
    {
     "data": {
      "text/plain": [
       "array([0.        , 0.02040816, 0.04081632, 0.06122448, 0.08163264,\n",
       "       0.1020408 , 0.12244896, 0.14285712, 0.16326528, 0.18367344,\n",
       "       0.2040816 , 0.22448976, 0.24489792, 0.26530608, 0.28571424,\n",
       "       0.3061224 , 0.32653056, 0.34693872, 0.36734688, 0.38775504,\n",
       "       0.4081632 , 0.42857136, 0.44897952, 0.46938768, 0.48979584,\n",
       "       0.510204  , 0.53061216, 0.55102032, 0.57142848, 0.59183664,\n",
       "       0.6122448 , 0.63265296, 0.65306112, 0.67346928, 0.69387744,\n",
       "       0.7142856 , 0.73469376, 0.75510192, 0.77551008, 0.79591824,\n",
       "       0.8163264 , 0.83673456, 0.85714272, 0.87755088, 0.89795904,\n",
       "       0.9183672 , 0.93877536, 0.95918352, 0.97959168, 0.99999984])"
      ]
     },
     "execution_count": 10,
     "metadata": {},
     "output_type": "execute_result"
    }
   ],
   "source": [
    "np.arange(0,1,0.02040816)"
   ]
  },
  {
   "cell_type": "code",
   "execution_count": 17,
   "id": "19072c93",
   "metadata": {},
   "outputs": [
    {
     "data": {
      "text/html": [
       "<div>\n",
       "<style scoped>\n",
       "    .dataframe tbody tr th:only-of-type {\n",
       "        vertical-align: middle;\n",
       "    }\n",
       "\n",
       "    .dataframe tbody tr th {\n",
       "        vertical-align: top;\n",
       "    }\n",
       "\n",
       "    .dataframe thead th {\n",
       "        text-align: right;\n",
       "    }\n",
       "</style>\n",
       "<table border=\"1\" class=\"dataframe\">\n",
       "  <thead>\n",
       "    <tr style=\"text-align: right;\">\n",
       "      <th></th>\n",
       "      <th>amount</th>\n",
       "      <th>intrest</th>\n",
       "      <th>month</th>\n",
       "      <th>Principla amount</th>\n",
       "    </tr>\n",
       "  </thead>\n",
       "  <tbody>\n",
       "    <tr>\n",
       "      <th>0</th>\n",
       "      <td>100</td>\n",
       "      <td>12.5</td>\n",
       "      <td>6.0</td>\n",
       "      <td>112.5</td>\n",
       "    </tr>\n",
       "    <tr>\n",
       "      <th>1</th>\n",
       "      <td>200</td>\n",
       "      <td>10.7</td>\n",
       "      <td>12.0</td>\n",
       "      <td>221.4</td>\n",
       "    </tr>\n",
       "    <tr>\n",
       "      <th>2</th>\n",
       "      <td>300</td>\n",
       "      <td>8.9</td>\n",
       "      <td>18.0</td>\n",
       "      <td>326.7</td>\n",
       "    </tr>\n",
       "    <tr>\n",
       "      <th>3</th>\n",
       "      <td>400</td>\n",
       "      <td>7.1</td>\n",
       "      <td>24.0</td>\n",
       "      <td>428.4</td>\n",
       "    </tr>\n",
       "    <tr>\n",
       "      <th>4</th>\n",
       "      <td>500</td>\n",
       "      <td>5.3</td>\n",
       "      <td>30.0</td>\n",
       "      <td>526.5</td>\n",
       "    </tr>\n",
       "    <tr>\n",
       "      <th>5</th>\n",
       "      <td>600</td>\n",
       "      <td>3.5</td>\n",
       "      <td>36.0</td>\n",
       "      <td>621.0</td>\n",
       "    </tr>\n",
       "  </tbody>\n",
       "</table>\n",
       "</div>"
      ],
      "text/plain": [
       "   amount  intrest  month  Principla amount\n",
       "0     100     12.5    6.0             112.5\n",
       "1     200     10.7   12.0             221.4\n",
       "2     300      8.9   18.0             326.7\n",
       "3     400      7.1   24.0             428.4\n",
       "4     500      5.3   30.0             526.5\n",
       "5     600      3.5   36.0             621.0"
      ]
     },
     "execution_count": 17,
     "metadata": {},
     "output_type": "execute_result"
    }
   ],
   "source": [
    "dict1 = {'amount':np.ones(6,dtype='int')*np.arange(100,700,100),\n",
    "        'intrest':np.linspace(3.5,12.5,6)[::-1],\n",
    "        'month':np.linspace(6,36,6)}\n",
    "import pandas as pd\n",
    "df = pd.DataFrame(dict1)\n",
    "df['Principla amount']=((df['amount']*df['intrest'])/100)+df['amount']\n",
    "df"
   ]
  },
  {
   "cell_type": "markdown",
   "id": "84f5a860",
   "metadata": {},
   "source": [
    "# Genration of Random numbers"
   ]
  },
  {
   "cell_type": "code",
   "execution_count": 18,
   "id": "b6098757",
   "metadata": {},
   "outputs": [
    {
     "data": {
      "text/plain": [
       "0.5011604787984737"
      ]
     },
     "execution_count": 18,
     "metadata": {},
     "output_type": "execute_result"
    }
   ],
   "source": [
    "import random\n",
    "x = random.random()\n",
    "x"
   ]
  },
  {
   "cell_type": "code",
   "execution_count": 20,
   "id": "d6c408aa",
   "metadata": {},
   "outputs": [
    {
     "data": {
      "text/plain": [
       "9"
      ]
     },
     "execution_count": 20,
     "metadata": {},
     "output_type": "execute_result"
    }
   ],
   "source": [
    "x = random.randint(2,10)\n",
    "x"
   ]
  },
  {
   "cell_type": "raw",
   "id": "772f2236",
   "metadata": {},
   "source": [
    "in numpy there are similar random no. generation functions:\n",
    "1. rand()\n",
    "2. randf()\n",
    "3. random()\n",
    "4. randint()\n",
    "5. randn()"
   ]
  },
  {
   "cell_type": "markdown",
   "id": "b5463d93",
   "metadata": {},
   "source": [
    "# rand()"
   ]
  },
  {
   "cell_type": "raw",
   "id": "27583875",
   "metadata": {},
   "source": [
    "it will genrate random values b/w 0-1"
   ]
  },
  {
   "cell_type": "code",
   "execution_count": 21,
   "id": "96848269",
   "metadata": {},
   "outputs": [
    {
     "data": {
      "text/plain": [
       "array([0.25524239])"
      ]
     },
     "execution_count": 21,
     "metadata": {},
     "output_type": "execute_result"
    }
   ],
   "source": [
    "rand_no = np.random.rand(1)\n",
    "rand_no"
   ]
  },
  {
   "cell_type": "code",
   "execution_count": 23,
   "id": "4f2518cc",
   "metadata": {},
   "outputs": [
    {
     "data": {
      "text/plain": [
       "array([0.24792151, 0.46937577, 0.77748655, 0.11106505, 0.15805265])"
      ]
     },
     "execution_count": 23,
     "metadata": {},
     "output_type": "execute_result"
    }
   ],
   "source": [
    "rand_no = np.random.rand(5)\n",
    "rand_no"
   ]
  },
  {
   "cell_type": "code",
   "execution_count": 25,
   "id": "76e2c81d",
   "metadata": {},
   "outputs": [
    {
     "data": {
      "text/plain": [
       "array([[[3.82976045e-01, 9.12418218e-02, 9.32313305e-01],\n",
       "        [2.94830523e-01, 8.92371124e-01, 3.17500554e-01],\n",
       "        [5.88299411e-04, 3.71308983e-01, 3.12422957e-02]],\n",
       "\n",
       "       [[5.64691653e-01, 8.30844964e-01, 8.64968224e-01],\n",
       "        [1.46492108e-01, 2.73652907e-01, 2.29478257e-01],\n",
       "        [9.76220287e-01, 3.20992440e-01, 6.26292005e-01]]])"
      ]
     },
     "execution_count": 25,
     "metadata": {},
     "output_type": "execute_result"
    }
   ],
   "source": [
    "rand_no = np.random.rand(18).reshape(2,3,3)\n",
    "rand_no"
   ]
  },
  {
   "cell_type": "code",
   "execution_count": 26,
   "id": "3a181c79",
   "metadata": {},
   "outputs": [
    {
     "data": {
      "text/plain": [
       "array([[[0.54400785, 0.19630573, 0.20854064],\n",
       "        [0.51912287, 0.88820739, 0.11673352],\n",
       "        [0.22579109, 0.9084854 , 0.8656821 ]],\n",
       "\n",
       "       [[0.20776188, 0.54127004, 0.91287548],\n",
       "        [0.57869077, 0.35534917, 0.78092241],\n",
       "        [0.17510996, 0.34973913, 0.15015993]]])"
      ]
     },
     "execution_count": 26,
     "metadata": {},
     "output_type": "execute_result"
    }
   ],
   "source": [
    "rand_no = np.random.rand(2,3,3)\n",
    "rand_no"
   ]
  },
  {
   "cell_type": "markdown",
   "id": "5975e950",
   "metadata": {},
   "source": [
    "# Random"
   ]
  },
  {
   "cell_type": "raw",
   "id": "b80c1ac7",
   "metadata": {},
   "source": [
    "# random takes only 1 positional arguement\n",
    "# it gives values b/1 0-1"
   ]
  },
  {
   "cell_type": "code",
   "execution_count": 27,
   "id": "99182770",
   "metadata": {},
   "outputs": [
    {
     "data": {
      "text/plain": [
       "0.5271224578175167"
      ]
     },
     "execution_count": 27,
     "metadata": {},
     "output_type": "execute_result"
    }
   ],
   "source": [
    "np.random.random()"
   ]
  },
  {
   "cell_type": "code",
   "execution_count": 28,
   "id": "14e29058",
   "metadata": {},
   "outputs": [
    {
     "data": {
      "text/plain": [
       "array([0.01482659, 0.01720794, 0.4510251 , 0.59788859, 0.86556057,\n",
       "       0.07677139, 0.44505082, 0.10369318, 0.9090535 , 0.34424089])"
      ]
     },
     "execution_count": 28,
     "metadata": {},
     "output_type": "execute_result"
    }
   ],
   "source": [
    "np.random.random(10)"
   ]
  },
  {
   "cell_type": "code",
   "execution_count": 29,
   "id": "626527a0",
   "metadata": {},
   "outputs": [
    {
     "ename": "TypeError",
     "evalue": "random() takes at most 1 positional argument (2 given)",
     "output_type": "error",
     "traceback": [
      "\u001b[1;31m---------------------------------------------------------------------------\u001b[0m",
      "\u001b[1;31mTypeError\u001b[0m                                 Traceback (most recent call last)",
      "\u001b[1;32m<ipython-input-29-80b6e3664a11>\u001b[0m in \u001b[0;36m<module>\u001b[1;34m\u001b[0m\n\u001b[1;32m----> 1\u001b[1;33m \u001b[0mnp\u001b[0m\u001b[1;33m.\u001b[0m\u001b[0mrandom\u001b[0m\u001b[1;33m.\u001b[0m\u001b[0mrandom\u001b[0m\u001b[1;33m(\u001b[0m\u001b[1;36m2\u001b[0m\u001b[1;33m,\u001b[0m\u001b[1;36m3\u001b[0m\u001b[1;33m)\u001b[0m\u001b[1;33m\u001b[0m\u001b[1;33m\u001b[0m\u001b[0m\n\u001b[0m",
      "\u001b[1;32mmtrand.pyx\u001b[0m in \u001b[0;36mnumpy.random.mtrand.RandomState.random\u001b[1;34m()\u001b[0m\n",
      "\u001b[1;31mTypeError\u001b[0m: random() takes at most 1 positional argument (2 given)"
     ]
    }
   ],
   "source": [
    "np.random.random(2,3)"
   ]
  },
  {
   "cell_type": "code",
   "execution_count": 30,
   "id": "c18fbffe",
   "metadata": {},
   "outputs": [
    {
     "data": {
      "text/plain": [
       "array([[0.21102673, 0.09660731, 0.52809704],\n",
       "       [0.35391781, 0.35888053, 0.52064731]])"
      ]
     },
     "execution_count": 30,
     "metadata": {},
     "output_type": "execute_result"
    }
   ],
   "source": [
    "np.random.random(6).reshape(2,3)"
   ]
  },
  {
   "cell_type": "markdown",
   "id": "63b48007",
   "metadata": {},
   "source": [
    "# Ranf()"
   ]
  },
  {
   "cell_type": "raw",
   "id": "c12a32f5",
   "metadata": {},
   "source": [
    "# It takes only 1 positional arguement\n",
    "# it gives values b/1 0-1"
   ]
  },
  {
   "cell_type": "code",
   "execution_count": 31,
   "id": "a6d648e2",
   "metadata": {},
   "outputs": [
    {
     "data": {
      "text/plain": [
       "0.11145681054494283"
      ]
     },
     "execution_count": 31,
     "metadata": {},
     "output_type": "execute_result"
    }
   ],
   "source": [
    "np.random.ranf()"
   ]
  },
  {
   "cell_type": "code",
   "execution_count": 32,
   "id": "47c4b86d",
   "metadata": {},
   "outputs": [
    {
     "data": {
      "text/plain": [
       "array([0.60627295, 0.01180789, 0.57785077, 0.32418727, 0.96564298,\n",
       "       0.17809661, 0.96717409, 0.86300325, 0.87899447, 0.22817299])"
      ]
     },
     "execution_count": 32,
     "metadata": {},
     "output_type": "execute_result"
    }
   ],
   "source": [
    "np.random.ranf(10)"
   ]
  },
  {
   "cell_type": "code",
   "execution_count": 33,
   "id": "b7da6140",
   "metadata": {},
   "outputs": [
    {
     "data": {
      "text/plain": [
       "array([[[0.16315813, 0.01418154],\n",
       "        [0.40124441, 0.39822791],\n",
       "        [0.14042011, 0.11631344]],\n",
       "\n",
       "       [[0.31757219, 0.73801284],\n",
       "        [0.14409891, 0.0453212 ],\n",
       "        [0.53378024, 0.31543574]]])"
      ]
     },
     "execution_count": 33,
     "metadata": {},
     "output_type": "execute_result"
    }
   ],
   "source": [
    "np.random.ranf(12).reshape(2,3,2)"
   ]
  },
  {
   "cell_type": "code",
   "execution_count": 34,
   "id": "0c27f12d",
   "metadata": {},
   "outputs": [
    {
     "ename": "TypeError",
     "evalue": "random_sample() takes at most 1 positional argument (3 given)",
     "output_type": "error",
     "traceback": [
      "\u001b[1;31m---------------------------------------------------------------------------\u001b[0m",
      "\u001b[1;31mTypeError\u001b[0m                                 Traceback (most recent call last)",
      "\u001b[1;32m<ipython-input-34-7f0aeb5c4733>\u001b[0m in \u001b[0;36m<module>\u001b[1;34m\u001b[0m\n\u001b[1;32m----> 1\u001b[1;33m \u001b[0mnp\u001b[0m\u001b[1;33m.\u001b[0m\u001b[0mrandom\u001b[0m\u001b[1;33m.\u001b[0m\u001b[0mranf\u001b[0m\u001b[1;33m(\u001b[0m\u001b[1;36m2\u001b[0m\u001b[1;33m,\u001b[0m\u001b[1;36m3\u001b[0m\u001b[1;33m,\u001b[0m\u001b[1;36m2\u001b[0m\u001b[1;33m)\u001b[0m\u001b[1;33m\u001b[0m\u001b[1;33m\u001b[0m\u001b[0m\n\u001b[0m",
      "\u001b[1;32mmtrand.pyx\u001b[0m in \u001b[0;36mnumpy.random.mtrand.ranf\u001b[1;34m()\u001b[0m\n",
      "\u001b[1;32mmtrand.pyx\u001b[0m in \u001b[0;36mnumpy.random.mtrand.RandomState.random_sample\u001b[1;34m()\u001b[0m\n",
      "\u001b[1;31mTypeError\u001b[0m: random_sample() takes at most 1 positional argument (3 given)"
     ]
    }
   ],
   "source": [
    "np.random.ranf(2,3,2)"
   ]
  },
  {
   "cell_type": "markdown",
   "id": "0807599f",
   "metadata": {},
   "source": [
    "# randn"
   ]
  },
  {
   "cell_type": "raw",
   "id": "5187fab5",
   "metadata": {},
   "source": [
    "It will generate normally disctributed values around (0,0) cordinate"
   ]
  },
  {
   "cell_type": "code",
   "execution_count": 36,
   "id": "4525fa0e",
   "metadata": {},
   "outputs": [
    {
     "data": {
      "text/plain": [
       "-0.4317950215008157"
      ]
     },
     "execution_count": 36,
     "metadata": {},
     "output_type": "execute_result"
    }
   ],
   "source": [
    "np.random.randn()"
   ]
  },
  {
   "cell_type": "code",
   "execution_count": 38,
   "id": "022eb76e",
   "metadata": {},
   "outputs": [
    {
     "data": {
      "text/plain": [
       "array([-4.38511970e-04, -8.82984516e-01, -3.29678784e-01,  1.89645270e+00,\n",
       "        1.75050598e+00])"
      ]
     },
     "execution_count": 38,
     "metadata": {},
     "output_type": "execute_result"
    }
   ],
   "source": [
    "np.random.randn(5)"
   ]
  },
  {
   "cell_type": "code",
   "execution_count": 39,
   "id": "569d2ed4",
   "metadata": {},
   "outputs": [
    {
     "data": {
      "text/plain": [
       "array([[-0.46368472, -0.72715155,  0.94362846, -0.17535447],\n",
       "       [-0.33449028, -0.31634258, -0.59433391, -1.19770638],\n",
       "       [ 0.10907424, -1.40362446,  0.28531412, -0.26545481],\n",
       "       [ 0.97370794, -2.21128089,  0.39092081,  0.53957696],\n",
       "       [-1.50108131,  0.63405549, -1.93140128,  0.38401849]])"
      ]
     },
     "execution_count": 39,
     "metadata": {},
     "output_type": "execute_result"
    }
   ],
   "source": [
    "np.random.randn(5,4)"
   ]
  },
  {
   "cell_type": "markdown",
   "id": "f1b21e7c",
   "metadata": {},
   "source": [
    "# randint()"
   ]
  },
  {
   "cell_type": "raw",
   "id": "a17ec307",
   "metadata": {},
   "source": [
    "generates random numbers\n",
    "Syntax:\n",
    "    randint(low,high,size,dtype)"
   ]
  },
  {
   "cell_type": "code",
   "execution_count": 54,
   "id": "e037957b",
   "metadata": {},
   "outputs": [
    {
     "data": {
      "text/plain": [
       "9"
      ]
     },
     "execution_count": 54,
     "metadata": {},
     "output_type": "execute_result"
    }
   ],
   "source": [
    "np.random.randint(10)              # 10 is considered as high & default value of low is 0."
   ]
  },
  {
   "cell_type": "code",
   "execution_count": 62,
   "id": "ec31b34e",
   "metadata": {},
   "outputs": [
    {
     "data": {
      "text/plain": [
       "2"
      ]
     },
     "execution_count": 62,
     "metadata": {},
     "output_type": "execute_result"
    }
   ],
   "source": [
    "np.random.randint(0,10)            # default value for size is 1"
   ]
  },
  {
   "cell_type": "code",
   "execution_count": 50,
   "id": "2c5cfde5",
   "metadata": {},
   "outputs": [
    {
     "data": {
      "text/plain": [
       "array([7, 3, 1, 8, 7])"
      ]
     },
     "execution_count": 50,
     "metadata": {},
     "output_type": "execute_result"
    }
   ],
   "source": [
    "np.random.randint(low=0,high=10,size=5)     "
   ]
  },
  {
   "cell_type": "code",
   "execution_count": 46,
   "id": "7911897c",
   "metadata": {},
   "outputs": [
    {
     "data": {
      "text/plain": [
       "array([995, 957, 946, 952, 984, 977, 975, 937, 975, 978, 975, 950])"
      ]
     },
     "execution_count": 46,
     "metadata": {},
     "output_type": "execute_result"
    }
   ],
   "source": [
    "np.random.randint(937,1000,12) "
   ]
  },
  {
   "cell_type": "code",
   "execution_count": 60,
   "id": "9be9e747",
   "metadata": {},
   "outputs": [
    {
     "data": {
      "text/plain": [
       "array([[-38, -75, -50, -91],\n",
       "       [-82, -75, -99, -92],\n",
       "       [-67, -38, -55, -82]])"
      ]
     },
     "execution_count": 60,
     "metadata": {},
     "output_type": "execute_result"
    }
   ],
   "source": [
    "np.random.randint(-100,-37,12).reshape(3,4)"
   ]
  },
  {
   "cell_type": "markdown",
   "id": "0549c31a",
   "metadata": {},
   "source": [
    "# sort()"
   ]
  },
  {
   "cell_type": "markdown",
   "id": "1fe9059a",
   "metadata": {},
   "source": [
    "## Ascending()"
   ]
  },
  {
   "cell_type": "code",
   "execution_count": 66,
   "id": "8fd594f0",
   "metadata": {},
   "outputs": [
    {
     "name": "stdout",
     "output_type": "stream",
     "text": [
      "[49 66 58 90 40 90 39 75 23 39 77 99]\n"
     ]
    },
    {
     "data": {
      "text/plain": [
       "[23, 39, 39, 40, 49, 58, 66, 75, 77, 90, 90, 99]"
      ]
     },
     "execution_count": 66,
     "metadata": {},
     "output_type": "execute_result"
    }
   ],
   "source": [
    "ran_nums = np.random.randint(10,100,12)\n",
    "print(ran_nums)\n",
    "sorted_nums = sorted(ran_nums)\n",
    "sorted_nums"
   ]
  },
  {
   "cell_type": "code",
   "execution_count": 67,
   "id": "f0d51b9d",
   "metadata": {},
   "outputs": [
    {
     "name": "stdout",
     "output_type": "stream",
     "text": [
      "[49 66 58 90 40 90 39 75 23 39 77 99]\n"
     ]
    },
    {
     "data": {
      "text/plain": [
       "array([23, 39, 39, 40, 49, 58, 66, 75, 77, 90, 90, 99])"
      ]
     },
     "execution_count": 67,
     "metadata": {},
     "output_type": "execute_result"
    }
   ],
   "source": [
    "print(ran_nums)\n",
    "np.sort(ran_nums)"
   ]
  },
  {
   "cell_type": "markdown",
   "id": "dc501958",
   "metadata": {},
   "source": [
    "## descending"
   ]
  },
  {
   "cell_type": "code",
   "execution_count": 64,
   "id": "a8380da8",
   "metadata": {},
   "outputs": [
    {
     "data": {
      "text/plain": [
       "[98, 87, 72, 55, 53, 47, 42, 19, 16, 13, 12, 12]"
      ]
     },
     "execution_count": 64,
     "metadata": {},
     "output_type": "execute_result"
    }
   ],
   "source": [
    "sorted_nums = sorted(ran_nums)[::-1]\n",
    "sorted_nums"
   ]
  },
  {
   "cell_type": "code",
   "execution_count": 65,
   "id": "6ef66f37",
   "metadata": {},
   "outputs": [
    {
     "data": {
      "text/plain": [
       "[98, 91, 59, 58, 56, 55, 42, 25, 20, 16, 14, 13]"
      ]
     },
     "execution_count": 65,
     "metadata": {},
     "output_type": "execute_result"
    }
   ],
   "source": [
    "sorted_nums = sorted(ran_nums,reverse=True)\n",
    "sorted_nums"
   ]
  },
  {
   "cell_type": "code",
   "execution_count": 76,
   "id": "fe5ef757",
   "metadata": {},
   "outputs": [
    {
     "name": "stdout",
     "output_type": "stream",
     "text": [
      "[49 66 58 90 40 90 39 75 23 39 77 99]\n"
     ]
    },
    {
     "data": {
      "text/plain": [
       "array([99, 90, 90, 77, 75, 66, 58, 49, 40, 39, 39, 23])"
      ]
     },
     "execution_count": 76,
     "metadata": {},
     "output_type": "execute_result"
    }
   ],
   "source": [
    "print(ran_nums)\n",
    "np.flip(np.sort(ran_nums))     # flip reverses the order of the array"
   ]
  },
  {
   "cell_type": "markdown",
   "id": "3211710c",
   "metadata": {},
   "source": [
    "# Argmax()"
   ]
  },
  {
   "cell_type": "raw",
   "id": "94216c92",
   "metadata": {},
   "source": [
    "returns the index of maximum value in the array"
   ]
  },
  {
   "cell_type": "code",
   "execution_count": 82,
   "id": "de8c59d4",
   "metadata": {},
   "outputs": [
    {
     "data": {
      "text/plain": [
       "array([49, 66, 58, 90, 40, 90, 39, 75, 23, 39, 77, 99])"
      ]
     },
     "execution_count": 82,
     "metadata": {},
     "output_type": "execute_result"
    }
   ],
   "source": [
    "ran_nums"
   ]
  },
  {
   "cell_type": "code",
   "execution_count": 83,
   "id": "4694a862",
   "metadata": {},
   "outputs": [
    {
     "data": {
      "text/plain": [
       "11"
      ]
     },
     "execution_count": 83,
     "metadata": {},
     "output_type": "execute_result"
    }
   ],
   "source": [
    "np.argmax(ran_nums)"
   ]
  },
  {
   "cell_type": "markdown",
   "id": "da167c0b",
   "metadata": {},
   "source": [
    "# Argmin()"
   ]
  },
  {
   "cell_type": "raw",
   "id": "99f268f1",
   "metadata": {},
   "source": [
    "returns the index of minimum value in the array"
   ]
  },
  {
   "cell_type": "code",
   "execution_count": 84,
   "id": "c9fab577",
   "metadata": {},
   "outputs": [
    {
     "data": {
      "text/plain": [
       "8"
      ]
     },
     "execution_count": 84,
     "metadata": {},
     "output_type": "execute_result"
    }
   ],
   "source": [
    "np.argmin(ran_nums)"
   ]
  },
  {
   "cell_type": "markdown",
   "id": "7d9ce5b0",
   "metadata": {},
   "source": [
    "# Argsort()"
   ]
  },
  {
   "cell_type": "raw",
   "id": "63c7078a",
   "metadata": {},
   "source": [
    "# return the indexes for the sorted values in the array"
   ]
  },
  {
   "cell_type": "code",
   "execution_count": 135,
   "id": "f2623fc7",
   "metadata": {},
   "outputs": [
    {
     "data": {
      "text/plain": [
       "array([3, 2, 6, 1, 4, 5, 0], dtype=int64)"
      ]
     },
     "execution_count": 135,
     "metadata": {},
     "output_type": "execute_result"
    }
   ],
   "source": [
    "import numpy as np\n",
    "arr = np.array([9,5,3,1,7,8,4])\n",
    "np.argsort(arr)"
   ]
  },
  {
   "cell_type": "code",
   "execution_count": 136,
   "id": "a777911e",
   "metadata": {},
   "outputs": [
    {
     "data": {
      "text/plain": [
       "array([1, 3, 4, 5, 7, 8, 9])"
      ]
     },
     "execution_count": 136,
     "metadata": {},
     "output_type": "execute_result"
    }
   ],
   "source": [
    "arr[np.argsort(arr)]"
   ]
  },
  {
   "cell_type": "markdown",
   "id": "f485bbab",
   "metadata": {},
   "source": [
    "# sorting on Matrix"
   ]
  },
  {
   "cell_type": "markdown",
   "id": "44fc51a7",
   "metadata": {},
   "source": [
    "### row-wise sorting   > vertical sorting"
   ]
  },
  {
   "cell_type": "code",
   "execution_count": 86,
   "id": "c40405f7",
   "metadata": {},
   "outputs": [
    {
     "data": {
      "text/plain": [
       "array([[49, 66, 58],\n",
       "       [90, 40, 90],\n",
       "       [39, 75, 23],\n",
       "       [39, 77, 99]])"
      ]
     },
     "execution_count": 86,
     "metadata": {},
     "output_type": "execute_result"
    }
   ],
   "source": [
    "arr = np.array([[49, 66, 58], [90, 40, 90], [39, 75, 23], [39, 77, 99]])\n",
    "arr"
   ]
  },
  {
   "cell_type": "code",
   "execution_count": 91,
   "id": "cf620b23",
   "metadata": {},
   "outputs": [
    {
     "data": {
      "text/plain": [
       "array([[39, 40, 23],\n",
       "       [39, 66, 58],\n",
       "       [49, 75, 90],\n",
       "       [90, 77, 99]])"
      ]
     },
     "execution_count": 91,
     "metadata": {},
     "output_type": "execute_result"
    }
   ],
   "source": [
    "np.sort(arr,axis=0)               # axis = 0 is for sorting along rows, vertical sorting "
   ]
  },
  {
   "cell_type": "code",
   "execution_count": 100,
   "id": "eeced256",
   "metadata": {},
   "outputs": [
    {
     "data": {
      "text/plain": [
       "array([[99, 77, 90],\n",
       "       [90, 75, 49],\n",
       "       [58, 66, 39],\n",
       "       [23, 40, 39]])"
      ]
     },
     "execution_count": 100,
     "metadata": {},
     "output_type": "execute_result"
    }
   ],
   "source": [
    "np.flip(np.sort(arr,axis=0))      # Descesnding sorting for axis = 0"
   ]
  },
  {
   "cell_type": "markdown",
   "id": "adb52832",
   "metadata": {},
   "source": [
    "## column-wise sorting > Horizaontal sorting"
   ]
  },
  {
   "cell_type": "code",
   "execution_count": 92,
   "id": "f8969d05",
   "metadata": {},
   "outputs": [
    {
     "data": {
      "text/plain": [
       "array([[49, 66, 58],\n",
       "       [90, 40, 90],\n",
       "       [39, 75, 23],\n",
       "       [39, 77, 99]])"
      ]
     },
     "execution_count": 92,
     "metadata": {},
     "output_type": "execute_result"
    }
   ],
   "source": [
    "arr = np.array([[49, 66, 58], [90, 40, 90], [39, 75, 23], [39, 77, 99]])\n",
    "arr"
   ]
  },
  {
   "cell_type": "code",
   "execution_count": 93,
   "id": "fd617446",
   "metadata": {},
   "outputs": [
    {
     "data": {
      "text/plain": [
       "array([[49, 58, 66],\n",
       "       [40, 90, 90],\n",
       "       [23, 39, 75],\n",
       "       [39, 77, 99]])"
      ]
     },
     "execution_count": 93,
     "metadata": {},
     "output_type": "execute_result"
    }
   ],
   "source": [
    "np.sort(arr,axis=1)               # axis = 1 is for sorting along columns, horizontal sorting "
   ]
  },
  {
   "cell_type": "code",
   "execution_count": 101,
   "id": "6dd34706",
   "metadata": {},
   "outputs": [
    {
     "data": {
      "text/plain": [
       "array([[99, 77, 39],\n",
       "       [75, 39, 23],\n",
       "       [90, 90, 40],\n",
       "       [66, 58, 49]])"
      ]
     },
     "execution_count": 101,
     "metadata": {},
     "output_type": "execute_result"
    }
   ],
   "source": [
    "np.flip(np.sort(arr,axis=1))      # Descesnding sorting for axis = 1"
   ]
  },
  {
   "cell_type": "markdown",
   "id": "06418df0",
   "metadata": {},
   "source": [
    "## sorting along both rows & columns"
   ]
  },
  {
   "cell_type": "code",
   "execution_count": 94,
   "id": "6596b258",
   "metadata": {},
   "outputs": [
    {
     "data": {
      "text/plain": [
       "array([[49, 66, 58],\n",
       "       [90, 40, 90],\n",
       "       [39, 75, 23],\n",
       "       [39, 77, 99]])"
      ]
     },
     "execution_count": 94,
     "metadata": {},
     "output_type": "execute_result"
    }
   ],
   "source": [
    "matrix = np.array([[49, 66, 58], [90, 40, 90], [39, 75, 23], [39, 77, 99]])\n",
    "matrix"
   ]
  },
  {
   "cell_type": "code",
   "execution_count": 95,
   "id": "01408902",
   "metadata": {},
   "outputs": [
    {
     "data": {
      "text/plain": [
       "array([[23, 39, 40],\n",
       "       [39, 58, 66],\n",
       "       [49, 75, 90],\n",
       "       [77, 90, 99]])"
      ]
     },
     "execution_count": 95,
     "metadata": {},
     "output_type": "execute_result"
    }
   ],
   "source": [
    "np.sort(np.sort(matrix,axis=0),axis=1)"
   ]
  },
  {
   "cell_type": "code",
   "execution_count": 97,
   "id": "2a687224",
   "metadata": {},
   "outputs": [
    {
     "data": {
      "text/plain": [
       "array([[23, 39, 66],\n",
       "       [39, 58, 75],\n",
       "       [40, 77, 90],\n",
       "       [49, 90, 99]])"
      ]
     },
     "execution_count": 97,
     "metadata": {},
     "output_type": "execute_result"
    }
   ],
   "source": [
    "total_sort = np.sort(np.sort(matrix,axis=1),axis=0)\n",
    "total_sort"
   ]
  },
  {
   "cell_type": "code",
   "execution_count": 98,
   "id": "93d43ff2",
   "metadata": {},
   "outputs": [
    {
     "data": {
      "text/plain": [
       "array([[99, 90, 49],\n",
       "       [90, 77, 40],\n",
       "       [75, 58, 39],\n",
       "       [66, 39, 23]])"
      ]
     },
     "execution_count": 98,
     "metadata": {},
     "output_type": "execute_result"
    }
   ],
   "source": [
    " np.flip(total_sort)        # descending sorting"
   ]
  },
  {
   "cell_type": "markdown",
   "id": "21f8d22e",
   "metadata": {},
   "source": [
    "# replacing any item in array"
   ]
  },
  {
   "cell_type": "code",
   "execution_count": 102,
   "id": "c3798c23",
   "metadata": {},
   "outputs": [
    {
     "data": {
      "text/plain": [
       "array([  2, 100,   9,   3,   5,   0])"
      ]
     },
     "execution_count": 102,
     "metadata": {},
     "output_type": "execute_result"
    }
   ],
   "source": [
    "arr = np.array([2,6,9,3,5,0])\n",
    "arr[1]=100\n",
    "arr"
   ]
  },
  {
   "cell_type": "code",
   "execution_count": 105,
   "id": "ddb77eda",
   "metadata": {},
   "outputs": [
    {
     "name": "stdout",
     "output_type": "stream",
     "text": [
      "[[49 66 58]\n",
      " [90 40 90]\n",
      " [39 75 23]\n",
      " [39 77 99]]\n"
     ]
    },
    {
     "data": {
      "text/plain": [
       "array([[ 49,  66,  58],\n",
       "       [ 90,  40,  90],\n",
       "       [100,  75,  23],\n",
       "       [ 39,  77,  99]])"
      ]
     },
     "execution_count": 105,
     "metadata": {},
     "output_type": "execute_result"
    }
   ],
   "source": [
    "matrix = np.array([[49, 66, 58], [90, 40, 90], [39, 75, 23], [39, 77, 99]])\n",
    "print(matrix)\n",
    "matrix[2][0]=100\n",
    "matrix"
   ]
  },
  {
   "cell_type": "code",
   "execution_count": 106,
   "id": "feae9cbc",
   "metadata": {},
   "outputs": [
    {
     "data": {
      "text/plain": [
       "array([[  49,   66,   58],\n",
       "       [  90,   40,   90],\n",
       "       [1000,   75,   23],\n",
       "       [  39,   77,   99]])"
      ]
     },
     "execution_count": 106,
     "metadata": {},
     "output_type": "execute_result"
    }
   ],
   "source": [
    "matrix[2,0]=1000\n",
    "matrix"
   ]
  },
  {
   "cell_type": "code",
   "execution_count": 110,
   "id": "b7f042a6",
   "metadata": {},
   "outputs": [
    {
     "data": {
      "text/plain": [
       "array([[[ 49,  66,  58],\n",
       "        [ 90,  40, 100]],\n",
       "\n",
       "       [[ 39,  75,  23],\n",
       "        [ 39,  77,  99]]])"
      ]
     },
     "execution_count": 110,
     "metadata": {},
     "output_type": "execute_result"
    }
   ],
   "source": [
    "matrix = np.array([[[49, 66, 58], [90, 40, 90]], [[39, 75, 23], [39, 77, 99]]])\n",
    "matrix[0,1,2]=100\n",
    "matrix"
   ]
  },
  {
   "cell_type": "markdown",
   "id": "63baca05",
   "metadata": {},
   "source": [
    "# replacing slice from the array"
   ]
  },
  {
   "cell_type": "code",
   "execution_count": 118,
   "id": "2dd36ff2",
   "metadata": {},
   "outputs": [
    {
     "data": {
      "text/plain": [
       "array([[[49, 11, 22],\n",
       "        [90, 33, 44]],\n",
       "\n",
       "       [[39, 75, 23],\n",
       "        [39, 77, 99]]])"
      ]
     },
     "execution_count": 118,
     "metadata": {},
     "output_type": "execute_result"
    }
   ],
   "source": [
    "matrix = np.array([[[49, 66, 58], [90, 40, 90]], [[39, 75, 23], [39, 77, 99]]])\n",
    "matrix[:1,:,1:]=[[11,22],[33,44]]\n",
    "matrix"
   ]
  },
  {
   "cell_type": "code",
   "execution_count": 116,
   "id": "391d97df",
   "metadata": {},
   "outputs": [
    {
     "data": {
      "text/plain": [
       "array([[[49, 10, 20],\n",
       "        [90, 30, 40]],\n",
       "\n",
       "       [[39, 75, 23],\n",
       "        [39, 77, 99]]])"
      ]
     },
     "execution_count": 116,
     "metadata": {},
     "output_type": "execute_result"
    }
   ],
   "source": [
    "matrix[:1,:,1:]=[[[10, 20],\n",
    "                  [30, 40]]]\n",
    "matrix"
   ]
  },
  {
   "cell_type": "markdown",
   "id": "4ceecd89",
   "metadata": {},
   "source": [
    "# inserting item into array()"
   ]
  },
  {
   "cell_type": "raw",
   "id": "76931312",
   "metadata": {},
   "source": [
    "# insert item at any specific index in an array"
   ]
  },
  {
   "cell_type": "code",
   "execution_count": null,
   "id": "b2c39e7c",
   "metadata": {},
   "outputs": [],
   "source": [
    "Syntax:\n",
    "    np.insert(array,index,value)"
   ]
  },
  {
   "cell_type": "code",
   "execution_count": 122,
   "id": "6c4ceb68",
   "metadata": {},
   "outputs": [
    {
     "data": {
      "text/plain": [
       "array([  2, 100,   6,   9,   3,   5,   0])"
      ]
     },
     "execution_count": 122,
     "metadata": {},
     "output_type": "execute_result"
    }
   ],
   "source": [
    "arr = np.array([2,6,9,3,5,0])\n",
    "arr = np.insert(arr,1,100)\n",
    "arr"
   ]
  },
  {
   "cell_type": "code",
   "execution_count": 134,
   "id": "42d8f34c",
   "metadata": {},
   "outputs": [],
   "source": [
    "# matrix = np.array([[49, 66, 58], [90, 40, 90], [39, 75, 23], [39, 77, 99]])\n",
    "# print(matrix)\n",
    "# matrix = np.insert(matrix,3,[100,200,300])\n",
    "# len(matrix)\n",
    "# matrix.reshape(5,3)"
   ]
  },
  {
   "cell_type": "code",
   "execution_count": null,
   "id": "ac8fb9b4",
   "metadata": {},
   "outputs": [],
   "source": []
  }
 ],
 "metadata": {
  "kernelspec": {
   "display_name": "Python 3",
   "language": "python",
   "name": "python3"
  },
  "language_info": {
   "codemirror_mode": {
    "name": "ipython",
    "version": 3
   },
   "file_extension": ".py",
   "mimetype": "text/x-python",
   "name": "python",
   "nbconvert_exporter": "python",
   "pygments_lexer": "ipython3",
   "version": "3.8.8"
  },
  "toc": {
   "base_numbering": 1,
   "nav_menu": {},
   "number_sections": true,
   "sideBar": true,
   "skip_h1_title": false,
   "title_cell": "Table of Contents",
   "title_sidebar": "Contents",
   "toc_cell": false,
   "toc_position": {},
   "toc_section_display": true,
   "toc_window_display": false
  },
  "varInspector": {
   "cols": {
    "lenName": 16,
    "lenType": 16,
    "lenVar": 40
   },
   "kernels_config": {
    "python": {
     "delete_cmd_postfix": "",
     "delete_cmd_prefix": "del ",
     "library": "var_list.py",
     "varRefreshCmd": "print(var_dic_list())"
    },
    "r": {
     "delete_cmd_postfix": ") ",
     "delete_cmd_prefix": "rm(",
     "library": "var_list.r",
     "varRefreshCmd": "cat(var_dic_list()) "
    }
   },
   "types_to_exclude": [
    "module",
    "function",
    "builtin_function_or_method",
    "instance",
    "_Feature"
   ],
   "window_display": false
  }
 },
 "nbformat": 4,
 "nbformat_minor": 5
}
