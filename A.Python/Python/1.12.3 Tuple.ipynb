{
 "cells": [
  {
   "cell_type": "raw",
   "id": "9634d478",
   "metadata": {},
   "source": [
    "Tuple?\n",
    "\n",
    "Tuple are data types that are used to store different dat types (int,float,complex,list,string,tuple...)\n",
    "It stores multiple values separated by comma\n",
    "Tuple also allow duplicate items\n",
    "\n",
    "For & while loops can also be used on tuple\n",
    "\n",
    "\n",
    "- Unlike List, tupleple is an immutable data type\n",
    "     The values in tuple can not be modified, changed or deleted using indexing\n",
    " unlike set, tuples are always ordered\n",
    "\n",
    "Tuple is encompassed in round braces\n",
    "\n",
    "tuples are sligtly faster than list"
   ]
  },
  {
   "cell_type": "code",
   "execution_count": 1,
   "id": "88f7d424",
   "metadata": {},
   "outputs": [
    {
     "data": {
      "text/plain": [
       "tuple"
      ]
     },
     "execution_count": 1,
     "metadata": {},
     "output_type": "execute_result"
    }
   ],
   "source": [
    "tuple1 = (1,2,3,4)\n",
    "type(tuple1)"
   ]
  },
  {
   "cell_type": "code",
   "execution_count": 2,
   "id": "504777c7",
   "metadata": {},
   "outputs": [
    {
     "data": {
      "text/plain": [
       "tuple"
      ]
     },
     "execution_count": 2,
     "metadata": {},
     "output_type": "execute_result"
    }
   ],
   "source": [
    "# packing of items\n",
    "tuple1 = 1,2,3,4        # taking in multiple values are always in tuple\n",
    "type(tuple1)"
   ]
  },
  {
   "cell_type": "code",
   "execution_count": 6,
   "id": "79381f9d",
   "metadata": {},
   "outputs": [
    {
     "data": {
      "text/plain": [
       "('2', '3', '4')"
      ]
     },
     "execution_count": 6,
     "metadata": {},
     "output_type": "execute_result"
    }
   ],
   "source": [
    "# Tuple constructor\n",
    "\n",
    "string = '234'\n",
    "tuple(string)\n"
   ]
  },
  {
   "cell_type": "code",
   "execution_count": 7,
   "id": "50311326",
   "metadata": {},
   "outputs": [
    {
     "name": "stdout",
     "output_type": "stream",
     "text": [
      "['2', '3', '4']\n"
     ]
    },
    {
     "data": {
      "text/plain": [
       "('2', '3', '4')"
      ]
     },
     "execution_count": 7,
     "metadata": {},
     "output_type": "execute_result"
    }
   ],
   "source": [
    "string = list('234')\n",
    "print(string)\n",
    "tuple(string)\n"
   ]
  },
  {
   "cell_type": "code",
   "execution_count": 8,
   "id": "20ff34dc",
   "metadata": {},
   "outputs": [
    {
     "data": {
      "text/plain": [
       "int"
      ]
     },
     "execution_count": 8,
     "metadata": {},
     "output_type": "execute_result"
    }
   ],
   "source": [
    "tup = (2)\n",
    "type(tup)"
   ]
  },
  {
   "cell_type": "code",
   "execution_count": 9,
   "id": "99e79aa2",
   "metadata": {},
   "outputs": [
    {
     "data": {
      "text/plain": [
       "tuple"
      ]
     },
     "execution_count": 9,
     "metadata": {},
     "output_type": "execute_result"
    }
   ],
   "source": [
    "tup = (2,)\n",
    "type(tup)"
   ]
  },
  {
   "cell_type": "markdown",
   "id": "20deff0e",
   "metadata": {},
   "source": [
    "# indexing"
   ]
  },
  {
   "cell_type": "code",
   "execution_count": 10,
   "id": "4af85925",
   "metadata": {},
   "outputs": [
    {
     "data": {
      "text/plain": [
       "2"
      ]
     },
     "execution_count": 10,
     "metadata": {},
     "output_type": "execute_result"
    }
   ],
   "source": [
    "tuple1 = (1,2,3,4)\n",
    "tuple1[1]"
   ]
  },
  {
   "cell_type": "code",
   "execution_count": 11,
   "id": "f48c5152",
   "metadata": {},
   "outputs": [
    {
     "data": {
      "text/plain": [
       "4"
      ]
     },
     "execution_count": 11,
     "metadata": {},
     "output_type": "execute_result"
    }
   ],
   "source": [
    "tuple1[-1]"
   ]
  },
  {
   "cell_type": "markdown",
   "id": "7355ab93",
   "metadata": {},
   "source": [
    "# slicing"
   ]
  },
  {
   "cell_type": "code",
   "execution_count": 16,
   "id": "8b5ffcea",
   "metadata": {},
   "outputs": [
    {
     "data": {
      "text/plain": [
       "(2, 3, 4, 5, 2, 7, 'shine')"
      ]
     },
     "execution_count": 16,
     "metadata": {},
     "output_type": "execute_result"
    }
   ],
   "source": [
    "tuple1 = (1,2,3,4,5,2,7,'shine',1)\n",
    "tuple1[1:-1]"
   ]
  },
  {
   "cell_type": "code",
   "execution_count": 17,
   "id": "d42315af",
   "metadata": {},
   "outputs": [
    {
     "data": {
      "text/plain": [
       "(1, 'shine', 7, 2, 5, 4, 3, 2, 1)"
      ]
     },
     "execution_count": 17,
     "metadata": {},
     "output_type": "execute_result"
    }
   ],
   "source": [
    "tuple1[-1:-10:-1]"
   ]
  },
  {
   "cell_type": "code",
   "execution_count": 18,
   "id": "e6f98c9c",
   "metadata": {},
   "outputs": [
    {
     "data": {
      "text/plain": [
       "(1, 2, 3, 4, 5, 2, 7, 'shine', 1)"
      ]
     },
     "execution_count": 18,
     "metadata": {},
     "output_type": "execute_result"
    }
   ],
   "source": [
    "tuple1"
   ]
  },
  {
   "cell_type": "markdown",
   "id": "0d5648d7",
   "metadata": {},
   "source": [
    "# Lopping on tuple"
   ]
  },
  {
   "cell_type": "code",
   "execution_count": 19,
   "id": "c6df44c1",
   "metadata": {},
   "outputs": [
    {
     "name": "stdout",
     "output_type": "stream",
     "text": [
      "1\n",
      "2\n",
      "3\n",
      "4\n",
      "5\n",
      "2\n",
      "7\n",
      "shine\n",
      "1\n"
     ]
    }
   ],
   "source": [
    "tuple1 = (1,2,3,4,5,2,7,'shine',1)\n",
    "\n",
    "for i in tuple1:\n",
    "    print(i)"
   ]
  },
  {
   "cell_type": "code",
   "execution_count": 21,
   "id": "96cebc15",
   "metadata": {},
   "outputs": [
    {
     "name": "stdout",
     "output_type": "stream",
     "text": [
      "1\n",
      "2\n",
      "3\n",
      "4\n",
      "5\n",
      "2\n",
      "7\n",
      "shine\n",
      "1\n"
     ]
    }
   ],
   "source": [
    "tuple1 = (1,2,3,4,5,2,7,'shine',1)\n",
    "i = 0\n",
    "while i < len(tuple1):\n",
    "    print(tuple1[i])\n",
    "    i+=1"
   ]
  },
  {
   "cell_type": "markdown",
   "id": "0f82d8ae",
   "metadata": {},
   "source": [
    "# Indexing Assignment & modification of items using indexing"
   ]
  },
  {
   "cell_type": "code",
   "execution_count": 22,
   "id": "772d54d7",
   "metadata": {},
   "outputs": [
    {
     "ename": "TypeError",
     "evalue": "'tuple' object does not support item assignment",
     "output_type": "error",
     "traceback": [
      "\u001b[1;31m---------------------------------------------------------------------------\u001b[0m",
      "\u001b[1;31mTypeError\u001b[0m                                 Traceback (most recent call last)",
      "\u001b[1;32m<ipython-input-22-c0fdccad6a50>\u001b[0m in \u001b[0;36m<module>\u001b[1;34m\u001b[0m\n\u001b[0;32m      1\u001b[0m \u001b[0mtuple1\u001b[0m \u001b[1;33m=\u001b[0m \u001b[1;33m(\u001b[0m\u001b[1;36m1\u001b[0m\u001b[1;33m,\u001b[0m\u001b[1;36m2\u001b[0m\u001b[1;33m,\u001b[0m\u001b[1;36m3\u001b[0m\u001b[1;33m,\u001b[0m\u001b[1;36m4\u001b[0m\u001b[1;33m,\u001b[0m\u001b[1;36m5\u001b[0m\u001b[1;33m,\u001b[0m\u001b[1;36m2\u001b[0m\u001b[1;33m,\u001b[0m\u001b[1;36m7\u001b[0m\u001b[1;33m,\u001b[0m\u001b[1;34m'shine'\u001b[0m\u001b[1;33m,\u001b[0m\u001b[1;36m1\u001b[0m\u001b[1;33m)\u001b[0m\u001b[1;33m\u001b[0m\u001b[1;33m\u001b[0m\u001b[0m\n\u001b[0;32m      2\u001b[0m \u001b[1;33m\u001b[0m\u001b[0m\n\u001b[1;32m----> 3\u001b[1;33m \u001b[0mtuple1\u001b[0m\u001b[1;33m[\u001b[0m\u001b[1;36m0\u001b[0m\u001b[1;33m]\u001b[0m\u001b[1;33m=\u001b[0m\u001b[1;36m100\u001b[0m\u001b[1;33m\u001b[0m\u001b[1;33m\u001b[0m\u001b[0m\n\u001b[0m",
      "\u001b[1;31mTypeError\u001b[0m: 'tuple' object does not support item assignment"
     ]
    }
   ],
   "source": [
    "tuple1 = (1,2,3,4,5,2,7,'shine',1)\n",
    "\n",
    "tuple1[0]=100"
   ]
  },
  {
   "cell_type": "code",
   "execution_count": 23,
   "id": "da850987",
   "metadata": {},
   "outputs": [
    {
     "ename": "TypeError",
     "evalue": "'tuple' object doesn't support item deletion",
     "output_type": "error",
     "traceback": [
      "\u001b[1;31m---------------------------------------------------------------------------\u001b[0m",
      "\u001b[1;31mTypeError\u001b[0m                                 Traceback (most recent call last)",
      "\u001b[1;32m<ipython-input-23-19fade6e87ed>\u001b[0m in \u001b[0;36m<module>\u001b[1;34m\u001b[0m\n\u001b[1;32m----> 1\u001b[1;33m \u001b[1;32mdel\u001b[0m \u001b[0mtuple1\u001b[0m\u001b[1;33m[\u001b[0m\u001b[1;36m3\u001b[0m\u001b[1;33m]\u001b[0m\u001b[1;33m\u001b[0m\u001b[1;33m\u001b[0m\u001b[0m\n\u001b[0m",
      "\u001b[1;31mTypeError\u001b[0m: 'tuple' object doesn't support item deletion"
     ]
    }
   ],
   "source": [
    "del tuple1[3]"
   ]
  },
  {
   "cell_type": "code",
   "execution_count": 24,
   "id": "817b70b9",
   "metadata": {},
   "outputs": [
    {
     "ename": "TypeError",
     "evalue": "'tuple' object does not support item assignment",
     "output_type": "error",
     "traceback": [
      "\u001b[1;31m---------------------------------------------------------------------------\u001b[0m",
      "\u001b[1;31mTypeError\u001b[0m                                 Traceback (most recent call last)",
      "\u001b[1;32m<ipython-input-24-338f8f514b15>\u001b[0m in \u001b[0;36m<module>\u001b[1;34m\u001b[0m\n\u001b[1;32m----> 1\u001b[1;33m \u001b[0mtuple1\u001b[0m\u001b[1;33m[\u001b[0m\u001b[1;36m1\u001b[0m\u001b[1;33m:\u001b[0m\u001b[1;36m4\u001b[0m\u001b[1;33m]\u001b[0m\u001b[1;33m=\u001b[0m\u001b[1;33m[\u001b[0m\u001b[1;36m3\u001b[0m\u001b[1;33m,\u001b[0m\u001b[1;36m6\u001b[0m\u001b[1;33m,\u001b[0m\u001b[1;36m2\u001b[0m\u001b[1;33m]\u001b[0m\u001b[1;33m\u001b[0m\u001b[1;33m\u001b[0m\u001b[0m\n\u001b[0m",
      "\u001b[1;31mTypeError\u001b[0m: 'tuple' object does not support item assignment"
     ]
    }
   ],
   "source": [
    "tuple1[1:4]=[3,6,2]"
   ]
  },
  {
   "cell_type": "code",
   "execution_count": 25,
   "id": "7ed85fd4",
   "metadata": {},
   "outputs": [
    {
     "data": {
      "text/plain": [
       "(100, 2, 3, 4, 5, 2, 7, 'shine', 1)"
      ]
     },
     "execution_count": 25,
     "metadata": {},
     "output_type": "execute_result"
    }
   ],
   "source": [
    "# converting into list to do these operations\n",
    "\n",
    "tuple1 = (1,2,3,4,5,2,7,'shine',1)\n",
    "l1 = list(tuple1)\n",
    "l1[0]=100\n",
    "tuple(l1)"
   ]
  },
  {
   "cell_type": "code",
   "execution_count": 26,
   "id": "cefa9956",
   "metadata": {},
   "outputs": [
    {
     "data": {
      "text/plain": [
       "(1, 2, 3, 4, 5, 2, 7)"
      ]
     },
     "execution_count": 26,
     "metadata": {},
     "output_type": "execute_result"
    }
   ],
   "source": [
    "t1 = (1,2,3,4)\n",
    "t2 = 5,2,7\n",
    "\n",
    "t1+t2"
   ]
  },
  {
   "cell_type": "code",
   "execution_count": 27,
   "id": "8aafe830",
   "metadata": {},
   "outputs": [
    {
     "ename": "TypeError",
     "evalue": "unsupported operand type(s) for -: 'tuple' and 'tuple'",
     "output_type": "error",
     "traceback": [
      "\u001b[1;31m---------------------------------------------------------------------------\u001b[0m",
      "\u001b[1;31mTypeError\u001b[0m                                 Traceback (most recent call last)",
      "\u001b[1;32m<ipython-input-27-143735005d96>\u001b[0m in \u001b[0;36m<module>\u001b[1;34m\u001b[0m\n\u001b[1;32m----> 1\u001b[1;33m \u001b[0mt1\u001b[0m\u001b[1;33m-\u001b[0m\u001b[0mt2\u001b[0m\u001b[1;33m\u001b[0m\u001b[1;33m\u001b[0m\u001b[0m\n\u001b[0m",
      "\u001b[1;31mTypeError\u001b[0m: unsupported operand type(s) for -: 'tuple' and 'tuple'"
     ]
    }
   ],
   "source": [
    "t1-t2"
   ]
  },
  {
   "cell_type": "markdown",
   "id": "cfe43453",
   "metadata": {},
   "source": [
    "# Random numbers"
   ]
  },
  {
   "cell_type": "code",
   "execution_count": 28,
   "id": "2f3144ee",
   "metadata": {},
   "outputs": [
    {
     "data": {
      "text/plain": [
       "28"
      ]
     },
     "execution_count": 28,
     "metadata": {},
     "output_type": "execute_result"
    }
   ],
   "source": [
    "from random import randint\n",
    "\n",
    "t1 = (randint(10,100))\n",
    "t1"
   ]
  },
  {
   "cell_type": "code",
   "execution_count": 43,
   "id": "b47ec408",
   "metadata": {},
   "outputs": [
    {
     "name": "stdout",
     "output_type": "stream",
     "text": [
      "Wall time: 116 µs\n"
     ]
    },
    {
     "data": {
      "text/plain": [
       "(39, 18, 50, 44, 24)"
      ]
     },
     "execution_count": 43,
     "metadata": {},
     "output_type": "execute_result"
    }
   ],
   "source": [
    "%%time\n",
    "from numpy import random\n",
    "t1 = tuple(random.randint(10,100,5))\n",
    "t1"
   ]
  },
  {
   "cell_type": "code",
   "execution_count": 44,
   "id": "9374b16a",
   "metadata": {},
   "outputs": [
    {
     "name": "stdout",
     "output_type": "stream",
     "text": [
      "Wall time: 0 ns\n"
     ]
    },
    {
     "data": {
      "text/plain": [
       "[30, 42, 27, 31, 30]"
      ]
     },
     "execution_count": 44,
     "metadata": {},
     "output_type": "execute_result"
    }
   ],
   "source": [
    "%%time\n",
    "from numpy import random\n",
    "l1 = list(random.randint(10,100,5))\n",
    "l1"
   ]
  },
  {
   "cell_type": "code",
   "execution_count": null,
   "id": "e6351e83",
   "metadata": {},
   "outputs": [],
   "source": []
  }
 ],
 "metadata": {
  "kernelspec": {
   "display_name": "Python 3",
   "language": "python",
   "name": "python3"
  },
  "language_info": {
   "codemirror_mode": {
    "name": "ipython",
    "version": 3
   },
   "file_extension": ".py",
   "mimetype": "text/x-python",
   "name": "python",
   "nbconvert_exporter": "python",
   "pygments_lexer": "ipython3",
   "version": "3.8.8"
  },
  "toc": {
   "base_numbering": 1,
   "nav_menu": {},
   "number_sections": true,
   "sideBar": true,
   "skip_h1_title": false,
   "title_cell": "Table of Contents",
   "title_sidebar": "Contents",
   "toc_cell": false,
   "toc_position": {},
   "toc_section_display": true,
   "toc_window_display": false
  },
  "varInspector": {
   "cols": {
    "lenName": 16,
    "lenType": 16,
    "lenVar": 40
   },
   "kernels_config": {
    "python": {
     "delete_cmd_postfix": "",
     "delete_cmd_prefix": "del ",
     "library": "var_list.py",
     "varRefreshCmd": "print(var_dic_list())"
    },
    "r": {
     "delete_cmd_postfix": ") ",
     "delete_cmd_prefix": "rm(",
     "library": "var_list.r",
     "varRefreshCmd": "cat(var_dic_list()) "
    }
   },
   "types_to_exclude": [
    "module",
    "function",
    "builtin_function_or_method",
    "instance",
    "_Feature"
   ],
   "window_display": false
  }
 },
 "nbformat": 4,
 "nbformat_minor": 5
}
