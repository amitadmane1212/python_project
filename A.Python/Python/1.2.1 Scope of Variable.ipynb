{
 "cells": [
  {
   "cell_type": "markdown",
   "id": "c0de2020",
   "metadata": {},
   "source": [
    "# Scope of Variable:"
   ]
  },
  {
   "cell_type": "raw",
   "id": "415dd2f4",
   "metadata": {},
   "source": [
    "1. Global scope:\n",
    "    - Variable used outside the function which has a global scope.\n",
    "    \n",
    "2. Local Variable:\n",
    "    - Variable used within a function that has a local scope."
   ]
  },
  {
   "cell_type": "code",
   "execution_count": 1,
   "id": "e01da9b7",
   "metadata": {},
   "outputs": [],
   "source": [
    "Variable1 = 100               # Global Variable\n",
    "\n",
    "def new():                    # Function/ Method\n",
    "    variable2 = 200           # Local Variable\n",
    "    print(variable2)"
   ]
  },
  {
   "cell_type": "code",
   "execution_count": 2,
   "id": "f6351043",
   "metadata": {},
   "outputs": [
    {
     "data": {
      "text/plain": [
       "100"
      ]
     },
     "execution_count": 2,
     "metadata": {},
     "output_type": "execute_result"
    }
   ],
   "source": [
    "Variable1"
   ]
  },
  {
   "cell_type": "code",
   "execution_count": 3,
   "id": "53eac0a1",
   "metadata": {},
   "outputs": [
    {
     "ename": "NameError",
     "evalue": "name 'Variable2' is not defined",
     "output_type": "error",
     "traceback": [
      "\u001b[1;31m---------------------------------------------------------------------------\u001b[0m",
      "\u001b[1;31mNameError\u001b[0m                                 Traceback (most recent call last)",
      "Input \u001b[1;32mIn [3]\u001b[0m, in \u001b[0;36m<cell line: 1>\u001b[1;34m()\u001b[0m\n\u001b[1;32m----> 1\u001b[0m \u001b[43mVariable2\u001b[49m\n",
      "\u001b[1;31mNameError\u001b[0m: name 'Variable2' is not defined"
     ]
    }
   ],
   "source": [
    "Variable2"
   ]
  },
  {
   "cell_type": "code",
   "execution_count": 4,
   "id": "07324d86",
   "metadata": {},
   "outputs": [
    {
     "name": "stdout",
     "output_type": "stream",
     "text": [
      "200\n"
     ]
    }
   ],
   "source": [
    "new()"
   ]
  },
  {
   "cell_type": "markdown",
   "id": "c7ea0693",
   "metadata": {},
   "source": [
    "# del function"
   ]
  },
  {
   "cell_type": "raw",
   "id": "54556787",
   "metadata": {},
   "source": [
    "is used to delete the variable alltogether. It will delete its existence."
   ]
  },
  {
   "cell_type": "code",
   "execution_count": 5,
   "id": "42e40dff",
   "metadata": {},
   "outputs": [],
   "source": [
    "var = 1"
   ]
  },
  {
   "cell_type": "code",
   "execution_count": 8,
   "id": "fa15e369",
   "metadata": {
    "scrolled": true
   },
   "outputs": [
    {
     "data": {
      "text/plain": [
       "1"
      ]
     },
     "execution_count": 8,
     "metadata": {},
     "output_type": "execute_result"
    }
   ],
   "source": [
    "var"
   ]
  },
  {
   "cell_type": "code",
   "execution_count": 9,
   "id": "6800845e",
   "metadata": {},
   "outputs": [],
   "source": [
    "del var"
   ]
  },
  {
   "cell_type": "code",
   "execution_count": 10,
   "id": "ce0074b4",
   "metadata": {},
   "outputs": [
    {
     "ename": "NameError",
     "evalue": "name 'var' is not defined",
     "output_type": "error",
     "traceback": [
      "\u001b[1;31m---------------------------------------------------------------------------\u001b[0m",
      "\u001b[1;31mNameError\u001b[0m                                 Traceback (most recent call last)",
      "Input \u001b[1;32mIn [10]\u001b[0m, in \u001b[0;36m<cell line: 1>\u001b[1;34m()\u001b[0m\n\u001b[1;32m----> 1\u001b[0m \u001b[43mvar\u001b[49m\n",
      "\u001b[1;31mNameError\u001b[0m: name 'var' is not defined"
     ]
    }
   ],
   "source": [
    "var"
   ]
  },
  {
   "cell_type": "markdown",
   "id": "b3caa365",
   "metadata": {},
   "source": [
    "# Id function"
   ]
  },
  {
   "cell_type": "code",
   "execution_count": null,
   "id": "6def4c74",
   "metadata": {},
   "outputs": [],
   "source": [
    "Id shows the memory location where the data or information is stored.\n",
    "The memory location tracing happends on the basis of value stored @ that specific location."
   ]
  },
  {
   "cell_type": "code",
   "execution_count": 11,
   "id": "45041e55",
   "metadata": {},
   "outputs": [],
   "source": [
    "x = 10"
   ]
  },
  {
   "cell_type": "code",
   "execution_count": 12,
   "id": "86845d98",
   "metadata": {},
   "outputs": [
    {
     "data": {
      "text/plain": [
       "1509227260496"
      ]
     },
     "execution_count": 12,
     "metadata": {},
     "output_type": "execute_result"
    }
   ],
   "source": [
    "id(x)"
   ]
  },
  {
   "cell_type": "code",
   "execution_count": 13,
   "id": "a9c64c4a",
   "metadata": {},
   "outputs": [],
   "source": [
    "x = y = 10"
   ]
  },
  {
   "cell_type": "code",
   "execution_count": 14,
   "id": "fbe7989b",
   "metadata": {},
   "outputs": [
    {
     "data": {
      "text/plain": [
       "(1509227260496, 1509227260496)"
      ]
     },
     "execution_count": 14,
     "metadata": {},
     "output_type": "execute_result"
    }
   ],
   "source": [
    "id(x),id(y)"
   ]
  },
  {
   "cell_type": "code",
   "execution_count": 15,
   "id": "49823399",
   "metadata": {},
   "outputs": [
    {
     "data": {
      "text/plain": [
       "10"
      ]
     },
     "execution_count": 15,
     "metadata": {},
     "output_type": "execute_result"
    }
   ],
   "source": [
    "x"
   ]
  },
  {
   "cell_type": "code",
   "execution_count": 17,
   "id": "199f8fe8",
   "metadata": {},
   "outputs": [],
   "source": [
    "z = 50"
   ]
  },
  {
   "cell_type": "code",
   "execution_count": 18,
   "id": "1a4dd39f",
   "metadata": {},
   "outputs": [
    {
     "data": {
      "text/plain": [
       "1509227261776"
      ]
     },
     "execution_count": 18,
     "metadata": {},
     "output_type": "execute_result"
    }
   ],
   "source": [
    "id(z)"
   ]
  },
  {
   "cell_type": "code",
   "execution_count": 19,
   "id": "d65c8903",
   "metadata": {},
   "outputs": [],
   "source": [
    "z = 10"
   ]
  },
  {
   "cell_type": "code",
   "execution_count": 20,
   "id": "ad78d581",
   "metadata": {},
   "outputs": [
    {
     "data": {
      "text/plain": [
       "1509227260496"
      ]
     },
     "execution_count": 20,
     "metadata": {},
     "output_type": "execute_result"
    }
   ],
   "source": [
    "id(z)"
   ]
  },
  {
   "cell_type": "markdown",
   "id": "3079d156",
   "metadata": {},
   "source": [
    "# Input function"
   ]
  },
  {
   "cell_type": "raw",
   "id": "9cac13ac",
   "metadata": {},
   "source": [
    "is used to take in the user input"
   ]
  },
  {
   "cell_type": "code",
   "execution_count": null,
   "id": "9bee360f",
   "metadata": {},
   "outputs": [
    {
     "name": "stdout",
     "output_type": "stream",
     "text": [
      "10-7\n"
     ]
    }
   ],
   "source": [
    "variable_in = input()\n",
    "variable_in"
   ]
  },
  {
   "cell_type": "code",
   "execution_count": 26,
   "id": "a27b2211",
   "metadata": {},
   "outputs": [
    {
     "name": "stdout",
     "output_type": "stream",
     "text": [
      "enter any number: 10-7\n"
     ]
    },
    {
     "ename": "ValueError",
     "evalue": "invalid literal for int() with base 10: '10-7'",
     "output_type": "error",
     "traceback": [
      "\u001b[1;31m---------------------------------------------------------------------------\u001b[0m",
      "\u001b[1;31mValueError\u001b[0m                                Traceback (most recent call last)",
      "Input \u001b[1;32mIn [26]\u001b[0m, in \u001b[0;36m<cell line: 1>\u001b[1;34m()\u001b[0m\n\u001b[1;32m----> 1\u001b[0m variable_in \u001b[38;5;241m=\u001b[39m \u001b[38;5;28;43mint\u001b[39;49m\u001b[43m(\u001b[49m\u001b[38;5;28;43minput\u001b[39;49m\u001b[43m(\u001b[49m\u001b[38;5;124;43m'\u001b[39;49m\u001b[38;5;124;43menter any number: \u001b[39;49m\u001b[38;5;124;43m'\u001b[39;49m\u001b[43m)\u001b[49m\u001b[43m)\u001b[49m\n\u001b[0;32m      2\u001b[0m variable_in\n",
      "\u001b[1;31mValueError\u001b[0m: invalid literal for int() with base 10: '10-7'"
     ]
    }
   ],
   "source": [
    "variable_in = int(input('enter any number: '))\n",
    "variable_in"
   ]
  },
  {
   "cell_type": "code",
   "execution_count": null,
   "id": "97dc0640",
   "metadata": {},
   "outputs": [],
   "source": []
  }
 ],
 "metadata": {
  "kernelspec": {
   "display_name": "Python 3 (ipykernel)",
   "language": "python",
   "name": "python3"
  },
  "language_info": {
   "codemirror_mode": {
    "name": "ipython",
    "version": 3
   },
   "file_extension": ".py",
   "mimetype": "text/x-python",
   "name": "python",
   "nbconvert_exporter": "python",
   "pygments_lexer": "ipython3",
   "version": "3.9.12"
  }
 },
 "nbformat": 4,
 "nbformat_minor": 5
}
