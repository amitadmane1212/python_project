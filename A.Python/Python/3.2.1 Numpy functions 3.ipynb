{
 "cells": [
  {
   "cell_type": "markdown",
   "id": "bad08e19",
   "metadata": {},
   "source": [
    "# Simple Maths"
   ]
  },
  {
   "cell_type": "raw",
   "id": "440a4803",
   "metadata": {},
   "source": [
    "for simple mathematical opearations shape of the array has to match."
   ]
  },
  {
   "cell_type": "markdown",
   "id": "dc4dc714",
   "metadata": {},
   "source": [
    "### addition"
   ]
  },
  {
   "cell_type": "code",
   "execution_count": 27,
   "id": "881dc017",
   "metadata": {},
   "outputs": [
    {
     "data": {
      "text/plain": [
       "array([ 7,  9,  6, 10, 11,  7,  9,  3])"
      ]
     },
     "execution_count": 27,
     "metadata": {},
     "output_type": "execute_result"
    }
   ],
   "source": [
    "import numpy as np\n",
    "import warnings\n",
    "warnings.filterwarnings('ignore')\n",
    "array = np.array([5,7,4,8,9,5,7,1])\n",
    "array+2"
   ]
  },
  {
   "cell_type": "code",
   "execution_count": 2,
   "id": "67b6527f",
   "metadata": {},
   "outputs": [
    {
     "data": {
      "text/plain": [
       "array([ 9, 14,  6, 16,  9,  7, 15,  2])"
      ]
     },
     "execution_count": 2,
     "metadata": {},
     "output_type": "execute_result"
    }
   ],
   "source": [
    "import numpy as np\n",
    "array = np.array([5,7,4,8,9,5,7,1])\n",
    "array2 = np.array([4,7,2,8,0,2,8,1])\n",
    "\n",
    "add = array+array2\n",
    "add"
   ]
  },
  {
   "cell_type": "code",
   "execution_count": 3,
   "id": "29f73b07",
   "metadata": {
    "collapsed": true
   },
   "outputs": [
    {
     "ename": "ValueError",
     "evalue": "operands could not be broadcast together with shapes (8,) (7,) ",
     "output_type": "error",
     "traceback": [
      "\u001b[1;31m---------------------------------------------------------------------------\u001b[0m",
      "\u001b[1;31mValueError\u001b[0m                                Traceback (most recent call last)",
      "\u001b[1;32m<ipython-input-3-c839880bd11c>\u001b[0m in \u001b[0;36m<module>\u001b[1;34m\u001b[0m\n\u001b[0;32m      2\u001b[0m \u001b[0marray2\u001b[0m \u001b[1;33m=\u001b[0m \u001b[0mnp\u001b[0m\u001b[1;33m.\u001b[0m\u001b[0marray\u001b[0m\u001b[1;33m(\u001b[0m\u001b[1;33m[\u001b[0m\u001b[1;36m4\u001b[0m\u001b[1;33m,\u001b[0m\u001b[1;36m7\u001b[0m\u001b[1;33m,\u001b[0m\u001b[1;36m2\u001b[0m\u001b[1;33m,\u001b[0m\u001b[1;36m8\u001b[0m\u001b[1;33m,\u001b[0m\u001b[1;36m0\u001b[0m\u001b[1;33m,\u001b[0m\u001b[1;36m2\u001b[0m\u001b[1;33m,\u001b[0m\u001b[1;36m8\u001b[0m\u001b[1;33m]\u001b[0m\u001b[1;33m)\u001b[0m\u001b[1;33m\u001b[0m\u001b[1;33m\u001b[0m\u001b[0m\n\u001b[0;32m      3\u001b[0m \u001b[1;33m\u001b[0m\u001b[0m\n\u001b[1;32m----> 4\u001b[1;33m \u001b[0madd\u001b[0m \u001b[1;33m=\u001b[0m \u001b[0marray\u001b[0m\u001b[1;33m+\u001b[0m\u001b[0marray2\u001b[0m\u001b[1;33m\u001b[0m\u001b[1;33m\u001b[0m\u001b[0m\n\u001b[0m\u001b[0;32m      5\u001b[0m \u001b[0madd\u001b[0m\u001b[1;33m\u001b[0m\u001b[1;33m\u001b[0m\u001b[0m\n",
      "\u001b[1;31mValueError\u001b[0m: operands could not be broadcast together with shapes (8,) (7,) "
     ]
    }
   ],
   "source": [
    "array = np.array([5,7,4,8,9,5,7,1])\n",
    "array2 = np.array([4,7,2,8,0,2,8])\n",
    "\n",
    "add = array+array2\n",
    "add"
   ]
  },
  {
   "cell_type": "code",
   "execution_count": 4,
   "id": "929d165c",
   "metadata": {},
   "outputs": [
    {
     "data": {
      "text/plain": [
       "array([10, 16,  8, 19,  9,  9, 23,  3])"
      ]
     },
     "execution_count": 4,
     "metadata": {},
     "output_type": "execute_result"
    }
   ],
   "source": [
    "array = np.array([5,7,4,8,9,5,7,1])\n",
    "array2 = np.array([4,7,2,8,0,2,8,1])\n",
    "array3 = np.array([1,2,2,3,0,2,8,1])\n",
    "add = array+array2+array3\n",
    "add"
   ]
  },
  {
   "cell_type": "code",
   "execution_count": 8,
   "id": "fd5fdba3",
   "metadata": {},
   "outputs": [
    {
     "data": {
      "text/plain": [
       "array([ 9, 14,  6, 16,  9,  7, 15,  2])"
      ]
     },
     "execution_count": 8,
     "metadata": {},
     "output_type": "execute_result"
    }
   ],
   "source": [
    "# np.add only performs on 2 arrays at a time\n",
    "array = np.array([5,7,4,8,9,5,7,1])\n",
    "array2 = np.array([4,7,2,8,0,2,8,1])\n",
    "array3 = np.array([1,2,2,3,0,2,8,1])\n",
    "np.add(array,array2,array3)     # array3 is not included in addition"
   ]
  },
  {
   "cell_type": "code",
   "execution_count": 9,
   "id": "1ad226d3",
   "metadata": {},
   "outputs": [
    {
     "data": {
      "text/plain": [
       "array([ 6,  9,  6, 11,  9,  7, 15,  2])"
      ]
     },
     "execution_count": 9,
     "metadata": {},
     "output_type": "execute_result"
    }
   ],
   "source": [
    "array = np.array([5,7,4,8,9,5,7,1])\n",
    "array2 = np.array([4,7,2,8,0,2,8,1])\n",
    "array3 = np.array([1,2,2,3,0,2,8,1])\n",
    "np.add(array,array3)"
   ]
  },
  {
   "cell_type": "code",
   "execution_count": 15,
   "id": "2ed3faf2",
   "metadata": {},
   "outputs": [
    {
     "data": {
      "text/plain": [
       "array([[ 9, 14,  6],\n",
       "       [16,  9,  7],\n",
       "       [15,  2, 14]])"
      ]
     },
     "execution_count": 15,
     "metadata": {},
     "output_type": "execute_result"
    }
   ],
   "source": [
    "array = np.array([[5,7,4],\n",
    "                  [8,9,5],\n",
    "                  [7,1,8]])\n",
    "array2 = np.array([[4,7,2],\n",
    "                   [8,0,2],\n",
    "                   [8,1,6]])\n",
    "\n",
    "np.add(array,array2)"
   ]
  },
  {
   "cell_type": "markdown",
   "id": "51d1051a",
   "metadata": {},
   "source": [
    "### Subtraction "
   ]
  },
  {
   "cell_type": "code",
   "execution_count": 16,
   "id": "4695ce22",
   "metadata": {},
   "outputs": [
    {
     "data": {
      "text/plain": [
       "array([[ 1,  0,  2],\n",
       "       [ 0,  9,  3],\n",
       "       [-1,  0,  2]])"
      ]
     },
     "execution_count": 16,
     "metadata": {},
     "output_type": "execute_result"
    }
   ],
   "source": [
    "array = np.array([[5,7,4],\n",
    "                  [8,9,5],\n",
    "                  [7,1,8]])\n",
    "array2 = np.array([[4,7,2],\n",
    "                   [8,0,2],\n",
    "                   [8,1,6]])\n",
    "\n",
    "np.subtract(array,array2)"
   ]
  },
  {
   "cell_type": "code",
   "execution_count": 17,
   "id": "243e3f2c",
   "metadata": {},
   "outputs": [
    {
     "data": {
      "text/plain": [
       "array([[ 3,  5,  2],\n",
       "       [ 6,  7,  3],\n",
       "       [ 5, -1,  6]])"
      ]
     },
     "execution_count": 17,
     "metadata": {},
     "output_type": "execute_result"
    }
   ],
   "source": [
    "array = np.array([[5,7,4],\n",
    "                  [8,9,5],\n",
    "                  [7,1,8]])\n",
    "array-2"
   ]
  },
  {
   "cell_type": "code",
   "execution_count": 18,
   "id": "26e171a2",
   "metadata": {},
   "outputs": [
    {
     "data": {
      "text/plain": [
       "array([[ 1,  0,  2],\n",
       "       [ 0,  9,  3],\n",
       "       [-1,  0,  2]])"
      ]
     },
     "execution_count": 18,
     "metadata": {},
     "output_type": "execute_result"
    }
   ],
   "source": [
    "array = np.array([[5,7,4],\n",
    "                  [8,9,5],\n",
    "                  [7,1,8]])\n",
    "array2 = np.array([[4,7,2],\n",
    "                   [8,0,2],\n",
    "                   [8,1,6]])\n",
    "\n",
    "array-array2"
   ]
  },
  {
   "cell_type": "markdown",
   "id": "fb2357eb",
   "metadata": {},
   "source": [
    "### multiplication"
   ]
  },
  {
   "cell_type": "code",
   "execution_count": 19,
   "id": "0cf51504",
   "metadata": {},
   "outputs": [
    {
     "data": {
      "text/plain": [
       "array([[20, 49,  8],\n",
       "       [64,  0, 10],\n",
       "       [56,  1, 48]])"
      ]
     },
     "execution_count": 19,
     "metadata": {},
     "output_type": "execute_result"
    }
   ],
   "source": [
    "array = np.array([[5,7,4],\n",
    "                  [8,9,5],\n",
    "                  [7,1,8]])\n",
    "array2 = np.array([[4,7,2],\n",
    "                   [8,0,2],\n",
    "                   [8,1,6]])\n",
    "\n",
    "np.multiply(array,array2)"
   ]
  },
  {
   "cell_type": "code",
   "execution_count": 20,
   "id": "4fac2363",
   "metadata": {},
   "outputs": [
    {
     "data": {
      "text/plain": [
       "array([[50, 70, 40],\n",
       "       [80, 90, 50],\n",
       "       [70, 10, 80]])"
      ]
     },
     "execution_count": 20,
     "metadata": {},
     "output_type": "execute_result"
    }
   ],
   "source": [
    "array = np.array([[5,7,4],\n",
    "                  [8,9,5],\n",
    "                  [7,1,8]])\n",
    "array*10"
   ]
  },
  {
   "cell_type": "markdown",
   "id": "6686c238",
   "metadata": {},
   "source": [
    "### division"
   ]
  },
  {
   "cell_type": "code",
   "execution_count": 31,
   "id": "795ed933",
   "metadata": {},
   "outputs": [
    {
     "data": {
      "text/plain": [
       "array([[1.25      , 1.        , 2.        ],\n",
       "       [1.        ,        inf, 2.5       ],\n",
       "       [0.875     , 1.        , 1.33333333]])"
      ]
     },
     "execution_count": 31,
     "metadata": {},
     "output_type": "execute_result"
    }
   ],
   "source": [
    "array = np.array([[5,7,4],\n",
    "                  [8,9,5],\n",
    "                  [7,1,8]])\n",
    "array2 = np.array([[4,7,2],\n",
    "                   [8,0,2],\n",
    "                   [8,1,6]])\n",
    "\n",
    "np.divide(array,array2)"
   ]
  },
  {
   "cell_type": "code",
   "execution_count": 30,
   "id": "b0d27f78",
   "metadata": {},
   "outputs": [
    {
     "data": {
      "text/plain": [
       "array([[1.25      , 1.        , 2.        ],\n",
       "       [1.        ,        inf, 2.5       ],\n",
       "       [0.875     , 1.        , 1.33333333]])"
      ]
     },
     "execution_count": 30,
     "metadata": {},
     "output_type": "execute_result"
    }
   ],
   "source": [
    "array/array2"
   ]
  },
  {
   "cell_type": "code",
   "execution_count": 23,
   "id": "efd5741d",
   "metadata": {},
   "outputs": [
    {
     "data": {
      "text/plain": [
       "array([[2.5, 3.5, 2. ],\n",
       "       [4. , 4.5, 2.5],\n",
       "       [3.5, 0.5, 4. ]])"
      ]
     },
     "execution_count": 23,
     "metadata": {},
     "output_type": "execute_result"
    }
   ],
   "source": [
    "array/2"
   ]
  },
  {
   "cell_type": "markdown",
   "id": "295bef7d",
   "metadata": {},
   "source": [
    "### floor_divide"
   ]
  },
  {
   "cell_type": "code",
   "execution_count": 29,
   "id": "ff624788",
   "metadata": {},
   "outputs": [
    {
     "data": {
      "text/plain": [
       "array([[1, 1, 2],\n",
       "       [1, 0, 2],\n",
       "       [0, 1, 1]], dtype=int32)"
      ]
     },
     "execution_count": 29,
     "metadata": {},
     "output_type": "execute_result"
    }
   ],
   "source": [
    "array = np.array([[5,7,4],\n",
    "                  [8,9,5],\n",
    "                  [7,1,8]])\n",
    "array2 = np.array([[4,7,2],\n",
    "                   [8,0,2],\n",
    "                   [8,1,6]])\n",
    "\n",
    "np.floor_divide(array,array2)"
   ]
  },
  {
   "cell_type": "code",
   "execution_count": 28,
   "id": "c1b5342b",
   "metadata": {},
   "outputs": [
    {
     "data": {
      "text/plain": [
       "array([[1, 1, 2],\n",
       "       [1, 0, 2],\n",
       "       [0, 1, 1]], dtype=int32)"
      ]
     },
     "execution_count": 28,
     "metadata": {},
     "output_type": "execute_result"
    }
   ],
   "source": [
    "array = np.array([[5,7,4],\n",
    "                  [8,9,5],\n",
    "                  [7,1,8]])\n",
    "array2 = np.array([[4,7,2],\n",
    "                   [8,0,2],\n",
    "                   [8,1,6]])\n",
    "\n",
    "\n",
    "array//array2"
   ]
  },
  {
   "cell_type": "markdown",
   "id": "eb002c08",
   "metadata": {},
   "source": [
    "### remainder"
   ]
  },
  {
   "cell_type": "code",
   "execution_count": 32,
   "id": "18d9db3c",
   "metadata": {},
   "outputs": [
    {
     "data": {
      "text/plain": [
       "array([[1, 0, 0],\n",
       "       [0, 0, 1],\n",
       "       [7, 0, 2]], dtype=int32)"
      ]
     },
     "execution_count": 32,
     "metadata": {},
     "output_type": "execute_result"
    }
   ],
   "source": [
    "array = np.array([[5,7,4],\n",
    "                  [8,9,5],\n",
    "                  [7,1,8]])\n",
    "array2 = np.array([[4,7,2],\n",
    "                   [8,0,2],\n",
    "                   [8,1,6]])\n",
    "\n",
    "np.remainder(array,array2)"
   ]
  },
  {
   "cell_type": "code",
   "execution_count": 33,
   "id": "40884a9b",
   "metadata": {},
   "outputs": [
    {
     "data": {
      "text/plain": [
       "array([[1, 0, 0],\n",
       "       [0, 0, 1],\n",
       "       [7, 0, 2]], dtype=int32)"
      ]
     },
     "execution_count": 33,
     "metadata": {},
     "output_type": "execute_result"
    }
   ],
   "source": [
    "array%array2"
   ]
  },
  {
   "cell_type": "code",
   "execution_count": 34,
   "id": "e81e09a2",
   "metadata": {},
   "outputs": [
    {
     "data": {
      "text/plain": [
       "array([[1, 1, 0],\n",
       "       [0, 1, 1],\n",
       "       [1, 1, 0]], dtype=int32)"
      ]
     },
     "execution_count": 34,
     "metadata": {},
     "output_type": "execute_result"
    }
   ],
   "source": [
    "array%2"
   ]
  },
  {
   "cell_type": "markdown",
   "id": "4ce99904",
   "metadata": {},
   "source": [
    "### square()"
   ]
  },
  {
   "cell_type": "code",
   "execution_count": 35,
   "id": "7c6b4425",
   "metadata": {},
   "outputs": [
    {
     "data": {
      "text/plain": [
       "array([[25, 49, 16],\n",
       "       [64, 81, 25],\n",
       "       [49,  1, 64]], dtype=int32)"
      ]
     },
     "execution_count": 35,
     "metadata": {},
     "output_type": "execute_result"
    }
   ],
   "source": [
    "array = np.array([[5,7,4],\n",
    "                  [8,9,5],\n",
    "                  [7,1,8]])\n",
    "\n",
    "array**2"
   ]
  },
  {
   "cell_type": "code",
   "execution_count": 36,
   "id": "5b15c566",
   "metadata": {},
   "outputs": [
    {
     "data": {
      "text/plain": [
       "array([[25, 49, 16],\n",
       "       [64, 81, 25],\n",
       "       [49,  1, 64]], dtype=int32)"
      ]
     },
     "execution_count": 36,
     "metadata": {},
     "output_type": "execute_result"
    }
   ],
   "source": [
    "np.square(array)"
   ]
  },
  {
   "cell_type": "code",
   "execution_count": 39,
   "id": "e75fe326",
   "metadata": {},
   "outputs": [
    {
     "data": {
      "text/plain": [
       "array([[25, 49, 16],\n",
       "       [64, 81, 25],\n",
       "       [49,  1, 64]], dtype=int32)"
      ]
     },
     "execution_count": 39,
     "metadata": {},
     "output_type": "execute_result"
    }
   ],
   "source": [
    "np.power(array,2)"
   ]
  },
  {
   "cell_type": "markdown",
   "id": "6b7ab8ef",
   "metadata": {},
   "source": [
    "### sqrt & cbrt"
   ]
  },
  {
   "cell_type": "code",
   "execution_count": 41,
   "id": "e564fe43",
   "metadata": {},
   "outputs": [
    {
     "data": {
      "text/plain": [
       "array([[2.23606798, 2.64575131, 2.        ],\n",
       "       [2.82842712, 3.        , 2.23606798],\n",
       "       [2.64575131, 1.        , 2.82842712]])"
      ]
     },
     "execution_count": 41,
     "metadata": {},
     "output_type": "execute_result"
    }
   ],
   "source": [
    "array = np.array([[5,7,4],\n",
    "                  [8,9,5],\n",
    "                  [7,1,8]])\n",
    "\n",
    "array**(1/2)"
   ]
  },
  {
   "cell_type": "code",
   "execution_count": 42,
   "id": "595a6cea",
   "metadata": {},
   "outputs": [
    {
     "data": {
      "text/plain": [
       "array([[2.23606798, 2.64575131, 2.        ],\n",
       "       [2.82842712, 3.        , 2.23606798],\n",
       "       [2.64575131, 1.        , 2.82842712]])"
      ]
     },
     "execution_count": 42,
     "metadata": {},
     "output_type": "execute_result"
    }
   ],
   "source": [
    "np.sqrt(array)"
   ]
  },
  {
   "cell_type": "code",
   "execution_count": 43,
   "id": "0b1640fa",
   "metadata": {},
   "outputs": [
    {
     "data": {
      "text/plain": [
       "array([[2.23606798, 2.64575131, 2.        ],\n",
       "       [2.82842712, 3.        , 2.23606798],\n",
       "       [2.64575131, 1.        , 2.82842712]])"
      ]
     },
     "execution_count": 43,
     "metadata": {},
     "output_type": "execute_result"
    }
   ],
   "source": [
    "np.power(array,0.5)"
   ]
  },
  {
   "cell_type": "code",
   "execution_count": 44,
   "id": "de44b7a8",
   "metadata": {},
   "outputs": [
    {
     "data": {
      "text/plain": [
       "array([[1.70997595, 1.91293118, 1.58740105],\n",
       "       [2.        , 2.08008382, 1.70997595],\n",
       "       [1.91293118, 1.        , 2.        ]])"
      ]
     },
     "execution_count": 44,
     "metadata": {},
     "output_type": "execute_result"
    }
   ],
   "source": [
    "np.cbrt(array)"
   ]
  },
  {
   "cell_type": "markdown",
   "id": "f4da1366",
   "metadata": {},
   "source": [
    "# Matrix dot product"
   ]
  },
  {
   "cell_type": "raw",
   "id": "6802eb7a",
   "metadata": {},
   "source": [
    "for matrix dot product no. of columns of 1st matrix has to match the no. of rows of 2nd matrix"
   ]
  },
  {
   "cell_type": "code",
   "execution_count": 45,
   "id": "49692694",
   "metadata": {},
   "outputs": [],
   "source": [
    "matrix1 = np.array([[3,4],\n",
    "                    [5,6]])\n",
    "matrix2 = np.array([[1,2],\n",
    "                    [4,3]])\n",
    "\n",
    "# 3*1+4*4     3*2+4*3\n",
    "# 5*1+6*4     5*2+6*3"
   ]
  },
  {
   "cell_type": "code",
   "execution_count": 46,
   "id": "1069c0af",
   "metadata": {},
   "outputs": [
    {
     "data": {
      "text/plain": [
       "array([[19, 18],\n",
       "       [29, 28]])"
      ]
     },
     "execution_count": 46,
     "metadata": {},
     "output_type": "execute_result"
    }
   ],
   "source": [
    "np.dot(matrix1,matrix2)"
   ]
  },
  {
   "cell_type": "code",
   "execution_count": 47,
   "id": "57cd416a",
   "metadata": {},
   "outputs": [
    {
     "ename": "ValueError",
     "evalue": "shapes (2,2) and (3,2) not aligned: 2 (dim 1) != 3 (dim 0)",
     "output_type": "error",
     "traceback": [
      "\u001b[1;31m---------------------------------------------------------------------------\u001b[0m",
      "\u001b[1;31mValueError\u001b[0m                                Traceback (most recent call last)",
      "\u001b[1;32m<ipython-input-47-1a448a62a92a>\u001b[0m in \u001b[0;36m<module>\u001b[1;34m\u001b[0m\n\u001b[0;32m      4\u001b[0m                     \u001b[1;33m[\u001b[0m\u001b[1;36m4\u001b[0m\u001b[1;33m,\u001b[0m\u001b[1;36m3\u001b[0m\u001b[1;33m]\u001b[0m\u001b[1;33m,\u001b[0m\u001b[1;33m\u001b[0m\u001b[1;33m\u001b[0m\u001b[0m\n\u001b[0;32m      5\u001b[0m                     [3,2]])\n\u001b[1;32m----> 6\u001b[1;33m \u001b[0mnp\u001b[0m\u001b[1;33m.\u001b[0m\u001b[0mdot\u001b[0m\u001b[1;33m(\u001b[0m\u001b[0mmatrix1\u001b[0m\u001b[1;33m,\u001b[0m\u001b[0mmatrix2\u001b[0m\u001b[1;33m)\u001b[0m\u001b[1;33m\u001b[0m\u001b[1;33m\u001b[0m\u001b[0m\n\u001b[0m",
      "\u001b[1;32m<__array_function__ internals>\u001b[0m in \u001b[0;36mdot\u001b[1;34m(*args, **kwargs)\u001b[0m\n",
      "\u001b[1;31mValueError\u001b[0m: shapes (2,2) and (3,2) not aligned: 2 (dim 1) != 3 (dim 0)"
     ]
    }
   ],
   "source": [
    "matrix1 = np.array([[3,4],\n",
    "                    [5,6]])\n",
    "matrix2 = np.array([[1,2],\n",
    "                    [4,3],\n",
    "                    [3,2]])\n",
    "np.dot(matrix1,matrix2)"
   ]
  },
  {
   "cell_type": "code",
   "execution_count": 48,
   "id": "4981140d",
   "metadata": {},
   "outputs": [
    {
     "data": {
      "text/plain": [
       "array([[25, 22],\n",
       "       [32, 30]])"
      ]
     },
     "execution_count": 48,
     "metadata": {},
     "output_type": "execute_result"
    }
   ],
   "source": [
    "matrix1 = np.array([[3,4,2],\n",
    "                    [5,6,1]])\n",
    "matrix2 = np.array([[1,2],\n",
    "                    [4,3],\n",
    "                    [3,2]])\n",
    "np.dot(matrix1,matrix2)"
   ]
  },
  {
   "cell_type": "code",
   "execution_count": null,
   "id": "24b240b9",
   "metadata": {},
   "outputs": [],
   "source": []
  }
 ],
 "metadata": {
  "kernelspec": {
   "display_name": "Python 3",
   "language": "python",
   "name": "python3"
  },
  "language_info": {
   "codemirror_mode": {
    "name": "ipython",
    "version": 3
   },
   "file_extension": ".py",
   "mimetype": "text/x-python",
   "name": "python",
   "nbconvert_exporter": "python",
   "pygments_lexer": "ipython3",
   "version": "3.8.8"
  },
  "toc": {
   "base_numbering": 1,
   "nav_menu": {},
   "number_sections": true,
   "sideBar": true,
   "skip_h1_title": false,
   "title_cell": "Table of Contents",
   "title_sidebar": "Contents",
   "toc_cell": false,
   "toc_position": {},
   "toc_section_display": true,
   "toc_window_display": false
  },
  "varInspector": {
   "cols": {
    "lenName": 16,
    "lenType": 16,
    "lenVar": 40
   },
   "kernels_config": {
    "python": {
     "delete_cmd_postfix": "",
     "delete_cmd_prefix": "del ",
     "library": "var_list.py",
     "varRefreshCmd": "print(var_dic_list())"
    },
    "r": {
     "delete_cmd_postfix": ") ",
     "delete_cmd_prefix": "rm(",
     "library": "var_list.r",
     "varRefreshCmd": "cat(var_dic_list()) "
    }
   },
   "types_to_exclude": [
    "module",
    "function",
    "builtin_function_or_method",
    "instance",
    "_Feature"
   ],
   "window_display": false
  }
 },
 "nbformat": 4,
 "nbformat_minor": 5
}
