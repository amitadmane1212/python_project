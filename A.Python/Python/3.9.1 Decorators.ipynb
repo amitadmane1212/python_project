{
 "cells": [
  {
   "cell_type": "code",
   "execution_count": 1,
   "id": "be559744",
   "metadata": {},
   "outputs": [],
   "source": [
    "import time\n",
    "import datetime"
   ]
  },
  {
   "cell_type": "markdown",
   "id": "654bc355",
   "metadata": {},
   "source": [
    "# decorator"
   ]
  },
  {
   "cell_type": "raw",
   "id": "66e14cbb",
   "metadata": {},
   "source": [
    "A decorator in python is a function which gives special functionality to a function.\n",
    "A decorator in python is a function that takes another function as its arguement & returns yet another function\n",
    "A decorator is denoted by @ symbol.\n",
    "It is created right above the function that is a suppliment as arguement to the decorator function.\n",
    "Use of decorator:  function is passed into another function & used into yet another function."
   ]
  },
  {
   "cell_type": "code",
   "execution_count": 4,
   "id": "19009b01",
   "metadata": {},
   "outputs": [
    {
     "name": "stdout",
     "output_type": "stream",
     "text": [
      "this is outer function\n",
      "this is another function\n"
     ]
    },
    {
     "data": {
      "text/plain": [
       "1000"
      ]
     },
     "execution_count": 4,
     "metadata": {},
     "output_type": "execute_result"
    }
   ],
   "source": [
    "def another_function():\n",
    "    print('this is another function')\n",
    "    return 1000\n",
    "\n",
    "def outer_function():\n",
    "    print('this is outer function')\n",
    "    return another_function()\n",
    "\n",
    "    \n",
    "outer_function()"
   ]
  },
  {
   "cell_type": "code",
   "execution_count": 94,
   "id": "6cee2f07",
   "metadata": {},
   "outputs": [
    {
     "name": "stdout",
     "output_type": "stream",
     "text": [
      "this is outer function\n"
     ]
    },
    {
     "data": {
      "text/plain": [
       "'inner_func'"
      ]
     },
     "execution_count": 94,
     "metadata": {},
     "output_type": "execute_result"
    }
   ],
   "source": [
    "\n",
    "def outer_func():\n",
    "    print('this is outer function')\n",
    "    \n",
    "#     def inner_func():\n",
    "#         print('this is another function')\n",
    "#         return 1000\n",
    "\n",
    "    return 'inner_func'\n",
    "\n",
    "    \n",
    "outer_func()"
   ]
  },
  {
   "cell_type": "code",
   "execution_count": 8,
   "id": "55df672a",
   "metadata": {},
   "outputs": [
    {
     "name": "stdout",
     "output_type": "stream",
     "text": [
      "this is outer function\n",
      "this is inner function\n",
      "******************************\n"
     ]
    },
    {
     "data": {
      "text/plain": [
       "1000"
      ]
     },
     "execution_count": 8,
     "metadata": {},
     "output_type": "execute_result"
    }
   ],
   "source": [
    "\n",
    "def outer_fun():\n",
    "    print('this is outer function')\n",
    "    \n",
    "    def inner_fun():\n",
    "        print('this is inner function')\n",
    "        new_fun()\n",
    "        return 1000\n",
    "\n",
    "    return inner_fun()\n",
    "\n",
    "    \n",
    "def new_fun():\n",
    "    print('*'*30)\n",
    "    \n",
    "outer_fun()"
   ]
  },
  {
   "cell_type": "code",
   "execution_count": 12,
   "id": "55945bf6",
   "metadata": {},
   "outputs": [
    {
     "name": "stdout",
     "output_type": "stream",
     "text": [
      "this is outer function\n",
      "this is inner function\n",
      "******************************\n"
     ]
    },
    {
     "data": {
      "text/plain": [
       "1000"
      ]
     },
     "execution_count": 12,
     "metadata": {},
     "output_type": "execute_result"
    }
   ],
   "source": [
    "\n",
    "def outer(variable_function):                   # higher order function\n",
    "    print('this is outer function')\n",
    "    \n",
    "    def inner():\n",
    "        print('this is inner function')\n",
    "        variable_function()\n",
    "        return 1000\n",
    "\n",
    "    return inner()\n",
    "\n",
    "    \n",
    "def new():\n",
    "    print('*'*30)\n",
    "    \n",
    "outer(new)"
   ]
  },
  {
   "cell_type": "code",
   "execution_count": 14,
   "id": "3c500235",
   "metadata": {},
   "outputs": [
    {
     "name": "stdout",
     "output_type": "stream",
     "text": [
      "this is outer function\n",
      "this is inner function\n",
      "******************************\n"
     ]
    },
    {
     "data": {
      "text/plain": [
       "1000"
      ]
     },
     "execution_count": 14,
     "metadata": {},
     "output_type": "execute_result"
    }
   ],
   "source": [
    "\n",
    "def hello_decorator(func):\n",
    "    print('this is outer function')\n",
    "    \n",
    "    def inner_function1():\n",
    "        print('this is inner function')\n",
    "        func()\n",
    "        return 1000\n",
    "\n",
    "    return inner_function1\n",
    "\n",
    "@hello_decorator    \n",
    "def my_function():\n",
    "    print('*'*30)\n",
    "    \n",
    "my_function()"
   ]
  },
  {
   "cell_type": "code",
   "execution_count": 51,
   "id": "818a487d",
   "metadata": {},
   "outputs": [
    {
     "name": "stdout",
     "output_type": "stream",
     "text": [
      "this is outer function\n",
      "******************************\n",
      "function finished!\n"
     ]
    }
   ],
   "source": [
    "def hello_fun(func):               # func >> my_fun\n",
    "    print('this is outer function')\n",
    "    func()\n",
    "    print('function finished!')\n",
    "\n",
    "@hello_fun            # hello_fun decorator\n",
    "def my_fun():\n",
    "    print('*'*30)\n",
    "    \n",
    "my_fun"
   ]
  },
  {
   "cell_type": "code",
   "execution_count": 101,
   "id": "03564b32",
   "metadata": {},
   "outputs": [
    {
     "name": "stdout",
     "output_type": "stream",
     "text": [
      "this is outer function\n",
      "******************************\n",
      "function finished!\n",
      "this is outer function\n",
      "%%%%%%%%%%%%%%%%%%%%%%%%%%%%%%\n",
      "function finished!\n"
     ]
    }
   ],
   "source": [
    "def hello_function(function):               # func >> my_fun\n",
    "    print('this is outer function')\n",
    "    function()\n",
    "    print('function finished!')\n",
    "\n",
    "@hello_function           # hello_fun decorator\n",
    "def my_fun1():\n",
    "    print('*'*30)\n",
    "    \n",
    "@hello_function\n",
    "def my_fun2():\n",
    "    print('%'*30)\n",
    "    \n",
    "my_fun1"
   ]
  },
  {
   "cell_type": "code",
   "execution_count": 102,
   "id": "b8ce7739",
   "metadata": {},
   "outputs": [
    {
     "name": "stdout",
     "output_type": "stream",
     "text": [
      "this is outer function\n",
      "******************************\n",
      "function finished!\n"
     ]
    }
   ],
   "source": [
    "def hello_function(function):               # func >> my_fun\n",
    "    print('this is outer function')\n",
    "    function()\n",
    "    print('function finished!')\n",
    "\n",
    "@hello_function           # hello_fun decorator\n",
    "def my_fun1():\n",
    "    print('*'*30)\n",
    "    \n",
    "my_fun1"
   ]
  },
  {
   "cell_type": "code",
   "execution_count": 104,
   "id": "24cc33c5",
   "metadata": {},
   "outputs": [
    {
     "name": "stdout",
     "output_type": "stream",
     "text": [
      "this is outer function\n",
      "%%%%%%%%%%%%%%%%%%%%%%%%%%%%%%\n",
      "function finished!\n"
     ]
    }
   ],
   "source": [
    "@hello_function\n",
    "def my_fun2():\n",
    "    print('%'*30)\n",
    "    \n",
    "    \n",
    "my_fun2"
   ]
  },
  {
   "cell_type": "code",
   "execution_count": 98,
   "id": "cb643e0f",
   "metadata": {},
   "outputs": [],
   "source": [
    "def dec1(func):\n",
    "    def inner1():\n",
    "        print('function executing')\n",
    "        func()\n",
    "        print('function executed!')\n",
    "    return inner1\n",
    "\n",
    "def dec2(func):\n",
    "    def inner2():\n",
    "        print('-'*50)\n",
    "        func()\n",
    "        print('-'*50)\n",
    "    return inner2\n",
    "\n",
    "def dec3(func):\n",
    "    def inner3():\n",
    "        print('*'*50)\n",
    "        func()\n",
    "        print('*'*50)\n",
    "    return inner3"
   ]
  },
  {
   "cell_type": "code",
   "execution_count": 100,
   "id": "44e0a67e",
   "metadata": {},
   "outputs": [
    {
     "name": "stdout",
     "output_type": "stream",
     "text": [
      "function executing\n",
      "--------------------------------------------------\n",
      "**************************************************\n",
      "Python Function herein\n",
      "**************************************************\n",
      "--------------------------------------------------\n",
      "function executed!\n"
     ]
    }
   ],
   "source": [
    "@dec1\n",
    "@dec2\n",
    "@dec3\n",
    "def python():\n",
    "    print('Python Function herein')\n",
    "    \n",
    "python()"
   ]
  },
  {
   "cell_type": "code",
   "execution_count": 69,
   "id": "7d80df58",
   "metadata": {},
   "outputs": [
    {
     "name": "stdout",
     "output_type": "stream",
     "text": [
      "--------------------------------------------------\n",
      "function executing\n"
     ]
    },
    {
     "data": {
      "text/plain": [
       "'hi'"
      ]
     },
     "execution_count": 69,
     "metadata": {},
     "output_type": "execute_result"
    }
   ],
   "source": [
    "def dec11(func):\n",
    "    print('function executing')\n",
    "    return func\n",
    "\n",
    "def dec22(func):\n",
    "    print('-'*50)\n",
    "    return func\n",
    "#     print('-'*50)\n",
    "    \n",
    "@dec11\n",
    "@dec22\n",
    "def printing():\n",
    "    return 'hi'\n",
    "\n",
    "printing()"
   ]
  }
 ],
 "metadata": {
  "kernelspec": {
   "display_name": "Python 3",
   "language": "python",
   "name": "python3"
  },
  "language_info": {
   "codemirror_mode": {
    "name": "ipython",
    "version": 3
   },
   "file_extension": ".py",
   "mimetype": "text/x-python",
   "name": "python",
   "nbconvert_exporter": "python",
   "pygments_lexer": "ipython3",
   "version": "3.8.8"
  },
  "toc": {
   "base_numbering": 1,
   "nav_menu": {},
   "number_sections": true,
   "sideBar": true,
   "skip_h1_title": false,
   "title_cell": "Table of Contents",
   "title_sidebar": "Contents",
   "toc_cell": false,
   "toc_position": {},
   "toc_section_display": true,
   "toc_window_display": false
  },
  "varInspector": {
   "cols": {
    "lenName": 16,
    "lenType": 16,
    "lenVar": 40
   },
   "kernels_config": {
    "python": {
     "delete_cmd_postfix": "",
     "delete_cmd_prefix": "del ",
     "library": "var_list.py",
     "varRefreshCmd": "print(var_dic_list())"
    },
    "r": {
     "delete_cmd_postfix": ") ",
     "delete_cmd_prefix": "rm(",
     "library": "var_list.r",
     "varRefreshCmd": "cat(var_dic_list()) "
    }
   },
   "types_to_exclude": [
    "module",
    "function",
    "builtin_function_or_method",
    "instance",
    "_Feature"
   ],
   "window_display": false
  }
 },
 "nbformat": 4,
 "nbformat_minor": 5
}
