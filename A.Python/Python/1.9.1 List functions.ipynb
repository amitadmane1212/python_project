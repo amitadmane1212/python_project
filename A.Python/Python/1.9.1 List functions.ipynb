{
 "cells": [
  {
   "cell_type": "code",
   "execution_count": 1,
   "id": "edf27b6c",
   "metadata": {
    "collapsed": true
   },
   "outputs": [
    {
     "name": "stdout",
     "output_type": "stream",
     "text": [
      "0 Nagpur\n",
      "1 Pune\n",
      "2 Nagpur\n"
     ]
    }
   ],
   "source": [
    "cities = ['Nagpur','Pune','Nagpur']\n",
    "\n",
    "for i,j in enumerate(cities):\n",
    "    print(i,j)"
   ]
  },
  {
   "cell_type": "code",
   "execution_count": 3,
   "id": "11ef5f65",
   "metadata": {},
   "outputs": [
    {
     "name": "stdout",
     "output_type": "stream",
     "text": [
      "Python is intresting\n",
      "Python is intresting\n",
      "Python is intresting\n",
      "Python is intresting\n",
      "Python is intresting\n"
     ]
    }
   ],
   "source": [
    "string = 'Python is intresting'\n",
    "\n",
    "print(string)\n",
    "print(string)\n",
    "print(string)\n",
    "print(string)\n",
    "print(string)"
   ]
  },
  {
   "cell_type": "code",
   "execution_count": 6,
   "id": "245141d2",
   "metadata": {},
   "outputs": [
    {
     "name": "stdout",
     "output_type": "stream",
     "text": [
      "Python is intresting\n",
      "Python is intresting\n",
      "Python is intresting\n",
      "Python is intresting\n",
      "Python is intresting\n"
     ]
    }
   ],
   "source": [
    "for i in range(5):\n",
    "    print(string)"
   ]
  },
  {
   "cell_type": "code",
   "execution_count": 9,
   "id": "eefc7a0a",
   "metadata": {},
   "outputs": [
    {
     "name": "stdout",
     "output_type": "stream",
     "text": [
      "Python is intresting\n",
      "Python is intresting\n",
      "Python is intresting\n",
      "Python is intresting\n",
      "Python is intresting\n"
     ]
    }
   ],
   "source": [
    "for i in [0,1,2,3,4]:\n",
    "    print(string)"
   ]
  },
  {
   "cell_type": "code",
   "execution_count": 8,
   "id": "d7e01fff",
   "metadata": {},
   "outputs": [
    {
     "data": {
      "text/plain": [
       "[0, 1, 2, 3, 4]"
      ]
     },
     "execution_count": 8,
     "metadata": {},
     "output_type": "execute_result"
    }
   ],
   "source": [
    "list(range(5))"
   ]
  },
  {
   "cell_type": "markdown",
   "id": "864c1fdb",
   "metadata": {},
   "source": [
    "# Range function"
   ]
  },
  {
   "cell_type": "raw",
   "id": "4d9f42e3",
   "metadata": {},
   "source": [
    "range(intial index, final index, step size)\n",
    "gives a sequence of numbers"
   ]
  },
  {
   "cell_type": "code",
   "execution_count": 10,
   "id": "bdcc4aad",
   "metadata": {},
   "outputs": [
    {
     "data": {
      "text/plain": [
       "range(0, 5)"
      ]
     },
     "execution_count": 10,
     "metadata": {},
     "output_type": "execute_result"
    }
   ],
   "source": [
    "range(0,5)"
   ]
  },
  {
   "cell_type": "code",
   "execution_count": 11,
   "id": "a190356a",
   "metadata": {},
   "outputs": [
    {
     "data": {
      "text/plain": [
       "[0, 1, 2, 3, 4]"
      ]
     },
     "execution_count": 11,
     "metadata": {},
     "output_type": "execute_result"
    }
   ],
   "source": [
    "list(range(5))"
   ]
  },
  {
   "cell_type": "code",
   "execution_count": 12,
   "id": "5e177331",
   "metadata": {},
   "outputs": [
    {
     "data": {
      "text/plain": [
       "[0, 1, 2, 3, 4]"
      ]
     },
     "execution_count": 12,
     "metadata": {},
     "output_type": "execute_result"
    }
   ],
   "source": [
    "list(range(0,5))"
   ]
  },
  {
   "cell_type": "code",
   "execution_count": 13,
   "id": "4b2474ab",
   "metadata": {},
   "outputs": [
    {
     "data": {
      "text/plain": [
       "[0, 2, 4]"
      ]
     },
     "execution_count": 13,
     "metadata": {},
     "output_type": "execute_result"
    }
   ],
   "source": [
    "list(range(0,5,2))"
   ]
  },
  {
   "cell_type": "code",
   "execution_count": 14,
   "id": "b4bf5641",
   "metadata": {},
   "outputs": [
    {
     "data": {
      "text/plain": [
       "[-1, -3, -5, -7, -9]"
      ]
     },
     "execution_count": 14,
     "metadata": {},
     "output_type": "execute_result"
    }
   ],
   "source": [
    "list(range(-1,-10,-2))"
   ]
  },
  {
   "cell_type": "code",
   "execution_count": 16,
   "id": "3f33c8d9",
   "metadata": {},
   "outputs": [
    {
     "name": "stdout",
     "output_type": "stream",
     "text": [
      "hello\n",
      "hello\n",
      "hello\n"
     ]
    }
   ],
   "source": [
    "for i in range(0,5,2):\n",
    "    print('Hello')"
   ]
  },
  {
   "cell_type": "code",
   "execution_count": 17,
   "id": "21b900ec",
   "metadata": {},
   "outputs": [
    {
     "name": "stdout",
     "output_type": "stream",
     "text": [
      "-1\n",
      "-3\n",
      "-5\n",
      "-7\n",
      "-9\n"
     ]
    }
   ],
   "source": [
    "for i in range(-1,-10,-2):\n",
    "    print(i)"
   ]
  },
  {
   "cell_type": "markdown",
   "id": "611d7dad",
   "metadata": {},
   "source": [
    "# Adding items in the list"
   ]
  },
  {
   "cell_type": "markdown",
   "id": "0cdcd0d4",
   "metadata": {},
   "source": [
    "## Append()"
   ]
  },
  {
   "cell_type": "raw",
   "id": "ebb176e1",
   "metadata": {},
   "source": [
    "append is used to add itme in the list\n",
    "by default it adds item at the -1 index. basically at the end of the list."
   ]
  },
  {
   "cell_type": "code",
   "execution_count": 19,
   "id": "a08c04e2",
   "metadata": {},
   "outputs": [
    {
     "name": "stdout",
     "output_type": "stream",
     "text": [
      "['Cristiano', 'Messi', 'Kaka', 'Ronaldino', 'Ronaldo'] 5\n"
     ]
    },
    {
     "data": {
      "text/plain": [
       "['Cristiano', 'Messi', 'Kaka', 'Ronaldino', 'Ronaldo', 'Neymar']"
      ]
     },
     "execution_count": 19,
     "metadata": {},
     "output_type": "execute_result"
    }
   ],
   "source": [
    "soccer = ['Cristiano','Messi','Kaka','Ronaldino','Ronaldo']\n",
    "print(soccer,len(soccer))\n",
    "\n",
    "soccer.append('Neymar')\n",
    "\n",
    "soccer"
   ]
  },
  {
   "cell_type": "code",
   "execution_count": 20,
   "id": "672991e3",
   "metadata": {},
   "outputs": [
    {
     "name": "stdout",
     "output_type": "stream",
     "text": [
      "['Cristiano', 'Messi', 'Kaka', 'Ronaldino', 'Ronaldo']\n"
     ]
    },
    {
     "data": {
      "text/plain": [
       "['Cristiano',\n",
       " 'Messi',\n",
       " 'Kaka',\n",
       " 'Ronaldino',\n",
       " 'Ronaldo',\n",
       " ['Neymar', 'Sunil', 'Zadden']]"
      ]
     },
     "execution_count": 20,
     "metadata": {},
     "output_type": "execute_result"
    }
   ],
   "source": [
    "soccer = ['Cristiano','Messi','Kaka','Ronaldino','Ronaldo']\n",
    "print(soccer)\n",
    "\n",
    "players = ['Neymar','Sunil','Zadden']\n",
    "\n",
    "soccer.append(players)\n",
    "\n",
    "soccer"
   ]
  },
  {
   "cell_type": "code",
   "execution_count": 25,
   "id": "93b69c94",
   "metadata": {},
   "outputs": [
    {
     "name": "stdout",
     "output_type": "stream",
     "text": [
      "['Cristiano', 'Messi', 'Kaka', 'Ronaldino', 'Ronaldo']\n",
      "['Cristiano', 'Messi', 'Kaka', 'Ronaldino', 'Ronaldo', 'Neymar', 'Sunil', 'Zadden']\n"
     ]
    }
   ],
   "source": [
    "soccer = ['Cristiano','Messi','Kaka','Ronaldino','Ronaldo']\n",
    "\n",
    "print(soccer)\n",
    "\n",
    "players = ['Neymar','Sunil','Zadden']\n",
    "\n",
    "for player in players:\n",
    "    soccer.append(player)\n",
    "\n",
    "print(soccer)"
   ]
  },
  {
   "cell_type": "markdown",
   "id": "2ea17821",
   "metadata": {},
   "source": [
    "# Extend()"
   ]
  },
  {
   "cell_type": "raw",
   "id": "ea51548c",
   "metadata": {},
   "source": [
    "extend is used to add the items in list\n",
    "by default it adds the items at the last index\n",
    "inside extend only an iterator (list,tuple,set,dict) has to be passed!"
   ]
  },
  {
   "cell_type": "code",
   "execution_count": 27,
   "id": "de98e5df",
   "metadata": {},
   "outputs": [
    {
     "name": "stdout",
     "output_type": "stream",
     "text": [
      "['Cristiano', 'Messi', 'Kaka', 'Ronaldino', 'Ronaldo'] 5\n"
     ]
    },
    {
     "data": {
      "text/plain": [
       "['Cristiano',\n",
       " 'Messi',\n",
       " 'Kaka',\n",
       " 'Ronaldino',\n",
       " 'Ronaldo',\n",
       " 'N',\n",
       " 'e',\n",
       " 'y',\n",
       " 'm',\n",
       " 'a',\n",
       " 'r']"
      ]
     },
     "execution_count": 27,
     "metadata": {},
     "output_type": "execute_result"
    }
   ],
   "source": [
    "soccer = ['Cristiano','Messi','Kaka','Ronaldino','Ronaldo']\n",
    "print(soccer,len(soccer))\n",
    "\n",
    "soccer.extend('Neymar')\n",
    "\n",
    "soccer"
   ]
  },
  {
   "cell_type": "code",
   "execution_count": 28,
   "id": "35d99e29",
   "metadata": {},
   "outputs": [
    {
     "name": "stdout",
     "output_type": "stream",
     "text": [
      "['Cristiano', 'Messi', 'Kaka', 'Ronaldino', 'Ronaldo'] 5\n"
     ]
    },
    {
     "data": {
      "text/plain": [
       "['Cristiano', 'Messi', 'Kaka', 'Ronaldino', 'Ronaldo', 'Neymar']"
      ]
     },
     "execution_count": 28,
     "metadata": {},
     "output_type": "execute_result"
    }
   ],
   "source": [
    "soccer = ['Cristiano','Messi','Kaka','Ronaldino','Ronaldo']\n",
    "print(soccer,len(soccer))\n",
    "\n",
    "soccer.extend(['Neymar'])\n",
    "\n",
    "soccer"
   ]
  },
  {
   "cell_type": "code",
   "execution_count": 29,
   "id": "e0c113a0",
   "metadata": {},
   "outputs": [
    {
     "name": "stdout",
     "output_type": "stream",
     "text": [
      "['Cristiano', 'Messi', 'Kaka', 'Ronaldino', 'Ronaldo']\n"
     ]
    },
    {
     "data": {
      "text/plain": [
       "['Cristiano',\n",
       " 'Messi',\n",
       " 'Kaka',\n",
       " 'Ronaldino',\n",
       " 'Ronaldo',\n",
       " 'Neymar',\n",
       " 'Sunil',\n",
       " 'Zadden']"
      ]
     },
     "execution_count": 29,
     "metadata": {},
     "output_type": "execute_result"
    }
   ],
   "source": [
    "soccer = ['Cristiano','Messi','Kaka','Ronaldino','Ronaldo']\n",
    "print(soccer)\n",
    "\n",
    "players = ['Neymar','Sunil','Zadden']\n",
    "\n",
    "soccer.extend(players)\n",
    "\n",
    "soccer"
   ]
  },
  {
   "cell_type": "code",
   "execution_count": 31,
   "id": "27a2b8e0",
   "metadata": {},
   "outputs": [
    {
     "data": {
      "text/plain": [
       "[1, 2, 3, 4, 5, 6]"
      ]
     },
     "execution_count": 31,
     "metadata": {},
     "output_type": "execute_result"
    }
   ],
   "source": [
    "nums = [1,2,3,4,5]\n",
    "nums.extend([6])\n",
    "nums"
   ]
  },
  {
   "cell_type": "code",
   "execution_count": 32,
   "id": "40a4c25b",
   "metadata": {},
   "outputs": [
    {
     "data": {
      "text/plain": [
       "[1, 2, 3, 4, 5, 6, 7, 8]"
      ]
     },
     "execution_count": 32,
     "metadata": {},
     "output_type": "execute_result"
    }
   ],
   "source": [
    "nums = [1,2,3,4,5]\n",
    "nums.extend((6,7,8))\n",
    "nums"
   ]
  },
  {
   "cell_type": "markdown",
   "id": "af0b1c2d",
   "metadata": {},
   "source": [
    "# insert"
   ]
  },
  {
   "cell_type": "raw",
   "id": "dc91b6c6",
   "metadata": {},
   "source": [
    "is used to add item at a certain index\n",
    "syntax:\n",
    "    list.insert(index,value)"
   ]
  },
  {
   "cell_type": "code",
   "execution_count": 38,
   "id": "68261dad",
   "metadata": {},
   "outputs": [
    {
     "name": "stdout",
     "output_type": "stream",
     "text": [
      "['Cristiano', 'Messi', 'Kaka', 'Ronaldino', 'Ronaldo']\n"
     ]
    },
    {
     "data": {
      "text/plain": [
       "['Neymar', 'Cristiano', 'Messi', 'Kaka', 'Ronaldino', 'Ronaldo']"
      ]
     },
     "execution_count": 38,
     "metadata": {},
     "output_type": "execute_result"
    }
   ],
   "source": [
    "soccer = ['Cristiano','Messi','Kaka','Ronaldino','Ronaldo']\n",
    "print(soccer)\n",
    "\n",
    "soccer.insert(0,'Neymar')\n",
    "\n",
    "soccer"
   ]
  },
  {
   "cell_type": "code",
   "execution_count": 34,
   "id": "0eb2b679",
   "metadata": {},
   "outputs": [
    {
     "name": "stdout",
     "output_type": "stream",
     "text": [
      "['Cristiano', 'Messi', 'Kaka', 'Ronaldino', 'Ronaldo']\n"
     ]
    },
    {
     "data": {
      "text/plain": [
       "['Cristiano', 'Messi', 'Kaka', 'Ronaldino', 'Neymar', 'Ronaldo']"
      ]
     },
     "execution_count": 34,
     "metadata": {},
     "output_type": "execute_result"
    }
   ],
   "source": [
    "soccer = ['Cristiano','Messi','Kaka','Ronaldino','Ronaldo']\n",
    "print(soccer)\n",
    "\n",
    "soccer.insert(-1,'Neymar')\n",
    "\n",
    "soccer"
   ]
  },
  {
   "cell_type": "code",
   "execution_count": 36,
   "id": "700d7731",
   "metadata": {},
   "outputs": [
    {
     "name": "stdout",
     "output_type": "stream",
     "text": [
      "['Cristiano', 'Messi', 'Kaka', 'Ronaldino', 'Ronaldo']\n"
     ]
    },
    {
     "data": {
      "text/plain": [
       "['Cristiano', 'Messi', 'Kaka', 'Ronaldino', 'Ronaldo', 'Neymar']"
      ]
     },
     "execution_count": 36,
     "metadata": {},
     "output_type": "execute_result"
    }
   ],
   "source": [
    "soccer = ['Cristiano','Messi','Kaka','Ronaldino','Ronaldo']\n",
    "print(soccer)\n",
    "\n",
    "soccer.insert(len(soccer),'Neymar')\n",
    "\n",
    "soccer"
   ]
  },
  {
   "cell_type": "code",
   "execution_count": 40,
   "id": "f46720bc",
   "metadata": {},
   "outputs": [
    {
     "name": "stdout",
     "output_type": "stream",
     "text": [
      "['Cristiano', 'Messi', 'Kaka', 'Ronaldino', 'Ronaldo']\n",
      "['Cristiano', ['Neymar', 'Sunil', 'Zadden'], 'Messi', 'Kaka', 'Ronaldino', 'Ronaldo']\n"
     ]
    }
   ],
   "source": [
    "soccer = ['Cristiano','Messi','Kaka','Ronaldino','Ronaldo']\n",
    "print(soccer)\n",
    "\n",
    "players = ['Neymar','Sunil','Zadden']\n",
    "\n",
    "soccer.insert(1,players)\n",
    "\n",
    "print(soccer)"
   ]
  },
  {
   "cell_type": "code",
   "execution_count": 42,
   "id": "cb351773",
   "metadata": {},
   "outputs": [
    {
     "name": "stdout",
     "output_type": "stream",
     "text": [
      "['Cristiano', 'Messi', 'Kaka', 'Ronaldino', 'Ronaldo']\n",
      "['Cristiano', 'Neymar', 'Sunil', 'Zadden', 'Messi', 'Kaka', 'Ronaldino', 'Ronaldo']\n"
     ]
    }
   ],
   "source": [
    "soccer = ['Cristiano','Messi','Kaka','Ronaldino','Ronaldo']\n",
    "print(soccer)\n",
    "\n",
    "players = ['Neymar','Sunil','Zadden']\n",
    "\n",
    "for i in players[::-1]:\n",
    "    soccer.insert(1,i)\n",
    "\n",
    "print(soccer)"
   ]
  },
  {
   "cell_type": "code",
   "execution_count": 43,
   "id": "5a6b9de2",
   "metadata": {},
   "outputs": [
    {
     "name": "stdout",
     "output_type": "stream",
     "text": [
      "['Cristiano', 'Messi', 'Kaka', 'Ronaldino', 'Ronaldo']\n",
      "['Cristiano', 'Neymar', 'Sunil', 'Zadden', 'Messi', 'Kaka', 'Ronaldino', 'Ronaldo']\n"
     ]
    }
   ],
   "source": [
    "soccer = ['Cristiano','Messi','Kaka','Ronaldino','Ronaldo']\n",
    "print(soccer)\n",
    "\n",
    "players = ['Neymar','Sunil','Zadden']\n",
    "\n",
    "for index,player in enumerate(players):\n",
    "    soccer.insert(index+1,player)\n",
    "\n",
    "print(soccer)"
   ]
  },
  {
   "cell_type": "code",
   "execution_count": 47,
   "id": "09ddb289",
   "metadata": {},
   "outputs": [
    {
     "name": "stdout",
     "output_type": "stream",
     "text": [
      "['Cristiano', 'Messi', 'Kaka', 'Ronaldino', 'Ronaldo']\n",
      "\n",
      "['Cristiano', 'Neymar', 'Messi', 'Kaka', 'Ronaldino', 'Ronaldo']\n",
      "['Cristiano', 'Neymar', 'Sunil', 'Messi', 'Kaka', 'Ronaldino', 'Ronaldo']\n",
      "['Cristiano', 'Neymar', 'Sunil', 'Zadden', 'Messi', 'Kaka', 'Ronaldino', 'Ronaldo']\n",
      "['Cristiano', 'Neymar', 'Sunil', 'Zadden', 'Messi', 'Kaka', 'Ronaldino', 'Ronaldo']\n"
     ]
    }
   ],
   "source": [
    "soccer = ['Cristiano','Messi','Kaka','Ronaldino','Ronaldo']\n",
    "print(soccer)\n",
    "print()\n",
    "players = ['Neymar','Sunil','Zadden']\n",
    "\n",
    "for i in range(1,4):    # [1,2,3]\n",
    "    soccer.insert(i,players[i-1])\n",
    "    print(soccer)\n",
    "\n",
    "print(soccer)"
   ]
  },
  {
   "cell_type": "code",
   "execution_count": 45,
   "id": "9fcac0cd",
   "metadata": {},
   "outputs": [
    {
     "data": {
      "text/plain": [
       "[1, 2, 3]"
      ]
     },
     "execution_count": 45,
     "metadata": {},
     "output_type": "execute_result"
    }
   ],
   "source": [
    "list(range(1,4))"
   ]
  },
  {
   "cell_type": "markdown",
   "id": "f04c43fa",
   "metadata": {},
   "source": [
    "# addition of lists.."
   ]
  },
  {
   "cell_type": "code",
   "execution_count": 52,
   "id": "0b6ecfbf",
   "metadata": {},
   "outputs": [
    {
     "name": "stdout",
     "output_type": "stream",
     "text": [
      "['Noida', 'Gurgaon', 'Mumbai', 'Pune', 'Nashik', 'Nagpur', 'Solapur', 'Malegaon', 'Mayapur', 'Hyderabad']\n"
     ]
    }
   ],
   "source": [
    "cities = ['Noida','Gurgaon','Mumbai','Pune','Nashik','Nagpur','Solapur','Malegaon','Mayapur']\n",
    "\n",
    "city = ['Hyderabad']\n",
    "\n",
    "cities = cities + city\n",
    "    \n",
    "print(cities)\n"
   ]
  },
  {
   "cell_type": "code",
   "execution_count": 53,
   "id": "9ff3666e",
   "metadata": {},
   "outputs": [
    {
     "name": "stdout",
     "output_type": "stream",
     "text": [
      "['Noida', 'Gurgaon', 'Mumbai', 'Pune', 'Nashik', 'Nagpur', 'Solapur', 'Malegaon', 'Mayapur', ['Hyderabad']]\n"
     ]
    }
   ],
   "source": [
    "cities = ['Noida','Gurgaon','Mumbai','Pune','Nashik','Nagpur','Solapur','Malegaon','Mayapur']\n",
    "\n",
    "city = 'Hyderabad'\n",
    "\n",
    "cities = cities + [[city]]\n",
    "    \n",
    "print(cities)\n"
   ]
  },
  {
   "cell_type": "markdown",
   "id": "04d88329",
   "metadata": {},
   "source": [
    "# why is list mutable?"
   ]
  },
  {
   "cell_type": "code",
   "execution_count": 57,
   "id": "87d465c6",
   "metadata": {},
   "outputs": [
    {
     "name": "stdout",
     "output_type": "stream",
     "text": [
      "['p', 'y', 't', 'h', 'o', 'n']\n"
     ]
    },
    {
     "data": {
      "text/plain": [
       "2510123811456"
      ]
     },
     "execution_count": 57,
     "metadata": {},
     "output_type": "execute_result"
    }
   ],
   "source": [
    "chrs = list('python')\n",
    "print(chrs)\n",
    "id(chrs)"
   ]
  },
  {
   "cell_type": "code",
   "execution_count": 58,
   "id": "5c470195",
   "metadata": {},
   "outputs": [
    {
     "name": "stdout",
     "output_type": "stream",
     "text": [
      "['P', 'y', 't', 'h', 'o', 'n']\n"
     ]
    },
    {
     "data": {
      "text/plain": [
       "2510123811456"
      ]
     },
     "execution_count": 58,
     "metadata": {},
     "output_type": "execute_result"
    }
   ],
   "source": [
    "chrs[0]='P'\n",
    "print(chrs)\n",
    "id(chrs)"
   ]
  },
  {
   "cell_type": "code",
   "execution_count": 60,
   "id": "9f1433dc",
   "metadata": {},
   "outputs": [
    {
     "name": "stdout",
     "output_type": "stream",
     "text": [
      "python\n"
     ]
    },
    {
     "data": {
      "text/plain": [
       "2508991990384"
      ]
     },
     "execution_count": 60,
     "metadata": {},
     "output_type": "execute_result"
    }
   ],
   "source": [
    "string = 'python'\n",
    "print(string)\n",
    "id(string)"
   ]
  },
  {
   "cell_type": "code",
   "execution_count": 62,
   "id": "653f7a38",
   "metadata": {},
   "outputs": [
    {
     "name": "stdout",
     "output_type": "stream",
     "text": [
      "Python\n"
     ]
    },
    {
     "data": {
      "text/plain": [
       "2510122987184"
      ]
     },
     "execution_count": 62,
     "metadata": {},
     "output_type": "execute_result"
    }
   ],
   "source": [
    "string = string.replace('p','P')\n",
    "print(string)\n",
    "id(string)"
   ]
  },
  {
   "cell_type": "raw",
   "id": "7495bd18",
   "metadata": {},
   "source": [
    "# bcz the ids are not changing even after changing the values in list so list is mutable data type\n",
    "# & bcz the ids are changing after replacing an item in the string so string is immutable data type"
   ]
  },
  {
   "cell_type": "code",
   "execution_count": 63,
   "id": "9c2030d6",
   "metadata": {},
   "outputs": [
    {
     "name": "stdout",
     "output_type": "stream",
     "text": [
      "['p', 'y', 't', 'h', 'o', 'n']\n",
      "['P', 'y', 't', 'h', 'o', 'n']\n"
     ]
    }
   ],
   "source": [
    "chrs = list('python')\n",
    "print(chrs)\n",
    "chrs[0]='P'\n",
    "print(chrs)"
   ]
  },
  {
   "cell_type": "code",
   "execution_count": 64,
   "id": "2858eb32",
   "metadata": {},
   "outputs": [
    {
     "name": "stdout",
     "output_type": "stream",
     "text": [
      "python\n"
     ]
    },
    {
     "ename": "TypeError",
     "evalue": "'str' object does not support item assignment",
     "output_type": "error",
     "traceback": [
      "\u001b[1;31m---------------------------------------------------------------------------\u001b[0m",
      "\u001b[1;31mTypeError\u001b[0m                                 Traceback (most recent call last)",
      "\u001b[1;32m<ipython-input-64-f8590c6d65fd>\u001b[0m in \u001b[0;36m<module>\u001b[1;34m\u001b[0m\n\u001b[0;32m      1\u001b[0m \u001b[0mchrs\u001b[0m \u001b[1;33m=\u001b[0m \u001b[1;34m'python'\u001b[0m\u001b[1;33m\u001b[0m\u001b[1;33m\u001b[0m\u001b[0m\n\u001b[0;32m      2\u001b[0m \u001b[0mprint\u001b[0m\u001b[1;33m(\u001b[0m\u001b[0mchrs\u001b[0m\u001b[1;33m)\u001b[0m\u001b[1;33m\u001b[0m\u001b[1;33m\u001b[0m\u001b[0m\n\u001b[1;32m----> 3\u001b[1;33m \u001b[0mchrs\u001b[0m\u001b[1;33m[\u001b[0m\u001b[1;36m0\u001b[0m\u001b[1;33m]\u001b[0m\u001b[1;33m=\u001b[0m\u001b[1;34m'P'\u001b[0m\u001b[1;33m\u001b[0m\u001b[1;33m\u001b[0m\u001b[0m\n\u001b[0m\u001b[0;32m      4\u001b[0m \u001b[0mprint\u001b[0m\u001b[1;33m(\u001b[0m\u001b[0mchrs\u001b[0m\u001b[1;33m)\u001b[0m\u001b[1;33m\u001b[0m\u001b[1;33m\u001b[0m\u001b[0m\n",
      "\u001b[1;31mTypeError\u001b[0m: 'str' object does not support item assignment"
     ]
    }
   ],
   "source": [
    "chrs = 'python'\n",
    "print(chrs)\n",
    "chrs[0]='P'\n",
    "print(chrs)"
   ]
  },
  {
   "cell_type": "raw",
   "id": "f67c911b",
   "metadata": {},
   "source": [
    "# if by using indexing you are able to change or modify the value in any iterator then it is an mutable data type else its an immutable data type."
   ]
  },
  {
   "cell_type": "code",
   "execution_count": 66,
   "id": "210c24b7",
   "metadata": {},
   "outputs": [
    {
     "data": {
      "text/plain": [
       "[1, 100, 3, 4]"
      ]
     },
     "execution_count": 66,
     "metadata": {},
     "output_type": "execute_result"
    }
   ],
   "source": [
    "nums = [1,2,3,4]\n",
    "nums[1] = 100\n",
    "nums"
   ]
  },
  {
   "cell_type": "markdown",
   "id": "ec5e0eb6",
   "metadata": {},
   "source": [
    "# index()"
   ]
  },
  {
   "cell_type": "raw",
   "id": "6e709ff5",
   "metadata": {},
   "source": [
    "used to find the index of any item in the list\n",
    "syntax:\n",
    "    list.index(item in list,start index, end index)"
   ]
  },
  {
   "cell_type": "code",
   "execution_count": 67,
   "id": "d9165008",
   "metadata": {},
   "outputs": [
    {
     "data": {
      "text/plain": [
       "4"
      ]
     },
     "execution_count": 67,
     "metadata": {},
     "output_type": "execute_result"
    }
   ],
   "source": [
    "age = [20,22,25,67,80,45,32,54,90]\n",
    "\n",
    "age.index(80)"
   ]
  },
  {
   "cell_type": "code",
   "execution_count": 68,
   "id": "f5a97190",
   "metadata": {},
   "outputs": [
    {
     "data": {
      "text/plain": [
       "8"
      ]
     },
     "execution_count": 68,
     "metadata": {},
     "output_type": "execute_result"
    }
   ],
   "source": [
    "age.index(90)"
   ]
  },
  {
   "cell_type": "code",
   "execution_count": 69,
   "id": "7bdb897f",
   "metadata": {},
   "outputs": [
    {
     "data": {
      "text/plain": [
       "4"
      ]
     },
     "execution_count": 69,
     "metadata": {},
     "output_type": "execute_result"
    }
   ],
   "source": [
    "age = [20,22,25,67,80,45,32,80,90]\n",
    "\n",
    "age.index(80)    #index of first item will be mentioned"
   ]
  },
  {
   "cell_type": "code",
   "execution_count": 71,
   "id": "27f076d4",
   "metadata": {},
   "outputs": [
    {
     "data": {
      "text/plain": [
       "7"
      ]
     },
     "execution_count": 71,
     "metadata": {},
     "output_type": "execute_result"
    }
   ],
   "source": [
    "age = [20,22,25,67,80,45,32,80,90]\n",
    "\n",
    "age.index(80,5,9) # start index is 5 & end index is 9. & b/w start & end index 80 is found at 7th index."
   ]
  },
  {
   "cell_type": "code",
   "execution_count": 72,
   "id": "987a144b",
   "metadata": {},
   "outputs": [
    {
     "data": {
      "text/plain": [
       "7"
      ]
     },
     "execution_count": 72,
     "metadata": {},
     "output_type": "execute_result"
    }
   ],
   "source": [
    "age = [20,22,25,67,80,45,32,80,90]\n",
    "\n",
    "age.index(80,5)    #start index is 5 & end index is set to default i.e len(string)"
   ]
  },
  {
   "cell_type": "code",
   "execution_count": 76,
   "id": "8c8558b2",
   "metadata": {},
   "outputs": [
    {
     "data": {
      "text/plain": [
       "3"
      ]
     },
     "execution_count": 76,
     "metadata": {},
     "output_type": "execute_result"
    }
   ],
   "source": [
    "age = [20,22,25,[67,80],45,100,32,80,90]\n",
    "\n",
    "age.index([67,80])"
   ]
  },
  {
   "cell_type": "code",
   "execution_count": 80,
   "id": "7e30108a",
   "metadata": {},
   "outputs": [
    {
     "data": {
      "text/plain": [
       "100"
      ]
     },
     "execution_count": 80,
     "metadata": {},
     "output_type": "execute_result"
    }
   ],
   "source": [
    "age = [20,22,25,67,80,100,45,32,80,90]\n",
    "max(age)"
   ]
  },
  {
   "cell_type": "code",
   "execution_count": 81,
   "id": "9e569e52",
   "metadata": {},
   "outputs": [
    {
     "data": {
      "text/plain": [
       "20"
      ]
     },
     "execution_count": 81,
     "metadata": {},
     "output_type": "execute_result"
    }
   ],
   "source": [
    "age = [20,22,25,67,80,100,45,32,80,90,105]\n",
    "min(age)"
   ]
  },
  {
   "cell_type": "code",
   "execution_count": 77,
   "id": "16ae32b1",
   "metadata": {},
   "outputs": [
    {
     "data": {
      "text/plain": [
       "5"
      ]
     },
     "execution_count": 77,
     "metadata": {},
     "output_type": "execute_result"
    }
   ],
   "source": [
    "age = [20,22,25,67,80,100,45,32,80,90]\n",
    "age.index(max(age))"
   ]
  },
  {
   "cell_type": "code",
   "execution_count": 78,
   "id": "4433ee6d",
   "metadata": {},
   "outputs": [
    {
     "data": {
      "text/plain": [
       "10"
      ]
     },
     "execution_count": 78,
     "metadata": {},
     "output_type": "execute_result"
    }
   ],
   "source": [
    "age = [20,22,25,67,80,100,45,32,80,90,105]\n",
    "age.index(max(age))"
   ]
  },
  {
   "cell_type": "code",
   "execution_count": 79,
   "id": "796c8b07",
   "metadata": {},
   "outputs": [
    {
     "data": {
      "text/plain": [
       "0"
      ]
     },
     "execution_count": 79,
     "metadata": {},
     "output_type": "execute_result"
    }
   ],
   "source": [
    "age = [20,22,25,67,80,100,45,32,80,90,105]\n",
    "age.index(min(age))"
   ]
  },
  {
   "cell_type": "code",
   "execution_count": null,
   "id": "fc1354c2",
   "metadata": {},
   "outputs": [],
   "source": []
  }
 ],
 "metadata": {
  "kernelspec": {
   "display_name": "Python 3",
   "language": "python",
   "name": "python3"
  },
  "language_info": {
   "codemirror_mode": {
    "name": "ipython",
    "version": 3
   },
   "file_extension": ".py",
   "mimetype": "text/x-python",
   "name": "python",
   "nbconvert_exporter": "python",
   "pygments_lexer": "ipython3",
   "version": "3.8.8"
  },
  "toc": {
   "base_numbering": 1,
   "nav_menu": {},
   "number_sections": true,
   "sideBar": true,
   "skip_h1_title": false,
   "title_cell": "Table of Contents",
   "title_sidebar": "Contents",
   "toc_cell": false,
   "toc_position": {},
   "toc_section_display": true,
   "toc_window_display": false
  },
  "varInspector": {
   "cols": {
    "lenName": 16,
    "lenType": 16,
    "lenVar": 40
   },
   "kernels_config": {
    "python": {
     "delete_cmd_postfix": "",
     "delete_cmd_prefix": "del ",
     "library": "var_list.py",
     "varRefreshCmd": "print(var_dic_list())"
    },
    "r": {
     "delete_cmd_postfix": ") ",
     "delete_cmd_prefix": "rm(",
     "library": "var_list.r",
     "varRefreshCmd": "cat(var_dic_list()) "
    }
   },
   "types_to_exclude": [
    "module",
    "function",
    "builtin_function_or_method",
    "instance",
    "_Feature"
   ],
   "window_display": false
  }
 },
 "nbformat": 4,
 "nbformat_minor": 5
}
