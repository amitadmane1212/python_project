{
 "cells": [
  {
   "cell_type": "code",
   "execution_count": 1,
   "id": "85096c9f",
   "metadata": {},
   "outputs": [],
   "source": [
    "import time\n",
    "import datetime"
   ]
  },
  {
   "cell_type": "raw",
   "id": "88561d66",
   "metadata": {},
   "source": [
    "date = 15-5-2022\n",
    "date = 15/5/2022\n",
    "date = 15,5,2022\n",
    "date = 15 May 2022\n",
    "date = 5/15/22"
   ]
  },
  {
   "cell_type": "code",
   "execution_count": 37,
   "id": "2e52b565",
   "metadata": {},
   "outputs": [
    {
     "data": {
      "text/plain": [
       "'2022,5,15'"
      ]
     },
     "execution_count": 37,
     "metadata": {},
     "output_type": "execute_result"
    }
   ],
   "source": [
    "date = ('15-5-2022'.split('-'))[::-1]\n",
    "x = ','.join(date)\n",
    "x"
   ]
  },
  {
   "cell_type": "code",
   "execution_count": 2,
   "id": "0ff44aff",
   "metadata": {},
   "outputs": [
    {
     "data": {
      "text/plain": [
       "0.33240318298339844"
      ]
     },
     "execution_count": 2,
     "metadata": {},
     "output_type": "execute_result"
    }
   ],
   "source": [
    "start_time = time.time()\n",
    "\n",
    "for i in range(10000000):\n",
    "    pass\n",
    "\n",
    "end_time = time.time()\n",
    "diff = end_time-start_time\n",
    "diff"
   ]
  },
  {
   "cell_type": "code",
   "execution_count": 3,
   "id": "741c4a14",
   "metadata": {},
   "outputs": [
    {
     "name": "stdout",
     "output_type": "stream",
     "text": [
      "Wall time: 300 ms\n"
     ]
    }
   ],
   "source": [
    "%%time\n",
    "for i in range(10000000):\n",
    "    pass"
   ]
  },
  {
   "cell_type": "markdown",
   "id": "0cfae316",
   "metadata": {},
   "source": [
    "# time.time()"
   ]
  },
  {
   "cell_type": "code",
   "execution_count": 4,
   "id": "64441d9d",
   "metadata": {},
   "outputs": [
    {
     "data": {
      "text/plain": [
       "1660097433.2027638"
      ]
     },
     "execution_count": 4,
     "metadata": {},
     "output_type": "execute_result"
    }
   ],
   "source": [
    "time.time()"
   ]
  },
  {
   "cell_type": "raw",
   "id": "39224e4b",
   "metadata": {},
   "source": [
    "# it shows the time in seconds that has been passed since 1970"
   ]
  },
  {
   "cell_type": "markdown",
   "id": "2d3885fb",
   "metadata": {},
   "source": [
    "# datetime.datetime()"
   ]
  },
  {
   "cell_type": "code",
   "execution_count": 8,
   "id": "42269657",
   "metadata": {},
   "outputs": [
    {
     "data": {
      "text/plain": [
       "datetime.datetime(2022, 8, 10, 7, 41, 37, 582893)"
      ]
     },
     "execution_count": 8,
     "metadata": {},
     "output_type": "execute_result"
    }
   ],
   "source": [
    "datetime.datetime.today()"
   ]
  },
  {
   "cell_type": "raw",
   "id": "8242260b",
   "metadata": {},
   "source": [
    "datetime.datetime(Year, Month, Day, Hour, Minutes, Seconds, Miliseconds)"
   ]
  },
  {
   "cell_type": "code",
   "execution_count": 9,
   "id": "14ace9f3",
   "metadata": {},
   "outputs": [
    {
     "name": "stdout",
     "output_type": "stream",
     "text": [
      "2022-08-10 07:42:43.342397\n"
     ]
    }
   ],
   "source": [
    "print(datetime.datetime.today())"
   ]
  },
  {
   "cell_type": "code",
   "execution_count": 10,
   "id": "292e1004",
   "metadata": {},
   "outputs": [
    {
     "name": "stdout",
     "output_type": "stream",
     "text": [
      "2022-08-10 07:43:06.963711\n"
     ]
    }
   ],
   "source": [
    "print(datetime.datetime.now())"
   ]
  },
  {
   "cell_type": "code",
   "execution_count": 16,
   "id": "73f9114a",
   "metadata": {},
   "outputs": [
    {
     "name": "stdout",
     "output_type": "stream",
     "text": [
      "10\n"
     ]
    }
   ],
   "source": [
    "print(datetime.datetime.now().day)"
   ]
  },
  {
   "cell_type": "code",
   "execution_count": 17,
   "id": "ea927832",
   "metadata": {},
   "outputs": [
    {
     "data": {
      "text/plain": [
       "2022"
      ]
     },
     "execution_count": 17,
     "metadata": {},
     "output_type": "execute_result"
    }
   ],
   "source": [
    "current_date = datetime.datetime.now()\n",
    "current_date.year"
   ]
  },
  {
   "cell_type": "code",
   "execution_count": 18,
   "id": "6b1ef14b",
   "metadata": {},
   "outputs": [
    {
     "data": {
      "text/plain": [
       "8"
      ]
     },
     "execution_count": 18,
     "metadata": {},
     "output_type": "execute_result"
    }
   ],
   "source": [
    "current_date.month"
   ]
  },
  {
   "cell_type": "code",
   "execution_count": 19,
   "id": "501811a4",
   "metadata": {},
   "outputs": [
    {
     "data": {
      "text/plain": [
       "10"
      ]
     },
     "execution_count": 19,
     "metadata": {},
     "output_type": "execute_result"
    }
   ],
   "source": [
    "current_date.day"
   ]
  },
  {
   "cell_type": "code",
   "execution_count": 20,
   "id": "b57f1428",
   "metadata": {},
   "outputs": [
    {
     "data": {
      "text/plain": [
       "7"
      ]
     },
     "execution_count": 20,
     "metadata": {},
     "output_type": "execute_result"
    }
   ],
   "source": [
    "current_date.hour"
   ]
  },
  {
   "cell_type": "code",
   "execution_count": 22,
   "id": "f8336dab",
   "metadata": {},
   "outputs": [
    {
     "data": {
      "text/plain": [
       "44"
      ]
     },
     "execution_count": 22,
     "metadata": {},
     "output_type": "execute_result"
    }
   ],
   "source": [
    "current_date.minute"
   ]
  },
  {
   "cell_type": "code",
   "execution_count": 23,
   "id": "69e4c188",
   "metadata": {},
   "outputs": [
    {
     "data": {
      "text/plain": [
       "18"
      ]
     },
     "execution_count": 23,
     "metadata": {},
     "output_type": "execute_result"
    }
   ],
   "source": [
    "current_date.second"
   ]
  },
  {
   "cell_type": "markdown",
   "id": "1d4b8331",
   "metadata": {},
   "source": [
    "### getting the date only from datetime"
   ]
  },
  {
   "cell_type": "code",
   "execution_count": 26,
   "id": "1db4107e",
   "metadata": {},
   "outputs": [
    {
     "name": "stdout",
     "output_type": "stream",
     "text": [
      "2022-08-10\n"
     ]
    }
   ],
   "source": [
    "current_date = datetime.datetime.now()\n",
    "print(current_date.date())"
   ]
  },
  {
   "cell_type": "code",
   "execution_count": 27,
   "id": "781616c1",
   "metadata": {},
   "outputs": [
    {
     "name": "stdout",
     "output_type": "stream",
     "text": [
      "07:46:38.737708\n"
     ]
    }
   ],
   "source": [
    "current_date = datetime.datetime.now()\n",
    "print(current_date.time())"
   ]
  },
  {
   "cell_type": "markdown",
   "id": "287fd941",
   "metadata": {},
   "source": [
    "### creating datestammp from some time format"
   ]
  },
  {
   "cell_type": "code",
   "execution_count": 28,
   "id": "92557fbb",
   "metadata": {},
   "outputs": [
    {
     "name": "stdout",
     "output_type": "stream",
     "text": [
      "2000-08-15 23:15:45\n"
     ]
    }
   ],
   "source": [
    "some_date = datetime.datetime(2000,8,15,23,15,45)\n",
    "print(some_date)"
   ]
  },
  {
   "cell_type": "code",
   "execution_count": 29,
   "id": "0d9a5d7c",
   "metadata": {},
   "outputs": [
    {
     "name": "stdout",
     "output_type": "stream",
     "text": [
      "2000\n"
     ]
    }
   ],
   "source": [
    "print(some_date.year)"
   ]
  },
  {
   "cell_type": "code",
   "execution_count": 30,
   "id": "50f50102",
   "metadata": {},
   "outputs": [
    {
     "name": "stdout",
     "output_type": "stream",
     "text": [
      "2000-08-15 00:00:00\n"
     ]
    }
   ],
   "source": [
    "some_date = datetime.datetime(2000,8,15)\n",
    "print(some_date)"
   ]
  },
  {
   "cell_type": "code",
   "execution_count": 38,
   "id": "a1afc098",
   "metadata": {},
   "outputs": [
    {
     "name": "stdout",
     "output_type": "stream",
     "text": [
      "2022-05-15 00:00:00\n"
     ]
    }
   ],
   "source": [
    "some_date = datetime.datetime(2022,5,15)\n",
    "print(some_date)"
   ]
  },
  {
   "cell_type": "markdown",
   "id": "60d35d7f",
   "metadata": {},
   "source": [
    "# Strftime()"
   ]
  },
  {
   "cell_type": "raw",
   "id": "64e8f7d7",
   "metadata": {},
   "source": [
    "strftime > string from time object\n",
    "it returns a string"
   ]
  },
  {
   "cell_type": "code",
   "execution_count": 40,
   "id": "795fce8c",
   "metadata": {},
   "outputs": [
    {
     "name": "stdout",
     "output_type": "stream",
     "text": [
      "2022-08-10 07:56:50.929061\n"
     ]
    }
   ],
   "source": [
    "current_date = datetime.datetime.now()\n",
    "print(current_date)"
   ]
  },
  {
   "cell_type": "code",
   "execution_count": 41,
   "id": "241ef444",
   "metadata": {},
   "outputs": [
    {
     "name": "stdout",
     "output_type": "stream",
     "text": [
      "2022\n"
     ]
    }
   ],
   "source": [
    "print(current_date.strftime('%Y'))"
   ]
  },
  {
   "cell_type": "code",
   "execution_count": 43,
   "id": "0a1712d7",
   "metadata": {},
   "outputs": [
    {
     "name": "stdout",
     "output_type": "stream",
     "text": [
      "22\n"
     ]
    }
   ],
   "source": [
    "print(datetime.datetime.now().strftime('%y'))"
   ]
  },
  {
   "cell_type": "code",
   "execution_count": null,
   "id": "a4aef821",
   "metadata": {},
   "outputs": [],
   "source": [
    "# List of all different strf formats\n",
    "\n",
    "*current_date.strftime('%Y')       # 2022\n",
    "*current_date.strftime('%y')       # 22 current_date\n",
    "*current_date.strftime('%d')       # Date\n",
    "*current_date.strftime('%m')       # Month in digits\n",
    "*current_date.strftime('%b')       # Abbrivated month in alphabets (feb)\n",
    "*current_date.strftime('%B')       # complete month name in alphabets (february)\n",
    "*current_date.strftime('%D')       # Date in format(months/date/year)\n",
    "*current_date.strftime('%a')       # Abbrivated weekday in alphabets (mon)\n",
    "*current_date.strftime('%A')       # complete day name in alphabets (Monday)\n",
    "current_date.strftime('%w')       # weekday in number (sun = 0, mon = 1...)\n",
    "current_date.strftime('%u')       # weekday number in that week (sun considered as 1 & mon also 1)\n",
    "current_date.strftime('%U')       # week number in that year\n",
    "current_date.strftime('%e')       # day of the month (1 to 31) / date\n",
    "current_date.strftime('%j')       # day number in that year\n",
    "current_date.strftime('%p')       # shows am/pm format\n",
    "*current_date.strftime('%M')       # Shows the minutes in number\n",
    "*current_date.strftime('%H')       # hours in digits\n",
    "current_date.strftime('%S')       # seconds in time format\n",
    "*current_date.strftime('%r')       # time in hour,minutes,seconds along with Am/Pm\n",
    "*current_date.strftime('%R')       # time in hour & minutes only in 24 hour format\n",
    "current_date.strftime('%c')       # Day abbrivated, Month Abbrivated, date number, time & year\n",
    "current_date.strftime('%x')       # date in / format (same as %D)\n",
    "current_date.strftime('%X')       # time in hour, minute, second only\n",
    "\n",
    "\n"
   ]
  },
  {
   "cell_type": "code",
   "execution_count": 44,
   "id": "beaa926d",
   "metadata": {},
   "outputs": [
    {
     "data": {
      "text/plain": [
       "'10'"
      ]
     },
     "execution_count": 44,
     "metadata": {},
     "output_type": "execute_result"
    }
   ],
   "source": [
    "current_date.strftime('%d')"
   ]
  },
  {
   "cell_type": "code",
   "execution_count": 46,
   "id": "b4ca7a0d",
   "metadata": {},
   "outputs": [
    {
     "data": {
      "text/plain": [
       "'08'"
      ]
     },
     "execution_count": 46,
     "metadata": {},
     "output_type": "execute_result"
    }
   ],
   "source": [
    "current_date.strftime('%m')       # Month in digits"
   ]
  },
  {
   "cell_type": "code",
   "execution_count": 48,
   "id": "66394d0e",
   "metadata": {},
   "outputs": [
    {
     "data": {
      "text/plain": [
       "'Aug'"
      ]
     },
     "execution_count": 48,
     "metadata": {},
     "output_type": "execute_result"
    }
   ],
   "source": [
    "current_date.strftime('%b') "
   ]
  },
  {
   "cell_type": "code",
   "execution_count": 49,
   "id": "5d7dbd79",
   "metadata": {},
   "outputs": [
    {
     "data": {
      "text/plain": [
       "'August'"
      ]
     },
     "execution_count": 49,
     "metadata": {},
     "output_type": "execute_result"
    }
   ],
   "source": [
    "current_date.strftime('%B') "
   ]
  },
  {
   "cell_type": "code",
   "execution_count": 50,
   "id": "7af5a75c",
   "metadata": {},
   "outputs": [
    {
     "data": {
      "text/plain": [
       "'Wed'"
      ]
     },
     "execution_count": 50,
     "metadata": {},
     "output_type": "execute_result"
    }
   ],
   "source": [
    "current_date.strftime('%a')"
   ]
  },
  {
   "cell_type": "code",
   "execution_count": 51,
   "id": "7ee4a1c7",
   "metadata": {},
   "outputs": [
    {
     "data": {
      "text/plain": [
       "'Wednesday'"
      ]
     },
     "execution_count": 51,
     "metadata": {},
     "output_type": "execute_result"
    }
   ],
   "source": [
    "current_date.strftime('%A')"
   ]
  },
  {
   "cell_type": "code",
   "execution_count": 52,
   "id": "d257b1ef",
   "metadata": {},
   "outputs": [
    {
     "data": {
      "text/plain": [
       "'32'"
      ]
     },
     "execution_count": 52,
     "metadata": {},
     "output_type": "execute_result"
    }
   ],
   "source": [
    "current_date.strftime('%U')       # week number in that year"
   ]
  },
  {
   "cell_type": "code",
   "execution_count": 53,
   "id": "217561cb",
   "metadata": {},
   "outputs": [
    {
     "data": {
      "text/plain": [
       "'222'"
      ]
     },
     "execution_count": 53,
     "metadata": {},
     "output_type": "execute_result"
    }
   ],
   "source": [
    "current_date.strftime('%j')       # day number in that year"
   ]
  },
  {
   "cell_type": "code",
   "execution_count": 54,
   "id": "86c448c8",
   "metadata": {},
   "outputs": [
    {
     "data": {
      "text/plain": [
       "'AM'"
      ]
     },
     "execution_count": 54,
     "metadata": {},
     "output_type": "execute_result"
    }
   ],
   "source": [
    "current_date.strftime('%p')       # shows am/pm format"
   ]
  },
  {
   "cell_type": "code",
   "execution_count": 55,
   "id": "88a7f971",
   "metadata": {},
   "outputs": [
    {
     "name": "stdout",
     "output_type": "stream",
     "text": [
      "Wed\n",
      "Wednesday\n",
      "3\n",
      "3\n",
      "32\n"
     ]
    }
   ],
   "source": [
    "print(current_date.strftime('%a'))       # Abbrivated weekday in alphabets (mon)\n",
    "print(current_date.strftime('%A'))       # complete Week name in alphabets (feb)\n",
    "print(current_date.strftime('%w'))       # weekday in number (sun = 0, mon = 1...)\n",
    "print(current_date.strftime('%u'))       # weekday number in that week (sun considered as 1 & mon also 1)\n",
    "print(current_date.strftime('%U'))       # week number in that year"
   ]
  },
  {
   "cell_type": "code",
   "execution_count": 56,
   "id": "16964809",
   "metadata": {},
   "outputs": [
    {
     "name": "stdout",
     "output_type": "stream",
     "text": [
      "10\n",
      "222\n",
      "AM\n"
     ]
    }
   ],
   "source": [
    "print(current_date.strftime('%e'))       # day of the month (1 to 31) / date\n",
    "print(current_date.strftime('%j') )      # day number in that year\n",
    "print(current_date.strftime('%p'))       # shows am/pm format"
   ]
  },
  {
   "cell_type": "code",
   "execution_count": 57,
   "id": "c54300b8",
   "metadata": {},
   "outputs": [
    {
     "name": "stdout",
     "output_type": "stream",
     "text": [
      "56\n",
      "07\n",
      "50\n",
      "07:56:50 AM\n",
      "07:56\n",
      "Wed Aug 10 07:56:50 2022\n",
      "08/10/22\n",
      "07:56:50\n"
     ]
    }
   ],
   "source": [
    "print(current_date.strftime('%M') )      # Shows the minutes in number\n",
    "print(current_date.strftime('%H'))       # hours in digits\n",
    "print(current_date.strftime('%S')  )     # seconds in time format\n",
    "print(current_date.strftime('%r') )      # time in hour,minutes,seconds along with Am/Pm\n",
    "print(current_date.strftime('%R')   )    # time in hour & minutes only in 24 hour format\n",
    "print(current_date.strftime('%c')  )     # Day abbrivated, Month Abbrivated, date number, time & year\n",
    "print(current_date.strftime('%x'))       # date in / format (same as %D)\n",
    "print(current_date.strftime('%X')   )    # time in hour:minutes:seconds in 24 hour format"
   ]
  },
  {
   "cell_type": "code",
   "execution_count": null,
   "id": "9dbdd814",
   "metadata": {},
   "outputs": [],
   "source": [
    "Directive\n",
    "%a - abbreviated weekday name\n",
    "\n",
    "%A - full weekday name\n",
    "\n",
    "%b - abbreviated month name\n",
    "\n",
    "%B - full month name\n",
    "\n",
    "%c - preferred date and time representation\n",
    "\n",
    "%C - century number (the year divided by 100, range 00 to 99)\n",
    "\n",
    "%d - day of the month (01 to 31)\n",
    "\n",
    "%D - same as %m/%d/%y\n",
    "\n",
    "%e - day of the month (1 to 31)\n",
    "\n",
    "%g - like %G, but without the century\n",
    "\n",
    "%G - 4-digit year corresponding to the ISO week number (see %V).\n",
    "\n",
    "%h - same as %b\n",
    "\n",
    "%H - hour, using a 24-hour clock (00 to 23)\n",
    "\n",
    "%I - hour, using a 12-hour clock (01 to 12)\n",
    "\n",
    "%j - day of the year (001 to 366)\n",
    "\n",
    "%m - month (01 to 12)\n",
    "\n",
    "%M - minute\n",
    "\n",
    "%n - newline character\n",
    "\n",
    "%p - either am or pm according to the given time value\n",
    "\n",
    "%r - time in a.m. and p.m. notation\n",
    "\n",
    "%R - time in 24 hour notation\n",
    "\n",
    "%S - second\n",
    "\n",
    "%t - tab character\n",
    "\n",
    "%T - current time, equal to %H:%M:%S\n",
    "\n",
    "%u - weekday as a number (1 to 7), Monday=1. Warning: In Sun Solaris Sunday=1\n",
    "\n",
    "%U - week number of the current year, starting with the first Sunday as the first day of the first week\n",
    "\n",
    "%V - The ISO 8601 week number of the current year (01 to 53), where week 1 is the first week that has at least 4 days in the current year, and with Monday as the first day of the week\n",
    "\n",
    "%W - week number of the current year, starting with the first Monday as the first day of the first week\n",
    "\n",
    "%w - day of the week as a decimal, Sunday=0\n",
    "\n",
    "%x - preferred date representation without the time\n",
    "\n",
    "%X - preferred time representation without the date\n",
    "\n",
    "%y - year without a century (range 00 to 99)\n",
    "\n",
    "%Y - year including the century\n",
    "\n",
    "%Z or %z - time zone or name or abbreviation\n",
    "\n",
    "%% - a literal % character"
   ]
  },
  {
   "cell_type": "markdown",
   "id": "779d8ede",
   "metadata": {},
   "source": [
    "# strptime()"
   ]
  },
  {
   "cell_type": "raw",
   "id": "2f6b5a2a",
   "metadata": {},
   "source": [
    "strptime > strptimeing parsing time/ sting points to time\n",
    "strptime > create a datetime object from any given string of date & timeme format"
   ]
  },
  {
   "cell_type": "code",
   "execution_count": 58,
   "id": "70431f70",
   "metadata": {},
   "outputs": [
    {
     "name": "stdout",
     "output_type": "stream",
     "text": [
      "2022-04-01 00:00:00\n"
     ]
    }
   ],
   "source": [
    "standard_date = datetime.datetime.strptime('1 Apr 2022','%d %b %Y')\n",
    "print(standard_date)"
   ]
  },
  {
   "cell_type": "code",
   "execution_count": 60,
   "id": "f3728e48",
   "metadata": {},
   "outputs": [
    {
     "data": {
      "text/plain": [
       "'April'"
      ]
     },
     "execution_count": 60,
     "metadata": {},
     "output_type": "execute_result"
    }
   ],
   "source": [
    "standard_date.strftime('%B')"
   ]
  },
  {
   "cell_type": "code",
   "execution_count": 66,
   "id": "a5f03da3",
   "metadata": {},
   "outputs": [
    {
     "name": "stdout",
     "output_type": "stream",
     "text": [
      "Thursday\n"
     ]
    }
   ],
   "source": [
    "date = '10/8/2000'\n",
    "standard_date = datetime.datetime.strptime(date,'%d/%m/%Y')\n",
    "print(standard_date.strftime('%A'))"
   ]
  },
  {
   "cell_type": "code",
   "execution_count": 67,
   "id": "4e0893ce",
   "metadata": {},
   "outputs": [
    {
     "name": "stdout",
     "output_type": "stream",
     "text": [
      "2022-08-15 00:00:00\n",
      "2021-06-05 00:00:00\n",
      "2021-09-25 00:00:00\n",
      "2020-09-19 00:00:00\n",
      "2022-08-02 00:00:00\n",
      "2022-07-15 00:00:00\n",
      "1994-08-15 00:00:00\n"
     ]
    }
   ],
   "source": [
    "date_list = ['15/8/2022','5-6-21','25-9-2021','1992020','2/8/22','15-Jul-2022','15/Aug/94']\n",
    "\n",
    "date_formats = ['%d/%m/%Y','%d-%m-%Y','%d-%b-%Y','%d/%b/%y','%d-%B-%y','%d-%m-%y','%d/%m/%y','%d%m%Y']\n",
    "\n",
    "for date in date_list:\n",
    "    for formats in date_formats:\n",
    "        try:\n",
    "            print(datetime.datetime.strptime(date,formats))\n",
    "        except:\n",
    "            pass"
   ]
  },
  {
   "cell_type": "raw",
   "id": "f8ab2aaa",
   "metadata": {},
   "source": [
    "NOTE : strptime converts any raw date into standatd datetime format\n",
    "       strftime fetches any specific data from standard datetime format"
   ]
  },
  {
   "cell_type": "code",
   "execution_count": 68,
   "id": "e60b5a75",
   "metadata": {},
   "outputs": [
    {
     "name": "stdout",
     "output_type": "stream",
     "text": [
      "2012-03-31 03:15:45 ----- 1994-07-25 12:45:12\n"
     ]
    }
   ],
   "source": [
    "final_Date = datetime.datetime(2012,3,31,3,15,45)\n",
    "Previous_Date = datetime.datetime(1994,7,25,12,45,12)\n",
    "\n",
    "print(final_Date,'-----',Previous_Date)"
   ]
  },
  {
   "cell_type": "code",
   "execution_count": 77,
   "id": "d755d54f",
   "metadata": {},
   "outputs": [
    {
     "name": "stdout",
     "output_type": "stream",
     "text": [
      "6458 days, 14:30:33\n"
     ]
    }
   ],
   "source": [
    "z = final_Date-Previous_Date\n",
    "print(z)"
   ]
  },
  {
   "cell_type": "code",
   "execution_count": 70,
   "id": "c98ea343",
   "metadata": {},
   "outputs": [
    {
     "name": "stdout",
     "output_type": "stream",
     "text": [
      "6458 days, 14:30:33\n"
     ]
    }
   ],
   "source": [
    "print(final_Date-Previous_Date)"
   ]
  },
  {
   "cell_type": "code",
   "execution_count": 74,
   "id": "5bbcec53",
   "metadata": {},
   "outputs": [
    {
     "data": {
      "text/plain": [
       "6458"
      ]
     },
     "execution_count": 74,
     "metadata": {},
     "output_type": "execute_result"
    }
   ],
   "source": [
    "z.days"
   ]
  },
  {
   "cell_type": "code",
   "execution_count": 75,
   "id": "abb5cf0f",
   "metadata": {},
   "outputs": [
    {
     "data": {
      "text/plain": [
       "52233"
      ]
     },
     "execution_count": 75,
     "metadata": {},
     "output_type": "execute_result"
    }
   ],
   "source": [
    "z.seconds"
   ]
  },
  {
   "cell_type": "code",
   "execution_count": 80,
   "id": "b4a70334",
   "metadata": {},
   "outputs": [],
   "source": [
    "from dateutil.relativedelta import relativedelta\n",
    "diff = relativedelta(final_Date, Previous_Date)"
   ]
  },
  {
   "cell_type": "code",
   "execution_count": 82,
   "id": "ece9e097",
   "metadata": {},
   "outputs": [
    {
     "data": {
      "text/plain": [
       "17"
      ]
     },
     "execution_count": 82,
     "metadata": {},
     "output_type": "execute_result"
    }
   ],
   "source": [
    "diff.years"
   ]
  },
  {
   "cell_type": "code",
   "execution_count": 87,
   "id": "97e29c6b",
   "metadata": {},
   "outputs": [
    {
     "data": {
      "text/plain": [
       "8"
      ]
     },
     "execution_count": 87,
     "metadata": {},
     "output_type": "execute_result"
    }
   ],
   "source": [
    "diff.months"
   ]
  },
  {
   "cell_type": "code",
   "execution_count": 89,
   "id": "33f3db62",
   "metadata": {},
   "outputs": [
    {
     "data": {
      "text/plain": [
       "5"
      ]
     },
     "execution_count": 89,
     "metadata": {},
     "output_type": "execute_result"
    }
   ],
   "source": [
    "diff.days"
   ]
  },
  {
   "cell_type": "markdown",
   "id": "b16d8e7e",
   "metadata": {},
   "source": [
    "# Timedelta()"
   ]
  },
  {
   "cell_type": "raw",
   "id": "33e91f31",
   "metadata": {},
   "source": [
    "Difference between two datetime values.\n",
    "\n",
    "timedelta(days=0, seconds=0, microseconds=0, milliseconds=0, minutes=0, hours=0, weeks=0)"
   ]
  },
  {
   "cell_type": "code",
   "execution_count": 90,
   "id": "ed398720",
   "metadata": {},
   "outputs": [
    {
     "name": "stdout",
     "output_type": "stream",
     "text": [
      "2022-08-10 08:31:24.605138\n"
     ]
    }
   ],
   "source": [
    "current_date = datetime.datetime.today()\n",
    "print(current_date)"
   ]
  },
  {
   "cell_type": "code",
   "execution_count": 96,
   "id": "1ac4295b",
   "metadata": {},
   "outputs": [
    {
     "name": "stdout",
     "output_type": "stream",
     "text": [
      "2022-07-31 08:31:24.605138\n"
     ]
    }
   ],
   "source": [
    "required_date = current_date+datetime.timedelta(days=-10)\n",
    "print(required_date)"
   ]
  },
  {
   "cell_type": "code",
   "execution_count": 92,
   "id": "295a3587",
   "metadata": {},
   "outputs": [
    {
     "data": {
      "text/plain": [
       "datetime.datetime(2022, 8, 20, 8, 31, 24, 605138)"
      ]
     },
     "execution_count": 92,
     "metadata": {},
     "output_type": "execute_result"
    }
   ],
   "source": [
    "required_date = current_date+datetime.timedelta(days=10)\n",
    "required_date"
   ]
  },
  {
   "cell_type": "code",
   "execution_count": 93,
   "id": "544e8b85",
   "metadata": {},
   "outputs": [
    {
     "data": {
      "text/plain": [
       "datetime.datetime(2022, 7, 31, 8, 31, 24, 605138)"
      ]
     },
     "execution_count": 93,
     "metadata": {},
     "output_type": "execute_result"
    }
   ],
   "source": [
    "required_date = current_date-datetime.timedelta(days=10)\n",
    "required_date"
   ]
  },
  {
   "cell_type": "code",
   "execution_count": 95,
   "id": "23b3d2fc",
   "metadata": {},
   "outputs": [
    {
     "name": "stdout",
     "output_type": "stream",
     "text": [
      "2022-07-20 08:31:24.605138\n"
     ]
    }
   ],
   "source": [
    "required_date = current_date-datetime.timedelta(weeks=3)\n",
    "print(required_date)"
   ]
  },
  {
   "cell_type": "code",
   "execution_count": 98,
   "id": "c485f43b",
   "metadata": {},
   "outputs": [
    {
     "name": "stdout",
     "output_type": "stream",
     "text": [
      "2020-04-06 11:56:24.605138\n"
     ]
    }
   ],
   "source": [
    "required_date = current_date-datetime.timedelta(hours=20540,minutes=35)\n",
    "print(required_date)"
   ]
  },
  {
   "cell_type": "code",
   "execution_count": 101,
   "id": "f73709be",
   "metadata": {},
   "outputs": [
    {
     "name": "stdout",
     "output_type": "stream",
     "text": [
      "2022-07-31\n",
      "2022-08-01\n",
      "2022-08-02\n",
      "2022-08-03\n",
      "2022-08-04\n",
      "2022-08-05\n",
      "2022-08-06\n",
      "2022-08-07\n",
      "2022-08-08\n",
      "2022-08-09\n",
      "2022-08-10\n",
      "2022-08-11\n",
      "2022-08-12\n",
      "2022-08-13\n",
      "2022-08-14\n",
      "2022-08-15\n",
      "2022-08-16\n",
      "2022-08-17\n",
      "2022-08-18\n",
      "2022-08-19\n",
      "2022-08-20\n"
     ]
    }
   ],
   "source": [
    "# WAP to create past 10 days date & future 10 days date\n",
    "\n",
    "current_date = datetime.datetime.today()\n",
    "\n",
    "for i in range(10,0,-1):\n",
    "    print((current_date-datetime.timedelta(days=i)).date())\n",
    "    \n",
    "for i in range(0,11):\n",
    "    print((current_date+datetime.timedelta(days=i)).date())"
   ]
  },
  {
   "cell_type": "raw",
   "id": "ccda5d04",
   "metadata": {},
   "source": [
    "# WAP to create all the dates of 2022"
   ]
  },
  {
   "cell_type": "code",
   "execution_count": 4,
   "id": "b545235d",
   "metadata": {
    "collapsed": true
   },
   "outputs": [
    {
     "name": "stdout",
     "output_type": "stream",
     "text": [
      "2022-01-01\n",
      "2022-01-02\n",
      "2022-01-03\n",
      "2022-01-04\n",
      "2022-01-05\n",
      "2022-01-06\n",
      "2022-01-07\n",
      "2022-01-08\n",
      "2022-01-09\n",
      "2022-01-10\n",
      "2022-01-11\n",
      "2022-01-12\n",
      "2022-01-13\n",
      "2022-01-14\n",
      "2022-01-15\n",
      "2022-01-16\n",
      "2022-01-17\n",
      "2022-01-18\n",
      "2022-01-19\n",
      "2022-01-20\n",
      "2022-01-21\n",
      "2022-01-22\n",
      "2022-01-23\n",
      "2022-01-24\n",
      "2022-01-25\n",
      "2022-01-26\n",
      "2022-01-27\n",
      "2022-01-28\n",
      "2022-01-29\n",
      "2022-01-30\n",
      "2022-01-31\n",
      "2022-02-01\n",
      "2022-02-02\n",
      "2022-02-03\n",
      "2022-02-04\n",
      "2022-02-05\n",
      "2022-02-06\n",
      "2022-02-07\n",
      "2022-02-08\n",
      "2022-02-09\n",
      "2022-02-10\n",
      "2022-02-11\n",
      "2022-02-12\n",
      "2022-02-13\n",
      "2022-02-14\n",
      "2022-02-15\n",
      "2022-02-16\n",
      "2022-02-17\n",
      "2022-02-18\n",
      "2022-02-19\n",
      "2022-02-20\n",
      "2022-02-21\n",
      "2022-02-22\n",
      "2022-02-23\n",
      "2022-02-24\n",
      "2022-02-25\n",
      "2022-02-26\n",
      "2022-02-27\n",
      "2022-02-28\n",
      "2022-03-01\n",
      "2022-03-02\n",
      "2022-03-03\n",
      "2022-03-04\n",
      "2022-03-05\n",
      "2022-03-06\n",
      "2022-03-07\n",
      "2022-03-08\n",
      "2022-03-09\n",
      "2022-03-10\n",
      "2022-03-11\n",
      "2022-03-12\n",
      "2022-03-13\n",
      "2022-03-14\n",
      "2022-03-15\n",
      "2022-03-16\n",
      "2022-03-17\n",
      "2022-03-18\n",
      "2022-03-19\n",
      "2022-03-20\n",
      "2022-03-21\n",
      "2022-03-22\n",
      "2022-03-23\n",
      "2022-03-24\n",
      "2022-03-25\n",
      "2022-03-26\n",
      "2022-03-27\n",
      "2022-03-28\n",
      "2022-03-29\n",
      "2022-03-30\n",
      "2022-03-31\n",
      "2022-04-01\n",
      "2022-04-02\n",
      "2022-04-03\n",
      "2022-04-04\n",
      "2022-04-05\n",
      "2022-04-06\n",
      "2022-04-07\n",
      "2022-04-08\n",
      "2022-04-09\n",
      "2022-04-10\n",
      "2022-04-11\n",
      "2022-04-12\n",
      "2022-04-13\n",
      "2022-04-14\n",
      "2022-04-15\n",
      "2022-04-16\n",
      "2022-04-17\n",
      "2022-04-18\n",
      "2022-04-19\n",
      "2022-04-20\n",
      "2022-04-21\n",
      "2022-04-22\n",
      "2022-04-23\n",
      "2022-04-24\n",
      "2022-04-25\n",
      "2022-04-26\n",
      "2022-04-27\n",
      "2022-04-28\n",
      "2022-04-29\n",
      "2022-04-30\n",
      "2022-05-01\n",
      "2022-05-02\n",
      "2022-05-03\n",
      "2022-05-04\n",
      "2022-05-05\n",
      "2022-05-06\n",
      "2022-05-07\n",
      "2022-05-08\n",
      "2022-05-09\n",
      "2022-05-10\n",
      "2022-05-11\n",
      "2022-05-12\n",
      "2022-05-13\n",
      "2022-05-14\n",
      "2022-05-15\n",
      "2022-05-16\n",
      "2022-05-17\n",
      "2022-05-18\n",
      "2022-05-19\n",
      "2022-05-20\n",
      "2022-05-21\n",
      "2022-05-22\n",
      "2022-05-23\n",
      "2022-05-24\n",
      "2022-05-25\n",
      "2022-05-26\n",
      "2022-05-27\n",
      "2022-05-28\n",
      "2022-05-29\n",
      "2022-05-30\n",
      "2022-05-31\n",
      "2022-06-01\n",
      "2022-06-02\n",
      "2022-06-03\n",
      "2022-06-04\n",
      "2022-06-05\n",
      "2022-06-06\n",
      "2022-06-07\n",
      "2022-06-08\n",
      "2022-06-09\n",
      "2022-06-10\n",
      "2022-06-11\n",
      "2022-06-12\n",
      "2022-06-13\n",
      "2022-06-14\n",
      "2022-06-15\n",
      "2022-06-16\n",
      "2022-06-17\n",
      "2022-06-18\n",
      "2022-06-19\n",
      "2022-06-20\n",
      "2022-06-21\n",
      "2022-06-22\n",
      "2022-06-23\n",
      "2022-06-24\n",
      "2022-06-25\n",
      "2022-06-26\n",
      "2022-06-27\n",
      "2022-06-28\n",
      "2022-06-29\n",
      "2022-06-30\n",
      "2022-07-01\n",
      "2022-07-02\n",
      "2022-07-03\n",
      "2022-07-04\n",
      "2022-07-05\n",
      "2022-07-06\n",
      "2022-07-07\n",
      "2022-07-08\n",
      "2022-07-09\n",
      "2022-07-10\n",
      "2022-07-11\n",
      "2022-07-12\n",
      "2022-07-13\n",
      "2022-07-14\n",
      "2022-07-15\n",
      "2022-07-16\n",
      "2022-07-17\n",
      "2022-07-18\n",
      "2022-07-19\n",
      "2022-07-20\n",
      "2022-07-21\n",
      "2022-07-22\n",
      "2022-07-23\n",
      "2022-07-24\n",
      "2022-07-25\n",
      "2022-07-26\n",
      "2022-07-27\n",
      "2022-07-28\n",
      "2022-07-29\n",
      "2022-07-30\n",
      "2022-07-31\n",
      "2022-08-01\n",
      "2022-08-02\n",
      "2022-08-03\n",
      "2022-08-04\n",
      "2022-08-05\n",
      "2022-08-06\n",
      "2022-08-07\n",
      "2022-08-08\n",
      "2022-08-09\n",
      "2022-08-10\n",
      "2022-08-11\n",
      "2022-08-12\n",
      "2022-08-13\n",
      "2022-08-14\n",
      "2022-08-15\n",
      "2022-08-16\n",
      "2022-08-17\n",
      "2022-08-18\n",
      "2022-08-19\n",
      "2022-08-20\n",
      "2022-08-21\n",
      "2022-08-22\n",
      "2022-08-23\n",
      "2022-08-24\n",
      "2022-08-25\n",
      "2022-08-26\n",
      "2022-08-27\n",
      "2022-08-28\n",
      "2022-08-29\n",
      "2022-08-30\n",
      "2022-08-31\n",
      "2022-09-01\n",
      "2022-09-02\n",
      "2022-09-03\n",
      "2022-09-04\n",
      "2022-09-05\n",
      "2022-09-06\n",
      "2022-09-07\n",
      "2022-09-08\n",
      "2022-09-09\n",
      "2022-09-10\n",
      "2022-09-11\n",
      "2022-09-12\n",
      "2022-09-13\n",
      "2022-09-14\n",
      "2022-09-15\n",
      "2022-09-16\n",
      "2022-09-17\n",
      "2022-09-18\n",
      "2022-09-19\n",
      "2022-09-20\n",
      "2022-09-21\n",
      "2022-09-22\n",
      "2022-09-23\n",
      "2022-09-24\n",
      "2022-09-25\n",
      "2022-09-26\n",
      "2022-09-27\n",
      "2022-09-28\n",
      "2022-09-29\n",
      "2022-09-30\n",
      "2022-10-01\n",
      "2022-10-02\n",
      "2022-10-03\n",
      "2022-10-04\n",
      "2022-10-05\n",
      "2022-10-06\n",
      "2022-10-07\n",
      "2022-10-08\n",
      "2022-10-09\n",
      "2022-10-10\n",
      "2022-10-11\n",
      "2022-10-12\n",
      "2022-10-13\n",
      "2022-10-14\n",
      "2022-10-15\n",
      "2022-10-16\n",
      "2022-10-17\n",
      "2022-10-18\n",
      "2022-10-19\n",
      "2022-10-20\n",
      "2022-10-21\n",
      "2022-10-22\n",
      "2022-10-23\n",
      "2022-10-24\n",
      "2022-10-25\n",
      "2022-10-26\n",
      "2022-10-27\n",
      "2022-10-28\n",
      "2022-10-29\n",
      "2022-10-30\n",
      "2022-10-31\n",
      "2022-11-01\n",
      "2022-11-02\n",
      "2022-11-03\n",
      "2022-11-04\n",
      "2022-11-05\n",
      "2022-11-06\n",
      "2022-11-07\n",
      "2022-11-08\n",
      "2022-11-09\n",
      "2022-11-10\n",
      "2022-11-11\n",
      "2022-11-12\n",
      "2022-11-13\n",
      "2022-11-14\n",
      "2022-11-15\n",
      "2022-11-16\n",
      "2022-11-17\n",
      "2022-11-18\n",
      "2022-11-19\n",
      "2022-11-20\n",
      "2022-11-21\n",
      "2022-11-22\n",
      "2022-11-23\n",
      "2022-11-24\n",
      "2022-11-25\n",
      "2022-11-26\n",
      "2022-11-27\n",
      "2022-11-28\n",
      "2022-11-29\n",
      "2022-11-30\n",
      "2022-12-01\n",
      "2022-12-02\n",
      "2022-12-03\n",
      "2022-12-04\n",
      "2022-12-05\n",
      "2022-12-06\n",
      "2022-12-07\n",
      "2022-12-08\n",
      "2022-12-09\n",
      "2022-12-10\n",
      "2022-12-11\n",
      "2022-12-12\n",
      "2022-12-13\n",
      "2022-12-14\n",
      "2022-12-15\n",
      "2022-12-16\n",
      "2022-12-17\n",
      "2022-12-18\n",
      "2022-12-19\n",
      "2022-12-20\n",
      "2022-12-21\n",
      "2022-12-22\n",
      "2022-12-23\n",
      "2022-12-24\n",
      "2022-12-25\n",
      "2022-12-26\n",
      "2022-12-27\n",
      "2022-12-28\n",
      "2022-12-29\n",
      "2022-12-30\n",
      "2022-12-31\n"
     ]
    }
   ],
   "source": [
    "import datetime\n",
    "initial_date = datetime.datetime(2022,1,1)\n",
    "for i in range(365):\n",
    "    print((initial_date+datetime.timedelta(i)).date())"
   ]
  },
  {
   "cell_type": "code",
   "execution_count": 1,
   "id": "fbdd1561",
   "metadata": {},
   "outputs": [
    {
     "data": {
      "text/plain": [
       "[1, 4, 9, 16]"
      ]
     },
     "execution_count": 1,
     "metadata": {},
     "output_type": "execute_result"
    }
   ],
   "source": [
    "def function(x):\n",
    "    return x**2\n",
    "\n",
    "\n",
    "list(map(function,[1,2,3,4])) "
   ]
  },
  {
   "cell_type": "code",
   "execution_count": null,
   "id": "4f7936c6",
   "metadata": {},
   "outputs": [],
   "source": []
  }
 ],
 "metadata": {
  "kernelspec": {
   "display_name": "Python 3",
   "language": "python",
   "name": "python3"
  },
  "language_info": {
   "codemirror_mode": {
    "name": "ipython",
    "version": 3
   },
   "file_extension": ".py",
   "mimetype": "text/x-python",
   "name": "python",
   "nbconvert_exporter": "python",
   "pygments_lexer": "ipython3",
   "version": "3.8.8"
  },
  "toc": {
   "base_numbering": 1,
   "nav_menu": {},
   "number_sections": true,
   "sideBar": true,
   "skip_h1_title": false,
   "title_cell": "Table of Contents",
   "title_sidebar": "Contents",
   "toc_cell": false,
   "toc_position": {},
   "toc_section_display": true,
   "toc_window_display": false
  },
  "varInspector": {
   "cols": {
    "lenName": 16,
    "lenType": 16,
    "lenVar": 40
   },
   "kernels_config": {
    "python": {
     "delete_cmd_postfix": "",
     "delete_cmd_prefix": "del ",
     "library": "var_list.py",
     "varRefreshCmd": "print(var_dic_list())"
    },
    "r": {
     "delete_cmd_postfix": ") ",
     "delete_cmd_prefix": "rm(",
     "library": "var_list.r",
     "varRefreshCmd": "cat(var_dic_list()) "
    }
   },
   "types_to_exclude": [
    "module",
    "function",
    "builtin_function_or_method",
    "instance",
    "_Feature"
   ],
   "window_display": false
  }
 },
 "nbformat": 4,
 "nbformat_minor": 5
}
