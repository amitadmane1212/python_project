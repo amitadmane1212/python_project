{
 "cells": [
  {
   "cell_type": "markdown",
   "id": "c31f909b",
   "metadata": {},
   "source": [
    "# Delete items from list"
   ]
  },
  {
   "cell_type": "raw",
   "id": "9eb4f6f2",
   "metadata": {},
   "source": [
    "remove\n",
    "pop\n",
    "del\n",
    "clear"
   ]
  },
  {
   "cell_type": "markdown",
   "id": "42b1b0c8",
   "metadata": {},
   "source": [
    "## remove function"
   ]
  },
  {
   "cell_type": "raw",
   "id": "bc9f8551",
   "metadata": {},
   "source": [
    "remove is used to remove the item from the list\n",
    "by default it removes the first occurance of the item from the list"
   ]
  },
  {
   "cell_type": "code",
   "execution_count": 3,
   "id": "97514ffd",
   "metadata": {},
   "outputs": [],
   "source": [
    "list1 = [2,3,5,'python',6.7,5,'class']\n",
    "list1.remove(5)"
   ]
  },
  {
   "cell_type": "code",
   "execution_count": 4,
   "id": "7c9dfaff",
   "metadata": {},
   "outputs": [
    {
     "data": {
      "text/plain": [
       "[2, 3, 'python', 6.7, 5, 'class']"
      ]
     },
     "execution_count": 4,
     "metadata": {},
     "output_type": "execute_result"
    }
   ],
   "source": [
    "list1"
   ]
  },
  {
   "cell_type": "code",
   "execution_count": 5,
   "id": "d518def3",
   "metadata": {},
   "outputs": [
    {
     "data": {
      "text/plain": [
       "[2, 3, 'python', 6.7, 5]"
      ]
     },
     "execution_count": 5,
     "metadata": {},
     "output_type": "execute_result"
    }
   ],
   "source": [
    "list1.remove('class')\n",
    "list1"
   ]
  },
  {
   "cell_type": "code",
   "execution_count": 6,
   "id": "efc8f4d4",
   "metadata": {},
   "outputs": [
    {
     "ename": "ValueError",
     "evalue": "list.remove(x): x not in list",
     "output_type": "error",
     "traceback": [
      "\u001b[1;31m---------------------------------------------------------------------------\u001b[0m",
      "\u001b[1;31mValueError\u001b[0m                                Traceback (most recent call last)",
      "\u001b[1;32m<ipython-input-6-fdfc3063a8ae>\u001b[0m in \u001b[0;36m<module>\u001b[1;34m\u001b[0m\n\u001b[1;32m----> 1\u001b[1;33m \u001b[0mlist1\u001b[0m\u001b[1;33m.\u001b[0m\u001b[0mremove\u001b[0m\u001b[1;33m(\u001b[0m\u001b[1;36m100\u001b[0m\u001b[1;33m)\u001b[0m\u001b[1;33m\u001b[0m\u001b[1;33m\u001b[0m\u001b[0m\n\u001b[0m",
      "\u001b[1;31mValueError\u001b[0m: list.remove(x): x not in list"
     ]
    }
   ],
   "source": [
    "list1.remove(100)"
   ]
  },
  {
   "cell_type": "code",
   "execution_count": 8,
   "id": "83c9ca21",
   "metadata": {},
   "outputs": [
    {
     "name": "stdout",
     "output_type": "stream",
     "text": [
      "100 not in list1\n"
     ]
    }
   ],
   "source": [
    "if 100 in list1:\n",
    "    list1t1.remove(100)\n",
    "else:\n",
    "    print('100 not in list1')"
   ]
  },
  {
   "cell_type": "code",
   "execution_count": 10,
   "id": "13ac0879",
   "metadata": {},
   "outputs": [
    {
     "name": "stdout",
     "output_type": "stream",
     "text": [
      "[2, 3, 5, 'python', 6.7, 5, 'class'] [2, 3, 5, 'python', 5, 'class']\n"
     ]
    }
   ],
   "source": [
    "list1 = [2,3,5,'python',6.7,5,'class']\n",
    "list2 = list1.copy()\n",
    "list2.remove(6.7)\n",
    "\n",
    "print(list1,list2)"
   ]
  },
  {
   "cell_type": "code",
   "execution_count": 11,
   "id": "16a92859",
   "metadata": {},
   "outputs": [
    {
     "data": {
      "text/plain": [
       "[2, 3, 'python', 6.7, 'class']"
      ]
     },
     "execution_count": 11,
     "metadata": {},
     "output_type": "execute_result"
    }
   ],
   "source": [
    "list1 = [2,3,5,'python',6.7,5,'class']\n",
    "\n",
    "list1.remove(5)\n",
    "list1.remove(5)\n",
    "list1"
   ]
  },
  {
   "cell_type": "code",
   "execution_count": 13,
   "id": "abd09e41",
   "metadata": {},
   "outputs": [
    {
     "data": {
      "text/plain": [
       "2"
      ]
     },
     "execution_count": 13,
     "metadata": {},
     "output_type": "execute_result"
    }
   ],
   "source": [
    "list1 = [2,3,5,'python',6.7,5,'class']\n",
    "\n",
    "list1.count(5)"
   ]
  },
  {
   "cell_type": "code",
   "execution_count": 16,
   "id": "5a45097c",
   "metadata": {},
   "outputs": [
    {
     "data": {
      "text/plain": [
       "[2, 3, 'python', 6.7, 'class']"
      ]
     },
     "execution_count": 16,
     "metadata": {},
     "output_type": "execute_result"
    }
   ],
   "source": [
    "list1 = [2,3,5,'python',6.7,5,'class']\n",
    "\n",
    "for i in range(2):\n",
    "    list1.remove(5)\n",
    "    \n",
    "list1"
   ]
  },
  {
   "cell_type": "markdown",
   "id": "83dc62e2",
   "metadata": {},
   "source": [
    "## pop function"
   ]
  },
  {
   "cell_type": "raw",
   "id": "894da293",
   "metadata": {},
   "source": [
    "pop(index)\n",
    "if we dont pass the index then by default it pops the last index item from the list."
   ]
  },
  {
   "cell_type": "code",
   "execution_count": 18,
   "id": "07925e5a",
   "metadata": {},
   "outputs": [
    {
     "data": {
      "text/plain": [
       "'class'"
      ]
     },
     "execution_count": 18,
     "metadata": {},
     "output_type": "execute_result"
    }
   ],
   "source": [
    "list1 = [2,3,5,'python',6.7,5,'class']\n",
    "\n",
    "list1.pop()   # no index is passed so -1 indedx value is removed"
   ]
  },
  {
   "cell_type": "code",
   "execution_count": 19,
   "id": "da61ffd8",
   "metadata": {},
   "outputs": [
    {
     "data": {
      "text/plain": [
       "[2, 3, 5, 'python', 6.7, 5]"
      ]
     },
     "execution_count": 19,
     "metadata": {},
     "output_type": "execute_result"
    }
   ],
   "source": [
    "list1"
   ]
  },
  {
   "cell_type": "code",
   "execution_count": 20,
   "id": "246d0252",
   "metadata": {},
   "outputs": [
    {
     "data": {
      "text/plain": [
       "[2, 3, 'python', 6.7, 5, 'class']"
      ]
     },
     "execution_count": 20,
     "metadata": {},
     "output_type": "execute_result"
    }
   ],
   "source": [
    "list1 = [2,3,5,'python',6.7,5,'class']\n",
    "\n",
    "list1.pop(2)\n",
    "list1"
   ]
  },
  {
   "cell_type": "code",
   "execution_count": 21,
   "id": "9362fa44",
   "metadata": {},
   "outputs": [
    {
     "data": {
      "text/plain": [
       "[2, 3, 5, 'python', 6.7, 'class']"
      ]
     },
     "execution_count": 21,
     "metadata": {},
     "output_type": "execute_result"
    }
   ],
   "source": [
    "list1 = [2,3,5,'python',6.7,5,'class']\n",
    "\n",
    "list1.pop(-2)\n",
    "list1"
   ]
  },
  {
   "cell_type": "code",
   "execution_count": 23,
   "id": "6c0330d5",
   "metadata": {},
   "outputs": [
    {
     "ename": "TypeError",
     "evalue": "'list' object cannot be interpreted as an integer",
     "output_type": "error",
     "traceback": [
      "\u001b[1;31m---------------------------------------------------------------------------\u001b[0m",
      "\u001b[1;31mTypeError\u001b[0m                                 Traceback (most recent call last)",
      "\u001b[1;32m<ipython-input-23-ab5fe18bf7eb>\u001b[0m in \u001b[0;36m<module>\u001b[1;34m\u001b[0m\n\u001b[0;32m      1\u001b[0m \u001b[0mlist1\u001b[0m \u001b[1;33m=\u001b[0m \u001b[1;33m[\u001b[0m\u001b[1;36m2\u001b[0m\u001b[1;33m,\u001b[0m\u001b[1;36m3\u001b[0m\u001b[1;33m,\u001b[0m\u001b[1;36m5\u001b[0m\u001b[1;33m,\u001b[0m\u001b[1;34m'python'\u001b[0m\u001b[1;33m,\u001b[0m\u001b[1;36m6.7\u001b[0m\u001b[1;33m,\u001b[0m\u001b[1;36m5\u001b[0m\u001b[1;33m,\u001b[0m\u001b[1;34m'class'\u001b[0m\u001b[1;33m]\u001b[0m\u001b[1;33m\u001b[0m\u001b[1;33m\u001b[0m\u001b[0m\n\u001b[0;32m      2\u001b[0m \u001b[1;33m\u001b[0m\u001b[0m\n\u001b[1;32m----> 3\u001b[1;33m \u001b[0mlist1\u001b[0m\u001b[1;33m.\u001b[0m\u001b[0mpop\u001b[0m\u001b[1;33m(\u001b[0m\u001b[1;33m[\u001b[0m\u001b[1;33m-\u001b[0m\u001b[1;36m2\u001b[0m\u001b[1;33m,\u001b[0m\u001b[1;36m2\u001b[0m\u001b[1;33m]\u001b[0m\u001b[1;33m)\u001b[0m\u001b[1;33m\u001b[0m\u001b[1;33m\u001b[0m\u001b[0m\n\u001b[0m\u001b[0;32m      4\u001b[0m \u001b[0mlist1\u001b[0m\u001b[1;33m\u001b[0m\u001b[1;33m\u001b[0m\u001b[0m\n",
      "\u001b[1;31mTypeError\u001b[0m: 'list' object cannot be interpreted as an integer"
     ]
    }
   ],
   "source": [
    "list1 = [2,3,5,'python',6.7,5,'class']\n",
    "\n",
    "list1.pop([-2,2])\n",
    "list1"
   ]
  },
  {
   "cell_type": "code",
   "execution_count": 26,
   "id": "42fd8f46",
   "metadata": {},
   "outputs": [
    {
     "data": {
      "text/plain": [
       "[2, 3, 5, 6.7, 5, 'class']"
      ]
     },
     "execution_count": 26,
     "metadata": {},
     "output_type": "execute_result"
    }
   ],
   "source": [
    "list1 = [2,3,5,'python',6.7,5,'class']\n",
    "\n",
    "list1.pop(list1.index('python'))\n",
    "list1"
   ]
  },
  {
   "cell_type": "code",
   "execution_count": 29,
   "id": "3f5055b0",
   "metadata": {},
   "outputs": [
    {
     "data": {
      "text/plain": [
       "[2, 5]"
      ]
     },
     "execution_count": 29,
     "metadata": {},
     "output_type": "execute_result"
    }
   ],
   "source": [
    "list1 = [2,3,5,'python',6.7,5,'class']\n",
    "list2 = []\n",
    "\n",
    "for i,j in enumerate(list1):\n",
    "    if j == 5:\n",
    "        list2.append(i)\n",
    "               \n",
    "list2"
   ]
  },
  {
   "cell_type": "code",
   "execution_count": 34,
   "id": "983e3351",
   "metadata": {},
   "outputs": [
    {
     "data": {
      "text/plain": [
       "[2, 5]"
      ]
     },
     "execution_count": 34,
     "metadata": {},
     "output_type": "execute_result"
    }
   ],
   "source": [
    "list3=[]\n",
    "[list3.append(i) for i,j in enumerate(list1) if j == 5]\n",
    "list3"
   ]
  },
  {
   "cell_type": "markdown",
   "id": "4aee4355",
   "metadata": {},
   "source": [
    "## clear function"
   ]
  },
  {
   "cell_type": "raw",
   "id": "0d815d19",
   "metadata": {},
   "source": [
    "it clears all the items from the list"
   ]
  },
  {
   "cell_type": "code",
   "execution_count": 35,
   "id": "537293e9",
   "metadata": {},
   "outputs": [
    {
     "data": {
      "text/plain": [
       "[]"
      ]
     },
     "execution_count": 35,
     "metadata": {},
     "output_type": "execute_result"
    }
   ],
   "source": [
    "list1 = [2,3,5,'python',6.7,5,'class']\n",
    "\n",
    "list1.clear()\n",
    "list1"
   ]
  },
  {
   "cell_type": "code",
   "execution_count": 52,
   "id": "1f2bbe29",
   "metadata": {},
   "outputs": [
    {
     "ename": "TypeError",
     "evalue": "clear() takes no arguments (1 given)",
     "output_type": "error",
     "traceback": [
      "\u001b[1;31m---------------------------------------------------------------------------\u001b[0m",
      "\u001b[1;31mTypeError\u001b[0m                                 Traceback (most recent call last)",
      "\u001b[1;32m<ipython-input-52-53f364a0bd22>\u001b[0m in \u001b[0;36m<module>\u001b[1;34m\u001b[0m\n\u001b[0;32m      1\u001b[0m \u001b[0mlist1\u001b[0m \u001b[1;33m=\u001b[0m \u001b[1;33m[\u001b[0m\u001b[1;36m2\u001b[0m\u001b[1;33m,\u001b[0m\u001b[1;36m3\u001b[0m\u001b[1;33m,\u001b[0m\u001b[1;36m5\u001b[0m\u001b[1;33m,\u001b[0m\u001b[1;34m'python'\u001b[0m\u001b[1;33m,\u001b[0m\u001b[1;36m6.7\u001b[0m\u001b[1;33m,\u001b[0m\u001b[1;36m5\u001b[0m\u001b[1;33m,\u001b[0m\u001b[1;34m'class'\u001b[0m\u001b[1;33m]\u001b[0m\u001b[1;33m\u001b[0m\u001b[1;33m\u001b[0m\u001b[0m\n\u001b[0;32m      2\u001b[0m \u001b[1;33m\u001b[0m\u001b[0m\n\u001b[1;32m----> 3\u001b[1;33m \u001b[0mlist1\u001b[0m\u001b[1;33m.\u001b[0m\u001b[0mclear\u001b[0m\u001b[1;33m(\u001b[0m\u001b[1;36m4\u001b[0m\u001b[1;33m)\u001b[0m\u001b[1;33m\u001b[0m\u001b[1;33m\u001b[0m\u001b[0m\n\u001b[0m\u001b[0;32m      4\u001b[0m \u001b[0mlist1\u001b[0m\u001b[1;33m\u001b[0m\u001b[1;33m\u001b[0m\u001b[0m\n",
      "\u001b[1;31mTypeError\u001b[0m: clear() takes no arguments (1 given)"
     ]
    }
   ],
   "source": [
    "list1 = [2,3,5,'python',6.7,5,'class']\n",
    "\n",
    "list1.clear(4)\n",
    "list1"
   ]
  },
  {
   "cell_type": "code",
   "execution_count": 39,
   "id": "fab476f8",
   "metadata": {},
   "outputs": [
    {
     "name": "stdout",
     "output_type": "stream",
     "text": [
      "list1 does not exist\n"
     ]
    }
   ],
   "source": [
    "if list1: print('list1 exist')\n",
    "else: print('list1 does not exist')"
   ]
  },
  {
   "cell_type": "code",
   "execution_count": 37,
   "id": "08cf793e",
   "metadata": {},
   "outputs": [
    {
     "data": {
      "text/plain": [
       "[]"
      ]
     },
     "execution_count": 37,
     "metadata": {},
     "output_type": "execute_result"
    }
   ],
   "source": [
    "list1"
   ]
  },
  {
   "cell_type": "code",
   "execution_count": 40,
   "id": "516a22da",
   "metadata": {},
   "outputs": [
    {
     "data": {
      "text/plain": [
       "list"
      ]
     },
     "execution_count": 40,
     "metadata": {},
     "output_type": "execute_result"
    }
   ],
   "source": [
    "type(list1)"
   ]
  },
  {
   "cell_type": "code",
   "execution_count": 41,
   "id": "8512eb0b",
   "metadata": {},
   "outputs": [
    {
     "data": {
      "text/plain": [
       "1953374681536"
      ]
     },
     "execution_count": 41,
     "metadata": {},
     "output_type": "execute_result"
    }
   ],
   "source": [
    "id(list1)"
   ]
  },
  {
   "cell_type": "markdown",
   "id": "96dfd8e7",
   "metadata": {},
   "source": [
    "## del function"
   ]
  },
  {
   "cell_type": "raw",
   "id": "ed3bf4a8",
   "metadata": {},
   "source": [
    "is used to delete the list all together\n",
    "is also used to delete a specific item from the list\n",
    "is also used to delete a slice of the list"
   ]
  },
  {
   "cell_type": "code",
   "execution_count": 42,
   "id": "f0cbfd41",
   "metadata": {},
   "outputs": [],
   "source": [
    "del list1"
   ]
  },
  {
   "cell_type": "code",
   "execution_count": 43,
   "id": "c92b1594",
   "metadata": {},
   "outputs": [
    {
     "ename": "NameError",
     "evalue": "name 'list1' is not defined",
     "output_type": "error",
     "traceback": [
      "\u001b[1;31m---------------------------------------------------------------------------\u001b[0m",
      "\u001b[1;31mNameError\u001b[0m                                 Traceback (most recent call last)",
      "\u001b[1;32m<ipython-input-43-32e3a55f6bef>\u001b[0m in \u001b[0;36m<module>\u001b[1;34m\u001b[0m\n\u001b[1;32m----> 1\u001b[1;33m \u001b[0mlist1\u001b[0m\u001b[1;33m\u001b[0m\u001b[1;33m\u001b[0m\u001b[0m\n\u001b[0m",
      "\u001b[1;31mNameError\u001b[0m: name 'list1' is not defined"
     ]
    }
   ],
   "source": [
    "list1"
   ]
  },
  {
   "cell_type": "code",
   "execution_count": 44,
   "id": "f6bb61eb",
   "metadata": {},
   "outputs": [
    {
     "ename": "NameError",
     "evalue": "name 'list1' is not defined",
     "output_type": "error",
     "traceback": [
      "\u001b[1;31m---------------------------------------------------------------------------\u001b[0m",
      "\u001b[1;31mNameError\u001b[0m                                 Traceback (most recent call last)",
      "\u001b[1;32m<ipython-input-44-06969ebdc87d>\u001b[0m in \u001b[0;36m<module>\u001b[1;34m\u001b[0m\n\u001b[0;32m      3\u001b[0m \u001b[1;32mdel\u001b[0m \u001b[0mlist1\u001b[0m\u001b[1;33m\u001b[0m\u001b[1;33m\u001b[0m\u001b[0m\n\u001b[0;32m      4\u001b[0m \u001b[1;33m\u001b[0m\u001b[0m\n\u001b[1;32m----> 5\u001b[1;33m \u001b[0mlist1\u001b[0m\u001b[1;33m\u001b[0m\u001b[1;33m\u001b[0m\u001b[0m\n\u001b[0m",
      "\u001b[1;31mNameError\u001b[0m: name 'list1' is not defined"
     ]
    }
   ],
   "source": [
    "list1 = [2,3,5,'python',6.7,5,'class']\n",
    "\n",
    "del list1         # deleting the list alltogether\n",
    "\n",
    "list1"
   ]
  },
  {
   "cell_type": "code",
   "execution_count": 45,
   "id": "7acc879e",
   "metadata": {},
   "outputs": [
    {
     "data": {
      "text/plain": [
       "[2, 3, 5, 'python', 6.7, 'class']"
      ]
     },
     "execution_count": 45,
     "metadata": {},
     "output_type": "execute_result"
    }
   ],
   "source": [
    "list1 = [2,3,5,'python',6.7,5,'class']\n",
    "\n",
    "del list1[5]           # deleting an item of the list\n",
    "\n",
    "list1"
   ]
  },
  {
   "cell_type": "code",
   "execution_count": 47,
   "id": "89baef4a",
   "metadata": {},
   "outputs": [
    {
     "data": {
      "text/plain": [
       "5"
      ]
     },
     "execution_count": 47,
     "metadata": {},
     "output_type": "execute_result"
    }
   ],
   "source": [
    "list1 = [2,3,5,'python',6.7,5,'class']\n",
    "list1[5]"
   ]
  },
  {
   "cell_type": "code",
   "execution_count": 48,
   "id": "64831b53",
   "metadata": {},
   "outputs": [
    {
     "data": {
      "text/plain": [
       "[2, 3, 5, 'class']"
      ]
     },
     "execution_count": 48,
     "metadata": {},
     "output_type": "execute_result"
    }
   ],
   "source": [
    "list1 = [2,3,5,'python',6.7,5,'class']\n",
    "\n",
    "del list1[2:5]    # deleting a slice from of the list\n",
    "\n",
    "list1"
   ]
  },
  {
   "cell_type": "markdown",
   "id": "0c08a437",
   "metadata": {},
   "source": [
    "# Sorting a list"
   ]
  },
  {
   "cell_type": "markdown",
   "id": "ba9486db",
   "metadata": {},
   "source": [
    "## Ascending order"
   ]
  },
  {
   "cell_type": "raw",
   "id": "54ec3f60",
   "metadata": {},
   "source": [
    "smaller to bigger"
   ]
  },
  {
   "cell_type": "markdown",
   "id": "ae308589",
   "metadata": {},
   "source": [
    "### sort()"
   ]
  },
  {
   "cell_type": "raw",
   "id": "a8483428",
   "metadata": {},
   "source": [
    "sort modifies the actual list\n",
    "it does not require external variable to store the change. bcz the change is reflected in the same list"
   ]
  },
  {
   "cell_type": "code",
   "execution_count": 54,
   "id": "f08a16d2",
   "metadata": {},
   "outputs": [
    {
     "data": {
      "text/plain": [
       "[2, 3, 5, 7, 8]"
      ]
     },
     "execution_count": 54,
     "metadata": {},
     "output_type": "execute_result"
    }
   ],
   "source": [
    "x = [7,8,3,5,2]\n",
    "\n",
    "x.sort()\n",
    "\n",
    "x"
   ]
  },
  {
   "cell_type": "code",
   "execution_count": 55,
   "id": "4c6be353",
   "metadata": {},
   "outputs": [
    {
     "ename": "TypeError",
     "evalue": "'<' not supported between instances of 'str' and 'int'",
     "output_type": "error",
     "traceback": [
      "\u001b[1;31m---------------------------------------------------------------------------\u001b[0m",
      "\u001b[1;31mTypeError\u001b[0m                                 Traceback (most recent call last)",
      "\u001b[1;32m<ipython-input-55-7aa8b2d32b6b>\u001b[0m in \u001b[0;36m<module>\u001b[1;34m\u001b[0m\n\u001b[0;32m      1\u001b[0m \u001b[0mx\u001b[0m \u001b[1;33m=\u001b[0m \u001b[1;33m[\u001b[0m\u001b[1;36m7\u001b[0m\u001b[1;33m,\u001b[0m\u001b[1;36m8\u001b[0m\u001b[1;33m,\u001b[0m\u001b[1;36m3\u001b[0m\u001b[1;33m,\u001b[0m\u001b[1;34m'Hello'\u001b[0m\u001b[1;33m,\u001b[0m\u001b[1;36m2\u001b[0m\u001b[1;33m]\u001b[0m\u001b[1;33m\u001b[0m\u001b[1;33m\u001b[0m\u001b[0m\n\u001b[0;32m      2\u001b[0m \u001b[1;33m\u001b[0m\u001b[0m\n\u001b[1;32m----> 3\u001b[1;33m \u001b[0mx\u001b[0m\u001b[1;33m.\u001b[0m\u001b[0msort\u001b[0m\u001b[1;33m(\u001b[0m\u001b[1;33m)\u001b[0m\u001b[1;33m\u001b[0m\u001b[1;33m\u001b[0m\u001b[0m\n\u001b[0m\u001b[0;32m      4\u001b[0m \u001b[1;33m\u001b[0m\u001b[0m\n\u001b[0;32m      5\u001b[0m \u001b[0mx\u001b[0m\u001b[1;33m\u001b[0m\u001b[1;33m\u001b[0m\u001b[0m\n",
      "\u001b[1;31mTypeError\u001b[0m: '<' not supported between instances of 'str' and 'int'"
     ]
    }
   ],
   "source": [
    "x = [7,8,3,'Hello',2]\n",
    "\n",
    "x.sort()\n",
    "\n",
    "x"
   ]
  },
  {
   "cell_type": "code",
   "execution_count": 60,
   "id": "10c69403",
   "metadata": {},
   "outputs": [
    {
     "data": {
      "text/plain": [
       "['Aisel', 'Bailomos', 'Boy', 'Hello', 'bet']"
      ]
     },
     "execution_count": 60,
     "metadata": {},
     "output_type": "execute_result"
    }
   ],
   "source": [
    "x = ['Aisel','Hello','Bailomos','Boy','bet']\n",
    "\n",
    "x.sort()\n",
    "\n",
    "x"
   ]
  },
  {
   "cell_type": "raw",
   "id": "ce5bdd3d",
   "metadata": {},
   "source": [
    "# for string the sequence would be >> special chars, numbers, Capital letters, Small letters"
   ]
  },
  {
   "cell_type": "code",
   "execution_count": null,
   "id": "1ca97188",
   "metadata": {},
   "outputs": [],
   "source": [
    "x = ['Aisel','%Hello','Bailomos','Boy','bet','6']\n",
    "\n",
    "x.sort()\n",
    "\n",
    "x"
   ]
  },
  {
   "cell_type": "markdown",
   "id": "9f94660f",
   "metadata": {},
   "source": [
    "### sorted()"
   ]
  },
  {
   "cell_type": "raw",
   "id": "8a48e0a6",
   "metadata": {},
   "source": [
    "sorted does not modify the actual list\n",
    "it does require external variable to store the change. bcz the change is not reflected in the same list"
   ]
  },
  {
   "cell_type": "code",
   "execution_count": 64,
   "id": "00366f46",
   "metadata": {},
   "outputs": [
    {
     "data": {
      "text/plain": [
       "[2, 3, 5, 7, 8]"
      ]
     },
     "execution_count": 64,
     "metadata": {},
     "output_type": "execute_result"
    }
   ],
   "source": [
    "x = [7,8,3,5,2]\n",
    "\n",
    "sorted(x)"
   ]
  },
  {
   "cell_type": "code",
   "execution_count": 65,
   "id": "dd756a2c",
   "metadata": {},
   "outputs": [
    {
     "data": {
      "text/plain": [
       "[7, 8, 3, 5, 2]"
      ]
     },
     "execution_count": 65,
     "metadata": {},
     "output_type": "execute_result"
    }
   ],
   "source": [
    "x = [7,8,3,5,2]\n",
    "\n",
    "sorted(x)\n",
    "\n",
    "x"
   ]
  },
  {
   "cell_type": "code",
   "execution_count": 66,
   "id": "a029b8f9",
   "metadata": {},
   "outputs": [
    {
     "data": {
      "text/plain": [
       "[2, 3, 5, 7, 8]"
      ]
     },
     "execution_count": 66,
     "metadata": {},
     "output_type": "execute_result"
    }
   ],
   "source": [
    "x = [7,8,3,5,2]\n",
    "\n",
    "x = sorted(x)\n",
    "\n",
    "x"
   ]
  },
  {
   "cell_type": "code",
   "execution_count": 68,
   "id": "bd2710d2",
   "metadata": {},
   "outputs": [
    {
     "data": {
      "text/plain": [
       "([7, 8, 3, 5, 2], [2, 3, 5, 7, 8])"
      ]
     },
     "execution_count": 68,
     "metadata": {},
     "output_type": "execute_result"
    }
   ],
   "source": [
    "x = [7,8,3,5,2]\n",
    "\n",
    "y = sorted(x)\n",
    "\n",
    "x,y"
   ]
  },
  {
   "cell_type": "code",
   "execution_count": 69,
   "id": "2b8e4e4c",
   "metadata": {},
   "outputs": [
    {
     "data": {
      "text/plain": [
       "['%Hello', '6', 'Aisel', 'Bailomos', 'Boy', 'bet']"
      ]
     },
     "execution_count": 69,
     "metadata": {},
     "output_type": "execute_result"
    }
   ],
   "source": [
    "x = ['Aisel','%Hello','Bailomos','Boy','bet','6']\n",
    "\n",
    "x = sorted(x)\n",
    "\n",
    "x"
   ]
  },
  {
   "cell_type": "markdown",
   "id": "b90092ea",
   "metadata": {},
   "source": [
    "## Descending order"
   ]
  },
  {
   "cell_type": "raw",
   "id": "c2c87529",
   "metadata": {},
   "source": [
    "bigger to smaller"
   ]
  },
  {
   "cell_type": "markdown",
   "id": "47dc190b",
   "metadata": {},
   "source": [
    "### sort()"
   ]
  },
  {
   "cell_type": "code",
   "execution_count": 70,
   "id": "904bebd4",
   "metadata": {},
   "outputs": [
    {
     "data": {
      "text/plain": [
       "[8, 7, 5, 3, 2]"
      ]
     },
     "execution_count": 70,
     "metadata": {},
     "output_type": "execute_result"
    }
   ],
   "source": [
    "x = [7,8,3,5,2]\n",
    "\n",
    "x.sort(reverse=True)\n",
    "\n",
    "x"
   ]
  },
  {
   "cell_type": "code",
   "execution_count": 76,
   "id": "1ef808d3",
   "metadata": {},
   "outputs": [
    {
     "data": {
      "text/plain": [
       "[8, 7, 5, 3, 2]"
      ]
     },
     "execution_count": 76,
     "metadata": {},
     "output_type": "execute_result"
    }
   ],
   "source": [
    "x = [7,8,3,5,2]\n",
    "\n",
    "x.sort()\n",
    "\n",
    "x[::-1]\n"
   ]
  },
  {
   "cell_type": "code",
   "execution_count": 72,
   "id": "46629756",
   "metadata": {},
   "outputs": [
    {
     "data": {
      "text/plain": [
       "['bet', 'Boy', 'Bailomos', 'Aisel', '6', '%Hello']"
      ]
     },
     "execution_count": 72,
     "metadata": {},
     "output_type": "execute_result"
    }
   ],
   "source": [
    "x = ['Aisel','%Hello','Bailomos','Boy','bet','6']\n",
    "\n",
    "x.sort(reverse=True)\n",
    "\n",
    "x"
   ]
  },
  {
   "cell_type": "markdown",
   "id": "ca6e9d09",
   "metadata": {},
   "source": [
    "### sorted()"
   ]
  },
  {
   "cell_type": "code",
   "execution_count": 73,
   "id": "36ea7443",
   "metadata": {},
   "outputs": [
    {
     "data": {
      "text/plain": [
       "[8, 7, 5, 3, 2]"
      ]
     },
     "execution_count": 73,
     "metadata": {},
     "output_type": "execute_result"
    }
   ],
   "source": [
    "x = [7,8,3,5,2]\n",
    "\n",
    "y = sorted(x,reverse=True)\n",
    "\n",
    "y"
   ]
  },
  {
   "cell_type": "markdown",
   "id": "71beb783",
   "metadata": {},
   "source": [
    "# Reversing list"
   ]
  },
  {
   "cell_type": "markdown",
   "id": "bf13ec7b",
   "metadata": {},
   "source": [
    "## reverse()"
   ]
  },
  {
   "cell_type": "raw",
   "id": "215b281d",
   "metadata": {},
   "source": [
    "no need of additional variable. changed reflected in the same list\n",
    "it's a function of list"
   ]
  },
  {
   "cell_type": "code",
   "execution_count": 77,
   "id": "bf6fab4d",
   "metadata": {},
   "outputs": [
    {
     "data": {
      "text/plain": [
       "[2, 5, 3, 8, 7]"
      ]
     },
     "execution_count": 77,
     "metadata": {},
     "output_type": "execute_result"
    }
   ],
   "source": [
    "x = [7,8,3,5,2]\n",
    "x.reverse()\n",
    "x"
   ]
  },
  {
   "cell_type": "code",
   "execution_count": 79,
   "id": "f7bb7744",
   "metadata": {},
   "outputs": [
    {
     "data": {
      "text/plain": [
       "[8, 7, 5, 3, 2]"
      ]
     },
     "execution_count": 79,
     "metadata": {},
     "output_type": "execute_result"
    }
   ],
   "source": [
    "x = [7,8,3,5,2]\n",
    "x.sort()\n",
    "x.reverse()\n",
    "x"
   ]
  },
  {
   "cell_type": "markdown",
   "id": "b30b14b3",
   "metadata": {},
   "source": [
    "## reversed()"
   ]
  },
  {
   "cell_type": "raw",
   "id": "6d0418af",
   "metadata": {},
   "source": [
    "we need an additional variable to store the change.\n",
    "create a object which has to be unfold using list function\n",
    "it's python's inbuild function"
   ]
  },
  {
   "cell_type": "code",
   "execution_count": 81,
   "id": "05cb3029",
   "metadata": {},
   "outputs": [
    {
     "data": {
      "text/plain": [
       "[2, 5, 3, 8, 7]"
      ]
     },
     "execution_count": 81,
     "metadata": {},
     "output_type": "execute_result"
    }
   ],
   "source": [
    "x = [7,8,3,5,2]\n",
    "x = reversed(x)\n",
    "list(x)"
   ]
  },
  {
   "cell_type": "code",
   "execution_count": 82,
   "id": "e3dd4304",
   "metadata": {},
   "outputs": [
    {
     "data": {
      "text/plain": [
       "[8, 7, 5, 3, 2]"
      ]
     },
     "execution_count": 82,
     "metadata": {},
     "output_type": "execute_result"
    }
   ],
   "source": [
    "x = [7,8,3,5,2]\n",
    "x.sort()\n",
    "list(reversed(x))"
   ]
  },
  {
   "cell_type": "markdown",
   "id": "108161d6",
   "metadata": {},
   "source": [
    "# Count()"
   ]
  },
  {
   "cell_type": "raw",
   "id": "03eb4cf8",
   "metadata": {},
   "source": [
    "It counts the occurances of mentioned item in the list"
   ]
  },
  {
   "cell_type": "code",
   "execution_count": 83,
   "id": "a20c3282",
   "metadata": {},
   "outputs": [
    {
     "data": {
      "text/plain": [
       "2"
      ]
     },
     "execution_count": 83,
     "metadata": {},
     "output_type": "execute_result"
    }
   ],
   "source": [
    "x = [7,8,3,5,2,5]\n",
    "\n",
    "x.count(5)"
   ]
  },
  {
   "cell_type": "code",
   "execution_count": 84,
   "id": "189c22e6",
   "metadata": {},
   "outputs": [
    {
     "data": {
      "text/plain": [
       "3"
      ]
     },
     "execution_count": 84,
     "metadata": {},
     "output_type": "execute_result"
    }
   ],
   "source": [
    "x = ['Aisel','%Hello','bet','Bailomos','Boy','bet','6','bet']\n",
    "x.count('bet')"
   ]
  },
  {
   "cell_type": "code",
   "execution_count": 85,
   "id": "e535901e",
   "metadata": {},
   "outputs": [
    {
     "data": {
      "text/plain": [
       "[7, 8, 3, 2, 5]"
      ]
     },
     "execution_count": 85,
     "metadata": {},
     "output_type": "execute_result"
    }
   ],
   "source": [
    "x = [7,8,3,5,2,5]\n",
    "\n",
    "for i in x:\n",
    "    if x.count(i)>1:\n",
    "        x.remove(i)\n",
    "        \n",
    "x"
   ]
  },
  {
   "cell_type": "code",
   "execution_count": 86,
   "id": "05823a24",
   "metadata": {},
   "outputs": [
    {
     "data": {
      "text/plain": [
       "{2, 3, 5, 7, 8}"
      ]
     },
     "execution_count": 86,
     "metadata": {},
     "output_type": "execute_result"
    }
   ],
   "source": [
    "x = [7,8,3,5,2,5]\n",
    "set(x)"
   ]
  },
  {
   "cell_type": "code",
   "execution_count": 87,
   "id": "d73d554d",
   "metadata": {},
   "outputs": [
    {
     "data": {
      "text/plain": [
       "[7, 8, 3, 5, 2]"
      ]
     },
     "execution_count": 87,
     "metadata": {},
     "output_type": "execute_result"
    }
   ],
   "source": [
    "x = [7,8,3,5,2,5]\n",
    "y = []\n",
    "\n",
    "for i in x:\n",
    "    if i not in y:\n",
    "        y.append(i)\n",
    "        \n",
    "y"
   ]
  },
  {
   "cell_type": "markdown",
   "id": "bb9febe4",
   "metadata": {},
   "source": [
    "# Aggregate Functions"
   ]
  },
  {
   "cell_type": "markdown",
   "id": "98ccf8da",
   "metadata": {},
   "source": [
    "## sum()"
   ]
  },
  {
   "cell_type": "raw",
   "id": "498a1fb2",
   "metadata": {},
   "source": [
    "it gives the addition of all the items of the list\n",
    "works on numbers only"
   ]
  },
  {
   "cell_type": "code",
   "execution_count": 88,
   "id": "040380c5",
   "metadata": {},
   "outputs": [
    {
     "data": {
      "text/plain": [
       "30"
      ]
     },
     "execution_count": 88,
     "metadata": {},
     "output_type": "execute_result"
    }
   ],
   "source": [
    "x = [7,8,3,5,2,5]\n",
    "sum(x)"
   ]
  },
  {
   "cell_type": "code",
   "execution_count": 89,
   "id": "8774a5fb",
   "metadata": {},
   "outputs": [
    {
     "ename": "TypeError",
     "evalue": "unsupported operand type(s) for +: 'int' and 'str'",
     "output_type": "error",
     "traceback": [
      "\u001b[1;31m---------------------------------------------------------------------------\u001b[0m",
      "\u001b[1;31mTypeError\u001b[0m                                 Traceback (most recent call last)",
      "\u001b[1;32m<ipython-input-89-4551f31aad43>\u001b[0m in \u001b[0;36m<module>\u001b[1;34m\u001b[0m\n\u001b[0;32m      1\u001b[0m \u001b[0mlist1\u001b[0m \u001b[1;33m=\u001b[0m \u001b[1;33m[\u001b[0m\u001b[1;34m'P'\u001b[0m\u001b[1;33m,\u001b[0m\u001b[1;34m'h'\u001b[0m\u001b[1;33m,\u001b[0m\u001b[1;34m'g'\u001b[0m\u001b[1;33m]\u001b[0m\u001b[1;33m\u001b[0m\u001b[1;33m\u001b[0m\u001b[0m\n\u001b[1;32m----> 2\u001b[1;33m \u001b[0msum\u001b[0m\u001b[1;33m(\u001b[0m\u001b[0mlist1\u001b[0m\u001b[1;33m)\u001b[0m\u001b[1;33m\u001b[0m\u001b[1;33m\u001b[0m\u001b[0m\n\u001b[0m",
      "\u001b[1;31mTypeError\u001b[0m: unsupported operand type(s) for +: 'int' and 'str'"
     ]
    }
   ],
   "source": [
    "list1 = ['P','h','g']\n",
    "sum(list1)"
   ]
  },
  {
   "cell_type": "markdown",
   "id": "1aa0e1e8",
   "metadata": {},
   "source": [
    "## max()"
   ]
  },
  {
   "cell_type": "raw",
   "id": "278f845c",
   "metadata": {},
   "source": [
    "gives the maximum item of the list"
   ]
  },
  {
   "cell_type": "code",
   "execution_count": 90,
   "id": "bd47b7eb",
   "metadata": {},
   "outputs": [
    {
     "data": {
      "text/plain": [
       "8"
      ]
     },
     "execution_count": 90,
     "metadata": {},
     "output_type": "execute_result"
    }
   ],
   "source": [
    "x = [7,8,3,5,2,5]\n",
    "max(x)"
   ]
  },
  {
   "cell_type": "markdown",
   "id": "8c845088",
   "metadata": {},
   "source": [
    "## min()"
   ]
  },
  {
   "cell_type": "raw",
   "id": "0dd8fb4e",
   "metadata": {},
   "source": [
    "gives the minimum item of the list"
   ]
  },
  {
   "cell_type": "code",
   "execution_count": 91,
   "id": "755d0ac8",
   "metadata": {},
   "outputs": [
    {
     "data": {
      "text/plain": [
       "2"
      ]
     },
     "execution_count": 91,
     "metadata": {},
     "output_type": "execute_result"
    }
   ],
   "source": [
    "x = [7,8,3,5,2,5]\n",
    "min(x)"
   ]
  },
  {
   "cell_type": "markdown",
   "id": "eb260ed3",
   "metadata": {},
   "source": [
    "## mean()"
   ]
  },
  {
   "cell_type": "raw",
   "id": "f71eb1b5",
   "metadata": {},
   "source": [
    "Mean : Average of all the numbers in the list\n",
    "Sum of all the items / total no. of items"
   ]
  },
  {
   "cell_type": "code",
   "execution_count": 92,
   "id": "b208e0cb",
   "metadata": {},
   "outputs": [
    {
     "data": {
      "text/plain": [
       "5.0"
      ]
     },
     "execution_count": 92,
     "metadata": {},
     "output_type": "execute_result"
    }
   ],
   "source": [
    "x = [7,8,3,5,2,5]\n",
    "sum(x)/len(x)"
   ]
  },
  {
   "cell_type": "code",
   "execution_count": 93,
   "id": "fa1d9bc6",
   "metadata": {},
   "outputs": [
    {
     "data": {
      "text/plain": [
       "5.0"
      ]
     },
     "execution_count": 93,
     "metadata": {},
     "output_type": "execute_result"
    }
   ],
   "source": [
    "from numpy import mean\n",
    "mean(x)"
   ]
  },
  {
   "cell_type": "code",
   "execution_count": 94,
   "id": "f5887b73",
   "metadata": {},
   "outputs": [
    {
     "data": {
      "text/plain": [
       "5"
      ]
     },
     "execution_count": 94,
     "metadata": {},
     "output_type": "execute_result"
    }
   ],
   "source": [
    "from statistics import mean\n",
    "mean(x)"
   ]
  },
  {
   "cell_type": "markdown",
   "id": "1ff01b60",
   "metadata": {},
   "source": [
    "## median()"
   ]
  },
  {
   "cell_type": "raw",
   "id": "68493dbd",
   "metadata": {},
   "source": [
    "Median : center value of the sorted list"
   ]
  },
  {
   "cell_type": "code",
   "execution_count": 100,
   "id": "cc65ec2a",
   "metadata": {},
   "outputs": [],
   "source": [
    "x = [7,8,3,5,2]\n"
   ]
  },
  {
   "cell_type": "code",
   "execution_count": 101,
   "id": "52ba589c",
   "metadata": {},
   "outputs": [
    {
     "data": {
      "text/plain": [
       "[2, 3, 5, 7, 8]"
      ]
     },
     "execution_count": 101,
     "metadata": {},
     "output_type": "execute_result"
    }
   ],
   "source": [
    "x.sort()\n",
    "x"
   ]
  },
  {
   "cell_type": "code",
   "execution_count": 104,
   "id": "987e5c8e",
   "metadata": {},
   "outputs": [
    {
     "data": {
      "text/plain": [
       "5"
      ]
     },
     "execution_count": 104,
     "metadata": {},
     "output_type": "execute_result"
    }
   ],
   "source": [
    "median = x[round(len(x)/2)]\n",
    "median"
   ]
  },
  {
   "cell_type": "code",
   "execution_count": 105,
   "id": "53e3b846",
   "metadata": {},
   "outputs": [
    {
     "data": {
      "text/plain": [
       "[2, 3, 5, 6, 7, 8]"
      ]
     },
     "execution_count": 105,
     "metadata": {},
     "output_type": "execute_result"
    }
   ],
   "source": [
    "x = [7,8,3,5,2,6]\n",
    "x.sort()\n",
    "x"
   ]
  },
  {
   "cell_type": "code",
   "execution_count": 106,
   "id": "58a4fb0a",
   "metadata": {},
   "outputs": [
    {
     "data": {
      "text/plain": [
       "3.0"
      ]
     },
     "execution_count": 106,
     "metadata": {},
     "output_type": "execute_result"
    }
   ],
   "source": [
    "(len(x)/2)"
   ]
  },
  {
   "cell_type": "code",
   "execution_count": null,
   "id": "e71dd9e1",
   "metadata": {},
   "outputs": [],
   "source": [
    "# Function for even odd numbers\n",
    "\n",
    "num = int(input())\n",
    "\n",
    "if num%2==0:\n",
    "    print('even')\n",
    "if num%2==1:\n",
    "    print('odd')"
   ]
  },
  {
   "cell_type": "code",
   "execution_count": 107,
   "id": "dad3849e",
   "metadata": {},
   "outputs": [
    {
     "data": {
      "text/plain": [
       "5.5"
      ]
     },
     "execution_count": 107,
     "metadata": {},
     "output_type": "execute_result"
    }
   ],
   "source": [
    "x = [7,8,3,5,2,6]\n",
    "x.sort()\n",
    "\n",
    "if len(x)%2==1:\n",
    "    median = x[round(len(x)/2)]\n",
    "else:\n",
    "    median = (x[round(len(x)/2)]+x[(round(len(x)/2))-1])/2\n",
    "    \n",
    "median"
   ]
  },
  {
   "cell_type": "code",
   "execution_count": 112,
   "id": "ccecdb6d",
   "metadata": {},
   "outputs": [
    {
     "name": "stdout",
     "output_type": "stream",
     "text": [
      "[2, 3, 5, 6, 7, 8]\n"
     ]
    },
    {
     "data": {
      "text/plain": [
       "5.5"
      ]
     },
     "execution_count": 112,
     "metadata": {},
     "output_type": "execute_result"
    }
   ],
   "source": [
    "from numpy import median\n",
    "print(x)\n",
    "median(x)"
   ]
  },
  {
   "cell_type": "code",
   "execution_count": 113,
   "id": "b16c65e1",
   "metadata": {},
   "outputs": [
    {
     "name": "stdout",
     "output_type": "stream",
     "text": [
      "[7, 8, 3, 5, 2]\n"
     ]
    },
    {
     "data": {
      "text/plain": [
       "5.0"
      ]
     },
     "execution_count": 113,
     "metadata": {},
     "output_type": "execute_result"
    }
   ],
   "source": [
    "from numpy import median\n",
    "x = [7,8,3,5,2]\n",
    "print(x)\n",
    "median(x)"
   ]
  },
  {
   "cell_type": "markdown",
   "id": "ad4148c7",
   "metadata": {},
   "source": [
    "## Mode()"
   ]
  },
  {
   "cell_type": "markdown",
   "id": "f83577b3",
   "metadata": {},
   "source": [
    "# most occuring item in the list"
   ]
  },
  {
   "cell_type": "code",
   "execution_count": 9,
   "id": "d41153b7",
   "metadata": {},
   "outputs": [
    {
     "name": "stdout",
     "output_type": "stream",
     "text": [
      "[(1, 7), (2, 5), (1, 8), (1, 3), (2, 5), (1, 2)]\n"
     ]
    },
    {
     "data": {
      "text/plain": [
       "(2, 5)"
      ]
     },
     "execution_count": 9,
     "metadata": {},
     "output_type": "execute_result"
    }
   ],
   "source": [
    "x = [7,5,8,3,5,2]\n",
    "\n",
    "print([(x.count(i),i) for i in x])\n",
    "max([(x.count(i),i) for i in x])"
   ]
  },
  {
   "cell_type": "code",
   "execution_count": 11,
   "id": "766946a6",
   "metadata": {},
   "outputs": [],
   "source": [
    "from statistics import mode"
   ]
  },
  {
   "cell_type": "code",
   "execution_count": 12,
   "id": "48a355f7",
   "metadata": {},
   "outputs": [
    {
     "data": {
      "text/plain": [
       "5"
      ]
     },
     "execution_count": 12,
     "metadata": {},
     "output_type": "execute_result"
    }
   ],
   "source": [
    "x = [7,5,8,3,5,2]\n",
    "mode(x)"
   ]
  },
  {
   "cell_type": "code",
   "execution_count": 14,
   "id": "b92bb741",
   "metadata": {},
   "outputs": [
    {
     "data": {
      "text/plain": [
       "7"
      ]
     },
     "execution_count": 14,
     "metadata": {},
     "output_type": "execute_result"
    }
   ],
   "source": [
    "x = [7,5,8,3,5,2,8,7]   # if many numbers occur exactly at same frequency then the very first number will become mode\n",
    "mode(x)"
   ]
  },
  {
   "cell_type": "markdown",
   "id": "25fd0894",
   "metadata": {},
   "source": [
    "## Power()"
   ]
  },
  {
   "cell_type": "code",
   "execution_count": 15,
   "id": "d21e2fe0",
   "metadata": {},
   "outputs": [
    {
     "name": "stdout",
     "output_type": "stream",
     "text": [
      "power of x is  25\n"
     ]
    }
   ],
   "source": [
    "x = 5\n",
    "\n",
    "print('power of x is ',5*5)"
   ]
  },
  {
   "cell_type": "code",
   "execution_count": 16,
   "id": "1ed6b062",
   "metadata": {},
   "outputs": [
    {
     "name": "stdout",
     "output_type": "stream",
     "text": [
      "power of x is  25\n"
     ]
    }
   ],
   "source": [
    "x = 5\n",
    "print('power of x is ',5**2)"
   ]
  },
  {
   "cell_type": "code",
   "execution_count": 17,
   "id": "9a66542a",
   "metadata": {},
   "outputs": [
    {
     "data": {
      "text/plain": [
       "25.0"
      ]
     },
     "execution_count": 17,
     "metadata": {},
     "output_type": "execute_result"
    }
   ],
   "source": [
    "from math import pow\n",
    "pow(5,2)"
   ]
  },
  {
   "cell_type": "code",
   "execution_count": 18,
   "id": "8373076b",
   "metadata": {},
   "outputs": [
    {
     "data": {
      "text/plain": [
       "125.0"
      ]
     },
     "execution_count": 18,
     "metadata": {},
     "output_type": "execute_result"
    }
   ],
   "source": [
    "pow(5,3)"
   ]
  },
  {
   "cell_type": "code",
   "execution_count": 20,
   "id": "a7d4a551",
   "metadata": {},
   "outputs": [
    {
     "data": {
      "text/plain": [
       "5.0"
      ]
     },
     "execution_count": 20,
     "metadata": {},
     "output_type": "execute_result"
    }
   ],
   "source": [
    "pow(25,0.5)"
   ]
  },
  {
   "cell_type": "code",
   "execution_count": 21,
   "id": "82439956",
   "metadata": {},
   "outputs": [
    {
     "data": {
      "text/plain": [
       "5.0"
      ]
     },
     "execution_count": 21,
     "metadata": {},
     "output_type": "execute_result"
    }
   ],
   "source": [
    "pow(25,1/2)"
   ]
  }
 ],
 "metadata": {
  "kernelspec": {
   "display_name": "Python 3",
   "language": "python",
   "name": "python3"
  },
  "language_info": {
   "codemirror_mode": {
    "name": "ipython",
    "version": 3
   },
   "file_extension": ".py",
   "mimetype": "text/x-python",
   "name": "python",
   "nbconvert_exporter": "python",
   "pygments_lexer": "ipython3",
   "version": "3.8.8"
  },
  "toc": {
   "base_numbering": 1,
   "nav_menu": {},
   "number_sections": true,
   "sideBar": true,
   "skip_h1_title": false,
   "title_cell": "Table of Contents",
   "title_sidebar": "Contents",
   "toc_cell": false,
   "toc_position": {},
   "toc_section_display": true,
   "toc_window_display": true
  },
  "varInspector": {
   "cols": {
    "lenName": 16,
    "lenType": 16,
    "lenVar": 40
   },
   "kernels_config": {
    "python": {
     "delete_cmd_postfix": "",
     "delete_cmd_prefix": "del ",
     "library": "var_list.py",
     "varRefreshCmd": "print(var_dic_list())"
    },
    "r": {
     "delete_cmd_postfix": ") ",
     "delete_cmd_prefix": "rm(",
     "library": "var_list.r",
     "varRefreshCmd": "cat(var_dic_list()) "
    }
   },
   "types_to_exclude": [
    "module",
    "function",
    "builtin_function_or_method",
    "instance",
    "_Feature"
   ],
   "window_display": false
  }
 },
 "nbformat": 4,
 "nbformat_minor": 5
}
