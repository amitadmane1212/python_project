{
 "cells": [
  {
   "cell_type": "raw",
   "id": "5735513b",
   "metadata": {},
   "source": [
    "4 Pillars of OOPs are:\n",
    "    1. Inheritance\n",
    "    2. Abstraction\n",
    "    3. Encapsulation\n",
    "    4. Polymorphism"
   ]
  },
  {
   "cell_type": "markdown",
   "id": "8ec33f87",
   "metadata": {},
   "source": [
    "# Inheritance"
   ]
  },
  {
   "cell_type": "raw",
   "id": "0d3f3146",
   "metadata": {},
   "source": [
    "It allows a class to inheritate the properties(methods & variables) of another class.\n",
    "It facilitates code reusability\n",
    "\n",
    "Base class / Parent class / Super class\n",
    "Derived class / Child class / Sub class\n",
    "\n",
    "object is created child class"
   ]
  },
  {
   "cell_type": "code",
   "execution_count": 3,
   "id": "c04d2c4a",
   "metadata": {},
   "outputs": [],
   "source": [
    "class parent():\n",
    "    \n",
    "    def first_fun(self):\n",
    "        print('this is parent class')\n",
    "        \n",
    "        \n",
    "class child(parent):\n",
    "   \n",
    "    def second_fun(self):\n",
    "        print('this is child class')"
   ]
  },
  {
   "cell_type": "code",
   "execution_count": 4,
   "id": "664b23f0",
   "metadata": {},
   "outputs": [],
   "source": [
    "ch = child()"
   ]
  },
  {
   "cell_type": "code",
   "execution_count": 5,
   "id": "3e11920a",
   "metadata": {},
   "outputs": [
    {
     "name": "stdout",
     "output_type": "stream",
     "text": [
      "this is child class\n"
     ]
    }
   ],
   "source": [
    "ch.second_fun()"
   ]
  },
  {
   "cell_type": "code",
   "execution_count": 6,
   "id": "c8e342be",
   "metadata": {},
   "outputs": [
    {
     "name": "stdout",
     "output_type": "stream",
     "text": [
      "this is parent class\n"
     ]
    }
   ],
   "source": [
    "ch.first_fun()"
   ]
  },
  {
   "cell_type": "code",
   "execution_count": 7,
   "id": "9eb6cfb8",
   "metadata": {},
   "outputs": [],
   "source": [
    "class class2():\n",
    "   \n",
    "    def second_fun(self):\n",
    "        print('this is class2 class')\n",
    "        \n",
    "class class1(class2):\n",
    "    \n",
    "    def first_fun(self):\n",
    "        print('this is class1 class')"
   ]
  },
  {
   "cell_type": "markdown",
   "id": "36ac41bc",
   "metadata": {},
   "source": [
    "# __init__ functions"
   ]
  },
  {
   "cell_type": "raw",
   "id": "83dc0c03",
   "metadata": {},
   "source": [
    "Syntax for connecting __init__ of child & parent class:\n",
    "    \n",
    "    parentclass.__init__(self,arguements)\n",
    "    super.__init__(arguments)\n",
    "    \n",
    "use of super(): is only used when we have a single parent class for a child class\n",
    "    if we are using super then we do not need to pass self as an initial arguement"
   ]
  },
  {
   "cell_type": "code",
   "execution_count": 8,
   "id": "c029314c",
   "metadata": {},
   "outputs": [],
   "source": [
    "class full():\n",
    "    def __init__(self,name):                    # Init of parent class\n",
    "        self.name = name\n",
    "        \n",
    "    def student_name(self):\n",
    "        print('student name is  :',self.name)\n",
    "        \n",
    "        \n",
    "class student_Info(full):\n",
    "    def __init__(self,name,roll_no,age,marks):  # Init of child class\n",
    "        \n",
    "        self.roll_no = roll_no                  # Instance variables created\n",
    "        self.age = age\n",
    "        self.marks = marks\n",
    "        \n",
    "        full.__init__(self,name)                # passing an arguement of child class as a parameter for the parent class\n",
    "        \n",
    "    def roll_number(self):\n",
    "        print('roll number is ',self.roll_no)\n",
    "        \n",
    "    def rest_details(self):\n",
    "        print('age & marks of student are ',self.age,self.marks)\n",
    "        \n",
    "        "
   ]
  },
  {
   "cell_type": "code",
   "execution_count": 9,
   "id": "477b9463",
   "metadata": {},
   "outputs": [],
   "source": [
    "stud = student_Info('Roshan',51,21,98)"
   ]
  },
  {
   "cell_type": "code",
   "execution_count": 10,
   "id": "8a185953",
   "metadata": {},
   "outputs": [
    {
     "name": "stdout",
     "output_type": "stream",
     "text": [
      "student name is  : Roshan\n"
     ]
    }
   ],
   "source": [
    "stud.student_name()"
   ]
  },
  {
   "cell_type": "code",
   "execution_count": 11,
   "id": "60de5281",
   "metadata": {},
   "outputs": [
    {
     "name": "stdout",
     "output_type": "stream",
     "text": [
      "roll number is  51\n"
     ]
    }
   ],
   "source": [
    "stud.roll_number()"
   ]
  },
  {
   "cell_type": "code",
   "execution_count": 12,
   "id": "0cf23343",
   "metadata": {},
   "outputs": [],
   "source": [
    "class full():\n",
    "    def __init__(self,name):                    # Init of parent class\n",
    "        self.name = name\n",
    "        \n",
    "    def student_name(self):\n",
    "        print('student name is  :',self.name)\n",
    "        \n",
    "        \n",
    "class student_Info(full):\n",
    "    def __init__(self,name,roll_no,age,marks):  # Init of child class\n",
    "        \n",
    "        self.roll_no = roll_no                  # Instance variables created\n",
    "        self.age = age\n",
    "        self.marks = marks\n",
    "        \n",
    "        super().__init__(name)                # passing an arguement of child class as a parameter for the parent class\n",
    "        \n",
    "    def roll_number(self):\n",
    "        print('roll number is ',self.roll_no)\n",
    "        \n",
    "    def rest_details(self):\n",
    "        print('age & marks of student are ',self.age,self.marks)\n",
    "        \n",
    "        "
   ]
  },
  {
   "cell_type": "code",
   "execution_count": 13,
   "id": "5803ced2",
   "metadata": {},
   "outputs": [],
   "source": [
    "STUD = student_Info('Radhe',34,22,99)"
   ]
  },
  {
   "cell_type": "code",
   "execution_count": 14,
   "id": "d8ccac2f",
   "metadata": {},
   "outputs": [
    {
     "name": "stdout",
     "output_type": "stream",
     "text": [
      "student name is  : Radhe\n"
     ]
    }
   ],
   "source": [
    "STUD.student_name()"
   ]
  },
  {
   "cell_type": "code",
   "execution_count": 15,
   "id": "50d7f537",
   "metadata": {},
   "outputs": [
    {
     "name": "stdout",
     "output_type": "stream",
     "text": [
      "age & marks of student are  22 99\n"
     ]
    }
   ],
   "source": [
    "STUD.rest_details()"
   ]
  },
  {
   "cell_type": "markdown",
   "id": "bedba71b",
   "metadata": {},
   "source": [
    "# Multilevel Inheritance"
   ]
  },
  {
   "cell_type": "raw",
   "id": "08621bc7",
   "metadata": {},
   "source": [
    "# one child class will become the parent class for another class"
   ]
  },
  {
   "cell_type": "code",
   "execution_count": 16,
   "id": "efb34022",
   "metadata": {},
   "outputs": [],
   "source": [
    "class grandfather():\n",
    "    pass\n",
    "class father(grandfather):\n",
    "    pass\n",
    "class child(father):\n",
    "    pass"
   ]
  },
  {
   "cell_type": "code",
   "execution_count": 17,
   "id": "c21bc75a",
   "metadata": {},
   "outputs": [
    {
     "name": "stdout",
     "output_type": "stream",
     "text": [
      "9\n"
     ]
    }
   ],
   "source": [
    "class baseclass1():\n",
    "    def display(self):\n",
    "        display('some maths operations')\n",
    "        \n",
    "class baseclass2(baseclass1):\n",
    "    def addition(self,a,b):\n",
    "        return a+b\n",
    "    \n",
    "class baseclass3(baseclass2):\n",
    "    def multiplication(self,x,y):\n",
    "        return x*y\n",
    "    \n",
    "class baseclass4(baseclass3):\n",
    "    def average(self,m,n,o):\n",
    "        return (m+n+o)/3\n",
    "    \n",
    "d = baseclass4()\n",
    "print(d.addition(4,5))"
   ]
  },
  {
   "cell_type": "code",
   "execution_count": 23,
   "id": "db3ee403",
   "metadata": {},
   "outputs": [],
   "source": [
    "class baseclass1():\n",
    "    def display(self):\n",
    "        display('some maths operations')\n",
    "        \n",
    "class baseclass2(baseclass1):\n",
    "    \n",
    "    def __init__(self,a,b):\n",
    "        self.a = a\n",
    "        self.b = b\n",
    "        \n",
    "    def addition(self):\n",
    "        return self.a + self.b\n",
    "\n",
    "    \n",
    "class baseclass3(baseclass2):\n",
    "    \n",
    "    def __init__(self,x,y):\n",
    "        self.x = x\n",
    "        self.y = y\n",
    "    \n",
    "    def multiplication(self):\n",
    "        return self.x*self.y\n",
    "    \n",
    "class baseclass4(baseclass3):\n",
    "    \n",
    "    def __init__(self,a,b,x,y,m,n,o):\n",
    "        \n",
    "        baseclass3.__init__(self,x,y)\n",
    "        baseclass2.__init__(self,a,b)\n",
    "        \n",
    "        self.m = m\n",
    "        self.n = n\n",
    "        self.o = o\n",
    "\n",
    "\n",
    "    def average(self):\n",
    "        return (self.m+self.n+self.o)/3\n",
    "    \n",
    "d = baseclass4(10,20,30,40,50,60,70)\n"
   ]
  },
  {
   "cell_type": "code",
   "execution_count": 24,
   "id": "7ff70172",
   "metadata": {},
   "outputs": [
    {
     "data": {
      "text/plain": [
       "1200"
      ]
     },
     "execution_count": 24,
     "metadata": {},
     "output_type": "execute_result"
    }
   ],
   "source": [
    "d.multiplication()"
   ]
  },
  {
   "cell_type": "code",
   "execution_count": 25,
   "id": "2965da2b",
   "metadata": {},
   "outputs": [
    {
     "data": {
      "text/plain": [
       "'some maths operations'"
      ]
     },
     "metadata": {},
     "output_type": "display_data"
    }
   ],
   "source": [
    "d.display()"
   ]
  },
  {
   "cell_type": "markdown",
   "id": "2ec01cb5",
   "metadata": {},
   "source": [
    "# Multiple Inheritance"
   ]
  },
  {
   "cell_type": "raw",
   "id": "7ea0fd44",
   "metadata": {},
   "source": [
    "# 1 child class can have multiple parent class"
   ]
  },
  {
   "cell_type": "code",
   "execution_count": 26,
   "id": "99b46cc0",
   "metadata": {},
   "outputs": [
    {
     "name": "stdout",
     "output_type": "stream",
     "text": [
      "9\n"
     ]
    }
   ],
   "source": [
    "class baseclass1():\n",
    "    def display(self):\n",
    "        display('some maths operations')\n",
    "        \n",
    "class baseclass2():\n",
    "    def addition(self,a,b):\n",
    "        return a+b\n",
    "    \n",
    "class baseclass3():\n",
    "    def multiplication(self,x,y):\n",
    "        return x*y\n",
    "    \n",
    "class baseclass4(baseclass3,baseclass2,baseclass1):\n",
    "    def average(self,m,n,o):\n",
    "        return (m+n+o)/3\n",
    "    \n",
    "d = baseclass4()\n",
    "print(d.addition(4,5))"
   ]
  },
  {
   "cell_type": "code",
   "execution_count": 36,
   "id": "d525bfce",
   "metadata": {},
   "outputs": [],
   "source": [
    "class baseclass1():\n",
    "    def display(self):\n",
    "        display('some maths operations')\n",
    "        \n",
    "class baseclass2():\n",
    "    \n",
    "    def __init__(self,a,b):\n",
    "        self.a = a\n",
    "        self.b = b\n",
    "        \n",
    "    def addition(self):\n",
    "        return self.a + self.b\n",
    "\n",
    "    \n",
    "class baseclass3():\n",
    "    \n",
    "    def __init__(self,x,y):\n",
    "        self.x = x\n",
    "        self.y = y\n",
    "    \n",
    "    def multiplication(self):\n",
    "        return self.x*self.y\n",
    "    \n",
    "class baseclass4(baseclass3,baseclass2,baseclass1):\n",
    "    \n",
    "    def __init__(self,a,b,x,y,m,n,o):\n",
    "        \n",
    "        baseclass3.__init__(self,x,y)\n",
    "        baseclass2.__init__(self,a,b)\n",
    "        \n",
    "        self.m = m\n",
    "        self.n = n\n",
    "        self.o = o\n",
    "\n",
    "\n",
    "    def average(self):\n",
    "        return (self.m+self.n+self.o)/3\n",
    "    \n",
    "d = baseclass4(10,20,30,40,50,60,70)\n"
   ]
  },
  {
   "cell_type": "code",
   "execution_count": 37,
   "id": "0dc9feb6",
   "metadata": {},
   "outputs": [
    {
     "data": {
      "text/plain": [
       "30"
      ]
     },
     "execution_count": 37,
     "metadata": {},
     "output_type": "execute_result"
    }
   ],
   "source": [
    "d.addition()"
   ]
  },
  {
   "cell_type": "code",
   "execution_count": 38,
   "id": "7145e9a0",
   "metadata": {},
   "outputs": [
    {
     "data": {
      "text/plain": [
       "1200"
      ]
     },
     "execution_count": 38,
     "metadata": {},
     "output_type": "execute_result"
    }
   ],
   "source": [
    "d.multiplication()"
   ]
  },
  {
   "cell_type": "markdown",
   "id": "581be115",
   "metadata": {},
   "source": [
    "# Use of super() not recomended for multiple inheritence"
   ]
  },
  {
   "cell_type": "raw",
   "id": "20dbef26",
   "metadata": {},
   "source": [
    "# when using super, it will consider super for first parent class. for rest parent classes they have to be called with their names"
   ]
  },
  {
   "cell_type": "code",
   "execution_count": 39,
   "id": "0f179795",
   "metadata": {},
   "outputs": [],
   "source": [
    "class baseclass1():\n",
    "    def display(self):\n",
    "        display('some maths operations')\n",
    "        \n",
    "class baseclass2():\n",
    "    \n",
    "    def __init__(self,a,b):\n",
    "        self.a = a\n",
    "        self.b = b\n",
    "        \n",
    "    def addition(self):\n",
    "        return self.a + self.b\n",
    "\n",
    "    \n",
    "class baseclass3():\n",
    "    \n",
    "    def __init__(self,x,y):\n",
    "        self.x = x\n",
    "        self.y = y\n",
    "    \n",
    "    def multiplication(self):\n",
    "        return self.x*self.y\n",
    "    \n",
    "class baseclass4(baseclass3,baseclass2,baseclass1):\n",
    "    \n",
    "    def __init__(self,a,b,x,y,m,n,o):\n",
    "        \n",
    "        super().__init__(x,y)\n",
    "        baseclass2.__init__(self,a,b)\n",
    "        \n",
    "        self.m = m\n",
    "        self.n = n\n",
    "        self.o = o\n",
    "\n",
    "\n",
    "    def average(self):\n",
    "        return (self.m+self.n+self.o)/3\n",
    "    \n",
    "d = baseclass4(10,20,30,40,50,60,70)\n"
   ]
  },
  {
   "cell_type": "code",
   "execution_count": 40,
   "id": "cefabd40",
   "metadata": {},
   "outputs": [
    {
     "data": {
      "text/plain": [
       "1200"
      ]
     },
     "execution_count": 40,
     "metadata": {},
     "output_type": "execute_result"
    }
   ],
   "source": [
    "d.multiplication()"
   ]
  },
  {
   "cell_type": "markdown",
   "id": "d5327081",
   "metadata": {},
   "source": [
    "# Homework"
   ]
  },
  {
   "cell_type": "code",
   "execution_count": null,
   "id": "f8dcab35",
   "metadata": {},
   "outputs": [],
   "source": [
    "write functions within these classes to find the area of their names\n",
    "\n",
    "shapes - child class\n",
    "circle, rectangle, triangle, cylinder, square - parent classes\n",
    "\n",
    "obj =shapes()"
   ]
  },
  {
   "cell_type": "code",
   "execution_count": null,
   "id": "f985ac7b",
   "metadata": {},
   "outputs": [],
   "source": [
    "from math import pi\n",
    "from numpy import pi\n",
    "\n",
    "class circle():\n",
    "    def a_circle(self):\n",
    "        return c_Area\n",
    "    \n",
    "class cylinder(circle):\n",
    "    def cy_area(self,r,h):\n",
    "        a_circle*2+2*pi*r*h\n",
    "        \n",
    "class shape(cylinder,rectangle,square):\n",
    "    "
   ]
  }
 ],
 "metadata": {
  "kernelspec": {
   "display_name": "Python 3",
   "language": "python",
   "name": "python3"
  },
  "language_info": {
   "codemirror_mode": {
    "name": "ipython",
    "version": 3
   },
   "file_extension": ".py",
   "mimetype": "text/x-python",
   "name": "python",
   "nbconvert_exporter": "python",
   "pygments_lexer": "ipython3",
   "version": "3.8.8"
  },
  "toc": {
   "base_numbering": 1,
   "nav_menu": {},
   "number_sections": true,
   "sideBar": true,
   "skip_h1_title": false,
   "title_cell": "Table of Contents",
   "title_sidebar": "Contents",
   "toc_cell": false,
   "toc_position": {},
   "toc_section_display": true,
   "toc_window_display": false
  },
  "varInspector": {
   "cols": {
    "lenName": 16,
    "lenType": 16,
    "lenVar": 40
   },
   "kernels_config": {
    "python": {
     "delete_cmd_postfix": "",
     "delete_cmd_prefix": "del ",
     "library": "var_list.py",
     "varRefreshCmd": "print(var_dic_list())"
    },
    "r": {
     "delete_cmd_postfix": ") ",
     "delete_cmd_prefix": "rm(",
     "library": "var_list.r",
     "varRefreshCmd": "cat(var_dic_list()) "
    }
   },
   "types_to_exclude": [
    "module",
    "function",
    "builtin_function_or_method",
    "instance",
    "_Feature"
   ],
   "window_display": false
  }
 },
 "nbformat": 4,
 "nbformat_minor": 5
}
