{
 "cells": [
  {
   "cell_type": "raw",
   "id": "ba0c5242",
   "metadata": {},
   "source": [
    "within 1 if, we have another if else block"
   ]
  },
  {
   "cell_type": "code",
   "execution_count": 11,
   "id": "bafc76a0",
   "metadata": {},
   "outputs": [
    {
     "name": "stdout",
     "output_type": "stream",
     "text": [
      "Give away the score here: 66\n",
      "Distinction\n"
     ]
    }
   ],
   "source": [
    "score = eval(input('Give away the score here: '))\n",
    "\n",
    "if score <= 100 and score > 0:\n",
    "    if score < 66:\n",
    "        if score < 60:\n",
    "            if score < 40:\n",
    "                print('fail')\n",
    "            elif score > 40:\n",
    "                print('second class')\n",
    "        else:\n",
    "            print('first class')\n",
    "    else:\n",
    "        print('Distinction')        \n",
    "else:\n",
    "    print('Invalid entry or negative score')"
   ]
  },
  {
   "cell_type": "raw",
   "id": "b1a7f4b8",
   "metadata": {},
   "source": [
    "WAP to mention that a candidate was approves for a loan from the bank based of few attributes\n",
    "    \n",
    "age > 18\n",
    "income > 10000\n",
    "cibil score > 750"
   ]
  },
  {
   "cell_type": "code",
   "execution_count": 13,
   "id": "c0756b7a",
   "metadata": {},
   "outputs": [
    {
     "name": "stdout",
     "output_type": "stream",
     "text": [
      "Enter your Age: 45\n",
      "Enter your Income: 200000\n",
      "Enter your Cibil: 1000\n",
      "Loan Approved\n"
     ]
    }
   ],
   "source": [
    "Age = int(input('Enter your Age: '))\n",
    "Income = eval(input('Enter your Income: '))\n",
    "Cibil = eval(input('Enter your Cibil: '))\n",
    "if Age>18:\n",
    "    if Income>10000:\n",
    "        if Cibil>750:\n",
    "            print('Loan Approved')\n",
    "        else:\n",
    "            print('Cibil score is low, Loan Denied!')\n",
    "    else:\n",
    "        print('Income is Low, Loan Denied!')\n",
    "else:\n",
    "    print('Age less than 18, Loan Denied!')"
   ]
  },
  {
   "cell_type": "markdown",
   "id": "f9d0b154",
   "metadata": {},
   "source": [
    "# One Liner If-else:"
   ]
  },
  {
   "cell_type": "code",
   "execution_count": 16,
   "id": "d6c23aa8",
   "metadata": {},
   "outputs": [
    {
     "name": "stdout",
     "output_type": "stream",
     "text": [
      "a exist\n",
      "Thank you\n"
     ]
    }
   ],
   "source": [
    "a = 10\n",
    "\n",
    "if a:\n",
    "    print('a exist')\n",
    "    print('Thank you')\n",
    "else:\n",
    "    print('a does not exist!')"
   ]
  },
  {
   "cell_type": "code",
   "execution_count": 17,
   "id": "c9674ac1",
   "metadata": {},
   "outputs": [
    {
     "name": "stdout",
     "output_type": "stream",
     "text": [
      "a exist\n"
     ]
    }
   ],
   "source": [
    "if a:print('a exist')\n",
    "else:print('a does not exist!')"
   ]
  },
  {
   "cell_type": "code",
   "execution_count": 19,
   "id": "b0e06aa6",
   "metadata": {},
   "outputs": [
    {
     "ename": "IndentationError",
     "evalue": "unexpected indent (259897968.py, line 2)",
     "output_type": "error",
     "traceback": [
      "\u001b[1;36m  Input \u001b[1;32mIn [19]\u001b[1;36m\u001b[0m\n\u001b[1;33m    print('Thank you')\u001b[0m\n\u001b[1;37m    ^\u001b[0m\n\u001b[1;31mIndentationError\u001b[0m\u001b[1;31m:\u001b[0m unexpected indent\n"
     ]
    }
   ],
   "source": [
    "if a:print('a exist')\n",
    "    print('Thank you')\n",
    "\n",
    "else:print('a does not exist!')"
   ]
  },
  {
   "cell_type": "code",
   "execution_count": 22,
   "id": "b7f438dd",
   "metadata": {},
   "outputs": [
    {
     "name": "stdout",
     "output_type": "stream",
     "text": [
      "a exist\n"
     ]
    }
   ],
   "source": [
    "print('a exist') if a else print('a does not exist!')"
   ]
  },
  {
   "cell_type": "code",
   "execution_count": null,
   "id": "64cedfb9",
   "metadata": {},
   "outputs": [],
   "source": []
  }
 ],
 "metadata": {
  "kernelspec": {
   "display_name": "Python 3 (ipykernel)",
   "language": "python",
   "name": "python3"
  },
  "language_info": {
   "codemirror_mode": {
    "name": "ipython",
    "version": 3
   },
   "file_extension": ".py",
   "mimetype": "text/x-python",
   "name": "python",
   "nbconvert_exporter": "python",
   "pygments_lexer": "ipython3",
   "version": "3.9.12"
  }
 },
 "nbformat": 4,
 "nbformat_minor": 5
}
