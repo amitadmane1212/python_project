{
 "cells": [
  {
   "cell_type": "raw",
   "id": "c126601f",
   "metadata": {},
   "source": [
    "If else statements are basically decision making statements. (check for True or False)\n",
    "\n",
    "When if is true then if block will be executed otherwise else block will be executed\n",
    "\n",
    "If & elif can not be empty but else can be!"
   ]
  },
  {
   "cell_type": "raw",
   "id": "108ead90",
   "metadata": {},
   "source": [
    "Corrects ways:\n",
    "    if\n",
    "    if elif\n",
    "    if elif elif  multiple times\n",
    "    if elif else\n",
    "    if elif elif else\n",
    "    if else\n",
    "\n",
    "Incorret ways:\n",
    "    elif\n",
    "    elif elif\n",
    "    else elif\n",
    "    else\n",
    "    if else else\n",
    "    if else elif"
   ]
  },
  {
   "cell_type": "code",
   "execution_count": 2,
   "id": "234b02fb",
   "metadata": {},
   "outputs": [
    {
     "name": "stdout",
     "output_type": "stream",
     "text": [
      "to is present\n"
     ]
    }
   ],
   "source": [
    "raw = 'hello welcome to python 2'\n",
    "\n",
    "if 'to' in raw:\n",
    "    print('to is present')\n"
   ]
  },
  {
   "cell_type": "code",
   "execution_count": 4,
   "id": "2f2b5d65",
   "metadata": {},
   "outputs": [
    {
     "name": "stdout",
     "output_type": "stream",
     "text": [
      "2 is present\n"
     ]
    }
   ],
   "source": [
    "raw = 'hello welcome to python 2'\n",
    "\n",
    "if 'too' in raw:\n",
    "    print('too is present')\n",
    "    \n",
    "elif str(2) in raw:     # '2'\n",
    "    print('2 is present')"
   ]
  },
  {
   "cell_type": "code",
   "execution_count": 9,
   "id": "2f739df8",
   "metadata": {},
   "outputs": [
    {
     "name": "stdout",
     "output_type": "stream",
     "text": [
      "too is not present\n"
     ]
    }
   ],
   "source": [
    "raw = 'hello welcome to python 2'\n",
    "\n",
    "if 'too' in raw:\n",
    "    print('too is present')\n",
    "    \n",
    "else:\n",
    "    print('too is not present')"
   ]
  },
  {
   "cell_type": "code",
   "execution_count": 11,
   "id": "efe13c2c",
   "metadata": {},
   "outputs": [
    {
     "name": "stdout",
     "output_type": "stream",
     "text": [
      "too is not present\n"
     ]
    }
   ],
   "source": [
    "raw = 'hello welcome to python 2'\n",
    "\n",
    "if 'too' in raw:\n",
    "    print('too is present')\n",
    "    \n",
    "elif str(1) in raw:     \n",
    "    print('1 is present')\n",
    "    \n",
    "else:\n",
    "    print('too is not present')"
   ]
  },
  {
   "cell_type": "code",
   "execution_count": 13,
   "id": "1e957554",
   "metadata": {},
   "outputs": [
    {
     "name": "stdout",
     "output_type": "stream",
     "text": [
      "a is greater than 10\n"
     ]
    }
   ],
   "source": [
    "a = 20 \n",
    "\n",
    "if a == 10:\n",
    "    print('a is 10')\n",
    "elif a < 10:\n",
    "    print('a is less than 10')\n",
    "elif a> 10:\n",
    "    print('a is greater than 10')"
   ]
  },
  {
   "cell_type": "code",
   "execution_count": 16,
   "id": "9eda8657",
   "metadata": {},
   "outputs": [],
   "source": [
    "a = 20; b = 15\n",
    "\n",
    "if a == 10:\n",
    "    print('a is 10')\n",
    "elif a < 10:\n",
    "    print('a is less than 10')\n",
    "elif a> 10 and b==10:\n",
    "    print('a is greater than 10')\n"
   ]
  },
  {
   "cell_type": "code",
   "execution_count": 27,
   "id": "3894d274",
   "metadata": {},
   "outputs": [
    {
     "name": "stdout",
     "output_type": "stream",
     "text": [
      "a is 10\n"
     ]
    }
   ],
   "source": [
    "a = 10; b = 15\n",
    "\n",
    "if a == 10:\n",
    "    print('a is 10')\n",
    "elif a < 10:\n",
    "    print('a is less than 10')\n",
    "elif a> 10 and b==10:\n",
    "    print('a is greater than 10')\n",
    "    \n",
    "else:\n",
    "    print('none of the above')"
   ]
  },
  {
   "cell_type": "code",
   "execution_count": null,
   "id": "91d2c1cf",
   "metadata": {},
   "outputs": [],
   "source": [
    "a = 10; b = 15\n",
    "\n",
    "if a == 10:\n",
    "    print('a is 10')\n",
    "    \n",
    "if a> 10 and b==10:\n",
    "    print('a is greater than 10')  \n",
    "    \n",
    "else:\n",
    "    print('none of the above')"
   ]
  },
  {
   "cell_type": "code",
   "execution_count": 28,
   "id": "d89b61d3",
   "metadata": {},
   "outputs": [
    {
     "name": "stdout",
     "output_type": "stream",
     "text": [
      "a is 10\n",
      "nothing\n",
      "none of the above\n"
     ]
    }
   ],
   "source": [
    "a = 10; b = 15\n",
    "\n",
    "if a == 10:\n",
    "    print('a is 10')\n",
    "    \n",
    "#---------------------------------------------\n",
    "    \n",
    "if a < 10:\n",
    "    print('a is less than 10')\n",
    "else:\n",
    "    print('nothing')\n",
    "\n",
    "#--------------------------------------------- \n",
    "\n",
    "if a> 10 and b==10:\n",
    "    print('a is greater than 10')  \n",
    "else:\n",
    "    print('none of the above')"
   ]
  },
  {
   "cell_type": "code",
   "execution_count": null,
   "id": "cf864075",
   "metadata": {},
   "outputs": [],
   "source": [
    "a = 10; b = 15\n",
    "\n",
    "if a == 10:\n",
    "    print('a is 10')"
   ]
  },
  {
   "cell_type": "code",
   "execution_count": null,
   "id": "1a4cede3",
   "metadata": {},
   "outputs": [],
   "source": [
    "if a < 10:\n",
    "    print('a is less than 10')\n",
    "else:\n",
    "    print('nothing')"
   ]
  },
  {
   "cell_type": "code",
   "execution_count": null,
   "id": "0d4cf7fc",
   "metadata": {},
   "outputs": [],
   "source": [
    "if a> 10 and b==10:\n",
    "    print('a is greater than 10')  \n",
    "else:\n",
    "    print('none of the above')"
   ]
  },
  {
   "cell_type": "code",
   "execution_count": 18,
   "id": "bb6c61f7",
   "metadata": {
    "scrolled": true
   },
   "outputs": [
    {
     "ename": "SyntaxError",
     "evalue": "invalid syntax (3975994906.py, line 3)",
     "output_type": "error",
     "traceback": [
      "\u001b[1;36m  Input \u001b[1;32mIn [18]\u001b[1;36m\u001b[0m\n\u001b[1;33m    else:\u001b[0m\n\u001b[1;37m    ^\u001b[0m\n\u001b[1;31mSyntaxError\u001b[0m\u001b[1;31m:\u001b[0m invalid syntax\n"
     ]
    }
   ],
   "source": [
    "a = 45\n",
    "\n",
    "else:\n",
    "    print('a is 45')"
   ]
  },
  {
   "cell_type": "code",
   "execution_count": 19,
   "id": "df208829",
   "metadata": {},
   "outputs": [
    {
     "ename": "SyntaxError",
     "evalue": "invalid syntax (1615313719.py, line 1)",
     "output_type": "error",
     "traceback": [
      "\u001b[1;36m  Input \u001b[1;32mIn [19]\u001b[1;36m\u001b[0m\n\u001b[1;33m    elif:\u001b[0m\n\u001b[1;37m    ^\u001b[0m\n\u001b[1;31mSyntaxError\u001b[0m\u001b[1;31m:\u001b[0m invalid syntax\n"
     ]
    }
   ],
   "source": [
    "elif:\n",
    "    print('a is 10')"
   ]
  },
  {
   "cell_type": "code",
   "execution_count": 22,
   "id": "b9a5b676",
   "metadata": {},
   "outputs": [
    {
     "ename": "SyntaxError",
     "evalue": "invalid syntax (464127091.py, line 7)",
     "output_type": "error",
     "traceback": [
      "\u001b[1;36m  Input \u001b[1;32mIn [22]\u001b[1;36m\u001b[0m\n\u001b[1;33m    elif a> 10 and b==10:\u001b[0m\n\u001b[1;37m    ^\u001b[0m\n\u001b[1;31mSyntaxError\u001b[0m\u001b[1;31m:\u001b[0m invalid syntax\n"
     ]
    }
   ],
   "source": [
    "a = 20; b = 15\n",
    "\n",
    "if a == 10:\n",
    "    print('a is 10')\n",
    "else: \n",
    "    print('a is less than 10')\n",
    "elif a> 10 and b==10:\n",
    "    print('a is greater than 10')"
   ]
  },
  {
   "cell_type": "code",
   "execution_count": 23,
   "id": "f26d8357",
   "metadata": {},
   "outputs": [
    {
     "ename": "SyntaxError",
     "evalue": "invalid syntax (1045262559.py, line 7)",
     "output_type": "error",
     "traceback": [
      "\u001b[1;36m  Input \u001b[1;32mIn [23]\u001b[1;36m\u001b[0m\n\u001b[1;33m    else:\u001b[0m\n\u001b[1;37m    ^\u001b[0m\n\u001b[1;31mSyntaxError\u001b[0m\u001b[1;31m:\u001b[0m invalid syntax\n"
     ]
    }
   ],
   "source": [
    "a = 20; b = 15\n",
    "\n",
    "if a == 10:\n",
    "    print('a is 10')\n",
    "else: \n",
    "    print('a is less than 10')\n",
    "else:\n",
    "    print('a is greater than 10')"
   ]
  },
  {
   "cell_type": "code",
   "execution_count": null,
   "id": "d2e033a0",
   "metadata": {},
   "outputs": [],
   "source": []
  }
 ],
 "metadata": {
  "kernelspec": {
   "display_name": "Python 3 (ipykernel)",
   "language": "python",
   "name": "python3"
  },
  "language_info": {
   "codemirror_mode": {
    "name": "ipython",
    "version": 3
   },
   "file_extension": ".py",
   "mimetype": "text/x-python",
   "name": "python",
   "nbconvert_exporter": "python",
   "pygments_lexer": "ipython3",
   "version": "3.9.12"
  }
 },
 "nbformat": 4,
 "nbformat_minor": 5
}
