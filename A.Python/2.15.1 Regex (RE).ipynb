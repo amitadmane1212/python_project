{
 "cells": [
  {
   "cell_type": "raw",
   "id": "d85ec6bf",
   "metadata": {},
   "source": [
    "Regex(RE):\n",
    "    Is one of the fundamental libraries of python that deals with Text data.\n",
    "    It used sequence of characters that forms a search pattern for the text.\n",
    "    Natural Language Processing, Text Mining, Text Cleaning, Data Processing, Web scrapping"
   ]
  },
  {
   "cell_type": "raw",
   "id": "c34c65f2",
   "metadata": {},
   "source": [
    "regex >> re >> regular expressions\n",
    "\n",
    "we need to envoke re library from Python"
   ]
  },
  {
   "cell_type": "code",
   "execution_count": 1,
   "id": "2062e214",
   "metadata": {},
   "outputs": [],
   "source": [
    "import re"
   ]
  },
  {
   "cell_type": "markdown",
   "id": "8858cbfb",
   "metadata": {},
   "source": [
    "# Findall()"
   ]
  },
  {
   "cell_type": "raw",
   "id": "49f39d7d",
   "metadata": {},
   "source": [
    "returns a list of items that mateches the search pattern\n",
    "\n",
    "Syntax:\n",
    "    \n",
    "phone_numbers = re.findall('[0-9]{10}',text)\n",
    "\n",
    "Note: Numbers passed in curly braces, they talk about the length of the characters. The pattern in itself is passed in square braces in a string."
   ]
  },
  {
   "cell_type": "code",
   "execution_count": 13,
   "id": "5cd4aa44",
   "metadata": {},
   "outputs": [
    {
     "name": "stdout",
     "output_type": "stream",
     "text": [
      "MY mobile no. is 7865123498\n",
      "my mail ID is pratikrathod@gmail.com\n",
      "My alternate number is 9865347259\n",
      "my alternate MAIL is pratikr3@gmail.com\n"
     ]
    }
   ],
   "source": [
    "text = \"\"\"MY mobile no. is 7865123498\n",
    "my mail ID is pratikrathod@gmail.com\n",
    "My alternate number is 9865347259\n",
    "my alternate MAIL is pratikr3@gmail.com\"\"\"\n",
    "\n",
    "print(text)"
   ]
  },
  {
   "cell_type": "code",
   "execution_count": 14,
   "id": "f2cc6c08",
   "metadata": {},
   "outputs": [
    {
     "data": {
      "text/plain": [
       "['786', '512', '349', '986', '534', '725']"
      ]
     },
     "execution_count": 14,
     "metadata": {},
     "output_type": "execute_result"
    }
   ],
   "source": [
    "# 0-9 represents only numbers to search for\n",
    "phone_nums = re.findall('[0-9]{3}',text)\n",
    "phone_nums"
   ]
  },
  {
   "cell_type": "code",
   "execution_count": 15,
   "id": "e976c74e",
   "metadata": {},
   "outputs": [
    {
     "data": {
      "text/plain": [
       "['7865123498', '9865347259']"
      ]
     },
     "execution_count": 15,
     "metadata": {},
     "output_type": "execute_result"
    }
   ],
   "source": [
    "phone_nums = re.findall('[0-9]{10}',text)\n",
    "phone_nums"
   ]
  },
  {
   "cell_type": "code",
   "execution_count": 16,
   "id": "4c9b56c7",
   "metadata": {},
   "outputs": [
    {
     "data": {
      "text/plain": [
       "['MY', 'ID', 'MA', 'IL']"
      ]
     },
     "execution_count": 16,
     "metadata": {},
     "output_type": "execute_result"
    }
   ],
   "source": [
    "# A-Z represents only capital alphabets to search for\n",
    "searches = re.findall('[A-Z]{2}',text)\n",
    "searches"
   ]
  },
  {
   "cell_type": "code",
   "execution_count": 17,
   "id": "dba76d27",
   "metadata": {},
   "outputs": [
    {
     "data": {
      "text/plain": [
       "['MAIL']"
      ]
     },
     "execution_count": 17,
     "metadata": {},
     "output_type": "execute_result"
    }
   ],
   "source": [
    "searches = re.findall('[A-Z]{4}',text)\n",
    "searches"
   ]
  },
  {
   "cell_type": "code",
   "execution_count": 25,
   "id": "e13fd0f8",
   "metadata": {},
   "outputs": [
    {
     "data": {
      "text/plain": [
       "['mobile',\n",
       " 'no',\n",
       " 'is',\n",
       " 'my',\n",
       " 'is',\n",
       " 'pratikrath',\n",
       " 'od',\n",
       " 'gmail',\n",
       " 'com',\n",
       " 'y',\n",
       " 'alternate',\n",
       " 'number',\n",
       " 'is',\n",
       " 'my',\n",
       " 'alternate',\n",
       " 'is',\n",
       " 'pratikr',\n",
       " 'gmail',\n",
       " 'com']"
      ]
     },
     "execution_count": 25,
     "metadata": {},
     "output_type": "execute_result"
    }
   ],
   "source": [
    "# a-z represents only small alphabets to search for\n",
    "# range is passed in curly braces now\n",
    "searches = re.findall('[a-z]{1,10}',text)\n",
    "[i for i in searches if len(i)!=4]"
   ]
  },
  {
   "cell_type": "code",
   "execution_count": 24,
   "id": "68c306e8",
   "metadata": {},
   "outputs": [
    {
     "data": {
      "text/plain": [
       "['MY',\n",
       " 'mobile',\n",
       " 'no',\n",
       " 'is',\n",
       " '7865123498',\n",
       " 'my',\n",
       " 'mail',\n",
       " 'ID',\n",
       " 'is',\n",
       " 'pratikrathod@gmail',\n",
       " 'com',\n",
       " 'My',\n",
       " 'alternate',\n",
       " 'number',\n",
       " 'is',\n",
       " '9865347259',\n",
       " 'my',\n",
       " 'alternate',\n",
       " 'MAIL',\n",
       " 'is',\n",
       " 'pratikr3@gmail',\n",
       " 'com']"
      ]
     },
     "execution_count": 24,
     "metadata": {},
     "output_type": "execute_result"
    }
   ],
   "source": [
    "re.findall('[a-zA-Z0-9@]{1,20}',text)"
   ]
  },
  {
   "cell_type": "code",
   "execution_count": 32,
   "id": "105c82eb",
   "metadata": {},
   "outputs": [
    {
     "data": {
      "text/plain": [
       "['pratik.rathod@gmail.com']"
      ]
     },
     "execution_count": 32,
     "metadata": {},
     "output_type": "execute_result"
    }
   ],
   "source": [
    "text = \"\"\"MY mobile no. is 7865123498\n",
    "my mail ID is pratik.rathod@gmail.com\n",
    "My alternate number is 9865347259\n",
    "my alternate MAIL is pratik_r3@mgail.com\"\"\"\n",
    "\n",
    "mail_ids = re.findall('[A-Za-z0-9._]{1,25}[@][g][m][a][i][l][.][com]{3}',text)\n",
    "mail_ids"
   ]
  },
  {
   "cell_type": "code",
   "execution_count": 31,
   "id": "c942f102",
   "metadata": {},
   "outputs": [
    {
     "data": {
      "text/plain": [
       "['pratik.rathod@gmail.com', 'pratik_r3@mgail.com']"
      ]
     },
     "execution_count": 31,
     "metadata": {},
     "output_type": "execute_result"
    }
   ],
   "source": [
    "mails = re.findall('[A-z0-9_.]{1,20}[@Ggmail.com]{10}',text)\n",
    "mails"
   ]
  },
  {
   "cell_type": "code",
   "execution_count": 38,
   "id": "e883bc6e",
   "metadata": {},
   "outputs": [
    {
     "data": {
      "text/plain": [
       "['hr@capgemini.com',\n",
       " 'hr_Vishal@123Capgemini.co.in',\n",
       " 'rohitsharma123@gmail.com',\n",
       " 'Rohit_Sharma45@BCCI.co.in',\n",
       " 'rohit.sharma@redifmail.com',\n",
       " 'RohitS@outlook.com',\n",
       " 'RohitSharma@onmicrosoft.BCCI.com',\n",
       " 'Roshit333@vctcpune.co.in.',\n",
       " 'Rohit@yahoo.com',\n",
       " 'pratikkanpurwar_3@gmail.com',\n",
       " 'pkanpurwar123@gmail.com']"
      ]
     },
     "execution_count": 38,
     "metadata": {},
     "output_type": "execute_result"
    }
   ],
   "source": [
    "Mails = \"\"\"hr@capgemini.com,\n",
    "hr_Vishal@123Capgemini.co.in\n",
    "rohitsharma123@gmail.com\n",
    "Rohit_Sharma45@BCCI.co.in\n",
    "rohit.sharma@redifmail.com\n",
    "RohitS@outlook.com\n",
    "RohitSharma@onmicrosoft.BCCI.com\n",
    "Roshit333@vctcpune.co.in\n",
    "Rohit@yahoo.com\n",
    "My mobile number is 9456164755\n",
    "my mail id is pratikkanpurwar_3@gmail.com\n",
    "MY alternate number is 9754623156\n",
    "my alternate MAIL id is pkanpurwar123@gmail.com\n",
    "\"\"\"\n",
    "\n",
    "\n",
    "Mail_Id = re.findall('[A-z0-9._]{1,25}[@][A-z0-9.]{1,20}',Mails)\n",
    "Mail_Id"
   ]
  },
  {
   "cell_type": "code",
   "execution_count": 42,
   "id": "250d1080",
   "metadata": {},
   "outputs": [
    {
     "data": {
      "text/plain": [
       "['hr@capgemini.com',\n",
       " 'hr_Vishal@123Capgemini.co.in',\n",
       " 'rohitsharma123@gmail.com',\n",
       " 'Rohit_Sharma45@BCCI.co.in',\n",
       " 'rohit.sharma@redifmail.com',\n",
       " 'RohitS@outlook.com',\n",
       " 'RohitSharma@onmicrosoft.BCCI.com',\n",
       " 'Roshit333@vctcpune.co.in',\n",
       " 'Rohit@yahoo.com',\n",
       " 'pratikkanpurwar_3@gmail.com',\n",
       " 'pkanpurwar123@gmail.com']"
      ]
     },
     "execution_count": 42,
     "metadata": {},
     "output_type": "execute_result"
    }
   ],
   "source": [
    "Mail_Id = re.findall('[A-z0-9._]{1,25}[@][A-z0-9]{1,15}[.][A-z0-9]{1,10}[.]{0,1}[A-z0-9]{0,5}',Mails)\n",
    "Mail_Id"
   ]
  },
  {
   "cell_type": "code",
   "execution_count": 46,
   "id": "f49e88f7",
   "metadata": {},
   "outputs": [
    {
     "data": {
      "text/plain": [
       "['20-10-2022', '32-09-21']"
      ]
     },
     "execution_count": 46,
     "metadata": {},
     "output_type": "execute_result"
    }
   ],
   "source": [
    "pan_data = \"\"\"pan card numbers:\n",
    "ASHBU7834G\n",
    "MHJGG4857F\n",
    "ahbdy9023F\n",
    "12skk6457k\n",
    "A_HJK9023H\n",
    "AGHK89049J\n",
    "AFLAF89070\n",
    "KLHIP****G\n",
    "\n",
    "Dates:\n",
    "20-10-2022\n",
    "32-09-21\"\"\"\n",
    "\n",
    "PAN_DATA = re.findall('[A-Z]{5}[0-9]{4}[A-Z]',pan_data)\n",
    "PAN_DATA\n",
    "\n",
    "dates = re.findall('[0-9]{2}[-][0-9]{2}[-][0-9]{2,4}',pan_data)\n",
    "dates"
   ]
  },
  {
   "cell_type": "markdown",
   "id": "9bdd3d8e",
   "metadata": {},
   "source": [
    "# finditer()"
   ]
  },
  {
   "cell_type": "raw",
   "id": "9eaabc57",
   "metadata": {},
   "source": [
    "it returns all the matches found in the string in object format\n",
    "the span in object informs about the index position at which the item is found\n",
    "if the match is not found then it returns an empty object\n",
    "& if the match is found then the object could have multiple entries"
   ]
  },
  {
   "cell_type": "code",
   "execution_count": 83,
   "id": "82276124",
   "metadata": {},
   "outputs": [],
   "source": [
    "Adhar = \"\"\"9456 6453 7845\n",
    "8645 7458 9853\n",
    "5364 759 41523\n",
    "8456-7458-9245\n",
    "86421542 1452\"\"\"\n",
    "\n",
    "adhar_nums = re.finditer('[0-9]{4}[ ][0-9]{4}[ ][0-9]{4}',Adhar)\n"
   ]
  },
  {
   "cell_type": "code",
   "execution_count": 82,
   "id": "be94c3a0",
   "metadata": {},
   "outputs": [
    {
     "data": {
      "text/plain": [
       "[<re.Match object; span=(0, 14), match='9456 6453 7845'>,\n",
       " <re.Match object; span=(15, 29), match='8645 7458 9853'>]"
      ]
     },
     "execution_count": 82,
     "metadata": {},
     "output_type": "execute_result"
    }
   ],
   "source": [
    "list(adhar_nums)"
   ]
  },
  {
   "cell_type": "code",
   "execution_count": 84,
   "id": "dd08a5cf",
   "metadata": {},
   "outputs": [
    {
     "name": "stdout",
     "output_type": "stream",
     "text": [
      "(0, 14)\n",
      "(15, 29)\n"
     ]
    }
   ],
   "source": [
    "for format1 in (adhar_nums):\n",
    "    print(format1.span())"
   ]
  },
  {
   "cell_type": "code",
   "execution_count": 74,
   "id": "dc367157",
   "metadata": {},
   "outputs": [
    {
     "name": "stdout",
     "output_type": "stream",
     "text": [
      "9456 6453 7845\n",
      "8645 7458 9853\n"
     ]
    }
   ],
   "source": [
    "for format1 in (adhar_nums):\n",
    "    print(format1.group())"
   ]
  },
  {
   "cell_type": "markdown",
   "id": "d6d98e1e",
   "metadata": {},
   "source": [
    "# Special Characters"
   ]
  },
  {
   "cell_type": "markdown",
   "id": "b431593d",
   "metadata": {},
   "source": [
    "## \\d"
   ]
  },
  {
   "cell_type": "raw",
   "id": "b08a6d56",
   "metadata": {},
   "source": [
    "\\d >> [0-9] >> is only for digits varying from 0-9"
   ]
  },
  {
   "cell_type": "code",
   "execution_count": 85,
   "id": "65943988",
   "metadata": {},
   "outputs": [
    {
     "name": "stdout",
     "output_type": "stream",
     "text": [
      "9456 6453 7845\n",
      "8645 7458 9853\n"
     ]
    }
   ],
   "source": [
    "Adhar = \"\"\"9456 6453 7845\n",
    "8645 7458 9853\n",
    "5364 759 41523\n",
    "8456-7458-9245\n",
    "86421542 1452\"\"\"\n",
    "\n",
    "adhar_nums = re.finditer('\\d{4}[ ]\\d{4}[ ]\\d{4}',Adhar)\n",
    "for format1 in (adhar_nums):print(format1.group())\n",
    "    "
   ]
  },
  {
   "cell_type": "code",
   "execution_count": 86,
   "id": "84075710",
   "metadata": {},
   "outputs": [
    {
     "data": {
      "text/plain": [
       "['7865123498', '9865347259']"
      ]
     },
     "execution_count": 86,
     "metadata": {},
     "output_type": "execute_result"
    }
   ],
   "source": [
    "text = \"\"\"MY mobile no. is 7865123498\n",
    "my mail ID is pratik.rathod@gmail.com\n",
    "My alternate number is 9865347259\n",
    "my alternate MAIL is pratik_r3@mgail.com\"\"\"\n",
    "\n",
    "numbers = re.findall('\\d{10}',text)\n",
    "numbers"
   ]
  },
  {
   "cell_type": "markdown",
   "id": "ed774ad8",
   "metadata": {},
   "source": [
    "## \\D"
   ]
  },
  {
   "cell_type": "raw",
   "id": "d96555ef",
   "metadata": {},
   "source": [
    "\\D >> [^0-9] >> everything apart from numbers"
   ]
  },
  {
   "cell_type": "code",
   "execution_count": 87,
   "id": "50478de5",
   "metadata": {},
   "outputs": [
    {
     "data": {
      "text/plain": [
       "['MY mobile no. i',\n",
       " 's ',\n",
       " '\\nmy mail ID is ',\n",
       " 'pratik.rathod@g',\n",
       " 'mail.com\\nMy alt',\n",
       " 'ernate number i',\n",
       " 's ',\n",
       " '\\nmy alternate M',\n",
       " 'AIL is pratik_r',\n",
       " '@mgail.com']"
      ]
     },
     "execution_count": 87,
     "metadata": {},
     "output_type": "execute_result"
    }
   ],
   "source": [
    "\n",
    "except_nums = re.findall('\\D{1,15}',text)\n",
    "except_nums"
   ]
  },
  {
   "cell_type": "code",
   "execution_count": 99,
   "id": "456bf97e",
   "metadata": {},
   "outputs": [
    {
     "data": {
      "text/plain": [
       "['&',\n",
       " ' ! ',\n",
       " '\\n',\n",
       " ' ',\n",
       " ' @       ',\n",
       " '\\n',\n",
       " ' $      ',\n",
       " '* ',\n",
       " '\\n',\n",
       " '-',\n",
       " '-',\n",
       " '\\n',\n",
       " '% ',\n",
       " ' Hi (Hello']"
      ]
     },
     "execution_count": 99,
     "metadata": {},
     "output_type": "execute_result"
    }
   ],
   "source": [
    "Adhar = \"\"\"9456&6453 ! 7845\n",
    "8645 7458 @       9853\n",
    "5364 $      759* 41523\n",
    "8456-7458-9245\n",
    "86421542% 1452 Hi (Hello\n",
    "32874 32984\n",
    "hey there \"\"\"\n",
    "\n",
    "adhar_nums = re.findall('\\D{1,10}',Adhar)\n",
    "adhar_nums"
   ]
  },
  {
   "cell_type": "code",
   "execution_count": 100,
   "id": "6a9cdf2d",
   "metadata": {},
   "outputs": [
    {
     "data": {
      "text/plain": [
       "['&', '!', '\\n', '@', '\\n', '$', '*', '\\n', '-', '-', '\\n', '%', '(']"
      ]
     },
     "execution_count": 100,
     "metadata": {},
     "output_type": "execute_result"
    }
   ],
   "source": [
    "adhar_nums = re.findall('[^0-9A-z ]{1,10}',Adhar)\n",
    "adhar_nums"
   ]
  },
  {
   "cell_type": "code",
   "execution_count": 104,
   "id": "605d6cb2",
   "metadata": {},
   "outputs": [
    {
     "data": {
      "text/html": [
       "<div>\n",
       "<style scoped>\n",
       "    .dataframe tbody tr th:only-of-type {\n",
       "        vertical-align: middle;\n",
       "    }\n",
       "\n",
       "    .dataframe tbody tr th {\n",
       "        vertical-align: top;\n",
       "    }\n",
       "\n",
       "    .dataframe thead th {\n",
       "        text-align: right;\n",
       "    }\n",
       "</style>\n",
       "<table border=\"1\" class=\"dataframe\">\n",
       "  <thead>\n",
       "    <tr style=\"text-align: right;\">\n",
       "      <th></th>\n",
       "      <th>sepcial_chars</th>\n",
       "    </tr>\n",
       "  </thead>\n",
       "  <tbody>\n",
       "    <tr>\n",
       "      <th>0</th>\n",
       "      <td>&amp;</td>\n",
       "    </tr>\n",
       "    <tr>\n",
       "      <th>1</th>\n",
       "      <td>!</td>\n",
       "    </tr>\n",
       "    <tr>\n",
       "      <th>2</th>\n",
       "      <td>\\n</td>\n",
       "    </tr>\n",
       "    <tr>\n",
       "      <th>3</th>\n",
       "      <td>@</td>\n",
       "    </tr>\n",
       "    <tr>\n",
       "      <th>4</th>\n",
       "      <td>\\n</td>\n",
       "    </tr>\n",
       "    <tr>\n",
       "      <th>5</th>\n",
       "      <td>$</td>\n",
       "    </tr>\n",
       "    <tr>\n",
       "      <th>6</th>\n",
       "      <td>*</td>\n",
       "    </tr>\n",
       "    <tr>\n",
       "      <th>7</th>\n",
       "      <td>\\n</td>\n",
       "    </tr>\n",
       "    <tr>\n",
       "      <th>8</th>\n",
       "      <td>-</td>\n",
       "    </tr>\n",
       "    <tr>\n",
       "      <th>9</th>\n",
       "      <td>-</td>\n",
       "    </tr>\n",
       "    <tr>\n",
       "      <th>10</th>\n",
       "      <td>\\n</td>\n",
       "    </tr>\n",
       "    <tr>\n",
       "      <th>11</th>\n",
       "      <td>%</td>\n",
       "    </tr>\n",
       "    <tr>\n",
       "      <th>12</th>\n",
       "      <td>(</td>\n",
       "    </tr>\n",
       "  </tbody>\n",
       "</table>\n",
       "</div>"
      ],
      "text/plain": [
       "   sepcial_chars\n",
       "0              &\n",
       "1              !\n",
       "2             \\n\n",
       "3              @\n",
       "4             \\n\n",
       "5              $\n",
       "6              *\n",
       "7             \\n\n",
       "8              -\n",
       "9              -\n",
       "10            \\n\n",
       "11             %\n",
       "12             ("
      ]
     },
     "execution_count": 104,
     "metadata": {},
     "output_type": "execute_result"
    }
   ],
   "source": [
    "import pandas as pd\n",
    "df = pd.DataFrame(adhar_nums,columns={'sepcial_chars'})\n",
    "df"
   ]
  },
  {
   "cell_type": "code",
   "execution_count": 107,
   "id": "f0f43908",
   "metadata": {},
   "outputs": [
    {
     "data": {
      "text/plain": [
       "['&', '!', '@', '$', '*', '-', '%', '(']"
      ]
     },
     "execution_count": 107,
     "metadata": {},
     "output_type": "execute_result"
    }
   ],
   "source": [
    "specials = list(df['sepcial_chars'].unique())\n",
    "specials.remove('\\n')\n",
    "specials"
   ]
  },
  {
   "cell_type": "code",
   "execution_count": 108,
   "id": "8a6fa1d1",
   "metadata": {},
   "outputs": [],
   "source": [
    "Adhar = \"\"\"9456&6453 ! 7845\n",
    "8645 7458 @       9853\n",
    "5364 $      759* 41523\n",
    "8456-7458-9245\n",
    "86421542% 1452 Hi (Hello\n",
    "32874 32984\n",
    "hey there \"\"\""
   ]
  },
  {
   "cell_type": "code",
   "execution_count": 118,
   "id": "aa2812f4",
   "metadata": {},
   "outputs": [
    {
     "data": {
      "text/plain": [
       "['32874 32984', 'hey there ']"
      ]
     },
     "execution_count": 118,
     "metadata": {},
     "output_type": "execute_result"
    }
   ],
   "source": [
    "pro_data=[]\n",
    "x = Adhar.split('\\n')\n",
    "y = x.copy()\n",
    "for line in x:\n",
    "    for special in specials:\n",
    "        if special in line:\n",
    "            y.remove(line)\n",
    "            break\n",
    "    \n",
    "y"
   ]
  },
  {
   "cell_type": "code",
   "execution_count": null,
   "id": "fdf6bcf7",
   "metadata": {},
   "outputs": [],
   "source": []
  }
 ],
 "metadata": {
  "kernelspec": {
   "display_name": "Python 3",
   "language": "python",
   "name": "python3"
  },
  "language_info": {
   "codemirror_mode": {
    "name": "ipython",
    "version": 3
   },
   "file_extension": ".py",
   "mimetype": "text/x-python",
   "name": "python",
   "nbconvert_exporter": "python",
   "pygments_lexer": "ipython3",
   "version": "3.8.8"
  },
  "toc": {
   "base_numbering": 1,
   "nav_menu": {},
   "number_sections": true,
   "sideBar": true,
   "skip_h1_title": false,
   "title_cell": "Table of Contents",
   "title_sidebar": "Contents",
   "toc_cell": false,
   "toc_position": {},
   "toc_section_display": true,
   "toc_window_display": false
  },
  "varInspector": {
   "cols": {
    "lenName": 16,
    "lenType": 16,
    "lenVar": 40
   },
   "kernels_config": {
    "python": {
     "delete_cmd_postfix": "",
     "delete_cmd_prefix": "del ",
     "library": "var_list.py",
     "varRefreshCmd": "print(var_dic_list())"
    },
    "r": {
     "delete_cmd_postfix": ") ",
     "delete_cmd_prefix": "rm(",
     "library": "var_list.r",
     "varRefreshCmd": "cat(var_dic_list()) "
    }
   },
   "types_to_exclude": [
    "module",
    "function",
    "builtin_function_or_method",
    "instance",
    "_Feature"
   ],
   "window_display": false
  }
 },
 "nbformat": 4,
 "nbformat_minor": 5
}
