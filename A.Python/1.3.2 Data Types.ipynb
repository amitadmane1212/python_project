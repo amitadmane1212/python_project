{
 "cells": [
  {
   "cell_type": "raw",
   "id": "b7dc64d3",
   "metadata": {},
   "source": [
    "Text : String\n",
    "Numeric : int, float, complex\n",
    "Sequence : List, Tuple, range\n",
    "Set : set, frozenset\n",
    "mapping : dict\n",
    "boolean : True, False\n",
    "binary : 0000 1111"
   ]
  },
  {
   "cell_type": "markdown",
   "id": "77a0603d",
   "metadata": {},
   "source": [
    "# Numeric Data type"
   ]
  },
  {
   "cell_type": "raw",
   "id": "c0204eb5",
   "metadata": {},
   "source": [
    "Integers : numbers ranging from -inf to +inf without decimal part\n",
    "Float :positive or negative numbers with decimal part\n",
    "Complex : numbers with real & imaginary part"
   ]
  },
  {
   "cell_type": "raw",
   "id": "c7c8af41",
   "metadata": {},
   "source": [
    "int >> 5\n",
    "float >> 5.5\n",
    "complex >> 5+5j"
   ]
  },
  {
   "cell_type": "code",
   "execution_count": 4,
   "id": "5344d28c",
   "metadata": {},
   "outputs": [
    {
     "data": {
      "text/plain": [
       "int"
      ]
     },
     "execution_count": 4,
     "metadata": {},
     "output_type": "execute_result"
    }
   ],
   "source": [
    "a = -5\n",
    "type(a)"
   ]
  },
  {
   "cell_type": "code",
   "execution_count": 2,
   "id": "92373870",
   "metadata": {},
   "outputs": [
    {
     "data": {
      "text/plain": [
       "float"
      ]
     },
     "execution_count": 2,
     "metadata": {},
     "output_type": "execute_result"
    }
   ],
   "source": [
    "b = 5.6\n",
    "type(b)"
   ]
  },
  {
   "cell_type": "code",
   "execution_count": 5,
   "id": "15354904",
   "metadata": {},
   "outputs": [
    {
     "data": {
      "text/plain": [
       "complex"
      ]
     },
     "execution_count": 5,
     "metadata": {},
     "output_type": "execute_result"
    }
   ],
   "source": [
    "c = -3+4j\n",
    "type(c)"
   ]
  },
  {
   "cell_type": "code",
   "execution_count": 15,
   "id": "4a3f38f5",
   "metadata": {},
   "outputs": [
    {
     "data": {
      "text/plain": [
       "complex"
      ]
     },
     "execution_count": 15,
     "metadata": {},
     "output_type": "execute_result"
    }
   ],
   "source": [
    "d = -7j          # 0-7j\n",
    "type(d)"
   ]
  },
  {
   "cell_type": "code",
   "execution_count": 6,
   "id": "699db0b5",
   "metadata": {},
   "outputs": [
    {
     "data": {
      "text/plain": [
       "5.0"
      ]
     },
     "execution_count": 6,
     "metadata": {},
     "output_type": "execute_result"
    }
   ],
   "source": [
    "abs(3+4j)"
   ]
  },
  {
   "cell_type": "code",
   "execution_count": 7,
   "id": "03348b60",
   "metadata": {},
   "outputs": [
    {
     "data": {
      "text/plain": [
       "13.0"
      ]
     },
     "execution_count": 7,
     "metadata": {},
     "output_type": "execute_result"
    }
   ],
   "source": [
    "abs(12+5j)"
   ]
  },
  {
   "cell_type": "code",
   "execution_count": 8,
   "id": "26889c6a",
   "metadata": {},
   "outputs": [
    {
     "data": {
      "text/plain": [
       "13.0"
      ]
     },
     "execution_count": 8,
     "metadata": {},
     "output_type": "execute_result"
    }
   ],
   "source": [
    "abs(5+12j)"
   ]
  },
  {
   "cell_type": "markdown",
   "id": "0a03e7d6",
   "metadata": {},
   "source": [
    "# conversion of Numeric Data type"
   ]
  },
  {
   "cell_type": "raw",
   "id": "b1a96bf0",
   "metadata": {},
   "source": [
    "int & float can be converted into int, float & complex\n",
    "but complex can not be converted into int or float"
   ]
  },
  {
   "cell_type": "code",
   "execution_count": 9,
   "id": "2ca3338c",
   "metadata": {},
   "outputs": [
    {
     "data": {
      "text/plain": [
       "5"
      ]
     },
     "execution_count": 9,
     "metadata": {},
     "output_type": "execute_result"
    }
   ],
   "source": [
    "a = 5.7\n",
    "\n",
    "int(a)"
   ]
  },
  {
   "cell_type": "code",
   "execution_count": 10,
   "id": "987d68db",
   "metadata": {},
   "outputs": [
    {
     "data": {
      "text/plain": [
       "5.7"
      ]
     },
     "execution_count": 10,
     "metadata": {},
     "output_type": "execute_result"
    }
   ],
   "source": [
    "float(a)"
   ]
  },
  {
   "cell_type": "code",
   "execution_count": 11,
   "id": "b28056e6",
   "metadata": {},
   "outputs": [
    {
     "data": {
      "text/plain": [
       "(5.7+0j)"
      ]
     },
     "execution_count": 11,
     "metadata": {},
     "output_type": "execute_result"
    }
   ],
   "source": [
    "complex(a)"
   ]
  },
  {
   "cell_type": "code",
   "execution_count": 12,
   "id": "f37d0c1d",
   "metadata": {},
   "outputs": [
    {
     "name": "stdout",
     "output_type": "stream",
     "text": [
      "12\n",
      "12.0\n",
      "(12+0j)\n"
     ]
    }
   ],
   "source": [
    "x = 12\n",
    "\n",
    "print(int(x))\n",
    "print(float(x))\n",
    "print(complex(x))"
   ]
  },
  {
   "cell_type": "code",
   "execution_count": 13,
   "id": "5a67842e",
   "metadata": {},
   "outputs": [
    {
     "ename": "TypeError",
     "evalue": "can't convert complex to int",
     "output_type": "error",
     "traceback": [
      "\u001b[1;31m---------------------------------------------------------------------------\u001b[0m",
      "\u001b[1;31mTypeError\u001b[0m                                 Traceback (most recent call last)",
      "Input \u001b[1;32mIn [13]\u001b[0m, in \u001b[0;36m<cell line: 3>\u001b[1;34m()\u001b[0m\n\u001b[0;32m      1\u001b[0m z \u001b[38;5;241m=\u001b[39m \u001b[38;5;241m7\u001b[39m\u001b[38;5;241m+\u001b[39m\u001b[38;5;241m6\u001b[39mj\n\u001b[1;32m----> 3\u001b[0m \u001b[38;5;28mprint\u001b[39m(\u001b[38;5;28;43mint\u001b[39;49m\u001b[43m(\u001b[49m\u001b[43mz\u001b[49m\u001b[43m)\u001b[49m)\n",
      "\u001b[1;31mTypeError\u001b[0m: can't convert complex to int"
     ]
    }
   ],
   "source": [
    "z = 7+6j\n",
    "\n",
    "print(int(z))"
   ]
  },
  {
   "cell_type": "code",
   "execution_count": 14,
   "id": "e318b384",
   "metadata": {},
   "outputs": [
    {
     "ename": "TypeError",
     "evalue": "can't convert complex to float",
     "output_type": "error",
     "traceback": [
      "\u001b[1;31m---------------------------------------------------------------------------\u001b[0m",
      "\u001b[1;31mTypeError\u001b[0m                                 Traceback (most recent call last)",
      "Input \u001b[1;32mIn [14]\u001b[0m, in \u001b[0;36m<cell line: 3>\u001b[1;34m()\u001b[0m\n\u001b[0;32m      1\u001b[0m z \u001b[38;5;241m=\u001b[39m \u001b[38;5;241m7\u001b[39m\u001b[38;5;241m+\u001b[39m\u001b[38;5;241m6\u001b[39mj\n\u001b[1;32m----> 3\u001b[0m \u001b[38;5;28mprint\u001b[39m(\u001b[38;5;28;43mfloat\u001b[39;49m\u001b[43m(\u001b[49m\u001b[43mz\u001b[49m\u001b[43m)\u001b[49m)\n",
      "\u001b[1;31mTypeError\u001b[0m: can't convert complex to float"
     ]
    }
   ],
   "source": [
    "z = 7+6j\n",
    "\n",
    "print(float(z))"
   ]
  },
  {
   "cell_type": "code",
   "execution_count": null,
   "id": "61849afe",
   "metadata": {},
   "outputs": [],
   "source": []
  }
 ],
 "metadata": {
  "kernelspec": {
   "display_name": "Python 3 (ipykernel)",
   "language": "python",
   "name": "python3"
  },
  "language_info": {
   "codemirror_mode": {
    "name": "ipython",
    "version": 3
   },
   "file_extension": ".py",
   "mimetype": "text/x-python",
   "name": "python",
   "nbconvert_exporter": "python",
   "pygments_lexer": "ipython3",
   "version": "3.9.12"
  }
 },
 "nbformat": 4,
 "nbformat_minor": 5
}
