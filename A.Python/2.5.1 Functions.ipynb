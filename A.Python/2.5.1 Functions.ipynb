{
 "cells": [
  {
   "cell_type": "code",
   "execution_count": null,
   "id": "5f2a695d",
   "metadata": {},
   "outputs": [],
   "source": [
    "Functions:\n",
    "    Functions are the block of codes which we can run or call or use as and when required.\n",
    "    Functions are organised block of codes.\n",
    "    Functions are Procedural Programing Concept.\n",
    "    Functions are also called as Methods\n",
    "    \n",
    "    Functions will be executed when they are called.\n",
    "    Functions are used to modularize the codes.\n",
    "    \n",
    "2 Types of functions:\n",
    "    Inbuild function: max, min, len etc..\n",
    "    User Defined Functions\n",
    "    \n",
    "2 parts of the functions are:\n",
    "    Declaration or Creation of the function\n",
    "    calling of the functions or using the function"
   ]
  },
  {
   "cell_type": "raw",
   "id": "16fbaf58",
   "metadata": {},
   "source": [
    "def >> defination or defining a function\n",
    "\n",
    "def function_name(parameters):   # defining a function\n",
    "    statements\n",
    "    codes  \n",
    "    return output                # optional\n",
    "\n",
    "function_name(arguments)        # calling of function"
   ]
  },
  {
   "cell_type": "code",
   "execution_count": 1,
   "id": "623190e1",
   "metadata": {},
   "outputs": [
    {
     "name": "stdout",
     "output_type": "stream",
     "text": [
      "Hi\n",
      "Hello\n"
     ]
    }
   ],
   "source": [
    "print('Hi')\n",
    "print('Hello')"
   ]
  },
  {
   "cell_type": "code",
   "execution_count": 5,
   "id": "71eec529",
   "metadata": {},
   "outputs": [
    {
     "name": "stdout",
     "output_type": "stream",
     "text": [
      "Hi\n",
      "Hello\n"
     ]
    }
   ],
   "source": [
    "printing()"
   ]
  },
  {
   "cell_type": "code",
   "execution_count": 2,
   "id": "8f05af16",
   "metadata": {},
   "outputs": [
    {
     "name": "stdout",
     "output_type": "stream",
     "text": [
      "Hi\n",
      "Hello\n"
     ]
    }
   ],
   "source": [
    "print('Hi')\n",
    "print('Hello')"
   ]
  },
  {
   "cell_type": "code",
   "execution_count": 3,
   "id": "c786a1d5",
   "metadata": {},
   "outputs": [],
   "source": [
    "def printing():\n",
    "    print('Hi')\n",
    "    print('Hello')"
   ]
  },
  {
   "cell_type": "code",
   "execution_count": 4,
   "id": "43cbb192",
   "metadata": {},
   "outputs": [
    {
     "name": "stdout",
     "output_type": "stream",
     "text": [
      "Hi\n",
      "Hello\n"
     ]
    }
   ],
   "source": [
    "printing()"
   ]
  },
  {
   "cell_type": "code",
   "execution_count": 6,
   "id": "ea42be96",
   "metadata": {},
   "outputs": [],
   "source": [
    "def average():\n",
    "    sumation = 5+10+15\n",
    "    avg = (sumation)/3\n",
    "    return avg"
   ]
  },
  {
   "cell_type": "code",
   "execution_count": 7,
   "id": "636f433a",
   "metadata": {},
   "outputs": [
    {
     "data": {
      "text/plain": [
       "10.0"
      ]
     },
     "execution_count": 7,
     "metadata": {},
     "output_type": "execute_result"
    }
   ],
   "source": [
    "average()"
   ]
  },
  {
   "cell_type": "code",
   "execution_count": 31,
   "id": "697e0ae5",
   "metadata": {},
   "outputs": [],
   "source": [
    "def average(a,b,c):\n",
    "    sumation = a+b+c\n",
    "    avg = (sumation)/3\n",
    "    return f\"average of nums {a,b,c} is \",avg"
   ]
  },
  {
   "cell_type": "code",
   "execution_count": 32,
   "id": "15eb5a5b",
   "metadata": {},
   "outputs": [
    {
     "data": {
      "text/plain": [
       "('average of nums (2, 4, 6) is ', 4.0)"
      ]
     },
     "execution_count": 32,
     "metadata": {},
     "output_type": "execute_result"
    }
   ],
   "source": [
    "average(2,4,6)"
   ]
  },
  {
   "cell_type": "code",
   "execution_count": 13,
   "id": "00a2f799",
   "metadata": {},
   "outputs": [
    {
     "data": {
      "text/plain": [
       "('hi', 4)"
      ]
     },
     "execution_count": 13,
     "metadata": {},
     "output_type": "execute_result"
    }
   ],
   "source": [
    "x = 'hi',4\n",
    "x"
   ]
  },
  {
   "cell_type": "code",
   "execution_count": 15,
   "id": "8d77b1ec",
   "metadata": {},
   "outputs": [
    {
     "data": {
      "text/plain": [
       "20.0"
      ]
     },
     "execution_count": 15,
     "metadata": {},
     "output_type": "execute_result"
    }
   ],
   "source": [
    "value = average(10,20,30)\n",
    "value[1]"
   ]
  },
  {
   "cell_type": "code",
   "execution_count": 28,
   "id": "0c89fb2b",
   "metadata": {},
   "outputs": [],
   "source": [
    "def average_new(a,b,c):\n",
    "    sumation = a+b+c\n",
    "    avg = (sumation)/3\n",
    "    print(avg)\n",
    "    print('hello')"
   ]
  },
  {
   "cell_type": "code",
   "execution_count": 29,
   "id": "ab8238a8",
   "metadata": {},
   "outputs": [
    {
     "name": "stdout",
     "output_type": "stream",
     "text": [
      "15.0\n"
     ]
    }
   ],
   "source": [
    "new_value = average_new(10,15,20)\n",
    "new_value"
   ]
  },
  {
   "cell_type": "code",
   "execution_count": 30,
   "id": "42324283",
   "metadata": {},
   "outputs": [
    {
     "ename": "TypeError",
     "evalue": "unsupported operand type(s) for +: 'int' and 'NoneType'",
     "output_type": "error",
     "traceback": [
      "\u001b[1;31m---------------------------------------------------------------------------\u001b[0m",
      "\u001b[1;31mTypeError\u001b[0m                                 Traceback (most recent call last)",
      "\u001b[1;32m<ipython-input-30-d04e70532005>\u001b[0m in \u001b[0;36m<module>\u001b[1;34m\u001b[0m\n\u001b[1;32m----> 1\u001b[1;33m \u001b[1;36m5\u001b[0m\u001b[1;33m+\u001b[0m\u001b[0mnew_value\u001b[0m\u001b[1;33m\u001b[0m\u001b[1;33m\u001b[0m\u001b[0m\n\u001b[0m",
      "\u001b[1;31mTypeError\u001b[0m: unsupported operand type(s) for +: 'int' and 'NoneType'"
     ]
    }
   ],
   "source": [
    "5+new_value"
   ]
  },
  {
   "cell_type": "code",
   "execution_count": 35,
   "id": "6e5244ed",
   "metadata": {},
   "outputs": [
    {
     "data": {
      "text/plain": [
       "('average of nums (100, 200, 300) is ', 200.0)"
      ]
     },
     "execution_count": 35,
     "metadata": {},
     "output_type": "execute_result"
    }
   ],
   "source": [
    "def average(a,b,c):\n",
    "    sumation = a+b+c\n",
    "    avg = (sumation)/3\n",
    "    return f\"average of nums {a,b,c} is \",avg\n",
    "\n",
    "x,y,z = 100,200,300\n",
    "\n",
    "output = average(x,y,z)\n",
    "output"
   ]
  },
  {
   "cell_type": "code",
   "execution_count": 36,
   "id": "2e978aa8",
   "metadata": {},
   "outputs": [
    {
     "data": {
      "text/plain": [
       "('average of nums (100, 200, 300) is ', 200.0)"
      ]
     },
     "execution_count": 36,
     "metadata": {},
     "output_type": "execute_result"
    }
   ],
   "source": [
    "x,y,z = 100,200,300\n",
    "\n",
    "def average(a,b,c):\n",
    "    sumation = a+b+c\n",
    "    avg = (sumation)/3\n",
    "    return f\"average of nums {a,b,c} is \",avg\n",
    "\n",
    "\n",
    "\n",
    "output = average(x,y,z)\n",
    "output"
   ]
  },
  {
   "cell_type": "code",
   "execution_count": null,
   "id": "378aa7a3",
   "metadata": {},
   "outputs": [],
   "source": [
    "x,y = 100,200                # Global Variable\n",
    "\n",
    "def average(a,b):\n",
    "    c = 300                  # Local Variable\n",
    "    sumation = a+b+c\n",
    "    avg = (sumation)/3\n",
    "    return f\"average of nums {a,b,c} is \",avg\n",
    "\n",
    "\n",
    "\n",
    "output = average(x,y)\n",
    "output"
   ]
  },
  {
   "cell_type": "code",
   "execution_count": 37,
   "id": "997dba2b",
   "metadata": {},
   "outputs": [
    {
     "ename": "NameError",
     "evalue": "name 'c' is not defined",
     "output_type": "error",
     "traceback": [
      "\u001b[1;31m---------------------------------------------------------------------------\u001b[0m",
      "\u001b[1;31mNameError\u001b[0m                                 Traceback (most recent call last)",
      "\u001b[1;32m<ipython-input-37-2b66fd261ee5>\u001b[0m in \u001b[0;36m<module>\u001b[1;34m\u001b[0m\n\u001b[1;32m----> 1\u001b[1;33m \u001b[0mc\u001b[0m\u001b[1;33m\u001b[0m\u001b[1;33m\u001b[0m\u001b[0m\n\u001b[0m",
      "\u001b[1;31mNameError\u001b[0m: name 'c' is not defined"
     ]
    }
   ],
   "source": [
    "c"
   ]
  },
  {
   "cell_type": "code",
   "execution_count": 42,
   "id": "7322a2c1",
   "metadata": {},
   "outputs": [
    {
     "data": {
      "text/plain": [
       "(600, 200.0)"
      ]
     },
     "execution_count": 42,
     "metadata": {},
     "output_type": "execute_result"
    }
   ],
   "source": [
    "x,y = 100,200                # Global Variable\n",
    "\n",
    "def average(a,b):\n",
    "    global c\n",
    "    c = 300                  # global Variable\n",
    "    sumation = a+b+c\n",
    "    avg = (sumation)/3\n",
    "    return sumation,avg\n",
    "\n",
    "\n",
    "\n",
    "output = average(x,y)\n",
    "output"
   ]
  },
  {
   "cell_type": "code",
   "execution_count": 39,
   "id": "ae106367",
   "metadata": {},
   "outputs": [
    {
     "data": {
      "text/plain": [
       "300"
      ]
     },
     "execution_count": 39,
     "metadata": {},
     "output_type": "execute_result"
    }
   ],
   "source": [
    "c"
   ]
  },
  {
   "cell_type": "markdown",
   "id": "b3f8b6c0",
   "metadata": {},
   "source": [
    "# Arguements"
   ]
  },
  {
   "cell_type": "raw",
   "id": "5ff5d5c6",
   "metadata": {},
   "source": [
    "as far as the positional arguments are concerned, no. of arguements has to be equal to the number of parameters passed\n",
    "\n",
    "no. of params = no.of args\n",
    "\n",
    "arguments = parameters"
   ]
  },
  {
   "cell_type": "code",
   "execution_count": 46,
   "id": "062c31ce",
   "metadata": {},
   "outputs": [
    {
     "ename": "TypeError",
     "evalue": "average() takes 3 positional arguments but 4 were given",
     "output_type": "error",
     "traceback": [
      "\u001b[1;31m---------------------------------------------------------------------------\u001b[0m",
      "\u001b[1;31mTypeError\u001b[0m                                 Traceback (most recent call last)",
      "\u001b[1;32m<ipython-input-46-8c75420a237e>\u001b[0m in \u001b[0;36m<module>\u001b[1;34m\u001b[0m\n\u001b[0;32m      3\u001b[0m \u001b[1;33m\u001b[0m\u001b[0m\n\u001b[0;32m      4\u001b[0m \u001b[1;31m# average(1)\u001b[0m\u001b[1;33m\u001b[0m\u001b[1;33m\u001b[0m\u001b[1;33m\u001b[0m\u001b[0m\n\u001b[1;32m----> 5\u001b[1;33m \u001b[0maverage\u001b[0m\u001b[1;33m(\u001b[0m\u001b[1;36m3\u001b[0m\u001b[1;33m,\u001b[0m\u001b[1;36m4\u001b[0m\u001b[1;33m,\u001b[0m\u001b[1;36m5\u001b[0m\u001b[1;33m,\u001b[0m\u001b[1;36m6\u001b[0m\u001b[1;33m)\u001b[0m\u001b[1;33m\u001b[0m\u001b[1;33m\u001b[0m\u001b[0m\n\u001b[0m",
      "\u001b[1;31mTypeError\u001b[0m: average() takes 3 positional arguments but 4 were given"
     ]
    }
   ],
   "source": [
    "def average(a,b,c):\n",
    "    return (a+b+c)/3\n",
    "\n",
    "# average(1)\n",
    "average(3,4,5,6)"
   ]
  },
  {
   "cell_type": "code",
   "execution_count": 47,
   "id": "98272c9f",
   "metadata": {},
   "outputs": [
    {
     "data": {
      "text/plain": [
       "[4, 9, 16, 25]"
      ]
     },
     "execution_count": 47,
     "metadata": {},
     "output_type": "execute_result"
    }
   ],
   "source": [
    "def squared_list(lis):\n",
    "    return [i**2 for i in lis]\n",
    "\n",
    "squared_list([2,3,4,5])"
   ]
  },
  {
   "cell_type": "code",
   "execution_count": 49,
   "id": "c13618ef",
   "metadata": {},
   "outputs": [
    {
     "data": {
      "text/plain": [
       "[9, 9]"
      ]
     },
     "execution_count": 49,
     "metadata": {},
     "output_type": "execute_result"
    }
   ],
   "source": [
    "squared_list([3,3])"
   ]
  },
  {
   "cell_type": "markdown",
   "id": "9a5b884e",
   "metadata": {},
   "source": [
    "# Return"
   ]
  },
  {
   "cell_type": "raw",
   "id": "6c54dad3",
   "metadata": {},
   "source": [
    "return is used to end the function or break the function & return a specific value as an output of the function\n",
    "return can also be empty means not returning anything from the function\n",
    "one function can have multiple returns \n",
    "return is also optional"
   ]
  },
  {
   "cell_type": "code",
   "execution_count": 52,
   "id": "f679e7b6",
   "metadata": {},
   "outputs": [
    {
     "data": {
      "text/plain": [
       "'EVEN'"
      ]
     },
     "execution_count": 52,
     "metadata": {},
     "output_type": "execute_result"
    }
   ],
   "source": [
    "def even_odd(a):\n",
    "    if a%2==0:\n",
    "        return 'EVEN'\n",
    "        print('done!')\n",
    "    else:\n",
    "        return 'ODD'\n",
    "\n",
    "even_odd(6)"
   ]
  },
  {
   "cell_type": "markdown",
   "id": "fdb793b4",
   "metadata": {},
   "source": [
    "# Yield"
   ]
  },
  {
   "cell_type": "code",
   "execution_count": 53,
   "id": "41f1e5fa",
   "metadata": {},
   "outputs": [
    {
     "data": {
      "text/plain": [
       "'EVEN'"
      ]
     },
     "execution_count": 53,
     "metadata": {},
     "output_type": "execute_result"
    }
   ],
   "source": [
    "def even_odd(numbers):\n",
    "    for i in numbers:\n",
    "        if i%2==0:\n",
    "            return 'EVEN'\n",
    "            \n",
    "        else:\n",
    "            return 'ODD'\n",
    "\n",
    "even_odd([6,5,3])"
   ]
  },
  {
   "cell_type": "code",
   "execution_count": 55,
   "id": "4144bce6",
   "metadata": {},
   "outputs": [
    {
     "data": {
      "text/plain": [
       "['EVEN', 'ODD', 'ODD']"
      ]
     },
     "execution_count": 55,
     "metadata": {},
     "output_type": "execute_result"
    }
   ],
   "source": [
    "def even_odd(numbers):\n",
    "    for i in numbers:\n",
    "        if i%2==0:\n",
    "            yield 'EVEN'\n",
    "            \n",
    "        else:\n",
    "            yield 'ODD'\n",
    "\n",
    "list(even_odd([6,5,3]))"
   ]
  },
  {
   "cell_type": "code",
   "execution_count": 58,
   "id": "8918e788",
   "metadata": {},
   "outputs": [
    {
     "data": {
      "text/plain": [
       "9"
      ]
     },
     "execution_count": 58,
     "metadata": {},
     "output_type": "execute_result"
    }
   ],
   "source": [
    "def show(x):\n",
    "    for i in x:\n",
    "        return i**2\n",
    "    \n",
    "show([3,4,5,6])"
   ]
  },
  {
   "cell_type": "code",
   "execution_count": 59,
   "id": "cf744e31",
   "metadata": {},
   "outputs": [
    {
     "data": {
      "text/plain": [
       "[9, 16, 25, 36]"
      ]
     },
     "execution_count": 59,
     "metadata": {},
     "output_type": "execute_result"
    }
   ],
   "source": [
    "def show(x):\n",
    "    for i in x:\n",
    "        yield i**2\n",
    "    \n",
    "x = show([3,4,5,6])\n",
    "list(x)"
   ]
  },
  {
   "cell_type": "code",
   "execution_count": null,
   "id": "aba408e3",
   "metadata": {},
   "outputs": [],
   "source": []
  }
 ],
 "metadata": {
  "kernelspec": {
   "display_name": "Python 3",
   "language": "python",
   "name": "python3"
  },
  "language_info": {
   "codemirror_mode": {
    "name": "ipython",
    "version": 3
   },
   "file_extension": ".py",
   "mimetype": "text/x-python",
   "name": "python",
   "nbconvert_exporter": "python",
   "pygments_lexer": "ipython3",
   "version": "3.8.8"
  },
  "toc": {
   "base_numbering": 1,
   "nav_menu": {},
   "number_sections": true,
   "sideBar": true,
   "skip_h1_title": false,
   "title_cell": "Table of Contents",
   "title_sidebar": "Contents",
   "toc_cell": false,
   "toc_position": {},
   "toc_section_display": true,
   "toc_window_display": false
  },
  "varInspector": {
   "cols": {
    "lenName": 16,
    "lenType": 16,
    "lenVar": 40
   },
   "kernels_config": {
    "python": {
     "delete_cmd_postfix": "",
     "delete_cmd_prefix": "del ",
     "library": "var_list.py",
     "varRefreshCmd": "print(var_dic_list())"
    },
    "r": {
     "delete_cmd_postfix": ") ",
     "delete_cmd_prefix": "rm(",
     "library": "var_list.r",
     "varRefreshCmd": "cat(var_dic_list()) "
    }
   },
   "types_to_exclude": [
    "module",
    "function",
    "builtin_function_or_method",
    "instance",
    "_Feature"
   ],
   "window_display": false
  }
 },
 "nbformat": 4,
 "nbformat_minor": 5
}
