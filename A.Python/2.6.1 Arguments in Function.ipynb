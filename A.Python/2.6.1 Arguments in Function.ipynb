{
 "cells": [
  {
   "cell_type": "markdown",
   "id": "f669245c",
   "metadata": {},
   "source": [
    "# Arguements"
   ]
  },
  {
   "cell_type": "raw",
   "id": "8a2135a2",
   "metadata": {},
   "source": [
    "types of arguements:\n",
    "    Positional,\n",
    "    default\n",
    "    arbitary arguements\n",
    "    keyword arguements"
   ]
  },
  {
   "cell_type": "markdown",
   "id": "e83cf1b5",
   "metadata": {},
   "source": [
    "## Positional Arguements"
   ]
  },
  {
   "cell_type": "raw",
   "id": "36cb7784",
   "metadata": {},
   "source": [
    "no. of arguements = no. of paramters\n",
    "we can pass any no. of parameters as positional arguements while declaration.r"
   ]
  },
  {
   "cell_type": "code",
   "execution_count": 3,
   "id": "1ff486da",
   "metadata": {},
   "outputs": [
    {
     "data": {
      "text/plain": [
       "5"
      ]
     },
     "execution_count": 3,
     "metadata": {},
     "output_type": "execute_result"
    }
   ],
   "source": [
    "def add(n1,n2):                # positional arguements\n",
    "    return n1+n2\n",
    "\n",
    "add(2,3)"
   ]
  },
  {
   "cell_type": "code",
   "execution_count": 4,
   "id": "9b05b2dd",
   "metadata": {},
   "outputs": [
    {
     "ename": "TypeError",
     "evalue": "add() missing 2 required positional arguments: 'n1' and 'n2'",
     "output_type": "error",
     "traceback": [
      "\u001b[1;31m---------------------------------------------------------------------------\u001b[0m",
      "\u001b[1;31mTypeError\u001b[0m                                 Traceback (most recent call last)",
      "\u001b[1;32m<ipython-input-4-d5d29de3ed94>\u001b[0m in \u001b[0;36m<module>\u001b[1;34m\u001b[0m\n\u001b[1;32m----> 1\u001b[1;33m \u001b[0madd\u001b[0m\u001b[1;33m(\u001b[0m\u001b[1;33m)\u001b[0m\u001b[1;33m\u001b[0m\u001b[1;33m\u001b[0m\u001b[0m\n\u001b[0m",
      "\u001b[1;31mTypeError\u001b[0m: add() missing 2 required positional arguments: 'n1' and 'n2'"
     ]
    }
   ],
   "source": [
    "add()"
   ]
  },
  {
   "cell_type": "code",
   "execution_count": 5,
   "id": "71bc7790",
   "metadata": {},
   "outputs": [
    {
     "ename": "TypeError",
     "evalue": "add() missing 1 required positional argument: 'n2'",
     "output_type": "error",
     "traceback": [
      "\u001b[1;31m---------------------------------------------------------------------------\u001b[0m",
      "\u001b[1;31mTypeError\u001b[0m                                 Traceback (most recent call last)",
      "\u001b[1;32m<ipython-input-5-f5800f3844ff>\u001b[0m in \u001b[0;36m<module>\u001b[1;34m\u001b[0m\n\u001b[1;32m----> 1\u001b[1;33m \u001b[0madd\u001b[0m\u001b[1;33m(\u001b[0m\u001b[1;36m6\u001b[0m\u001b[1;33m)\u001b[0m\u001b[1;33m\u001b[0m\u001b[1;33m\u001b[0m\u001b[0m\n\u001b[0m",
      "\u001b[1;31mTypeError\u001b[0m: add() missing 1 required positional argument: 'n2'"
     ]
    }
   ],
   "source": [
    "add(6)"
   ]
  },
  {
   "cell_type": "code",
   "execution_count": 6,
   "id": "b644b589",
   "metadata": {},
   "outputs": [
    {
     "ename": "TypeError",
     "evalue": "add() takes 2 positional arguments but 3 were given",
     "output_type": "error",
     "traceback": [
      "\u001b[1;31m---------------------------------------------------------------------------\u001b[0m",
      "\u001b[1;31mTypeError\u001b[0m                                 Traceback (most recent call last)",
      "\u001b[1;32m<ipython-input-6-5ffb33ce372d>\u001b[0m in \u001b[0;36m<module>\u001b[1;34m\u001b[0m\n\u001b[1;32m----> 1\u001b[1;33m \u001b[0madd\u001b[0m\u001b[1;33m(\u001b[0m\u001b[1;36m3\u001b[0m\u001b[1;33m,\u001b[0m\u001b[1;36m5\u001b[0m\u001b[1;33m,\u001b[0m\u001b[1;36m7\u001b[0m\u001b[1;33m)\u001b[0m\u001b[1;33m\u001b[0m\u001b[1;33m\u001b[0m\u001b[0m\n\u001b[0m",
      "\u001b[1;31mTypeError\u001b[0m: add() takes 2 positional arguments but 3 were given"
     ]
    }
   ],
   "source": [
    "add(3,5,7)"
   ]
  },
  {
   "cell_type": "markdown",
   "id": "7d99f753",
   "metadata": {},
   "source": [
    "## default arguements"
   ]
  },
  {
   "cell_type": "code",
   "execution_count": null,
   "id": "5dd9c9ba",
   "metadata": {},
   "outputs": [],
   "source": [
    "Argumensts are defined in the very declaration of the function. which means if we fail to pass the parameter value while calling the function, then it takes the by default value that is defined.\n",
    "\n",
    "if the parametric value for default argument is passed, then this value will supersucced the default value defined in declaration of the function.\n",
    "\n",
    "We can pass any number of default arguements\n",
    "\n",
    "no. of params <= no. of arguments\n",
    "\n",
    "default argument always follow positional arguments meaning while decalration first all positional arguments has to be declared first only then default arguments are defined."
   ]
  },
  {
   "cell_type": "code",
   "execution_count": 8,
   "id": "7681dc69",
   "metadata": {},
   "outputs": [
    {
     "data": {
      "text/plain": [
       "20"
      ]
     },
     "execution_count": 8,
     "metadata": {},
     "output_type": "execute_result"
    }
   ],
   "source": [
    "def addition(n1,n2,n3=10):                # positional arguements, default arguements\n",
    "    return n1+n2+n3\n",
    "\n",
    "addition(2,3,15)"
   ]
  },
  {
   "cell_type": "code",
   "execution_count": 9,
   "id": "2dea4dc7",
   "metadata": {},
   "outputs": [
    {
     "data": {
      "text/plain": [
       "15"
      ]
     },
     "execution_count": 9,
     "metadata": {},
     "output_type": "execute_result"
    }
   ],
   "source": [
    "addition(2,3)"
   ]
  },
  {
   "cell_type": "code",
   "execution_count": 12,
   "id": "61117449",
   "metadata": {},
   "outputs": [
    {
     "ename": "SyntaxError",
     "evalue": "non-default argument follows default argument (<ipython-input-12-fcf1ea6aed74>, line 1)",
     "output_type": "error",
     "traceback": [
      "\u001b[1;36m  File \u001b[1;32m\"<ipython-input-12-fcf1ea6aed74>\"\u001b[1;36m, line \u001b[1;32m1\u001b[0m\n\u001b[1;33m    def addition(n3=10,n1):                # positional arguements, default arguements\u001b[0m\n\u001b[1;37m                 ^\u001b[0m\n\u001b[1;31mSyntaxError\u001b[0m\u001b[1;31m:\u001b[0m non-default argument follows default argument\n"
     ]
    }
   ],
   "source": [
    "def addition(n3=10,n1):                # positional arguements, default arguements\n",
    "    return n1+n3\n",
    "\n",
    "addition(15)"
   ]
  },
  {
   "cell_type": "code",
   "execution_count": 14,
   "id": "f1c3d155",
   "metadata": {},
   "outputs": [
    {
     "data": {
      "text/plain": [
       "-5"
      ]
     },
     "execution_count": 14,
     "metadata": {},
     "output_type": "execute_result"
    }
   ],
   "source": [
    "def addition(n1,n2,n3=10,n4=-20):                # positional arguements, default arguements\n",
    "    return n1+n2+n3+n4\n",
    "\n",
    "addition(2,3,15,-25)"
   ]
  },
  {
   "cell_type": "markdown",
   "id": "a8d1ecc1",
   "metadata": {},
   "source": [
    "## Arbitary Arguements(args)"
   ]
  },
  {
   "cell_type": "raw",
   "id": "ab872eae",
   "metadata": {},
   "source": [
    "variable length arguements\n",
    "\n",
    "*args >> *arguements default data type is tuple.\n",
    "\n",
    "used when we do not know the number of arguements we are passing"
   ]
  },
  {
   "cell_type": "code",
   "execution_count": 15,
   "id": "fa5cd5e7",
   "metadata": {},
   "outputs": [
    {
     "name": "stdout",
     "output_type": "stream",
     "text": [
      "5 5 3 3 3\n"
     ]
    },
    {
     "data": {
      "text/plain": [
       "675"
      ]
     },
     "execution_count": 15,
     "metadata": {},
     "output_type": "execute_result"
    }
   ],
   "source": [
    "def mul(n1,n2,n3,n4,n5=10):\n",
    "    print(n1,n2,n3,n4,n5)\n",
    "    return n1*n2*n3*n4*n5\n",
    "\n",
    "mul(5,5,3,3,3)"
   ]
  },
  {
   "cell_type": "code",
   "execution_count": 20,
   "id": "ed6575c2",
   "metadata": {},
   "outputs": [
    {
     "name": "stdout",
     "output_type": "stream",
     "text": [
      "(5, 5, 3, 3, 3)\n"
     ]
    },
    {
     "data": {
      "text/plain": [
       "675"
      ]
     },
     "execution_count": 20,
     "metadata": {},
     "output_type": "execute_result"
    }
   ],
   "source": [
    "def mul(*n1):               # arbitary arguements\n",
    "    print(n1)\n",
    "    a = 1\n",
    "    for i in n1:\n",
    "        a=a*i \n",
    "    return a\n",
    "\n",
    "mul(5,5,3,3,3)"
   ]
  },
  {
   "cell_type": "code",
   "execution_count": 21,
   "id": "cf61530c",
   "metadata": {},
   "outputs": [
    {
     "name": "stdout",
     "output_type": "stream",
     "text": [
      "(5, 5, 3, 3, 3)\n"
     ]
    },
    {
     "data": {
      "text/plain": [
       "('Multiplication of all numbers is: ', 675)"
      ]
     },
     "execution_count": 21,
     "metadata": {},
     "output_type": "execute_result"
    }
   ],
   "source": [
    "# calling a function into another function\n",
    "\n",
    "def loop_return(x):\n",
    "    a = 1\n",
    "    for i in x:\n",
    "        a=a*i \n",
    "    return a\n",
    "\n",
    "\n",
    "def mul(*n1):\n",
    "    print(n1)\n",
    "    return \"Multiplication of all numbers is: \",loop_return(n1)\n",
    "\n",
    "\n",
    "mul(5,5,3,3,3)"
   ]
  },
  {
   "cell_type": "code",
   "execution_count": 23,
   "id": "7ebe14bf",
   "metadata": {},
   "outputs": [
    {
     "name": "stdout",
     "output_type": "stream",
     "text": [
      "5 | 5 | (3, 3, 3)\n"
     ]
    },
    {
     "data": {
      "text/plain": [
       "27"
      ]
     },
     "execution_count": 23,
     "metadata": {},
     "output_type": "execute_result"
    }
   ],
   "source": [
    "def mul(n1,n2 = 15, *n3):\n",
    "    print(n1,n2,n3,sep=' | ')\n",
    "    a = 1\n",
    "    for i in n3:\n",
    "        a=a*i \n",
    "    return a\n",
    "\n",
    "mul(5,5,3,3,3)"
   ]
  },
  {
   "cell_type": "code",
   "execution_count": 27,
   "id": "aad1f075",
   "metadata": {},
   "outputs": [
    {
     "name": "stdout",
     "output_type": "stream",
     "text": [
      "5 | 15 | (5, 3, 3, 3)\n"
     ]
    },
    {
     "data": {
      "text/plain": [
       "135"
      ]
     },
     "execution_count": 27,
     "metadata": {},
     "output_type": "execute_result"
    }
   ],
   "source": [
    "def mul(n1,*abc,n2 = 15):\n",
    "    print(n1,n2,abc,sep=' | ')\n",
    "    a = 1\n",
    "    for i in abc:\n",
    "        a=a*i \n",
    "    return a\n",
    "\n",
    "mul(5,5,3,3,3)"
   ]
  },
  {
   "cell_type": "code",
   "execution_count": 28,
   "id": "3c252c16",
   "metadata": {},
   "outputs": [
    {
     "data": {
      "text/plain": [
       "[3, 15, 2, 21]"
      ]
     },
     "execution_count": 28,
     "metadata": {},
     "output_type": "execute_result"
    }
   ],
   "source": [
    "a,*b,c = 12, 3, 15, 2, 21, 11\n",
    "b"
   ]
  },
  {
   "cell_type": "markdown",
   "id": "3a0675a5",
   "metadata": {},
   "source": [
    "## Keyword Arguments"
   ]
  },
  {
   "cell_type": "raw",
   "id": "cbd77b37",
   "metadata": {},
   "source": [
    "**kwargs >> keyword arguements\n",
    "Data type of **kwargs is by default dict\n",
    "It can also take mulyiple values"
   ]
  },
  {
   "cell_type": "code",
   "execution_count": 30,
   "id": "5f5499a8",
   "metadata": {},
   "outputs": [
    {
     "name": "stdout",
     "output_type": "stream",
     "text": [
      "90 80 95\n"
     ]
    }
   ],
   "source": [
    "def marks(phy=90,che=80,maths=95):\n",
    "    print(phy,che,maths)\n",
    "    \n",
    "marks()"
   ]
  },
  {
   "cell_type": "code",
   "execution_count": 31,
   "id": "d3020e1f",
   "metadata": {},
   "outputs": [
    {
     "name": "stdout",
     "output_type": "stream",
     "text": [
      "92 85 90\n"
     ]
    }
   ],
   "source": [
    "marks(92,85,90)"
   ]
  },
  {
   "cell_type": "code",
   "execution_count": 32,
   "id": "27e20f38",
   "metadata": {},
   "outputs": [
    {
     "name": "stdout",
     "output_type": "stream",
     "text": [
      "50 55 45\n"
     ]
    }
   ],
   "source": [
    "marks(phy=50,che=55,maths=45)"
   ]
  },
  {
   "cell_type": "code",
   "execution_count": 33,
   "id": "fefa3da2",
   "metadata": {},
   "outputs": [
    {
     "name": "stdout",
     "output_type": "stream",
     "text": [
      "50 55 45\n"
     ]
    }
   ],
   "source": [
    "marks(che=55,phy=50,maths=45)"
   ]
  },
  {
   "cell_type": "code",
   "execution_count": 34,
   "id": "e192ed09",
   "metadata": {},
   "outputs": [
    {
     "name": "stdout",
     "output_type": "stream",
     "text": [
      "{'che': 55, 'phy': 50, 'maths': 45}\n",
      "dict_keys(['che', 'phy', 'maths']) dict_values([55, 50, 45])\n"
     ]
    }
   ],
   "source": [
    "def mark(**kwargs):\n",
    "    print(kwargs)\n",
    "    print(kwargs.keys(), kwargs.values())\n",
    "    \n",
    "    \n",
    "mark(che=55,phy=50,maths=45)"
   ]
  },
  {
   "cell_type": "code",
   "execution_count": 35,
   "id": "52900d87",
   "metadata": {},
   "outputs": [
    {
     "name": "stdout",
     "output_type": "stream",
     "text": [
      "v1 & v2 are:  10 20\n",
      "default arguemnt v3 is  0.5\n",
      "Args >> (2, 3, 4, 5)\n",
      "kwargs are -- {'x': -5, 'y': -12, 'z': -10}\n"
     ]
    }
   ],
   "source": [
    "def test_params(v1,v2,v3=100,*args,**kwargs):\n",
    "    print('v1 & v2 are: ',v1,v2)\n",
    "    print('default arguemnt v3 is ',v3)\n",
    "    print('Args >>',args)\n",
    "    print('kwargs are --',kwargs)\n",
    "    \n",
    "test_params(10,20,0.5,2,3,4,5,x=-5,y=-12,z=-10)"
   ]
  },
  {
   "cell_type": "code",
   "execution_count": null,
   "id": "f6b9c70b",
   "metadata": {},
   "outputs": [],
   "source": [
    "# standard sequence is :\n",
    "positional arguements, default arguements, arbitary arguememts, keyword arguem"
   ]
  }
 ],
 "metadata": {
  "kernelspec": {
   "display_name": "Python 3",
   "language": "python",
   "name": "python3"
  },
  "language_info": {
   "codemirror_mode": {
    "name": "ipython",
    "version": 3
   },
   "file_extension": ".py",
   "mimetype": "text/x-python",
   "name": "python",
   "nbconvert_exporter": "python",
   "pygments_lexer": "ipython3",
   "version": "3.8.8"
  },
  "toc": {
   "base_numbering": 1,
   "nav_menu": {},
   "number_sections": true,
   "sideBar": true,
   "skip_h1_title": false,
   "title_cell": "Table of Contents",
   "title_sidebar": "Contents",
   "toc_cell": false,
   "toc_position": {},
   "toc_section_display": true,
   "toc_window_display": false
  },
  "varInspector": {
   "cols": {
    "lenName": 16,
    "lenType": 16,
    "lenVar": 40
   },
   "kernels_config": {
    "python": {
     "delete_cmd_postfix": "",
     "delete_cmd_prefix": "del ",
     "library": "var_list.py",
     "varRefreshCmd": "print(var_dic_list())"
    },
    "r": {
     "delete_cmd_postfix": ") ",
     "delete_cmd_prefix": "rm(",
     "library": "var_list.r",
     "varRefreshCmd": "cat(var_dic_list()) "
    }
   },
   "types_to_exclude": [
    "module",
    "function",
    "builtin_function_or_method",
    "instance",
    "_Feature"
   ],
   "window_display": false
  }
 },
 "nbformat": 4,
 "nbformat_minor": 5
}
