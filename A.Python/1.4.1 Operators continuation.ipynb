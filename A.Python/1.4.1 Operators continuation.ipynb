{
 "cells": [
  {
   "cell_type": "markdown",
   "id": "fad2e865",
   "metadata": {},
   "source": [
    "# Logical Operator"
   ]
  },
  {
   "cell_type": "raw",
   "id": "9d643335",
   "metadata": {},
   "source": [
    "and    >> when both conditions are True\n",
    "or     >> when wither of any condition is True\n",
    "not    >> checks if value is exist or not. if does not exists then True."
   ]
  },
  {
   "cell_type": "code",
   "execution_count": 2,
   "id": "6feb844f",
   "metadata": {},
   "outputs": [
    {
     "name": "stdout",
     "output_type": "stream",
     "text": [
      "either a is not 20 or b is not 20\n"
     ]
    }
   ],
   "source": [
    "a = 10; b = 20\n",
    "\n",
    "if a == 20 and b == 20:\n",
    "    print('a is 20 and b is 20')\n",
    "    \n",
    "else:\n",
    "    print('either a is not 20 or b is not 20')"
   ]
  },
  {
   "cell_type": "raw",
   "id": "89579368",
   "metadata": {},
   "source": [
    "AND condition:\n",
    "    \n",
    "condition 1                  condition 2             Result\n",
    "\n",
    "True                         True                    True\n",
    "True                         False                   False\n",
    "False                        True                    False\n",
    "False                        False                   False\n",
    "\n",
    "\n",
    "OR condition:\n",
    "\n",
    "condition 1                  condition 2             Result\n",
    "\n",
    "True                         True                    True\n",
    "True                         False                   True\n",
    "False                        True                    True\n",
    "False                        False                   False"
   ]
  },
  {
   "cell_type": "code",
   "execution_count": 3,
   "id": "6524d98b",
   "metadata": {},
   "outputs": [
    {
     "name": "stdout",
     "output_type": "stream",
     "text": [
      "a is 20 and b is 20\n"
     ]
    }
   ],
   "source": [
    "a = 10; b = 20\n",
    "\n",
    "if a == 20 or b == 20:\n",
    "    print('a is 20 or b is 20')\n",
    "    \n",
    "else:\n",
    "    print('both a is not 20 and b is not 20')"
   ]
  },
  {
   "cell_type": "code",
   "execution_count": 6,
   "id": "2b5f40c1",
   "metadata": {},
   "outputs": [
    {
     "name": "stdout",
     "output_type": "stream",
     "text": [
      "x exist\n"
     ]
    }
   ],
   "source": [
    "x = 100\n",
    "\n",
    "if not x:\n",
    "    print('x does not exist!')\n",
    "else:\n",
    "    print('x exist')"
   ]
  },
  {
   "cell_type": "code",
   "execution_count": 8,
   "id": "6939b640",
   "metadata": {},
   "outputs": [
    {
     "data": {
      "text/plain": [
       "'x is present'"
      ]
     },
     "metadata": {},
     "output_type": "display_data"
    }
   ],
   "source": [
    "if x:\n",
    "    display('x is present')\n",
    "    \n",
    "else:\n",
    "    display('x is not present')"
   ]
  },
  {
   "cell_type": "markdown",
   "id": "acf6cdbd",
   "metadata": {},
   "source": [
    "# Membership operator"
   ]
  },
  {
   "cell_type": "raw",
   "id": "462a340d",
   "metadata": {},
   "source": [
    "in\n",
    "not in"
   ]
  },
  {
   "cell_type": "code",
   "execution_count": 11,
   "id": "98b322d3",
   "metadata": {},
   "outputs": [
    {
     "name": "stdout",
     "output_type": "stream",
     "text": [
      "2 present in list\n"
     ]
    }
   ],
   "source": [
    "list_dummy = [2,3,4,5]\n",
    "\n",
    "if 2 in list_dummy:\n",
    "    print('2 present in list')\n",
    "    \n",
    "else:\n",
    "    print('2 is absent')"
   ]
  },
  {
   "cell_type": "code",
   "execution_count": 12,
   "id": "a3d2970e",
   "metadata": {},
   "outputs": [
    {
     "name": "stdout",
     "output_type": "stream",
     "text": [
      "2 present in list\n"
     ]
    }
   ],
   "source": [
    "tuple_dummy = (2,3,4,5)\n",
    "\n",
    "if 2 not in tuple_dummy:\n",
    "    print('2 is absent')\n",
    "     \n",
    "else:\n",
    "    print('2 present in tuple')"
   ]
  },
  {
   "cell_type": "markdown",
   "id": "269f1f39",
   "metadata": {},
   "source": [
    "# Comparison Operator"
   ]
  },
  {
   "cell_type": "raw",
   "id": "74a4370f",
   "metadata": {},
   "source": [
    "==     Equals to \n",
    ">=     Greater than equal to\n",
    "<=     Less than equals to\n",
    "!=     Not equals to\n",
    ">      Greater than\n",
    "<      Less than"
   ]
  },
  {
   "cell_type": "code",
   "execution_count": 13,
   "id": "a7d2782a",
   "metadata": {},
   "outputs": [
    {
     "data": {
      "text/plain": [
       "True"
      ]
     },
     "execution_count": 13,
     "metadata": {},
     "output_type": "execute_result"
    }
   ],
   "source": [
    "10 < 20"
   ]
  },
  {
   "cell_type": "code",
   "execution_count": 14,
   "id": "3e4e1c98",
   "metadata": {},
   "outputs": [
    {
     "data": {
      "text/plain": [
       "True"
      ]
     },
     "execution_count": 14,
     "metadata": {},
     "output_type": "execute_result"
    }
   ],
   "source": [
    "a < b"
   ]
  },
  {
   "cell_type": "code",
   "execution_count": 15,
   "id": "100c2f26",
   "metadata": {},
   "outputs": [
    {
     "data": {
      "text/plain": [
       "False"
      ]
     },
     "execution_count": 15,
     "metadata": {},
     "output_type": "execute_result"
    }
   ],
   "source": [
    "a > b"
   ]
  },
  {
   "cell_type": "code",
   "execution_count": 16,
   "id": "87d7d7db",
   "metadata": {},
   "outputs": [
    {
     "data": {
      "text/plain": [
       "False"
      ]
     },
     "execution_count": 16,
     "metadata": {},
     "output_type": "execute_result"
    }
   ],
   "source": [
    "a == b"
   ]
  },
  {
   "cell_type": "code",
   "execution_count": 17,
   "id": "0c71307f",
   "metadata": {},
   "outputs": [
    {
     "data": {
      "text/plain": [
       "True"
      ]
     },
     "execution_count": 17,
     "metadata": {},
     "output_type": "execute_result"
    }
   ],
   "source": [
    "a = b = 15\n",
    "\n",
    "a==b"
   ]
  },
  {
   "cell_type": "code",
   "execution_count": 18,
   "id": "dc759121",
   "metadata": {},
   "outputs": [
    {
     "data": {
      "text/plain": [
       "True"
      ]
     },
     "execution_count": 18,
     "metadata": {},
     "output_type": "execute_result"
    }
   ],
   "source": [
    "(10/2) == (2.5*2)"
   ]
  },
  {
   "cell_type": "code",
   "execution_count": 19,
   "id": "36a8045d",
   "metadata": {},
   "outputs": [
    {
     "data": {
      "text/plain": [
       "False"
      ]
     },
     "execution_count": 19,
     "metadata": {},
     "output_type": "execute_result"
    }
   ],
   "source": [
    "a > b"
   ]
  },
  {
   "cell_type": "code",
   "execution_count": 20,
   "id": "5ebf7695",
   "metadata": {},
   "outputs": [
    {
     "data": {
      "text/plain": [
       "True"
      ]
     },
     "execution_count": 20,
     "metadata": {},
     "output_type": "execute_result"
    }
   ],
   "source": [
    "a >= b"
   ]
  },
  {
   "cell_type": "code",
   "execution_count": 21,
   "id": "3908e7f7",
   "metadata": {},
   "outputs": [
    {
     "data": {
      "text/plain": [
       "True"
      ]
     },
     "execution_count": 21,
     "metadata": {},
     "output_type": "execute_result"
    }
   ],
   "source": [
    "a <= b"
   ]
  },
  {
   "cell_type": "code",
   "execution_count": 22,
   "id": "3400f4dc",
   "metadata": {},
   "outputs": [
    {
     "data": {
      "text/plain": [
       "False"
      ]
     },
     "execution_count": 22,
     "metadata": {},
     "output_type": "execute_result"
    }
   ],
   "source": [
    "a = 10\n",
    "b = 5\n",
    "\n",
    "a <= b"
   ]
  },
  {
   "cell_type": "code",
   "execution_count": 23,
   "id": "f39df4c0",
   "metadata": {},
   "outputs": [
    {
     "data": {
      "text/plain": [
       "True"
      ]
     },
     "execution_count": 23,
     "metadata": {},
     "output_type": "execute_result"
    }
   ],
   "source": [
    "a != b"
   ]
  },
  {
   "cell_type": "code",
   "execution_count": 25,
   "id": "d125457f",
   "metadata": {},
   "outputs": [
    {
     "name": "stdout",
     "output_type": "stream",
     "text": [
      "b is greater\n"
     ]
    }
   ],
   "source": [
    "x,y = 0,2\n",
    "\n",
    "a = x**2 + 5         # 5\n",
    "b = 5*y + 2*x        # 10\n",
    "\n",
    "if a >= b:\n",
    "    print('a is greater or equal')  \n",
    "else:\n",
    "    print('b is greater')"
   ]
  },
  {
   "cell_type": "markdown",
   "id": "406b2f55",
   "metadata": {},
   "source": [
    "# identity operator"
   ]
  },
  {
   "cell_type": "raw",
   "id": "65847555",
   "metadata": {},
   "source": [
    "is                >> works the same as ==\n",
    "is not            >> works the same as !="
   ]
  },
  {
   "cell_type": "code",
   "execution_count": 27,
   "id": "b7c3c437",
   "metadata": {},
   "outputs": [
    {
     "name": "stdout",
     "output_type": "stream",
     "text": [
      "not equal\n"
     ]
    }
   ],
   "source": [
    "a = 10\n",
    "b = 20\n",
    "\n",
    "if a is b:\n",
    "    print('a & b are equal')\n",
    "else: print('not equal')"
   ]
  },
  {
   "cell_type": "code",
   "execution_count": 28,
   "id": "53fe1e33",
   "metadata": {},
   "outputs": [
    {
     "name": "stdout",
     "output_type": "stream",
     "text": [
      "a is not equal to b\n"
     ]
    }
   ],
   "source": [
    "if a is not b:\n",
    "    print('a is not equal to b')"
   ]
  },
  {
   "cell_type": "markdown",
   "id": "87d6b2c7",
   "metadata": {},
   "source": [
    "# Bitwise Operator"
   ]
  },
  {
   "cell_type": "raw",
   "id": "9af14c89",
   "metadata": {},
   "source": [
    "&      Bitwise AND\n",
    "|      Bitwise OR\n",
    "~      Bitwise NOT\n",
    "^      Bitwise XOR"
   ]
  },
  {
   "cell_type": "code",
   "execution_count": 29,
   "id": "534112e5",
   "metadata": {},
   "outputs": [
    {
     "data": {
      "text/plain": [
       "'0b1010'"
      ]
     },
     "execution_count": 29,
     "metadata": {},
     "output_type": "execute_result"
    }
   ],
   "source": [
    "bin(10)"
   ]
  },
  {
   "cell_type": "code",
   "execution_count": 30,
   "id": "db28f919",
   "metadata": {},
   "outputs": [
    {
     "name": "stdout",
     "output_type": "stream",
     "text": [
      "correct\n"
     ]
    }
   ],
   "source": [
    "if a == 10 and b == 20:\n",
    "    print('correct')"
   ]
  },
  {
   "cell_type": "code",
   "execution_count": 31,
   "id": "78f64d37",
   "metadata": {},
   "outputs": [],
   "source": [
    "if a == 10 & b == 20:     \n",
    "    print('correct')"
   ]
  },
  {
   "cell_type": "code",
   "execution_count": 34,
   "id": "ebaafd03",
   "metadata": {},
   "outputs": [
    {
     "data": {
      "text/plain": [
       "8"
      ]
     },
     "execution_count": 34,
     "metadata": {},
     "output_type": "execute_result"
    }
   ],
   "source": [
    "10 & 12"
   ]
  },
  {
   "cell_type": "code",
   "execution_count": 35,
   "id": "61782442",
   "metadata": {},
   "outputs": [
    {
     "data": {
      "text/plain": [
       "'0b1100'"
      ]
     },
     "execution_count": 35,
     "metadata": {},
     "output_type": "execute_result"
    }
   ],
   "source": [
    "bin(12)"
   ]
  },
  {
   "cell_type": "raw",
   "id": "6648350d",
   "metadata": {},
   "source": [
    "1010\n",
    "1100\n",
    "\n",
    "1000    > 8"
   ]
  },
  {
   "cell_type": "code",
   "execution_count": 36,
   "id": "67c71d6f",
   "metadata": {},
   "outputs": [
    {
     "data": {
      "text/plain": [
       "8"
      ]
     },
     "execution_count": 36,
     "metadata": {},
     "output_type": "execute_result"
    }
   ],
   "source": [
    "int('1000',2)"
   ]
  },
  {
   "cell_type": "code",
   "execution_count": 37,
   "id": "f6110df7",
   "metadata": {},
   "outputs": [
    {
     "data": {
      "text/plain": [
       "14"
      ]
     },
     "execution_count": 37,
     "metadata": {},
     "output_type": "execute_result"
    }
   ],
   "source": [
    "10 | 12"
   ]
  },
  {
   "cell_type": "raw",
   "id": "22a37f58",
   "metadata": {},
   "source": [
    "1010\n",
    "1100\n",
    "\n",
    "1110    > 14"
   ]
  },
  {
   "cell_type": "code",
   "execution_count": 38,
   "id": "69bc2fbc",
   "metadata": {},
   "outputs": [
    {
     "data": {
      "text/plain": [
       "'0b1110'"
      ]
     },
     "execution_count": 38,
     "metadata": {},
     "output_type": "execute_result"
    }
   ],
   "source": [
    "bin(14)"
   ]
  },
  {
   "cell_type": "code",
   "execution_count": 39,
   "id": "44d4a469",
   "metadata": {},
   "outputs": [
    {
     "data": {
      "text/plain": [
       "-11"
      ]
     },
     "execution_count": 39,
     "metadata": {},
     "output_type": "execute_result"
    }
   ],
   "source": [
    "~(10)"
   ]
  },
  {
   "cell_type": "code",
   "execution_count": 40,
   "id": "a12bfbcc",
   "metadata": {},
   "outputs": [
    {
     "data": {
      "text/plain": [
       "-11"
      ]
     },
     "execution_count": 40,
     "metadata": {},
     "output_type": "execute_result"
    }
   ],
   "source": [
    "-(10)-1"
   ]
  },
  {
   "cell_type": "code",
   "execution_count": 41,
   "id": "3fb2a36b",
   "metadata": {},
   "outputs": [
    {
     "data": {
      "text/plain": [
       "-6"
      ]
     },
     "execution_count": 41,
     "metadata": {},
     "output_type": "execute_result"
    }
   ],
   "source": [
    "~(5)"
   ]
  },
  {
   "cell_type": "code",
   "execution_count": 42,
   "id": "90655726",
   "metadata": {},
   "outputs": [
    {
     "data": {
      "text/plain": [
       "9"
      ]
     },
     "execution_count": 42,
     "metadata": {},
     "output_type": "execute_result"
    }
   ],
   "source": [
    "~(-10)    # -(-10)-1     >> 10-1"
   ]
  },
  {
   "cell_type": "code",
   "execution_count": 43,
   "id": "f84b33c2",
   "metadata": {},
   "outputs": [
    {
     "data": {
      "text/plain": [
       "1"
      ]
     },
     "execution_count": 43,
     "metadata": {},
     "output_type": "execute_result"
    }
   ],
   "source": [
    "10^11"
   ]
  },
  {
   "cell_type": "raw",
   "id": "97b0c566",
   "metadata": {},
   "source": [
    "1010\n",
    "1011\n",
    "\n",
    "0001"
   ]
  },
  {
   "cell_type": "code",
   "execution_count": 44,
   "id": "011d9c3f",
   "metadata": {},
   "outputs": [
    {
     "data": {
      "text/plain": [
       "6"
      ]
     },
     "execution_count": 44,
     "metadata": {},
     "output_type": "execute_result"
    }
   ],
   "source": [
    "10^12"
   ]
  },
  {
   "cell_type": "raw",
   "id": "d6de1761",
   "metadata": {},
   "source": [
    "1010\n",
    "1100\n",
    "\n",
    "0110   >> 6"
   ]
  },
  {
   "cell_type": "markdown",
   "id": "65ed8cc3",
   "metadata": {},
   "source": [
    "# BODMAS Rule  "
   ]
  },
  {
   "cell_type": "code",
   "execution_count": null,
   "id": "402514c2",
   "metadata": {},
   "outputs": [],
   "source": [
    "# sequence of mathematical operators\n",
    "\n",
    "#Bracket order(power) Division Multiplication Addition & Subtraction\n",
    "\n",
    "1. ()   >> Paranthesis\n",
    "2. **   >> Power\n",
    "3. * / // \n",
    "4. + -"
   ]
  },
  {
   "cell_type": "code",
   "execution_count": null,
   "id": "f71ccfc6",
   "metadata": {},
   "outputs": [],
   "source": []
  }
 ],
 "metadata": {
  "kernelspec": {
   "display_name": "Python 3 (ipykernel)",
   "language": "python",
   "name": "python3"
  },
  "language_info": {
   "codemirror_mode": {
    "name": "ipython",
    "version": 3
   },
   "file_extension": ".py",
   "mimetype": "text/x-python",
   "name": "python",
   "nbconvert_exporter": "python",
   "pygments_lexer": "ipython3",
   "version": "3.9.12"
  }
 },
 "nbformat": 4,
 "nbformat_minor": 5
}
