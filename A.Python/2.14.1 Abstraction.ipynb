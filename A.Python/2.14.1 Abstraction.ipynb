{
 "cells": [
  {
   "cell_type": "raw",
   "id": "2141eae4",
   "metadata": {},
   "source": [
    "Blueprint for another classes\n",
    "by defualt python doesn have abstract method inbuilt, it has to be called from the abc library\n",
    "we dont create an object of abstract classes\n",
    "Abstract class is mostly used for declaration purpose, generally not used for implementationb"
   ]
  },
  {
   "cell_type": "code",
   "execution_count": null,
   "id": "643064c4",
   "metadata": {},
   "outputs": [],
   "source": [
    "from abc import ABC, abstractclassmethod\n",
    "\n",
    "class Metabdata(ABC):                  # Abstract class defined here\n",
    "    \n",
    "    @abstractclassmethod               # abstract decorator\n",
    "    def lacks(self):                   # abstract method\n",
    "        pass\n",
    "    \n",
    "    @abstractclassmethod\n",
    "    def thousands(self):\n",
    "        pass\n",
    "    \n",
    "    @abstractclassmethod\n",
    "    def hunreds(self):\n",
    "        pass\n",
    "    \n",
    "        \n",
    "class use(Metabdata):\n",
    "    \n",
    "\n",
    "    def lacks(self):\n",
    "        pass\n",
    "    \n",
    "    def thousands(self):\n",
    "        pass\n",
    "    \n",
    "    def hunreds(self):\n",
    "        pass"
   ]
  },
  {
   "cell_type": "code",
   "execution_count": 6,
   "id": "d00d87a6",
   "metadata": {},
   "outputs": [
    {
     "name": "stdout",
     "output_type": "stream",
     "text": [
      "New Registration here\n",
      "password created here\n",
      "login done here\n",
      "processing documents here\n"
     ]
    }
   ],
   "source": [
    "from abc import ABC, abstractclassmethod\n",
    "\n",
    "class Netbanking(ABC):                  # Abstract class defined here\n",
    "    \n",
    "    @abstractclassmethod               # abstract decorator\n",
    "    def New_Registration(self):                   # abstract method\n",
    "        pass\n",
    "    \n",
    "    @abstractclassmethod\n",
    "    def Data_storage(self):\n",
    "        pass\n",
    "    \n",
    "    @abstractclassmethod\n",
    "    def Login(self):\n",
    "        print('hi')\n",
    "        \n",
    "    def process_documents(self):\n",
    "        print('processing documents here')\n",
    "        \n",
    "        \n",
    "class access(Netbanking):\n",
    "    \n",
    "\n",
    "    def New_Registration(self):                   # abstract method\n",
    "        print('New Registration here')\n",
    "    \n",
    "    def Data_storage(self):\n",
    "        print('Data storage here')\n",
    "    \n",
    "    def Login(self):\n",
    "        print('login done here')\n",
    "       \n",
    "    def Password(self):\n",
    "        print('password created here')\n",
    "        \n",
    "        \n",
    "\n",
    "NB = access()\n",
    "NB.New_Registration()\n",
    "NB.Password()\n",
    "NB.Login()\n",
    "NB.process_documents()"
   ]
  },
  {
   "cell_type": "code",
   "execution_count": null,
   "id": "b433fd4e",
   "metadata": {},
   "outputs": [],
   "source": []
  }
 ],
 "metadata": {
  "kernelspec": {
   "display_name": "Python 3",
   "language": "python",
   "name": "python3"
  },
  "language_info": {
   "codemirror_mode": {
    "name": "ipython",
    "version": 3
   },
   "file_extension": ".py",
   "mimetype": "text/x-python",
   "name": "python",
   "nbconvert_exporter": "python",
   "pygments_lexer": "ipython3",
   "version": "3.8.8"
  },
  "toc": {
   "base_numbering": 1,
   "nav_menu": {},
   "number_sections": true,
   "sideBar": true,
   "skip_h1_title": false,
   "title_cell": "Table of Contents",
   "title_sidebar": "Contents",
   "toc_cell": false,
   "toc_position": {},
   "toc_section_display": true,
   "toc_window_display": false
  },
  "varInspector": {
   "cols": {
    "lenName": 16,
    "lenType": 16,
    "lenVar": 40
   },
   "kernels_config": {
    "python": {
     "delete_cmd_postfix": "",
     "delete_cmd_prefix": "del ",
     "library": "var_list.py",
     "varRefreshCmd": "print(var_dic_list())"
    },
    "r": {
     "delete_cmd_postfix": ") ",
     "delete_cmd_prefix": "rm(",
     "library": "var_list.r",
     "varRefreshCmd": "cat(var_dic_list()) "
    }
   },
   "types_to_exclude": [
    "module",
    "function",
    "builtin_function_or_method",
    "instance",
    "_Feature"
   ],
   "window_display": false
  }
 },
 "nbformat": 4,
 "nbformat_minor": 5
}
