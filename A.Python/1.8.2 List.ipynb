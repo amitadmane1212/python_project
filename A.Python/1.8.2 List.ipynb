{
 "cells": [
  {
   "cell_type": "code",
   "execution_count": 1,
   "id": "700500f6",
   "metadata": {},
   "outputs": [
    {
     "data": {
      "text/plain": [
       "[1, 2, 3, 4]"
      ]
     },
     "execution_count": 1,
     "metadata": {},
     "output_type": "execute_result"
    }
   ],
   "source": [
    "new_list = [1,2,3,4]\n",
    "new_list"
   ]
  },
  {
   "cell_type": "code",
   "execution_count": 3,
   "id": "2c920edf",
   "metadata": {},
   "outputs": [
    {
     "data": {
      "text/plain": [
       "list"
      ]
     },
     "execution_count": 3,
     "metadata": {},
     "output_type": "execute_result"
    }
   ],
   "source": [
    "type(new_list)"
   ]
  },
  {
   "cell_type": "markdown",
   "id": "336244b7",
   "metadata": {},
   "source": [
    "# List"
   ]
  },
  {
   "cell_type": "raw",
   "id": "0022f6c7",
   "metadata": {},
   "source": [
    "list is a collection of items or entities that are enclosed within square braces & separated by commas.\n",
    "list is used to store multiple values. It can store different data types that can include int, float, complex, list, tuple, differentct, set, series, dataframes & even models etc..\n",
    "\n",
    "whenever a list is called it returns the data in the ordered format\n",
    "Mutable(changebale, editable) : the values inside the list can be changed or modified!\n",
    "Mutable data types are the onces which can be modified by accessing indexing. When the id location changes they are immutable else mutable.\n",
    "List allows duplicate items."
   ]
  },
  {
   "cell_type": "code",
   "execution_count": 5,
   "id": "9be299e9",
   "metadata": {},
   "outputs": [
    {
     "data": {
      "text/plain": [
       "[1,\n",
       " 1.2,\n",
       " (3+4j),\n",
       " 'Python',\n",
       " [3, 4, 5],\n",
       " (4, 'hi'),\n",
       " {3, 4},\n",
       " {'A': 1, 'B': 2},\n",
       " True,\n",
       " False,\n",
       " '%']"
      ]
     },
     "execution_count": 5,
     "metadata": {},
     "output_type": "execute_result"
    }
   ],
   "source": [
    "list1 = [1,1.2,3+4j,'Python',[3,4,5],(4,'hi'),{3,4},{'A':1,'B':2},True,False,'%']\n",
    "list1"
   ]
  },
  {
   "cell_type": "code",
   "execution_count": 6,
   "id": "f5f0d00e",
   "metadata": {},
   "outputs": [
    {
     "data": {
      "text/plain": [
       "1"
      ]
     },
     "execution_count": 6,
     "metadata": {},
     "output_type": "execute_result"
    }
   ],
   "source": [
    "list1[0]"
   ]
  },
  {
   "cell_type": "code",
   "execution_count": 8,
   "id": "323ce5cd",
   "metadata": {},
   "outputs": [
    {
     "data": {
      "text/plain": [
       "'%'"
      ]
     },
     "execution_count": 8,
     "metadata": {},
     "output_type": "execute_result"
    }
   ],
   "source": [
    "list1[-1]"
   ]
  },
  {
   "cell_type": "code",
   "execution_count": 9,
   "id": "77512ab9",
   "metadata": {},
   "outputs": [
    {
     "data": {
      "text/plain": [
       "[]"
      ]
     },
     "execution_count": 9,
     "metadata": {},
     "output_type": "execute_result"
    }
   ],
   "source": [
    "# Define an empty list\n",
    "\n",
    "e_list = list()\n",
    "e_list"
   ]
  },
  {
   "cell_type": "code",
   "execution_count": 10,
   "id": "22751795",
   "metadata": {},
   "outputs": [
    {
     "data": {
      "text/plain": [
       "[]"
      ]
     },
     "execution_count": 10,
     "metadata": {},
     "output_type": "execute_result"
    }
   ],
   "source": [
    "e_list = []\n",
    "e_list"
   ]
  },
  {
   "cell_type": "markdown",
   "id": "8085ed3b",
   "metadata": {},
   "source": [
    "# indexing"
   ]
  },
  {
   "cell_type": "raw",
   "id": "e7b762c9",
   "metadata": {},
   "source": [
    "works same as that of string\n",
    "\n",
    "indexing starts from 0 for positive indices\n",
    "indexing starts from -1 for negative indices"
   ]
  },
  {
   "cell_type": "code",
   "execution_count": 11,
   "id": "85c1465d",
   "metadata": {},
   "outputs": [
    {
     "data": {
      "text/plain": [
       "[1, 3, 4, 7, 'Hello']"
      ]
     },
     "execution_count": 11,
     "metadata": {},
     "output_type": "execute_result"
    }
   ],
   "source": [
    "list1 = [1,3,4,7,'Hello']\n",
    "list1"
   ]
  },
  {
   "cell_type": "code",
   "execution_count": 12,
   "id": "25ae9e72",
   "metadata": {},
   "outputs": [
    {
     "data": {
      "text/plain": [
       "7"
      ]
     },
     "execution_count": 12,
     "metadata": {},
     "output_type": "execute_result"
    }
   ],
   "source": [
    "list1[-2]"
   ]
  },
  {
   "cell_type": "code",
   "execution_count": 13,
   "id": "d18919a1",
   "metadata": {},
   "outputs": [
    {
     "data": {
      "text/plain": [
       "4"
      ]
     },
     "execution_count": 13,
     "metadata": {},
     "output_type": "execute_result"
    }
   ],
   "source": [
    "list1[-2]-list1[1]    # 7-3"
   ]
  },
  {
   "cell_type": "code",
   "execution_count": 14,
   "id": "c021474d",
   "metadata": {},
   "outputs": [
    {
     "data": {
      "text/plain": [
       "5"
      ]
     },
     "execution_count": 14,
     "metadata": {},
     "output_type": "execute_result"
    }
   ],
   "source": [
    "len(list1)"
   ]
  },
  {
   "cell_type": "code",
   "execution_count": 16,
   "id": "e104d2c0",
   "metadata": {},
   "outputs": [
    {
     "data": {
      "text/plain": [
       "['hi', 'hello', 'namaste']"
      ]
     },
     "execution_count": 16,
     "metadata": {},
     "output_type": "execute_result"
    }
   ],
   "source": [
    "list2 = [1,4,7,['hi','hello','namaste'],9,2]\n",
    "\n",
    "insider_info = list2[3]\n",
    "insider_info"
   ]
  },
  {
   "cell_type": "code",
   "execution_count": 17,
   "id": "c883422b",
   "metadata": {},
   "outputs": [
    {
     "data": {
      "text/plain": [
       "'namaste'"
      ]
     },
     "execution_count": 17,
     "metadata": {},
     "output_type": "execute_result"
    }
   ],
   "source": [
    "insider_info[2]"
   ]
  },
  {
   "cell_type": "code",
   "execution_count": 18,
   "id": "cd94bb13",
   "metadata": {},
   "outputs": [
    {
     "data": {
      "text/plain": [
       "'namaste'"
      ]
     },
     "execution_count": 18,
     "metadata": {},
     "output_type": "execute_result"
    }
   ],
   "source": [
    "list2[3][2]"
   ]
  },
  {
   "cell_type": "code",
   "execution_count": 21,
   "id": "179fd36f",
   "metadata": {},
   "outputs": [
    {
     "data": {
      "text/plain": [
       "'namaste'"
      ]
     },
     "execution_count": 21,
     "metadata": {},
     "output_type": "execute_result"
    }
   ],
   "source": [
    "list2[-3][-1]"
   ]
  },
  {
   "cell_type": "markdown",
   "id": "4c2af0fa",
   "metadata": {},
   "source": [
    "# slicing"
   ]
  },
  {
   "cell_type": "code",
   "execution_count": 22,
   "id": "232f530b",
   "metadata": {},
   "outputs": [
    {
     "data": {
      "text/plain": [
       "[3, 4, 7, 'Hello']"
      ]
     },
     "execution_count": 22,
     "metadata": {},
     "output_type": "execute_result"
    }
   ],
   "source": [
    "list1 = [1,3,4,7,'Hello']\n",
    "list1[1:5]"
   ]
  },
  {
   "cell_type": "code",
   "execution_count": 23,
   "id": "d0b20143",
   "metadata": {},
   "outputs": [
    {
     "data": {
      "text/plain": [
       "[3, 7]"
      ]
     },
     "execution_count": 23,
     "metadata": {},
     "output_type": "execute_result"
    }
   ],
   "source": [
    "list1 = [1,3,4,7,'Hello']\n",
    "list1[1:5:2]"
   ]
  },
  {
   "cell_type": "code",
   "execution_count": 30,
   "id": "1972794c",
   "metadata": {},
   "outputs": [
    {
     "data": {
      "text/plain": [
       "['Hello', 4]"
      ]
     },
     "execution_count": 30,
     "metadata": {},
     "output_type": "execute_result"
    }
   ],
   "source": [
    "list1 = [1,3,4,7,'Hello']\n",
    "list1[-1:1:-2]"
   ]
  },
  {
   "cell_type": "markdown",
   "id": "773583e9",
   "metadata": {},
   "source": [
    "# reversing a string"
   ]
  },
  {
   "cell_type": "code",
   "execution_count": 31,
   "id": "e3e6947d",
   "metadata": {},
   "outputs": [
    {
     "data": {
      "text/plain": [
       "[1, 3, 4, 7, 'Hello']"
      ]
     },
     "execution_count": 31,
     "metadata": {},
     "output_type": "execute_result"
    }
   ],
   "source": [
    "list1"
   ]
  },
  {
   "cell_type": "code",
   "execution_count": 25,
   "id": "4f262bc3",
   "metadata": {},
   "outputs": [
    {
     "data": {
      "text/plain": [
       "['Hello', 7, 4, 3, 1]"
      ]
     },
     "execution_count": 25,
     "metadata": {},
     "output_type": "execute_result"
    }
   ],
   "source": [
    "list1[::-1]"
   ]
  },
  {
   "cell_type": "markdown",
   "id": "5ad914d8",
   "metadata": {},
   "source": [
    "### reverse function"
   ]
  },
  {
   "cell_type": "raw",
   "id": "fe238e68",
   "metadata": {},
   "source": [
    "reverse function to be used after the list\n",
    "it modified the original list >> the list on which reverse function was used that is reversed & saved into original variable"
   ]
  },
  {
   "cell_type": "code",
   "execution_count": null,
   "id": "2083038b",
   "metadata": {},
   "outputs": [],
   "source": [
    "list1 = list1[::-1]"
   ]
  },
  {
   "cell_type": "code",
   "execution_count": 28,
   "id": "656791c7",
   "metadata": {},
   "outputs": [
    {
     "data": {
      "text/plain": [
       "['Hello', 7, 4, 3, 1]"
      ]
     },
     "execution_count": 28,
     "metadata": {},
     "output_type": "execute_result"
    }
   ],
   "source": [
    "list1.reverse()\n",
    "list1"
   ]
  },
  {
   "cell_type": "markdown",
   "id": "32b6bad5",
   "metadata": {},
   "source": [
    "### reversed function"
   ]
  },
  {
   "cell_type": "code",
   "execution_count": null,
   "id": "b0435067",
   "metadata": {},
   "outputs": [],
   "source": [
    "It creates a generator object that has the list reversed of the original list"
   ]
  },
  {
   "cell_type": "code",
   "execution_count": 35,
   "id": "ad7e8c72",
   "metadata": {},
   "outputs": [
    {
     "data": {
      "text/plain": [
       "<list_reverseiterator at 0x1f7ff3df430>"
      ]
     },
     "execution_count": 35,
     "metadata": {},
     "output_type": "execute_result"
    }
   ],
   "source": [
    "reversed(list1)"
   ]
  },
  {
   "cell_type": "code",
   "execution_count": 34,
   "id": "61fdabc1",
   "metadata": {
    "scrolled": true
   },
   "outputs": [
    {
     "data": {
      "text/plain": [
       "['Hello', 7, 4, 3, 1]"
      ]
     },
     "execution_count": 34,
     "metadata": {},
     "output_type": "execute_result"
    }
   ],
   "source": [
    "list(reversed(list1))"
   ]
  },
  {
   "cell_type": "code",
   "execution_count": 36,
   "id": "06d4b106",
   "metadata": {},
   "outputs": [
    {
     "name": "stdout",
     "output_type": "stream",
     "text": [
      "Hello\n",
      "7\n",
      "4\n",
      "3\n",
      "1\n"
     ]
    }
   ],
   "source": [
    "for i in reversed(list1):\n",
    "    print(i)"
   ]
  },
  {
   "cell_type": "markdown",
   "id": "9df21770",
   "metadata": {},
   "source": [
    "# id function"
   ]
  },
  {
   "cell_type": "code",
   "execution_count": 38,
   "id": "190d74ef",
   "metadata": {},
   "outputs": [
    {
     "data": {
      "text/plain": [
       "2164662649984"
      ]
     },
     "execution_count": 38,
     "metadata": {},
     "output_type": "execute_result"
    }
   ],
   "source": [
    "id(list1)"
   ]
  },
  {
   "cell_type": "code",
   "execution_count": 41,
   "id": "a029366f",
   "metadata": {},
   "outputs": [
    {
     "name": "stdout",
     "output_type": "stream",
     "text": [
      "[1, 3, 4, 7, 'Hello']\n",
      "hello is present!\n"
     ]
    }
   ],
   "source": [
    "print(list1)\n",
    "\n",
    "if 'Hello' in list1:\n",
    "    print('hello is present!')"
   ]
  },
  {
   "cell_type": "code",
   "execution_count": 43,
   "id": "b701b5c3",
   "metadata": {},
   "outputs": [
    {
     "name": "stdout",
     "output_type": "stream",
     "text": [
      "larger index value is greater!\n"
     ]
    }
   ],
   "source": [
    "if list1[1] < list1[2] > list1[0]:\n",
    "    print('larger index value is greater!')"
   ]
  },
  {
   "cell_type": "markdown",
   "id": "e7d8787f",
   "metadata": {},
   "source": [
    "# checking all the items in list"
   ]
  },
  {
   "cell_type": "code",
   "execution_count": 44,
   "id": "a6af2020",
   "metadata": {},
   "outputs": [
    {
     "name": "stdout",
     "output_type": "stream",
     "text": [
      "Noida\n",
      "Gurgaon\n",
      "Mumbai\n",
      "Pune\n",
      "Nashik\n",
      "Nagpur\n",
      "Solapur\n"
     ]
    }
   ],
   "source": [
    "cities = ['Noida','Gurgaon','Mumbai','Pune','Nashik','Nagpur','Solapur']\n",
    "\n",
    "for city in cities:\n",
    "    print(city)"
   ]
  },
  {
   "cell_type": "code",
   "execution_count": 55,
   "id": "70d47740",
   "metadata": {},
   "outputs": [
    {
     "name": "stdout",
     "output_type": "stream",
     "text": [
      "Noida\n",
      "Gurgaon\n",
      "Mumbai\n",
      "Pune\n",
      "Nashik\n",
      "Nagpur\n",
      "Solapur\n"
     ]
    }
   ],
   "source": [
    "cities = ['Noida','Gurgaon','Mumbai','Pune','Nashik','Nagpur','Solapur']\n",
    "\n",
    "for i in cities:\n",
    "    print(i)"
   ]
  },
  {
   "cell_type": "code",
   "execution_count": 45,
   "id": "b378b592",
   "metadata": {},
   "outputs": [
    {
     "name": "stdout",
     "output_type": "stream",
     "text": [
      "index is  0 & city is  Noida\n",
      "index is  1 & city is  Gurgaon\n",
      "index is  2 & city is  Mumbai\n",
      "index is  3 & city is  Pune\n",
      "index is  4 & city is  Nashik\n",
      "index is  5 & city is  Nagpur\n",
      "index is  6 & city is  Solapur\n"
     ]
    }
   ],
   "source": [
    "cities = ['Noida','Gurgaon','Mumbai','Pune','Nashik','Nagpur','Solapur']\n",
    "index = 0\n",
    "\n",
    "for city in cities:\n",
    "    print('index is ',index,'& city is ',city)\n",
    "    index += 1"
   ]
  },
  {
   "cell_type": "code",
   "execution_count": 51,
   "id": "76d67627",
   "metadata": {},
   "outputs": [
    {
     "name": "stdout",
     "output_type": "stream",
     "text": [
      "(0, 'Noida')\n",
      "(1, 'Gurgaon')\n",
      "(2, 'Mumbai')\n",
      "(3, 'Pune')\n",
      "(4, 'Nashik')\n",
      "(5, 'Nagpur')\n",
      "(6, 'Solapur')\n",
      "(7, 'Malegaon')\n",
      "(8, 'Mayapur')\n"
     ]
    }
   ],
   "source": [
    "for city in enumerate(cities):\n",
    "    print(city)"
   ]
  },
  {
   "cell_type": "code",
   "execution_count": 53,
   "id": "69fb2ad7",
   "metadata": {},
   "outputs": [
    {
     "name": "stdout",
     "output_type": "stream",
     "text": [
      "index is 0 Noida\n",
      "index is 1 Gurgaon\n",
      "index is 2 Mumbai\n",
      "index is 3 Pune\n",
      "index is 4 Nashik\n",
      "index is 5 Nagpur\n",
      "index is 6 Solapur\n",
      "index is 7 Malegaon\n",
      "index is 8 Mayapur\n"
     ]
    }
   ],
   "source": [
    "for city in enumerate(cities):\n",
    "    print(city[0],city[1])"
   ]
  },
  {
   "cell_type": "code",
   "execution_count": 54,
   "id": "522e8a02",
   "metadata": {},
   "outputs": [
    {
     "name": "stdout",
     "output_type": "stream",
     "text": [
      "0 Noida\n",
      "1 Gurgaon\n",
      "2 Mumbai\n",
      "3 Pune\n",
      "4 Nashik\n",
      "5 Nagpur\n",
      "6 Solapur\n",
      "7 Malegaon\n",
      "8 Mayapur\n"
     ]
    }
   ],
   "source": [
    "for index, city in enumerate(cities):\n",
    "    print(index,city)"
   ]
  },
  {
   "cell_type": "code",
   "execution_count": 47,
   "id": "e15d6de5",
   "metadata": {},
   "outputs": [
    {
     "name": "stdout",
     "output_type": "stream",
     "text": [
      "['Noida', 'Gurgaon', 'Mumbai', 'Pune', 'Nashik', 'Nagpur', 'Solapur', 'Malegaon', 'Mayapur']\n"
     ]
    },
    {
     "data": {
      "text/plain": [
       "['Mumbai', 'Malegaon', 'Mayapur']"
      ]
     },
     "execution_count": 47,
     "metadata": {},
     "output_type": "execute_result"
    }
   ],
   "source": [
    "cities = ['Noida','Gurgaon','Mumbai','Pune','Nashik','Nagpur','Solapur','Malegaon','Mayapur']\n",
    "M_starting_cities = []\n",
    "\n",
    "for city in cities:\n",
    "    if city.startswith('M'):\n",
    "        M_starting_cities.append(city)\n",
    "#         M_starting_cities = M_starting_cities + [city]\n",
    "    \n",
    "print(cities)\n",
    "M_starting_cities"
   ]
  },
  {
   "cell_type": "code",
   "execution_count": 48,
   "id": "e9fb8487",
   "metadata": {},
   "outputs": [
    {
     "data": {
      "text/plain": [
       "['Mumbai', 'Malegaon', 'Mayapur', 'Mahad']"
      ]
     },
     "execution_count": 48,
     "metadata": {},
     "output_type": "execute_result"
    }
   ],
   "source": [
    "M_starting_cities+['Mahad']"
   ]
  },
  {
   "cell_type": "code",
   "execution_count": 49,
   "id": "ede8c834",
   "metadata": {},
   "outputs": [
    {
     "data": {
      "text/plain": [
       "'hi hello'"
      ]
     },
     "execution_count": 49,
     "metadata": {},
     "output_type": "execute_result"
    }
   ],
   "source": [
    "'hi' + ' hello'"
   ]
  },
  {
   "cell_type": "code",
   "execution_count": null,
   "id": "9e363193",
   "metadata": {},
   "outputs": [],
   "source": []
  }
 ],
 "metadata": {
  "kernelspec": {
   "display_name": "Python 3",
   "language": "python",
   "name": "python3"
  },
  "language_info": {
   "codemirror_mode": {
    "name": "ipython",
    "version": 3
   },
   "file_extension": ".py",
   "mimetype": "text/x-python",
   "name": "python",
   "nbconvert_exporter": "python",
   "pygments_lexer": "ipython3",
   "version": "3.8.8"
  },
  "toc": {
   "base_numbering": 1,
   "nav_menu": {},
   "number_sections": true,
   "sideBar": true,
   "skip_h1_title": false,
   "title_cell": "Table of Contents",
   "title_sidebar": "Contents",
   "toc_cell": false,
   "toc_position": {},
   "toc_section_display": true,
   "toc_window_display": false
  },
  "varInspector": {
   "cols": {
    "lenName": 16,
    "lenType": 16,
    "lenVar": 40
   },
   "kernels_config": {
    "python": {
     "delete_cmd_postfix": "",
     "delete_cmd_prefix": "del ",
     "library": "var_list.py",
     "varRefreshCmd": "print(var_dic_list())"
    },
    "r": {
     "delete_cmd_postfix": ") ",
     "delete_cmd_prefix": "rm(",
     "library": "var_list.r",
     "varRefreshCmd": "cat(var_dic_list()) "
    }
   },
   "types_to_exclude": [
    "module",
    "function",
    "builtin_function_or_method",
    "instance",
    "_Feature"
   ],
   "window_display": false
  }
 },
 "nbformat": 4,
 "nbformat_minor": 5
}
