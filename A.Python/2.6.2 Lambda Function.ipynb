{
 "cells": [
  {
   "cell_type": "markdown",
   "id": "53536c0b",
   "metadata": {},
   "source": [
    "# Lambda Function"
   ]
  },
  {
   "cell_type": "raw",
   "id": "452f0469",
   "metadata": {},
   "source": [
    "Lambda function: \n",
    "    Anonymous function. Function without name defined by using lambda keyword.\n",
    "    no need to return or yield in this function\n",
    "    it is a short hand function"
   ]
  },
  {
   "cell_type": "raw",
   "id": "147ca8a0",
   "metadata": {},
   "source": [
    "# Syntax of Lambda\n",
    "\n",
    "lambda arguements : expression(operation on arguements)\n",
    "\n",
    "arguments here can be 1 or ore arguments"
   ]
  },
  {
   "cell_type": "raw",
   "id": "aa997697",
   "metadata": {},
   "source": [
    "lambda a:a**2\n",
    "lamda a,b:a+b"
   ]
  },
  {
   "cell_type": "code",
   "execution_count": 2,
   "id": "e414b79c",
   "metadata": {},
   "outputs": [
    {
     "data": {
      "text/plain": [
       "25"
      ]
     },
     "execution_count": 2,
     "metadata": {},
     "output_type": "execute_result"
    }
   ],
   "source": [
    "def sqr(n):return n**2\n",
    "\n",
    "sqr(5)"
   ]
  },
  {
   "cell_type": "code",
   "execution_count": 3,
   "id": "7f9fc13f",
   "metadata": {},
   "outputs": [
    {
     "data": {
      "text/plain": [
       "25"
      ]
     },
     "execution_count": 3,
     "metadata": {},
     "output_type": "execute_result"
    }
   ],
   "source": [
    "(lambda a:a**2)(5)"
   ]
  },
  {
   "cell_type": "code",
   "execution_count": 4,
   "id": "2bb61279",
   "metadata": {},
   "outputs": [
    {
     "data": {
      "text/plain": [
       "25"
      ]
     },
     "execution_count": 4,
     "metadata": {},
     "output_type": "execute_result"
    }
   ],
   "source": [
    "square = lambda a:a**2\n",
    "square(5)"
   ]
  },
  {
   "cell_type": "code",
   "execution_count": 6,
   "id": "fb9cb897",
   "metadata": {},
   "outputs": [
    {
     "data": {
      "text/plain": [
       "11"
      ]
     },
     "execution_count": 6,
     "metadata": {},
     "output_type": "execute_result"
    }
   ],
   "source": [
    "addition = lambda a,b:a+b\n",
    "addition(5,6)"
   ]
  },
  {
   "cell_type": "code",
   "execution_count": 7,
   "id": "93f83b8a",
   "metadata": {},
   "outputs": [
    {
     "name": "stdout",
     "output_type": "stream",
     "text": [
      "6\n"
     ]
    }
   ],
   "source": [
    "addition = lambda a,b:print(a) if a>b else print(b)\n",
    "addition(5,6)"
   ]
  },
  {
   "cell_type": "code",
   "execution_count": 8,
   "id": "3a5df88f",
   "metadata": {},
   "outputs": [
    {
     "data": {
      "text/plain": [
       "31"
      ]
     },
     "execution_count": 8,
     "metadata": {},
     "output_type": "execute_result"
    }
   ],
   "source": [
    "addition = lambda a,b,c=20:a+b+c\n",
    "addition(5,6)"
   ]
  },
  {
   "cell_type": "code",
   "execution_count": 33,
   "id": "2ca15010",
   "metadata": {},
   "outputs": [
    {
     "data": {
      "text/plain": [
       "False"
      ]
     },
     "execution_count": 33,
     "metadata": {},
     "output_type": "execute_result"
    }
   ],
   "source": [
    "import statistics as stats\n",
    "xyz = lambda a,b,c = 10.675: str(round(stats.mean((a,b,c)),2)).isdecimal()\n",
    "xyz(12,13.456)"
   ]
  },
  {
   "cell_type": "code",
   "execution_count": 34,
   "id": "92d0796b",
   "metadata": {},
   "outputs": [
    {
     "data": {
      "text/plain": [
       "[4, 9, 16, 25]"
      ]
     },
     "execution_count": 34,
     "metadata": {},
     "output_type": "execute_result"
    }
   ],
   "source": [
    "(lambda x : [i**2 for i in x])([2,3,4,5])"
   ]
  },
  {
   "cell_type": "code",
   "execution_count": 37,
   "id": "11a34619",
   "metadata": {},
   "outputs": [
    {
     "data": {
      "text/plain": [
       "[4, 9, 16, 25]"
      ]
     },
     "execution_count": 37,
     "metadata": {},
     "output_type": "execute_result"
    }
   ],
   "source": [
    "b = []\n",
    "\n",
    "x = lambda *a:[b.append(i**2) for i in a]\n",
    "\n",
    "x(2,3,4,5)\n",
    "\n",
    "b"
   ]
  },
  {
   "cell_type": "code",
   "execution_count": 38,
   "id": "e03af3d1",
   "metadata": {},
   "outputs": [
    {
     "data": {
      "text/plain": [
       "-70"
      ]
     },
     "execution_count": 38,
     "metadata": {},
     "output_type": "execute_result"
    }
   ],
   "source": [
    "def mul(x,y):return x*y\n",
    "\n",
    "add = lambda a,b,c=10:(mul(a,b)) - ((a+b)*c)\n",
    "\n",
    "add(5,4)"
   ]
  },
  {
   "cell_type": "code",
   "execution_count": 39,
   "id": "d0838eec",
   "metadata": {},
   "outputs": [
    {
     "data": {
      "text/plain": [
       "60"
      ]
     },
     "execution_count": 39,
     "metadata": {},
     "output_type": "execute_result"
    }
   ],
   "source": [
    "dict_squ_values = lambda **kwarg:sum(kwarg.values())\n",
    "\n",
    "dict_squ_values(a=10,b=20,c=30)"
   ]
  },
  {
   "cell_type": "code",
   "execution_count": null,
   "id": "bd2b9e03",
   "metadata": {},
   "outputs": [],
   "source": []
  }
 ],
 "metadata": {
  "kernelspec": {
   "display_name": "Python 3",
   "language": "python",
   "name": "python3"
  },
  "language_info": {
   "codemirror_mode": {
    "name": "ipython",
    "version": 3
   },
   "file_extension": ".py",
   "mimetype": "text/x-python",
   "name": "python",
   "nbconvert_exporter": "python",
   "pygments_lexer": "ipython3",
   "version": "3.8.8"
  },
  "toc": {
   "base_numbering": 1,
   "nav_menu": {},
   "number_sections": true,
   "sideBar": true,
   "skip_h1_title": false,
   "title_cell": "Table of Contents",
   "title_sidebar": "Contents",
   "toc_cell": false,
   "toc_position": {},
   "toc_section_display": true,
   "toc_window_display": false
  },
  "varInspector": {
   "cols": {
    "lenName": 16,
    "lenType": 16,
    "lenVar": 40
   },
   "kernels_config": {
    "python": {
     "delete_cmd_postfix": "",
     "delete_cmd_prefix": "del ",
     "library": "var_list.py",
     "varRefreshCmd": "print(var_dic_list())"
    },
    "r": {
     "delete_cmd_postfix": ") ",
     "delete_cmd_prefix": "rm(",
     "library": "var_list.r",
     "varRefreshCmd": "cat(var_dic_list()) "
    }
   },
   "types_to_exclude": [
    "module",
    "function",
    "builtin_function_or_method",
    "instance",
    "_Feature"
   ],
   "window_display": false
  }
 },
 "nbformat": 4,
 "nbformat_minor": 5
}
