{
 "cells": [
  {
   "cell_type": "raw",
   "id": "4ec798c4",
   "metadata": {},
   "source": [
    "Module:\n",
    "    is a file that contains classes & functions/methods or variables\n",
    "    They are used for code reusability, hiding thate inforation/codes & using them in another ipynb or py file\n",
    "    It is nothing but a .py file"
   ]
  },
  {
   "cell_type": "raw",
   "id": "a5c46609",
   "metadata": {},
   "source": [
    "Syntax:\n",
    "    from module_name import function_name\n",
    "    from module_name import * (* is used to importrt everything from that module)\n",
    "    import module_name\n",
    "    import module_name as mod\n",
    "    "
   ]
  },
  {
   "cell_type": "raw",
   "id": "24c7d65b",
   "metadata": {},
   "source": [
    "whenever we need to call a function or variable or class form any perticular module:\n",
    "    1. Trace the location of the module\n",
    "    2. know what is your current working directory\n",
    "    3. you can change your working directory to shift to that location where module exist or your may pass the path of that module\n",
    "    4. by calling on the module we can access all the functions & classes & variables in that module\n",
    "    "
   ]
  },
  {
   "cell_type": "markdown",
   "id": "78484f3b",
   "metadata": {},
   "source": [
    "# OS (Operating System)"
   ]
  },
  {
   "cell_type": "raw",
   "id": "9683d12f",
   "metadata": {},
   "source": [
    "os aids in handeling or accessing the modules & packages within a hardware system or setup\n",
    "os is a medium used to interact with thee hardware/system.\n"
   ]
  },
  {
   "cell_type": "code",
   "execution_count": 1,
   "id": "2e9686da",
   "metadata": {},
   "outputs": [],
   "source": [
    "import os"
   ]
  },
  {
   "cell_type": "markdown",
   "id": "8382fcae",
   "metadata": {},
   "source": [
    "### knowing your current working directory"
   ]
  },
  {
   "cell_type": "code",
   "execution_count": 2,
   "id": "82013944",
   "metadata": {},
   "outputs": [
    {
     "data": {
      "text/plain": [
       "'C:\\\\Users\\\\Pratik\\\\14 July A Batch\\\\Modules'"
      ]
     },
     "execution_count": 2,
     "metadata": {},
     "output_type": "execute_result"
    }
   ],
   "source": [
    "os.getcwd()"
   ]
  },
  {
   "cell_type": "code",
   "execution_count": 3,
   "id": "15fd2d5a",
   "metadata": {},
   "outputs": [],
   "source": [
    "from simple_math import add"
   ]
  },
  {
   "cell_type": "code",
   "execution_count": 4,
   "id": "3c595c0d",
   "metadata": {},
   "outputs": [
    {
     "data": {
      "text/plain": [
       "30"
      ]
     },
     "execution_count": 4,
     "metadata": {},
     "output_type": "execute_result"
    }
   ],
   "source": [
    "add(10,20)"
   ]
  },
  {
   "cell_type": "code",
   "execution_count": 5,
   "id": "eba73f93",
   "metadata": {},
   "outputs": [
    {
     "ename": "NameError",
     "evalue": "name 'mul' is not defined",
     "output_type": "error",
     "traceback": [
      "\u001b[1;31m---------------------------------------------------------------------------\u001b[0m",
      "\u001b[1;31mNameError\u001b[0m                                 Traceback (most recent call last)",
      "\u001b[1;32m<ipython-input-5-ec06715d01b1>\u001b[0m in \u001b[0;36m<module>\u001b[1;34m\u001b[0m\n\u001b[1;32m----> 1\u001b[1;33m \u001b[0mmul\u001b[0m\u001b[1;33m(\u001b[0m\u001b[1;36m5\u001b[0m\u001b[1;33m,\u001b[0m\u001b[1;36m6\u001b[0m\u001b[1;33m)\u001b[0m\u001b[1;33m\u001b[0m\u001b[1;33m\u001b[0m\u001b[0m\n\u001b[0m",
      "\u001b[1;31mNameError\u001b[0m: name 'mul' is not defined"
     ]
    }
   ],
   "source": [
    "mul(5,6)"
   ]
  },
  {
   "cell_type": "code",
   "execution_count": 6,
   "id": "795c6de7",
   "metadata": {},
   "outputs": [],
   "source": [
    "import simple_math"
   ]
  },
  {
   "cell_type": "code",
   "execution_count": 7,
   "id": "c014cf3b",
   "metadata": {},
   "outputs": [
    {
     "data": {
      "text/plain": [
       "30"
      ]
     },
     "execution_count": 7,
     "metadata": {},
     "output_type": "execute_result"
    }
   ],
   "source": [
    "simple_math.mul(5,6)"
   ]
  },
  {
   "cell_type": "code",
   "execution_count": 8,
   "id": "c7de138c",
   "metadata": {},
   "outputs": [
    {
     "data": {
      "text/plain": [
       "100"
      ]
     },
     "execution_count": 8,
     "metadata": {},
     "output_type": "execute_result"
    }
   ],
   "source": [
    "simple_math.x"
   ]
  },
  {
   "cell_type": "code",
   "execution_count": 9,
   "id": "a25d0ab3",
   "metadata": {},
   "outputs": [],
   "source": [
    "from simple_math import *"
   ]
  },
  {
   "cell_type": "code",
   "execution_count": 10,
   "id": "9083ca00",
   "metadata": {},
   "outputs": [
    {
     "data": {
      "text/plain": [
       "200"
      ]
     },
     "execution_count": 10,
     "metadata": {},
     "output_type": "execute_result"
    }
   ],
   "source": [
    "y"
   ]
  },
  {
   "cell_type": "code",
   "execution_count": 11,
   "id": "c28ddbbb",
   "metadata": {},
   "outputs": [
    {
     "data": {
      "text/plain": [
       "15"
      ]
     },
     "execution_count": 11,
     "metadata": {},
     "output_type": "execute_result"
    }
   ],
   "source": [
    "mul(3,5)"
   ]
  },
  {
   "cell_type": "code",
   "execution_count": 12,
   "id": "dfb4df48",
   "metadata": {},
   "outputs": [
    {
     "data": {
      "text/plain": [
       "'C:\\\\Users\\\\Pratik\\\\14 July A Batch\\\\Modules'"
      ]
     },
     "execution_count": 12,
     "metadata": {},
     "output_type": "execute_result"
    }
   ],
   "source": [
    "os.getcwd()"
   ]
  },
  {
   "cell_type": "code",
   "execution_count": 13,
   "id": "51155b58",
   "metadata": {},
   "outputs": [],
   "source": [
    "os.chdir('C:/Users/Pratik/')"
   ]
  },
  {
   "cell_type": "code",
   "execution_count": 14,
   "id": "664bcf04",
   "metadata": {},
   "outputs": [
    {
     "data": {
      "text/plain": [
       "'C:\\\\Users\\\\Pratik'"
      ]
     },
     "execution_count": 14,
     "metadata": {},
     "output_type": "execute_result"
    }
   ],
   "source": [
    "os.getcwd()"
   ]
  },
  {
   "cell_type": "code",
   "execution_count": 23,
   "id": "8e56922c",
   "metadata": {},
   "outputs": [
    {
     "name": "stdout",
     "output_type": "stream",
     "text": [
      "Hi there, how are you doing?\n"
     ]
    }
   ],
   "source": [
    "file = open('ipl.txt','r')\n",
    "print(file.read())\n",
    "file.close()"
   ]
  },
  {
   "cell_type": "code",
   "execution_count": 24,
   "id": "998c32b7",
   "metadata": {},
   "outputs": [],
   "source": [
    "os.chdir('C:\\\\Users\\\\Pratik\\\\14 July A Batch\\\\Modules')"
   ]
  },
  {
   "cell_type": "code",
   "execution_count": 26,
   "id": "b2fdd534",
   "metadata": {},
   "outputs": [
    {
     "data": {
      "text/plain": [
       "'C:\\\\Users\\\\Pratik\\\\14 July A Batch\\\\Modules'"
      ]
     },
     "execution_count": 26,
     "metadata": {},
     "output_type": "execute_result"
    }
   ],
   "source": [
    "os.getcwd()"
   ]
  },
  {
   "cell_type": "code",
   "execution_count": 27,
   "id": "6fc76515",
   "metadata": {},
   "outputs": [
    {
     "name": "stdout",
     "output_type": "stream",
     "text": [
      "Hi there, how are you doing?\n"
     ]
    }
   ],
   "source": [
    "file = open('C://Users/Pratik/ipl.txt','r')\n",
    "print(file.read())\n",
    "file.close()"
   ]
  },
  {
   "cell_type": "code",
   "execution_count": 28,
   "id": "449e4904",
   "metadata": {},
   "outputs": [
    {
     "ename": "FileNotFoundError",
     "evalue": "[Errno 2] No such file or directory: 'ipl.txt'",
     "output_type": "error",
     "traceback": [
      "\u001b[1;31m---------------------------------------------------------------------------\u001b[0m",
      "\u001b[1;31mFileNotFoundError\u001b[0m                         Traceback (most recent call last)",
      "\u001b[1;32m<ipython-input-28-6b3682e13881>\u001b[0m in \u001b[0;36m<module>\u001b[1;34m\u001b[0m\n\u001b[1;32m----> 1\u001b[1;33m \u001b[0mfile\u001b[0m \u001b[1;33m=\u001b[0m \u001b[0mopen\u001b[0m\u001b[1;33m(\u001b[0m\u001b[1;34m'ipl.txt'\u001b[0m\u001b[1;33m,\u001b[0m\u001b[1;34m'r'\u001b[0m\u001b[1;33m)\u001b[0m\u001b[1;33m\u001b[0m\u001b[1;33m\u001b[0m\u001b[0m\n\u001b[0m\u001b[0;32m      2\u001b[0m \u001b[0mprint\u001b[0m\u001b[1;33m(\u001b[0m\u001b[0mfile\u001b[0m\u001b[1;33m.\u001b[0m\u001b[0mread\u001b[0m\u001b[1;33m(\u001b[0m\u001b[1;33m)\u001b[0m\u001b[1;33m)\u001b[0m\u001b[1;33m\u001b[0m\u001b[1;33m\u001b[0m\u001b[0m\n\u001b[0;32m      3\u001b[0m \u001b[0mfile\u001b[0m\u001b[1;33m.\u001b[0m\u001b[0mclose\u001b[0m\u001b[1;33m(\u001b[0m\u001b[1;33m)\u001b[0m\u001b[1;33m\u001b[0m\u001b[1;33m\u001b[0m\u001b[0m\n",
      "\u001b[1;31mFileNotFoundError\u001b[0m: [Errno 2] No such file or directory: 'ipl.txt'"
     ]
    }
   ],
   "source": [
    "file = open('ipl.txt','r')\n",
    "print(file.read())\n",
    "file.close()"
   ]
  },
  {
   "cell_type": "code",
   "execution_count": 29,
   "id": "bd143b40",
   "metadata": {},
   "outputs": [],
   "source": [
    "os.chdir('C:\\\\Users\\\\Pratik')"
   ]
  },
  {
   "cell_type": "code",
   "execution_count": 30,
   "id": "c7abc3ba",
   "metadata": {},
   "outputs": [
    {
     "data": {
      "text/plain": [
       "'C:\\\\Users\\\\Pratik'"
      ]
     },
     "execution_count": 30,
     "metadata": {},
     "output_type": "execute_result"
    }
   ],
   "source": [
    "os.getcwd()"
   ]
  },
  {
   "cell_type": "code",
   "execution_count": 32,
   "id": "760a5e23",
   "metadata": {},
   "outputs": [],
   "source": [
    "from Workspace.Project1 import Maths"
   ]
  },
  {
   "cell_type": "code",
   "execution_count": 33,
   "id": "ea930293",
   "metadata": {},
   "outputs": [
    {
     "data": {
      "text/plain": [
       "555"
      ]
     },
     "execution_count": 33,
     "metadata": {},
     "output_type": "execute_result"
    }
   ],
   "source": [
    "Maths.z"
   ]
  },
  {
   "cell_type": "code",
   "execution_count": 34,
   "id": "5369df7c",
   "metadata": {},
   "outputs": [
    {
     "data": {
      "text/plain": [
       "25"
      ]
     },
     "execution_count": 34,
     "metadata": {},
     "output_type": "execute_result"
    }
   ],
   "source": [
    "Maths.square(5)"
   ]
  },
  {
   "cell_type": "code",
   "execution_count": 35,
   "id": "5824e737",
   "metadata": {},
   "outputs": [],
   "source": [
    "from Workspace.Project1.Maths import *"
   ]
  },
  {
   "cell_type": "code",
   "execution_count": 36,
   "id": "7306a2f8",
   "metadata": {},
   "outputs": [
    {
     "data": {
      "text/plain": [
       "555"
      ]
     },
     "execution_count": 36,
     "metadata": {},
     "output_type": "execute_result"
    }
   ],
   "source": [
    "z"
   ]
  },
  {
   "cell_type": "code",
   "execution_count": null,
   "id": "051f4584",
   "metadata": {},
   "outputs": [],
   "source": []
  }
 ],
 "metadata": {
  "kernelspec": {
   "display_name": "Python 3",
   "language": "python",
   "name": "python3"
  },
  "language_info": {
   "codemirror_mode": {
    "name": "ipython",
    "version": 3
   },
   "file_extension": ".py",
   "mimetype": "text/x-python",
   "name": "python",
   "nbconvert_exporter": "python",
   "pygments_lexer": "ipython3",
   "version": "3.8.8"
  },
  "toc": {
   "base_numbering": 1,
   "nav_menu": {},
   "number_sections": true,
   "sideBar": true,
   "skip_h1_title": false,
   "title_cell": "Table of Contents",
   "title_sidebar": "Contents",
   "toc_cell": false,
   "toc_position": {},
   "toc_section_display": true,
   "toc_window_display": false
  },
  "varInspector": {
   "cols": {
    "lenName": 16,
    "lenType": 16,
    "lenVar": 40
   },
   "kernels_config": {
    "python": {
     "delete_cmd_postfix": "",
     "delete_cmd_prefix": "del ",
     "library": "var_list.py",
     "varRefreshCmd": "print(var_dic_list())"
    },
    "r": {
     "delete_cmd_postfix": ") ",
     "delete_cmd_prefix": "rm(",
     "library": "var_list.r",
     "varRefreshCmd": "cat(var_dic_list()) "
    }
   },
   "types_to_exclude": [
    "module",
    "function",
    "builtin_function_or_method",
    "instance",
    "_Feature"
   ],
   "window_display": false
  }
 },
 "nbformat": 4,
 "nbformat_minor": 5
}
