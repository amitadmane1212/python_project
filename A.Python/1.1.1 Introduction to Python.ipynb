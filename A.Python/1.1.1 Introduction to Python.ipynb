{
 "cells": [
  {
   "cell_type": "code",
   "execution_count": 4,
   "id": "7bfd1052",
   "metadata": {},
   "outputs": [
    {
     "data": {
      "text/plain": [
       "22"
      ]
     },
     "execution_count": 4,
     "metadata": {},
     "output_type": "execute_result"
    }
   ],
   "source": [
    "12+10"
   ]
  },
  {
   "cell_type": "raw",
   "id": "2884d5a5",
   "metadata": {},
   "source": [
    "ctrl + enter >> it runs the cell & stays on the same cell\n",
    "shift + enter >> it runs the cell & goes to the next cell"
   ]
  },
  {
   "cell_type": "code",
   "execution_count": null,
   "id": "724fe7ae",
   "metadata": {},
   "outputs": [],
   "source": []
  }
 ],
 "metadata": {
  "kernelspec": {
   "display_name": "Python 3 (ipykernel)",
   "language": "python",
   "name": "python3"
  },
  "language_info": {
   "codemirror_mode": {
    "name": "ipython",
    "version": 3
   },
   "file_extension": ".py",
   "mimetype": "text/x-python",
   "name": "python",
   "nbconvert_exporter": "python",
   "pygments_lexer": "ipython3",
   "version": "3.9.12"
  }
 },
 "nbformat": 4,
 "nbformat_minor": 5
}
