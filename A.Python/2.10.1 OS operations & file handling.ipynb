{
 "cells": [
  {
   "cell_type": "code",
   "execution_count": 1,
   "id": "127ad32e",
   "metadata": {},
   "outputs": [],
   "source": [
    "import os"
   ]
  },
  {
   "cell_type": "code",
   "execution_count": 2,
   "id": "fd586e36",
   "metadata": {
    "collapsed": true
   },
   "outputs": [
    {
     "data": {
      "text/plain": [
       "['DirEntry',\n",
       " 'F_OK',\n",
       " 'MutableMapping',\n",
       " 'O_APPEND',\n",
       " 'O_BINARY',\n",
       " 'O_CREAT',\n",
       " 'O_EXCL',\n",
       " 'O_NOINHERIT',\n",
       " 'O_RANDOM',\n",
       " 'O_RDONLY',\n",
       " 'O_RDWR',\n",
       " 'O_SEQUENTIAL',\n",
       " 'O_SHORT_LIVED',\n",
       " 'O_TEMPORARY',\n",
       " 'O_TEXT',\n",
       " 'O_TRUNC',\n",
       " 'O_WRONLY',\n",
       " 'P_DETACH',\n",
       " 'P_NOWAIT',\n",
       " 'P_NOWAITO',\n",
       " 'P_OVERLAY',\n",
       " 'P_WAIT',\n",
       " 'PathLike',\n",
       " 'R_OK',\n",
       " 'SEEK_CUR',\n",
       " 'SEEK_END',\n",
       " 'SEEK_SET',\n",
       " 'TMP_MAX',\n",
       " 'W_OK',\n",
       " 'X_OK',\n",
       " '_AddedDllDirectory',\n",
       " '_Environ',\n",
       " '__all__',\n",
       " '__builtins__',\n",
       " '__cached__',\n",
       " '__doc__',\n",
       " '__file__',\n",
       " '__loader__',\n",
       " '__name__',\n",
       " '__package__',\n",
       " '__spec__',\n",
       " '_check_methods',\n",
       " '_execvpe',\n",
       " '_exists',\n",
       " '_exit',\n",
       " '_fspath',\n",
       " '_get_exports_list',\n",
       " '_putenv',\n",
       " '_unsetenv',\n",
       " '_wrap_close',\n",
       " 'abc',\n",
       " 'abort',\n",
       " 'access',\n",
       " 'add_dll_directory',\n",
       " 'altsep',\n",
       " 'chdir',\n",
       " 'chmod',\n",
       " 'close',\n",
       " 'closerange',\n",
       " 'cpu_count',\n",
       " 'curdir',\n",
       " 'defpath',\n",
       " 'device_encoding',\n",
       " 'devnull',\n",
       " 'dup',\n",
       " 'dup2',\n",
       " 'environ',\n",
       " 'error',\n",
       " 'execl',\n",
       " 'execle',\n",
       " 'execlp',\n",
       " 'execlpe',\n",
       " 'execv',\n",
       " 'execve',\n",
       " 'execvp',\n",
       " 'execvpe',\n",
       " 'extsep',\n",
       " 'fdopen',\n",
       " 'fsdecode',\n",
       " 'fsencode',\n",
       " 'fspath',\n",
       " 'fstat',\n",
       " 'fsync',\n",
       " 'ftruncate',\n",
       " 'get_exec_path',\n",
       " 'get_handle_inheritable',\n",
       " 'get_inheritable',\n",
       " 'get_terminal_size',\n",
       " 'getcwd',\n",
       " 'getcwdb',\n",
       " 'getenv',\n",
       " 'getlogin',\n",
       " 'getpid',\n",
       " 'getppid',\n",
       " 'isatty',\n",
       " 'kill',\n",
       " 'linesep',\n",
       " 'link',\n",
       " 'listdir',\n",
       " 'lseek',\n",
       " 'lstat',\n",
       " 'makedirs',\n",
       " 'mkdir',\n",
       " 'name',\n",
       " 'open',\n",
       " 'pardir',\n",
       " 'path',\n",
       " 'pathsep',\n",
       " 'pipe',\n",
       " 'popen',\n",
       " 'putenv',\n",
       " 'read',\n",
       " 'readlink',\n",
       " 'remove',\n",
       " 'removedirs',\n",
       " 'rename',\n",
       " 'renames',\n",
       " 'replace',\n",
       " 'rmdir',\n",
       " 'scandir',\n",
       " 'sep',\n",
       " 'set_handle_inheritable',\n",
       " 'set_inheritable',\n",
       " 'spawnl',\n",
       " 'spawnle',\n",
       " 'spawnv',\n",
       " 'spawnve',\n",
       " 'st',\n",
       " 'startfile',\n",
       " 'stat',\n",
       " 'stat_result',\n",
       " 'statvfs_result',\n",
       " 'strerror',\n",
       " 'supports_bytes_environ',\n",
       " 'supports_dir_fd',\n",
       " 'supports_effective_ids',\n",
       " 'supports_fd',\n",
       " 'supports_follow_symlinks',\n",
       " 'symlink',\n",
       " 'sys',\n",
       " 'system',\n",
       " 'terminal_size',\n",
       " 'times',\n",
       " 'times_result',\n",
       " 'truncate',\n",
       " 'umask',\n",
       " 'uname_result',\n",
       " 'unlink',\n",
       " 'urandom',\n",
       " 'utime',\n",
       " 'waitpid',\n",
       " 'walk',\n",
       " 'write']"
      ]
     },
     "execution_count": 2,
     "metadata": {},
     "output_type": "execute_result"
    }
   ],
   "source": [
    "dir(os)"
   ]
  },
  {
   "cell_type": "raw",
   "id": "233a0ea6",
   "metadata": {},
   "source": [
    "Synatx:\n",
    "    file = open(file_path,mode)\n",
    "    file.function()              # operation\n",
    "    file.close()\n",
    "    \n",
    "    \n",
    "with open(file_path,mode) as file:\n",
    "    file.function()    # ----operation\n",
    "    file.close()       # close is not mandatory\n",
    "    \n",
    "    \n",
    "default mode >>>> read mode\n",
    "\n",
    "open returns the file object & mode decides what operation should be done on that folder"
   ]
  },
  {
   "cell_type": "code",
   "execution_count": 3,
   "id": "7370f18b",
   "metadata": {},
   "outputs": [
    {
     "data": {
      "text/plain": [
       "'C:\\\\Users\\\\Pratik\\\\14 July A Batch\\\\Modules'"
      ]
     },
     "execution_count": 3,
     "metadata": {},
     "output_type": "execute_result"
    }
   ],
   "source": [
    "os.getcwd()"
   ]
  },
  {
   "cell_type": "markdown",
   "id": "268c9611",
   "metadata": {},
   "source": [
    "# Write mode"
   ]
  },
  {
   "cell_type": "raw",
   "id": "ae915c59",
   "metadata": {},
   "source": [
    "write >> 'w'\n",
    "creates a file if file does not exist & then does the write operation\n",
    "if the file already exist on that location then it will overwrite the same file."
   ]
  },
  {
   "cell_type": "markdown",
   "id": "27b9c92b",
   "metadata": {},
   "source": [
    "### Creating a file"
   ]
  },
  {
   "cell_type": "code",
   "execution_count": 5,
   "id": "e9bbb820",
   "metadata": {},
   "outputs": [],
   "source": [
    "file = open('first_file.txt','w')\n",
    "file.write('Welcome to first file')\n",
    "file.close()"
   ]
  },
  {
   "cell_type": "markdown",
   "id": "d6d777cb",
   "metadata": {},
   "source": [
    "#### overwriting a file in w mode"
   ]
  },
  {
   "cell_type": "code",
   "execution_count": 6,
   "id": "a59e4b05",
   "metadata": {},
   "outputs": [],
   "source": [
    "file = open('first_file.txt','w')\n",
    "file.write('This is my 2nd attempt')\n",
    "file.close()"
   ]
  },
  {
   "cell_type": "markdown",
   "id": "bb28c5db",
   "metadata": {},
   "source": [
    "#### creating a file at another location"
   ]
  },
  {
   "cell_type": "code",
   "execution_count": 8,
   "id": "19329232",
   "metadata": {},
   "outputs": [],
   "source": [
    "file = open('C:/Users/Pratik/Workspace/second_file.txt','w')\n",
    "file.write('Welcome to second file')\n",
    "file.close()"
   ]
  },
  {
   "cell_type": "code",
   "execution_count": 9,
   "id": "f8217faf",
   "metadata": {},
   "outputs": [],
   "source": [
    "file = open('first_file.pdf','w')\n",
    "file.write('This is my 2nd attempt')\n",
    "file.close()"
   ]
  },
  {
   "cell_type": "code",
   "execution_count": 12,
   "id": "46c5ce61",
   "metadata": {},
   "outputs": [
    {
     "ename": "UnicodeDecodeError",
     "evalue": "'charmap' codec can't decode byte 0x9d in position 680: character maps to <undefined>",
     "output_type": "error",
     "traceback": [
      "\u001b[1;31m---------------------------------------------------------------------------\u001b[0m",
      "\u001b[1;31mUnicodeDecodeError\u001b[0m                        Traceback (most recent call last)",
      "\u001b[1;32m<ipython-input-12-d4bccbec5869>\u001b[0m in \u001b[0;36m<module>\u001b[1;34m\u001b[0m\n\u001b[0;32m      1\u001b[0m \u001b[0mfile\u001b[0m \u001b[1;33m=\u001b[0m \u001b[0mopen\u001b[0m\u001b[1;33m(\u001b[0m\u001b[1;34mr'C:\\\\Users\\\\Pratik\\\\12_Feb_2022\\\\ML\\\\Linear Regression\\\\Linear Reg 12 FEB.pdf'\u001b[0m\u001b[1;33m,\u001b[0m\u001b[1;34m'r'\u001b[0m\u001b[1;33m)\u001b[0m\u001b[1;33m\u001b[0m\u001b[1;33m\u001b[0m\u001b[0m\n\u001b[1;32m----> 2\u001b[1;33m \u001b[0mfile\u001b[0m\u001b[1;33m.\u001b[0m\u001b[0mread\u001b[0m\u001b[1;33m(\u001b[0m\u001b[1;33m)\u001b[0m\u001b[1;33m\u001b[0m\u001b[1;33m\u001b[0m\u001b[0m\n\u001b[0m\u001b[0;32m      3\u001b[0m \u001b[0mfile\u001b[0m\u001b[1;33m.\u001b[0m\u001b[0mclose\u001b[0m\u001b[1;33m(\u001b[0m\u001b[1;33m)\u001b[0m\u001b[1;33m\u001b[0m\u001b[1;33m\u001b[0m\u001b[0m\n",
      "\u001b[1;32m~\\anaconda3\\lib\\encodings\\cp1252.py\u001b[0m in \u001b[0;36mdecode\u001b[1;34m(self, input, final)\u001b[0m\n\u001b[0;32m     21\u001b[0m \u001b[1;32mclass\u001b[0m \u001b[0mIncrementalDecoder\u001b[0m\u001b[1;33m(\u001b[0m\u001b[0mcodecs\u001b[0m\u001b[1;33m.\u001b[0m\u001b[0mIncrementalDecoder\u001b[0m\u001b[1;33m)\u001b[0m\u001b[1;33m:\u001b[0m\u001b[1;33m\u001b[0m\u001b[1;33m\u001b[0m\u001b[0m\n\u001b[0;32m     22\u001b[0m     \u001b[1;32mdef\u001b[0m \u001b[0mdecode\u001b[0m\u001b[1;33m(\u001b[0m\u001b[0mself\u001b[0m\u001b[1;33m,\u001b[0m \u001b[0minput\u001b[0m\u001b[1;33m,\u001b[0m \u001b[0mfinal\u001b[0m\u001b[1;33m=\u001b[0m\u001b[1;32mFalse\u001b[0m\u001b[1;33m)\u001b[0m\u001b[1;33m:\u001b[0m\u001b[1;33m\u001b[0m\u001b[1;33m\u001b[0m\u001b[0m\n\u001b[1;32m---> 23\u001b[1;33m         \u001b[1;32mreturn\u001b[0m \u001b[0mcodecs\u001b[0m\u001b[1;33m.\u001b[0m\u001b[0mcharmap_decode\u001b[0m\u001b[1;33m(\u001b[0m\u001b[0minput\u001b[0m\u001b[1;33m,\u001b[0m\u001b[0mself\u001b[0m\u001b[1;33m.\u001b[0m\u001b[0merrors\u001b[0m\u001b[1;33m,\u001b[0m\u001b[0mdecoding_table\u001b[0m\u001b[1;33m)\u001b[0m\u001b[1;33m[\u001b[0m\u001b[1;36m0\u001b[0m\u001b[1;33m]\u001b[0m\u001b[1;33m\u001b[0m\u001b[1;33m\u001b[0m\u001b[0m\n\u001b[0m\u001b[0;32m     24\u001b[0m \u001b[1;33m\u001b[0m\u001b[0m\n\u001b[0;32m     25\u001b[0m \u001b[1;32mclass\u001b[0m \u001b[0mStreamWriter\u001b[0m\u001b[1;33m(\u001b[0m\u001b[0mCodec\u001b[0m\u001b[1;33m,\u001b[0m\u001b[0mcodecs\u001b[0m\u001b[1;33m.\u001b[0m\u001b[0mStreamWriter\u001b[0m\u001b[1;33m)\u001b[0m\u001b[1;33m:\u001b[0m\u001b[1;33m\u001b[0m\u001b[1;33m\u001b[0m\u001b[0m\n",
      "\u001b[1;31mUnicodeDecodeError\u001b[0m: 'charmap' codec can't decode byte 0x9d in position 680: character maps to <undefined>"
     ]
    }
   ],
   "source": [
    "file = open(r'C:\\\\Users\\\\Pratik\\\\12_Feb_2022\\\\ML\\\\Linear Regression\\\\Linear Reg 12 FEB.pdf','r')\n",
    "file.read()\n",
    "file.close()"
   ]
  },
  {
   "cell_type": "markdown",
   "id": "e5ca1dc9",
   "metadata": {},
   "source": [
    "# Append"
   ]
  },
  {
   "cell_type": "raw",
   "id": "0f3e02a4",
   "metadata": {},
   "source": [
    "append >> 'a'\n",
    "creates a file if the file does not exist\n",
    "if the file already exist then it adds the data next to the data in then file"
   ]
  },
  {
   "cell_type": "code",
   "execution_count": 14,
   "id": "e7b93fd8",
   "metadata": {},
   "outputs": [],
   "source": [
    "bank_record =\"\"\"Bank = HSBC BANK\n",
    "Address = Mumbail Mira Road,\n",
    "customer number = 38654\n",
    "account type = Saving\"\"\"\n",
    "\n",
    "file = open('bank_details.txt','a')\n",
    "file.write(bank_record)\n",
    "file.close()"
   ]
  },
  {
   "cell_type": "code",
   "execution_count": 16,
   "id": "ee9f9f85",
   "metadata": {},
   "outputs": [],
   "source": [
    "data =\"\"\"\\nBalance = 100000\n",
    "Type: Priority\"\"\"\n",
    "\n",
    "file = open('bank_details.txt','a')\n",
    "file.write(data)\n",
    "file.close()"
   ]
  },
  {
   "cell_type": "markdown",
   "id": "3308cbe9",
   "metadata": {},
   "source": [
    "# Read Mode()"
   ]
  },
  {
   "cell_type": "raw",
   "id": "3e0378c5",
   "metadata": {},
   "source": [
    "read >> 'r'\n",
    "\n",
    "default mode is read mode only\n",
    "used to read the content of the file\n",
    "\n",
    "read()  -- reads the entire msg as it is. We can also pass the number of characters we want to read within read function.\n",
    "\n",
    "readline()  -- will read only one line at a time\n",
    "\n",
    "readlines()  -- will return a list consiting of all the lines in a string format"
   ]
  },
  {
   "cell_type": "markdown",
   "id": "3798a8f3",
   "metadata": {},
   "source": [
    "## read()"
   ]
  },
  {
   "cell_type": "code",
   "execution_count": 18,
   "id": "7d2d7307",
   "metadata": {},
   "outputs": [
    {
     "name": "stdout",
     "output_type": "stream",
     "text": [
      "Bank = HSBC BANK\n",
      "Address = Mumbail Mira Road,\n",
      "customer number = 38654\n",
      "account type = Saving\n",
      "Balance = 100000\n",
      "Type: Priority\n"
     ]
    }
   ],
   "source": [
    "file = open('bank_details.txt','r')\n",
    "print(file.read())\n",
    "file.close()"
   ]
  },
  {
   "cell_type": "code",
   "execution_count": 19,
   "id": "d08502f2",
   "metadata": {},
   "outputs": [
    {
     "name": "stdout",
     "output_type": "stream",
     "text": [
      "Bank = HSBC BANK\n",
      "Address = Mumbail Mira Road,\n",
      "customer number = 38654\n",
      "account type = Saving\n",
      "Balance = 100000\n",
      "Type: Priority\n"
     ]
    }
   ],
   "source": [
    "file = open('bank_details.txt')\n",
    "x = file.read()\n",
    "print(x)\n",
    "file.close()"
   ]
  },
  {
   "cell_type": "code",
   "execution_count": 20,
   "id": "8be68a90",
   "metadata": {},
   "outputs": [
    {
     "data": {
      "text/plain": [
       "'Bank = HSBC BANK\\nAddress = Mumbail Mira Road,\\ncustomer number = 38654\\naccount type = Saving\\nBalance = 100000\\nType: Priority'"
      ]
     },
     "execution_count": 20,
     "metadata": {},
     "output_type": "execute_result"
    }
   ],
   "source": [
    "x"
   ]
  },
  {
   "cell_type": "code",
   "execution_count": 28,
   "id": "1677cd6a",
   "metadata": {},
   "outputs": [
    {
     "data": {
      "text/plain": [
       "'bank = hsbc bank\\naddress = mumbail mira road,\\ncustomer number = 38654\\naccount type = saving\\nbalance = 100000'"
      ]
     },
     "execution_count": 28,
     "metadata": {},
     "output_type": "execute_result"
    }
   ],
   "source": [
    "'\\n'.join(x.lower().split('\\n')[:-1])"
   ]
  },
  {
   "cell_type": "code",
   "execution_count": 29,
   "id": "158a8e5e",
   "metadata": {},
   "outputs": [],
   "source": [
    "f = open('bank_details.txt','w')\n",
    "f.write('\\n'.join(x.lower().split('\\n')[:-1]))\n",
    "f.close()"
   ]
  },
  {
   "cell_type": "markdown",
   "id": "caaddd7d",
   "metadata": {},
   "source": [
    "#### reading few characters"
   ]
  },
  {
   "cell_type": "code",
   "execution_count": 31,
   "id": "04d0399c",
   "metadata": {},
   "outputs": [
    {
     "name": "stdout",
     "output_type": "stream",
     "text": [
      "bank = hsbc bank\n",
      "address = mum\n"
     ]
    }
   ],
   "source": [
    "file = open('bank_details.txt','r')\n",
    "print(file.read(30))\n",
    "file.close()"
   ]
  },
  {
   "cell_type": "markdown",
   "id": "0e3ebfdf",
   "metadata": {},
   "source": [
    "## Readline()"
   ]
  },
  {
   "cell_type": "code",
   "execution_count": 36,
   "id": "60bf8eec",
   "metadata": {},
   "outputs": [
    {
     "name": "stdout",
     "output_type": "stream",
     "text": [
      "bank = hsbc bank\n",
      "\n"
     ]
    }
   ],
   "source": [
    "file = open('bank_details.txt')\n",
    "z = file.readline()\n",
    "print(z)\n",
    "file.close()"
   ]
  },
  {
   "cell_type": "markdown",
   "id": "af4d6c26",
   "metadata": {},
   "source": [
    "## Readlines()"
   ]
  },
  {
   "cell_type": "code",
   "execution_count": 37,
   "id": "6870e1ef",
   "metadata": {},
   "outputs": [
    {
     "name": "stdout",
     "output_type": "stream",
     "text": [
      "['bank = hsbc bank\\n', 'address = mumbail mira road,\\n', 'customer number = 38654\\n', 'account type = saving\\n', 'balance = 100000']\n"
     ]
    }
   ],
   "source": [
    "file = open('bank_details.txt')\n",
    "z = file.readlines()\n",
    "print(z)\n",
    "file.close()"
   ]
  },
  {
   "cell_type": "code",
   "execution_count": 39,
   "id": "18147b94",
   "metadata": {},
   "outputs": [
    {
     "data": {
      "text/plain": [
       "'customer number = 38654\\n'"
      ]
     },
     "execution_count": 39,
     "metadata": {},
     "output_type": "execute_result"
    }
   ],
   "source": [
    "z[2]"
   ]
  },
  {
   "cell_type": "code",
   "execution_count": 40,
   "id": "c5853037",
   "metadata": {},
   "outputs": [
    {
     "name": "stdout",
     "output_type": "stream",
     "text": [
      "address = mumbail mira road,\n",
      "\n"
     ]
    }
   ],
   "source": [
    "for i in z:\n",
    "    if 'address' in i:\n",
    "        print(i)"
   ]
  },
  {
   "cell_type": "markdown",
   "id": "a036bdec",
   "metadata": {},
   "source": [
    "# X mode"
   ]
  },
  {
   "cell_type": "raw",
   "id": "3c1dc460",
   "metadata": {},
   "source": [
    "If the file does not exist then it creates a file\n",
    "If the file already exist then it throws an error"
   ]
  },
  {
   "cell_type": "code",
   "execution_count": 41,
   "id": "d9978c55",
   "metadata": {},
   "outputs": [
    {
     "ename": "FileExistsError",
     "evalue": "[Errno 17] File exists: 'bank_details.txt'",
     "output_type": "error",
     "traceback": [
      "\u001b[1;31m---------------------------------------------------------------------------\u001b[0m",
      "\u001b[1;31mFileExistsError\u001b[0m                           Traceback (most recent call last)",
      "\u001b[1;32m<ipython-input-41-3bed5221a868>\u001b[0m in \u001b[0;36m<module>\u001b[1;34m\u001b[0m\n\u001b[1;32m----> 1\u001b[1;33m \u001b[0mfile\u001b[0m \u001b[1;33m=\u001b[0m \u001b[0mopen\u001b[0m\u001b[1;33m(\u001b[0m\u001b[1;34m'bank_details.txt'\u001b[0m\u001b[1;33m,\u001b[0m\u001b[1;34m'x'\u001b[0m\u001b[1;33m)\u001b[0m\u001b[1;33m\u001b[0m\u001b[1;33m\u001b[0m\u001b[0m\n\u001b[0m\u001b[0;32m      2\u001b[0m \u001b[0mfile\u001b[0m\u001b[1;33m.\u001b[0m\u001b[0mwrite\u001b[0m\u001b[1;33m(\u001b[0m\u001b[1;34m'Hi'\u001b[0m\u001b[1;33m)\u001b[0m\u001b[1;33m\u001b[0m\u001b[1;33m\u001b[0m\u001b[0m\n\u001b[0;32m      3\u001b[0m \u001b[0mfile\u001b[0m\u001b[1;33m.\u001b[0m\u001b[0mclose\u001b[0m\u001b[1;33m(\u001b[0m\u001b[1;33m)\u001b[0m\u001b[1;33m\u001b[0m\u001b[1;33m\u001b[0m\u001b[0m\n",
      "\u001b[1;31mFileExistsError\u001b[0m: [Errno 17] File exists: 'bank_details.txt'"
     ]
    }
   ],
   "source": [
    "file = open('bank_details.txt','x')\n",
    "file.write('Hi')\n",
    "file.close()"
   ]
  },
  {
   "cell_type": "code",
   "execution_count": 42,
   "id": "b449252b",
   "metadata": {},
   "outputs": [],
   "source": [
    "file = open('bank_data.txt','x')\n",
    "file.`('Hi')\n",
    "file.close()"
   ]
  },
  {
   "cell_type": "markdown",
   "id": "98fac9fa",
   "metadata": {},
   "source": [
    "# r+ mode"
   ]
  },
  {
   "cell_type": "raw",
   "id": "a043752b",
   "metadata": {},
   "source": [
    "it can be used for both read & write operations\n",
    "if file exists the it performs given operations\n",
    "if file does not exist then it throws an error\n",
    "read & write has to be performed separatly\n",
    "read - reads the data & write - overwrites the data"
   ]
  },
  {
   "cell_type": "code",
   "execution_count": 53,
   "id": "4399a108",
   "metadata": {},
   "outputs": [
    {
     "ename": "FileNotFoundError",
     "evalue": "[Errno 2] No such file or directory: 'banks.txt'",
     "output_type": "error",
     "traceback": [
      "\u001b[1;31m---------------------------------------------------------------------------\u001b[0m",
      "\u001b[1;31mFileNotFoundError\u001b[0m                         Traceback (most recent call last)",
      "\u001b[1;32m<ipython-input-53-41119db93383>\u001b[0m in \u001b[0;36m<module>\u001b[1;34m\u001b[0m\n\u001b[1;32m----> 1\u001b[1;33m \u001b[0mf\u001b[0m \u001b[1;33m=\u001b[0m \u001b[0mopen\u001b[0m\u001b[1;33m(\u001b[0m\u001b[1;34m'banks.txt'\u001b[0m\u001b[1;33m,\u001b[0m\u001b[1;34m'r+'\u001b[0m\u001b[1;33m)\u001b[0m\u001b[1;33m\u001b[0m\u001b[1;33m\u001b[0m\u001b[0m\n\u001b[0m\u001b[0;32m      2\u001b[0m \u001b[0mprint\u001b[0m\u001b[1;33m(\u001b[0m\u001b[0mf\u001b[0m\u001b[1;33m.\u001b[0m\u001b[0mwrite\u001b[0m\u001b[1;33m(\u001b[0m\u001b[1;34m'new content'\u001b[0m\u001b[1;33m)\u001b[0m\u001b[1;33m)\u001b[0m\u001b[1;33m\u001b[0m\u001b[1;33m\u001b[0m\u001b[0m\n\u001b[0;32m      3\u001b[0m \u001b[0mf\u001b[0m\u001b[1;33m.\u001b[0m\u001b[0mclose\u001b[0m\u001b[1;33m(\u001b[0m\u001b[1;33m)\u001b[0m\u001b[1;33m\u001b[0m\u001b[1;33m\u001b[0m\u001b[0m\n",
      "\u001b[1;31mFileNotFoundError\u001b[0m: [Errno 2] No such file or directory: 'banks.txt'"
     ]
    }
   ],
   "source": [
    "f = open('banks.txt','r+')\n",
    "print(f.write('new content'))\n",
    "f.close()"
   ]
  },
  {
   "cell_type": "code",
   "execution_count": 43,
   "id": "1ae0f2c0",
   "metadata": {},
   "outputs": [
    {
     "name": "stdout",
     "output_type": "stream",
     "text": [
      "Hi\n"
     ]
    }
   ],
   "source": [
    "f = open('bank_data.txt','r+')\n",
    "print(f.read())\n",
    "f.close()"
   ]
  },
  {
   "cell_type": "code",
   "execution_count": 44,
   "id": "ae748404",
   "metadata": {},
   "outputs": [],
   "source": [
    "f = open('bank_data.txt','r+')\n",
    "f.write('Hello')\n",
    "f.close()"
   ]
  },
  {
   "cell_type": "code",
   "execution_count": 47,
   "id": "833b59e2",
   "metadata": {},
   "outputs": [
    {
     "name": "stdout",
     "output_type": "stream",
     "text": [
      "\n"
     ]
    }
   ],
   "source": [
    "f = open('bank_data.txt','r+')\n",
    "f.write('Hello')\n",
    "print(f.read())\n",
    "f.close()"
   ]
  },
  {
   "cell_type": "code",
   "execution_count": 51,
   "id": "0ee05a1e",
   "metadata": {},
   "outputs": [
    {
     "name": "stdout",
     "output_type": "stream",
     "text": [
      "Hello\n"
     ]
    }
   ],
   "source": [
    "f = open('bank_data.txt','r+')\n",
    "print(f.read())\n",
    "f.seek(2)               # from which index to overwrite. Also helps to save the previous operation\n",
    "f.write('Hello')\n",
    "f.close()"
   ]
  },
  {
   "cell_type": "code",
   "execution_count": 52,
   "id": "8016256d",
   "metadata": {},
   "outputs": [
    {
     "name": "stdout",
     "output_type": "stream",
     "text": [
      "HeHello\n"
     ]
    }
   ],
   "source": [
    "# you may pass an index that is our of range..\n",
    "f = open('bank_data.txt','r+')\n",
    "print(f.read())\n",
    "f.seek(100)               # from which index to overwrite. Also helps to save the previous operation\n",
    "f.write('Hello')\n",
    "f.close()"
   ]
  },
  {
   "cell_type": "markdown",
   "id": "cffce3f4",
   "metadata": {},
   "source": [
    "# w+"
   ]
  },
  {
   "cell_type": "code",
   "execution_count": 55,
   "id": "a9ddd074",
   "metadata": {},
   "outputs": [],
   "source": [
    "f = open('w+ file.txt','w+')\n",
    "f.write('Everything new')\n",
    "f.close()"
   ]
  },
  {
   "cell_type": "code",
   "execution_count": 58,
   "id": "7b89d9a1",
   "metadata": {},
   "outputs": [],
   "source": [
    "f = open('w+ file.txt','w+')\n",
    "f.write('Everything new here')\n",
    "f.close()"
   ]
  },
  {
   "cell_type": "code",
   "execution_count": 64,
   "id": "77f32710",
   "metadata": {},
   "outputs": [
    {
     "name": "stdout",
     "output_type": "stream",
     "text": [
      "\n"
     ]
    }
   ],
   "source": [
    "f = open('w+ file.txt','w+')\n",
    "data = f.read()\n",
    "print(data)\n",
    "f.close()"
   ]
  },
  {
   "cell_type": "code",
   "execution_count": 77,
   "id": "7fad01cf",
   "metadata": {},
   "outputs": [
    {
     "data": {
      "text/plain": [
       "'somedata'"
      ]
     },
     "execution_count": 77,
     "metadata": {},
     "output_type": "execute_result"
    }
   ],
   "source": [
    "with open('w+ file.txt', 'w+') as f:\n",
    "    # Note that f has now been truncated to 0 bytes, so you'll only\n",
    "    # be able to read data that you write after this point\n",
    "    f.write('somedata')\n",
    "    f.seek(0)  # Important: return to the 0th index of the file before reading, otherwise you'll just read an empty string\n",
    "    data = f.read() # Returns 'somedata\\n'\n",
    "    \n",
    "data"
   ]
  },
  {
   "cell_type": "code",
   "execution_count": 63,
   "id": "c8a356de",
   "metadata": {},
   "outputs": [
    {
     "data": {
      "image/png": "[encoded data removed]",
      "text/plain": [
       "<IPython.core.display.Image object>"
      ]
     },
     "execution_count": 63,
     "metadata": {},
     "output_type": "execute_result"
    }
   ],
   "source": [
    "from IPython.display import Image\n",
    "\n",
    "Image('modes.png')"
   ]
  },
  {
   "cell_type": "markdown",
   "id": "ed522e92",
   "metadata": {},
   "source": [
    "# a+ "
   ]
  },
  {
   "cell_type": "code",
   "execution_count": 65,
   "id": "26ad6bf6",
   "metadata": {},
   "outputs": [],
   "source": [
    "f = open('a+ file.txt','a+')\n",
    "f.write('This is a+ mode')\n",
    "f.close()"
   ]
  },
  {
   "cell_type": "code",
   "execution_count": 66,
   "id": "a4ea6d3b",
   "metadata": {},
   "outputs": [],
   "source": [
    "f = open('a+ file.txt','a+')\n",
    "f.write(' Welcome & thanks')\n",
    "f.close()"
   ]
  },
  {
   "cell_type": "code",
   "execution_count": 68,
   "id": "d1dd7dcb",
   "metadata": {},
   "outputs": [
    {
     "name": "stdout",
     "output_type": "stream",
     "text": [
      "[]\n"
     ]
    }
   ],
   "source": [
    "f = open('a+ file.txt','a+')\n",
    "print(f.readlines())\n",
    "f.close()"
   ]
  },
  {
   "cell_type": "code",
   "execution_count": 84,
   "id": "cd19e301",
   "metadata": {},
   "outputs": [
    {
     "name": "stdout",
     "output_type": "stream",
     "text": [
      "somedata\n",
      "somedata\n",
      "somedata\n",
      "somedata\n",
      "somedata\n",
      "somedata\n",
      "somedata\n",
      "somedata\n"
     ]
    }
   ],
   "source": [
    "with open('w+ file.txt', 'a+') as f:\n",
    "    # Note that f has now been truncated to 0 bytes, so you'll only\n",
    "    # be able to read data that you write after this point\n",
    "    f.write('\\nsomedata')\n",
    "    f.seek(0)  # Important: return to the top of the file before reading, otherwise you'll just read an empty string\n",
    "    data = f.read() # Returns 'somedata\\n'\n",
    "    \n",
    "print(data)"
   ]
  },
  {
   "cell_type": "markdown",
   "id": "19009ddb",
   "metadata": {},
   "source": [
    "# with open"
   ]
  },
  {
   "cell_type": "raw",
   "id": "57c14012",
   "metadata": {},
   "source": [
    "# while using within open we need not close the file separetly"
   ]
  },
  {
   "cell_type": "code",
   "execution_count": 72,
   "id": "c22ea534",
   "metadata": {},
   "outputs": [],
   "source": [
    "data =\"\"\"Bank = HSBC BANK\n",
    "Address = Mumbail Mira Road,\n",
    "customer number = 38654\n",
    "account type = Saving\"\"\"\n",
    "\n",
    "with open('bank_details.txt','w+') as file_ptr:\n",
    "    file_ptr.write(data)"
   ]
  },
  {
   "cell_type": "code",
   "execution_count": 73,
   "id": "b8b581f8",
   "metadata": {},
   "outputs": [
    {
     "name": "stdout",
     "output_type": "stream",
     "text": [
      "Bank = HSBC BANK\n",
      "Address = Mumbail Mira Road,\n",
      "customer number = 38654\n",
      "account type = Saving\n"
     ]
    }
   ],
   "source": [
    "with open('bank_details.txt','r') as file_ptr:\n",
    "    print(file_ptr.read())"
   ]
  },
  {
   "cell_type": "code",
   "execution_count": null,
   "id": "b6a481c5",
   "metadata": {},
   "outputs": [],
   "source": []
  }
 ],
 "metadata": {
  "kernelspec": {
   "display_name": "Python 3",
   "language": "python",
   "name": "python3"
  },
  "language_info": {
   "codemirror_mode": {
    "name": "ipython",
    "version": 3
   },
   "file_extension": ".py",
   "mimetype": "text/x-python",
   "name": "python",
   "nbconvert_exporter": "python",
   "pygments_lexer": "ipython3",
   "version": "3.8.8"
  },
  "toc": {
   "base_numbering": 1,
   "nav_menu": {},
   "number_sections": true,
   "sideBar": true,
   "skip_h1_title": false,
   "title_cell": "Table of Contents",
   "title_sidebar": "Contents",
   "toc_cell": false,
   "toc_position": {},
   "toc_section_display": true,
   "toc_window_display": false
  },
  "varInspector": {
   "cols": {
    "lenName": 16,
    "lenType": 16,
    "lenVar": 40
   },
   "kernels_config": {
    "python": {
     "delete_cmd_postfix": "",
     "delete_cmd_prefix": "del ",
     "library": "var_list.py",
     "varRefreshCmd": "print(var_dic_list())"
    },
    "r": {
     "delete_cmd_postfix": ") ",
     "delete_cmd_prefix": "rm(",
     "library": "var_list.r",
     "varRefreshCmd": "cat(var_dic_list()) "
    }
   },
   "types_to_exclude": [
    "module",
    "function",
    "builtin_function_or_method",
    "instance",
    "_Feature"
   ],
   "window_display": false
  }
 },
 "nbformat": 4,
 "nbformat_minor": 5
}
