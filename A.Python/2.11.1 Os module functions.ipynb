{
 "cells": [
  {
   "cell_type": "code",
   "execution_count": 1,
   "id": "aa4ed454",
   "metadata": {},
   "outputs": [],
   "source": [
    "import os"
   ]
  },
  {
   "cell_type": "code",
   "execution_count": 6,
   "id": "bcb4eb6a",
   "metadata": {},
   "outputs": [
    {
     "data": {
      "text/plain": [
       "'C:\\\\Users\\\\Pratik\\\\14 July A Batch\\\\Modules'"
      ]
     },
     "execution_count": 6,
     "metadata": {},
     "output_type": "execute_result"
    }
   ],
   "source": [
    "os.getcwd()"
   ]
  },
  {
   "cell_type": "markdown",
   "id": "78d2df0e",
   "metadata": {},
   "source": [
    "### enlisting all the files within a folder using listdir function"
   ]
  },
  {
   "cell_type": "code",
   "execution_count": 7,
   "id": "c0ca79da",
   "metadata": {},
   "outputs": [
    {
     "data": {
      "text/plain": [
       "['.ipynb_checkpoints',\n",
       " '2.10.1 OS operations & file handling.ipynb',\n",
       " '2.11.1 Os module functions.ipynb',\n",
       " '2.9.1 Modules.ipynb',\n",
       " '2.9.2 Packages & Libraries.ipynb',\n",
       " 'a+ file.txt',\n",
       " 'bank_data.txt',\n",
       " 'bank_details.txt',\n",
       " 'first_file.pdf',\n",
       " 'first_file.txt',\n",
       " 'modes.png',\n",
       " 'simple_math.ipynb',\n",
       " 'simple_math.py',\n",
       " 'w+ file.txt',\n",
       " '__pycache__']"
      ]
     },
     "execution_count": 7,
     "metadata": {},
     "output_type": "execute_result"
    }
   ],
   "source": [
    "os.listdir('C:\\\\Users\\\\Pratik\\\\14 July A Batch\\\\Modules')"
   ]
  },
  {
   "cell_type": "markdown",
   "id": "3ca07b9a",
   "metadata": {},
   "source": [
    "# Rename()"
   ]
  },
  {
   "cell_type": "raw",
   "id": "e7517f7a",
   "metadata": {},
   "source": [
    "Syntax:\n",
    "    os.rename(current_file_path/current_file_name,new_file_path/new_file_name)\n",
    "    \n",
    "used for renaming a file or forlder . replacing a file name with another name\n",
    "it can also be used to move the file or folder"
   ]
  },
  {
   "cell_type": "markdown",
   "id": "f5d9c583",
   "metadata": {},
   "source": [
    "#### working on same location"
   ]
  },
  {
   "cell_type": "code",
   "execution_count": null,
   "id": "6c133121",
   "metadata": {},
   "outputs": [],
   "source": [
    "os.rename('first_file1.pdf','first_file.pdf')"
   ]
  },
  {
   "cell_type": "markdown",
   "id": "25148dbb",
   "metadata": {},
   "source": [
    "#### renaming by passing path"
   ]
  },
  {
   "cell_type": "code",
   "execution_count": 8,
   "id": "2af9385e",
   "metadata": {},
   "outputs": [],
   "source": [
    "previous_path = 'C:\\\\Users\\\\Pratik\\\\14 July A Batch\\\\Modules\\\\bank_details.txt'\n",
    "new_path = 'C:\\\\Users\\\\Pratik\\\\14 July A Batch\\\\Modules\\\\bank_info.txt'\n",
    "\n",
    "os.rename(previous_path,new_path)"
   ]
  },
  {
   "cell_type": "code",
   "execution_count": 9,
   "id": "d650aad3",
   "metadata": {},
   "outputs": [],
   "source": [
    "os.rename('C:\\\\Users\\\\Pratik\\\\14 July A Batch\\\\Modules\\simple_math.py','C:\\\\Users\\\\Pratik\\\\14 July A Batch\\\\Modules\\mathematics.py')"
   ]
  },
  {
   "cell_type": "code",
   "execution_count": 10,
   "id": "43261791",
   "metadata": {},
   "outputs": [],
   "source": [
    "os.rename('C:\\\\Users\\\\Pratik\\\\14 July A Batch\\\\Modules\\simple_math.ipynb','C:\\\\Users\\\\Pratik\\\\14 July A Batch\\\\Modules\\mathematics.ipynb')"
   ]
  },
  {
   "cell_type": "code",
   "execution_count": 11,
   "id": "1bef5089",
   "metadata": {},
   "outputs": [],
   "source": [
    "os.rename('C:\\\\Users\\\\Pratik\\\\14 July A Batch\\\\Modules\\modes.png','C:\\\\Users\\\\Pratik\\\\14 July A Batch\\\\Modules\\diff_modes.png')"
   ]
  },
  {
   "cell_type": "code",
   "execution_count": 13,
   "id": "16b719ec",
   "metadata": {},
   "outputs": [],
   "source": [
    "os.rename('C:\\\\Users\\\\Pratik\\\\14 July A Batch\\\\Modules\\\\first_file.pdf','C:\\\\Users\\\\Pratik\\\\14 July A Batch\\\\Modules\\\\first_file1.pdf')"
   ]
  },
  {
   "cell_type": "markdown",
   "id": "31a0a868",
   "metadata": {},
   "source": [
    "#### rename to move a file"
   ]
  },
  {
   "cell_type": "markdown",
   "id": "e1c60332",
   "metadata": {},
   "source": [
    "##### moving a file to diffirent folder"
   ]
  },
  {
   "cell_type": "code",
   "execution_count": null,
   "id": "2362d51d",
   "metadata": {},
   "outputs": [],
   "source": [
    "os.rename('C:\\\\Users\\\\Pratik\\\\14 July A Batch\\\\Modules\\\\first_file.pdf','C://Users//Pratik/Workspace/first_file1.pdf')"
   ]
  },
  {
   "cell_type": "markdown",
   "id": "ded33958",
   "metadata": {},
   "source": [
    "##### moving & replacing file name"
   ]
  },
  {
   "cell_type": "code",
   "execution_count": 15,
   "id": "11f3f98b",
   "metadata": {},
   "outputs": [],
   "source": [
    "os.rename('C:\\\\Users\\\\Pratik\\\\14 July A Batch\\\\Modules\\\\first_file.pdf','C://Users//Pratik/Workspace/first_file1.pdf')"
   ]
  },
  {
   "cell_type": "markdown",
   "id": "ad8b1d1a",
   "metadata": {},
   "source": [
    "#### renaming a package"
   ]
  },
  {
   "cell_type": "code",
   "execution_count": 16,
   "id": "bcd2183b",
   "metadata": {},
   "outputs": [],
   "source": [
    "os.rename('C://Users//Pratik/Workspace','C://Users//Pratik/Workbench')"
   ]
  },
  {
   "cell_type": "markdown",
   "id": "21cc3075",
   "metadata": {},
   "source": [
    "# Remove()"
   ]
  },
  {
   "cell_type": "raw",
   "id": "6c0c31ea",
   "metadata": {},
   "source": [
    "Syntax:\n",
    "    os.remove(file_path)"
   ]
  },
  {
   "cell_type": "code",
   "execution_count": 18,
   "id": "513193da",
   "metadata": {},
   "outputs": [],
   "source": [
    "os.remove('C://Users//Pratik/Workbench/first_file1.pdf')"
   ]
  },
  {
   "cell_type": "code",
   "execution_count": 21,
   "id": "7ed68db9",
   "metadata": {
    "collapsed": true
   },
   "outputs": [
    {
     "ename": "PermissionError",
     "evalue": "[WinError 5] Access is denied: 'C://Users//Pratik//Untitled Folder'",
     "output_type": "error",
     "traceback": [
      "\u001b[1;31m---------------------------------------------------------------------------\u001b[0m",
      "\u001b[1;31mPermissionError\u001b[0m                           Traceback (most recent call last)",
      "\u001b[1;32m<ipython-input-21-0572ce02d4f3>\u001b[0m in \u001b[0;36m<module>\u001b[1;34m\u001b[0m\n\u001b[1;32m----> 1\u001b[1;33m \u001b[0mos\u001b[0m\u001b[1;33m.\u001b[0m\u001b[0mremove\u001b[0m\u001b[1;33m(\u001b[0m\u001b[1;34m'C://Users//Pratik//Untitled Folder'\u001b[0m\u001b[1;33m)\u001b[0m\u001b[1;33m\u001b[0m\u001b[1;33m\u001b[0m\u001b[0m\n\u001b[0m",
      "\u001b[1;31mPermissionError\u001b[0m: [WinError 5] Access is denied: 'C://Users//Pratik//Untitled Folder'"
     ]
    }
   ],
   "source": [
    "os.remove('D://Untitled Folder')"
   ]
  },
  {
   "cell_type": "markdown",
   "id": "be18b401",
   "metadata": {},
   "source": [
    "# check if the file exist"
   ]
  },
  {
   "cell_type": "code",
   "execution_count": 22,
   "id": "d08e3e51",
   "metadata": {},
   "outputs": [
    {
     "data": {
      "text/plain": [
       "['.ipynb_checkpoints',\n",
       " '2.10.1 OS operations & file handling.ipynb',\n",
       " '2.11.1 Os module functions.ipynb',\n",
       " '2.9.1 Modules.ipynb',\n",
       " '2.9.2 Packages & Libraries.ipynb',\n",
       " 'a+ file.txt',\n",
       " 'bank_data.txt',\n",
       " 'bank_info.txt',\n",
       " 'diff_modes.png',\n",
       " 'first_file.txt',\n",
       " 'mathematics.ipynb',\n",
       " 'mathematics.py',\n",
       " 'w+ file.txt',\n",
       " '__pycache__']"
      ]
     },
     "execution_count": 22,
     "metadata": {},
     "output_type": "execute_result"
    }
   ],
   "source": [
    "os.listdir('C:\\\\Users\\\\Pratik\\\\14 July A Batch\\\\Modules')"
   ]
  },
  {
   "cell_type": "code",
   "execution_count": 23,
   "id": "b407b5c4",
   "metadata": {},
   "outputs": [
    {
     "data": {
      "text/plain": [
       "True"
      ]
     },
     "execution_count": 23,
     "metadata": {},
     "output_type": "execute_result"
    }
   ],
   "source": [
    "os.path.exists('C:\\\\Users\\\\Pratik\\\\14 July A Batch\\\\Modules\\\\mathematics.py')"
   ]
  },
  {
   "cell_type": "code",
   "execution_count": 24,
   "id": "06201877",
   "metadata": {},
   "outputs": [
    {
     "data": {
      "text/plain": [
       "False"
      ]
     },
     "execution_count": 24,
     "metadata": {},
     "output_type": "execute_result"
    }
   ],
   "source": [
    "os.path.exists('C:\\\\Users\\\\Pratik\\\\14 July A Batch\\\\Modules\\\\maths.py')"
   ]
  },
  {
   "cell_type": "code",
   "execution_count": 25,
   "id": "6efafc16",
   "metadata": {},
   "outputs": [
    {
     "data": {
      "text/plain": [
       "True"
      ]
     },
     "execution_count": 25,
     "metadata": {},
     "output_type": "execute_result"
    }
   ],
   "source": [
    "os.path.exists('C:\\\\Users\\\\Pratik\\\\14 July A Batch\\\\Modules')"
   ]
  },
  {
   "cell_type": "code",
   "execution_count": 27,
   "id": "80359c8a",
   "metadata": {},
   "outputs": [],
   "source": [
    "import traceback\n",
    "path = 'C:\\\\Users\\\\Pratik\\\\14 July A Batch\\\\Modules\\\\mathematics.py'\n",
    "if os.path.exists(path):\n",
    "    try:\n",
    "        os.rename(path,'C:\\\\Users\\\\Pratik\\\\14 July A Batch\\\\Modules\\\\Maths.py')\n",
    "    except:\n",
    "        print(traceback.print_exc())\n",
    "else:\n",
    "    pass"
   ]
  },
  {
   "cell_type": "markdown",
   "id": "7db6c0ad",
   "metadata": {},
   "source": [
    "# Working on Folders"
   ]
  },
  {
   "cell_type": "markdown",
   "id": "64c97753",
   "metadata": {},
   "source": [
    "## Mkdir()"
   ]
  },
  {
   "cell_type": "raw",
   "id": "577c8d21",
   "metadata": {},
   "source": [
    "for creating directory"
   ]
  },
  {
   "cell_type": "raw",
   "id": "25d5b47f",
   "metadata": {},
   "source": [
    "Syntax:\n",
    "    os.mkdir(folder_path)"
   ]
  },
  {
   "cell_type": "code",
   "execution_count": 28,
   "id": "fe024cb6",
   "metadata": {},
   "outputs": [],
   "source": [
    "folder_path = 'C:\\\\Users\\\\Pratik\\\\14 July A Batch\\\\Modules\\\\Trial'\n",
    "\n",
    "os.mkdir(folder_path)"
   ]
  },
  {
   "cell_type": "code",
   "execution_count": 29,
   "id": "c4c6d856",
   "metadata": {},
   "outputs": [],
   "source": [
    "os.mkdir('Testing')"
   ]
  },
  {
   "cell_type": "code",
   "execution_count": 30,
   "id": "0c0fa3d9",
   "metadata": {
    "collapsed": true
   },
   "outputs": [
    {
     "ename": "FileNotFoundError",
     "evalue": "[WinError 3] The system cannot find the path specified: 'Training\\\\Train'",
     "output_type": "error",
     "traceback": [
      "\u001b[1;31m---------------------------------------------------------------------------\u001b[0m",
      "\u001b[1;31mFileNotFoundError\u001b[0m                         Traceback (most recent call last)",
      "\u001b[1;32m<ipython-input-30-28091ccc5463>\u001b[0m in \u001b[0;36m<module>\u001b[1;34m\u001b[0m\n\u001b[1;32m----> 1\u001b[1;33m \u001b[0mos\u001b[0m\u001b[1;33m.\u001b[0m\u001b[0mmkdir\u001b[0m\u001b[1;33m(\u001b[0m\u001b[1;34m'Training\\\\Train'\u001b[0m\u001b[1;33m)\u001b[0m\u001b[1;33m\u001b[0m\u001b[1;33m\u001b[0m\u001b[0m\n\u001b[0m",
      "\u001b[1;31mFileNotFoundError\u001b[0m: [WinError 3] The system cannot find the path specified: 'Training\\\\Train'"
     ]
    }
   ],
   "source": [
    "os.mkdir('Training\\\\Train')"
   ]
  },
  {
   "cell_type": "code",
   "execution_count": 32,
   "id": "85520cd9",
   "metadata": {},
   "outputs": [
    {
     "data": {
      "text/plain": [
       "True"
      ]
     },
     "execution_count": 32,
     "metadata": {},
     "output_type": "execute_result"
    }
   ],
   "source": [
    "os.path.exists('Testing')"
   ]
  },
  {
   "cell_type": "markdown",
   "id": "45190791",
   "metadata": {},
   "source": [
    "## os.rmdir()"
   ]
  },
  {
   "cell_type": "raw",
   "id": "5f11feb0",
   "metadata": {},
   "source": [
    "used to delete a directory / package\n",
    "works only when the folder is empty"
   ]
  },
  {
   "cell_type": "code",
   "execution_count": 33,
   "id": "adef13f7",
   "metadata": {},
   "outputs": [],
   "source": [
    "folder_path = 'C:\\\\Users\\\\Pratik\\\\14 July A Batch\\\\Modules\\\\Trial'\n",
    "\n",
    "os.rmdir(folder_path)"
   ]
  },
  {
   "cell_type": "code",
   "execution_count": 36,
   "id": "ad405784",
   "metadata": {},
   "outputs": [
    {
     "ename": "OSError",
     "evalue": "[WinError 145] The directory is not empty: 'C://Users//Pratik/Workbench'",
     "output_type": "error",
     "traceback": [
      "\u001b[1;31m---------------------------------------------------------------------------\u001b[0m",
      "\u001b[1;31mOSError\u001b[0m                                   Traceback (most recent call last)",
      "\u001b[1;32m<ipython-input-36-c1a9d83d7a4f>\u001b[0m in \u001b[0;36m<module>\u001b[1;34m\u001b[0m\n\u001b[0;32m      1\u001b[0m \u001b[0mfolder_path\u001b[0m \u001b[1;33m=\u001b[0m\u001b[1;34m'C://Users//Pratik/Workbench'\u001b[0m\u001b[1;33m\u001b[0m\u001b[1;33m\u001b[0m\u001b[0m\n\u001b[1;32m----> 2\u001b[1;33m \u001b[0mos\u001b[0m\u001b[1;33m.\u001b[0m\u001b[0mrmdir\u001b[0m\u001b[1;33m(\u001b[0m\u001b[0mfolder_path\u001b[0m\u001b[1;33m)\u001b[0m\u001b[1;33m\u001b[0m\u001b[1;33m\u001b[0m\u001b[0m\n\u001b[0m",
      "\u001b[1;31mOSError\u001b[0m: [WinError 145] The directory is not empty: 'C://Users//Pratik/Workbench'"
     ]
    }
   ],
   "source": [
    "folder_path ='C://Users//Pratik/Workbench'\n",
    "os.rmdir(folder_path)"
   ]
  },
  {
   "cell_type": "markdown",
   "id": "b476db97",
   "metadata": {},
   "source": [
    "# Shutil"
   ]
  },
  {
   "cell_type": "raw",
   "id": "6b26234a",
   "metadata": {},
   "source": [
    "shutil has multiple functionalities similar to os"
   ]
  },
  {
   "cell_type": "code",
   "execution_count": 34,
   "id": "b450907b",
   "metadata": {},
   "outputs": [],
   "source": [
    "import shutil"
   ]
  },
  {
   "cell_type": "code",
   "execution_count": 39,
   "id": "f3cafeb2",
   "metadata": {
    "scrolled": true
   },
   "outputs": [
    {
     "data": {
      "text/plain": [
       "['COPY_BUFSIZE',\n",
       " 'Error',\n",
       " 'ExecError',\n",
       " 'ReadError',\n",
       " 'RegistryError',\n",
       " 'SameFileError',\n",
       " 'SpecialFileError',\n",
       " '_ARCHIVE_FORMATS',\n",
       " '_BZ2_SUPPORTED',\n",
       " '_GiveupOnFastCopy',\n",
       " '_HAS_FCOPYFILE',\n",
       " '_LZMA_SUPPORTED',\n",
       " '_UNPACK_FORMATS',\n",
       " '_USE_CP_SENDFILE',\n",
       " '_WINDOWS',\n",
       " '_WIN_DEFAULT_PATHEXT',\n",
       " '_ZLIB_SUPPORTED',\n",
       " '__all__',\n",
       " '__builtins__',\n",
       " '__cached__',\n",
       " '__doc__',\n",
       " '__file__',\n",
       " '__loader__',\n",
       " '__name__',\n",
       " '__package__',\n",
       " '__spec__',\n",
       " '_access_check',\n",
       " '_basename',\n",
       " '_check_unpack_options',\n",
       " '_copyfileobj_readinto',\n",
       " '_copytree',\n",
       " '_copyxattr',\n",
       " '_destinsrc',\n",
       " '_ensure_directory',\n",
       " '_fastcopy_fcopyfile',\n",
       " '_fastcopy_sendfile',\n",
       " '_find_unpack_format',\n",
       " '_get_gid',\n",
       " '_get_uid',\n",
       " '_islink',\n",
       " '_make_tarball',\n",
       " '_make_zipfile',\n",
       " '_ntuple_diskusage',\n",
       " '_rmtree_isdir',\n",
       " '_rmtree_islink',\n",
       " '_rmtree_safe_fd',\n",
       " '_rmtree_unsafe',\n",
       " '_samefile',\n",
       " '_stat',\n",
       " '_unpack_tarfile',\n",
       " '_unpack_zipfile',\n",
       " '_use_fd_functions',\n",
       " 'chown',\n",
       " 'collections',\n",
       " 'copy',\n",
       " 'copy2',\n",
       " 'copyfile',\n",
       " 'copyfileobj',\n",
       " 'copymode',\n",
       " 'copystat',\n",
       " 'copytree',\n",
       " 'disk_usage',\n",
       " 'errno',\n",
       " 'fnmatch',\n",
       " 'get_archive_formats',\n",
       " 'get_terminal_size',\n",
       " 'get_unpack_formats',\n",
       " 'getgrnam',\n",
       " 'getpwnam',\n",
       " 'ignore_patterns',\n",
       " 'make_archive',\n",
       " 'move',\n",
       " 'nt',\n",
       " 'os',\n",
       " 'posix',\n",
       " 'register_archive_format',\n",
       " 'register_unpack_format',\n",
       " 'rmtree',\n",
       " 'stat',\n",
       " 'sys',\n",
       " 'unpack_archive',\n",
       " 'unregister_archive_format',\n",
       " 'unregister_unpack_format',\n",
       " 'which']"
      ]
     },
     "execution_count": 39,
     "metadata": {},
     "output_type": "execute_result"
    }
   ],
   "source": [
    "dir(shutil)"
   ]
  },
  {
   "cell_type": "markdown",
   "id": "11eeebfd",
   "metadata": {},
   "source": [
    "## rmtree()"
   ]
  },
  {
   "cell_type": "raw",
   "id": "4400859a",
   "metadata": {},
   "source": [
    "used to delete a folder even when a folder consists of files or folderlders within the same"
   ]
  },
  {
   "cell_type": "code",
   "execution_count": 37,
   "id": "18c292ca",
   "metadata": {},
   "outputs": [],
   "source": [
    "shutil.rmtree('C:\\\\Users\\\\Pratik\\\\14 July A Batch\\\\Modules\\\\Testing')"
   ]
  },
  {
   "cell_type": "code",
   "execution_count": 38,
   "id": "4a6c8fa1",
   "metadata": {},
   "outputs": [],
   "source": [
    "shutil.rmtree('C://Users//Pratik/Untitled Folder')"
   ]
  },
  {
   "cell_type": "markdown",
   "id": "6f2c66ad",
   "metadata": {},
   "source": [
    "## shutil.copy()"
   ]
  },
  {
   "cell_type": "raw",
   "id": "966dbd91",
   "metadata": {},
   "source": [
    "It copies a file from one location to another"
   ]
  },
  {
   "cell_type": "code",
   "execution_count": 46,
   "id": "42cef04b",
   "metadata": {},
   "outputs": [
    {
     "data": {
      "text/plain": [
       "'C://Users//Pratik/Workbench/Maths.py'"
      ]
     },
     "execution_count": 46,
     "metadata": {},
     "output_type": "execute_result"
    }
   ],
   "source": [
    "previous_path = 'C:\\\\Users\\\\Pratik\\\\14 July A Batch\\\\Modules\\\\Maths.py'\n",
    "copied_path = 'C://Users//Pratik/Workbench/Maths.py'\n",
    "\n",
    "shutil.copy(previous_path,copied_path)"
   ]
  },
  {
   "cell_type": "code",
   "execution_count": null,
   "id": "527ef01a",
   "metadata": {},
   "outputs": [],
   "source": [
    "# Do this in other than C drive\n",
    "previous_path = 'C://Users//Pratik//Workbench'\n",
    "copied_path = 'C:\\\\Users\\\\Pratik\\\\14 July A Batch\\\\Modules\\\\Workbench'\n",
    "\n",
    "shutil.copy(previous_path,copied_path)"
   ]
  },
  {
   "cell_type": "markdown",
   "id": "e1c60bd0",
   "metadata": {},
   "source": [
    "## shutil.move()"
   ]
  },
  {
   "cell_type": "code",
   "execution_count": 47,
   "id": "148e6c4f",
   "metadata": {},
   "outputs": [
    {
     "data": {
      "text/plain": [
       "'C:\\\\Users\\\\Pratik\\\\14 July A Batch\\\\Maths.py'"
      ]
     },
     "execution_count": 47,
     "metadata": {},
     "output_type": "execute_result"
    }
   ],
   "source": [
    "moved_path = 'C:\\\\Users\\\\Pratik\\\\14 July A Batch\\\\Maths.py'\n",
    "previous_path = 'C://Users//Pratik/Workbench/Maths.py'\n",
    "\n",
    "shutil.move(previous_path,moved_path)"
   ]
  },
  {
   "cell_type": "markdown",
   "id": "c8109ae1",
   "metadata": {},
   "source": [
    "## segragating files in a folder"
   ]
  },
  {
   "cell_type": "code",
   "execution_count": 48,
   "id": "900cda4a",
   "metadata": {},
   "outputs": [
    {
     "data": {
      "text/plain": [
       "['.ipynb_checkpoints',\n",
       " '2.10.1 OS operations & file handling.ipynb',\n",
       " '2.11.1 Os module functions.ipynb',\n",
       " '2.9.1 Modules.ipynb',\n",
       " '2.9.2 Packages & Libraries.ipynb',\n",
       " 'a+ file.txt',\n",
       " 'bank_data.txt',\n",
       " 'bank_info.txt',\n",
       " 'diff_modes.png',\n",
       " 'first_file.txt',\n",
       " 'mathematics.ipynb',\n",
       " 'Maths.py',\n",
       " 'w+ file.txt',\n",
       " 'Workbench',\n",
       " '__pycache__']"
      ]
     },
     "execution_count": 48,
     "metadata": {},
     "output_type": "execute_result"
    }
   ],
   "source": [
    "os.listdir('C:\\\\Users\\\\Pratik\\\\14 July A Batch\\\\Modules')"
   ]
  },
  {
   "cell_type": "code",
   "execution_count": 50,
   "id": "3ded36ab",
   "metadata": {},
   "outputs": [],
   "source": [
    "path = 'C:\\\\Users\\\\Pratik\\\\14 July A Batch\\\\Modules'\n",
    "\n",
    "ipynb_list = []\n",
    "txt_list = []\n",
    "py_list = []\n",
    "\n",
    "for i in os.listdir(path):\n",
    "    if i.endswith('.ipynb'):\n",
    "        ipynb_list.append(i)\n",
    "    if i.endswith('.txt'):\n",
    "        txt_list.append(i)\n",
    "    if i.endswith('.py'):\n",
    "        py_list.append(i)"
   ]
  },
  {
   "cell_type": "code",
   "execution_count": 51,
   "id": "cc61016e",
   "metadata": {},
   "outputs": [
    {
     "data": {
      "text/plain": [
       "['2.10.1 OS operations & file handling.ipynb',\n",
       " '2.11.1 Os module functions.ipynb',\n",
       " '2.9.1 Modules.ipynb',\n",
       " '2.9.2 Packages & Libraries.ipynb',\n",
       " 'mathematics.ipynb']"
      ]
     },
     "execution_count": 51,
     "metadata": {},
     "output_type": "execute_result"
    }
   ],
   "source": [
    "ipynb_list"
   ]
  },
  {
   "cell_type": "code",
   "execution_count": 52,
   "id": "1ebbd787",
   "metadata": {},
   "outputs": [
    {
     "data": {
      "text/plain": [
       "['Maths.py']"
      ]
     },
     "execution_count": 52,
     "metadata": {},
     "output_type": "execute_result"
    }
   ],
   "source": [
    "py_list"
   ]
  },
  {
   "cell_type": "code",
   "execution_count": 53,
   "id": "8a62b816",
   "metadata": {},
   "outputs": [
    {
     "data": {
      "text/plain": [
       "['a+ file.txt',\n",
       " 'bank_data.txt',\n",
       " 'bank_info.txt',\n",
       " 'first_file.txt',\n",
       " 'w+ file.txt']"
      ]
     },
     "execution_count": 53,
     "metadata": {},
     "output_type": "execute_result"
    }
   ],
   "source": [
    "txt_list"
   ]
  },
  {
   "cell_type": "markdown",
   "id": "90a28a6d",
   "metadata": {},
   "source": [
    "# glob"
   ]
  },
  {
   "cell_type": "raw",
   "id": "cb20bfab",
   "metadata": {},
   "source": [
    "used for selecting files of perticular extension/ type"
   ]
  },
  {
   "cell_type": "code",
   "execution_count": 54,
   "id": "c1b78aa8",
   "metadata": {},
   "outputs": [],
   "source": [
    "import glob"
   ]
  },
  {
   "cell_type": "code",
   "execution_count": 55,
   "id": "c88cfa81",
   "metadata": {},
   "outputs": [
    {
     "data": {
      "text/plain": [
       "'C:\\\\Users\\\\Pratik\\\\14 July A Batch\\\\Modules'"
      ]
     },
     "execution_count": 55,
     "metadata": {},
     "output_type": "execute_result"
    }
   ],
   "source": [
    "path"
   ]
  },
  {
   "cell_type": "code",
   "execution_count": 56,
   "id": "b3d3976e",
   "metadata": {},
   "outputs": [
    {
     "data": {
      "text/plain": [
       "['C:\\\\Users\\\\Pratik\\\\14 July A Batch\\\\Modules\\\\2.10.1 OS operations & file handling.ipynb',\n",
       " 'C:\\\\Users\\\\Pratik\\\\14 July A Batch\\\\Modules\\\\2.11.1 Os module functions.ipynb',\n",
       " 'C:\\\\Users\\\\Pratik\\\\14 July A Batch\\\\Modules\\\\2.9.1 Modules.ipynb',\n",
       " 'C:\\\\Users\\\\Pratik\\\\14 July A Batch\\\\Modules\\\\2.9.2 Packages & Libraries.ipynb',\n",
       " 'C:\\\\Users\\\\Pratik\\\\14 July A Batch\\\\Modules\\\\mathematics.ipynb']"
      ]
     },
     "execution_count": 56,
     "metadata": {},
     "output_type": "execute_result"
    }
   ],
   "source": [
    "ipynb = glob.glob(path+'\\\\*.ipynb')\n",
    "ipynb"
   ]
  },
  {
   "cell_type": "code",
   "execution_count": 58,
   "id": "c83285d9",
   "metadata": {},
   "outputs": [
    {
     "data": {
      "text/plain": [
       "['C:\\\\Users\\\\Pratik\\\\14 July A Batch\\\\Modules\\\\a+ file.txt',\n",
       " 'C:\\\\Users\\\\Pratik\\\\14 July A Batch\\\\Modules\\\\bank_data.txt',\n",
       " 'C:\\\\Users\\\\Pratik\\\\14 July A Batch\\\\Modules\\\\bank_info.txt',\n",
       " 'C:\\\\Users\\\\Pratik\\\\14 July A Batch\\\\Modules\\\\first_file.txt',\n",
       " 'C:\\\\Users\\\\Pratik\\\\14 July A Batch\\\\Modules\\\\w+ file.txt']"
      ]
     },
     "execution_count": 58,
     "metadata": {},
     "output_type": "execute_result"
    }
   ],
   "source": [
    "txt = glob.glob(path+'\\\\*.txt')\n",
    "txt"
   ]
  },
  {
   "cell_type": "code",
   "execution_count": null,
   "id": "f4f4d4d0",
   "metadata": {},
   "outputs": [],
   "source": [
    "    "
   ]
  }
 ],
 "metadata": {
  "kernelspec": {
   "display_name": "Python 3",
   "language": "python",
   "name": "python3"
  },
  "language_info": {
   "codemirror_mode": {
    "name": "ipython",
    "version": 3
   },
   "file_extension": ".py",
   "mimetype": "text/x-python",
   "name": "python",
   "nbconvert_exporter": "python",
   "pygments_lexer": "ipython3",
   "version": "3.8.8"
  },
  "toc": {
   "base_numbering": 1,
   "nav_menu": {},
   "number_sections": true,
   "sideBar": true,
   "skip_h1_title": false,
   "title_cell": "Table of Contents",
   "title_sidebar": "Contents",
   "toc_cell": false,
   "toc_position": {},
   "toc_section_display": true,
   "toc_window_display": false
  },
  "varInspector": {
   "cols": {
    "lenName": 16,
    "lenType": 16,
    "lenVar": 40
   },
   "kernels_config": {
    "python": {
     "delete_cmd_postfix": "",
     "delete_cmd_prefix": "del ",
     "library": "var_list.py",
     "varRefreshCmd": "print(var_dic_list())"
    },
    "r": {
     "delete_cmd_postfix": ") ",
     "delete_cmd_prefix": "rm(",
     "library": "var_list.r",
     "varRefreshCmd": "cat(var_dic_list()) "
    }
   },
   "types_to_exclude": [
    "module",
    "function",
    "builtin_function_or_method",
    "instance",
    "_Feature"
   ],
   "window_display": false
  }
 },
 "nbformat": 4,
 "nbformat_minor": 5
}
