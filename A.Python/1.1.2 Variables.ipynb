{
 "cells": [
  {
   "cell_type": "markdown",
   "id": "c7f4132a",
   "metadata": {},
   "source": [
    "# Features of Python"
   ]
  },
  {
   "cell_type": "raw",
   "id": "ee628a50",
   "metadata": {},
   "source": [
    "designed by : Guido Van Rossum in 20 Feb 1991\n",
    "    first official version of python was 0.9.0\n",
    "    current python version in use is 3.10.5"
   ]
  },
  {
   "cell_type": "raw",
   "id": "0be0f8b9",
   "metadata": {},
   "source": [
    "Why Python?\n",
    "\n",
    "1. simplest language amongst all languages.\n",
    "2. simple to learn, simple to debug.\n",
    "3. Free & open source.\n",
    "4. Gloably available.\n",
    "5. It has a very vast library support.\n",
    "6. Almost 70-75% data scientist use python as their primary programming language.\n",
    "7. Programming friendly language (easy to write codes, read & script)\n",
    "8. It supports both Procedural programming concept & object oriented programming concept (Functions & Classs concept).\n",
    "9. Python is also interprited language.\n",
    "10. Dynamically types Language (we need not mention the data type of the variable). No need to mention the data type of variable. \n",
    "Variable data type declaration is not required.\n",
    "11. Most widly used language.\n",
    "12. Most simplest langugae. Alomst feels like we are learning English\n"
   ]
  },
  {
   "cell_type": "markdown",
   "id": "b9d4212c",
   "metadata": {},
   "source": [
    "## Variables"
   ]
  },
  {
   "cell_type": "raw",
   "id": "de8ac44d",
   "metadata": {},
   "source": [
    "Defination: Variables are containers to store the data or information."
   ]
  },
  {
   "cell_type": "code",
   "execution_count": 4,
   "id": "a61716bd",
   "metadata": {},
   "outputs": [],
   "source": [
    "addition = 12500 + 14356"
   ]
  },
  {
   "cell_type": "code",
   "execution_count": 5,
   "id": "1f0dbc8e",
   "metadata": {},
   "outputs": [
    {
     "data": {
      "text/plain": [
       "26856"
      ]
     },
     "execution_count": 5,
     "metadata": {},
     "output_type": "execute_result"
    }
   ],
   "source": [
    "addition"
   ]
  },
  {
   "cell_type": "code",
   "execution_count": 6,
   "id": "9d422723",
   "metadata": {},
   "outputs": [
    {
     "data": {
      "text/plain": [
       "26756"
      ]
     },
     "execution_count": 6,
     "metadata": {},
     "output_type": "execute_result"
    }
   ],
   "source": [
    "addition - 100"
   ]
  },
  {
   "cell_type": "code",
   "execution_count": null,
   "id": "c21292e7",
   "metadata": {},
   "outputs": [],
   "source": [
    "Rules to declare a variable\n",
    "\n",
    "1. letters (A-Z, a-z, 0-9)\n",
    "2. It should not start with numbers.\n",
    "3. It can not contain any special character except (_)\n",
    "4. Case Sensitive. (Variables should preserve the uppercase & lowercase for every letter)\n",
    "5. It should not be any reserved keyword (and, or, class, del, if, else, True, False, elif)\n",
    "6. We can use multiple keywords in single line using , or ;"
   ]
  },
  {
   "cell_type": "raw",
   "id": "e09774a3",
   "metadata": {},
   "source": [
    "special characters as in : @ ! # $ % & * ( | ?"
   ]
  },
  {
   "cell_type": "code",
   "execution_count": 7,
   "id": "20fa6b9b",
   "metadata": {},
   "outputs": [],
   "source": [
    "Addition9 = 10"
   ]
  },
  {
   "cell_type": "code",
   "execution_count": 8,
   "id": "11965462",
   "metadata": {},
   "outputs": [
    {
     "ename": "SyntaxError",
     "evalue": "invalid syntax (773996949.py, line 1)",
     "output_type": "error",
     "traceback": [
      "\u001b[1;36m  Input \u001b[1;32mIn [8]\u001b[1;36m\u001b[0m\n\u001b[1;33m    9Addition = 10\u001b[0m\n\u001b[1;37m     ^\u001b[0m\n\u001b[1;31mSyntaxError\u001b[0m\u001b[1;31m:\u001b[0m invalid syntax\n"
     ]
    }
   ],
   "source": [
    "9Addition = 10"
   ]
  },
  {
   "cell_type": "code",
   "execution_count": 10,
   "id": "0e86525b",
   "metadata": {},
   "outputs": [
    {
     "data": {
      "text/plain": [
       "999"
      ]
     },
     "execution_count": 10,
     "metadata": {},
     "output_type": "execute_result"
    }
   ],
   "source": [
    "Addition_9 = 999\n",
    "Addition_9"
   ]
  },
  {
   "cell_type": "code",
   "execution_count": 12,
   "id": "9e831e88",
   "metadata": {},
   "outputs": [
    {
     "data": {
      "text/plain": [
       "9"
      ]
     },
     "execution_count": 12,
     "metadata": {},
     "output_type": "execute_result"
    }
   ],
   "source": [
    "_Addition9 = 9\n",
    "_Addition9"
   ]
  },
  {
   "cell_type": "code",
   "execution_count": 13,
   "id": "5d1de822",
   "metadata": {},
   "outputs": [
    {
     "ename": "SyntaxError",
     "evalue": "invalid syntax (1950064466.py, line 1)",
     "output_type": "error",
     "traceback": [
      "\u001b[1;36m  Input \u001b[1;32mIn [13]\u001b[1;36m\u001b[0m\n\u001b[1;33m    &Addition9 = 9\u001b[0m\n\u001b[1;37m    ^\u001b[0m\n\u001b[1;31mSyntaxError\u001b[0m\u001b[1;31m:\u001b[0m invalid syntax\n"
     ]
    }
   ],
   "source": [
    "&Addition9 = 9\n",
    "&Addition9"
   ]
  },
  {
   "cell_type": "code",
   "execution_count": 14,
   "id": "5f3100ff",
   "metadata": {},
   "outputs": [
    {
     "data": {
      "text/plain": [
       "10"
      ]
     },
     "execution_count": 14,
     "metadata": {},
     "output_type": "execute_result"
    }
   ],
   "source": [
    "Addition9"
   ]
  },
  {
   "cell_type": "code",
   "execution_count": 15,
   "id": "dac3313c",
   "metadata": {},
   "outputs": [
    {
     "ename": "NameError",
     "evalue": "name 'addition9' is not defined",
     "output_type": "error",
     "traceback": [
      "\u001b[1;31m---------------------------------------------------------------------------\u001b[0m",
      "\u001b[1;31mNameError\u001b[0m                                 Traceback (most recent call last)",
      "Input \u001b[1;32mIn [15]\u001b[0m, in \u001b[0;36m<cell line: 1>\u001b[1;34m()\u001b[0m\n\u001b[1;32m----> 1\u001b[0m \u001b[43maddition9\u001b[49m\n",
      "\u001b[1;31mNameError\u001b[0m: name 'addition9' is not defined"
     ]
    }
   ],
   "source": [
    "addition9"
   ]
  },
  {
   "cell_type": "code",
   "execution_count": 16,
   "id": "13ba098a",
   "metadata": {},
   "outputs": [
    {
     "data": {
      "text/plain": [
       "111"
      ]
     },
     "execution_count": 16,
     "metadata": {},
     "output_type": "execute_result"
    }
   ],
   "source": [
    "A1 = 111\n",
    "A1\n"
   ]
  },
  {
   "cell_type": "code",
   "execution_count": 17,
   "id": "54a74d84",
   "metadata": {},
   "outputs": [
    {
     "ename": "SyntaxError",
     "evalue": "invalid syntax (3963284083.py, line 1)",
     "output_type": "error",
     "traceback": [
      "\u001b[1;36m  Input \u001b[1;32mIn [17]\u001b[1;36m\u001b[0m\n\u001b[1;33m    1A = 100\u001b[0m\n\u001b[1;37m     ^\u001b[0m\n\u001b[1;31mSyntaxError\u001b[0m\u001b[1;31m:\u001b[0m invalid syntax\n"
     ]
    }
   ],
   "source": [
    "# Should not start with numbers\n",
    "1A = 100"
   ]
  },
  {
   "cell_type": "code",
   "execution_count": 18,
   "id": "d816f7c6",
   "metadata": {},
   "outputs": [
    {
     "ename": "SyntaxError",
     "evalue": "invalid syntax (2473986608.py, line 1)",
     "output_type": "error",
     "traceback": [
      "\u001b[1;36m  Input \u001b[1;32mIn [18]\u001b[1;36m\u001b[0m\n\u001b[1;33m    a b = 200\u001b[0m\n\u001b[1;37m      ^\u001b[0m\n\u001b[1;31mSyntaxError\u001b[0m\u001b[1;31m:\u001b[0m invalid syntax\n"
     ]
    }
   ],
   "source": [
    "#  Special characters are not allowed\n",
    "a b = 200\n",
    "a b"
   ]
  },
  {
   "cell_type": "code",
   "execution_count": 19,
   "id": "1c394f25",
   "metadata": {},
   "outputs": [
    {
     "data": {
      "text/plain": [
       "200"
      ]
     },
     "execution_count": 19,
     "metadata": {},
     "output_type": "execute_result"
    }
   ],
   "source": [
    "a_b = 200\n",
    "a_b"
   ]
  },
  {
   "cell_type": "code",
   "execution_count": 22,
   "id": "3a39e9f3",
   "metadata": {},
   "outputs": [
    {
     "ename": "NameError",
     "evalue": "name 'a_B' is not defined",
     "output_type": "error",
     "traceback": [
      "\u001b[1;31m---------------------------------------------------------------------------\u001b[0m",
      "\u001b[1;31mNameError\u001b[0m                                 Traceback (most recent call last)",
      "Input \u001b[1;32mIn [22]\u001b[0m, in \u001b[0;36m<cell line: 2>\u001b[1;34m()\u001b[0m\n\u001b[0;32m      1\u001b[0m a_b \u001b[38;5;241m=\u001b[39m \u001b[38;5;241m200\u001b[39m\n\u001b[1;32m----> 2\u001b[0m \u001b[43ma_B\u001b[49m\n",
      "\u001b[1;31mNameError\u001b[0m: name 'a_B' is not defined"
     ]
    }
   ],
   "source": [
    "# Variables are case sensitive\n",
    "a_b = 200\n",
    "a_B"
   ]
  },
  {
   "cell_type": "code",
   "execution_count": 20,
   "id": "a785f7b3",
   "metadata": {},
   "outputs": [
    {
     "ename": "SyntaxError",
     "evalue": "invalid syntax (3525779360.py, line 1)",
     "output_type": "error",
     "traceback": [
      "\u001b[1;36m  Input \u001b[1;32mIn [20]\u001b[1;36m\u001b[0m\n\u001b[1;33m    class = 6\u001b[0m\n\u001b[1;37m          ^\u001b[0m\n\u001b[1;31mSyntaxError\u001b[0m\u001b[1;31m:\u001b[0m invalid syntax\n"
     ]
    }
   ],
   "source": [
    "# use of reserved keyword not allowed\n",
    "class = 6\n",
    "class"
   ]
  },
  {
   "cell_type": "code",
   "execution_count": 23,
   "id": "fa361c2f",
   "metadata": {},
   "outputs": [
    {
     "data": {
      "text/plain": [
       "'Pune Camp'"
      ]
     },
     "execution_count": 23,
     "metadata": {},
     "output_type": "execute_result"
    }
   ],
   "source": [
    "_address = 'Pune Camp'\n",
    "_address"
   ]
  },
  {
   "cell_type": "code",
   "execution_count": 25,
   "id": "27d06134",
   "metadata": {},
   "outputs": [
    {
     "data": {
      "text/plain": [
       "10"
      ]
     },
     "execution_count": 25,
     "metadata": {},
     "output_type": "execute_result"
    }
   ],
   "source": [
    "x, y = 10, 20\n",
    "\n",
    "x"
   ]
  },
  {
   "cell_type": "code",
   "execution_count": 26,
   "id": "7b9bd9ed",
   "metadata": {},
   "outputs": [
    {
     "data": {
      "text/plain": [
       "20"
      ]
     },
     "execution_count": 26,
     "metadata": {},
     "output_type": "execute_result"
    }
   ],
   "source": [
    "y"
   ]
  },
  {
   "cell_type": "code",
   "execution_count": 27,
   "id": "bd623de4",
   "metadata": {},
   "outputs": [],
   "source": [
    "m = 100; n = 200"
   ]
  },
  {
   "cell_type": "code",
   "execution_count": 28,
   "id": "01eb96c8",
   "metadata": {},
   "outputs": [
    {
     "data": {
      "text/plain": [
       "100"
      ]
     },
     "execution_count": 28,
     "metadata": {},
     "output_type": "execute_result"
    }
   ],
   "source": [
    "m"
   ]
  },
  {
   "cell_type": "code",
   "execution_count": 29,
   "id": "2898a001",
   "metadata": {},
   "outputs": [
    {
     "data": {
      "text/plain": [
       "200"
      ]
     },
     "execution_count": 29,
     "metadata": {},
     "output_type": "execute_result"
    }
   ],
   "source": [
    "n"
   ]
  },
  {
   "cell_type": "code",
   "execution_count": 30,
   "id": "f10324a4",
   "metadata": {},
   "outputs": [],
   "source": [
    "x = y = 15"
   ]
  },
  {
   "cell_type": "code",
   "execution_count": 31,
   "id": "ea5b591c",
   "metadata": {},
   "outputs": [
    {
     "data": {
      "text/plain": [
       "15"
      ]
     },
     "execution_count": 31,
     "metadata": {},
     "output_type": "execute_result"
    }
   ],
   "source": [
    "x"
   ]
  },
  {
   "cell_type": "code",
   "execution_count": 32,
   "id": "49e381c5",
   "metadata": {},
   "outputs": [
    {
     "data": {
      "text/plain": [
       "15"
      ]
     },
     "execution_count": 32,
     "metadata": {},
     "output_type": "execute_result"
    }
   ],
   "source": [
    "y"
   ]
  },
  {
   "cell_type": "code",
   "execution_count": null,
   "id": "38cdf8f3",
   "metadata": {},
   "outputs": [],
   "source": [
    "MYVAR >> valid\n",
    "mYvar >> valid\n",
    "007James_bond >> Invalid\n",
    "James_bond007 >> Valid\n",
    "My^var >> Invalid\n",
    "_abc >> Valid\n",
    "import >> Invalid\n",
    "Elif >> valid"
   ]
  }
 ],
 "metadata": {
  "kernelspec": {
   "display_name": "Python 3 (ipykernel)",
   "language": "python",
   "name": "python3"
  },
  "language_info": {
   "codemirror_mode": {
    "name": "ipython",
    "version": 3
   },
   "file_extension": ".py",
   "mimetype": "text/x-python",
   "name": "python",
   "nbconvert_exporter": "python",
   "pygments_lexer": "ipython3",
   "version": "3.9.12"
  }
 },
 "nbformat": 4,
 "nbformat_minor": 5
}
