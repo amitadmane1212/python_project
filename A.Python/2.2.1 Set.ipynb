{
 "cells": [
  {
   "cell_type": "raw",
   "id": "f585a4a5",
   "metadata": {},
   "source": [
    "Set:\n",
    "    unordered data type (hashing)\n",
    "    mutable\n",
    "    duplicates are not allowed\n",
    "    indexing is not supproted on set\n",
    "    \n",
    "Mutable >> List, Set, Dict\n",
    "Immutable >> string, Tuple, int, float, boolean\n",
    "\n",
    "Sets are enclosed in {} curly braces\n",
    "items in sets are separated by commas\n",
    "initialise set by set constructor\n",
    "data types of empty set is dict\n",
    "\n",
    "while dict is also in curly braces but the items in dict are key value pairs which are separated by column & the items in dict is separated by comma whereas items in set are comma separated alone"
   ]
  },
  {
   "cell_type": "code",
   "execution_count": 1,
   "id": "d33e44e0",
   "metadata": {},
   "outputs": [
    {
     "data": {
      "text/plain": [
       "{}"
      ]
     },
     "execution_count": 1,
     "metadata": {},
     "output_type": "execute_result"
    }
   ],
   "source": [
    "set1= {}\n",
    "set1"
   ]
  },
  {
   "cell_type": "code",
   "execution_count": 2,
   "id": "0b8782c1",
   "metadata": {},
   "outputs": [
    {
     "data": {
      "text/plain": [
       "dict"
      ]
     },
     "execution_count": 2,
     "metadata": {},
     "output_type": "execute_result"
    }
   ],
   "source": [
    "type(set1)"
   ]
  },
  {
   "cell_type": "code",
   "execution_count": 3,
   "id": "1a502519",
   "metadata": {},
   "outputs": [
    {
     "data": {
      "text/plain": [
       "set"
      ]
     },
     "execution_count": 3,
     "metadata": {},
     "output_type": "execute_result"
    }
   ],
   "source": [
    "set1= set({})\n",
    "type(set1)"
   ]
  },
  {
   "cell_type": "code",
   "execution_count": 4,
   "id": "fe9442fa",
   "metadata": {},
   "outputs": [
    {
     "data": {
      "text/plain": [
       "set"
      ]
     },
     "execution_count": 4,
     "metadata": {},
     "output_type": "execute_result"
    }
   ],
   "source": [
    "set1 = {1}\n",
    "type(set1)"
   ]
  },
  {
   "cell_type": "code",
   "execution_count": 5,
   "id": "60f41fee",
   "metadata": {},
   "outputs": [
    {
     "data": {
      "text/plain": [
       "set"
      ]
     },
     "execution_count": 5,
     "metadata": {},
     "output_type": "execute_result"
    }
   ],
   "source": [
    "set1 = {1,}\n",
    "type(set1)"
   ]
  },
  {
   "cell_type": "code",
   "execution_count": 6,
   "id": "43484620",
   "metadata": {},
   "outputs": [
    {
     "data": {
      "text/plain": [
       "dict"
      ]
     },
     "execution_count": 6,
     "metadata": {},
     "output_type": "execute_result"
    }
   ],
   "source": [
    "set1 = {'Num':1}         #{key:value,key:value}\n",
    "type(set1)"
   ]
  },
  {
   "cell_type": "raw",
   "id": "5d3ff03f",
   "metadata": {},
   "source": [
    "list = []\n",
    "string = ''\n",
    "tuple = ()\n",
    "set = {,}\n",
    "dict = {key:value}"
   ]
  },
  {
   "cell_type": "code",
   "execution_count": 7,
   "id": "0570d9bd",
   "metadata": {},
   "outputs": [
    {
     "data": {
      "text/plain": [
       "{2, 3, 4, 5, 6, 7, 9.0, 'hello', 'hi'}"
      ]
     },
     "execution_count": 7,
     "metadata": {},
     "output_type": "execute_result"
    }
   ],
   "source": [
    "# set considers all unique/distinct value only\n",
    "# order is changed\n",
    "set1 = {5,3,6,2,4,4,7,'hi','hello',9.0}\n",
    "\n",
    "set1"
   ]
  },
  {
   "cell_type": "code",
   "execution_count": 12,
   "id": "85f4de59",
   "metadata": {},
   "outputs": [
    {
     "data": {
      "text/plain": [
       "{100, 2, 200, 21, 3, 5, 6, 7, 'hi'}"
      ]
     },
     "execution_count": 12,
     "metadata": {},
     "output_type": "execute_result"
    }
   ],
   "source": [
    "# program to remove duplicate items from list\n",
    "list1 = [2,5,3,6,7,2,5,2,200,21,'hi',100]\n",
    "\n",
    "set(list1)"
   ]
  },
  {
   "cell_type": "code",
   "execution_count": 13,
   "id": "b76bfeb7",
   "metadata": {},
   "outputs": [
    {
     "name": "stdout",
     "output_type": "stream",
     "text": [
      "2\n",
      "3\n",
      "4\n",
      "5\n",
      "6\n",
      "7\n",
      "9.0\n",
      "hello\n",
      "hi\n"
     ]
    }
   ],
   "source": [
    "set1 = {5,3,6,2,4,4,7,'hi','hello',9.0}\n",
    "for i in set1:\n",
    "    print(i)"
   ]
  },
  {
   "cell_type": "markdown",
   "id": "ad5a6885",
   "metadata": {},
   "source": [
    "# Functions on set"
   ]
  },
  {
   "cell_type": "markdown",
   "id": "db350394",
   "metadata": {},
   "source": [
    "## removing items from set"
   ]
  },
  {
   "cell_type": "markdown",
   "id": "a7ab52df",
   "metadata": {},
   "source": [
    "### remove()"
   ]
  },
  {
   "cell_type": "raw",
   "id": "c13c4e37",
   "metadata": {},
   "source": [
    "It removes the selected item from the set\n",
    "but if the item is not present then it throws an error"
   ]
  },
  {
   "cell_type": "code",
   "execution_count": 15,
   "id": "e7e438d4",
   "metadata": {},
   "outputs": [
    {
     "data": {
      "text/plain": [
       "{2, 3, 4, 5, 6, 7, 9.0, 'hello'}"
      ]
     },
     "execution_count": 15,
     "metadata": {},
     "output_type": "execute_result"
    }
   ],
   "source": [
    "set1 = {5,3,6,2,4,4,7,'hi','hello',9.0}\n",
    "\n",
    "set1.remove('hi')\n",
    "set1"
   ]
  },
  {
   "cell_type": "code",
   "execution_count": 16,
   "id": "4fdb6c67",
   "metadata": {},
   "outputs": [
    {
     "data": {
      "text/plain": [
       "{2, 3, 5, 6, 7, 9.0, 'hello', 'hi'}"
      ]
     },
     "execution_count": 16,
     "metadata": {},
     "output_type": "execute_result"
    }
   ],
   "source": [
    "set1 = {5,3,6,2,4,4,7,'hi','hello',9.0}\n",
    "\n",
    "set1.remove(4)\n",
    "set1"
   ]
  },
  {
   "cell_type": "code",
   "execution_count": 17,
   "id": "7563d450",
   "metadata": {},
   "outputs": [
    {
     "ename": "KeyError",
     "evalue": "100",
     "output_type": "error",
     "traceback": [
      "\u001b[1;31m---------------------------------------------------------------------------\u001b[0m",
      "\u001b[1;31mKeyError\u001b[0m                                  Traceback (most recent call last)",
      "\u001b[1;32m<ipython-input-17-a5b9602b797b>\u001b[0m in \u001b[0;36m<module>\u001b[1;34m\u001b[0m\n\u001b[1;32m----> 1\u001b[1;33m \u001b[0mset1\u001b[0m\u001b[1;33m.\u001b[0m\u001b[0mremove\u001b[0m\u001b[1;33m(\u001b[0m\u001b[1;36m100\u001b[0m\u001b[1;33m)\u001b[0m\u001b[1;33m\u001b[0m\u001b[1;33m\u001b[0m\u001b[0m\n\u001b[0m\u001b[0;32m      2\u001b[0m \u001b[0mset1\u001b[0m\u001b[1;33m\u001b[0m\u001b[1;33m\u001b[0m\u001b[0m\n",
      "\u001b[1;31mKeyError\u001b[0m: 100"
     ]
    }
   ],
   "source": [
    "set1.remove(100)\n",
    "set1"
   ]
  },
  {
   "cell_type": "markdown",
   "id": "8c1a171b",
   "metadata": {},
   "source": [
    "### Discard"
   ]
  },
  {
   "cell_type": "raw",
   "id": "5c2eaf97",
   "metadata": {},
   "source": [
    "It also removes the selected item from the set but if the item is not present then it does not throw an error"
   ]
  },
  {
   "cell_type": "code",
   "execution_count": 18,
   "id": "c1087d95",
   "metadata": {},
   "outputs": [
    {
     "data": {
      "text/plain": [
       "{2, 3, 4, 5, 6, 7, 9.0, 'hello'}"
      ]
     },
     "execution_count": 18,
     "metadata": {},
     "output_type": "execute_result"
    }
   ],
   "source": [
    "set1 = {5,3,6,2,4,4,7,'hi','hello',9.0}\n",
    "\n",
    "set1.discard('hi')\n",
    "set1"
   ]
  },
  {
   "cell_type": "code",
   "execution_count": 19,
   "id": "e98bf92e",
   "metadata": {},
   "outputs": [
    {
     "data": {
      "text/plain": [
       "{2, 3, 5, 6, 7, 9.0, 'hello', 'hi'}"
      ]
     },
     "execution_count": 19,
     "metadata": {},
     "output_type": "execute_result"
    }
   ],
   "source": [
    "set1 = {5,3,6,2,4,4,7,'hi','hello',9.0}\n",
    "\n",
    "set1.discard(4)\n",
    "set1"
   ]
  },
  {
   "cell_type": "code",
   "execution_count": 20,
   "id": "564f8861",
   "metadata": {},
   "outputs": [
    {
     "data": {
      "text/plain": [
       "{2, 3, 4, 5, 6, 7, 9.0, 'hello', 'hi'}"
      ]
     },
     "execution_count": 20,
     "metadata": {},
     "output_type": "execute_result"
    }
   ],
   "source": [
    "set1 = {5,3,6,2,4,4,7,'hi','hello',9.0}\n",
    "\n",
    "set1.discard(400)\n",
    "set1"
   ]
  },
  {
   "cell_type": "markdown",
   "id": "95ecaa88",
   "metadata": {},
   "source": [
    "### pop"
   ]
  },
  {
   "cell_type": "raw",
   "id": "ae7e7db2",
   "metadata": {},
   "source": [
    "it pops any random value from the set\n",
    "when we print set,, we can realise that it has poped the 0th index value for the set"
   ]
  },
  {
   "cell_type": "code",
   "execution_count": 23,
   "id": "49697c67",
   "metadata": {},
   "outputs": [
    {
     "name": "stdout",
     "output_type": "stream",
     "text": [
      "{2, 3, 4, 5, 6, 7, 9.0, 'hello', 'hi'}\n"
     ]
    },
    {
     "data": {
      "text/plain": [
       "{3, 4, 5, 6, 7, 9.0, 'hello', 'hi'}"
      ]
     },
     "execution_count": 23,
     "metadata": {},
     "output_type": "execute_result"
    }
   ],
   "source": [
    "set1 = {5,3,6,2,4,4,7,'hi','hello',9.0}\n",
    "\n",
    "print(set1)\n",
    "\n",
    "set1.pop()\n",
    "set1"
   ]
  },
  {
   "cell_type": "code",
   "execution_count": 24,
   "id": "941b1ab8",
   "metadata": {},
   "outputs": [
    {
     "name": "stdout",
     "output_type": "stream",
     "text": [
      "{2, 3, 4, 5, 6, 7, 9.0, 'hello', 'hi'}\n"
     ]
    },
    {
     "ename": "TypeError",
     "evalue": "pop() takes no arguments (1 given)",
     "output_type": "error",
     "traceback": [
      "\u001b[1;31m---------------------------------------------------------------------------\u001b[0m",
      "\u001b[1;31mTypeError\u001b[0m                                 Traceback (most recent call last)",
      "\u001b[1;32m<ipython-input-24-e72c9f0034f8>\u001b[0m in \u001b[0;36m<module>\u001b[1;34m\u001b[0m\n\u001b[0;32m      3\u001b[0m \u001b[0mprint\u001b[0m\u001b[1;33m(\u001b[0m\u001b[0mset1\u001b[0m\u001b[1;33m)\u001b[0m\u001b[1;33m\u001b[0m\u001b[1;33m\u001b[0m\u001b[0m\n\u001b[0;32m      4\u001b[0m \u001b[1;33m\u001b[0m\u001b[0m\n\u001b[1;32m----> 5\u001b[1;33m \u001b[0mset1\u001b[0m\u001b[1;33m.\u001b[0m\u001b[0mpop\u001b[0m\u001b[1;33m(\u001b[0m\u001b[1;36m2\u001b[0m\u001b[1;33m)\u001b[0m\u001b[1;33m\u001b[0m\u001b[1;33m\u001b[0m\u001b[0m\n\u001b[0m\u001b[0;32m      6\u001b[0m \u001b[0mset1\u001b[0m\u001b[1;33m\u001b[0m\u001b[1;33m\u001b[0m\u001b[0m\n",
      "\u001b[1;31mTypeError\u001b[0m: pop() takes no arguments (1 given)"
     ]
    }
   ],
   "source": [
    "set1 = {5,3,6,2,4,4,7,'hi','hello',9.0}\n",
    "\n",
    "print(set1)\n",
    "\n",
    "set1.pop(2)\n",
    "set1"
   ]
  },
  {
   "cell_type": "markdown",
   "id": "0b9dc938",
   "metadata": {},
   "source": [
    "### clear()"
   ]
  },
  {
   "cell_type": "code",
   "execution_count": 25,
   "id": "abe6e76e",
   "metadata": {},
   "outputs": [
    {
     "data": {
      "text/plain": [
       "set()"
      ]
     },
     "execution_count": 25,
     "metadata": {},
     "output_type": "execute_result"
    }
   ],
   "source": [
    "set1 = {5,3,6,2,4,4,7,'hi','hello',9.0}\n",
    "set1.clear()\n",
    "set1"
   ]
  },
  {
   "cell_type": "markdown",
   "id": "7662cfed",
   "metadata": {},
   "source": [
    "### del"
   ]
  },
  {
   "cell_type": "code",
   "execution_count": 26,
   "id": "17ce2f0b",
   "metadata": {},
   "outputs": [
    {
     "ename": "NameError",
     "evalue": "name 'set1' is not defined",
     "output_type": "error",
     "traceback": [
      "\u001b[1;31m---------------------------------------------------------------------------\u001b[0m",
      "\u001b[1;31mNameError\u001b[0m                                 Traceback (most recent call last)",
      "\u001b[1;32m<ipython-input-26-119b7438a31f>\u001b[0m in \u001b[0;36m<module>\u001b[1;34m\u001b[0m\n\u001b[0;32m      1\u001b[0m \u001b[1;32mdel\u001b[0m \u001b[0mset1\u001b[0m\u001b[1;33m\u001b[0m\u001b[1;33m\u001b[0m\u001b[0m\n\u001b[1;32m----> 2\u001b[1;33m \u001b[0mset1\u001b[0m\u001b[1;33m\u001b[0m\u001b[1;33m\u001b[0m\u001b[0m\n\u001b[0m",
      "\u001b[1;31mNameError\u001b[0m: name 'set1' is not defined"
     ]
    }
   ],
   "source": [
    "del set1\n",
    "set1"
   ]
  },
  {
   "cell_type": "code",
   "execution_count": 27,
   "id": "0992eeba",
   "metadata": {},
   "outputs": [
    {
     "ename": "TypeError",
     "evalue": "'set' object doesn't support item deletion",
     "output_type": "error",
     "traceback": [
      "\u001b[1;31m---------------------------------------------------------------------------\u001b[0m",
      "\u001b[1;31mTypeError\u001b[0m                                 Traceback (most recent call last)",
      "\u001b[1;32m<ipython-input-27-3937e5758896>\u001b[0m in \u001b[0;36m<module>\u001b[1;34m\u001b[0m\n\u001b[0;32m      1\u001b[0m \u001b[0mset1\u001b[0m \u001b[1;33m=\u001b[0m \u001b[1;33m{\u001b[0m\u001b[1;36m5\u001b[0m\u001b[1;33m,\u001b[0m\u001b[1;36m3\u001b[0m\u001b[1;33m,\u001b[0m\u001b[1;36m6\u001b[0m\u001b[1;33m,\u001b[0m\u001b[1;36m2\u001b[0m\u001b[1;33m,\u001b[0m\u001b[1;36m4\u001b[0m\u001b[1;33m,\u001b[0m\u001b[1;36m4\u001b[0m\u001b[1;33m,\u001b[0m\u001b[1;36m7\u001b[0m\u001b[1;33m,\u001b[0m\u001b[1;34m'hi'\u001b[0m\u001b[1;33m,\u001b[0m\u001b[1;34m'hello'\u001b[0m\u001b[1;33m,\u001b[0m\u001b[1;36m9.0\u001b[0m\u001b[1;33m}\u001b[0m\u001b[1;33m\u001b[0m\u001b[1;33m\u001b[0m\u001b[0m\n\u001b[0;32m      2\u001b[0m \u001b[1;33m\u001b[0m\u001b[0m\n\u001b[1;32m----> 3\u001b[1;33m \u001b[1;32mdel\u001b[0m \u001b[0mset1\u001b[0m\u001b[1;33m[\u001b[0m\u001b[1;36m1\u001b[0m\u001b[1;33m]\u001b[0m\u001b[1;33m\u001b[0m\u001b[1;33m\u001b[0m\u001b[0m\n\u001b[0m",
      "\u001b[1;31mTypeError\u001b[0m: 'set' object doesn't support item deletion"
     ]
    }
   ],
   "source": [
    "set1 = {5,3,6,2,4,4,7,'hi','hello',9.0}\n",
    "\n",
    "del set1[1]"
   ]
  },
  {
   "cell_type": "code",
   "execution_count": 28,
   "id": "37c58e64",
   "metadata": {},
   "outputs": [
    {
     "ename": "TypeError",
     "evalue": "'set' object does not support item assignment",
     "output_type": "error",
     "traceback": [
      "\u001b[1;31m---------------------------------------------------------------------------\u001b[0m",
      "\u001b[1;31mTypeError\u001b[0m                                 Traceback (most recent call last)",
      "\u001b[1;32m<ipython-input-28-c6a3135404c7>\u001b[0m in \u001b[0;36m<module>\u001b[1;34m\u001b[0m\n\u001b[0;32m      1\u001b[0m \u001b[0mset1\u001b[0m \u001b[1;33m=\u001b[0m \u001b[1;33m{\u001b[0m\u001b[1;36m5\u001b[0m\u001b[1;33m,\u001b[0m\u001b[1;36m3\u001b[0m\u001b[1;33m,\u001b[0m\u001b[1;36m6\u001b[0m\u001b[1;33m,\u001b[0m\u001b[1;36m2\u001b[0m\u001b[1;33m,\u001b[0m\u001b[1;36m4\u001b[0m\u001b[1;33m,\u001b[0m\u001b[1;36m4\u001b[0m\u001b[1;33m,\u001b[0m\u001b[1;36m7\u001b[0m\u001b[1;33m,\u001b[0m\u001b[1;34m'hi'\u001b[0m\u001b[1;33m,\u001b[0m\u001b[1;34m'hello'\u001b[0m\u001b[1;33m,\u001b[0m\u001b[1;36m9.0\u001b[0m\u001b[1;33m}\u001b[0m\u001b[1;33m\u001b[0m\u001b[1;33m\u001b[0m\u001b[0m\n\u001b[0;32m      2\u001b[0m \u001b[1;33m\u001b[0m\u001b[0m\n\u001b[1;32m----> 3\u001b[1;33m \u001b[0mset1\u001b[0m\u001b[1;33m[\u001b[0m\u001b[1;36m0\u001b[0m\u001b[1;33m]\u001b[0m\u001b[1;33m=\u001b[0m\u001b[1;36m100\u001b[0m\u001b[1;33m\u001b[0m\u001b[1;33m\u001b[0m\u001b[0m\n\u001b[0m",
      "\u001b[1;31mTypeError\u001b[0m: 'set' object does not support item assignment"
     ]
    }
   ],
   "source": [
    "set1 = {5,3,6,2,4,4,7,'hi','hello',9.0}\n",
    "\n",
    "set1[0]=100"
   ]
  },
  {
   "cell_type": "markdown",
   "id": "59c214c1",
   "metadata": {},
   "source": [
    "# adding items in set"
   ]
  },
  {
   "cell_type": "markdown",
   "id": "d0c417a7",
   "metadata": {},
   "source": [
    "## add()"
   ]
  },
  {
   "cell_type": "code",
   "execution_count": 29,
   "id": "a34433ee",
   "metadata": {},
   "outputs": [
    {
     "data": {
      "text/plain": [
       "{2, 3, 4, 5, 6, 7, 9.0, 'Namste', 'hello', 'hi'}"
      ]
     },
     "execution_count": 29,
     "metadata": {},
     "output_type": "execute_result"
    }
   ],
   "source": [
    "set1 = {5,3,6,2,4,4,7,'hi','hello',9.0}\n",
    "set1.add('Namste')\n",
    "set1"
   ]
  },
  {
   "cell_type": "code",
   "execution_count": 30,
   "id": "f27c317e",
   "metadata": {},
   "outputs": [
    {
     "ename": "TypeError",
     "evalue": "unhashable type: 'set'",
     "output_type": "error",
     "traceback": [
      "\u001b[1;31m---------------------------------------------------------------------------\u001b[0m",
      "\u001b[1;31mTypeError\u001b[0m                                 Traceback (most recent call last)",
      "\u001b[1;32m<ipython-input-30-ad09825274d4>\u001b[0m in \u001b[0;36m<module>\u001b[1;34m\u001b[0m\n\u001b[0;32m      1\u001b[0m \u001b[0mset1\u001b[0m \u001b[1;33m=\u001b[0m \u001b[1;33m{\u001b[0m\u001b[1;36m5\u001b[0m\u001b[1;33m,\u001b[0m\u001b[1;36m3\u001b[0m\u001b[1;33m,\u001b[0m\u001b[1;36m6\u001b[0m\u001b[1;33m,\u001b[0m\u001b[1;36m2\u001b[0m\u001b[1;33m,\u001b[0m\u001b[1;36m4\u001b[0m\u001b[1;33m,\u001b[0m\u001b[1;36m4\u001b[0m\u001b[1;33m,\u001b[0m\u001b[1;36m7\u001b[0m\u001b[1;33m,\u001b[0m\u001b[1;34m'hi'\u001b[0m\u001b[1;33m,\u001b[0m\u001b[1;34m'hello'\u001b[0m\u001b[1;33m,\u001b[0m\u001b[1;36m9.0\u001b[0m\u001b[1;33m}\u001b[0m\u001b[1;33m\u001b[0m\u001b[1;33m\u001b[0m\u001b[0m\n\u001b[1;32m----> 2\u001b[1;33m \u001b[0mset1\u001b[0m\u001b[1;33m.\u001b[0m\u001b[0madd\u001b[0m\u001b[1;33m(\u001b[0m\u001b[1;33m{\u001b[0m\u001b[1;34m'Namste'\u001b[0m\u001b[1;33m,\u001b[0m\u001b[1;34m'ram-ram'\u001b[0m\u001b[1;33m}\u001b[0m\u001b[1;33m)\u001b[0m\u001b[1;33m\u001b[0m\u001b[1;33m\u001b[0m\u001b[0m\n\u001b[0m\u001b[0;32m      3\u001b[0m \u001b[0mset1\u001b[0m\u001b[1;33m\u001b[0m\u001b[1;33m\u001b[0m\u001b[0m\n",
      "\u001b[1;31mTypeError\u001b[0m: unhashable type: 'set'"
     ]
    }
   ],
   "source": [
    "set1 = {5,3,6,2,4,4,7,'hi','hello',9.0}\n",
    "set1.add({'Namste','ram-ram'})\n",
    "set1"
   ]
  },
  {
   "cell_type": "markdown",
   "id": "861ea122",
   "metadata": {},
   "source": [
    "## update"
   ]
  },
  {
   "cell_type": "raw",
   "id": "2b68142b",
   "metadata": {},
   "source": [
    "update is used to add the items in thee set\n",
    "no need to use a separate variable to store the change while using update function\n",
    "using update multiple items can be added to set\n",
    "even is we have to add a single item, it should be passed in set"
   ]
  },
  {
   "cell_type": "code",
   "execution_count": 32,
   "id": "1afd9cc7",
   "metadata": {},
   "outputs": [
    {
     "data": {
      "text/plain": [
       "{100, 2, 3, 4, 5, 6, 7, 9.0, 'hello', 'hi'}"
      ]
     },
     "execution_count": 32,
     "metadata": {},
     "output_type": "execute_result"
    }
   ],
   "source": [
    "set1 = {5,3,6,2,4,4,7,'hi','hello',9.0}\n",
    "\n",
    "set1.update({100})\n",
    "set1"
   ]
  },
  {
   "cell_type": "code",
   "execution_count": 33,
   "id": "f84d6a93",
   "metadata": {},
   "outputs": [
    {
     "data": {
      "text/plain": [
       "{100, 2, 200, 3, 300, 4, 5, 6, 7, 9.0, 'hello', 'hi'}"
      ]
     },
     "execution_count": 33,
     "metadata": {},
     "output_type": "execute_result"
    }
   ],
   "source": [
    "set1 = {5,3,6,2,4,4,7,'hi','hello',9.0}\n",
    "\n",
    "set1.update({100,200,300})\n",
    "set1"
   ]
  },
  {
   "cell_type": "code",
   "execution_count": 36,
   "id": "e6a86be9",
   "metadata": {},
   "outputs": [
    {
     "name": "stdout",
     "output_type": "stream",
     "text": [
      "1729921337600\n",
      "1729921337600\n"
     ]
    },
    {
     "data": {
      "text/plain": [
       "{-1, -2, 100, 2, 200, 3, 300, 4, 5, 6, 7, 9.0, 'hello', 'hi'}"
      ]
     },
     "execution_count": 36,
     "metadata": {},
     "output_type": "execute_result"
    }
   ],
   "source": [
    "set1 = {5,3,6,2,4,4,7,'hi','hello',9.0}\n",
    "print(id(set1))\n",
    "\n",
    "set2 = {100,200,300}\n",
    "set3 = {-1,-2}\n",
    "\n",
    "set1.update(set2,set3)\n",
    "\n",
    "print(id(set1))\n",
    "set1"
   ]
  },
  {
   "cell_type": "markdown",
   "id": "fefb9103",
   "metadata": {},
   "source": [
    "## Union"
   ]
  },
  {
   "cell_type": "raw",
   "id": "8d3fc521",
   "metadata": {},
   "source": [
    "union needs a separate variable to store the change\n",
    "it doesnt add a single item but if we need to add a single item then it has to be passed in any iterator"
   ]
  },
  {
   "cell_type": "code",
   "execution_count": 40,
   "id": "f71d4283",
   "metadata": {},
   "outputs": [
    {
     "data": {
      "text/plain": [
       "{-1, -2, 100, 2, 200, 3, 4, 5, 6, 7, 9.0, 'good morning', 'hello', 'hi'}"
      ]
     },
     "execution_count": 40,
     "metadata": {},
     "output_type": "execute_result"
    }
   ],
   "source": [
    "set1 = {5,3,6,2,4,4,7,'hi','hello',9.0}\n",
    "\n",
    "add1 = {5,6}\n",
    "add2 = {-1,-2}\n",
    "add3 = [100,200]\n",
    "add4 = {'good morning'}\n",
    "\n",
    "set1 = set1.union(add4,add3,add2,add1)\n",
    "\n",
    "set1\n"
   ]
  },
  {
   "cell_type": "code",
   "execution_count": 41,
   "id": "bc43e35f",
   "metadata": {},
   "outputs": [
    {
     "ename": "TypeError",
     "evalue": "'int' object is not iterable",
     "output_type": "error",
     "traceback": [
      "\u001b[1;31m---------------------------------------------------------------------------\u001b[0m",
      "\u001b[1;31mTypeError\u001b[0m                                 Traceback (most recent call last)",
      "\u001b[1;32m<ipython-input-41-b938cd01ca96>\u001b[0m in \u001b[0;36m<module>\u001b[1;34m\u001b[0m\n\u001b[0;32m      1\u001b[0m \u001b[0mset1\u001b[0m \u001b[1;33m=\u001b[0m \u001b[1;33m{\u001b[0m\u001b[1;36m5\u001b[0m\u001b[1;33m,\u001b[0m\u001b[1;36m3\u001b[0m\u001b[1;33m,\u001b[0m\u001b[1;36m6\u001b[0m\u001b[1;33m,\u001b[0m\u001b[1;36m2\u001b[0m\u001b[1;33m,\u001b[0m\u001b[1;36m4\u001b[0m\u001b[1;33m,\u001b[0m\u001b[1;36m4\u001b[0m\u001b[1;33m,\u001b[0m\u001b[1;36m7\u001b[0m\u001b[1;33m,\u001b[0m\u001b[1;34m'hi'\u001b[0m\u001b[1;33m,\u001b[0m\u001b[1;34m'hello'\u001b[0m\u001b[1;33m,\u001b[0m\u001b[1;36m9.0\u001b[0m\u001b[1;33m}\u001b[0m\u001b[1;33m\u001b[0m\u001b[1;33m\u001b[0m\u001b[0m\n\u001b[0;32m      2\u001b[0m \u001b[1;33m\u001b[0m\u001b[0m\n\u001b[1;32m----> 3\u001b[1;33m \u001b[0mset1\u001b[0m \u001b[1;33m=\u001b[0m \u001b[0mset1\u001b[0m\u001b[1;33m.\u001b[0m\u001b[0munion\u001b[0m\u001b[1;33m(\u001b[0m\u001b[1;36m100\u001b[0m\u001b[1;33m)\u001b[0m\u001b[1;33m\u001b[0m\u001b[1;33m\u001b[0m\u001b[0m\n\u001b[0m\u001b[0;32m      4\u001b[0m \u001b[0mset1\u001b[0m\u001b[1;33m\u001b[0m\u001b[1;33m\u001b[0m\u001b[0m\n",
      "\u001b[1;31mTypeError\u001b[0m: 'int' object is not iterable"
     ]
    }
   ],
   "source": [
    "set1 = {5,3,6,2,4,4,7,'hi','hello',9.0}\n",
    "\n",
    "set1 = set1.union(100)\n",
    "set1"
   ]
  },
  {
   "cell_type": "code",
   "execution_count": 42,
   "id": "4adb520f",
   "metadata": {},
   "outputs": [
    {
     "data": {
      "text/plain": [
       "{100, 2, 3, 4, 5, 6, 7, 9.0, 'hello', 'hi'}"
      ]
     },
     "execution_count": 42,
     "metadata": {},
     "output_type": "execute_result"
    }
   ],
   "source": [
    "set1 = {5,3,6,2,4,4,7,'hi','hello',9.0}\n",
    "\n",
    "set1 = set1.union([100])\n",
    "set1"
   ]
  },
  {
   "cell_type": "markdown",
   "id": "de8b6c43",
   "metadata": {},
   "source": [
    "## More functions"
   ]
  },
  {
   "cell_type": "markdown",
   "id": "5ec5943c",
   "metadata": {},
   "source": [
    "## intersection"
   ]
  },
  {
   "cell_type": "raw",
   "id": "502d73e9",
   "metadata": {},
   "source": [
    "gives the common items from both sets\n",
    "needs a separate variable to store change"
   ]
  },
  {
   "cell_type": "code",
   "execution_count": 45,
   "id": "efb80a20",
   "metadata": {},
   "outputs": [
    {
     "data": {
      "text/plain": [
       "{'Goa', 'Pune'}"
      ]
     },
     "execution_count": 45,
     "metadata": {},
     "output_type": "execute_result"
    }
   ],
   "source": [
    "cities1 = {'Pune','Mumbai','Goa'}\n",
    "cities2 = {'Maldives','pokhara','Goa','Pune'}\n",
    "\n",
    "common = cities1.intersection(cities2)\n",
    "common"
   ]
  },
  {
   "cell_type": "code",
   "execution_count": 46,
   "id": "2a81845c",
   "metadata": {},
   "outputs": [
    {
     "data": {
      "text/plain": [
       "{'Goa', 'Pune'}"
      ]
     },
     "execution_count": 46,
     "metadata": {},
     "output_type": "execute_result"
    }
   ],
   "source": [
    "cities1 = {'Pune','Mumbai','Goa'}\n",
    "cities2 = ['Maldives','pokhara','Goa','Pune']\n",
    "\n",
    "common = cities1.intersection(cities2)\n",
    "common"
   ]
  },
  {
   "cell_type": "code",
   "execution_count": 47,
   "id": "b6a47a35",
   "metadata": {},
   "outputs": [
    {
     "ename": "AttributeError",
     "evalue": "'list' object has no attribute 'intersection'",
     "output_type": "error",
     "traceback": [
      "\u001b[1;31m---------------------------------------------------------------------------\u001b[0m",
      "\u001b[1;31mAttributeError\u001b[0m                            Traceback (most recent call last)",
      "\u001b[1;32m<ipython-input-47-e7fc4567fc2c>\u001b[0m in \u001b[0;36m<module>\u001b[1;34m\u001b[0m\n\u001b[0;32m      2\u001b[0m \u001b[0mcities2\u001b[0m \u001b[1;33m=\u001b[0m \u001b[1;33m[\u001b[0m\u001b[1;34m'Maldives'\u001b[0m\u001b[1;33m,\u001b[0m\u001b[1;34m'pokhara'\u001b[0m\u001b[1;33m,\u001b[0m\u001b[1;34m'Goa'\u001b[0m\u001b[1;33m]\u001b[0m\u001b[1;33m\u001b[0m\u001b[1;33m\u001b[0m\u001b[0m\n\u001b[0;32m      3\u001b[0m \u001b[1;33m\u001b[0m\u001b[0m\n\u001b[1;32m----> 4\u001b[1;33m \u001b[0mcommon\u001b[0m \u001b[1;33m=\u001b[0m \u001b[0mcities2\u001b[0m\u001b[1;33m.\u001b[0m\u001b[0mintersection\u001b[0m\u001b[1;33m(\u001b[0m\u001b[0mcities1\u001b[0m\u001b[1;33m)\u001b[0m\u001b[1;33m\u001b[0m\u001b[1;33m\u001b[0m\u001b[0m\n\u001b[0m\u001b[0;32m      5\u001b[0m \u001b[0mcommon\u001b[0m\u001b[1;33m\u001b[0m\u001b[1;33m\u001b[0m\u001b[0m\n",
      "\u001b[1;31mAttributeError\u001b[0m: 'list' object has no attribute 'intersection'"
     ]
    }
   ],
   "source": [
    "cities1 = {'Pune','Mumbai','Goa'}\n",
    "cities2 = ['Maldives','pokhara','Goa']\n",
    "\n",
    "common = cities2.intersection(cities1)\n",
    "common"
   ]
  },
  {
   "cell_type": "code",
   "execution_count": 48,
   "id": "ef55e4cf",
   "metadata": {},
   "outputs": [
    {
     "data": {
      "text/plain": [
       "set()"
      ]
     },
     "execution_count": 48,
     "metadata": {},
     "output_type": "execute_result"
    }
   ],
   "source": [
    "cities1 = {'Pune','Mumbai','Goa'}\n",
    "cities2 = ['Maldives','pokhara']\n",
    "\n",
    "common = cities1.intersection(cities2)\n",
    "common"
   ]
  },
  {
   "cell_type": "markdown",
   "id": "3af76ca4",
   "metadata": {},
   "source": [
    "## intersection update"
   ]
  },
  {
   "cell_type": "raw",
   "id": "e7ea9dca",
   "metadata": {},
   "source": [
    "does not need any extra variable to strore the change\n",
    "modifies the original set"
   ]
  },
  {
   "cell_type": "code",
   "execution_count": 51,
   "id": "05502c5d",
   "metadata": {},
   "outputs": [
    {
     "data": {
      "text/plain": [
       "{'Goa', 'Pune'}"
      ]
     },
     "execution_count": 51,
     "metadata": {},
     "output_type": "execute_result"
    }
   ],
   "source": [
    "cities1 = {'Pune','Mumbai','Goa'}\n",
    "cities2 = {'Maldives','pokhara','Goa','Pune'}\n",
    "\n",
    "cities1.intersection_update(cities2)\n",
    "cities1"
   ]
  },
  {
   "cell_type": "code",
   "execution_count": 52,
   "id": "790ba4d5",
   "metadata": {},
   "outputs": [
    {
     "data": {
      "text/plain": [
       "set()"
      ]
     },
     "execution_count": 52,
     "metadata": {},
     "output_type": "execute_result"
    }
   ],
   "source": [
    "cities1 = {'Pune','Mumbai','Goa'}\n",
    "cities2 = {'Maldives','pokhara'}\n",
    "\n",
    "cities1.intersection_update(cities2)\n",
    "cities1"
   ]
  },
  {
   "cell_type": "markdown",
   "id": "c8a580eb",
   "metadata": {},
   "source": [
    "## Difference"
   ]
  },
  {
   "cell_type": "raw",
   "id": "fd632e12",
   "metadata": {},
   "source": [
    "It shows the uncommon items from the set on which difference function is called\n",
    "Need an additional vairable to store change"
   ]
  },
  {
   "cell_type": "code",
   "execution_count": 55,
   "id": "23934e5c",
   "metadata": {},
   "outputs": [
    {
     "data": {
      "text/plain": [
       "{'Mumbai'}"
      ]
     },
     "execution_count": 55,
     "metadata": {},
     "output_type": "execute_result"
    }
   ],
   "source": [
    "cities1 = {'Pune','Mumbai','Goa'}\n",
    "cities2 = {'Maldives','pokhara','Goa','Pune'}\n",
    "cities3 = {'Goa','Delhi','Banaras'}\n",
    "\n",
    "diff_cities = cities1.difference(cities2,cities3)\n",
    "diff_cities"
   ]
  },
  {
   "cell_type": "markdown",
   "id": "2693d6c0",
   "metadata": {},
   "source": [
    "## Differene_update"
   ]
  },
  {
   "cell_type": "code",
   "execution_count": null,
   "id": "4abfa6b5",
   "metadata": {},
   "outputs": [],
   "source": [
    "# Ir reflects the change in same variable."
   ]
  },
  {
   "cell_type": "code",
   "execution_count": 56,
   "id": "3d28cf2d",
   "metadata": {},
   "outputs": [
    {
     "data": {
      "text/plain": [
       "{'Mumbai'}"
      ]
     },
     "execution_count": 56,
     "metadata": {},
     "output_type": "execute_result"
    }
   ],
   "source": [
    "cities1 = {'Pune','Mumbai','Goa'}\n",
    "cities2 = {'Maldives','pokhara','Goa','Pune'}\n",
    "cities3 = {'Goa','Delhi','Banaras'}\n",
    "\n",
    "cities1.difference_update(cities2,cities3)\n",
    "cities1"
   ]
  },
  {
   "cell_type": "markdown",
   "id": "f1582698",
   "metadata": {},
   "source": [
    "## symmetric difference"
   ]
  },
  {
   "cell_type": "raw",
   "id": "1aa8eb69",
   "metadata": {},
   "source": [
    "All the items that arew uncommon from both the sets are shown\n",
    "needs a separate varriable to store the change\n",
    "symmetric_difference takes exactly one arguement"
   ]
  },
  {
   "cell_type": "code",
   "execution_count": 58,
   "id": "6d3b868d",
   "metadata": {},
   "outputs": [
    {
     "data": {
      "text/plain": [
       "{'Maldives', 'Mumbai', 'pokhara'}"
      ]
     },
     "execution_count": 58,
     "metadata": {},
     "output_type": "execute_result"
    }
   ],
   "source": [
    "cities1 = {'Pune','Mumbai','Goa'}\n",
    "cities2 = {'Maldives','pokhara','Goa','Pune'}\n",
    "cities3 = {'Goa','Delhi','Banaras'}\n",
    "\n",
    "uncommon = cities1.symmetric_difference(cities2)\n",
    "uncommon"
   ]
  },
  {
   "cell_type": "code",
   "execution_count": 59,
   "id": "57544d41",
   "metadata": {},
   "outputs": [
    {
     "ename": "TypeError",
     "evalue": "symmetric_difference() takes exactly one argument (2 given)",
     "output_type": "error",
     "traceback": [
      "\u001b[1;31m---------------------------------------------------------------------------\u001b[0m",
      "\u001b[1;31mTypeError\u001b[0m                                 Traceback (most recent call last)",
      "\u001b[1;32m<ipython-input-59-907cb82f62e2>\u001b[0m in \u001b[0;36m<module>\u001b[1;34m\u001b[0m\n\u001b[0;32m      3\u001b[0m \u001b[0mcities3\u001b[0m \u001b[1;33m=\u001b[0m \u001b[1;33m{\u001b[0m\u001b[1;34m'Goa'\u001b[0m\u001b[1;33m,\u001b[0m\u001b[1;34m'Delhi'\u001b[0m\u001b[1;33m,\u001b[0m\u001b[1;34m'Banaras'\u001b[0m\u001b[1;33m}\u001b[0m\u001b[1;33m\u001b[0m\u001b[1;33m\u001b[0m\u001b[0m\n\u001b[0;32m      4\u001b[0m \u001b[1;33m\u001b[0m\u001b[0m\n\u001b[1;32m----> 5\u001b[1;33m \u001b[0muncommon\u001b[0m \u001b[1;33m=\u001b[0m \u001b[0mcities1\u001b[0m\u001b[1;33m.\u001b[0m\u001b[0msymmetric_difference\u001b[0m\u001b[1;33m(\u001b[0m\u001b[0mcities2\u001b[0m\u001b[1;33m,\u001b[0m\u001b[0mcities3\u001b[0m\u001b[1;33m)\u001b[0m\u001b[1;33m\u001b[0m\u001b[1;33m\u001b[0m\u001b[0m\n\u001b[0m\u001b[0;32m      6\u001b[0m \u001b[0muncommon\u001b[0m\u001b[1;33m\u001b[0m\u001b[1;33m\u001b[0m\u001b[0m\n",
      "\u001b[1;31mTypeError\u001b[0m: symmetric_difference() takes exactly one argument (2 given)"
     ]
    }
   ],
   "source": [
    "cities1 = {'Pune','Mumbai','Goa'}\n",
    "cities2 = {'Maldives','pokhara','Goa','Pune'}\n",
    "cities3 = {'Goa','Delhi','Banaras'}\n",
    "\n",
    "uncommon = cities1.symmetric_difference(cities2,cities3)\n",
    "uncommon"
   ]
  },
  {
   "cell_type": "markdown",
   "id": "92b4ebd6",
   "metadata": {},
   "source": [
    "## Symmetric_difference_update"
   ]
  },
  {
   "cell_type": "raw",
   "id": "01a57187",
   "metadata": {},
   "source": [
    "All the items that arew uncommon from both the sets are shown\n",
    "does not needs a separate varriable to store the change\n",
    "symmetric_difference_update takes exactly one arguement"
   ]
  },
  {
   "cell_type": "code",
   "execution_count": 62,
   "id": "ac16c69f",
   "metadata": {},
   "outputs": [
    {
     "data": {
      "text/plain": [
       "{'Banaras', 'Delhi', 'Mumbai', 'Pune'}"
      ]
     },
     "execution_count": 62,
     "metadata": {},
     "output_type": "execute_result"
    }
   ],
   "source": [
    "cities1 = {'Pune','Mumbai','Goa'}\n",
    "cities2 = {'Maldives','pokhara','Goa','Pune'}\n",
    "cities3 = {'Goa','Delhi','Banaras'}\n",
    "\n",
    "cities1.symmetric_difference_update(cities3)\n",
    "cities1"
   ]
  },
  {
   "cell_type": "code",
   "execution_count": 63,
   "id": "39bb0956",
   "metadata": {},
   "outputs": [
    {
     "ename": "TypeError",
     "evalue": "symmetric_difference_update() takes exactly one argument (2 given)",
     "output_type": "error",
     "traceback": [
      "\u001b[1;31m---------------------------------------------------------------------------\u001b[0m",
      "\u001b[1;31mTypeError\u001b[0m                                 Traceback (most recent call last)",
      "\u001b[1;32m<ipython-input-63-c8b6ad8c6d25>\u001b[0m in \u001b[0;36m<module>\u001b[1;34m\u001b[0m\n\u001b[0;32m      3\u001b[0m \u001b[0mcities3\u001b[0m \u001b[1;33m=\u001b[0m \u001b[1;33m{\u001b[0m\u001b[1;34m'Goa'\u001b[0m\u001b[1;33m,\u001b[0m\u001b[1;34m'Delhi'\u001b[0m\u001b[1;33m,\u001b[0m\u001b[1;34m'Banaras'\u001b[0m\u001b[1;33m}\u001b[0m\u001b[1;33m\u001b[0m\u001b[1;33m\u001b[0m\u001b[0m\n\u001b[0;32m      4\u001b[0m \u001b[1;33m\u001b[0m\u001b[0m\n\u001b[1;32m----> 5\u001b[1;33m \u001b[0mcities1\u001b[0m\u001b[1;33m.\u001b[0m\u001b[0msymmetric_difference_update\u001b[0m\u001b[1;33m(\u001b[0m\u001b[0mcities3\u001b[0m\u001b[1;33m,\u001b[0m\u001b[0mcities2\u001b[0m\u001b[1;33m)\u001b[0m\u001b[1;33m\u001b[0m\u001b[1;33m\u001b[0m\u001b[0m\n\u001b[0m\u001b[0;32m      6\u001b[0m \u001b[0mcities1\u001b[0m\u001b[1;33m\u001b[0m\u001b[1;33m\u001b[0m\u001b[0m\n",
      "\u001b[1;31mTypeError\u001b[0m: symmetric_difference_update() takes exactly one argument (2 given)"
     ]
    }
   ],
   "source": [
    "cities1 = {'Pune','Mumbai','Goa'}\n",
    "cities2 = {'Maldives','pokhara','Goa','Pune'}\n",
    "cities3 = {'Goa','Delhi','Banaras'}\n",
    "\n",
    "cities1.symmetric_difference_update(cities3,cities2)\n",
    "cities1"
   ]
  },
  {
   "cell_type": "markdown",
   "id": "dde2202e",
   "metadata": {},
   "source": [
    "## isdisjoint()"
   ]
  },
  {
   "cell_type": "raw",
   "id": "2c3cd0ec",
   "metadata": {},
   "source": [
    "It return boolean values : True or False\n",
    "when there no common items b/w boths sets then it return True else returns false\n",
    "isdisjoint() takes exactly one arguement"
   ]
  },
  {
   "cell_type": "code",
   "execution_count": 65,
   "id": "2728374f",
   "metadata": {},
   "outputs": [
    {
     "data": {
      "text/plain": [
       "False"
      ]
     },
     "execution_count": 65,
     "metadata": {},
     "output_type": "execute_result"
    }
   ],
   "source": [
    "cities1 = {'Pune','Mumbai','Goa'}\n",
    "cities2 = {'Maldives','pokhara','Goa','Pune'}\n",
    "cities3 = {'Delhi','Banaras'}\n",
    "\n",
    "cities1.isdisjoint(cities2)"
   ]
  },
  {
   "cell_type": "code",
   "execution_count": 66,
   "id": "3e4a6dd4",
   "metadata": {},
   "outputs": [
    {
     "data": {
      "text/plain": [
       "True"
      ]
     },
     "execution_count": 66,
     "metadata": {},
     "output_type": "execute_result"
    }
   ],
   "source": [
    "cities1 = {'Pune','Mumbai','Goa'}\n",
    "cities2 = {'Maldives','pokhara','Goa','Pune'}\n",
    "cities3 = {'Delhi','Banaras'}\n",
    "\n",
    "cities3.isdisjoint(cities1)"
   ]
  },
  {
   "cell_type": "code",
   "execution_count": 67,
   "id": "055ecaf0",
   "metadata": {},
   "outputs": [
    {
     "ename": "TypeError",
     "evalue": "isdisjoint() takes exactly one argument (2 given)",
     "output_type": "error",
     "traceback": [
      "\u001b[1;31m---------------------------------------------------------------------------\u001b[0m",
      "\u001b[1;31mTypeError\u001b[0m                                 Traceback (most recent call last)",
      "\u001b[1;32m<ipython-input-67-d3fae3723731>\u001b[0m in \u001b[0;36m<module>\u001b[1;34m\u001b[0m\n\u001b[0;32m      3\u001b[0m \u001b[0mcities3\u001b[0m \u001b[1;33m=\u001b[0m \u001b[1;33m{\u001b[0m\u001b[1;34m'Delhi'\u001b[0m\u001b[1;33m,\u001b[0m\u001b[1;34m'Banaras'\u001b[0m\u001b[1;33m}\u001b[0m\u001b[1;33m\u001b[0m\u001b[1;33m\u001b[0m\u001b[0m\n\u001b[0;32m      4\u001b[0m \u001b[1;33m\u001b[0m\u001b[0m\n\u001b[1;32m----> 5\u001b[1;33m \u001b[0mcities3\u001b[0m\u001b[1;33m.\u001b[0m\u001b[0misdisjoint\u001b[0m\u001b[1;33m(\u001b[0m\u001b[0mcities1\u001b[0m\u001b[1;33m,\u001b[0m\u001b[0mcities2\u001b[0m\u001b[1;33m)\u001b[0m\u001b[1;33m\u001b[0m\u001b[1;33m\u001b[0m\u001b[0m\n\u001b[0m",
      "\u001b[1;31mTypeError\u001b[0m: isdisjoint() takes exactly one argument (2 given)"
     ]
    }
   ],
   "source": [
    "cities1 = {'Pune','Mumbai','Goa'}\n",
    "cities2 = {'Maldives','pokhara','Goa','Pune'}\n",
    "cities3 = {'Delhi','Banaras'}\n",
    "\n",
    "cities3.isdisjoint(cities1,cities2)"
   ]
  },
  {
   "cell_type": "markdown",
   "id": "50da2632",
   "metadata": {},
   "source": [
    "## issubset()"
   ]
  },
  {
   "cell_type": "raw",
   "id": "b57f4028",
   "metadata": {},
   "source": [
    "When all the items of a set on which issubset is called are present into another set which is passed in issubset function then it returns True else it will return False\n",
    "The length of set on which issubset is used is always lesser or equal to the set which is passed in issubset funtion"
   ]
  },
  {
   "cell_type": "code",
   "execution_count": 69,
   "id": "f6ee3bf1",
   "metadata": {},
   "outputs": [
    {
     "data": {
      "text/plain": [
       "False"
      ]
     },
     "execution_count": 69,
     "metadata": {},
     "output_type": "execute_result"
    }
   ],
   "source": [
    "cities1 = {'Pune','Mumbai','Goa'}\n",
    "cities2 = {'Maldives','pokhara','Goa','Pune'}\n",
    "cities3 = {'Delhi','Banaras','Goa'}\n",
    "\n",
    "cities3.issubset(cities1)"
   ]
  },
  {
   "cell_type": "code",
   "execution_count": 70,
   "id": "7166b804",
   "metadata": {},
   "outputs": [
    {
     "data": {
      "text/plain": [
       "True"
      ]
     },
     "execution_count": 70,
     "metadata": {},
     "output_type": "execute_result"
    }
   ],
   "source": [
    "cities1 = {'Pune','Mumbai','Goa','Delhi','Banaras'}\n",
    "cities2 = {'Maldives','pokhara','Goa','Pune'}\n",
    "cities3 = {'Delhi','Banaras','Goa'}\n",
    "\n",
    "cities3.issubset(cities1)      # all items of cities3 are preent in cities1"
   ]
  },
  {
   "cell_type": "markdown",
   "id": "38ee706a",
   "metadata": {},
   "source": [
    "## issuperset()"
   ]
  },
  {
   "cell_type": "raw",
   "id": "7773658b",
   "metadata": {},
   "source": [
    "When all the items of a set which is passed in superset function are present into set on which superset function is called then it returns True else it will return False\n",
    "The length of set on which superset is used is always greater or equal to the set which is passed in issuperset funtion"
   ]
  },
  {
   "cell_type": "code",
   "execution_count": 72,
   "id": "47ef08ed",
   "metadata": {},
   "outputs": [
    {
     "data": {
      "text/plain": [
       "True"
      ]
     },
     "execution_count": 72,
     "metadata": {},
     "output_type": "execute_result"
    }
   ],
   "source": [
    "cities1 = {'Pune','Mumbai','Goa','Delhi','Banaras'}\n",
    "cities2 = {'Maldives','pokhara','Goa','Pune'}\n",
    "cities3 = {'Delhi','Banaras','Goa'}\n",
    "\n",
    "cities1.issuperset(cities3)      # all items of cities3 are preent in cities1"
   ]
  },
  {
   "cell_type": "code",
   "execution_count": 73,
   "id": "ed6a1f29",
   "metadata": {},
   "outputs": [
    {
     "data": {
      "text/plain": [
       "False"
      ]
     },
     "execution_count": 73,
     "metadata": {},
     "output_type": "execute_result"
    }
   ],
   "source": [
    "cities1 = {'Pune','Mumbai','Goa','Delhi','Banaras'}\n",
    "cities2 = {'Maldives','pokhara','Goa','Pune'}\n",
    "cities3 = {'Delhi','Banaras','Goa','Chennai'}\n",
    "\n",
    "cities1.issuperset(cities3)      # all items of cities3 are preent in cities1"
   ]
  },
  {
   "cell_type": "markdown",
   "id": "d7e0487a",
   "metadata": {},
   "source": [
    "# Rest of the functions"
   ]
  },
  {
   "cell_type": "raw",
   "id": "292e6aff",
   "metadata": {},
   "source": [
    "len\n",
    "sum\n",
    "max\n",
    "min\n",
    "mean\n",
    "median\n",
    "mode\n",
    "all\n",
    "any"
   ]
  },
  {
   "cell_type": "markdown",
   "id": "aa7c48ab",
   "metadata": {},
   "source": [
    "# Any"
   ]
  },
  {
   "cell_type": "raw",
   "id": "f1f282e2",
   "metadata": {},
   "source": [
    "It returns True if evan a single items is not 0 or False"
   ]
  },
  {
   "cell_type": "code",
   "execution_count": 74,
   "id": "8261adf8",
   "metadata": {},
   "outputs": [
    {
     "data": {
      "text/plain": [
       "True"
      ]
     },
     "execution_count": 74,
     "metadata": {},
     "output_type": "execute_result"
    }
   ],
   "source": [
    "set1 = {0,7,False,9,-3,200,4}\n",
    "any(set1)"
   ]
  },
  {
   "cell_type": "code",
   "execution_count": 75,
   "id": "9e4091de",
   "metadata": {},
   "outputs": [
    {
     "data": {
      "text/plain": [
       "False"
      ]
     },
     "execution_count": 75,
     "metadata": {},
     "output_type": "execute_result"
    }
   ],
   "source": [
    "set1 = {0,False,0}\n",
    "any(set1)"
   ]
  },
  {
   "cell_type": "code",
   "execution_count": 76,
   "id": "c1c29d31",
   "metadata": {},
   "outputs": [
    {
     "data": {
      "text/plain": [
       "[False, False, False]"
      ]
     },
     "execution_count": 76,
     "metadata": {},
     "output_type": "execute_result"
    }
   ],
   "source": [
    "list1 = ['hi','hello','good morning']\n",
    "check = []\n",
    "\n",
    "for item in list1:\n",
    "    check.append(item.isdigit())\n",
    "    \n",
    "check"
   ]
  },
  {
   "cell_type": "code",
   "execution_count": 77,
   "id": "778cec6b",
   "metadata": {},
   "outputs": [
    {
     "data": {
      "text/plain": [
       "False"
      ]
     },
     "execution_count": 77,
     "metadata": {},
     "output_type": "execute_result"
    }
   ],
   "source": [
    "any(check)"
   ]
  },
  {
   "cell_type": "markdown",
   "id": "286502b5",
   "metadata": {},
   "source": [
    "#### list comprehension"
   ]
  },
  {
   "cell_type": "raw",
   "id": "b02fda9d",
   "metadata": {},
   "source": [
    "1 liner for loop encompassed in square braces.\n",
    "short hand for loop"
   ]
  },
  {
   "cell_type": "code",
   "execution_count": null,
   "id": "7c39cb4c",
   "metadata": {},
   "outputs": [],
   "source": [
    "[item.isdigit() for item in list1]   # list comprehension: "
   ]
  },
  {
   "cell_type": "code",
   "execution_count": 79,
   "id": "f3305861",
   "metadata": {},
   "outputs": [
    {
     "data": {
      "text/plain": [
       "False"
      ]
     },
     "execution_count": 79,
     "metadata": {},
     "output_type": "execute_result"
    }
   ],
   "source": [
    "any([item.isdigit() for item in list1])"
   ]
  },
  {
   "cell_type": "markdown",
   "id": "38243431",
   "metadata": {},
   "source": [
    "# All"
   ]
  },
  {
   "cell_type": "raw",
   "id": "82e62b3b",
   "metadata": {},
   "source": [
    "It returns True if none of the items are 0 or False"
   ]
  },
  {
   "cell_type": "code",
   "execution_count": 80,
   "id": "6359911d",
   "metadata": {},
   "outputs": [
    {
     "data": {
      "text/plain": [
       "False"
      ]
     },
     "execution_count": 80,
     "metadata": {},
     "output_type": "execute_result"
    }
   ],
   "source": [
    "set1 = {0,7,False,9,-3,200,4}\n",
    "all(set1)"
   ]
  },
  {
   "cell_type": "code",
   "execution_count": 81,
   "id": "48216adb",
   "metadata": {},
   "outputs": [
    {
     "data": {
      "text/plain": [
       "True"
      ]
     },
     "execution_count": 81,
     "metadata": {},
     "output_type": "execute_result"
    }
   ],
   "source": [
    "set1 = {7,9,-3,200,4}\n",
    "all(set1)"
   ]
  },
  {
   "cell_type": "code",
   "execution_count": 86,
   "id": "c750a717",
   "metadata": {},
   "outputs": [
    {
     "data": {
      "text/plain": [
       "[True, True, True, True]"
      ]
     },
     "execution_count": 86,
     "metadata": {},
     "output_type": "execute_result"
    }
   ],
   "source": [
    "list1 = [4,16,121,169]\n",
    "check = []\n",
    "\n",
    "for item in list1:\n",
    "    check.append(item%(item**(1/2))==0)\n",
    "    \n",
    "check"
   ]
  },
  {
   "cell_type": "code",
   "execution_count": 87,
   "id": "bbd1d9ee",
   "metadata": {},
   "outputs": [
    {
     "data": {
      "text/plain": [
       "True"
      ]
     },
     "execution_count": 87,
     "metadata": {},
     "output_type": "execute_result"
    }
   ],
   "source": [
    "all([item%(item**(1/2))==0 for item in list1])"
   ]
  },
  {
   "cell_type": "code",
   "execution_count": 89,
   "id": "8da8c951",
   "metadata": {},
   "outputs": [
    {
     "name": "stdout",
     "output_type": "stream",
     "text": [
      "[True, True, True, True, False]\n"
     ]
    },
    {
     "data": {
      "text/plain": [
       "False"
      ]
     },
     "execution_count": 89,
     "metadata": {},
     "output_type": "execute_result"
    }
   ],
   "source": [
    "list1 = [4,16,121,169,170]\n",
    "check = []\n",
    "\n",
    "for item in list1:\n",
    "    check.append(item%(item**(1/2))==0)\n",
    "    \n",
    "print(check)\n",
    "all(check)"
   ]
  },
  {
   "cell_type": "code",
   "execution_count": null,
   "id": "8b5c4cf7",
   "metadata": {},
   "outputs": [],
   "source": []
  }
 ],
 "metadata": {
  "kernelspec": {
   "display_name": "Python 3",
   "language": "python",
   "name": "python3"
  },
  "language_info": {
   "codemirror_mode": {
    "name": "ipython",
    "version": 3
   },
   "file_extension": ".py",
   "mimetype": "text/x-python",
   "name": "python",
   "nbconvert_exporter": "python",
   "pygments_lexer": "ipython3",
   "version": "3.8.8"
  },
  "toc": {
   "base_numbering": 1,
   "nav_menu": {},
   "number_sections": true,
   "sideBar": true,
   "skip_h1_title": false,
   "title_cell": "Table of Contents",
   "title_sidebar": "Contents",
   "toc_cell": false,
   "toc_position": {},
   "toc_section_display": true,
   "toc_window_display": false
  },
  "varInspector": {
   "cols": {
    "lenName": 16,
    "lenType": 16,
    "lenVar": 40
   },
   "kernels_config": {
    "python": {
     "delete_cmd_postfix": "",
     "delete_cmd_prefix": "del ",
     "library": "var_list.py",
     "varRefreshCmd": "print(var_dic_list())"
    },
    "r": {
     "delete_cmd_postfix": ") ",
     "delete_cmd_prefix": "rm(",
     "library": "var_list.r",
     "varRefreshCmd": "cat(var_dic_list()) "
    }
   },
   "types_to_exclude": [
    "module",
    "function",
    "builtin_function_or_method",
    "instance",
    "_Feature"
   ],
   "window_display": false
  }
 },
 "nbformat": 4,
 "nbformat_minor": 5
}
