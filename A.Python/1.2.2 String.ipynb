{
 "cells": [
  {
   "cell_type": "raw",
   "id": "2ff881f2",
   "metadata": {},
   "source": [
    "Define: \n",
    "    String is collection of characters that will be in single, double or triple inverted commas.\n",
    "    It is a data type in python.\n",
    "    String can contain any english character or numbers ir special characters\n",
    "    The string data type is denoted by str"
   ]
  },
  {
   "cell_type": "code",
   "execution_count": 1,
   "id": "101195ed",
   "metadata": {},
   "outputs": [
    {
     "ename": "SyntaxError",
     "evalue": "invalid syntax (1048808772.py, line 1)",
     "output_type": "error",
     "traceback": [
      "\u001b[1;36m  Input \u001b[1;32mIn [1]\u001b[1;36m\u001b[0m\n\u001b[1;33m    hi there\u001b[0m\n\u001b[1;37m       ^\u001b[0m\n\u001b[1;31mSyntaxError\u001b[0m\u001b[1;31m:\u001b[0m invalid syntax\n"
     ]
    }
   ],
   "source": [
    "hi there"
   ]
  },
  {
   "cell_type": "code",
   "execution_count": 2,
   "id": "9923ae20",
   "metadata": {},
   "outputs": [
    {
     "data": {
      "text/plain": [
       "'hi there'"
      ]
     },
     "execution_count": 2,
     "metadata": {},
     "output_type": "execute_result"
    }
   ],
   "source": [
    "'hi there'"
   ]
  },
  {
   "cell_type": "code",
   "execution_count": 3,
   "id": "10918999",
   "metadata": {},
   "outputs": [
    {
     "data": {
      "text/plain": [
       "'hi there 007'"
      ]
     },
     "execution_count": 3,
     "metadata": {},
     "output_type": "execute_result"
    }
   ],
   "source": [
    "my_var = 'hi there 007'\n",
    "my_var"
   ]
  },
  {
   "cell_type": "code",
   "execution_count": 5,
   "id": "bd634fee",
   "metadata": {},
   "outputs": [
    {
     "data": {
      "text/plain": [
       "'107'"
      ]
     },
     "execution_count": 5,
     "metadata": {},
     "output_type": "execute_result"
    }
   ],
   "source": [
    "new_var = '107'\n",
    "new_var"
   ]
  },
  {
   "cell_type": "markdown",
   "id": "e8b9491c",
   "metadata": {},
   "source": [
    "# Type Function"
   ]
  },
  {
   "cell_type": "raw",
   "id": "80069703",
   "metadata": {},
   "source": [
    "is used to check the data type of the variable"
   ]
  },
  {
   "cell_type": "code",
   "execution_count": 6,
   "id": "235cb747",
   "metadata": {},
   "outputs": [
    {
     "data": {
      "text/plain": [
       "str"
      ]
     },
     "execution_count": 6,
     "metadata": {},
     "output_type": "execute_result"
    }
   ],
   "source": [
    "type(new_var)"
   ]
  },
  {
   "cell_type": "code",
   "execution_count": 7,
   "id": "4af26906",
   "metadata": {},
   "outputs": [],
   "source": [
    "a = 10"
   ]
  },
  {
   "cell_type": "code",
   "execution_count": 8,
   "id": "89070c3a",
   "metadata": {},
   "outputs": [
    {
     "data": {
      "text/plain": [
       "int"
      ]
     },
     "execution_count": 8,
     "metadata": {},
     "output_type": "execute_result"
    }
   ],
   "source": [
    "type(a)"
   ]
  },
  {
   "cell_type": "code",
   "execution_count": 9,
   "id": "6d6c8875",
   "metadata": {},
   "outputs": [
    {
     "data": {
      "text/plain": [
       "float"
      ]
     },
     "execution_count": 9,
     "metadata": {},
     "output_type": "execute_result"
    }
   ],
   "source": [
    "b = 10.5\n",
    "type(b)"
   ]
  },
  {
   "cell_type": "code",
   "execution_count": 10,
   "id": "b2ccf841",
   "metadata": {},
   "outputs": [
    {
     "data": {
      "text/plain": [
       "complex"
      ]
     },
     "execution_count": 10,
     "metadata": {},
     "output_type": "execute_result"
    }
   ],
   "source": [
    "c = 3+4j\n",
    "type(c)"
   ]
  },
  {
   "cell_type": "code",
   "execution_count": 11,
   "id": "e8e5ae55",
   "metadata": {},
   "outputs": [
    {
     "data": {
      "text/plain": [
       "int"
      ]
     },
     "execution_count": 11,
     "metadata": {},
     "output_type": "execute_result"
    }
   ],
   "source": [
    "type(5678456)"
   ]
  },
  {
   "cell_type": "code",
   "execution_count": 12,
   "id": "4ced1e11",
   "metadata": {},
   "outputs": [
    {
     "data": {
      "text/plain": [
       "str"
      ]
     },
     "execution_count": 12,
     "metadata": {},
     "output_type": "execute_result"
    }
   ],
   "source": [
    "type('5678456')"
   ]
  },
  {
   "cell_type": "markdown",
   "id": "36843212",
   "metadata": {},
   "source": [
    "### when to use which quotes"
   ]
  },
  {
   "cell_type": "code",
   "execution_count": null,
   "id": "c3168994",
   "metadata": {},
   "outputs": [],
   "source": [
    "single & double inverted commas should be used only for single line string.\n",
    "for multiple lines string triple single or triple double inverted commas should be used."
   ]
  },
  {
   "cell_type": "code",
   "execution_count": 13,
   "id": "e88df3ac",
   "metadata": {},
   "outputs": [
    {
     "data": {
      "text/plain": [
       "' hey this is python class. '"
      ]
     },
     "execution_count": 13,
     "metadata": {},
     "output_type": "execute_result"
    }
   ],
   "source": [
    "' hey this is python class. '"
   ]
  },
  {
   "cell_type": "code",
   "execution_count": 14,
   "id": "b0b8a096",
   "metadata": {},
   "outputs": [
    {
     "data": {
      "text/plain": [
       "'hi this is python class'"
      ]
     },
     "execution_count": 14,
     "metadata": {},
     "output_type": "execute_result"
    }
   ],
   "source": [
    "\"hi this is python class\""
   ]
  },
  {
   "cell_type": "code",
   "execution_count": 15,
   "id": "807be5a8",
   "metadata": {},
   "outputs": [
    {
     "ename": "SyntaxError",
     "evalue": "invalid syntax (424448422.py, line 1)",
     "output_type": "error",
     "traceback": [
      "\u001b[1;36m  Input \u001b[1;32mIn [15]\u001b[1;36m\u001b[0m\n\u001b[1;33m    'hi what's your name?'\u001b[0m\n\u001b[1;37m             ^\u001b[0m\n\u001b[1;31mSyntaxError\u001b[0m\u001b[1;31m:\u001b[0m invalid syntax\n"
     ]
    }
   ],
   "source": [
    "'hi what's your name?'"
   ]
  },
  {
   "cell_type": "code",
   "execution_count": 16,
   "id": "14d26971",
   "metadata": {},
   "outputs": [
    {
     "data": {
      "text/plain": [
       "\"hi what's your name?\""
      ]
     },
     "execution_count": 16,
     "metadata": {},
     "output_type": "execute_result"
    }
   ],
   "source": [
    "\"hi what's your name?\""
   ]
  },
  {
   "cell_type": "code",
   "execution_count": 18,
   "id": "06b7a42b",
   "metadata": {},
   "outputs": [
    {
     "ename": "SyntaxError",
     "evalue": "invalid syntax (2045367908.py, line 1)",
     "output_type": "error",
     "traceback": [
      "\u001b[1;36m  Input \u001b[1;32mIn [18]\u001b[1;36m\u001b[0m\n\u001b[1;33m    \"let me tell you a \"secreat\"!\"\u001b[0m\n\u001b[1;37m                        ^\u001b[0m\n\u001b[1;31mSyntaxError\u001b[0m\u001b[1;31m:\u001b[0m invalid syntax\n"
     ]
    }
   ],
   "source": [
    "\"let me tell you a \"secreat\"!\""
   ]
  },
  {
   "cell_type": "code",
   "execution_count": 17,
   "id": "341ec471",
   "metadata": {
    "scrolled": true
   },
   "outputs": [
    {
     "data": {
      "text/plain": [
       "'let me tell you a \"secreat\"!'"
      ]
     },
     "execution_count": 17,
     "metadata": {},
     "output_type": "execute_result"
    }
   ],
   "source": [
    "'let me tell you a \"secreat\"!'"
   ]
  },
  {
   "cell_type": "code",
   "execution_count": 19,
   "id": "d5a33eaf",
   "metadata": {},
   "outputs": [
    {
     "ename": "SyntaxError",
     "evalue": "EOL while scanning string literal (298752479.py, line 1)",
     "output_type": "error",
     "traceback": [
      "\u001b[1;36m  Input \u001b[1;32mIn [19]\u001b[1;36m\u001b[0m\n\u001b[1;33m    \"Welcome to velocity\u001b[0m\n\u001b[1;37m                        ^\u001b[0m\n\u001b[1;31mSyntaxError\u001b[0m\u001b[1;31m:\u001b[0m EOL while scanning string literal\n"
     ]
    }
   ],
   "source": [
    "\"Welcome to velocity\n",
    "you are in the python class\""
   ]
  },
  {
   "cell_type": "code",
   "execution_count": 21,
   "id": "1e42a8b7",
   "metadata": {},
   "outputs": [
    {
     "data": {
      "text/plain": [
       "'Triple H is the new host of WWE\\n& He also happens to be a formar player of the same game.'"
      ]
     },
     "execution_count": 21,
     "metadata": {},
     "output_type": "execute_result"
    }
   ],
   "source": [
    "\"\"\"Triple H is the new host of WWE\n",
    "& He also happens to be a formar player of the same game.\"\"\""
   ]
  },
  {
   "cell_type": "code",
   "execution_count": 22,
   "id": "5f1ee82d",
   "metadata": {},
   "outputs": [
    {
     "data": {
      "text/plain": [
       "'Triple H is the new host of WWE\\n& He also happens to be a formar player of the same game.'"
      ]
     },
     "execution_count": 22,
     "metadata": {},
     "output_type": "execute_result"
    }
   ],
   "source": [
    "'''Triple H is the new host of WWE\n",
    "& He also happens to be a formar player of the same game.'''"
   ]
  },
  {
   "cell_type": "code",
   "execution_count": 24,
   "id": "345dcf7e",
   "metadata": {},
   "outputs": [
    {
     "data": {
      "text/plain": [
       "\"Triple inverted comma's are here.\""
      ]
     },
     "execution_count": 24,
     "metadata": {},
     "output_type": "execute_result"
    }
   ],
   "source": [
    "'''Triple inverted comma's are here.'''"
   ]
  },
  {
   "cell_type": "markdown",
   "id": "b9129f1d",
   "metadata": {},
   "source": [
    "# Print & Display Function"
   ]
  },
  {
   "cell_type": "code",
   "execution_count": 26,
   "id": "fe11747a",
   "metadata": {},
   "outputs": [
    {
     "data": {
      "text/plain": [
       "'Pravin Kulkarni'"
      ]
     },
     "execution_count": 26,
     "metadata": {},
     "output_type": "execute_result"
    }
   ],
   "source": [
    "'Sagar Kale'\n",
    "'Pravin Kulkarni'"
   ]
  },
  {
   "cell_type": "code",
   "execution_count": 27,
   "id": "20380192",
   "metadata": {
    "scrolled": true
   },
   "outputs": [
    {
     "name": "stdout",
     "output_type": "stream",
     "text": [
      "Sagar Kale\n",
      "Pravin Kulkarni\n"
     ]
    }
   ],
   "source": [
    "print('Sagar Kale')\n",
    "print('Pravin Kulkarni')"
   ]
  },
  {
   "cell_type": "code",
   "execution_count": 28,
   "id": "bf42162d",
   "metadata": {},
   "outputs": [
    {
     "name": "stdout",
     "output_type": "stream",
     "text": [
      "Sagar Kale\n"
     ]
    },
    {
     "data": {
      "text/plain": [
       "'Pravin Kulkarni'"
      ]
     },
     "execution_count": 28,
     "metadata": {},
     "output_type": "execute_result"
    }
   ],
   "source": [
    "print('Sagar Kale')\n",
    "'Pravin Kulkarni'"
   ]
  },
  {
   "cell_type": "code",
   "execution_count": 29,
   "id": "fb374d6d",
   "metadata": {},
   "outputs": [
    {
     "data": {
      "text/plain": [
       "'Sagar Kale'"
      ]
     },
     "metadata": {},
     "output_type": "display_data"
    },
    {
     "data": {
      "text/plain": [
       "'Pravin Kulkarni'"
      ]
     },
     "metadata": {},
     "output_type": "display_data"
    }
   ],
   "source": [
    "display('Sagar Kale')\n",
    "display('Pravin Kulkarni')"
   ]
  },
  {
   "cell_type": "code",
   "execution_count": 30,
   "id": "85fff999",
   "metadata": {},
   "outputs": [],
   "source": [
    "from IPython.display import display"
   ]
  },
  {
   "cell_type": "code",
   "execution_count": 37,
   "id": "ec651616",
   "metadata": {},
   "outputs": [
    {
     "name": "stdout",
     "output_type": "stream",
     "text": [
      "100\n"
     ]
    }
   ],
   "source": [
    "print(100)"
   ]
  },
  {
   "cell_type": "markdown",
   "id": "e212d1a3",
   "metadata": {},
   "source": [
    "#### difference b/w these 2:"
   ]
  },
  {
   "cell_type": "code",
   "execution_count": 31,
   "id": "7a5d21d5",
   "metadata": {},
   "outputs": [
    {
     "data": {
      "text/html": [
       "<div>\n",
       "<style scoped>\n",
       "    .dataframe tbody tr th:only-of-type {\n",
       "        vertical-align: middle;\n",
       "    }\n",
       "\n",
       "    .dataframe tbody tr th {\n",
       "        vertical-align: top;\n",
       "    }\n",
       "\n",
       "    .dataframe thead th {\n",
       "        text-align: right;\n",
       "    }\n",
       "</style>\n",
       "<table border=\"1\" class=\"dataframe\">\n",
       "  <thead>\n",
       "    <tr style=\"text-align: right;\">\n",
       "      <th></th>\n",
       "      <th>A</th>\n",
       "      <th>B</th>\n",
       "    </tr>\n",
       "  </thead>\n",
       "  <tbody>\n",
       "    <tr>\n",
       "      <th>0</th>\n",
       "      <td>1</td>\n",
       "      <td>6</td>\n",
       "    </tr>\n",
       "    <tr>\n",
       "      <th>1</th>\n",
       "      <td>2</td>\n",
       "      <td>7</td>\n",
       "    </tr>\n",
       "    <tr>\n",
       "      <th>2</th>\n",
       "      <td>3</td>\n",
       "      <td>8</td>\n",
       "    </tr>\n",
       "    <tr>\n",
       "      <th>3</th>\n",
       "      <td>4</td>\n",
       "      <td>9</td>\n",
       "    </tr>\n",
       "  </tbody>\n",
       "</table>\n",
       "</div>"
      ],
      "text/plain": [
       "   A  B\n",
       "0  1  6\n",
       "1  2  7\n",
       "2  3  8\n",
       "3  4  9"
      ]
     },
     "execution_count": 31,
     "metadata": {},
     "output_type": "execute_result"
    }
   ],
   "source": [
    "import pandas as pd\n",
    "\n",
    "df = pd.DataFrame({'A':[1,2,3,4],'B':[6,7,8,9]})\n",
    "df"
   ]
  },
  {
   "cell_type": "code",
   "execution_count": 32,
   "id": "00475533",
   "metadata": {},
   "outputs": [
    {
     "name": "stdout",
     "output_type": "stream",
     "text": [
      "   A  B\n",
      "0  1  6\n",
      "1  2  7\n",
      "2  3  8\n",
      "3  4  9\n"
     ]
    }
   ],
   "source": [
    "print(df)"
   ]
  },
  {
   "cell_type": "code",
   "execution_count": 33,
   "id": "b4534661",
   "metadata": {},
   "outputs": [
    {
     "data": {
      "text/html": [
       "<div>\n",
       "<style scoped>\n",
       "    .dataframe tbody tr th:only-of-type {\n",
       "        vertical-align: middle;\n",
       "    }\n",
       "\n",
       "    .dataframe tbody tr th {\n",
       "        vertical-align: top;\n",
       "    }\n",
       "\n",
       "    .dataframe thead th {\n",
       "        text-align: right;\n",
       "    }\n",
       "</style>\n",
       "<table border=\"1\" class=\"dataframe\">\n",
       "  <thead>\n",
       "    <tr style=\"text-align: right;\">\n",
       "      <th></th>\n",
       "      <th>A</th>\n",
       "      <th>B</th>\n",
       "    </tr>\n",
       "  </thead>\n",
       "  <tbody>\n",
       "    <tr>\n",
       "      <th>0</th>\n",
       "      <td>1</td>\n",
       "      <td>6</td>\n",
       "    </tr>\n",
       "    <tr>\n",
       "      <th>1</th>\n",
       "      <td>2</td>\n",
       "      <td>7</td>\n",
       "    </tr>\n",
       "    <tr>\n",
       "      <th>2</th>\n",
       "      <td>3</td>\n",
       "      <td>8</td>\n",
       "    </tr>\n",
       "    <tr>\n",
       "      <th>3</th>\n",
       "      <td>4</td>\n",
       "      <td>9</td>\n",
       "    </tr>\n",
       "  </tbody>\n",
       "</table>\n",
       "</div>"
      ],
      "text/plain": [
       "   A  B\n",
       "0  1  6\n",
       "1  2  7\n",
       "2  3  8\n",
       "3  4  9"
      ]
     },
     "metadata": {},
     "output_type": "display_data"
    }
   ],
   "source": [
    "display(df)"
   ]
  },
  {
   "cell_type": "markdown",
   "id": "52142e0b",
   "metadata": {},
   "source": [
    "# Parameters in print function"
   ]
  },
  {
   "cell_type": "markdown",
   "id": "a1a0d358",
   "metadata": {},
   "source": [
    "## \\n"
   ]
  },
  {
   "cell_type": "raw",
   "id": "0e3fe8ca",
   "metadata": {},
   "source": [
    "is used for new line or next line"
   ]
  },
  {
   "cell_type": "code",
   "execution_count": 36,
   "id": "ccaf2140",
   "metadata": {},
   "outputs": [
    {
     "name": "stdout",
     "output_type": "stream",
     "text": [
      "Welcome to the python course \n",
      "In the velocity Institute.\n"
     ]
    }
   ],
   "source": [
    "print('Welcome to the python course \\nIn the velocity Institute.')"
   ]
  },
  {
   "cell_type": "code",
   "execution_count": 38,
   "id": "b385923c",
   "metadata": {},
   "outputs": [
    {
     "name": "stdout",
     "output_type": "stream",
     "text": [
      "Welcome to the python course \n",
      "In the velocity Institute \n",
      "Data Science is really intersting!\n"
     ]
    }
   ],
   "source": [
    "print('Welcome to the python course \\nIn the velocity Institute \\nData Science is really intersting!')"
   ]
  },
  {
   "cell_type": "markdown",
   "id": "36b8ecef",
   "metadata": {},
   "source": [
    "## \\t"
   ]
  },
  {
   "cell_type": "raw",
   "id": "c9ef2e1c",
   "metadata": {},
   "source": [
    "is used for tab"
   ]
  },
  {
   "cell_type": "code",
   "execution_count": 40,
   "id": "6905aac6",
   "metadata": {},
   "outputs": [
    {
     "name": "stdout",
     "output_type": "stream",
     "text": [
      "Welcome to the python course\tIn the velocity Institute.\n"
     ]
    }
   ],
   "source": [
    "print('Welcome to the python course\\tIn the velocity Institute.')"
   ]
  },
  {
   "cell_type": "code",
   "execution_count": 43,
   "id": "dd02309a",
   "metadata": {},
   "outputs": [
    {
     "name": "stdout",
     "output_type": "stream",
     "text": [
      "Respected sir,\n",
      "\tPlease accept my leave.\n"
     ]
    }
   ],
   "source": [
    "print('Respected sir,\\n\\tPlease accept my leave.')"
   ]
  },
  {
   "cell_type": "code",
   "execution_count": 45,
   "id": "c51a5132",
   "metadata": {},
   "outputs": [
    {
     "name": "stdout",
     "output_type": "stream",
     "text": [
      "Respected sir,\n",
      "\tPlease accept my leave.\n",
      "\tOn an urgent basis.\n"
     ]
    }
   ],
   "source": [
    "print('Respected sir,\\n\\tPlease accept my leave.\\n\\tOn an urgent basis.')"
   ]
  },
  {
   "cell_type": "markdown",
   "id": "47c91e13",
   "metadata": {},
   "source": [
    "## Escape character (\\\\)"
   ]
  },
  {
   "cell_type": "code",
   "execution_count": 49,
   "id": "d8f79821",
   "metadata": {},
   "outputs": [
    {
     "name": "stdout",
     "output_type": "stream",
     "text": [
      "Welcome to class on \the 2nd day\n"
     ]
    }
   ],
   "source": [
    "print('Welcome to class on \\the 2nd day')"
   ]
  },
  {
   "cell_type": "code",
   "execution_count": 50,
   "id": "b8741545",
   "metadata": {},
   "outputs": [
    {
     "name": "stdout",
     "output_type": "stream",
     "text": [
      "Welcome to class on \\the 2nd day\n"
     ]
    }
   ],
   "source": [
    "print('Welcome to class on \\\\the 2nd day')"
   ]
  },
  {
   "cell_type": "code",
   "execution_count": 53,
   "id": "0d5f1809",
   "metadata": {},
   "outputs": [
    {
     "name": "stdout",
     "output_type": "stream",
     "text": [
      "Welcome to \n",
      "ew class on the 2nd day\n"
     ]
    }
   ],
   "source": [
    "print('Welcome to \\new class on the 2nd day')"
   ]
  },
  {
   "cell_type": "code",
   "execution_count": 54,
   "id": "4a2e95ec",
   "metadata": {},
   "outputs": [
    {
     "name": "stdout",
     "output_type": "stream",
     "text": [
      "Welcome to \\new class on the 2nd day\n"
     ]
    }
   ],
   "source": [
    "print('Welcome to \\\\new class on the 2nd day')"
   ]
  },
  {
   "cell_type": "code",
   "execution_count": 55,
   "id": "4703e3ef",
   "metadata": {},
   "outputs": [
    {
     "name": "stdout",
     "output_type": "stream",
     "text": [
      "Welcome to new \\class on the 2nd day\n"
     ]
    }
   ],
   "source": [
    "print('Welcome to new \\class on the 2nd day')"
   ]
  },
  {
   "cell_type": "code",
   "execution_count": 56,
   "id": "c4f889e0",
   "metadata": {},
   "outputs": [
    {
     "name": "stdout",
     "output_type": "stream",
     "text": [
      "Welcome here's the place you wanna be!\n"
     ]
    }
   ],
   "source": [
    "print('Welcome here\\'s the place you wanna be!')"
   ]
  },
  {
   "cell_type": "markdown",
   "id": "30a63a7a",
   "metadata": {},
   "source": [
    "# Raw string"
   ]
  },
  {
   "cell_type": "code",
   "execution_count": 57,
   "id": "69208dc3",
   "metadata": {},
   "outputs": [
    {
     "name": "stdout",
     "output_type": "stream",
     "text": [
      "Welcome to \\new class on the 2nd day\n"
     ]
    }
   ],
   "source": [
    "print(r'Welcome to \\new class on the 2nd day')"
   ]
  },
  {
   "cell_type": "code",
   "execution_count": 58,
   "id": "a02697a9",
   "metadata": {},
   "outputs": [
    {
     "ename": "SyntaxError",
     "evalue": "invalid syntax (4203840290.py, line 1)",
     "output_type": "error",
     "traceback": [
      "\u001b[1;36m  Input \u001b[1;32mIn [58]\u001b[1;36m\u001b[0m\n\u001b[1;33m    r'Welcome here's the place you wanna be!'\u001b[0m\n\u001b[1;37m                   ^\u001b[0m\n\u001b[1;31mSyntaxError\u001b[0m\u001b[1;31m:\u001b[0m invalid syntax\n"
     ]
    }
   ],
   "source": [
    "r'Welcome here's the place you wanna be!'"
   ]
  },
  {
   "cell_type": "code",
   "execution_count": 59,
   "id": "caf829cc",
   "metadata": {},
   "outputs": [
    {
     "ename": "SyntaxError",
     "evalue": "(unicode error) 'unicodeescape' codec can't decode bytes in position 2-3: truncated \\UXXXXXXXX escape (1548982622.py, line 1)",
     "output_type": "error",
     "traceback": [
      "\u001b[1;36m  Input \u001b[1;32mIn [59]\u001b[1;36m\u001b[0m\n\u001b[1;33m    path = \"C:\\Users\\nirmal\\14 July Batch A\"\u001b[0m\n\u001b[1;37m                                            ^\u001b[0m\n\u001b[1;31mSyntaxError\u001b[0m\u001b[1;31m:\u001b[0m (unicode error) 'unicodeescape' codec can't decode bytes in position 2-3: truncated \\UXXXXXXXX escape\n"
     ]
    }
   ],
   "source": [
    "path = \"C:\\Users\\nirmal\\14 July Batch A\"\n",
    "path"
   ]
  },
  {
   "cell_type": "code",
   "execution_count": 60,
   "id": "e57f674f",
   "metadata": {},
   "outputs": [
    {
     "data": {
      "text/plain": [
       "'C:\\\\Users\\\\nirmal\\\\14 July Batch A'"
      ]
     },
     "execution_count": 60,
     "metadata": {},
     "output_type": "execute_result"
    }
   ],
   "source": [
    "path = \"C:\\\\Users\\\\nirmal\\\\14 July Batch A\"\n",
    "path"
   ]
  },
  {
   "cell_type": "code",
   "execution_count": 61,
   "id": "4cae07d5",
   "metadata": {},
   "outputs": [
    {
     "data": {
      "text/plain": [
       "'C:\\\\Users\\\\nirmal\\\\14 July Batch A'"
      ]
     },
     "execution_count": 61,
     "metadata": {},
     "output_type": "execute_result"
    }
   ],
   "source": [
    "path = r\"C:\\Users\\nirmal\\14 July Batch A\"\n",
    "path"
   ]
  },
  {
   "cell_type": "code",
   "execution_count": 62,
   "id": "e0cddc9d",
   "metadata": {},
   "outputs": [
    {
     "name": "stdout",
     "output_type": "stream",
     "text": [
      "C:\\Users\\nirmal\\14 July Batch A\n"
     ]
    }
   ],
   "source": [
    "path = r\"C:\\Users\\nirmal\\14 July Batch A\"\n",
    "print(path)"
   ]
  },
  {
   "cell_type": "markdown",
   "id": "094801f0",
   "metadata": {},
   "source": [
    "# End parameter"
   ]
  },
  {
   "cell_type": "code",
   "execution_count": 63,
   "id": "2439557b",
   "metadata": {},
   "outputs": [
    {
     "name": "stdout",
     "output_type": "stream",
     "text": [
      "Welcome to the python course\n",
      "In the velocity Institute.\n"
     ]
    }
   ],
   "source": [
    "print('Welcome to the python course\\nIn the velocity Institute.')"
   ]
  },
  {
   "cell_type": "code",
   "execution_count": 64,
   "id": "895a3023",
   "metadata": {},
   "outputs": [
    {
     "name": "stdout",
     "output_type": "stream",
     "text": [
      "Welcome to the python course\n",
      "In the velocity Institute.\n"
     ]
    }
   ],
   "source": [
    "print('Welcome to the python course')\n",
    "print('In the velocity Institute.')"
   ]
  },
  {
   "cell_type": "code",
   "execution_count": 66,
   "id": "ecfb8ec7",
   "metadata": {},
   "outputs": [
    {
     "name": "stdout",
     "output_type": "stream",
     "text": [
      "Welcome to the python course\n",
      "\n",
      "In the velocity Institute.\n"
     ]
    }
   ],
   "source": [
    "print('Welcome to the python course',end='\\n\\n')\n",
    "print('In the velocity Institute.')"
   ]
  },
  {
   "cell_type": "code",
   "execution_count": 67,
   "id": "7cd213b7",
   "metadata": {},
   "outputs": [
    {
     "name": "stdout",
     "output_type": "stream",
     "text": [
      "Welcome to the python course In the velocity Institute.\n"
     ]
    }
   ],
   "source": [
    "print('Welcome to the python course',end=' ')\n",
    "print('In the velocity Institute.')"
   ]
  },
  {
   "cell_type": "code",
   "execution_count": 68,
   "id": "bfcbb99a",
   "metadata": {},
   "outputs": [
    {
     "name": "stdout",
     "output_type": "stream",
     "text": [
      "Welcome to the python course\n",
      "In the velocity Institute.\n"
     ]
    }
   ],
   "source": [
    "print('Welcome to the python course',end='\\n')\n",
    "print('In the velocity Institute.')"
   ]
  },
  {
   "cell_type": "code",
   "execution_count": 69,
   "id": "9d2ba690",
   "metadata": {},
   "outputs": [
    {
     "name": "stdout",
     "output_type": "stream",
     "text": [
      "Welcome to the python course+++In the velocity Institute.\n"
     ]
    }
   ],
   "source": [
    "print('Welcome to the python course',end='+++')\n",
    "print('In the velocity Institute.')"
   ]
  },
  {
   "cell_type": "code",
   "execution_count": 71,
   "id": "46b8fe4c",
   "metadata": {},
   "outputs": [
    {
     "name": "stdout",
     "output_type": "stream",
     "text": [
      "Welcome to the python course & you are In the velocity Institute.\n"
     ]
    }
   ],
   "source": [
    "print('Welcome to the python course',end=' & you are ')\n",
    "print('In the velocity Institute.')"
   ]
  },
  {
   "cell_type": "code",
   "execution_count": 72,
   "id": "c349c3e0",
   "metadata": {},
   "outputs": [
    {
     "name": "stdout",
     "output_type": "stream",
     "text": [
      "Welcome to the python course & you are In the velocity Institute. 100% You'll get job here\n"
     ]
    }
   ],
   "source": [
    "print('Welcome to the python course',end=' & you are ')\n",
    "print('In the velocity Institute.',end=' 100% ')\n",
    "print(\"You'll get job here\")"
   ]
  },
  {
   "cell_type": "code",
   "execution_count": 74,
   "id": "8913b60a",
   "metadata": {},
   "outputs": [
    {
     "name": "stdout",
     "output_type": "stream",
     "text": [
      "In the velocity Institute.*****You'll get job here\n"
     ]
    }
   ],
   "source": [
    "H = '*****'\n",
    "print('In the velocity Institute.',end = H)\n",
    "print(\"You'll get job here\")"
   ]
  },
  {
   "cell_type": "markdown",
   "id": "dba041ff",
   "metadata": {},
   "source": [
    "# Sep parameter"
   ]
  },
  {
   "cell_type": "code",
   "execution_count": 76,
   "id": "ccd0f126",
   "metadata": {},
   "outputs": [
    {
     "name": "stdout",
     "output_type": "stream",
     "text": [
      "Welcome to velocity Python is the course you opted for!\n"
     ]
    }
   ],
   "source": [
    "print('Welcome to velocity','Python is the course you opted for!')"
   ]
  },
  {
   "cell_type": "code",
   "execution_count": 77,
   "id": "ff6c2c5f",
   "metadata": {},
   "outputs": [
    {
     "name": "stdout",
     "output_type": "stream",
     "text": [
      "Welcome to velocity______Python is the course you opted for!\n"
     ]
    }
   ],
   "source": [
    "print('Welcome to velocity','Python is the course you opted for!',sep='______')"
   ]
  },
  {
   "cell_type": "code",
   "execution_count": 78,
   "id": "6b61b8d8",
   "metadata": {},
   "outputs": [
    {
     "name": "stdout",
     "output_type": "stream",
     "text": [
      "Welcome to velocity     Python is the course you opted for!\n"
     ]
    }
   ],
   "source": [
    "print('Welcome to velocity','Python is the course you opted for!',sep='     ')"
   ]
  },
  {
   "cell_type": "code",
   "execution_count": 80,
   "id": "ef1f853c",
   "metadata": {},
   "outputs": [
    {
     "name": "stdout",
     "output_type": "stream",
     "text": [
      "Welcome to velocity. Python is the course you opted for!\n"
     ]
    }
   ],
   "source": [
    "print('Welcome to velocity','Python is the course you opted for!',sep='. ')"
   ]
  },
  {
   "cell_type": "code",
   "execution_count": 83,
   "id": "ed45795b",
   "metadata": {},
   "outputs": [
    {
     "name": "stdout",
     "output_type": "stream",
     "text": [
      "Welcome to velocity. Python is the course you opted for. Wish you happy learning ;)\n"
     ]
    }
   ],
   "source": [
    "print('Welcome to velocity','Python is the course you opted for','Wish you happy learning ;)',sep='. ')"
   ]
  },
  {
   "cell_type": "code",
   "execution_count": 84,
   "id": "fe87f8f0",
   "metadata": {},
   "outputs": [
    {
     "name": "stdout",
     "output_type": "stream",
     "text": [
      "Welcome to velocity \n",
      "Python is the course you opted for!\n"
     ]
    }
   ],
   "source": [
    "print('Welcome to velocity','\\nPython is the course you opted for!')"
   ]
  },
  {
   "cell_type": "code",
   "execution_count": 86,
   "id": "1ccc94ae",
   "metadata": {},
   "outputs": [
    {
     "name": "stdout",
     "output_type": "stream",
     "text": [
      "Welcome to velocity\n",
      "Python is the course you opted for!\n"
     ]
    }
   ],
   "source": [
    "print('Welcome to velocity','Python is the course you opted for!',sep='\\n')"
   ]
  },
  {
   "cell_type": "code",
   "execution_count": 88,
   "id": "0ee071ac",
   "metadata": {},
   "outputs": [
    {
     "name": "stdout",
     "output_type": "stream",
     "text": [
      "Welcome to velocity\n",
      "Python is the course you opted for! Along with Machine Learning.\n"
     ]
    }
   ],
   "source": [
    "print('Welcome to velocity','Python is the course you opted for!',sep='\\n',end=' ')\n",
    "print('Along with Machine Learning.')"
   ]
  },
  {
   "cell_type": "code",
   "execution_count": 89,
   "id": "4ee9ef67",
   "metadata": {},
   "outputs": [
    {
     "name": "stdout",
     "output_type": "stream",
     "text": [
      "Welcome to velocity. Python is the course you opted for!\n"
     ]
    }
   ],
   "source": [
    "x = 'Python is the course you opted for!'\n",
    "print('Welcome to velocity',x,sep='. ')"
   ]
  },
  {
   "cell_type": "raw",
   "id": "b4090fe5",
   "metadata": {},
   "source": [
    "Difference between end & sep:\n",
    "    end is used when we have 2 or more print statements following each other.\n",
    "    sep is used when we have 2 or more strings or variables in single print statement."
   ]
  }
 ],
 "metadata": {
  "kernelspec": {
   "display_name": "Python 3 (ipykernel)",
   "language": "python",
   "name": "python3"
  },
  "language_info": {
   "codemirror_mode": {
    "name": "ipython",
    "version": 3
   },
   "file_extension": ".py",
   "mimetype": "text/x-python",
   "name": "python",
   "nbconvert_exporter": "python",
   "pygments_lexer": "ipython3",
   "version": "3.9.12"
  }
 },
 "nbformat": 4,
 "nbformat_minor": 5
}
