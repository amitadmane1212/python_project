{
 "cells": [
  {
   "cell_type": "markdown",
   "id": "f65ce85b",
   "metadata": {},
   "source": [
    "# special characters"
   ]
  },
  {
   "cell_type": "code",
   "execution_count": 1,
   "id": "807f1597",
   "metadata": {},
   "outputs": [],
   "source": [
    "import re"
   ]
  },
  {
   "cell_type": "markdown",
   "id": "8f892a32",
   "metadata": {},
   "source": [
    "## \\s"
   ]
  },
  {
   "cell_type": "raw",
   "id": "c220e99b",
   "metadata": {},
   "source": [
    "\\s >> [ ] >> used for spaces"
   ]
  },
  {
   "cell_type": "code",
   "execution_count": 25,
   "id": "2c40bdeb",
   "metadata": {},
   "outputs": [
    {
     "data": {
      "text/plain": [
       "[' ',\n",
       " ' ',\n",
       " ' ',\n",
       " ' ',\n",
       " ' ',\n",
       " ' ',\n",
       " ' ',\n",
       " ' ',\n",
       " ' ',\n",
       " ' ',\n",
       " ' ',\n",
       " ' ',\n",
       " ' ',\n",
       " ' ',\n",
       " ' ',\n",
       " ' ']"
      ]
     },
     "execution_count": 25,
     "metadata": {},
     "output_type": "execute_result"
    }
   ],
   "source": [
    "Adhar = \"\"\"3456 5468 7842\n",
    "4568 2654   3561\n",
    "4565         1236 5458\"\"\"\n",
    "\n",
    "spaces = re.findall('[ ]',Adhar)\n",
    "spaces"
   ]
  },
  {
   "cell_type": "code",
   "execution_count": 3,
   "id": "df90cf46",
   "metadata": {},
   "outputs": [
    {
     "data": {
      "text/plain": [
       "[' ', ' ', '\\n', ' ', ' ', ' ', ' ', '\\n']"
      ]
     },
     "execution_count": 3,
     "metadata": {},
     "output_type": "execute_result"
    }
   ],
   "source": [
    "spaces = re.findall('\\s',Adhar)\n",
    "spaces"
   ]
  },
  {
   "cell_type": "code",
   "execution_count": 13,
   "id": "2d3a7831",
   "metadata": {},
   "outputs": [
    {
     "data": {
      "text/plain": [
       "['3456 5468 7842']"
      ]
     },
     "execution_count": 13,
     "metadata": {},
     "output_type": "execute_result"
    }
   ],
   "source": [
    "\n",
    "adhar_num = re.findall('\\d{4}\\s\\d{4}\\s\\d{4}',Adhar)\n",
    "adhar_num"
   ]
  },
  {
   "cell_type": "code",
   "execution_count": 9,
   "id": "abb63c5a",
   "metadata": {},
   "outputs": [
    {
     "data": {
      "text/plain": [
       "[<re.Match object; span=(24, 27), match='   '>,\n",
       " <re.Match object; span=(36, 45), match='         '>]"
      ]
     },
     "execution_count": 9,
     "metadata": {},
     "output_type": "execute_result"
    }
   ],
   "source": [
    "mul_spaces = re.finditer('\\s{2,10}',Adhar)\n",
    "[item for item in mul_spaces]"
   ]
  },
  {
   "cell_type": "code",
   "execution_count": 20,
   "id": "7da886b6",
   "metadata": {},
   "outputs": [
    {
     "name": "stdout",
     "output_type": "stream",
     "text": [
      "3456 5468 7842\n",
      "4568 2654 3561\n",
      "4565 1236 5458\n"
     ]
    }
   ],
   "source": [
    "\n",
    "adhar_num = re.sub('[ ]{2,10}',' ',Adhar)\n",
    "print(adhar_num)"
   ]
  },
  {
   "cell_type": "code",
   "execution_count": 31,
   "id": "4a02bf74",
   "metadata": {},
   "outputs": [
    {
     "name": "stdout",
     "output_type": "stream",
     "text": [
      "3456 5468 7842\n",
      "4568 2654 3561\n",
      "4565 1236 5458\n"
     ]
    }
   ],
   "source": [
    "adhar_num = re.sub('\\s\\s+',' ',Adhar)\n",
    "print(adhar_num)"
   ]
  },
  {
   "cell_type": "markdown",
   "id": "67bb0533",
   "metadata": {},
   "source": [
    "## \\S"
   ]
  },
  {
   "cell_type": "raw",
   "id": "2fe22893",
   "metadata": {},
   "source": [
    "\\S >> [^ ] >> everything apart from spaces"
   ]
  },
  {
   "cell_type": "code",
   "execution_count": 36,
   "id": "fbda521b",
   "metadata": {
    "collapsed": true
   },
   "outputs": [
    {
     "data": {
      "text/plain": [
       "['F',\n",
       " 'o',\n",
       " 'o',\n",
       " 't',\n",
       " '_',\n",
       " 'b',\n",
       " 'a',\n",
       " 'l',\n",
       " 'l',\n",
       " 'i',\n",
       " 's',\n",
       " 'a',\n",
       " 'f',\n",
       " 'a',\n",
       " 'm',\n",
       " 'i',\n",
       " 'l',\n",
       " 'y',\n",
       " 'o',\n",
       " 'f',\n",
       " 't',\n",
       " 'e',\n",
       " 'a',\n",
       " 'm',\n",
       " 's',\n",
       " 'p',\n",
       " 'o',\n",
       " 'r',\n",
       " 't',\n",
       " 's',\n",
       " 't',\n",
       " 'h',\n",
       " 'a',\n",
       " 't',\n",
       " 'i',\n",
       " 'n',\n",
       " 'v',\n",
       " 'o',\n",
       " 'l',\n",
       " 'v',\n",
       " 'e',\n",
       " ',',\n",
       " 't',\n",
       " 'o',\n",
       " 'v',\n",
       " 'a',\n",
       " 'r',\n",
       " 'y',\n",
       " 'i',\n",
       " 'n',\n",
       " 'g',\n",
       " 'd',\n",
       " 'e',\n",
       " 'g',\n",
       " 'r',\n",
       " 'e',\n",
       " 'e',\n",
       " 's',\n",
       " ',',\n",
       " 'k',\n",
       " 'i',\n",
       " 'c',\n",
       " 'k',\n",
       " 'i',\n",
       " 'n',\n",
       " 'g',\n",
       " 'a',\n",
       " 'b',\n",
       " 'a',\n",
       " 'l',\n",
       " 'l',\n",
       " 't',\n",
       " 'o',\n",
       " 's',\n",
       " 'c',\n",
       " 'o',\n",
       " 'r',\n",
       " 'e',\n",
       " 'a',\n",
       " 'g',\n",
       " 'o',\n",
       " 'a',\n",
       " 'l',\n",
       " '.',\n",
       " 'U',\n",
       " 'n',\n",
       " 'q',\n",
       " 'u',\n",
       " 'a',\n",
       " 'l',\n",
       " 'i',\n",
       " 'f',\n",
       " 'i',\n",
       " 'e',\n",
       " 'd',\n",
       " ',',\n",
       " 't',\n",
       " 'h',\n",
       " 'e',\n",
       " 'w',\n",
       " 'o',\n",
       " 'r',\n",
       " 'd',\n",
       " 'f',\n",
       " 'o',\n",
       " 'o',\n",
       " 't',\n",
       " 'b',\n",
       " 'a',\n",
       " 'l',\n",
       " 'l',\n",
       " 'n',\n",
       " 'o',\n",
       " 'r',\n",
       " 'm',\n",
       " 'a',\n",
       " 'l',\n",
       " 'l',\n",
       " 'y',\n",
       " 'm',\n",
       " 'e',\n",
       " 'a',\n",
       " 'n',\n",
       " 's',\n",
       " 't',\n",
       " 'h',\n",
       " 'e',\n",
       " 'f',\n",
       " 'o',\n",
       " 'r',\n",
       " 'm',\n",
       " 'o',\n",
       " 'f',\n",
       " 'f',\n",
       " 'o',\n",
       " 'o',\n",
       " 't',\n",
       " 'b',\n",
       " 'a',\n",
       " 'l',\n",
       " 'l',\n",
       " 't',\n",
       " 'h',\n",
       " 'a',\n",
       " 't',\n",
       " 'i',\n",
       " 's',\n",
       " 't',\n",
       " 'h',\n",
       " 'e',\n",
       " 'm',\n",
       " 'o',\n",
       " 's',\n",
       " 't',\n",
       " 'p',\n",
       " 'o',\n",
       " 'p',\n",
       " 'u',\n",
       " 'l',\n",
       " 'a',\n",
       " 'r',\n",
       " 'w',\n",
       " 'h',\n",
       " 'e',\n",
       " 'r',\n",
       " 'e',\n",
       " 't',\n",
       " 'h',\n",
       " 'e',\n",
       " 'w',\n",
       " 'o',\n",
       " 'r',\n",
       " 'd',\n",
       " 'i',\n",
       " 's',\n",
       " 'u',\n",
       " 's',\n",
       " 'e',\n",
       " 'd']"
      ]
     },
     "execution_count": 36,
     "metadata": {},
     "output_type": "execute_result"
    }
   ],
   "source": [
    "football = \"\"\"Foot_ball    is a family of team sports that involve, to varying degrees, kicking a ball to score a goal. Unqualified, the word football normally means the form of football that is the most popular where the word is used\"\"\"\n",
    "\n",
    "result = re.findall('\\S',football)\n",
    "result"
   ]
  },
  {
   "cell_type": "code",
   "execution_count": 37,
   "id": "cce75a24",
   "metadata": {
    "collapsed": true
   },
   "outputs": [
    {
     "data": {
      "text/plain": [
       "['Foot_ball',\n",
       " 'is',\n",
       " 'a',\n",
       " 'family',\n",
       " 'of',\n",
       " 'team',\n",
       " 'sports',\n",
       " 'that',\n",
       " 'involve,',\n",
       " 'to',\n",
       " 'varying',\n",
       " 'degrees,',\n",
       " 'kicking',\n",
       " 'a',\n",
       " 'ball',\n",
       " 'to',\n",
       " 'score',\n",
       " 'a',\n",
       " 'goal.',\n",
       " 'Unqualified,',\n",
       " 'the',\n",
       " 'word',\n",
       " 'football',\n",
       " 'normally',\n",
       " 'means',\n",
       " 'the',\n",
       " 'form',\n",
       " 'of',\n",
       " 'football',\n",
       " 'that',\n",
       " 'is',\n",
       " 'the',\n",
       " 'most',\n",
       " 'popular',\n",
       " 'where',\n",
       " 'the',\n",
       " 'word',\n",
       " 'is',\n",
       " 'used']"
      ]
     },
     "execution_count": 37,
     "metadata": {},
     "output_type": "execute_result"
    }
   ],
   "source": [
    "result = re.findall('\\S{1,15}',football)\n",
    "result"
   ]
  },
  {
   "cell_type": "code",
   "execution_count": 38,
   "id": "b6da6ca7",
   "metadata": {
    "collapsed": true
   },
   "outputs": [
    {
     "data": {
      "text/plain": [
       "['Foot_ball',\n",
       " 'is',\n",
       " 'a',\n",
       " 'family',\n",
       " 'of',\n",
       " 'team',\n",
       " 'sports',\n",
       " 'that',\n",
       " 'involve,',\n",
       " 'to',\n",
       " 'varying',\n",
       " 'degrees,',\n",
       " 'kicking',\n",
       " 'a',\n",
       " 'ball',\n",
       " 'to',\n",
       " 'score',\n",
       " 'a',\n",
       " 'goal.',\n",
       " 'Unqualified,',\n",
       " 'the',\n",
       " 'word',\n",
       " 'football',\n",
       " 'normally',\n",
       " 'means',\n",
       " 'the',\n",
       " 'form',\n",
       " 'of',\n",
       " 'football',\n",
       " 'that',\n",
       " 'is',\n",
       " 'the',\n",
       " 'most',\n",
       " 'popular',\n",
       " 'where',\n",
       " 'the',\n",
       " 'word',\n",
       " 'is',\n",
       " 'used']"
      ]
     },
     "execution_count": 38,
     "metadata": {},
     "output_type": "execute_result"
    }
   ],
   "source": [
    "result = re.findall('[^ ]{1,15}',football)\n",
    "result"
   ]
  },
  {
   "cell_type": "markdown",
   "id": "6a11fc0a",
   "metadata": {},
   "source": [
    "## \\w"
   ]
  },
  {
   "cell_type": "raw",
   "id": "1891d70b",
   "metadata": {},
   "source": [
    "\\w >> [A-Za-z0-9_] >> all alphanumerics & underscore"
   ]
  },
  {
   "cell_type": "code",
   "execution_count": 52,
   "id": "88d362fb",
   "metadata": {
    "collapsed": true
   },
   "outputs": [
    {
     "data": {
      "text/plain": [
       "['F',\n",
       " 'o',\n",
       " 'o',\n",
       " 't',\n",
       " '_',\n",
       " 'b',\n",
       " 'a',\n",
       " 'l',\n",
       " 'l',\n",
       " 'i',\n",
       " 's',\n",
       " 'a',\n",
       " 'f',\n",
       " 'a',\n",
       " 'm',\n",
       " 'i',\n",
       " 'l',\n",
       " 'y',\n",
       " 'o',\n",
       " 'f',\n",
       " 't',\n",
       " 'e',\n",
       " 'a',\n",
       " 'm',\n",
       " '1',\n",
       " '1',\n",
       " 's',\n",
       " 'p',\n",
       " 'o',\n",
       " 'r',\n",
       " 't',\n",
       " 's',\n",
       " 't',\n",
       " 'h',\n",
       " 'a',\n",
       " 't',\n",
       " 'i',\n",
       " 'n',\n",
       " 'v',\n",
       " 'o',\n",
       " 'l',\n",
       " 'v',\n",
       " 'e',\n",
       " 't',\n",
       " 'o',\n",
       " 'v',\n",
       " 'a',\n",
       " 'r',\n",
       " 'y',\n",
       " 'i',\n",
       " 'n',\n",
       " 'g',\n",
       " 'd',\n",
       " 'e',\n",
       " 'g',\n",
       " 'r',\n",
       " 'e',\n",
       " 'e',\n",
       " 's',\n",
       " 'k',\n",
       " 'i',\n",
       " 'c',\n",
       " 'k',\n",
       " 'i',\n",
       " 'n',\n",
       " 'g',\n",
       " 'a',\n",
       " 'b',\n",
       " 'a',\n",
       " 'l',\n",
       " 'l',\n",
       " 't',\n",
       " 'o',\n",
       " 's',\n",
       " 'c',\n",
       " 'o',\n",
       " 'r',\n",
       " 'e',\n",
       " 'a',\n",
       " 'g',\n",
       " 'o',\n",
       " 'a',\n",
       " 'l',\n",
       " 'U',\n",
       " 'n',\n",
       " 'q',\n",
       " 'u',\n",
       " 'a',\n",
       " 'l',\n",
       " 'i',\n",
       " 'f',\n",
       " 'i',\n",
       " 'e',\n",
       " 'd',\n",
       " 't',\n",
       " 'h',\n",
       " 'e',\n",
       " 'w',\n",
       " 'o',\n",
       " 'r',\n",
       " 'd',\n",
       " 'f',\n",
       " 'o',\n",
       " 'o',\n",
       " 't',\n",
       " 'b',\n",
       " 'a',\n",
       " 'l',\n",
       " 'l',\n",
       " 'n',\n",
       " 'o',\n",
       " 'r',\n",
       " 'm',\n",
       " 'a',\n",
       " 'l',\n",
       " 'l',\n",
       " 'y',\n",
       " 'm',\n",
       " 'e',\n",
       " 'a',\n",
       " 'n',\n",
       " 's',\n",
       " 't',\n",
       " 'h',\n",
       " 'e',\n",
       " 'f',\n",
       " 'o',\n",
       " 'r',\n",
       " 'm',\n",
       " 'o',\n",
       " 'f',\n",
       " 'f',\n",
       " 'o',\n",
       " 'o',\n",
       " 't',\n",
       " 'b',\n",
       " 'a',\n",
       " 'l',\n",
       " 'l',\n",
       " 't',\n",
       " 'h',\n",
       " 'a',\n",
       " 't',\n",
       " 'i',\n",
       " 's',\n",
       " 't',\n",
       " 'h',\n",
       " 'e',\n",
       " 'm',\n",
       " 'o',\n",
       " 's',\n",
       " 't',\n",
       " 'p',\n",
       " 'o',\n",
       " 'p',\n",
       " 'u',\n",
       " 'l',\n",
       " 'a',\n",
       " 'r',\n",
       " 'w',\n",
       " 'h',\n",
       " 'e',\n",
       " 'r',\n",
       " 'e',\n",
       " 't',\n",
       " 'h',\n",
       " 'e',\n",
       " 'w',\n",
       " 'o',\n",
       " 'r',\n",
       " 'd',\n",
       " 'i',\n",
       " 's',\n",
       " 'u',\n",
       " 's',\n",
       " 'e',\n",
       " 'd']"
      ]
     },
     "execution_count": 52,
     "metadata": {},
     "output_type": "execute_result"
    }
   ],
   "source": [
    "football = \"\"\"Foot_ball    is a family of team11 sports that involve, to varying degrees, kicking a ball to score a goal. Unqualified, the word football normally means the form of football that is the most popular where the word is used\"\"\"\n",
    "\n",
    "result = re.findall('\\w',football)\n",
    "result"
   ]
  },
  {
   "cell_type": "code",
   "execution_count": 53,
   "id": "49acfa4b",
   "metadata": {
    "collapsed": true
   },
   "outputs": [
    {
     "data": {
      "text/plain": [
       "['Foot_ball',\n",
       " 'is',\n",
       " 'a',\n",
       " 'family',\n",
       " 'of',\n",
       " 'team11',\n",
       " 'sports',\n",
       " 'that',\n",
       " 'involve',\n",
       " 'to',\n",
       " 'varying',\n",
       " 'degrees',\n",
       " 'kicking',\n",
       " 'a',\n",
       " 'ball',\n",
       " 'to',\n",
       " 'score',\n",
       " 'a',\n",
       " 'goal',\n",
       " 'Unqualified',\n",
       " 'the',\n",
       " 'word',\n",
       " 'football',\n",
       " 'normally',\n",
       " 'means',\n",
       " 'the',\n",
       " 'form',\n",
       " 'of',\n",
       " 'football',\n",
       " 'that',\n",
       " 'is',\n",
       " 'the',\n",
       " 'most',\n",
       " 'popular',\n",
       " 'where',\n",
       " 'the',\n",
       " 'word',\n",
       " 'is',\n",
       " 'used']"
      ]
     },
     "execution_count": 53,
     "metadata": {},
     "output_type": "execute_result"
    }
   ],
   "source": [
    "result = re.findall('\\w{1,15}',football)\n",
    "result"
   ]
  },
  {
   "cell_type": "code",
   "execution_count": 55,
   "id": "5e359df9",
   "metadata": {},
   "outputs": [
    {
     "data": {
      "text/plain": [
       "['SBIN00012345', 'KOTAK356000125', 'ICICI500000302']"
      ]
     },
     "execution_count": 55,
     "metadata": {},
     "output_type": "execute_result"
    }
   ],
   "source": [
    "IFSC_codes = \"\"\"SBIN00012345\n",
    "KOTAK356000125\n",
    "ICICI500000302\"\"\"\n",
    "\n",
    "codes = re.findall('\\w{4,5}\\d{5,15}',IFSC_codes)\n",
    "codes"
   ]
  },
  {
   "cell_type": "markdown",
   "id": "e5533b2e",
   "metadata": {},
   "source": [
    "## \\W"
   ]
  },
  {
   "cell_type": "raw",
   "id": "8c7a8ca9",
   "metadata": {},
   "source": [
    "\\W >> [^A-Za-z0-9_]>> everything apart from alphanumerics & _"
   ]
  },
  {
   "cell_type": "code",
   "execution_count": 62,
   "id": "d1c028c1",
   "metadata": {},
   "outputs": [
    {
     "data": {
      "text/plain": [
       "['&', '!', '\\n', '@', '$', '*', '-', '%', '(']"
      ]
     },
     "execution_count": 62,
     "metadata": {},
     "output_type": "execute_result"
    }
   ],
   "source": [
    "Adhar = \"\"\"9456&6453 ! 7845\n",
    "8645 7458 @       9853\n",
    "5364 $      759* 41523\n",
    "8456-7458-9245\n",
    "86421542% 1452 _ Hi (Hello\n",
    "32874 32984\n",
    "hey there \"\"\"\n",
    "\n",
    "codes = re.findall('\\W',Adhar)\n",
    "unique_codes = []\n",
    "[unique_codes.append(i) for i in codes if i not in unique_codes]\n",
    "\n",
    "unique_codes.remove(' ')\n",
    "unique_codes"
   ]
  },
  {
   "cell_type": "markdown",
   "id": "fe68b707",
   "metadata": {},
   "source": [
    "## \\b"
   ]
  },
  {
   "cell_type": "raw",
   "id": "325291e9",
   "metadata": {},
   "source": [
    "checks for characters at the begenning & at the end of the pattern\n",
    "nothing should be there in the begenning of the pattern than space or \\n or full stop if \\b is in the begenning of the pattern\n",
    "nothingthing should be after the pattern except space & \\n & full stop if \\b is at there end of the pattern"
   ]
  },
  {
   "cell_type": "code",
   "execution_count": 63,
   "id": "17d33994",
   "metadata": {},
   "outputs": [
    {
     "data": {
      "text/plain": [
       "['ASHBU7834G', 'MHJGG4857F']"
      ]
     },
     "execution_count": 63,
     "metadata": {},
     "output_type": "execute_result"
    }
   ],
   "source": [
    "pan_data = \"\"\"pan card numbers:\n",
    "BASHBU7834G\n",
    "MHJGG4857F\n",
    "ahbdy9023F\n",
    "12skk6457k\n",
    "A_HJK9023H\n",
    "AGHK89049J\n",
    "AFLAF89070\n",
    "KLHIP****G\"\"\"\n",
    "\n",
    "PAN_DATA = re.findall('[A-Z]{5}[0-9]{4}[A-Z]',pan_data)\n",
    "PAN_DATA\n"
   ]
  },
  {
   "cell_type": "code",
   "execution_count": 65,
   "id": "8d205f85",
   "metadata": {},
   "outputs": [
    {
     "data": {
      "text/plain": [
       "['MHJGG4857F']"
      ]
     },
     "execution_count": 65,
     "metadata": {},
     "output_type": "execute_result"
    }
   ],
   "source": [
    "PAN_DATA = re.findall(r'\\b[A-Z]{5}[0-9]{4}[A-Z]\\b',pan_data)\n",
    "PAN_DATA"
   ]
  },
  {
   "cell_type": "code",
   "execution_count": 68,
   "id": "0437bf3f",
   "metadata": {},
   "outputs": [
    {
     "data": {
      "text/plain": [
       "['8765645625', '8469536598']"
      ]
     },
     "execution_count": 68,
     "metadata": {},
     "output_type": "execute_result"
    }
   ],
   "source": [
    "phone_nums = \"\"\"8765645625\n",
    "8469536598 9867511141230\n",
    "90000456854\"\"\"\n",
    "\n",
    "ph_nums = re.findall(r'\\b\\d{10}\\b',phone_nums)\n",
    "ph_nums"
   ]
  },
  {
   "cell_type": "code",
   "execution_count": 69,
   "id": "850a75ba",
   "metadata": {},
   "outputs": [
    {
     "data": {
      "text/plain": [
       "['Python', 'Python', 'Python', 'Python']"
      ]
     },
     "execution_count": 69,
     "metadata": {},
     "output_type": "execute_result"
    }
   ],
   "source": [
    "data = 'Python is so good. I really like Python. PythonPython is all I say.'\n",
    "\n",
    "matches = re.findall('Python',data)\n",
    "matches"
   ]
  },
  {
   "cell_type": "code",
   "execution_count": 70,
   "id": "6077c307",
   "metadata": {},
   "outputs": [
    {
     "data": {
      "text/plain": [
       "['Python', 'Python']"
      ]
     },
     "execution_count": 70,
     "metadata": {},
     "output_type": "execute_result"
    }
   ],
   "source": [
    "matches = re.findall(r'\\bPython\\b',data)\n",
    "matches"
   ]
  },
  {
   "cell_type": "code",
   "execution_count": 71,
   "id": "bd4f4ffc",
   "metadata": {},
   "outputs": [
    {
     "data": {
      "text/plain": [
       "['Python', 'python']"
      ]
     },
     "execution_count": 71,
     "metadata": {},
     "output_type": "execute_result"
    }
   ],
   "source": [
    "data = 'Python is so good. I really like python. PythonPython is all I say.'\n",
    "\n",
    "matches = re.findall(r'\\b[Pp]ython\\b',data)\n",
    "matches"
   ]
  },
  {
   "cell_type": "markdown",
   "id": "03c9923c",
   "metadata": {},
   "source": [
    "# Search()"
   ]
  },
  {
   "cell_type": "raw",
   "id": "007a250b",
   "metadata": {},
   "source": [
    "It searches & finds only the first occurance where the match is found\n",
    "\n",
    "re.search(pattern,text)"
   ]
  },
  {
   "cell_type": "code",
   "execution_count": 82,
   "id": "79640d2e",
   "metadata": {},
   "outputs": [
    {
     "data": {
      "text/plain": [
       "<re.Match object; span=(4, 10), match='Python'>"
      ]
     },
     "execution_count": 82,
     "metadata": {},
     "output_type": "execute_result"
    }
   ],
   "source": [
    "data = 'Hi. Python is so good. I really like python. PythonPython is all I say.'\n",
    "\n",
    "match = re.search(r'\\b[Pp]ython\\b',data)\n",
    "match"
   ]
  },
  {
   "cell_type": "code",
   "execution_count": 84,
   "id": "a3ab05cb",
   "metadata": {},
   "outputs": [
    {
     "data": {
      "text/plain": [
       "'Python'"
      ]
     },
     "execution_count": 84,
     "metadata": {},
     "output_type": "execute_result"
    }
   ],
   "source": [
    "match.group()"
   ]
  },
  {
   "cell_type": "code",
   "execution_count": 85,
   "id": "30a3c8ed",
   "metadata": {},
   "outputs": [
    {
     "data": {
      "text/plain": [
       "(4, 10)"
      ]
     },
     "execution_count": 85,
     "metadata": {},
     "output_type": "execute_result"
    }
   ],
   "source": [
    "match.span()"
   ]
  },
  {
   "cell_type": "code",
   "execution_count": 86,
   "id": "3e02148a",
   "metadata": {},
   "outputs": [
    {
     "data": {
      "text/plain": [
       "4"
      ]
     },
     "execution_count": 86,
     "metadata": {},
     "output_type": "execute_result"
    }
   ],
   "source": [
    "match.start()"
   ]
  },
  {
   "cell_type": "code",
   "execution_count": 87,
   "id": "c61f0e1c",
   "metadata": {},
   "outputs": [
    {
     "data": {
      "text/plain": [
       "10"
      ]
     },
     "execution_count": 87,
     "metadata": {},
     "output_type": "execute_result"
    }
   ],
   "source": [
    "match.end()"
   ]
  },
  {
   "cell_type": "markdown",
   "id": "b697a8a9",
   "metadata": {},
   "source": [
    "# Match"
   ]
  },
  {
   "cell_type": "raw",
   "id": "e30cca11",
   "metadata": {},
   "source": [
    "checks for the 0th index item. If that matches the pattern then it returns an object\n",
    "just similar to startswith function of strings"
   ]
  },
  {
   "cell_type": "code",
   "execution_count": 92,
   "id": "837f51a0",
   "metadata": {},
   "outputs": [
    {
     "data": {
      "text/plain": [
       "<re.Match object; span=(0, 6), match='Python'>"
      ]
     },
     "execution_count": 92,
     "metadata": {},
     "output_type": "execute_result"
    }
   ],
   "source": [
    "data = 'Python is so good. I really like python. PythonPython is all I say.'\n",
    "\n",
    "match = re.match(r'[Pp]ython',data)\n",
    "match"
   ]
  },
  {
   "cell_type": "code",
   "execution_count": 94,
   "id": "9fcd1e78",
   "metadata": {},
   "outputs": [
    {
     "data": {
      "text/plain": [
       "<re.Match object; span=(0, 2), match='Py'>"
      ]
     },
     "execution_count": 94,
     "metadata": {},
     "output_type": "execute_result"
    }
   ],
   "source": [
    "match = re.match(r'[A-z]{2}',data)\n",
    "match"
   ]
  },
  {
   "cell_type": "code",
   "execution_count": 96,
   "id": "a644daaf",
   "metadata": {},
   "outputs": [
    {
     "data": {
      "text/plain": [
       "<re.Match object; span=(0, 1), match='P'>"
      ]
     },
     "execution_count": 96,
     "metadata": {},
     "output_type": "execute_result"
    }
   ],
   "source": [
    "match = re.match('P',data)\n",
    "match"
   ]
  },
  {
   "cell_type": "markdown",
   "id": "b1b2cdb3",
   "metadata": {},
   "source": [
    "# Sub"
   ]
  },
  {
   "cell_type": "raw",
   "id": "e0f180d1",
   "metadata": {},
   "source": [
    "It is used to replace all the formats that mateches given pattern with the substring"
   ]
  },
  {
   "cell_type": "code",
   "execution_count": 98,
   "id": "27a9e7ae",
   "metadata": {},
   "outputs": [
    {
     "data": {
      "text/plain": [
       "'ML & data science learning. ML is easy'"
      ]
     },
     "execution_count": 98,
     "metadata": {},
     "output_type": "execute_result"
    }
   ],
   "source": [
    "string = \"\"\"Python & data science learning. Python is easy\"\"\"\n",
    "\n",
    "final_string = re.sub('Python','ML',string)\n",
    "final_string"
   ]
  },
  {
   "cell_type": "code",
   "execution_count": 104,
   "id": "1ca4dba1",
   "metadata": {},
   "outputs": [
    {
     "data": {
      "text/plain": [
       "'Python & data science learning. Python ML is intresting'"
      ]
     },
     "execution_count": 104,
     "metadata": {},
     "output_type": "execute_result"
    }
   ],
   "source": [
    "string = \"\"\"Python & data science learning. Python programming is intresting\"\"\"\n",
    "\n",
    "final_string = re.sub('\\w{11,20}','ML',string)\n",
    "final_string"
   ]
  },
  {
   "cell_type": "code",
   "execution_count": 108,
   "id": "e67d8c59",
   "metadata": {},
   "outputs": [
    {
     "data": {
      "text/plain": [
       "'Python & data science learning. Python programming is intresting'"
      ]
     },
     "execution_count": 108,
     "metadata": {},
     "output_type": "execute_result"
    }
   ],
   "source": [
    "string = \"\"\"Python  &           data science learning.      Python programming       is intresting\"\"\"\n",
    "\n",
    "final_string = re.sub('\\s\\s+', ' ',string)\n",
    "final_string"
   ]
  },
  {
   "cell_type": "code",
   "execution_count": 132,
   "id": "3ba1189b",
   "metadata": {},
   "outputs": [
    {
     "name": "stdout",
     "output_type": "stream",
     "text": [
      "9456 6453   7845\n",
      "8645 7458         9853\n",
      "5364        759  41523\n",
      "8456 7458 9245\n",
      "86421542  1452    \n",
      "32874 32984\n",
      "    \n",
      "9456 6453 7845\n",
      "8645 7458 9853\n",
      "5364 759 41523\n",
      "8456 7458 9245\n",
      "86421542 1452\n",
      "32874 32984 \n"
     ]
    },
    {
     "data": {
      "text/plain": [
       "['9456 6453 7845', '8645 7458 9853', '8456 7458 9245']"
      ]
     },
     "execution_count": 132,
     "metadata": {},
     "output_type": "execute_result"
    }
   ],
   "source": [
    "Adhar = \"\"\"9456&6453 ! 7845\n",
    "8645 7458 @       9853\n",
    "5364 $      759* 41523\n",
    "8456-7458-9245\n",
    "86421542% 1452 Hi (Hello\n",
    "32874 32984\n",
    "hey there \"\"\"\n",
    "\n",
    "adhar_nums = re.sub(\"\"\"[^0-9 \n",
    "]{1,10}\"\"\",' ',Adhar)\n",
    "\n",
    "print(adhar_nums)\n",
    "\n",
    "\n",
    "processed_data = re.sub('''\\s\\s+\n",
    "''','\\n',adhar_nums)\n",
    "\n",
    "final_data = re.sub('''\\s\\s+''',' ',processed_data)\n",
    "print(final_data)\n",
    "\n",
    "re.findall(r'\\b\\d{4}\\s\\d{4}\\s\\d{4}\\b',final_data)"
   ]
  },
  {
   "cell_type": "markdown",
   "id": "7f6076cb",
   "metadata": {},
   "source": [
    "# compile()"
   ]
  },
  {
   "cell_type": "code",
   "execution_count": 134,
   "id": "40fc0222",
   "metadata": {},
   "outputs": [
    {
     "name": "stdout",
     "output_type": "stream",
     "text": [
      "re.compile('\\\\b\\\\d{4}\\\\s\\\\d{4}\\\\s\\\\d{4}\\\\b')\n"
     ]
    },
    {
     "data": {
      "text/plain": [
       "['9456 6453 7845', '8645 7458 9853', '8456 7458 9245']"
      ]
     },
     "execution_count": 134,
     "metadata": {},
     "output_type": "execute_result"
    }
   ],
   "source": [
    "numbers = \"\"\"9456 6453 7845\n",
    "8645 7458 9853\n",
    "5364 759 41523\n",
    "8456 7458 9245\n",
    "86421542 1452\n",
    "32874 32984 \"\"\"\n",
    "\n",
    "pattern = re.compile(r'\\b\\d{4}\\s\\d{4}\\s\\d{4}\\b')\n",
    "print(pattern)\n",
    "\n",
    "\n",
    "re.findall(pattern,numbers)"
   ]
  },
  {
   "cell_type": "code",
   "execution_count": 135,
   "id": "8afb5431",
   "metadata": {},
   "outputs": [
    {
     "data": {
      "text/plain": [
       "['9456 6453 7845', '8645 7458 9853', '8456 7458 9245']"
      ]
     },
     "execution_count": 135,
     "metadata": {},
     "output_type": "execute_result"
    }
   ],
   "source": [
    "pattern.findall(numbers)"
   ]
  },
  {
   "cell_type": "code",
   "execution_count": null,
   "id": "720d49d7",
   "metadata": {},
   "outputs": [],
   "source": [
    " "
   ]
  }
 ],
 "metadata": {
  "kernelspec": {
   "display_name": "Python 3",
   "language": "python",
   "name": "python3"
  },
  "language_info": {
   "codemirror_mode": {
    "name": "ipython",
    "version": 3
   },
   "file_extension": ".py",
   "mimetype": "text/x-python",
   "name": "python",
   "nbconvert_exporter": "python",
   "pygments_lexer": "ipython3",
   "version": "3.8.8"
  },
  "toc": {
   "base_numbering": 1,
   "nav_menu": {},
   "number_sections": true,
   "sideBar": true,
   "skip_h1_title": false,
   "title_cell": "Table of Contents",
   "title_sidebar": "Contents",
   "toc_cell": false,
   "toc_position": {},
   "toc_section_display": true,
   "toc_window_display": false
  },
  "varInspector": {
   "cols": {
    "lenName": 16,
    "lenType": 16,
    "lenVar": 40
   },
   "kernels_config": {
    "python": {
     "delete_cmd_postfix": "",
     "delete_cmd_prefix": "del ",
     "library": "var_list.py",
     "varRefreshCmd": "print(var_dic_list())"
    },
    "r": {
     "delete_cmd_postfix": ") ",
     "delete_cmd_prefix": "rm(",
     "library": "var_list.r",
     "varRefreshCmd": "cat(var_dic_list()) "
    }
   },
   "types_to_exclude": [
    "module",
    "function",
    "builtin_function_or_method",
    "instance",
    "_Feature"
   ],
   "window_display": false
  }
 },
 "nbformat": 4,
 "nbformat_minor": 5
}
