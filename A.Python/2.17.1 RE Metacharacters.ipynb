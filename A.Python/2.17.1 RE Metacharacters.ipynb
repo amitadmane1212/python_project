{
 "cells": [
  {
   "cell_type": "markdown",
   "id": "39531536",
   "metadata": {},
   "source": [
    "# Metacharachters"
   ]
  },
  {
   "cell_type": "raw",
   "id": "3b3ecdaf",
   "metadata": {},
   "source": [
    "characters with specica meaning in re"
   ]
  },
  {
   "cell_type": "code",
   "execution_count": 2,
   "id": "785321f3",
   "metadata": {},
   "outputs": [],
   "source": [
    "import re"
   ]
  },
  {
   "cell_type": "markdown",
   "id": "756f3a62",
   "metadata": {},
   "source": [
    "## PLus (+)"
   ]
  },
  {
   "cell_type": "raw",
   "id": "056d0a8b",
   "metadata": {},
   "source": [
    "+ >> one or more occuraces"
   ]
  },
  {
   "cell_type": "code",
   "execution_count": 3,
   "id": "fb8bfe27",
   "metadata": {},
   "outputs": [
    {
     "data": {
      "text/plain": [
       "['python', 'python', 'python', 'python', 'python']"
      ]
     },
     "execution_count": 3,
     "metadata": {},
     "output_type": "execute_result"
    }
   ],
   "source": [
    "string = \"pythonpythonpython pythooon pythn & pythonpython is all I know\"\n",
    "\n",
    "found= re.findall('python+',string)\n",
    "found"
   ]
  },
  {
   "cell_type": "code",
   "execution_count": 4,
   "id": "47f138f5",
   "metadata": {},
   "outputs": [
    {
     "data": {
      "text/plain": [
       "['pytho', 'pytho', 'pytho', 'pythooo', 'pytho', 'pytho']"
      ]
     },
     "execution_count": 4,
     "metadata": {},
     "output_type": "execute_result"
    }
   ],
   "source": [
    "found= re.findall('pytho+',string)\n",
    "found"
   ]
  },
  {
   "cell_type": "code",
   "execution_count": 7,
   "id": "c30ac906",
   "metadata": {},
   "outputs": [
    {
     "data": {
      "text/plain": [
       "['       ', '                    ', '   ']"
      ]
     },
     "execution_count": 7,
     "metadata": {},
     "output_type": "execute_result"
    }
   ],
   "source": [
    "string = \"pythonpythonpython pythooon       pythn &                    pythonpython   is all I know\"\n",
    "\n",
    "found= re.findall('[ ][ ]+',string)\n",
    "found"
   ]
  },
  {
   "cell_type": "code",
   "execution_count": 8,
   "id": "c25d666f",
   "metadata": {},
   "outputs": [
    {
     "data": {
      "text/plain": [
       "'pythonpythonpython pythooon pythn & pythonpython is all I know'"
      ]
     },
     "execution_count": 8,
     "metadata": {},
     "output_type": "execute_result"
    }
   ],
   "source": [
    "found= re.sub('\\s\\s+',' ',string)\n",
    "found"
   ]
  },
  {
   "cell_type": "code",
   "execution_count": 11,
   "id": "4cfee65d",
   "metadata": {},
   "outputs": [
    {
     "data": {
      "text/plain": [
       "['pytthon']"
      ]
     },
     "execution_count": 11,
     "metadata": {},
     "output_type": "execute_result"
    }
   ],
   "source": [
    "string = \"pythonpyhonpython pythooon pytthn & pytthonpython is all I know\"\n",
    "\n",
    "result = re.findall('pytt+ho+n',string)\n",
    "result"
   ]
  },
  {
   "cell_type": "code",
   "execution_count": 12,
   "id": "960296d3",
   "metadata": {},
   "outputs": [
    {
     "data": {
      "text/plain": [
       "['pythonpyhonpython', 'pythooon', 'pytthn', 'pytthonpython', 'no']"
      ]
     },
     "execution_count": 12,
     "metadata": {},
     "output_type": "execute_result"
    }
   ],
   "source": [
    "result = re.findall('[python]+',string)\n",
    "result"
   ]
  },
  {
   "cell_type": "markdown",
   "id": "5d262a8a",
   "metadata": {},
   "source": [
    "## * astrix"
   ]
  },
  {
   "cell_type": "raw",
   "id": "7e0864ad",
   "metadata": {},
   "source": [
    "* >> zero or more occurances"
   ]
  },
  {
   "cell_type": "code",
   "execution_count": 13,
   "id": "e0757401",
   "metadata": {},
   "outputs": [
    {
     "data": {
      "text/plain": [
       "['pythonnnnn', 'python', 'python', 'pythooo', 'python', 'python']"
      ]
     },
     "execution_count": 13,
     "metadata": {},
     "output_type": "execute_result"
    }
   ],
   "source": [
    "string = \"pythonnnnnpythonpython pythooo pythn & pythonpython is all I know\"\n",
    "\n",
    "found= re.findall('pytho+n*',string)\n",
    "found"
   ]
  },
  {
   "cell_type": "code",
   "execution_count": 15,
   "id": "0d6b8a49",
   "metadata": {},
   "outputs": [
    {
     "data": {
      "text/plain": [
       "['HDGCG6574H', 'HGFDC8695', 'HITKS9874EEEEE']"
      ]
     },
     "execution_count": 15,
     "metadata": {},
     "output_type": "execute_result"
    }
   ],
   "source": [
    "data_entry = \"\"\"HDGCG6574H\n",
    "HGFDC8695\n",
    "HITKS9874EEEEE\"\"\"\n",
    "\n",
    "IFSC = re.findall('[A-Z]{5}[0-9]{4}[A-Z]*',data_entry)\n",
    "IFSC"
   ]
  },
  {
   "cell_type": "markdown",
   "id": "15dd51d1",
   "metadata": {},
   "source": [
    "## . (dot)"
   ]
  },
  {
   "cell_type": "raw",
   "id": "6a951a0a",
   "metadata": {},
   "source": [
    ". >> any character except new line\n",
    "it accepts all special characters including space & also all aplhabets & numbers"
   ]
  },
  {
   "cell_type": "code",
   "execution_count": 18,
   "id": "794601d5",
   "metadata": {},
   "outputs": [
    {
     "data": {
      "text/plain": [
       "['HDGCG6574H', 'HITKS9874E']"
      ]
     },
     "execution_count": 18,
     "metadata": {},
     "output_type": "execute_result"
    }
   ],
   "source": [
    "data_entry = \"\"\"HDGCG6574H\n",
    "HGFDC8695\n",
    "HITKS9874EEEEE\"\"\"\n",
    "\n",
    "IFSC = re.findall('[A-Z]{5}[0-9]{4}.',data_entry)\n",
    "IFSC"
   ]
  },
  {
   "cell_type": "code",
   "execution_count": 22,
   "id": "a238737a",
   "metadata": {},
   "outputs": [
    {
     "data": {
      "text/plain": [
       "['HDGCG6574H', 'HITKS9874EEEEE']"
      ]
     },
     "execution_count": 22,
     "metadata": {},
     "output_type": "execute_result"
    }
   ],
   "source": [
    "IFSC = re.findall('[A-Z]{5}[0-9]{4}.+',data_entry)\n",
    "IFSC"
   ]
  },
  {
   "cell_type": "code",
   "execution_count": 24,
   "id": "af14bb2d",
   "metadata": {},
   "outputs": [
    {
     "data": {
      "text/plain": [
       "['pythonnnnnpythonpython pythooo pythn & pythhonpython']"
      ]
     },
     "execution_count": 24,
     "metadata": {},
     "output_type": "execute_result"
    }
   ],
   "source": [
    "string = \"pythonnnnnpythonpython pythooo pythn & pythhonpython is all I know\"\n",
    "\n",
    "found= re.findall('pyt.*hon',string)\n",
    "\n",
    "found"
   ]
  },
  {
   "cell_type": "code",
   "execution_count": 35,
   "id": "d72f0c21",
   "metadata": {},
   "outputs": [
    {
     "data": {
      "text/plain": [
       "['HDGCG6574H', 'H!0 S9874E']"
      ]
     },
     "execution_count": 35,
     "metadata": {},
     "output_type": "execute_result"
    }
   ],
   "source": [
    "data_entry = \"\"\"HDGCG6574H\n",
    "HGFDC8695\n",
    "H!0 S9874EEEEE\"\"\"\n",
    "\n",
    "IFSC = re.findall('.....[0-9]{4}.',data_entry)\n",
    "IFSC"
   ]
  },
  {
   "cell_type": "code",
   "execution_count": 37,
   "id": "89f52974",
   "metadata": {},
   "outputs": [
    {
     "data": {
      "text/plain": [
       "['DGCG6574H', '!0 S9874E']"
      ]
     },
     "execution_count": 37,
     "metadata": {},
     "output_type": "execute_result"
    }
   ],
   "source": [
    "IFSC = re.findall('.{4}[0-9]{4}.',data_entry)\n",
    "IFSC"
   ]
  },
  {
   "cell_type": "markdown",
   "id": "63ccff6c",
   "metadata": {},
   "source": [
    "## ? question mark"
   ]
  },
  {
   "cell_type": "raw",
   "id": "edf049cf",
   "metadata": {},
   "source": [
    "? >> 0 or 1 occurance of that character"
   ]
  },
  {
   "cell_type": "code",
   "execution_count": 42,
   "id": "5b18358d",
   "metadata": {},
   "outputs": [
    {
     "data": {
      "text/plain": [
       "['pyth', 'pyth', 'pyth', 'pyh', 'pyth', 'pyth']"
      ]
     },
     "execution_count": 42,
     "metadata": {},
     "output_type": "execute_result"
    }
   ],
   "source": [
    "string = \"pythonnnnnpythonpython pyhooo pytttttthn & pythhonpython is all I know\"\n",
    "\n",
    "found= re.findall('pyt?h',string)\n",
    "\n",
    "found"
   ]
  },
  {
   "cell_type": "code",
   "execution_count": 43,
   "id": "db870ba5",
   "metadata": {},
   "outputs": [
    {
     "data": {
      "text/plain": [
       "['pyt', 'pyt', 'pyt', 'pytt', 'pyt', 'pyt']"
      ]
     },
     "execution_count": 43,
     "metadata": {},
     "output_type": "execute_result"
    }
   ],
   "source": [
    "found= re.findall('pyt?t',string)\n",
    "\n",
    "found"
   ]
  },
  {
   "cell_type": "raw",
   "id": "136f0a5d",
   "metadata": {},
   "source": [
    "<.*?> Non Greedy Repetation"
   ]
  },
  {
   "cell_type": "code",
   "execution_count": 107,
   "id": "5773c5fd",
   "metadata": {},
   "outputs": [
    {
     "data": {
      "text/plain": [
       "['pythonnnnnpythonpython ',\n",
       " 'pyhooo ',\n",
       " 'pytttttthn ',\n",
       " '& ',\n",
       " 'pythhonpython ',\n",
       " 'is ',\n",
       " 'all ',\n",
       " 'I ']"
      ]
     },
     "execution_count": 107,
     "metadata": {},
     "output_type": "execute_result"
    }
   ],
   "source": [
    "string = \"pythonnnnnpythonpython pyhooo pytttttthn & pythhonpython is all I know\"\n",
    "\n",
    "found= re.findall('.*? ',string)\n",
    "\n",
    "found"
   ]
  },
  {
   "cell_type": "code",
   "execution_count": 48,
   "id": "7eedaa7e",
   "metadata": {},
   "outputs": [
    {
     "data": {
      "text/plain": [
       "['pythonnnnnpythonpython ',\n",
       " 'pyhooo ',\n",
       " 'pytttttthn ',\n",
       " '& ',\n",
       " 'pythhonpython ',\n",
       " 'is ',\n",
       " 'all ',\n",
       " 'I ']"
      ]
     },
     "execution_count": 48,
     "metadata": {},
     "output_type": "execute_result"
    }
   ],
   "source": [
    "found= re.findall('.*? ',string)\n",
    "\n",
    "found"
   ]
  },
  {
   "cell_type": "markdown",
   "id": "2f276387",
   "metadata": {},
   "source": [
    "## ^ Startswith"
   ]
  },
  {
   "cell_type": "raw",
   "id": "c130a5dd",
   "metadata": {},
   "source": [
    "^ >> startswith >> checking if the string starts with a given pattern"
   ]
  },
  {
   "cell_type": "code",
   "execution_count": 50,
   "id": "20bc072e",
   "metadata": {},
   "outputs": [
    {
     "data": {
      "text/plain": [
       "['p']"
      ]
     },
     "execution_count": 50,
     "metadata": {},
     "output_type": "execute_result"
    }
   ],
   "source": [
    "string = \"pythonnnnnpythonpython pyhooo pytttttthn & pythhonpython is all I know\"\n",
    "\n",
    "found= re.findall('^p',string)\n",
    "\n",
    "found"
   ]
  },
  {
   "cell_type": "code",
   "execution_count": 51,
   "id": "cb9e62eb",
   "metadata": {},
   "outputs": [
    {
     "data": {
      "text/plain": [
       "['python']"
      ]
     },
     "execution_count": 51,
     "metadata": {},
     "output_type": "execute_result"
    }
   ],
   "source": [
    "found= re.findall('^python',string)\n",
    "\n",
    "found"
   ]
  },
  {
   "cell_type": "code",
   "execution_count": 53,
   "id": "84d70e88",
   "metadata": {},
   "outputs": [
    {
     "data": {
      "text/plain": [
       "True"
      ]
     },
     "execution_count": 53,
     "metadata": {},
     "output_type": "execute_result"
    }
   ],
   "source": [
    "string.startswith('python')"
   ]
  },
  {
   "cell_type": "code",
   "execution_count": 54,
   "id": "0b986d97",
   "metadata": {},
   "outputs": [
    {
     "data": {
      "text/plain": [
       "['pytho']"
      ]
     },
     "execution_count": 54,
     "metadata": {},
     "output_type": "execute_result"
    }
   ],
   "source": [
    "found= re.findall('^p.{4}',string)\n",
    "\n",
    "found"
   ]
  },
  {
   "cell_type": "code",
   "execution_count": 55,
   "id": "3f2cf856",
   "metadata": {},
   "outputs": [
    {
     "data": {
      "text/plain": [
       "[]"
      ]
     },
     "execution_count": 55,
     "metadata": {},
     "output_type": "execute_result"
    }
   ],
   "source": [
    "found= re.findall('^data',string)\n",
    "\n",
    "found"
   ]
  },
  {
   "cell_type": "raw",
   "id": "1fa7af0b",
   "metadata": {},
   "source": [
    "# special case : when inside square braces. it is used as everything apart from"
   ]
  },
  {
   "cell_type": "code",
   "execution_count": 56,
   "id": "61ec18c5",
   "metadata": {},
   "outputs": [
    {
     "data": {
      "text/plain": [
       "[' ', ' ', ' ', '&', ' ', ' ', ' ', ' ', '9', '9', '9', ' ', 'I', ' ']"
      ]
     },
     "execution_count": 56,
     "metadata": {},
     "output_type": "execute_result"
    }
   ],
   "source": [
    "string = \"pythonnnnnpythonpython pyhooo pytttttthn & pythhonpython is all 999 I know\"\n",
    "\n",
    "found= re.findall('[^a-z]',string)\n",
    "\n",
    "found"
   ]
  },
  {
   "cell_type": "raw",
   "id": "692b7df4",
   "metadata": {},
   "source": [
    "# When outside the square braces, it is used as startswith"
   ]
  },
  {
   "cell_type": "code",
   "execution_count": 57,
   "id": "2cbbfae4",
   "metadata": {},
   "outputs": [
    {
     "data": {
      "text/plain": [
       "['p']"
      ]
     },
     "execution_count": 57,
     "metadata": {},
     "output_type": "execute_result"
    }
   ],
   "source": [
    "string = \"pythonnnnnpythonpython pyhooo pytttttthn & pythhonpython is all 999 I know\"\n",
    "\n",
    "found= re.findall('^[a-z]',string)\n",
    "\n",
    "found"
   ]
  },
  {
   "cell_type": "markdown",
   "id": "9e89760c",
   "metadata": {},
   "source": [
    "## $ Endswith"
   ]
  },
  {
   "cell_type": "raw",
   "id": "2aac67e9",
   "metadata": {},
   "source": [
    "the string has to end with a pattern that exist before $ sign"
   ]
  },
  {
   "cell_type": "code",
   "execution_count": 58,
   "id": "319ac3bc",
   "metadata": {},
   "outputs": [
    {
     "data": {
      "text/plain": [
       "['w']"
      ]
     },
     "execution_count": 58,
     "metadata": {},
     "output_type": "execute_result"
    }
   ],
   "source": [
    "string = \"pythonnnnnpythonpython pyhooo pytttttthn & pythhonpython is all 999 I know\"\n",
    "\n",
    "found= re.findall('w$',string)\n",
    "\n",
    "found"
   ]
  },
  {
   "cell_type": "code",
   "execution_count": 59,
   "id": "de37c69a",
   "metadata": {},
   "outputs": [
    {
     "data": {
      "text/plain": [
       "['know']"
      ]
     },
     "execution_count": 59,
     "metadata": {},
     "output_type": "execute_result"
    }
   ],
   "source": [
    "found= re.findall('know$',string)\n",
    "\n",
    "found"
   ]
  },
  {
   "cell_type": "code",
   "execution_count": 60,
   "id": "ba9a1de9",
   "metadata": {},
   "outputs": [
    {
     "data": {
      "text/plain": [
       "['know']"
      ]
     },
     "execution_count": 60,
     "metadata": {},
     "output_type": "execute_result"
    }
   ],
   "source": [
    "found= re.findall('.{4}$',string)\n",
    "\n",
    "found"
   ]
  },
  {
   "cell_type": "code",
   "execution_count": 62,
   "id": "40c723df",
   "metadata": {},
   "outputs": [
    {
     "data": {
      "text/plain": [
       "['know']"
      ]
     },
     "execution_count": 62,
     "metadata": {},
     "output_type": "execute_result"
    }
   ],
   "source": [
    "found= re.findall('[a-z]+$',string)\n",
    "\n",
    "found"
   ]
  },
  {
   "cell_type": "markdown",
   "id": "14225965",
   "metadata": {},
   "source": [
    "## []"
   ]
  },
  {
   "cell_type": "raw",
   "id": "82a5a67b",
   "metadata": {},
   "source": [
    "used to defiine the set of characters that form a search pattern in string"
   ]
  },
  {
   "cell_type": "markdown",
   "id": "2ec00f4c",
   "metadata": {},
   "source": [
    "## {}"
   ]
  },
  {
   "cell_type": "raw",
   "id": "c1621c6d",
   "metadata": {},
   "source": [
    "used to define the range/length of set of characters that form a search pattern in any string"
   ]
  },
  {
   "cell_type": "markdown",
   "id": "4b4361ee",
   "metadata": {},
   "source": [
    "## | Pipe"
   ]
  },
  {
   "cell_type": "raw",
   "id": "8fe9290d",
   "metadata": {},
   "source": [
    "is used for or purpose"
   ]
  },
  {
   "cell_type": "code",
   "execution_count": 63,
   "id": "aea276ea",
   "metadata": {},
   "outputs": [
    {
     "data": {
      "text/plain": [
       "['p']"
      ]
     },
     "execution_count": 63,
     "metadata": {},
     "output_type": "execute_result"
    }
   ],
   "source": [
    "string = \"pythonnnnnpythonpython pyhooo pytttttthn & pythhonpython is all 999 I know\"\n",
    "\n",
    "found= re.findall('^P|^p',string)\n",
    "\n",
    "found"
   ]
  },
  {
   "cell_type": "code",
   "execution_count": 64,
   "id": "29a8f7f8",
   "metadata": {},
   "outputs": [
    {
     "data": {
      "text/plain": [
       "['python']"
      ]
     },
     "execution_count": 64,
     "metadata": {},
     "output_type": "execute_result"
    }
   ],
   "source": [
    "string = \"pythonnnnnpythonpython pyhooo pytttttthn & pythhonpython is all 999 I know\"\n",
    "\n",
    "found= re.findall('^python|^data',string)\n",
    "\n",
    "found"
   ]
  },
  {
   "cell_type": "code",
   "execution_count": 65,
   "id": "ae85a912",
   "metadata": {},
   "outputs": [
    {
     "data": {
      "text/plain": [
       "['python', 'python', 'python', 'data']"
      ]
     },
     "execution_count": 65,
     "metadata": {},
     "output_type": "execute_result"
    }
   ],
   "source": [
    "string = \"pythonnnnnpythonpython pyhooo pytttttthn & data science is all 999 I know\"\n",
    "\n",
    "found= re.findall('python|data',string)\n",
    "\n",
    "found"
   ]
  },
  {
   "cell_type": "code",
   "execution_count": 71,
   "id": "901c70f2",
   "metadata": {},
   "outputs": [
    {
     "data": {
      "text/plain": [
       "['29/8/2022', '29-08-2022', '29,8,2022']"
      ]
     },
     "execution_count": 71,
     "metadata": {},
     "output_type": "execute_result"
    }
   ],
   "source": [
    "dates = \"\"\"29/8/2022\n",
    "29-08-2022\n",
    "29,8,2022\n",
    "29 August 2022\"\"\"\n",
    "\n",
    "re.findall(r'\\d{2}/\\d{0,2}/\\d{4}|\\d{2}-\\d{0,2}-\\d{4}|\\d{2},\\d{0,2},\\d{4}',dates)"
   ]
  },
  {
   "cell_type": "code",
   "execution_count": 72,
   "id": "4ef706c7",
   "metadata": {},
   "outputs": [
    {
     "data": {
      "text/plain": [
       "['29/', '-2022', ',', ',']"
      ]
     },
     "execution_count": 72,
     "metadata": {},
     "output_type": "execute_result"
    }
   ],
   "source": [
    "re.findall(r'\\d{2}/|,|-\\d{0,2}/|,|-\\d{4}',dates)"
   ]
  },
  {
   "cell_type": "code",
   "execution_count": 74,
   "id": "25ea9304",
   "metadata": {},
   "outputs": [
    {
     "data": {
      "text/plain": [
       "['29/8/2022', '29-08-2022', '29,8,2022']"
      ]
     },
     "execution_count": 74,
     "metadata": {},
     "output_type": "execute_result"
    }
   ],
   "source": [
    "re.findall(r'\\d{2}[/,-]\\d{0,2}[/,-]\\d{4}',dates)"
   ]
  },
  {
   "cell_type": "code",
   "execution_count": 87,
   "id": "79922a6c",
   "metadata": {},
   "outputs": [
    {
     "data": {
      "text/plain": [
       "['pythonnnnnpythonpython pyhooo pytttttthn & data science is all 999 I know']"
      ]
     },
     "execution_count": 87,
     "metadata": {},
     "output_type": "execute_result"
    }
   ],
   "source": [
    "string = \"pythonnnnnpythonpython pyhooo pytttttthn & data science is all 999 I know\"\n",
    "\n",
    "found= re.findall('^p.*w$',string)\n",
    "\n",
    "found"
   ]
  },
  {
   "cell_type": "code",
   "execution_count": 94,
   "id": "1268f9e6",
   "metadata": {},
   "outputs": [
    {
     "data": {
      "text/plain": [
       "[]"
      ]
     },
     "execution_count": 94,
     "metadata": {},
     "output_type": "execute_result"
    }
   ],
   "source": [
    "string = \"pythonnnnnpythonpython pyhooo pytttttthn & data science is all 999 I know\"\n",
    "\n",
    "found= re.findall('^[^[A-Z]|^[p]]',string)\n",
    "\n",
    "found"
   ]
  },
  {
   "cell_type": "code",
   "execution_count": 98,
   "id": "13136852",
   "metadata": {},
   "outputs": [
    {
     "data": {
      "text/plain": [
       "['aaabbb']"
      ]
     },
     "execution_count": 98,
     "metadata": {},
     "output_type": "execute_result"
    }
   ],
   "source": [
    "import re\n",
    "text = 'aaabaaaabbb'\n",
    "A = 'aaa'\n",
    "B = 'bbb'\n",
    "re.findall(A+B, text)"
   ]
  },
  {
   "cell_type": "code",
   "execution_count": null,
   "id": "28470c1f",
   "metadata": {},
   "outputs": [],
   "source": []
  }
 ],
 "metadata": {
  "kernelspec": {
   "display_name": "Python 3",
   "language": "python",
   "name": "python3"
  },
  "language_info": {
   "codemirror_mode": {
    "name": "ipython",
    "version": 3
   },
   "file_extension": ".py",
   "mimetype": "text/x-python",
   "name": "python",
   "nbconvert_exporter": "python",
   "pygments_lexer": "ipython3",
   "version": "3.8.8"
  },
  "toc": {
   "base_numbering": 1,
   "nav_menu": {},
   "number_sections": true,
   "sideBar": true,
   "skip_h1_title": false,
   "title_cell": "Table of Contents",
   "title_sidebar": "Contents",
   "toc_cell": false,
   "toc_position": {},
   "toc_section_display": true,
   "toc_window_display": false
  },
  "varInspector": {
   "cols": {
    "lenName": 16,
    "lenType": 16,
    "lenVar": 40
   },
   "kernels_config": {
    "python": {
     "delete_cmd_postfix": "",
     "delete_cmd_prefix": "del ",
     "library": "var_list.py",
     "varRefreshCmd": "print(var_dic_list())"
    },
    "r": {
     "delete_cmd_postfix": ") ",
     "delete_cmd_prefix": "rm(",
     "library": "var_list.r",
     "varRefreshCmd": "cat(var_dic_list()) "
    }
   },
   "types_to_exclude": [
    "module",
    "function",
    "builtin_function_or_method",
    "instance",
    "_Feature"
   ],
   "window_display": false
  }
 },
 "nbformat": 4,
 "nbformat_minor": 5
}
