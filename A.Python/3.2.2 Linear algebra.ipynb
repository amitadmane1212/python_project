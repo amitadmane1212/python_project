{
 "cells": [
  {
   "cell_type": "code",
   "execution_count": 1,
   "id": "ed49665f",
   "metadata": {},
   "outputs": [],
   "source": [
    "import numpy as np"
   ]
  },
  {
   "cell_type": "raw",
   "id": "cc14128c",
   "metadata": {},
   "source": [
    "3x + 4y = 15\n",
    "5x + 6y = 20\n",
    "\n",
    "x = ?\n",
    "y = ?"
   ]
  },
  {
   "cell_type": "code",
   "execution_count": 8,
   "id": "449e96af",
   "metadata": {},
   "outputs": [
    {
     "data": {
      "text/plain": [
       "array([-5. ,  7.5])"
      ]
     },
     "execution_count": 8,
     "metadata": {},
     "output_type": "execute_result"
    }
   ],
   "source": [
    "A = np.array([[3,4],\n",
    "              [5,6]])\n",
    "B = np.array([15,20])\n",
    "\n",
    "result = np.linalg.solve(A,B)\n",
    "result"
   ]
  },
  {
   "cell_type": "code",
   "execution_count": 10,
   "id": "b0a1c47b",
   "metadata": {},
   "outputs": [
    {
     "data": {
      "text/plain": [
       "(-5.000000000000005, 7.500000000000005)"
      ]
     },
     "execution_count": 10,
     "metadata": {},
     "output_type": "execute_result"
    }
   ],
   "source": [
    "x = result[0]\n",
    "y = result[1]\n",
    "x,y"
   ]
  },
  {
   "cell_type": "raw",
   "id": "504225cc",
   "metadata": {},
   "source": [
    "3x+4y-5z=25\n",
    "3x+7z=30\n",
    "4y-2z=15\n",
    "\n",
    "x,y,z = ?"
   ]
  },
  {
   "cell_type": "code",
   "execution_count": 14,
   "id": "2c2399dd",
   "metadata": {},
   "outputs": [
    {
     "data": {
      "text/plain": [
       "array([5.33333333, 4.75      , 2.        ])"
      ]
     },
     "execution_count": 14,
     "metadata": {},
     "output_type": "execute_result"
    }
   ],
   "source": [
    "A = np.array([[3,4,-5],[3,0,7],[0,4,-2]])\n",
    "B = np.array([25,30,15])\n",
    "\n",
    "np.linalg.solve(A,B)"
   ]
  },
  {
   "cell_type": "code",
   "execution_count": 15,
   "id": "03df9cfd",
   "metadata": {},
   "outputs": [
    {
     "data": {
      "text/plain": [
       "24.99999999"
      ]
     },
     "execution_count": 15,
     "metadata": {},
     "output_type": "execute_result"
    }
   ],
   "source": [
    "3*5.33333333+4*4.75 -5*2"
   ]
  },
  {
   "cell_type": "code",
   "execution_count": 17,
   "id": "4263c412",
   "metadata": {},
   "outputs": [
    {
     "data": {
      "text/plain": [
       "array([5.3, 4.8, 2. ])"
      ]
     },
     "execution_count": 17,
     "metadata": {},
     "output_type": "execute_result"
    }
   ],
   "source": [
    "np.around(np.linalg.solve(A,B),1)"
   ]
  },
  {
   "cell_type": "code",
   "execution_count": null,
   "id": "6fe4c730",
   "metadata": {},
   "outputs": [],
   "source": []
  }
 ],
 "metadata": {
  "kernelspec": {
   "display_name": "Python 3",
   "language": "python",
   "name": "python3"
  },
  "language_info": {
   "codemirror_mode": {
    "name": "ipython",
    "version": 3
   },
   "file_extension": ".py",
   "mimetype": "text/x-python",
   "name": "python",
   "nbconvert_exporter": "python",
   "pygments_lexer": "ipython3",
   "version": "3.8.8"
  },
  "toc": {
   "base_numbering": 1,
   "nav_menu": {},
   "number_sections": true,
   "sideBar": true,
   "skip_h1_title": false,
   "title_cell": "Table of Contents",
   "title_sidebar": "Contents",
   "toc_cell": false,
   "toc_position": {},
   "toc_section_display": true,
   "toc_window_display": false
  },
  "varInspector": {
   "cols": {
    "lenName": 16,
    "lenType": 16,
    "lenVar": 40
   },
   "kernels_config": {
    "python": {
     "delete_cmd_postfix": "",
     "delete_cmd_prefix": "del ",
     "library": "var_list.py",
     "varRefreshCmd": "print(var_dic_list())"
    },
    "r": {
     "delete_cmd_postfix": ") ",
     "delete_cmd_prefix": "rm(",
     "library": "var_list.r",
     "varRefreshCmd": "cat(var_dic_list()) "
    }
   },
   "types_to_exclude": [
    "module",
    "function",
    "builtin_function_or_method",
    "instance",
    "_Feature"
   ],
   "window_display": false
  }
 },
 "nbformat": 4,
 "nbformat_minor": 5
}
