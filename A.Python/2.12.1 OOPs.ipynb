{
 "cells": [
  {
   "cell_type": "raw",
   "id": "e1855efd",
   "metadata": {},
   "source": [
    "Object Oriented Programing(OOPS):\n",
    "    It is a method of structuring a program by bundeling the related properties into individual objects.\n",
    "    \n",
    "Class:\n",
    "    Class works as a sketch model, blueprint or template to create an object.\n",
    "    \n",
    "Use: Code Reusability\n",
    "    \n",
    "Object:\n",
    "    It is the outcome of the class\n",
    "    It is instance of the class\n",
    "    from class we construct instace. An instance is a specific object created from the class."
   ]
  },
  {
   "cell_type": "code",
   "execution_count": 1,
   "id": "d9c558f8",
   "metadata": {},
   "outputs": [],
   "source": [
    "class car_manufacture():                        # creating a class\n",
    "    \n",
    "    def engine(self):                           # methods / functions of the class\n",
    "        print('engine created here')\n",
    "        \n",
    "    def suspension(self):\n",
    "        print('suspension created here')\n",
    "        \n",
    "    def chisel(self):\n",
    "        print('chisel created here')\n",
    "        \n",
    "        \n",
    "Vehicle = car_manufacture()                    # object of the class"
   ]
  },
  {
   "cell_type": "code",
   "execution_count": 2,
   "id": "e0376eed",
   "metadata": {},
   "outputs": [
    {
     "data": {
      "text/plain": [
       "<__main__.car_manufacture at 0x1c201a9bd00>"
      ]
     },
     "execution_count": 2,
     "metadata": {},
     "output_type": "execute_result"
    }
   ],
   "source": [
    "Vehicle"
   ]
  },
  {
   "cell_type": "code",
   "execution_count": 3,
   "id": "2c5c402d",
   "metadata": {},
   "outputs": [
    {
     "name": "stdout",
     "output_type": "stream",
     "text": [
      "engine created here\n"
     ]
    }
   ],
   "source": [
    "Vehicle.engine()"
   ]
  },
  {
   "cell_type": "code",
   "execution_count": 4,
   "id": "846bb37f",
   "metadata": {},
   "outputs": [
    {
     "name": "stdout",
     "output_type": "stream",
     "text": [
      "suspension created here\n"
     ]
    }
   ],
   "source": [
    "Vehicle.suspension()"
   ]
  },
  {
   "cell_type": "raw",
   "id": "57a5ddf4",
   "metadata": {},
   "source": [
    "from module_name import class_name/object_name\n",
    "object_name.function()\n",
    "\n",
    "from folder import Module\n",
    "Module.Class_Name.Function_name()"
   ]
  },
  {
   "cell_type": "raw",
   "id": "a4311d32",
   "metadata": {},
   "source": [
    "class netbanking():\n",
    "    \n",
    "    def user_regisration(self):\n",
    "        new_registration\n",
    "        \n",
    "    def database(self):\n",
    "        data in database\n",
    "        \n",
    "    def pre_existing_user(self):\n",
    "        user_id,password\n",
    "        calling new_registration\n",
    "        calling database\n",
    "        call_login\n",
    "    \n",
    "    def login(self):\n",
    "        netbanking access\n",
    "    "
   ]
  },
  {
   "cell_type": "raw",
   "id": "63d00772",
   "metadata": {},
   "source": [
    "self:\n",
    "    self binds the methods to the class\n",
    "    it shows that those methods are the properties of the class\n",
    "    self is the very first arguement of the functions\n",
    "    \n",
    "self:\n",
    "    is used to access the variable by creating an instance variable\n",
    "    It will differentiate between the class variable & the instance variable & local variable or global variable.\n",
    "    used in every function within the class\n",
    "    "
   ]
  },
  {
   "cell_type": "code",
   "execution_count": 11,
   "id": "4fbb28f6",
   "metadata": {},
   "outputs": [],
   "source": [
    "class simple_maths:                   # defining a class\n",
    "    \n",
    "    def numbers(self, a=1,b=2,c=3):   # defining a method of the class & intaking of the arguements\n",
    "        \n",
    "        d = 11                        # local variable\n",
    "        e = 12\n",
    "        f = 13\n",
    "        \n",
    "        self.d = d                    # instance variable ( can be accessed through out the class)\n",
    "        self.f = f\n",
    "        self.e = e\n",
    "        print('values of d,e, & f are ',d,e,f)\n",
    "        \n",
    "    def add(self,x,y):\n",
    "        print('values of d,e, & f are ',self.d,self.e,self.f)\n",
    "        return x+y\n",
    "    \n",
    "\n",
    "    def mul(self,m,n):\n",
    "        return m*n\n",
    "    \n",
    "# math = simple_maths()                # defining an object of the class\n",
    "# math.numbers()                       # calling a method of the class using object"
   ]
  },
  {
   "cell_type": "code",
   "execution_count": 7,
   "id": "f3d198d4",
   "metadata": {},
   "outputs": [
    {
     "name": "stdout",
     "output_type": "stream",
     "text": [
      "values of d,e, & f are  11 12 13\n"
     ]
    },
    {
     "data": {
      "text/plain": [
       "30"
      ]
     },
     "execution_count": 7,
     "metadata": {},
     "output_type": "execute_result"
    }
   ],
   "source": [
    "math.add(10,20)"
   ]
  },
  {
   "cell_type": "code",
   "execution_count": 8,
   "id": "cf68dcaf",
   "metadata": {},
   "outputs": [
    {
     "data": {
      "text/plain": [
       "25"
      ]
     },
     "execution_count": 8,
     "metadata": {},
     "output_type": "execute_result"
    }
   ],
   "source": [
    "math.mul(5,5)"
   ]
  },
  {
   "cell_type": "code",
   "execution_count": 12,
   "id": "38f9843e",
   "metadata": {},
   "outputs": [
    {
     "name": "stdout",
     "output_type": "stream",
     "text": [
      "values of d,e, & f are  11 12 13\n"
     ]
    }
   ],
   "source": [
    "simple_maths().numbers()\n"
   ]
  },
  {
   "cell_type": "code",
   "execution_count": 46,
   "id": "6b071618",
   "metadata": {},
   "outputs": [],
   "source": [
    "my_var = 500                         # global variable\n",
    "\n",
    "class simplemaths:                   # defining a class\n",
    "    \n",
    "    new_variable = 100               # class vairiable or static variable\n",
    "    \n",
    "    def numbers(self, a=1):  # defining a method of the class & intaking of the arguements\n",
    "        self.a = a                        # instance variable\n",
    "        return 'Nothing'\n",
    "        \n",
    "    def add(self,x,y):\n",
    "        p = 2\n",
    "        print('values of instance variable is ',self.a,'value of class variable is ',self.new_variable,'global variable is ',my_var,'local variable is ',p,sep='\\n')\n",
    "        return x+y\n",
    "    \n",
    "\n",
    "    def mul(self,m,n):\n",
    "        return m*n\n",
    "    "
   ]
  },
  {
   "cell_type": "code",
   "execution_count": 47,
   "id": "adf5039d",
   "metadata": {},
   "outputs": [],
   "source": [
    "math = simplemaths()"
   ]
  },
  {
   "cell_type": "code",
   "execution_count": 48,
   "id": "30849af4",
   "metadata": {},
   "outputs": [
    {
     "data": {
      "text/plain": [
       "'Nothing'"
      ]
     },
     "execution_count": 48,
     "metadata": {},
     "output_type": "execute_result"
    }
   ],
   "source": [
    "math.numbers(5)"
   ]
  },
  {
   "cell_type": "code",
   "execution_count": 49,
   "id": "cdeba84c",
   "metadata": {},
   "outputs": [
    {
     "name": "stdout",
     "output_type": "stream",
     "text": [
      "values of instance variable is \n",
      "5\n",
      "value of class vairable is \n",
      "100\n",
      "global variable is \n",
      "500\n",
      "local variable is \n",
      "2\n"
     ]
    },
    {
     "data": {
      "text/plain": [
       "30"
      ]
     },
     "execution_count": 49,
     "metadata": {},
     "output_type": "execute_result"
    }
   ],
   "source": [
    "math.add(10,20)"
   ]
  },
  {
   "cell_type": "code",
   "execution_count": 45,
   "id": "79b35dd2",
   "metadata": {},
   "outputs": [
    {
     "data": {
      "text/plain": [
       "100"
      ]
     },
     "execution_count": 45,
     "metadata": {},
     "output_type": "execute_result"
    }
   ],
   "source": [
    "simplemaths().add(10,20)"
   ]
  },
  {
   "cell_type": "raw",
   "id": "c9bc4eab",
   "metadata": {},
   "source": [
    "global variable\n",
    "local variable\n",
    "class or static variable\n",
    "instance variable\n",
    "taking variable as an arguement into a function & then creating an instance variable from that function"
   ]
  },
  {
   "cell_type": "raw",
   "id": "751c07ae",
   "metadata": {},
   "source": [
    "__init__:\n",
    "    is a class constructor\n",
    "    it is used to initialise the variables\n",
    "    a prior function to take in the arguements of the class\n",
    "    called automatically when a class is called"
   ]
  },
  {
   "cell_type": "code",
   "execution_count": 55,
   "id": "020ec0da",
   "metadata": {},
   "outputs": [
    {
     "name": "stdout",
     "output_type": "stream",
     "text": [
      "init constructor here\n",
      "University is  Pune\n",
      "college name & location is  MIT Pune\n"
     ]
    }
   ],
   "source": [
    "class college():\n",
    "    \n",
    "    def __init__(self,clg_name,clg_location):\n",
    "        \n",
    "        self.clg_name=clg_name                    # instance variable\n",
    "        self.clg_location = clg_location\n",
    "        \n",
    "        print('init constructor here')\n",
    "        \n",
    "        self.university(self.clg_location)        # calling a function that is part of the class\n",
    "        self.college_info()\n",
    "        \n",
    "    def university(self,unicity_name):\n",
    "        print('University is ',unicity_name)\n",
    "        \n",
    "    def college_info(self):\n",
    "        print('college name & location is ',self.clg_name,self.clg_location)\n",
    "        \n",
    "        \n",
    "clg = college('MIT','Pune')"
   ]
  },
  {
   "cell_type": "code",
   "execution_count": 52,
   "id": "7ce99444",
   "metadata": {},
   "outputs": [
    {
     "name": "stdout",
     "output_type": "stream",
     "text": [
      "college name & location is  MIT Pune\n"
     ]
    }
   ],
   "source": [
    "clg.college_info()"
   ]
  },
  {
   "cell_type": "code",
   "execution_count": null,
   "id": "be5612aa",
   "metadata": {},
   "outputs": [],
   "source": []
  }
 ],
 "metadata": {
  "kernelspec": {
   "display_name": "Python 3",
   "language": "python",
   "name": "python3"
  },
  "language_info": {
   "codemirror_mode": {
    "name": "ipython",
    "version": 3
   },
   "file_extension": ".py",
   "mimetype": "text/x-python",
   "name": "python",
   "nbconvert_exporter": "python",
   "pygments_lexer": "ipython3",
   "version": "3.8.8"
  },
  "toc": {
   "base_numbering": 1,
   "nav_menu": {},
   "number_sections": true,
   "sideBar": true,
   "skip_h1_title": false,
   "title_cell": "Table of Contents",
   "title_sidebar": "Contents",
   "toc_cell": false,
   "toc_position": {},
   "toc_section_display": true,
   "toc_window_display": false
  },
  "varInspector": {
   "cols": {
    "lenName": 16,
    "lenType": 16,
    "lenVar": 40
   },
   "kernels_config": {
    "python": {
     "delete_cmd_postfix": "",
     "delete_cmd_prefix": "del ",
     "library": "var_list.py",
     "varRefreshCmd": "print(var_dic_list())"
    },
    "r": {
     "delete_cmd_postfix": ") ",
     "delete_cmd_prefix": "rm(",
     "library": "var_list.r",
     "varRefreshCmd": "cat(var_dic_list()) "
    }
   },
   "types_to_exclude": [
    "module",
    "function",
    "builtin_function_or_method",
    "instance",
    "_Feature"
   ],
   "window_display": false
  }
 },
 "nbformat": 4,
 "nbformat_minor": 5
}
